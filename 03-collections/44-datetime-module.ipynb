{
 "cells": [
  {
   "cell_type": "markdown",
   "metadata": {
    "toc": true
   },
   "source": [
    "<h1>Table of Contents<span class=\"tocSkip\"></span></h1>\n",
    "<div class=\"toc\"><ul class=\"toc-item\"><li><span><a href=\"#datetime.time\" data-toc-modified-id=\"datetime.time-1\"><span class=\"toc-item-num\">1&nbsp;&nbsp;</span><code>datetime.time</code></a></span></li><li><span><a href=\"#datetime.date\" data-toc-modified-id=\"datetime.date-2\"><span class=\"toc-item-num\">2&nbsp;&nbsp;</span><code>datetime.date</code></a></span></li><li><span><a href=\"#Arithmetic\" data-toc-modified-id=\"Arithmetic-3\"><span class=\"toc-item-num\">3&nbsp;&nbsp;</span>Arithmetic</a></span></li></ul></div>"
   ]
  },
  {
   "cell_type": "markdown",
   "metadata": {},
   "source": [
    "# `datetime` Module"
   ]
  },
  {
   "cell_type": "markdown",
   "metadata": {},
   "source": [
    "- Help deal with timestamps\n",
    "- Time values are represented with the `time` class\n",
    "- Times have attributes for hour, minute, second, and microsecond\n",
    "- Also include time zone information\n",
    "- Arguments to initialize a time instance are optional. The Default is 0"
   ]
  },
  {
   "cell_type": "markdown",
   "metadata": {},
   "source": [
    "## `datetime.time`"
   ]
  },
  {
   "cell_type": "markdown",
   "metadata": {},
   "source": [
    "- Extract time information from the `datetime` module\n",
    "- We can create a timestamp by specifying `datetime.time(hour, minute, second, microsecond)`\n",
    "- **A time instance only holds values of time, and not a date associated with the time**\n",
    "- The `min` and `max` class attributes reflect the valid range of times in a single day"
   ]
  },
  {
   "cell_type": "code",
   "execution_count": 1,
   "metadata": {},
   "outputs": [
    {
     "name": "stdout",
     "output_type": "stream",
     "text": [
      "04:20:01.000999\n",
      "hour  : 4\n",
      "minute: 20\n",
      "second: 1\n",
      "microsecond: 999\n",
      "timezone: None\n",
      "Earliest  : 00:00:00\n",
      "Latest    : 23:59:59.999999\n",
      "Resolution: 0:00:00.000001\n"
     ]
    }
   ],
   "source": [
    "import datetime\n",
    "\n",
    "t = datetime.time(4, 20, 1, 999) # 4h 20m 1s 000999micros\n",
    "\n",
    "# Let's show the different components\n",
    "print(t) # hh:mm:ss:ms.msmsms\n",
    "print('hour  :', t.hour)\n",
    "print('minute:', t.minute)\n",
    "print('second:', t.second)\n",
    "print('microsecond:', t.microsecond) # 1/1000000th\n",
    "print('timezone:', t.tzinfo) # timezone\n",
    "print('Earliest  :', datetime.time.min)\n",
    "print('Latest    :', datetime.time.max)\n",
    "print('Resolution:', datetime.time.resolution)"
   ]
  },
  {
   "cell_type": "markdown",
   "metadata": {},
   "source": [
    "## `datetime.date`"
   ]
  },
  {
   "cell_type": "markdown",
   "metadata": {},
   "source": [
    "- Also allows us to work with date timestamps\n",
    "- Calendar date values are represented with the date class\n",
    "- Instances have attributes for `year`, `month`, and `day`\n",
    "- It is easy to create a date representing today’s date using the `today()` class method\n",
    "- As with time, the range of date values supported can be determined using the min and max attributes"
   ]
  },
  {
   "cell_type": "code",
   "execution_count": 2,
   "metadata": {},
   "outputs": [
    {
     "name": "stdout",
     "output_type": "stream",
     "text": [
      "2020-05-01\n",
      "ctime: Fri May  1 00:00:00 2020\n",
      "tuple: time.struct_time(tm_year=2020, tm_mon=5, tm_mday=1, tm_hour=0, tm_min=0, tm_sec=0, tm_wday=4, tm_yday=122, tm_isdst=-1)\n",
      "ordinal: 737546\n",
      "Year: 2020\n",
      "Mon : 5\n",
      "Day : 1\n",
      "Earliest  : 0001-01-01\n",
      "Latest    : 9999-12-31\n",
      "Resolution: 1 day, 0:00:00\n"
     ]
    }
   ],
   "source": [
    "from datetime import date\n",
    "\n",
    "today = date.today()\n",
    "\n",
    "print(today) # yyyy-mm-dd\n",
    "print('ctime:', today.ctime())\n",
    "print('tuple:', today.timetuple()) # Returns a tuple: (tm_year, tm_mon, tm_mday, tm_min, tm_sec, tm_wday, tm_yday, tm_isdst)\n",
    "print('ordinal:', today.toordinal())\n",
    "print('Year:', today.year)\n",
    "print('Mon :', today.month)\n",
    "print('Day :', today.day)\n",
    "print('Earliest  :', date.min)\n",
    "print('Latest    :', date.max)\n",
    "print('Resolution:', date.resolution)"
   ]
  },
  {
   "cell_type": "markdown",
   "metadata": {},
   "source": [
    "- Another way to create new date instances uses the `replace()` method of an existing date.\n",
    "- For example, you can change the year, leaving the day and month alone"
   ]
  },
  {
   "cell_type": "code",
   "execution_count": 3,
   "metadata": {},
   "outputs": [
    {
     "name": "stdout",
     "output_type": "stream",
     "text": [
      "d1: 2015-03-11\n",
      "d2: 1990-03-11\n",
      "d3: 1990-12-26\n"
     ]
    }
   ],
   "source": [
    "d1 = date(2015, 3, 11)\n",
    "print('d1:', d1)\n",
    "\n",
    "d2 = d1.replace(year=1990)\n",
    "print('d2:', d2)\n",
    "\n",
    "d3 = d2.replace(day=26, month=12)\n",
    "print('d3:', d3)"
   ]
  },
  {
   "cell_type": "markdown",
   "metadata": {},
   "source": [
    "## Arithmetic"
   ]
  },
  {
   "cell_type": "markdown",
   "metadata": {},
   "source": [
    "- We can perform arithmetic on date objects to check for time differences\n",
    "- This give us the difference **in days** between the two dates\n",
    "- You can use the `timedelta` method to specify various units of times (day, minutes, hours, etc...)"
   ]
  },
  {
   "cell_type": "code",
   "execution_count": 4,
   "metadata": {},
   "outputs": [
    {
     "name": "stdout",
     "output_type": "stream",
     "text": [
      "2015-03-11\n",
      "1990-03-11\n",
      "9131 days, 0:00:00\n"
     ]
    }
   ],
   "source": [
    "print(d1)\n",
    "print(d2)\n",
    "dif = d1-d2\n",
    "print(dif)"
   ]
  },
  {
   "cell_type": "code",
   "execution_count": 5,
   "metadata": {},
   "outputs": [
    {
     "name": "stdout",
     "output_type": "stream",
     "text": [
      "Now: 2020-05-01 14:01:19.340480\n",
      "After 2 years: 2022-05-01 14:01:19.340480\n"
     ]
    }
   ],
   "source": [
    "from datetime import datetime, timedelta\n",
    "\n",
    "current_date = datetime.now()\n",
    "after_2yrs = current_date + timedelta(days = 730)\n",
    "\n",
    "print(\"Now:\", current_date)\n",
    "print(\"After 2 years:\", after_2yrs)"
   ]
  }
 ],
 "metadata": {
  "kernelspec": {
   "display_name": "Python 3",
   "language": "python",
   "name": "python3"
  },
  "language_info": {
   "codemirror_mode": {
    "name": "ipython",
    "version": 3
   },
   "file_extension": ".py",
   "mimetype": "text/x-python",
   "name": "python",
   "nbconvert_exporter": "python",
   "pygments_lexer": "ipython3",
   "version": "3.7.6"
  },
  "toc": {
   "base_numbering": 1,
   "nav_menu": {},
   "number_sections": true,
   "sideBar": true,
   "skip_h1_title": true,
   "title_cell": "Table of Contents",
   "title_sidebar": "Contents",
   "toc_cell": true,
   "toc_position": {},
   "toc_section_display": true,
   "toc_window_display": true
  }
 },
 "nbformat": 4,
 "nbformat_minor": 4
}
