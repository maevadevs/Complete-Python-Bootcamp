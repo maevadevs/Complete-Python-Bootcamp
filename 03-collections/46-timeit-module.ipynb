{
 "cells": [
  {
   "cell_type": "markdown",
   "metadata": {
    "toc": true
   },
   "source": [
    "<h1>Table of Contents<span class=\"tocSkip\"></span></h1>\n",
    "<div class=\"toc\"><ul class=\"toc-item\"><li><span><a href=\"#Custom-Timing-Alternative\" data-toc-modified-id=\"Custom-Timing-Alternative-1\"><span class=\"toc-item-num\">1&nbsp;&nbsp;</span>Custom Timing Alternative</a></span></li></ul></div>"
   ]
  },
  {
   "cell_type": "markdown",
   "metadata": {},
   "source": [
    "# `timeit` Module"
   ]
  },
  {
   "cell_type": "markdown",
   "metadata": {},
   "source": [
    "- Allows to time the running code\n",
    "- Provides a simple way to time small bits of Python code\n",
    "- Avoids a number of common traps for measuring execution times\n",
    "- Pass two arguments:\n",
    "  - The actual line we want to test encapsulated as a string\n",
    "  - The number of times we wish to run it"
   ]
  },
  {
   "cell_type": "code",
   "execution_count": 1,
   "metadata": {},
   "outputs": [],
   "source": [
    "import timeit"
   ]
  },
  {
   "cell_type": "code",
   "execution_count": 2,
   "metadata": {},
   "outputs": [
    {
     "data": {
      "text/plain": [
       "0.004629800000000017"
      ]
     },
     "execution_count": 2,
     "metadata": {},
     "output_type": "execute_result"
    }
   ],
   "source": [
    "# Variable Assignment Hello World\n",
    "timeit.timeit('x = \"Hello World\"', number=100000)"
   ]
  },
  {
   "cell_type": "code",
   "execution_count": 3,
   "metadata": {},
   "outputs": [],
   "source": [
    "# Using For-Loop\n",
    "def forLoopGenerate(x):\n",
    "    return \"-\".join(str(n) for n in range(x))"
   ]
  },
  {
   "cell_type": "code",
   "execution_count": 4,
   "metadata": {},
   "outputs": [],
   "source": [
    "# Using List Comprehension\n",
    "def listCompGenerate(x):\n",
    "    return \"-\".join([str(n) for n in range(x)])"
   ]
  },
  {
   "cell_type": "code",
   "execution_count": 5,
   "metadata": {},
   "outputs": [],
   "source": [
    "# Using map()\n",
    "def mapGenerate(x):\n",
    "    return \"-\".join(map(str, range(x)))"
   ]
  },
  {
   "cell_type": "code",
   "execution_count": 6,
   "metadata": {},
   "outputs": [
    {
     "data": {
      "text/plain": [
       "2.9495356999999998"
      ]
     },
     "execution_count": 6,
     "metadata": {},
     "output_type": "execute_result"
    }
   ],
   "source": [
    "# For loop... Measuring\n",
    "timeit.timeit('\"-\".join(str(n) for n in range(100))', number=100000)"
   ]
  },
  {
   "cell_type": "code",
   "execution_count": 7,
   "metadata": {},
   "outputs": [
    {
     "data": {
      "text/plain": [
       "2.4976792000000003"
      ]
     },
     "execution_count": 7,
     "metadata": {},
     "output_type": "execute_result"
    }
   ],
   "source": [
    "# List comprehension... Measuring\n",
    "timeit.timeit('\"-\".join([str(n) for n in range(100)])', number=100000)"
   ]
  },
  {
   "cell_type": "code",
   "execution_count": 8,
   "metadata": {},
   "outputs": [
    {
     "data": {
      "text/plain": [
       "1.8546429999999994"
      ]
     },
     "execution_count": 8,
     "metadata": {},
     "output_type": "execute_result"
    }
   ],
   "source": [
    "# Map()... Measuring\n",
    "timeit.timeit('\"-\".join(map(str, range(100)))', number=100000)"
   ]
  },
  {
   "cell_type": "markdown",
   "metadata": {},
   "source": [
    "## Custom Timing Alternative"
   ]
  },
  {
   "cell_type": "markdown",
   "metadata": {},
   "source": [
    "- We could also measure an actual code runtime using `time`"
   ]
  },
  {
   "cell_type": "code",
   "execution_count": 9,
   "metadata": {},
   "outputs": [
    {
     "name": "stdout",
     "output_type": "stream",
     "text": [
      "--- For Loops: Finished in 3.1442418098449707 seconds ---\n"
     ]
    }
   ],
   "source": [
    "# Measuring Code runtime\n",
    "import time\n",
    "\n",
    "# Start timer\n",
    "start_time = time.time()\n",
    "\n",
    "for x in range(100000):\n",
    "    forLoopGenerate(100)\n",
    "\n",
    "# End timer\n",
    "print(\"--- For Loops: Finished in {0} seconds ---\".format(time.time() - start_time))"
   ]
  },
  {
   "cell_type": "code",
   "execution_count": 10,
   "metadata": {},
   "outputs": [
    {
     "name": "stdout",
     "output_type": "stream",
     "text": [
      "--- List Comprehension: Finished in 2.569545030593872 seconds ---\n"
     ]
    }
   ],
   "source": [
    "# Start timer\n",
    "start_time2 = time.time()\n",
    "\n",
    "for x in range(100000):\n",
    "    listCompGenerate(100)\n",
    "\n",
    "# End timer\n",
    "print(\"--- List Comprehension: Finished in {0} seconds ---\".format(time.time() - start_time2))"
   ]
  },
  {
   "cell_type": "code",
   "execution_count": 11,
   "metadata": {},
   "outputs": [
    {
     "name": "stdout",
     "output_type": "stream",
     "text": [
      "--- map(): Finished in 2.739428758621216 seconds ---\n"
     ]
    }
   ],
   "source": [
    "# Start timer\n",
    "start_time3 = time.time()\n",
    "\n",
    "for x in range(100000):\n",
    "    mapGenerate(100)\n",
    "\n",
    "# End timer\n",
    "print(\"--- map(): Finished in {0} seconds ---\".format(time.time() - start_time3))"
   ]
  }
 ],
 "metadata": {
  "kernelspec": {
   "display_name": "Python 3",
   "language": "python",
   "name": "python3"
  },
  "language_info": {
   "codemirror_mode": {
    "name": "ipython",
    "version": 3
   },
   "file_extension": ".py",
   "mimetype": "text/x-python",
   "name": "python",
   "nbconvert_exporter": "python",
   "pygments_lexer": "ipython3",
   "version": "3.7.6"
  },
  "toc": {
   "base_numbering": 1,
   "nav_menu": {},
   "number_sections": true,
   "sideBar": true,
   "skip_h1_title": true,
   "title_cell": "Table of Contents",
   "title_sidebar": "Contents",
   "toc_cell": true,
   "toc_position": {},
   "toc_section_display": true,
   "toc_window_display": true
  }
 },
 "nbformat": 4,
 "nbformat_minor": 4
}
