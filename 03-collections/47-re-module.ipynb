{
 "cells": [
  {
   "cell_type": "markdown",
   "metadata": {
    "toc": true
   },
   "source": [
    "<h1>Table of Contents<span class=\"tocSkip\"></span></h1>\n",
    "<div class=\"toc\"><ul class=\"toc-item\"><li><span><a href=\"#Searching-for-Patterns-in-Text\" data-toc-modified-id=\"Searching-for-Patterns-in-Text-1\"><span class=\"toc-item-num\">1&nbsp;&nbsp;</span>Searching for Patterns in Text</a></span></li><li><span><a href=\"#Split-with-regular-expressions\" data-toc-modified-id=\"Split-with-regular-expressions-2\"><span class=\"toc-item-num\">2&nbsp;&nbsp;</span>Split with regular expressions</a></span></li><li><span><a href=\"#Finding-All-Instances-Of-A-Pattern\" data-toc-modified-id=\"Finding-All-Instances-Of-A-Pattern-3\"><span class=\"toc-item-num\">3&nbsp;&nbsp;</span>Finding All Instances Of A Pattern</a></span></li><li><span><a href=\"#Pattern-re-Syntax\" data-toc-modified-id=\"Pattern-re-Syntax-4\"><span class=\"toc-item-num\">4&nbsp;&nbsp;</span>Pattern re Syntax</a></span><ul class=\"toc-item\"><li><span><a href=\"#Repetition-Syntax\" data-toc-modified-id=\"Repetition-Syntax-4.1\"><span class=\"toc-item-num\">4.1&nbsp;&nbsp;</span>Repetition Syntax</a></span></li><li><span><a href=\"#Character-Sets\" data-toc-modified-id=\"Character-Sets-4.2\"><span class=\"toc-item-num\">4.2&nbsp;&nbsp;</span>Character Sets</a></span></li><li><span><a href=\"#Exclusion\" data-toc-modified-id=\"Exclusion-4.3\"><span class=\"toc-item-num\">4.3&nbsp;&nbsp;</span>Exclusion</a></span></li><li><span><a href=\"#Character-Ranges\" data-toc-modified-id=\"Character-Ranges-4.4\"><span class=\"toc-item-num\">4.4&nbsp;&nbsp;</span>Character Ranges</a></span></li><li><span><a href=\"#Escape-Codes\" data-toc-modified-id=\"Escape-Codes-4.5\"><span class=\"toc-item-num\">4.5&nbsp;&nbsp;</span>Escape Codes</a></span></li></ul></li></ul></div>"
   ]
  },
  {
   "cell_type": "markdown",
   "metadata": {},
   "source": [
    "# `re` module"
   ]
  },
  {
   "cell_type": "markdown",
   "metadata": {},
   "source": [
    "- Regular Expressions, also referred to as 'regex' or 'regexp' in conversation\n",
    "- Include a variety of rules, for finding repetition, to text-matching, and much more\n",
    "- A lot of your parsing problems can be solved with regular expressions\n",
    "- They're also a common interview question!"
   ]
  },
  {
   "cell_type": "markdown",
   "metadata": {},
   "source": [
    "## Searching for Patterns in Text"
   ]
  },
  {
   "cell_type": "code",
   "execution_count": 1,
   "metadata": {},
   "outputs": [
    {
     "name": "stdout",
     "output_type": "stream",
     "text": [
      "Searching for \"term1\" in: \"This is a string with term1, but it does not have the other term.\"\n",
      "...\n",
      "Match was found: \n",
      "<re.Match object; span=(22, 27), match='term1'>\n",
      "\n",
      "\n",
      "Searching for \"term2\" in: \"This is a string with term1, but it does not have the other term.\"\n",
      "...\n",
      "No Match was found: \n",
      "None\n",
      "\n",
      "\n"
     ]
    }
   ],
   "source": [
    "import re\n",
    "\n",
    "# List of patterns to search for\n",
    "patterns = ['term1', 'term2']\n",
    "\n",
    "# Text to parse\n",
    "text = 'This is a string with term1, but it does not have the other term.'\n",
    "\n",
    "for patternToSearch in patterns:\n",
    "    print('Searching for \"{0}\" in: \"{1}\"\\n...'.format(patternToSearch, text))\n",
    "\n",
    "    # Check for match: re.search(pattern, text)\n",
    "    if re.search(patternToSearch, text):\n",
    "        print('Match was found: ')\n",
    "        print(re.search(patternToSearch, text))\n",
    "        print('\\n')\n",
    "    else:\n",
    "        print('No Match was found: ')\n",
    "        print(re.search(patternToSearch, text))\n",
    "        print('\\n')"
   ]
  },
  {
   "cell_type": "markdown",
   "metadata": {},
   "source": [
    "- `re.search()`: Take the pattern, scan the text, and then:\n",
    "  - Returns a **`Match`** object.\n",
    "  - If no pattern is found, a **`None`** is returned"
   ]
  },
  {
   "cell_type": "code",
   "execution_count": 2,
   "metadata": {},
   "outputs": [
    {
     "name": "stdout",
     "output_type": "stream",
     "text": [
      "<class 're.Match'>\n"
     ]
    }
   ],
   "source": [
    "# List of patterns to search for\n",
    "pattern = 'term1'\n",
    "\n",
    "# Text to parse\n",
    "text = 'This is a string with term1, but it does not have the other term.'\n",
    "\n",
    "match = re.search(pattern, text)\n",
    "print(type(match))"
   ]
  },
  {
   "cell_type": "markdown",
   "metadata": {},
   "source": [
    "- This **Match** object returned by the `search()` method is more than just a Boolean or None\n",
    "- Has information about the match, including the original input string, the regular expression that was used, and the location of the match"
   ]
  },
  {
   "cell_type": "code",
   "execution_count": 3,
   "metadata": {},
   "outputs": [
    {
     "name": "stdout",
     "output_type": "stream",
     "text": [
      "Help on Match object:\n",
      "\n",
      "class Match(builtins.object)\n",
      " |  The result of re.match() and re.search().\n",
      " |  Match objects always have a boolean value of True.\n",
      " |  \n",
      " |  Methods defined here:\n",
      " |  \n",
      " |  __copy__(self, /)\n",
      " |  \n",
      " |  __deepcopy__(self, memo, /)\n",
      " |  \n",
      " |  __getitem__(self, key, /)\n",
      " |      Return self[key].\n",
      " |  \n",
      " |  __repr__(self, /)\n",
      " |      Return repr(self).\n",
      " |  \n",
      " |  end(self, group=0, /)\n",
      " |      Return index of the end of the substring matched by group.\n",
      " |  \n",
      " |  expand(self, /, template)\n",
      " |      Return the string obtained by doing backslash substitution on the string template, as done by the sub() method.\n",
      " |  \n",
      " |  group(...)\n",
      " |      group([group1, ...]) -> str or tuple.\n",
      " |      Return subgroup(s) of the match by indices or names.\n",
      " |      For 0 returns the entire match.\n",
      " |  \n",
      " |  groupdict(self, /, default=None)\n",
      " |      Return a dictionary containing all the named subgroups of the match, keyed by the subgroup name.\n",
      " |      \n",
      " |      default\n",
      " |        Is used for groups that did not participate in the match.\n",
      " |  \n",
      " |  groups(self, /, default=None)\n",
      " |      Return a tuple containing all the subgroups of the match, from 1.\n",
      " |      \n",
      " |      default\n",
      " |        Is used for groups that did not participate in the match.\n",
      " |  \n",
      " |  span(self, group=0, /)\n",
      " |      For match object m, return the 2-tuple (m.start(group), m.end(group)).\n",
      " |  \n",
      " |  start(self, group=0, /)\n",
      " |      Return index of the start of the substring matched by group.\n",
      " |  \n",
      " |  ----------------------------------------------------------------------\n",
      " |  Data descriptors defined here:\n",
      " |  \n",
      " |  endpos\n",
      " |      The index into the string beyond which the RE engine will not go.\n",
      " |  \n",
      " |  lastgroup\n",
      " |      The name of the last matched capturing group.\n",
      " |  \n",
      " |  lastindex\n",
      " |      The integer index of the last matched capturing group.\n",
      " |  \n",
      " |  pos\n",
      " |      The index into the string at which the RE engine started looking for a match.\n",
      " |  \n",
      " |  re\n",
      " |      The regular expression object.\n",
      " |  \n",
      " |  regs\n",
      " |  \n",
      " |  string\n",
      " |      The string passed to match() or search().\n",
      "\n",
      "None\n",
      "22\n",
      "27\n"
     ]
    }
   ],
   "source": [
    "print(help(match))\n",
    "\n",
    "# Show start of match\n",
    "print(match.start())\n",
    "\n",
    "# Show end\n",
    "print(match.end())"
   ]
  },
  {
   "cell_type": "markdown",
   "metadata": {},
   "source": [
    "## Split with regular expressions"
   ]
  },
  {
   "cell_type": "markdown",
   "metadata": {},
   "source": [
    "- `re.split()` returns a list with the term to spit on removed\n",
    "- The terms in the list are a split up version of the string"
   ]
  },
  {
   "cell_type": "code",
   "execution_count": 4,
   "metadata": {},
   "outputs": [
    {
     "name": "stdout",
     "output_type": "stream",
     "text": [
      "['What', 'is', 'the', 'domain', 'name', 'of', 'someone', 'with', 'the', 'email:', 'hello@gmail.com']\n"
     ]
    }
   ],
   "source": [
    "# Term to split on\n",
    "split_at_term = ' '  # Each space\n",
    "phrase = 'What is the domain name of someone with the email: hello@gmail.com'\n",
    "\n",
    "# Split the phrase\n",
    "print(re.split(split_at_term, phrase))"
   ]
  },
  {
   "cell_type": "markdown",
   "metadata": {},
   "source": [
    "## Finding All Instances Of A Pattern"
   ]
  },
  {
   "cell_type": "markdown",
   "metadata": {},
   "source": [
    "- Use `re.findall()` to find all the instances of a pattern in a string"
   ]
  },
  {
   "cell_type": "code",
   "execution_count": 5,
   "metadata": {},
   "outputs": [
    {
     "name": "stdout",
     "output_type": "stream",
     "text": [
      "['match', 'match']\n"
     ]
    }
   ],
   "source": [
    "# Returns a list of all matches\n",
    "cases = re.findall('match', 'test phrase match is in middle and match is close to the end.')\n",
    "print(cases)"
   ]
  },
  {
   "cell_type": "code",
   "execution_count": 6,
   "metadata": {},
   "outputs": [
    {
     "name": "stdout",
     "output_type": "stream",
     "text": [
      "5\n"
     ]
    }
   ],
   "source": [
    "# Function to count the appearance of a specific text within a long string\n",
    "count_appearance_in_text = lambda toFind, longText: len(re.findall(toFind, longText))\n",
    "\n",
    "toFind = 'match'\n",
    "text = 'test phrase match is in middle and match is close to the end. And here are more match, match, match!! math!'\n",
    "print(count_appearance_in_text(toFind, text))"
   ]
  },
  {
   "cell_type": "markdown",
   "metadata": {},
   "source": [
    "## Pattern re Syntax"
   ]
  },
  {
   "cell_type": "markdown",
   "metadata": {},
   "source": [
    "- We can use *`metacharacters`* along with `re` to find specific types of patterns"
   ]
  },
  {
   "cell_type": "code",
   "execution_count": 7,
   "metadata": {},
   "outputs": [],
   "source": [
    "def multi_re_find(patterns, phrase):\n",
    "    '''\n",
    "    Takes in a list of regex patterns.\n",
    "    Prints a list of all matches.\n",
    "    '''\n",
    "    for pattern in patterns:\n",
    "        print('Searching the phrase using the re check: {0}'.format(pattern))\n",
    "        print(re.findall(pattern, phrase))\n",
    "        print('\\n')"
   ]
  },
  {
   "cell_type": "markdown",
   "metadata": {},
   "source": [
    "### Repetition Syntax"
   ]
  },
  {
   "cell_type": "markdown",
   "metadata": {},
   "source": [
    "- There are five ways to express repetition in a pattern\n",
    "  - A pattern followed by the meta-character `*` is repeated *zero or more times*\n",
    "  - Replace the `*` with `+` and the pattern must appear *at least once or more time*\n",
    "  - Using `?` means the pattern appears *zero or one time*\n",
    "  - For a specific number of occurrences, use `{m}` after the pattern, where `m` is replaced with the number of times the pattern should repeat\n",
    "  - Use `{m,n}` where `m` is the minimum number of repetitions and `n` is the maximum. Leaving out `n` (`{m,}`) means the value appears at least `m` times, with no maximum"
   ]
  },
  {
   "cell_type": "code",
   "execution_count": 8,
   "metadata": {},
   "outputs": [
    {
     "name": "stdout",
     "output_type": "stream",
     "text": [
      "Searching the phrase using the re check: sd*\n",
      "['sd', 'sd', 's', 's', 'sddd', 'sddd', 'sddd', 'sdd', 's', 's', 's', 's', 's', 's', 'sddddddd']\n",
      "\n",
      "\n",
      "Searching the phrase using the re check: sd+\n",
      "['sd', 'sd', 'sddd', 'sddd', 'sddd', 'sdd', 'sddddddd']\n",
      "\n",
      "\n",
      "Searching the phrase using the re check: sd?\n",
      "['sd', 'sd', 's', 's', 'sd', 'sd', 'sd', 'sd', 's', 's', 's', 's', 's', 's', 'sd']\n",
      "\n",
      "\n",
      "Searching the phrase using the re check: sd{3}\n",
      "['sddd', 'sddd', 'sddd', 'sddd']\n",
      "\n",
      "\n",
      "Searching the phrase using the re check: sd{2,3}\n",
      "['sddd', 'sddd', 'sddd', 'sdd', 'sddd']\n",
      "\n",
      "\n",
      "Searching the phrase using the re check: sd{3,}\n",
      "['sddd', 'sddd', 'sddd', 'sddddddd']\n",
      "\n",
      "\n",
      "Searching the phrase using the re check: sd{,3}\n",
      "['sd', 'sd', 's', 's', 'sddd', 'sddd', 'sddd', 'sdd', 's', 's', 's', 's', 's', 's', 'sddd']\n",
      "\n",
      "\n"
     ]
    }
   ],
   "source": [
    "test_phrase = 'sdsd..sssddd...sdddsddd...dsdds...dsssss...sddddddd'\n",
    "test_patterns = [\n",
    "    'sd*',  # s followed by zero or more d's: [0, ...]\n",
    "    'sd+',  # s followed by one or more d's: [1, ...]\n",
    "    'sd?',  # s followed by zero or one d's: [0, 1]\n",
    "    'sd{3}',  # s followed by n d's: [n]\n",
    "    'sd{2,3}',  # s followed by m to n d's: [m, n]\n",
    "    'sd{3,}',  # s followed by m or more d's: [m, ...]\n",
    "    'sd{,3}',  # s followed by zero or at most m d's: [0, ..., m]\n",
    "]\n",
    "\n",
    "multi_re_find(test_patterns, test_phrase)"
   ]
  },
  {
   "cell_type": "markdown",
   "metadata": {},
   "source": [
    "### Character Sets"
   ]
  },
  {
   "cell_type": "markdown",
   "metadata": {},
   "source": [
    "- Used when you wish to match any one of a group of characters at a point in the input\n",
    "- Brackets are used to construct character set inputs"
   ]
  },
  {
   "cell_type": "code",
   "execution_count": 9,
   "metadata": {},
   "outputs": [
    {
     "name": "stdout",
     "output_type": "stream",
     "text": [
      "Searching the phrase using the re check: [sd]\n",
      "['s', 'd', 's', 'd', 's', 's', 's', 'd', 'd', 'd', 's', 'd', 'd', 'd', 's', 'd', 'd', 'd', 'd', 's', 'd', 's', 'd', 's', 's', 's', 's', 's', 's', 'd', 'd', 'd', 'd']\n",
      "\n",
      "\n",
      "Searching the phrase using the re check: s[sd]+\n",
      "['sdsd', 'sssddd', 'sdddsddd', 'sds', 'sssss', 'sdddd']\n",
      "\n",
      "\n"
     ]
    }
   ],
   "source": [
    "test_phrase = 'sdsd..sssddd...sdddsddd...dsds...dsssss...sdddd'\n",
    "test_patterns = [\n",
    "    '[sd]',  # either s or d\n",
    "    's[sd]+' # s followed by one or more s or d\n",
    "]\n",
    "\n",
    "multi_re_find(test_patterns, test_phrase)"
   ]
  },
  {
   "cell_type": "markdown",
   "metadata": {},
   "source": [
    "### Exclusion"
   ]
  },
  {
   "cell_type": "markdown",
   "metadata": {},
   "source": [
    "- Use `^` to exclude terms by incorporating it into the bracket syntax notation\n",
    "- Use `[^!.? ]` to check for matches that are not either a `!`,`.`,`?`, or `space`\n",
    "- Add the `+` to check that the match appears at least once, this basically translate into finding the word"
   ]
  },
  {
   "cell_type": "code",
   "execution_count": 10,
   "metadata": {},
   "outputs": [
    {
     "name": "stdout",
     "output_type": "stream",
     "text": [
      "['This', 'is', 'a', 'string', 'But', 'it', 'has', 'punctuation', 'How', 'can', 'we', 'remove', 'them']\n"
     ]
    }
   ],
   "source": [
    "test_phrase = 'This is a string! But it has punctuation. How can we remove them?'\n",
    "print(re.findall('[^!.? ]+', test_phrase))"
   ]
  },
  {
   "cell_type": "markdown",
   "metadata": {},
   "source": [
    "### Character Ranges"
   ]
  },
  {
   "cell_type": "markdown",
   "metadata": {},
   "source": [
    "- As character sets grow larger, typing every character that should (or should not) match could become very tedious\n",
    "- A more compact format using character ranges lets you define a character set to include all of the contiguous characters between a start and stop point\n",
    "- The format used is `[start-end]`\n",
    "- Common use cases are to search for a specific range of letters in the alphabet"
   ]
  },
  {
   "cell_type": "code",
   "execution_count": 11,
   "metadata": {},
   "outputs": [
    {
     "name": "stdout",
     "output_type": "stream",
     "text": [
      "Searching the phrase using the re check: [a-z]+\n",
      "['hi', 'is', 'an', 'ex', 'mple', 'sen', 'ence', 'ets', 's', 'e', 'if', 'we', 'can', 'f', 'nd', 'so', 'e', 'letters']\n",
      "\n",
      "\n",
      "Searching the phrase using the re check: [A-Z]+\n",
      "['T', 'S', 'A', 'T', 'L', 'E', 'I', 'M']\n",
      "\n",
      "\n",
      "Searching the phrase using the re check: [a-zA-Z]+\n",
      "['ThiS', 'is', 'an', 'exAmple', 'senTence', 'Lets', 'sEe', 'if', 'we', 'can', 'fInd', 'soMe', 'letters']\n",
      "\n",
      "\n",
      "Searching the phrase using the re check: [A-Z][a-z]+\n",
      "['Thi', 'Ample', 'Tence', 'Lets', 'Ee', 'Ind', 'Me']\n",
      "\n",
      "\n"
     ]
    }
   ],
   "source": [
    "test_phrase = 'ThiS is an exAmple senTence. Lets sEe if we can fInd soMe letters.'\n",
    "test_patterns = [\n",
    "    '[a-z]+',  # sequences of lower case letters\n",
    "    '[A-Z]+',  # sequences of upper case letters\n",
    "    '[a-zA-Z]+',  # sequences of lower or upper case letters\n",
    "    '[A-Z][a-z]+' # one upper case letter followed by lower case letters\n",
    "]\n",
    "\n",
    "multi_re_find(test_patterns, test_phrase)"
   ]
  },
  {
   "cell_type": "markdown",
   "metadata": {},
   "source": [
    "### Escape Codes"
   ]
  },
  {
   "cell_type": "markdown",
   "metadata": {},
   "source": [
    "- Use special escape codes to find specific types of patterns in your data, such as digits, non-digits,whitespace, and more\n",
    "- Indicated by prefixing the character with a backslash (`\\`\n",
    "- A backslash must itself be escaped in normal Python strings, and that results in expressions that are difficult to read\n",
    "- Using raw strings, created by prefixing the literal value with `r`, for creating regular expressions eliminates this problem and maintains readability\n",
    "\n",
    "<table border=\"1\" class=\"docutils\">\n",
    "  <colgroup>\n",
    "    <col width=\"14%\" />\n",
    "    <col width=\"86%\" />\n",
    "  </colgroup>\n",
    "  <thead valign=\"bottom\">\n",
    "    <tr class=\"row-odd\"><th class=\"head\">Code</th>\n",
    "      <th class=\"head\">Meaning</th>\n",
    "    </tr>\n",
    "  </thead>\n",
    "  <tbody valign=\"top\">\n",
    "    <tr class=\"row-even\"><td><tt class=\"docutils literal\"><span class=\"pre\">\\d</span></tt></td>\n",
    "      <td>a digit</td>\n",
    "    </tr>\n",
    "    <tr class=\"row-odd\"><td><tt class=\"docutils literal\"><span class=\"pre\">\\D</span></tt></td>\n",
    "      <td>a non-digit</td>\n",
    "    </tr>\n",
    "    <tr class=\"row-even\"><td><tt class=\"docutils literal\"><span class=\"pre\">\\s</span></tt></td>\n",
    "      <td>whitespace (tab, space, newline, etc.)</td>\n",
    "    </tr>\n",
    "    <tr class=\"row-odd\"><td><tt class=\"docutils literal\"><span class=\"pre\">\\S</span></tt></td>\n",
    "      <td>non-whitespace</td>\n",
    "    </tr>\n",
    "    <tr class=\"row-even\"><td><tt class=\"docutils literal\"><span class=\"pre\">\\w</span></tt></td>\n",
    "      <td>alphanumeric</td>\n",
    "    </tr>\n",
    "    <tr class=\"row-odd\"><td><tt class=\"docutils literal\"><span class=\"pre\">\\W</span></tt></td>\n",
    "      <td>non-alphanumeric</td>\n",
    "    </tr>\n",
    "  </tbody>\n",
    "</table>"
   ]
  },
  {
   "cell_type": "code",
   "execution_count": 12,
   "metadata": {},
   "outputs": [
    {
     "name": "stdout",
     "output_type": "stream",
     "text": [
      "Searching the phrase using the re check: \\d+\n",
      "['1233']\n",
      "\n",
      "\n",
      "Searching the phrase using the re check: \\D+\n",
      "['This is a string with some numbers ', ' and a symbol #hashtag']\n",
      "\n",
      "\n",
      "Searching the phrase using the re check: \\s+\n",
      "[' ', ' ', ' ', ' ', ' ', ' ', ' ', ' ', ' ', ' ', ' ']\n",
      "\n",
      "\n",
      "Searching the phrase using the re check: \\S+\n",
      "['This', 'is', 'a', 'string', 'with', 'some', 'numbers', '1233', 'and', 'a', 'symbol', '#hashtag']\n",
      "\n",
      "\n",
      "Searching the phrase using the re check: \\w+\n",
      "['This', 'is', 'a', 'string', 'with', 'some', 'numbers', '1233', 'and', 'a', 'symbol', 'hashtag']\n",
      "\n",
      "\n",
      "Searching the phrase using the re check: \\W+\n",
      "[' ', ' ', ' ', ' ', ' ', ' ', ' ', ' ', ' ', ' ', ' #']\n",
      "\n",
      "\n"
     ]
    }
   ],
   "source": [
    "test_phrase = 'This is a string with some numbers 1233 and a symbol #hashtag'\n",
    "test_patterns = [\n",
    "    r'\\d+',  # sequence of digits\n",
    "    r'\\D+',  # sequence of non-digits\n",
    "    r'\\s+',  # sequence of whitespace\n",
    "    r'\\S+',  # sequence of non-whitespace\n",
    "    r'\\w+',  # alphanumeric characters\n",
    "    r'\\W+',  # non-alphanumeric\n",
    "]\n",
    "\n",
    "multi_re_find(test_patterns, test_phrase)"
   ]
  }
 ],
 "metadata": {
  "kernelspec": {
   "display_name": "Python 3",
   "language": "python",
   "name": "python3"
  },
  "language_info": {
   "codemirror_mode": {
    "name": "ipython",
    "version": 3
   },
   "file_extension": ".py",
   "mimetype": "text/x-python",
   "name": "python",
   "nbconvert_exporter": "python",
   "pygments_lexer": "ipython3",
   "version": "3.7.6"
  },
  "toc": {
   "base_numbering": 1,
   "nav_menu": {},
   "number_sections": true,
   "sideBar": true,
   "skip_h1_title": true,
   "title_cell": "Table of Contents",
   "title_sidebar": "Contents",
   "toc_cell": true,
   "toc_position": {},
   "toc_section_display": true,
   "toc_window_display": true
  }
 },
 "nbformat": 4,
 "nbformat_minor": 4
}
