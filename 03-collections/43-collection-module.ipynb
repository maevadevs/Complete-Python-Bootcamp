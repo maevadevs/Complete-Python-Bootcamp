{
 "cells": [
  {
   "cell_type": "markdown",
   "metadata": {
    "toc": true
   },
   "source": [
    "<h1>Table of Contents<span class=\"tocSkip\"></span></h1>\n",
    "<div class=\"toc\"><ul class=\"toc-item\"><li><span><a href=\"#Counter\" data-toc-modified-id=\"Counter-1\"><span class=\"toc-item-num\">1&nbsp;&nbsp;</span><code>Counter</code></a></span><ul class=\"toc-item\"><li><span><a href=\"#Counter-Methods\" data-toc-modified-id=\"Counter-Methods-1.1\"><span class=\"toc-item-num\">1.1&nbsp;&nbsp;</span>Counter Methods</a></span></li></ul></li><li><span><a href=\"#defaultdict\" data-toc-modified-id=\"defaultdict-2\"><span class=\"toc-item-num\">2&nbsp;&nbsp;</span><code>defaultdict</code></a></span></li><li><span><a href=\"#OrderedDict\" data-toc-modified-id=\"OrderedDict-3\"><span class=\"toc-item-num\">3&nbsp;&nbsp;</span>OrderedDict</a></span><ul class=\"toc-item\"><li><span><a href=\"#Equality-With-OrderedDict\" data-toc-modified-id=\"Equality-With-OrderedDict-3.1\"><span class=\"toc-item-num\">3.1&nbsp;&nbsp;</span>Equality With OrderedDict</a></span></li></ul></li><li><span><a href=\"#namedTuple\" data-toc-modified-id=\"namedTuple-4\"><span class=\"toc-item-num\">4&nbsp;&nbsp;</span><code>namedTuple</code></a></span></li></ul></div>"
   ]
  },
  {
   "cell_type": "markdown",
   "metadata": {},
   "source": [
    "# `collections` module"
   ]
  },
  {
   "cell_type": "markdown",
   "metadata": {},
   "source": [
    "- Built-in module that implements specialized container data types\n",
    "- Alternatives to Python’s general purpose built-in containers"
   ]
  },
  {
   "cell_type": "markdown",
   "metadata": {},
   "source": [
    "## `Counter`"
   ]
  },
  {
   "cell_type": "markdown",
   "metadata": {},
   "source": [
    "- A `dict` subclass which helps count hash-able objects\n",
    "- Elements are stored as dictionary keys and the counts of the objects are stored as the value"
   ]
  },
  {
   "cell_type": "code",
   "execution_count": 1,
   "metadata": {},
   "outputs": [
    {
     "name": "stdout",
     "output_type": "stream",
     "text": [
      "Counter({1: 6, 2: 6, 3: 4, 12: 1, 32: 1, 21: 1, 223: 1})\n"
     ]
    }
   ],
   "source": [
    "from collections import Counter\n",
    "\n",
    "# From list to Counter\n",
    "ls = [1, 2, 2, 2, 2, 3, 3, 3, 1, 2, 1, 12, 3, 2, 32, 1, 21, 1, 223, 1]\n",
    "print(Counter(ls))"
   ]
  },
  {
   "cell_type": "code",
   "execution_count": 2,
   "metadata": {},
   "outputs": [
    {
     "name": "stdout",
     "output_type": "stream",
     "text": [
      "Counter({' ': 10, 's': 6, 'i': 5, 't': 5, 'e': 4, 'l': 4, 'o': 4, 'r': 4, 'w': 2, '!': 2, 'h': 2, 'n': 2, 'H': 1, 'd': 1, 'T': 1, 'a': 1, 'm': 1, 'p': 1, 'f': 1, 'C': 1, 'u': 1, 'g': 1})\n"
     ]
    }
   ],
   "source": [
    "# From string to Counter\n",
    "sentence = 'Hello world! This is a simple test for Counter with strings!'\n",
    "wordsInSentence = Counter(sentence)\n",
    "print(wordsInSentence)"
   ]
  },
  {
   "cell_type": "code",
   "execution_count": 3,
   "metadata": {},
   "outputs": [
    {
     "name": "stdout",
     "output_type": "stream",
     "text": [
      " : 10, s: 6, i: 5, t: 5, e: 4, l: 4, o: 4, r: 4, w: 2, !: 2, h: 2, n: 2, H: 1, d: 1, T: 1, a: 1, m: 1, p: 1, f: 1, C: 1, u: 1, g: 1, "
     ]
    }
   ],
   "source": [
    "# We cannot iterate through Counter() object result directly\n",
    "# But we can iterate through Counter().most_common()\n",
    "for k, v in wordsInSentence.most_common():\n",
    "    print(str(k) + ': ' + str(v), end=\", \")"
   ]
  },
  {
   "cell_type": "code",
   "execution_count": 4,
   "metadata": {},
   "outputs": [
    {
     "name": "stdout",
     "output_type": "stream",
     "text": [
      "Counter({'each': 3, 'word': 3, 'times': 2, 'How': 1, 'many': 1, 'does': 1, 'show': 1, 'up': 1, 'in': 1, 'this': 1, 'sentence': 1})\n"
     ]
    }
   ],
   "source": [
    "# `Counter` with words in a sentence\n",
    "string = 'How many times does each word show up in this sentence word times each each word'\n",
    "words = string.split() # Produces a list\n",
    "print(Counter(words))"
   ]
  },
  {
   "cell_type": "markdown",
   "metadata": {},
   "source": [
    "### Counter Methods"
   ]
  },
  {
   "cell_type": "code",
   "execution_count": 5,
   "metadata": {},
   "outputs": [
    {
     "name": "stdout",
     "output_type": "stream",
     "text": [
      "20\n",
      "None\n",
      "[1, 2, 3, 12, 32, 21, 223]\n",
      "{32, 1, 2, 3, 12, 21, 223}\n",
      "{1: 6, 2: 6, 3: 4, 12: 1, 32: 1, 21: 1, 223: 1}\n",
      "dict_items([(1, 6), (2, 6), (3, 4), (12, 1), (32, 1), (21, 1), (223, 1)])\n"
     ]
    }
   ],
   "source": [
    "l = [1, 2, 2, 2, 2, 3, 3, 3, 1, 2, 1, 12, 3, 2, 32, 1, 21, 1, 223, 1]\n",
    "c = Counter(l)\n",
    "\n",
    "print(sum(c.values()))                  # total of all counts\n",
    "print(c.clear())                        # reset all counts\n",
    "\n",
    "c = Counter(l)\n",
    "print(list(c))                          # convert the keys to a list\n",
    "print(set(c))                           # convert to a set (uniques): Would result in the same as list(c)\n",
    "print(dict(c))                          # convert to a regular dictionary: {k: v}\n",
    "print(c.items())                        # convert to a list of (elem, cnt) pairs\n",
    "# print(Counter(dict(list_of_pairs)))     # convert from a list of (elem, cnt) pairs\n",
    "# print(c.most_common()[:-n-1:-1])        # n least common elements\n",
    "# print(c += Counter())                   # remove zero and negative counts"
   ]
  },
  {
   "cell_type": "markdown",
   "metadata": {},
   "source": [
    "---"
   ]
  },
  {
   "cell_type": "markdown",
   "metadata": {},
   "source": [
    "## `defaultdict `"
   ]
  },
  {
   "cell_type": "markdown",
   "metadata": {},
   "source": [
    "- Dictionary-like object which provides all methods provided by dictionary\n",
    "- But takes first argument (`default_factory`) as default data type for the dictionary\n",
    "- Using `defaultdict` is faster than doing the same using `dict.set_default` method\n",
    "- Will never raise a `KeyError`: Any key that does not exist gets the value returned by the default factory\n"
   ]
  },
  {
   "cell_type": "code",
   "execution_count": 6,
   "metadata": {},
   "outputs": [
    {
     "name": "stdout",
     "output_type": "stream",
     "text": [
      "Default value\n",
      "one - Default value\n",
      "two - Hello\n",
      "0\n"
     ]
    }
   ],
   "source": [
    "from collections import defaultdict\n",
    "\n",
    "d = {}\n",
    "# d['one'] # => Error: There is no key 'one' in d\n",
    "\n",
    "dd = defaultdict(lambda: \"Default value\") # Default: () => 0\n",
    "print(dd['one']) # Not Error: Default value returned\n",
    "dd['two'] = \"Hello\"\n",
    "\n",
    "for item in dd:\n",
    "    print(str(item) + \" - \" + str(dd[item]))\n",
    "\n",
    "# Can also initialize with default values:\n",
    "dd = defaultdict(lambda: 0)\n",
    "print(dd['one'])"
   ]
  },
  {
   "cell_type": "markdown",
   "metadata": {},
   "source": [
    "---"
   ]
  },
  {
   "cell_type": "markdown",
   "metadata": {},
   "source": [
    "## OrderedDict"
   ]
  },
  {
   "cell_type": "markdown",
   "metadata": {},
   "source": [
    "- A dictionary subclass that remembers the order in which its contents are added"
   ]
  },
  {
   "cell_type": "code",
   "execution_count": 7,
   "metadata": {},
   "outputs": [
    {
     "name": "stdout",
     "output_type": "stream",
     "text": [
      "Normal dictionary:\n",
      "a A\n",
      "c c\n",
      "b B\n",
      "e E\n",
      "d D\n"
     ]
    }
   ],
   "source": [
    "# Normal Dictionary\n",
    "print('Normal dictionary:')\n",
    "d = {}\n",
    "d['a'] = 'A'\n",
    "d['c'] = 'c'\n",
    "d['b'] = 'B'\n",
    "d['e'] = 'E'\n",
    "d['d'] = 'D'\n",
    "\n",
    "for k, v in d.items():\n",
    "    print(k, v)"
   ]
  },
  {
   "cell_type": "code",
   "execution_count": 8,
   "metadata": {},
   "outputs": [
    {
     "name": "stdout",
     "output_type": "stream",
     "text": [
      "OrderedDict:\n",
      "a A\n",
      "b B\n",
      "c C\n",
      "d D\n",
      "e E\n"
     ]
    }
   ],
   "source": [
    "# An Ordered Dictionary\n",
    "from collections import OrderedDict\n",
    "\n",
    "print('OrderedDict:')\n",
    "d = OrderedDict()\n",
    "d['a'] = 'A'\n",
    "d['b'] = 'B'\n",
    "d['c'] = 'C'\n",
    "d['d'] = 'D'\n",
    "d['e'] = 'E'\n",
    "\n",
    "for k, v in d.items():\n",
    "    print(k, v)"
   ]
  },
  {
   "cell_type": "markdown",
   "metadata": {},
   "source": [
    "### Equality With OrderedDict"
   ]
  },
  {
   "cell_type": "markdown",
   "metadata": {},
   "source": [
    "- A regular dict looks at its contents when testing for equality\n",
    "- An OrderedDict also considers the order the items were added"
   ]
  },
  {
   "cell_type": "code",
   "execution_count": 9,
   "metadata": {},
   "outputs": [
    {
     "name": "stdout",
     "output_type": "stream",
     "text": [
      "Dictionaries are equal? \n",
      "True\n"
     ]
    }
   ],
   "source": [
    "# A normal Dictionary\n",
    "print('Dictionaries are equal? ')\n",
    "\n",
    "d1 = {}\n",
    "d1['a'] = 'A'\n",
    "d1['b'] = 'B'\n",
    "\n",
    "d2 = {}\n",
    "d2['b'] = 'B'\n",
    "d2['a'] = 'A'\n",
    "\n",
    "print(d1 == d2)"
   ]
  },
  {
   "cell_type": "code",
   "execution_count": 10,
   "metadata": {},
   "outputs": [
    {
     "name": "stdout",
     "output_type": "stream",
     "text": [
      "Dictionaries are equal? \n",
      "False\n"
     ]
    }
   ],
   "source": [
    "# An Ordered Dictionary:\n",
    "print('Dictionaries are equal? ')\n",
    "\n",
    "d1 = OrderedDict()\n",
    "d1['a'] = 'A'\n",
    "d1['b'] = 'B'\n",
    "\n",
    "d2 = OrderedDict()\n",
    "d2['b'] = 'B'\n",
    "d2['a'] = 'A'\n",
    "\n",
    "print(d1 == d2)"
   ]
  },
  {
   "cell_type": "markdown",
   "metadata": {},
   "source": [
    "---"
   ]
  },
  {
   "cell_type": "markdown",
   "metadata": {},
   "source": [
    "## `namedTuple`"
   ]
  },
  {
   "cell_type": "markdown",
   "metadata": {},
   "source": [
    "- The standard tuple uses numerical indexes to access its members\n",
    "- For simple use cases, this is usually enough\n",
    "- Trying to remember which index should be used for each value can lead to error\n",
    "- A `namedtuple` assigns names, as well as the numerical index, to each member\n",
    "- Each kind of `namedtuple` is represented by its own class, created by using the `namedtuple()` factory function\n",
    "  - The arguments are the name of the new class and a string containing the names of the elements\n",
    "- Think of namedtuples as a very quick way of creating a new object/class type with some attribute fields"
   ]
  },
  {
   "cell_type": "code",
   "execution_count": 11,
   "metadata": {},
   "outputs": [],
   "source": [
    "from collections import namedtuple\n",
    "\n",
    "# Construction: namedTuple('ObjectName', 'attr1 attr2 attr3...')\n",
    "Dog = namedtuple('Dog', 'age breed name')\n",
    "\n",
    "sam = Dog(age=2, breed='Lab', name='Sammy')\n",
    "frank = Dog(age=3, breed='Shepard', name=\"Frankie\")"
   ]
  },
  {
   "cell_type": "code",
   "execution_count": 12,
   "metadata": {},
   "outputs": [
    {
     "name": "stdout",
     "output_type": "stream",
     "text": [
      "Dog(age=2, breed='Lab', name='Sammy')\n",
      "2\n",
      "Lab\n",
      "2\n"
     ]
    }
   ],
   "source": [
    "print(sam)\n",
    "print(sam.age)\n",
    "print(sam.breed)\n",
    "print(sam[0])"
   ]
  }
 ],
 "metadata": {
  "kernelspec": {
   "display_name": "Python 3",
   "language": "python",
   "name": "python3"
  },
  "language_info": {
   "codemirror_mode": {
    "name": "ipython",
    "version": 3
   },
   "file_extension": ".py",
   "mimetype": "text/x-python",
   "name": "python",
   "nbconvert_exporter": "python",
   "pygments_lexer": "ipython3",
   "version": "3.7.6"
  },
  "toc": {
   "base_numbering": 1,
   "nav_menu": {},
   "number_sections": true,
   "sideBar": true,
   "skip_h1_title": true,
   "title_cell": "Table of Contents",
   "title_sidebar": "Contents",
   "toc_cell": true,
   "toc_position": {},
   "toc_section_display": true,
   "toc_window_display": true
  }
 },
 "nbformat": 4,
 "nbformat_minor": 4
}
