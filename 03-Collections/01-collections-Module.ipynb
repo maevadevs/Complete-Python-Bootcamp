{
 "cells": [
  {
   "cell_type": "markdown",
   "metadata": {},
   "source": [
    "# `collections` module\n",
    "---"
   ]
  },
  {
   "cell_type": "markdown",
   "metadata": {},
   "source": [
    "**Table of Contents**<a id='toc0_'></a>    \n",
    "- [`Counter`](#toc1_)    \n",
    "  - [Counter Methods](#toc1_1_)    \n",
    "- [`defaultdict `](#toc2_)    \n",
    "- [`OrderedDict`](#toc3_)    \n",
    "  - [Equality With `OrderedDict`](#toc3_1_)    \n",
    "- [`namedtuple`](#toc4_)    \n",
    "\n",
    "<!-- vscode-jupyter-toc-config\n",
    "\tnumbering=false\n",
    "\tanchor=true\n",
    "\tflat=false\n",
    "\tminLevel=2\n",
    "\tmaxLevel=6\n",
    "\t/vscode-jupyter-toc-config -->\n",
    "<!-- THIS CELL WILL BE REPLACED ON TOC UPDATE. DO NOT WRITE YOUR TEXT IN THIS CELL -->"
   ]
  },
  {
   "attachments": {},
   "cell_type": "markdown",
   "metadata": {},
   "source": [
    "---"
   ]
  },
  {
   "cell_type": "markdown",
   "metadata": {},
   "source": [
    "- Built-in module that implements specialized container data types\n",
    "- Alternatives to Python’s general purpose built-in containers"
   ]
  },
  {
   "cell_type": "markdown",
   "metadata": {},
   "source": [
    "## <a id='toc1_'></a>`Counter` [&#8593;](#toc0_)"
   ]
  },
  {
   "attachments": {},
   "cell_type": "markdown",
   "metadata": {},
   "source": [
    "- A `dict` subclass which helps count hashable objects\n",
    "- Elements are stored as dictionary keys and the counts of the objects are stored as the value"
   ]
  },
  {
   "cell_type": "code",
   "execution_count": 1,
   "metadata": {},
   "outputs": [
    {
     "name": "stdout",
     "output_type": "stream",
     "text": [
      "Counter({1: 6, 2: 6, 3: 4, 12: 1, 32: 1, 21: 1, 223: 1})\n"
     ]
    }
   ],
   "source": [
    "from collections import Counter\n",
    "\n",
    "# From list to Counter\n",
    "ls: list[int] = [1, 2, 2, 2, 2, 3, 3, 3, 1, 2, 1, 12, 3, 2, 32, 1, 21, 1, 223, 1]\n",
    "print(Counter(ls))"
   ]
  },
  {
   "cell_type": "code",
   "execution_count": 2,
   "metadata": {},
   "outputs": [
    {
     "name": "stdout",
     "output_type": "stream",
     "text": [
      "Counter({' ': 10, 's': 6, 'i': 5, 't': 5, 'e': 4, 'l': 4, 'o': 4, 'r': 4, 'w': 2, '!': 2, 'h': 2, 'n': 2, 'H': 1, 'd': 1, 'T': 1, 'a': 1, 'm': 1, 'p': 1, 'f': 1, 'C': 1, 'u': 1, 'g': 1})\n"
     ]
    }
   ],
   "source": [
    "# From string to Counter\n",
    "sentence: str = \"Hello world! This is a simple test for Counter with strings!\"\n",
    "words_in_sentence = Counter(sentence)\n",
    "print(words_in_sentence)"
   ]
  },
  {
   "cell_type": "code",
   "execution_count": 3,
   "metadata": {},
   "outputs": [
    {
     "name": "stdout",
     "output_type": "stream",
     "text": [
      " : 10 | s: 6 | i: 5 | t: 5 | e: 4 | l: 4 | o: 4 | r: 4 | w: 2 | !: 2 | h: 2 | n: 2 | H: 1 | d: 1 | T: 1 | a: 1 | m: 1 | p: 1 | f: 1 | C: 1 | u: 1 | g: 1 | "
     ]
    }
   ],
   "source": [
    "# We cannot iterate through Counter() object result directly\n",
    "# But we can iterate through Counter().most_common()\n",
    "for k, v in words_in_sentence.most_common():\n",
    "    print(f\"{str(k)}: {str(v)}\", end=\" | \")"
   ]
  },
  {
   "cell_type": "code",
   "execution_count": 4,
   "metadata": {},
   "outputs": [
    {
     "name": "stdout",
     "output_type": "stream",
     "text": [
      "Counter({'each': 3, 'word': 3, 'times': 2, 'How': 1, 'many': 1, 'does': 1, 'show': 1, 'up': 1, 'in': 1, 'this': 1, 'sentence': 1})\n"
     ]
    }
   ],
   "source": [
    "# `Counter` with words in a sentence\n",
    "sentence = \"How many times does each word show up in this sentence word times each each word\"\n",
    "list_words_in_sentence: list[str] = sentence.split() # Produces a list\n",
    "print(Counter(list_words_in_sentence))"
   ]
  },
  {
   "cell_type": "markdown",
   "metadata": {},
   "source": [
    "### <a id='toc1_1_'></a>Counter Methods [&#8593;](#toc0_)"
   ]
  },
  {
   "cell_type": "code",
   "execution_count": 5,
   "metadata": {},
   "outputs": [
    {
     "name": "stdout",
     "output_type": "stream",
     "text": [
      "sum(c.values()): 20\n",
      "list(c): [1, 2, 3, 12, 32, 21, 223]\n",
      "set(c): {32, 1, 2, 3, 12, 21, 223}\n",
      "dict(c): {1: 6, 2: 6, 3: 4, 12: 1, 32: 1, 21: 1, 223: 1}\n",
      "c.items(): dict_items([(1, 6), (2, 6), (3, 4), (12, 1), (32, 1), (21, 1), (223, 1)])\n"
     ]
    }
   ],
   "source": [
    "l: list[int] = [1, 2, 2, 2, 2, 3, 3, 3, 1, 2, 1, 12, 3, 2, 32, 1, 21, 1, 223, 1]\n",
    "c = Counter(l)\n",
    "\n",
    "print(\"sum(c.values()):\", sum(c.values()))      # total of all counts\n",
    "c.clear()                                       # reset all counts\n",
    "\n",
    "c = Counter(l)\n",
    "print(\"list(c):\", list(c))                      # convert the keys to a list\n",
    "print(\"set(c):\", set(c))                        # convert to a set (uniques): Would result in the same as list(c)\n",
    "print(\"dict(c):\", dict(c))                      # convert to a regular dictionary: {k: v}\n",
    "print(\"c.items():\", c.items())                  # convert to a list of (elem, cnt) pairs"
   ]
  },
  {
   "cell_type": "markdown",
   "metadata": {},
   "source": [
    "---"
   ]
  },
  {
   "cell_type": "markdown",
   "metadata": {},
   "source": [
    "## <a id='toc2_'></a>`defaultdict ` [&#8593;](#toc0_)"
   ]
  },
  {
   "cell_type": "markdown",
   "metadata": {},
   "source": [
    "- Dictionary-like object which provides all methods provided by dictionary\n",
    "- But takes first argument (`default_factory`) as default data type for the dictionary\n",
    "- Using `defaultdict` is faster than doing the same using `dict.set_default` method\n",
    "- Will never raise a `KeyError`: Any key that does not exist gets the value returned by the default factory\n"
   ]
  },
  {
   "cell_type": "code",
   "execution_count": 6,
   "metadata": {},
   "outputs": [
    {
     "name": "stdout",
     "output_type": "stream",
     "text": [
      "Default value\n",
      "one - Default value\n",
      "two - Hello\n",
      "0\n"
     ]
    }
   ],
   "source": [
    "from collections import defaultdict\n",
    "from typing import Any\n",
    "\n",
    "d: dict = {}\n",
    "# d[\"one\"] # => Error: There is no key \"one\" in d\n",
    "\n",
    "dd: defaultdict[str, str] = defaultdict(lambda: \"Default value\") # Default: () => 0\n",
    "print(dd[\"one\"]) # Not Error: Default value returned\n",
    "dd[\"two\"] = \"Hello\"\n",
    "\n",
    "for item in dd:\n",
    "    print(f\"{str(item)} - {str(dd[item])}\")\n",
    "\n",
    "# Can also initialize with default values:\n",
    "dd2: defaultdict[Any, int] = defaultdict(lambda: 0)\n",
    "print(dd2[\"one\"])"
   ]
  },
  {
   "cell_type": "markdown",
   "metadata": {},
   "source": [
    "---"
   ]
  },
  {
   "cell_type": "markdown",
   "metadata": {},
   "source": [
    "## <a id='toc3_'></a>`OrderedDict` [&#8593;](#toc0_)"
   ]
  },
  {
   "cell_type": "markdown",
   "metadata": {},
   "source": [
    "- A dictionary subclass that remembers the order in which its contents are added"
   ]
  },
  {
   "cell_type": "code",
   "execution_count": 7,
   "metadata": {},
   "outputs": [
    {
     "name": "stdout",
     "output_type": "stream",
     "text": [
      "Normal dictionary:\n",
      "g 1\n",
      "g 1\n",
      "g 1\n",
      "g 1\n",
      "g 1\n"
     ]
    }
   ],
   "source": [
    "# Normal Dictionary\n",
    "print(\"Normal dictionary:\")\n",
    "di: dict[str, str] = {}\n",
    "di[\"a\"] = \"A\"\n",
    "di[\"c\"] = \"c\"\n",
    "di[\"b\"] = \"B\"\n",
    "di[\"e\"] = \"E\"\n",
    "di[\"d\"] = \"D\"\n",
    "\n",
    "for k1, v1 in di.items():\n",
    "    print(k, v)"
   ]
  },
  {
   "cell_type": "code",
   "execution_count": 8,
   "metadata": {},
   "outputs": [
    {
     "name": "stdout",
     "output_type": "stream",
     "text": [
      "OrderedDict:\n",
      "g 1\n",
      "g 1\n",
      "g 1\n",
      "g 1\n",
      "g 1\n"
     ]
    }
   ],
   "source": [
    "# An Ordered Dictionary\n",
    "from collections import OrderedDict\n",
    "\n",
    "print(\"OrderedDict:\")\n",
    "od: OrderedDict[str, str] = OrderedDict()\n",
    "od[\"a\"] = \"A\"\n",
    "od[\"b\"] = \"B\"\n",
    "od[\"c\"] = \"C\"\n",
    "od[\"d\"] = \"D\"\n",
    "od[\"e\"] = \"E\"\n",
    "\n",
    "for k1, v1 in od.items():\n",
    "    print(k, v)"
   ]
  },
  {
   "cell_type": "markdown",
   "metadata": {},
   "source": [
    "### <a id='toc3_1_'></a>Equality With `OrderedDict` [&#8593;](#toc0_)"
   ]
  },
  {
   "attachments": {},
   "cell_type": "markdown",
   "metadata": {},
   "source": [
    "- A regular `dict` looks at its contents when testing for equality\n",
    "- An `OrderedDict` also considers the order the items were added"
   ]
  },
  {
   "cell_type": "code",
   "execution_count": 9,
   "metadata": {},
   "outputs": [
    {
     "name": "stdout",
     "output_type": "stream",
     "text": [
      "Dictionaries are equal? \n",
      "True\n"
     ]
    }
   ],
   "source": [
    "# A normal Dictionary\n",
    "print(\"Dictionaries are equal? \")\n",
    "\n",
    "d1: dict[str, str] = {}\n",
    "d1[\"a\"] = \"A\"\n",
    "d1[\"b\"] = \"B\"\n",
    "\n",
    "d2: dict[str, str] = {}\n",
    "d2[\"b\"] = \"B\"\n",
    "d2[\"a\"] = \"A\"\n",
    "\n",
    "print(d1 == d2)"
   ]
  },
  {
   "cell_type": "code",
   "execution_count": 10,
   "metadata": {},
   "outputs": [
    {
     "name": "stdout",
     "output_type": "stream",
     "text": [
      "Ordered Dictionaries are equal? \n",
      "False\n"
     ]
    }
   ],
   "source": [
    "# An Ordered Dictionary:\n",
    "print(\"Ordered Dictionaries are equal? \")\n",
    "\n",
    "od1: OrderedDict[str, str] = OrderedDict()\n",
    "od1[\"a\"] = \"A\"\n",
    "od1[\"b\"] = \"B\"\n",
    "\n",
    "od2: OrderedDict[str, str] = OrderedDict()\n",
    "od2[\"b\"] = \"B\"\n",
    "od2[\"a\"] = \"A\"\n",
    "\n",
    "print(od1 == od2)"
   ]
  },
  {
   "cell_type": "markdown",
   "metadata": {},
   "source": [
    "---"
   ]
  },
  {
   "cell_type": "markdown",
   "metadata": {},
   "source": [
    "## <a id='toc4_'></a>`namedtuple` [&#8593;](#toc0_)"
   ]
  },
  {
   "attachments": {},
   "cell_type": "markdown",
   "metadata": {},
   "source": [
    "- The standard tuple uses numerical indexes to access its members\n",
    "- For simple use cases, this is usually enough\n",
    "- Trying to remember which index should be used for each value can lead to error\n",
    "- A `namedtuple` assigns names, as well as the numerical index, to each member\n",
    "- Each kind of `namedtuple` is represented by its own class\n",
    "  - Created by using the `namedtuple()` factory function\n",
    "  - The arguments are the name of the new class and a string containing the names of the elements\n",
    "- Think of `namedtuple` as a very quick way of creating a new object/class type with some attribute fields"
   ]
  },
  {
   "cell_type": "code",
   "execution_count": 11,
   "metadata": {},
   "outputs": [
    {
     "name": "stdout",
     "output_type": "stream",
     "text": [
      "Dog(age=2, breed='Lab', name='Sammy')\n",
      "2\n",
      "Lab\n",
      "2\n"
     ]
    }
   ],
   "source": [
    "from collections import namedtuple\n",
    "\n",
    "# Construction: namedtuple(\"ObjectName\", \"attr1 attr2 attr3...\")\n",
    "Dog: namedtuple = namedtuple(\"Dog\", \"age breed name\")\n",
    "\n",
    "sam: Dog = Dog(age=2, breed=\"Lab\", name=\"Sammy\")\n",
    "frank: Dog = Dog(age=3, breed=\"Shepard\", name=\"Frankie\")\n",
    "\n",
    "print(sam)\n",
    "print(sam.age)\n",
    "print(sam.breed)\n",
    "print(sam[0])"
   ]
  }
 ],
 "metadata": {
  "kernelspec": {
   "display_name": "venv",
   "language": "python",
   "name": "python3"
  },
  "language_info": {
   "codemirror_mode": {
    "name": "ipython",
    "version": 3
   },
   "file_extension": ".py",
   "mimetype": "text/x-python",
   "name": "python",
   "nbconvert_exporter": "python",
   "pygments_lexer": "ipython3",
   "version": "3.11.2"
  },
  "toc": {
   "base_numbering": 1,
   "nav_menu": {},
   "number_sections": true,
   "sideBar": true,
   "skip_h1_title": true,
   "title_cell": "Table of Contents",
   "title_sidebar": "Contents",
   "toc_cell": true,
   "toc_position": {},
   "toc_section_display": true,
   "toc_window_display": true
  },
  "vscode": {
   "interpreter": {
    "hash": "b5ab5f64e32c215b80ba2c275165396f1c456cb6ba15ab870f8428bc206a177b"
   }
  }
 },
 "nbformat": 4,
 "nbformat_minor": 4
}
