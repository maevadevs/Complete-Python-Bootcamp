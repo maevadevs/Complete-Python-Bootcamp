{
 "cells": [
  {
   "cell_type": "markdown",
   "metadata": {},
   "source": [
    "# `re` module\n",
    "---"
   ]
  },
  {
   "cell_type": "markdown",
   "metadata": {},
   "source": [
    "**Table of Contents**<a id='toc0_'></a>    \n",
    "- [Searching for Patterns in Text](#toc1_)    \n",
    "- [Split With Regular Expressions](#toc2_)    \n",
    "- [Finding All Instances Of A Pattern](#toc3_)    \n",
    "- [Pattern `re` Syntax](#toc4_)    \n",
    "  - [Repetition Syntax](#toc4_1_)    \n",
    "  - [Character Sets](#toc4_2_)    \n",
    "  - [Exclusion](#toc4_3_)    \n",
    "  - [Character Ranges](#toc4_4_)    \n",
    "  - [Escape Codes](#toc4_5_)    \n",
    "\n",
    "<!-- vscode-jupyter-toc-config\n",
    "\tnumbering=false\n",
    "\tanchor=true\n",
    "\tflat=false\n",
    "\tminLevel=2\n",
    "\tmaxLevel=6\n",
    "\t/vscode-jupyter-toc-config -->\n",
    "<!-- THIS CELL WILL BE REPLACED ON TOC UPDATE. DO NOT WRITE YOUR TEXT IN THIS CELL -->"
   ]
  },
  {
   "attachments": {},
   "cell_type": "markdown",
   "metadata": {},
   "source": [
    "---"
   ]
  },
  {
   "attachments": {},
   "cell_type": "markdown",
   "metadata": {},
   "source": [
    "- Regular Expressions, also referred to as *regex* or *regexp* in conversation\n",
    "- Include a variety of rules for finding repetition, to text-matching, and much more\n",
    "- A lot of parsing problems can be solved with regular expressions\n",
    "- They are also a common interview question"
   ]
  },
  {
   "cell_type": "markdown",
   "metadata": {},
   "source": [
    "## <a id='toc1_'></a>Searching for Patterns in Text [&#8593;](#toc0_)"
   ]
  },
  {
   "attachments": {},
   "cell_type": "markdown",
   "metadata": {},
   "source": [
    "- **`re.search()`**\n",
    "  - Take the pattern, scan the text\n",
    "  - Returns a **`Match`** object\n",
    "  - If no pattern is found, a **`None`** is returned"
   ]
  },
  {
   "cell_type": "code",
   "execution_count": 1,
   "metadata": {},
   "outputs": [
    {
     "name": "stdout",
     "output_type": "stream",
     "text": [
      "Searching for term1 in: This is a string with term1, but it does not have the other term.\n",
      "...\n",
      "Match was found: \n",
      "<re.Match object; span=(22, 27), match='term1'>\n",
      "---------------------------------------------------------------------------\n",
      "Searching for term2 in: This is a string with term1, but it does not have the other term.\n",
      "...\n",
      "No Match was found: \n",
      "None\n",
      "---------------------------------------------------------------------------\n"
     ]
    }
   ],
   "source": [
    "import re\n",
    "\n",
    "# List of patterns to search for\n",
    "patterns: list[str] = [\"term1\", \"term2\"]\n",
    "\n",
    "# Text to parse\n",
    "text: str = \"This is a string with term1, but it does not have the other term.\"\n",
    "\n",
    "for pattern_to_search in patterns:\n",
    "    print(f\"Searching for {pattern_to_search} in: {text}\\n...\")\n",
    "\n",
    "    # Check for match: re.search(pattern, text)\n",
    "    if re.search(pattern_to_search, text):\n",
    "        print(\"Match was found: \")\n",
    "        print(re.search(pattern_to_search, text))\n",
    "        print(\"-\" * 75)\n",
    "    else:\n",
    "        print(\"No Match was found: \")\n",
    "        print(re.search(pattern_to_search, text))\n",
    "        print(\"-\" * 75)"
   ]
  },
  {
   "cell_type": "markdown",
   "metadata": {},
   "source": [
    "- This **Match** object returned by the `search()` method is more than just a Boolean or None\n",
    "- Has information about the match, including the original input string, the regular expression that was used, and the location of the match"
   ]
  },
  {
   "cell_type": "code",
   "execution_count": 2,
   "metadata": {},
   "outputs": [
    {
     "name": "stdout",
     "output_type": "stream",
     "text": [
      "<class 're.Match'>\n"
     ]
    }
   ],
   "source": [
    "import re\n",
    "from re import Match\n",
    "from typing import Optional\n",
    "\n",
    "# List of patterns to search for\n",
    "ptrn: str = \"term1\"\n",
    "\n",
    "# Text to parse\n",
    "text = \"This is a string with term1, but it does not have the other term.\"\n",
    "\n",
    "match: Optional[Match[str]] = re.search(ptrn, text)\n",
    "print(type(match))"
   ]
  },
  {
   "cell_type": "code",
   "execution_count": 3,
   "metadata": {},
   "outputs": [
    {
     "name": "stdout",
     "output_type": "stream",
     "text": [
      "Help on Match in module re object:\n",
      "\n",
      "class Match(builtins.object)\n",
      " |  The result of re.match() and re.search().\n",
      " |  Match objects always have a boolean value of True.\n",
      " |  \n",
      " |  Methods defined here:\n",
      " |  \n",
      " |  __copy__(self, /)\n",
      " |  \n",
      " |  __deepcopy__(self, memo, /)\n",
      " |  \n",
      " |  __getitem__(self, key, /)\n",
      " |      Return self[key].\n",
      " |  \n",
      " |  __repr__(self, /)\n",
      " |      Return repr(self).\n",
      " |  \n",
      " |  end(self, group=0, /)\n",
      " |      Return index of the end of the substring matched by group.\n",
      " |  \n",
      " |  expand(self, /, template)\n",
      " |      Return the string obtained by doing backslash substitution on the string template, as done by the sub() method.\n",
      " |  \n",
      " |  group(...)\n",
      " |      group([group1, ...]) -> str or tuple.\n",
      " |      Return subgroup(s) of the match by indices or names.\n",
      " |      For 0 returns the entire match.\n",
      " |  \n",
      " |  groupdict(self, /, default=None)\n",
      " |      Return a dictionary containing all the named subgroups of the match, keyed by the subgroup name.\n",
      " |      \n",
      " |      default\n",
      " |        Is used for groups that did not participate in the match.\n",
      " |  \n",
      " |  groups(self, /, default=None)\n",
      " |      Return a tuple containing all the subgroups of the match, from 1.\n",
      " |      \n",
      " |      default\n",
      " |        Is used for groups that did not participate in the match.\n",
      " |  \n",
      " |  span(self, group=0, /)\n",
      " |      For match object m, return the 2-tuple (m.start(group), m.end(group)).\n",
      " |  \n",
      " |  start(self, group=0, /)\n",
      " |      Return index of the start of the substring matched by group.\n",
      " |  \n",
      " |  ----------------------------------------------------------------------\n",
      " |  Class methods defined here:\n",
      " |  \n",
      " |  __class_getitem__(...) from builtins.type\n",
      " |      See PEP 585\n",
      " |  \n",
      " |  ----------------------------------------------------------------------\n",
      " |  Data descriptors defined here:\n",
      " |  \n",
      " |  endpos\n",
      " |      The index into the string beyond which the RE engine will not go.\n",
      " |  \n",
      " |  lastgroup\n",
      " |      The name of the last matched capturing group.\n",
      " |  \n",
      " |  lastindex\n",
      " |      The integer index of the last matched capturing group.\n",
      " |  \n",
      " |  pos\n",
      " |      The index into the string at which the RE engine started looking for a match.\n",
      " |  \n",
      " |  re\n",
      " |      The regular expression object.\n",
      " |  \n",
      " |  regs\n",
      " |  \n",
      " |  string\n",
      " |      The string passed to match() or search().\n",
      "\n"
     ]
    }
   ],
   "source": [
    "help(match)"
   ]
  },
  {
   "cell_type": "code",
   "execution_count": 4,
   "metadata": {},
   "outputs": [
    {
     "name": "stdout",
     "output_type": "stream",
     "text": [
      "22\n",
      "27\n"
     ]
    }
   ],
   "source": [
    "if match:\n",
    "    # Show start of match\n",
    "    print(match.start())\n",
    "\n",
    "    # Show end\n",
    "    print(match.end())"
   ]
  },
  {
   "cell_type": "markdown",
   "metadata": {},
   "source": [
    "## <a id='toc2_'></a>Split With Regular Expressions [&#8593;](#toc0_)"
   ]
  },
  {
   "attachments": {},
   "cell_type": "markdown",
   "metadata": {},
   "source": [
    "- `re.split()` returns a list with the term to split on removed\n",
    "- The terms in the list are a split-up version of the string"
   ]
  },
  {
   "cell_type": "code",
   "execution_count": 5,
   "metadata": {},
   "outputs": [
    {
     "name": "stdout",
     "output_type": "stream",
     "text": [
      "['What', 'is', 'the', 'domain', 'name', 'of', 'someone', 'with', 'the', 'email:', 'hello@gmail.com']\n"
     ]
    }
   ],
   "source": [
    "# Term to split on\n",
    "split_at_term: str = \" \"  # Each space\n",
    "phrase: str = \"What is the domain name of someone with the email: hello@gmail.com\"\n",
    "\n",
    "# Split the phrase\n",
    "print(re.split(split_at_term, phrase))"
   ]
  },
  {
   "attachments": {},
   "cell_type": "markdown",
   "metadata": {},
   "source": [
    "- This is similar to using `str.split()`"
   ]
  },
  {
   "cell_type": "code",
   "execution_count": 6,
   "metadata": {},
   "outputs": [
    {
     "name": "stdout",
     "output_type": "stream",
     "text": [
      "['What', 'is', 'the', 'domain', 'name', 'of', 'someone', 'with', 'the', 'email:', 'hello@gmail.com']\n"
     ]
    }
   ],
   "source": [
    "print(phrase.split(split_at_term))"
   ]
  },
  {
   "cell_type": "markdown",
   "metadata": {},
   "source": [
    "## <a id='toc3_'></a>Finding All Instances Of A Pattern [&#8593;](#toc0_)"
   ]
  },
  {
   "cell_type": "markdown",
   "metadata": {},
   "source": [
    "- Use `re.findall()` to find all the instances of a pattern in a string"
   ]
  },
  {
   "cell_type": "code",
   "execution_count": 7,
   "metadata": {},
   "outputs": [
    {
     "name": "stdout",
     "output_type": "stream",
     "text": [
      "['match', 'match']\n"
     ]
    }
   ],
   "source": [
    "# Returns a list of all matches\n",
    "cases: list[str] = re.findall(\"match\", \"test phrase match is in middle and match is close to the end.\")\n",
    "print(cases)"
   ]
  },
  {
   "cell_type": "code",
   "execution_count": 8,
   "metadata": {},
   "outputs": [
    {
     "name": "stdout",
     "output_type": "stream",
     "text": [
      "match 5\n"
     ]
    }
   ],
   "source": [
    "# Function to count the appearance of a specific text within a long string\n",
    "def count_appearance_in_text(to_find: str, long_text: str) -> int:\n",
    "    return len(re.findall(to_find, long_text))\n",
    "\n",
    "to_find = \"match\"\n",
    "text = \"test phrase match is in middle and match is close to the end. And here are more match, match, match!! math!\"\n",
    "print(\"match\", count_appearance_in_text(to_find, text))"
   ]
  },
  {
   "cell_type": "markdown",
   "metadata": {},
   "source": [
    "## <a id='toc4_'></a>Pattern `re` Syntax [&#8593;](#toc0_)"
   ]
  },
  {
   "cell_type": "markdown",
   "metadata": {},
   "source": [
    "- We can use *`metacharacters`* along with `re` to find specific types of patterns"
   ]
  },
  {
   "cell_type": "code",
   "execution_count": 9,
   "metadata": {},
   "outputs": [],
   "source": [
    "def multi_re_find(patterns: list[str], phrase: str) -> None:\n",
    "    \"\"\"Takes in a list of regex patterns and prints a list of all matches.\n",
    "\n",
    "    Args:\n",
    "        `patterns`: A list of regex patterns.\n",
    "        `phrase`: A list of all the matches.\n",
    "\n",
    "    Returns:\n",
    "        - `None`\n",
    "    \"\"\"\n",
    "    \n",
    "    for pattern in patterns:\n",
    "        print(f\"Searching the phrase using the re check: {pattern}\")\n",
    "        print(re.findall(pattern, phrase))\n",
    "        print(\"\\n\")"
   ]
  },
  {
   "cell_type": "markdown",
   "metadata": {},
   "source": [
    "### <a id='toc4_1_'></a>Repetition Syntax [&#8593;](#toc0_)"
   ]
  },
  {
   "attachments": {},
   "cell_type": "markdown",
   "metadata": {},
   "source": [
    "- There are 6 ways to express repetition in a pattern\n",
    "\n",
    "Meta-Character|Meaning|Example\n",
    ":-|:-|:-\n",
    "`*`|*Zero or more times*|`\"d*\"`\n",
    "`+`|*At least one or more times*|`\"d+\"`\n",
    "`?`|*Zero or one time*|`\"d?\"`\n",
    "`{m}`|*`m` times*|`\"d{4}\"`\n",
    "`{m,n}`|*At least `m` times but no more than `n` times*|`\"d{2,5}\"`\n",
    "`{m,}`|*At least `m` times or more*|`\"d{5,}\"`"
   ]
  },
  {
   "cell_type": "code",
   "execution_count": 10,
   "metadata": {},
   "outputs": [
    {
     "name": "stdout",
     "output_type": "stream",
     "text": [
      "Searching the phrase using the re check: sd*\n",
      "['sd', 'sd', 's', 's', 'sddd', 'sddd', 'sddd', 'sdd', 's', 's', 's', 's', 's', 's', 'sddddddd']\n",
      "\n",
      "\n",
      "Searching the phrase using the re check: sd+\n",
      "['sd', 'sd', 'sddd', 'sddd', 'sddd', 'sdd', 'sddddddd']\n",
      "\n",
      "\n",
      "Searching the phrase using the re check: sd?\n",
      "['sd', 'sd', 's', 's', 'sd', 'sd', 'sd', 'sd', 's', 's', 's', 's', 's', 's', 'sd']\n",
      "\n",
      "\n",
      "Searching the phrase using the re check: sd{3}\n",
      "['sddd', 'sddd', 'sddd', 'sddd']\n",
      "\n",
      "\n",
      "Searching the phrase using the re check: sd{2,3}\n",
      "['sddd', 'sddd', 'sddd', 'sdd', 'sddd']\n",
      "\n",
      "\n",
      "Searching the phrase using the re check: sd{3,}\n",
      "['sddd', 'sddd', 'sddd', 'sddddddd']\n",
      "\n",
      "\n",
      "Searching the phrase using the re check: sd{,3}\n",
      "['sd', 'sd', 's', 's', 'sddd', 'sddd', 'sddd', 'sdd', 's', 's', 's', 's', 's', 's', 'sddd']\n",
      "\n",
      "\n"
     ]
    }
   ],
   "source": [
    "test_phrase: str = \"sdsd..sssddd...sdddsddd...dsdds...dsssss...sddddddd\"\n",
    "test_patterns: list[str] = [\n",
    "    \"sd*\",      # s followed by zero or more d's: [0, ...]\n",
    "    \"sd+\",      # s followed by one or more d's: [1, ...]\n",
    "    \"sd?\",      # s followed by zero or one d's: [0, 1]\n",
    "    \"sd{3}\",    # s followed by n d's: [n]\n",
    "    \"sd{2,3}\",  # s followed by m to n d's: [m, n]\n",
    "    \"sd{3,}\",   # s followed by m or more d's: [m, ...]\n",
    "    \"sd{,3}\",   # s followed by zero or at most m d's: [0, ..., m]\n",
    "]\n",
    "\n",
    "multi_re_find(test_patterns, test_phrase)"
   ]
  },
  {
   "cell_type": "markdown",
   "metadata": {},
   "source": [
    "### <a id='toc4_2_'></a>Character Sets [&#8593;](#toc0_)"
   ]
  },
  {
   "cell_type": "markdown",
   "metadata": {},
   "source": [
    "- Used when you wish to match any one of a group of characters at a point in the input\n",
    "- Brackets are used to construct character set inputs"
   ]
  },
  {
   "cell_type": "code",
   "execution_count": 11,
   "metadata": {},
   "outputs": [
    {
     "name": "stdout",
     "output_type": "stream",
     "text": [
      "Searching the phrase using the re check: [sd]\n",
      "['s', 'd', 's', 'd', 's', 's', 's', 'd', 'd', 'd', 's', 'd', 'd', 'd', 's', 'd', 'd', 'd', 'd', 's', 'd', 's', 'd', 's', 's', 's', 's', 's', 's', 'd', 'd', 'd', 'd']\n",
      "\n",
      "\n",
      "Searching the phrase using the re check: s[sd]+\n",
      "['sdsd', 'sssddd', 'sdddsddd', 'sds', 'sssss', 'sdddd']\n",
      "\n",
      "\n"
     ]
    }
   ],
   "source": [
    "test_phrase = \"sdsd..sssddd...sdddsddd...dsds...dsssss...sdddd\"\n",
    "test_patterns = [\n",
    "    \"[sd]\",     # either s or d\n",
    "    \"s[sd]+\"    # s followed by one or more s or d\n",
    "]\n",
    "\n",
    "multi_re_find(test_patterns, test_phrase)"
   ]
  },
  {
   "cell_type": "markdown",
   "metadata": {},
   "source": [
    "### <a id='toc4_3_'></a>Exclusion [&#8593;](#toc0_)"
   ]
  },
  {
   "attachments": {},
   "cell_type": "markdown",
   "metadata": {},
   "source": [
    "- Use `^` to exclude terms by incorporating it into the bracket syntax notation\n",
    "- Use `[^!.? ]` to check for matches that are not either a `!`,`.`,`?`, or `space`\n",
    "- Add the `+` to check that the match appears at least once\n",
    "  - This basically translate into finding all the words"
   ]
  },
  {
   "cell_type": "code",
   "execution_count": 12,
   "metadata": {},
   "outputs": [
    {
     "name": "stdout",
     "output_type": "stream",
     "text": [
      "Searching the phrase using the re check: [^!.? ]+\n",
      "['This', 'is', 'a', 'string', 'But', 'it', 'has', 'punctuation', 'How', 'can', 'we', 'remove', 'them']\n",
      "\n",
      "\n"
     ]
    }
   ],
   "source": [
    "test_phrase = \"This is a string! But it has punctuation. How can we remove them?\"\n",
    "test_patterns = [\"[^!.? ]+\"]\n",
    "multi_re_find(test_patterns, test_phrase)"
   ]
  },
  {
   "cell_type": "markdown",
   "metadata": {},
   "source": [
    "### <a id='toc4_4_'></a>Character Ranges [&#8593;](#toc0_)"
   ]
  },
  {
   "attachments": {},
   "cell_type": "markdown",
   "metadata": {},
   "source": [
    "- As character sets grow larger, typing every character that should (or should not) match could become very tedious\n",
    "- A more compact format using character ranges allows to define a character set to include all of the contiguous characters between a start and stop point\n",
    "- The format used is `[start-end]`\n",
    "- Common use cases are to search for a specific range of letters in the alphabet"
   ]
  },
  {
   "cell_type": "code",
   "execution_count": 13,
   "metadata": {},
   "outputs": [
    {
     "name": "stdout",
     "output_type": "stream",
     "text": [
      "Searching the phrase using the re check: [a-z]+\n",
      "['hi', 'is', 'an', 'ex', 'mple', 'sen', 'ence', 'ets', 's', 'e', 'if', 'we', 'can', 'f', 'nd', 'so', 'e', 'letters']\n",
      "\n",
      "\n",
      "Searching the phrase using the re check: [A-Z]+\n",
      "['T', 'S', 'A', 'T', 'L', 'E', 'I', 'M']\n",
      "\n",
      "\n",
      "Searching the phrase using the re check: [a-zA-Z]+\n",
      "['ThiS', 'is', 'an', 'exAmple', 'senTence', 'Lets', 'sEe', 'if', 'we', 'can', 'fInd', 'soMe', 'letters']\n",
      "\n",
      "\n",
      "Searching the phrase using the re check: [A-Z][a-z]+\n",
      "['Thi', 'Ample', 'Tence', 'Lets', 'Ee', 'Ind', 'Me']\n",
      "\n",
      "\n"
     ]
    }
   ],
   "source": [
    "test_phrase = \"ThiS is an exAmple senTence. Lets sEe if we can fInd soMe letters.\"\n",
    "test_patterns = [\n",
    "    \"[a-z]+\",  # sequences of lower case letters\n",
    "    \"[A-Z]+\",  # sequences of upper case letters\n",
    "    \"[a-zA-Z]+\",  # sequences of lower or upper case letters\n",
    "    \"[A-Z][a-z]+\" # one upper case letter followed by lower case letters\n",
    "]\n",
    "\n",
    "multi_re_find(test_patterns, test_phrase)"
   ]
  },
  {
   "cell_type": "markdown",
   "metadata": {},
   "source": [
    "### <a id='toc4_5_'></a>Escape Codes [&#8593;](#toc0_)"
   ]
  },
  {
   "attachments": {},
   "cell_type": "markdown",
   "metadata": {},
   "source": [
    "- Use special escape codes to find specific types of patterns in data, such as digits, non-digits, whitespace, and more\n",
    "- Indicated by prefixing the character with a backslash (`\\`)\n",
    "- A backslash must itself be escaped in normal Python strings, and that results in expressions that are difficult to read\n",
    "- Using raw strings, created by prefixing the literal value with `r`, for creating regular expressions eliminates this problem and maintains readability\n",
    "\n",
    "Code|Meaning\n",
    ":-|:-\n",
    "`\\d`|A digit\n",
    "`\\D`|A non-digit\n",
    "`\\s`|Whitespace (tab, space, newline...)\n",
    "`\\S`|A non-whitespace\n",
    "`\\w`|Alphanumeric\n",
    "`\\W`|Non-alphanumeric"
   ]
  },
  {
   "cell_type": "code",
   "execution_count": 14,
   "metadata": {},
   "outputs": [
    {
     "name": "stdout",
     "output_type": "stream",
     "text": [
      "Searching the phrase using the re check: \\d+\n",
      "['1233']\n",
      "\n",
      "\n",
      "Searching the phrase using the re check: \\D+\n",
      "['This is a string with some numbers ', ' and a symbol #hashtag']\n",
      "\n",
      "\n",
      "Searching the phrase using the re check: \\s+\n",
      "[' ', ' ', ' ', ' ', ' ', ' ', ' ', ' ', ' ', ' ', ' ']\n",
      "\n",
      "\n",
      "Searching the phrase using the re check: \\S+\n",
      "['This', 'is', 'a', 'string', 'with', 'some', 'numbers', '1233', 'and', 'a', 'symbol', '#hashtag']\n",
      "\n",
      "\n",
      "Searching the phrase using the re check: \\w+\n",
      "['This', 'is', 'a', 'string', 'with', 'some', 'numbers', '1233', 'and', 'a', 'symbol', 'hashtag']\n",
      "\n",
      "\n",
      "Searching the phrase using the re check: \\W+\n",
      "[' ', ' ', ' ', ' ', ' ', ' ', ' ', ' ', ' ', ' ', ' #']\n",
      "\n",
      "\n"
     ]
    }
   ],
   "source": [
    "test_phrase = \"This is a string with some numbers 1233 and a symbol #hashtag\"\n",
    "test_patterns = [\n",
    "    r\"\\d+\",  # sequence of digits\n",
    "    r\"\\D+\",  # sequence of non-digits\n",
    "    r\"\\s+\",  # sequence of whitespace\n",
    "    r\"\\S+\",  # sequence of non-whitespace\n",
    "    r\"\\w+\",  # alphanumeric characters\n",
    "    r\"\\W+\",  # non-alphanumeric\n",
    "]\n",
    "\n",
    "multi_re_find(test_patterns, test_phrase)"
   ]
  }
 ],
 "metadata": {
  "kernelspec": {
   "display_name": "Python 3",
   "language": "python",
   "name": "python3"
  },
  "language_info": {
   "codemirror_mode": {
    "name": "ipython",
    "version": 3
   },
   "file_extension": ".py",
   "mimetype": "text/x-python",
   "name": "python",
   "nbconvert_exporter": "python",
   "pygments_lexer": "ipython3",
   "version": "3.11.2"
  },
  "toc": {
   "base_numbering": 1,
   "nav_menu": {},
   "number_sections": true,
   "sideBar": true,
   "skip_h1_title": true,
   "title_cell": "Table of Contents",
   "title_sidebar": "Contents",
   "toc_cell": true,
   "toc_position": {},
   "toc_section_display": true,
   "toc_window_display": true
  },
  "vscode": {
   "interpreter": {
    "hash": "e38d5ae9d43e96fdce0082e34c9838c3d789b62a82d1e49c916cf5543b217821"
   }
  }
 },
 "nbformat": 4,
 "nbformat_minor": 4
}
