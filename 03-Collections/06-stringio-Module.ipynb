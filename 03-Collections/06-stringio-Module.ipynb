{
 "cells": [
  {
   "cell_type": "markdown",
   "metadata": {},
   "source": [
    "# `StringIO` Module\n",
    "---"
   ]
  },
  {
   "cell_type": "markdown",
   "metadata": {},
   "source": [
    "**Table of Contents**<a id='toc0_'></a>    \n",
    "\n",
    "<!-- vscode-jupyter-toc-config\n",
    "\tnumbering=false\n",
    "\tanchor=true\n",
    "\tflat=false\n",
    "\tminLevel=2\n",
    "\tmaxLevel=6\n",
    "\t/vscode-jupyter-toc-config -->\n",
    "<!-- THIS CELL WILL BE REPLACED ON TOC UPDATE. DO NOT WRITE YOUR TEXT IN THIS CELL -->"
   ]
  },
  {
   "attachments": {},
   "cell_type": "markdown",
   "metadata": {},
   "source": [
    "---"
   ]
  },
  {
   "cell_type": "markdown",
   "metadata": {},
   "source": [
    "- An in-memory file like object\n",
    "- Can be used as input or output to most functions that would expect a standard file object\n",
    "- Import the `io` module and use `io.StringIO` or `io.BytesIO` for text and data respectively\n",
    "- This kind of action has various use cases, especially in web scraping cases where you want to read some string you scraped as a file"
   ]
  },
  {
   "cell_type": "code",
   "execution_count": 1,
   "metadata": {},
   "outputs": [
    {
     "name": "stdout",
     "output_type": "stream",
     "text": [
      "f.read(): This is just a normal string.\n"
     ]
    }
   ],
   "source": [
    "from io import StringIO\n",
    "\n",
    "# Arbitrary String\n",
    "message: str = \"This is just a normal string.\"\n",
    "\n",
    "# Use StringIO method to set as file object\n",
    "f: StringIO = StringIO(message)\n",
    "\n",
    "# Now we have an object `f` that we will be able to treat just like a file\n",
    "print(\"f.read():\", f.read())"
   ]
  },
  {
   "cell_type": "code",
   "execution_count": 2,
   "metadata": {},
   "outputs": [
    {
     "name": "stdout",
     "output_type": "stream",
     "text": [
      "Writing to file...\n",
      "f.read(): This is just a normal string.\n",
      "Second line written to file-like object\n"
     ]
    }
   ],
   "source": [
    "# We can also write to it:\n",
    "print(\"Writing to file...\")\n",
    "f.write(\"\\nSecond line written to file-like object\")\n",
    "\n",
    "# Reset cursor just like you would a file\n",
    "f.seek(0)\n",
    "# Read again\n",
    "print(\"f.read():\", f.read())"
   ]
  }
 ],
 "metadata": {
  "kernelspec": {
   "display_name": "Python 3",
   "language": "python",
   "name": "python3"
  },
  "language_info": {
   "codemirror_mode": {
    "name": "ipython",
    "version": 3
   },
   "file_extension": ".py",
   "mimetype": "text/x-python",
   "name": "python",
   "nbconvert_exporter": "python",
   "pygments_lexer": "ipython3",
   "version": "3.11.2"
  },
  "toc": {
   "base_numbering": 1,
   "nav_menu": {},
   "number_sections": true,
   "sideBar": true,
   "skip_h1_title": true,
   "title_cell": "Table of Contents",
   "title_sidebar": "Contents",
   "toc_cell": true,
   "toc_position": {},
   "toc_section_display": true,
   "toc_window_display": true
  },
  "vscode": {
   "interpreter": {
    "hash": "e38d5ae9d43e96fdce0082e34c9838c3d789b62a82d1e49c916cf5543b217821"
   }
  }
 },
 "nbformat": 4,
 "nbformat_minor": 4
}
