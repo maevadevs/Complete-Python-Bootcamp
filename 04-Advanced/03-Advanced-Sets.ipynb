{
 "cells": [
  {
   "cell_type": "markdown",
   "metadata": {},
   "source": [
    "# Advanced Sets\n",
    "---"
   ]
  },
  {
   "cell_type": "markdown",
   "metadata": {},
   "source": [
    "**Table of Contents**<a id='toc0_'></a>    \n",
    "- [`set.add()`](#toc1_)    \n",
    "- [`set.clear()`](#toc2_)    \n",
    "- [`set.copy()`](#toc3_)    \n",
    "- [`set.difference(set2)`](#toc4_)    \n",
    "- [`set.difference_update(set2)`](#toc5_)    \n",
    "- [`set.discard(el)`](#toc6_)    \n",
    "- [`set.intersection()` and `set.intersection_update()`](#toc7_)    \n",
    "- [`set.isdisjoint()`](#toc8_)    \n",
    "- [`set.issubset()`](#toc9_)    \n",
    "- [`set.issuperset()`](#toc10_)    \n",
    "- [`set.symmetric_difference()` and `set.symmetric_update()`](#toc11_)    \n",
    "- [`set.union()`](#toc12_)    \n",
    "- [`set.update()`](#toc13_)    \n",
    "\n",
    "<!-- vscode-jupyter-toc-config\n",
    "\tnumbering=false\n",
    "\tanchor=true\n",
    "\tflat=false\n",
    "\tminLevel=2\n",
    "\tmaxLevel=6\n",
    "\t/vscode-jupyter-toc-config -->\n",
    "<!-- THIS CELL WILL BE REPLACED ON TOC UPDATE. DO NOT WRITE YOUR TEXT IN THIS CELL -->"
   ]
  },
  {
   "attachments": {},
   "cell_type": "markdown",
   "metadata": {},
   "source": [
    "---"
   ]
  },
  {
   "cell_type": "code",
   "execution_count": 1,
   "metadata": {},
   "outputs": [],
   "source": [
    "my_set: set[int] = set()"
   ]
  },
  {
   "cell_type": "markdown",
   "metadata": {},
   "source": [
    "## <a id='toc1_'></a>`set.add()` [&#8593;](#toc0_)"
   ]
  },
  {
   "attachments": {},
   "cell_type": "markdown",
   "metadata": {},
   "source": [
    "- Add elements to a set\n",
    "- A set will not take duplicate elements and only present them once"
   ]
  },
  {
   "cell_type": "code",
   "execution_count": 2,
   "metadata": {},
   "outputs": [
    {
     "name": "stdout",
     "output_type": "stream",
     "text": [
      "my_set.add(3): {1, 2, 3}\n",
      "my_set.add(1): {1, 2, 3}\n"
     ]
    }
   ],
   "source": [
    "my_set.add(1)\n",
    "my_set.add(2)\n",
    "my_set.add(3)\n",
    "print(\"my_set.add(3):\", my_set)\n",
    "\n",
    "my_set.add(1)\n",
    "print(\"my_set.add(1):\", my_set)"
   ]
  },
  {
   "cell_type": "markdown",
   "metadata": {},
   "source": [
    "## <a id='toc2_'></a>`set.clear()` [&#8593;](#toc0_)"
   ]
  },
  {
   "cell_type": "markdown",
   "metadata": {},
   "source": [
    "- Removes all elements from the set"
   ]
  },
  {
   "cell_type": "code",
   "execution_count": 3,
   "metadata": {},
   "outputs": [
    {
     "name": "stdout",
     "output_type": "stream",
     "text": [
      "my_set.clear(): set()\n"
     ]
    }
   ],
   "source": [
    "my_set.clear()\n",
    "print(\"my_set.clear():\", my_set)"
   ]
  },
  {
   "cell_type": "markdown",
   "metadata": {},
   "source": [
    "## <a id='toc3_'></a>`set.copy()` [&#8593;](#toc0_)"
   ]
  },
  {
   "attachments": {},
   "cell_type": "markdown",
   "metadata": {},
   "source": [
    "- Returns a copy of the set\n",
    "- It is a copy by value, so changes to the original does not effect the copy"
   ]
  },
  {
   "cell_type": "code",
   "execution_count": 4,
   "metadata": {},
   "outputs": [
    {
     "name": "stdout",
     "output_type": "stream",
     "text": [
      "my_set: {1, 2, 3}\n",
      "my_set_copy: {1, 2, 3}\n",
      "my_set.add(4): {1, 2, 3, 4}\n",
      "my_set_copy: {1, 2, 3}\n"
     ]
    }
   ],
   "source": [
    "my_set = {1, 2, 3}\n",
    "my_set_copy = my_set.copy()\n",
    "print(\"my_set:\", my_set)\n",
    "print(\"my_set_copy:\", my_set_copy)\n",
    "\n",
    "my_set.add(4)\n",
    "print(\"my_set.add(4):\", my_set)\n",
    "print(\"my_set_copy:\", my_set_copy)"
   ]
  },
  {
   "cell_type": "markdown",
   "metadata": {},
   "source": [
    "## <a id='toc4_'></a>`set.difference(set2)` [&#8593;](#toc0_)"
   ]
  },
  {
   "cell_type": "markdown",
   "metadata": {},
   "source": [
    "- Returns the difference of two or more sets"
   ]
  },
  {
   "cell_type": "code",
   "execution_count": 5,
   "metadata": {},
   "outputs": [
    {
     "name": "stdout",
     "output_type": "stream",
     "text": [
      "my_set.difference(my_set_copy): {4}\n"
     ]
    }
   ],
   "source": [
    "print(\"my_set.difference(my_set_copy):\", my_set.difference(my_set_copy))"
   ]
  },
  {
   "cell_type": "markdown",
   "metadata": {},
   "source": [
    "## <a id='toc5_'></a>`set.difference_update(set2)` [&#8593;](#toc0_)"
   ]
  },
  {
   "cell_type": "markdown",
   "metadata": {},
   "source": [
    "- The method changes `set` after removing elements found in `set2`\n",
    "- The left-hand operator gets changed. The right-hand is the value to substract"
   ]
  },
  {
   "cell_type": "code",
   "execution_count": 6,
   "metadata": {},
   "outputs": [
    {
     "name": "stdout",
     "output_type": "stream",
     "text": [
      "set1: {1, 2, 3}\n",
      "set2: {1, 4, 5}\n",
      "set1.difference_update(set2)\n",
      "set1 after: {2, 3}\n",
      "set2 after: {1, 4, 5}\n"
     ]
    }
   ],
   "source": [
    "set1: set[int] = {1, 2, 3}\n",
    "set2: set[int] = {1, 4, 5}\n",
    "\n",
    "print(\"set1:\", set1)\n",
    "print(\"set2:\", set2)\n",
    "\n",
    "print(\"set1.difference_update(set2)\")\n",
    "set1.difference_update(set2)\n",
    "\n",
    "print(\"set1 after:\", set1)\n",
    "print(\"set2 after:\", set2)"
   ]
  },
  {
   "cell_type": "markdown",
   "metadata": {},
   "source": [
    "## <a id='toc6_'></a>`set.discard(el)` [&#8593;](#toc0_)"
   ]
  },
  {
   "cell_type": "markdown",
   "metadata": {},
   "source": [
    "- Removes an element from a set if it is a member\n",
    "- If the element is not a member, do nothing"
   ]
  },
  {
   "cell_type": "code",
   "execution_count": 7,
   "metadata": {},
   "outputs": [
    {
     "name": "stdout",
     "output_type": "stream",
     "text": [
      "my_set: {1, 2, 3, 4}\n",
      "my_set.discard(2)\n",
      "my_set after: {1, 3, 4}\n"
     ]
    }
   ],
   "source": [
    "my_set = {1, 2, 3, 4}\n",
    "print(\"my_set:\", my_set)\n",
    "print(\"my_set.discard(2)\")\n",
    "my_set.discard(2)\n",
    "print(\"my_set after:\", my_set)"
   ]
  },
  {
   "cell_type": "markdown",
   "metadata": {},
   "source": [
    "## <a id='toc7_'></a>`set.intersection()` and `set.intersection_update()` [&#8593;](#toc0_)"
   ]
  },
  {
   "cell_type": "markdown",
   "metadata": {},
   "source": [
    "- Returns the intersection of two or more sets as a new set\n",
    "- i.e. elements that are common to all of the sets"
   ]
  },
  {
   "cell_type": "code",
   "execution_count": 8,
   "metadata": {},
   "outputs": [
    {
     "name": "stdout",
     "output_type": "stream",
     "text": [
      "s1: {1, 2, 3, 4}\n",
      "s2: {1, 2, 4, 5}\n",
      "s1.intersection(s2): {1, 2, 4}\n",
      "s1: {1, 2, 3, 4}\n"
     ]
    }
   ],
   "source": [
    "s1: set[int] = {1, 2, 3, 4}\n",
    "s2: set[int] = {1, 2, 4, 5}\n",
    "\n",
    "print(\"s1:\", s1)\n",
    "print(\"s2:\", s2)\n",
    "print(\"s1.intersection(s2):\", s1.intersection(s2))\n",
    "print(\"s1:\", s1)"
   ]
  },
  {
   "cell_type": "markdown",
   "metadata": {},
   "source": [
    "- `intersection_update()` will update a set with the intersection of itself and another"
   ]
  },
  {
   "cell_type": "code",
   "execution_count": 9,
   "metadata": {},
   "outputs": [
    {
     "name": "stdout",
     "output_type": "stream",
     "text": [
      "s1.intersection_update(s2)\n",
      "s1: {1, 2, 4}\n",
      "s2: {1, 2, 4, 5}\n"
     ]
    }
   ],
   "source": [
    "print(\"s1.intersection_update(s2)\")\n",
    "s1.intersection_update(s2)\n",
    "print(\"s1:\", s1)\n",
    "print(\"s2:\", s2)"
   ]
  },
  {
   "cell_type": "markdown",
   "metadata": {},
   "source": [
    "## <a id='toc8_'></a>`set.isdisjoint()` [&#8593;](#toc0_)"
   ]
  },
  {
   "cell_type": "markdown",
   "metadata": {},
   "source": [
    "- Return True if two sets have a null intersection"
   ]
  },
  {
   "cell_type": "code",
   "execution_count": 10,
   "metadata": {},
   "outputs": [
    {
     "name": "stdout",
     "output_type": "stream",
     "text": [
      "s1: {1, 2}\n",
      "s2: {1, 2, 4}\n",
      "s3: {5}\n",
      "s1.isdisjoint(s2): False\n",
      "s1.isdisjoint(s3): True\n"
     ]
    }
   ],
   "source": [
    "s1 = {1, 2}\n",
    "s2 = {1, 2, 4}\n",
    "s3: set[int] = {5}\n",
    "\n",
    "print(\"s1:\", s1)\n",
    "print(\"s2:\", s2)\n",
    "print(\"s3:\", s3)\n",
    "print(\"s1.isdisjoint(s2):\", s1.isdisjoint(s2))\n",
    "print(\"s1.isdisjoint(s3):\", s1.isdisjoint(s3))"
   ]
  },
  {
   "cell_type": "markdown",
   "metadata": {},
   "source": [
    "## <a id='toc9_'></a>`set.issubset()` [&#8593;](#toc0_)"
   ]
  },
  {
   "cell_type": "markdown",
   "metadata": {},
   "source": [
    "- Reports whether another set contains this set"
   ]
  },
  {
   "cell_type": "code",
   "execution_count": 11,
   "metadata": {},
   "outputs": [
    {
     "name": "stdout",
     "output_type": "stream",
     "text": [
      "s1: {1, 2}\n",
      "s2: {1, 2, 4}\n",
      "s1.issubset(s2): True\n"
     ]
    }
   ],
   "source": [
    "print(\"s1:\", s1)\n",
    "print(\"s2:\", s2)\n",
    "print(\"s1.issubset(s2):\", s1.issubset(s2))"
   ]
  },
  {
   "cell_type": "markdown",
   "metadata": {},
   "source": [
    "## <a id='toc10_'></a>`set.issuperset()` [&#8593;](#toc0_)"
   ]
  },
  {
   "cell_type": "markdown",
   "metadata": {},
   "source": [
    "- Report whether this set contains another set"
   ]
  },
  {
   "cell_type": "code",
   "execution_count": 12,
   "metadata": {},
   "outputs": [
    {
     "name": "stdout",
     "output_type": "stream",
     "text": [
      "s2.issuperset(s1): True\n"
     ]
    }
   ],
   "source": [
    "print(\"s2.issuperset(s1):\", s2.issuperset(s1))"
   ]
  },
  {
   "cell_type": "markdown",
   "metadata": {},
   "source": [
    "## <a id='toc11_'></a>`set.symmetric_difference()` and `set.symmetric_update()` [&#8593;](#toc0_)"
   ]
  },
  {
   "cell_type": "markdown",
   "metadata": {},
   "source": [
    "- Return the symmetric difference of two sets as a new set\n",
    "- i.e. all elements that are in exactly one of the sets"
   ]
  },
  {
   "cell_type": "code",
   "execution_count": 13,
   "metadata": {},
   "outputs": [
    {
     "name": "stdout",
     "output_type": "stream",
     "text": [
      "s1: {1, 2}\n",
      "s2: {1, 2, 4}\n",
      "s1.symmetric_difference(s2): {4}\n",
      "s1: {1, 2}\n",
      "s2: {1, 2, 4}\n",
      "s1.symmetric_difference_update(s2)\n",
      "s1: {4}\n",
      "s2: {1, 2, 4}\n"
     ]
    }
   ],
   "source": [
    "print(\"s1:\", s1)\n",
    "print(\"s2:\", s2)\n",
    "print(\"s1.symmetric_difference(s2):\", s1.symmetric_difference(s2))\n",
    "print(\"s1:\", s1)\n",
    "print(\"s2:\", s2)\n",
    "print(\"s1.symmetric_difference_update(s2)\")\n",
    "s1.symmetric_difference_update(s2)\n",
    "print(\"s1:\", s1)\n",
    "print(\"s2:\", s2)"
   ]
  },
  {
   "cell_type": "markdown",
   "metadata": {},
   "source": [
    "## <a id='toc12_'></a>`set.union()` [&#8593;](#toc0_)"
   ]
  },
  {
   "cell_type": "markdown",
   "metadata": {},
   "source": [
    "- Returns the union of two sets\n",
    "- i.e. all elements that are in either set"
   ]
  },
  {
   "cell_type": "code",
   "execution_count": 14,
   "metadata": {},
   "outputs": [
    {
     "name": "stdout",
     "output_type": "stream",
     "text": [
      "s1: {1, 2, 5}\n",
      "s2: {1, 2, 4}\n",
      "s1.union(s2): {1, 2, 4, 5}\n"
     ]
    }
   ],
   "source": [
    "s1 = {1, 2, 5}\n",
    "s2 = {1, 2, 4}\n",
    "print(\"s1:\", s1)\n",
    "print(\"s2:\", s2)\n",
    "print(\"s1.union(s2):\", s1.union(s2))"
   ]
  },
  {
   "cell_type": "markdown",
   "metadata": {},
   "source": [
    "## <a id='toc13_'></a>`set.update()` [&#8593;](#toc0_)"
   ]
  },
  {
   "cell_type": "markdown",
   "metadata": {},
   "source": [
    "- Update a set with the union of itself and others"
   ]
  },
  {
   "cell_type": "code",
   "execution_count": 15,
   "metadata": {},
   "outputs": [
    {
     "name": "stdout",
     "output_type": "stream",
     "text": [
      "s1: {1, 2, 5}\n",
      "s2: {1, 2, 4}\n",
      "s1.update(s2)\n",
      "s1: {1, 2, 4, 5}\n"
     ]
    }
   ],
   "source": [
    "s1 = {1, 2, 5}\n",
    "s2 = {1, 2, 4}\n",
    "print(\"s1:\", s1)\n",
    "print(\"s2:\", s2)\n",
    "print(\"s1.update(s2)\")\n",
    "s1.update(s2)\n",
    "print(\"s1:\", s1)"
   ]
  }
 ],
 "metadata": {
  "kernelspec": {
   "display_name": "Python 3",
   "language": "python",
   "name": "python3"
  },
  "language_info": {
   "codemirror_mode": {
    "name": "ipython",
    "version": 3
   },
   "file_extension": ".py",
   "mimetype": "text/x-python",
   "name": "python",
   "nbconvert_exporter": "python",
   "pygments_lexer": "ipython3",
   "version": "3.11.2"
  },
  "toc": {
   "base_numbering": 1,
   "nav_menu": {},
   "number_sections": true,
   "sideBar": true,
   "skip_h1_title": true,
   "title_cell": "Table of Contents",
   "title_sidebar": "Contents",
   "toc_cell": true,
   "toc_position": {},
   "toc_section_display": true,
   "toc_window_display": true
  },
  "vscode": {
   "interpreter": {
    "hash": "e38d5ae9d43e96fdce0082e34c9838c3d789b62a82d1e49c916cf5543b217821"
   }
  }
 },
 "nbformat": 4,
 "nbformat_minor": 4
}
