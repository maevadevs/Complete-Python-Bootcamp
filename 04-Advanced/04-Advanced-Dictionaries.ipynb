{
 "cells": [
  {
   "cell_type": "markdown",
   "metadata": {},
   "source": [
    "# Advanced Dictionaries\n",
    "---"
   ]
  },
  {
   "cell_type": "markdown",
   "metadata": {},
   "source": [
    "**Table of Contents**<a id='toc0_'></a>    \n",
    "- [Dictionary Comprehension](#toc1_)    \n",
    "- [Iteration of Keys, Values, Items](#toc2_)    \n",
    "\n",
    "<!-- vscode-jupyter-toc-config\n",
    "\tnumbering=false\n",
    "\tanchor=true\n",
    "\tflat=false\n",
    "\tminLevel=2\n",
    "\tmaxLevel=6\n",
    "\t/vscode-jupyter-toc-config -->\n",
    "<!-- THIS CELL WILL BE REPLACED ON TOC UPDATE. DO NOT WRITE YOUR TEXT IN THIS CELL -->"
   ]
  },
  {
   "attachments": {},
   "cell_type": "markdown",
   "metadata": {},
   "source": [
    "---"
   ]
  },
  {
   "cell_type": "markdown",
   "metadata": {},
   "source": [
    "## <a id='toc1_'></a>Dictionary Comprehension [&#8593;](#toc0_)"
   ]
  },
  {
   "cell_type": "code",
   "execution_count": 1,
   "metadata": {},
   "outputs": [
    {
     "name": "stdout",
     "output_type": "stream",
     "text": [
      "my_dict_square: {0: 0, 1: 1, 2: 4, 3: 9, 4: 16, 5: 25, 6: 36, 7: 49, 8: 64, 9: 81}\n",
      "my_dict_off_one: {0: 0, 1: 0, 2: 1, 3: 2, 4: 3, 5: 4, 6: 5, 7: 6, 8: 7, 9: 8}\n"
     ]
    }
   ],
   "source": [
    "my_dict_square: dict[int, int] = { n: n**2 for n in range(10) }\n",
    "my_dict_off_one: dict[int, int] = { n: n - 1 if n > 0 else n for n in range(10) }\n",
    "print(\"my_dict_square:\", my_dict_square)\n",
    "print(\"my_dict_off_one:\", my_dict_off_one)"
   ]
  },
  {
   "cell_type": "markdown",
   "metadata": {},
   "source": [
    "## <a id='toc2_'></a>Iteration of Keys, Values, Items [&#8593;](#toc0_)"
   ]
  },
  {
   "cell_type": "code",
   "execution_count": 2,
   "metadata": {},
   "outputs": [
    {
     "name": "stdout",
     "output_type": "stream",
     "text": [
      "dict: {'k1': 100, 'k2': 200}\n",
      "Keys:\n",
      "- k1\n",
      "- k2\n",
      "Values:\n",
      "- 100\n",
      "- 200\n",
      "Items:\n",
      "- ('k1', 100)\n",
      "- ('k2', 200)\n"
     ]
    }
   ],
   "source": [
    "d: dict[str, int] = {\n",
    "    \"k1\": 100, \n",
    "    \"k2\": 200\n",
    "}\n",
    "print(\"dict:\", d)\n",
    "\n",
    "print(\"Keys:\")\n",
    "for k in d.keys(): # Same as \"for k in d\"\n",
    "    print(\"-\", k)\n",
    "\n",
    "print(\"Values:\")\n",
    "for v in d.values():\n",
    "    print(\"-\", v)\n",
    "\n",
    "print(\"Items:\")\n",
    "for item in d.items():\n",
    "    print(\"-\", item)"
   ]
  }
 ],
 "metadata": {
  "kernelspec": {
   "display_name": "Python 3",
   "language": "python",
   "name": "python3"
  },
  "language_info": {
   "codemirror_mode": {
    "name": "ipython",
    "version": 3
   },
   "file_extension": ".py",
   "mimetype": "text/x-python",
   "name": "python",
   "nbconvert_exporter": "python",
   "pygments_lexer": "ipython3",
   "version": "3.11.2"
  },
  "toc": {
   "base_numbering": 1,
   "nav_menu": {},
   "number_sections": true,
   "sideBar": true,
   "skip_h1_title": true,
   "title_cell": "Table of Contents",
   "title_sidebar": "Contents",
   "toc_cell": true,
   "toc_position": {},
   "toc_section_display": true,
   "toc_window_display": true
  },
  "vscode": {
   "interpreter": {
    "hash": "e38d5ae9d43e96fdce0082e34c9838c3d789b62a82d1e49c916cf5543b217821"
   }
  }
 },
 "nbformat": 4,
 "nbformat_minor": 4
}
