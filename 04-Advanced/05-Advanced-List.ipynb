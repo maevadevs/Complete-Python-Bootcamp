{
 "cells": [
  {
   "cell_type": "markdown",
   "metadata": {},
   "source": [
    "# Advanced List\n",
    "---"
   ]
  },
  {
   "cell_type": "markdown",
   "metadata": {},
   "source": [
    "**Table of Contents**<a id='toc0_'></a>    \n",
    "- [`lst.append(el)`](#toc1_)    \n",
    "- [`lst.count(el)`](#toc2_)    \n",
    "- [`lst.extend(iterable)`](#toc3_)    \n",
    "- [`lst.index(el)`](#toc4_)    \n",
    "- [`lst.insert(index, object)`](#toc5_)    \n",
    "- [`lst.pop([index])`](#toc6_)    \n",
    "- [`lst.remove(el)`](#toc7_)    \n",
    "- [`lst.reverse()`](#toc8_)    \n",
    "- [`lst.sort()`](#toc9_)    \n",
    "\n",
    "<!-- vscode-jupyter-toc-config\n",
    "\tnumbering=false\n",
    "\tanchor=true\n",
    "\tflat=false\n",
    "\tminLevel=2\n",
    "\tmaxLevel=6\n",
    "\t/vscode-jupyter-toc-config -->\n",
    "<!-- THIS CELL WILL BE REPLACED ON TOC UPDATE. DO NOT WRITE YOUR TEXT IN THIS CELL -->"
   ]
  },
  {
   "attachments": {},
   "cell_type": "markdown",
   "metadata": {},
   "source": [
    "---"
   ]
  },
  {
   "cell_type": "code",
   "execution_count": 1,
   "metadata": {},
   "outputs": [
    {
     "name": "stdout",
     "output_type": "stream",
     "text": [
      "lst: [1, 2, 3, 4]\n"
     ]
    }
   ],
   "source": [
    "lst: list[int] = [1, 2, 3, 4]\n",
    "print(\"lst:\", lst)"
   ]
  },
  {
   "cell_type": "markdown",
   "metadata": {},
   "source": [
    "## <a id='toc1_'></a>`lst.append(el)` [&#8593;](#toc0_)"
   ]
  },
  {
   "cell_type": "markdown",
   "metadata": {},
   "source": [
    "- Appends an element to the end of a list"
   ]
  },
  {
   "cell_type": "code",
   "execution_count": 2,
   "metadata": {},
   "outputs": [
    {
     "name": "stdout",
     "output_type": "stream",
     "text": [
      "lst.append(5): [1, 2, 3, 4, 5]\n"
     ]
    }
   ],
   "source": [
    "lst.append(5)\n",
    "print(\"lst.append(5):\", lst)"
   ]
  },
  {
   "cell_type": "markdown",
   "metadata": {},
   "source": [
    "## <a id='toc2_'></a>`lst.count(el)` [&#8593;](#toc0_)"
   ]
  },
  {
   "cell_type": "markdown",
   "metadata": {},
   "source": [
    "- Returns the number of times the element occurs in the list"
   ]
  },
  {
   "cell_type": "code",
   "execution_count": 3,
   "metadata": {},
   "outputs": [
    {
     "name": "stdout",
     "output_type": "stream",
     "text": [
      "lst.count(10): 0\n",
      "lst.count(5): 1\n"
     ]
    }
   ],
   "source": [
    "print(\"lst.count(10):\", lst.count(10))\n",
    "print(\"lst.count(5):\", lst.count(5))"
   ]
  },
  {
   "cell_type": "markdown",
   "metadata": {},
   "source": [
    "## <a id='toc3_'></a>`lst.extend(iterable)` [&#8593;](#toc0_)"
   ]
  },
  {
   "cell_type": "markdown",
   "metadata": {},
   "source": [
    "- `append`: Appends object at end\n",
    "- `extend`: Extends list by appending elements from an iterable"
   ]
  },
  {
   "cell_type": "code",
   "execution_count": 4,
   "metadata": {},
   "outputs": [
    {
     "name": "stdout",
     "output_type": "stream",
     "text": [
      "lst.extend([6, 7, 8]): [1, 2, 3, 4, 5, 6, 7, 8]\n"
     ]
    }
   ],
   "source": [
    "lst.extend([6, 7, 8])\n",
    "print(\"lst.extend([6, 7, 8]):\", lst)"
   ]
  },
  {
   "cell_type": "markdown",
   "metadata": {},
   "source": [
    "## <a id='toc4_'></a>`lst.index(el)` [&#8593;](#toc0_)"
   ]
  },
  {
   "cell_type": "markdown",
   "metadata": {},
   "source": [
    "- Return the index of whatever element is placed as an argument\n",
    "- If the the element is not in the list, an error is returned"
   ]
  },
  {
   "cell_type": "code",
   "execution_count": 5,
   "metadata": {},
   "outputs": [
    {
     "name": "stdout",
     "output_type": "stream",
     "text": [
      "lst.index(2): 1\n",
      "lst.index(12): 12 is not in list\n"
     ]
    }
   ],
   "source": [
    "print(\"lst.index(2):\", lst.index(2))\n",
    "\n",
    "try:\n",
    "    lst.index(12) # Will need to be caught and handled\n",
    "except Exception as e:\n",
    "    print(\"lst.index(12):\", e)"
   ]
  },
  {
   "cell_type": "markdown",
   "metadata": {},
   "source": [
    "## <a id='toc5_'></a>`lst.insert(index, object)` [&#8593;](#toc0_)"
   ]
  },
  {
   "cell_type": "markdown",
   "metadata": {},
   "source": [
    "- Places the object at the index supplied"
   ]
  },
  {
   "cell_type": "code",
   "execution_count": 6,
   "metadata": {},
   "outputs": [
    {
     "name": "stdout",
     "output_type": "stream",
     "text": [
      "lst: [1, 2, 3, 4, 5, 6, 7, 8]\n",
      "lst.insert(2, 22): [1, 2, 22, 3, 4, 5, 6, 7, 8]\n"
     ]
    }
   ],
   "source": [
    "print(\"lst:\", lst)\n",
    "lst.insert(2, 22)\n",
    "print(\"lst.insert(2, 22):\", lst)"
   ]
  },
  {
   "cell_type": "markdown",
   "metadata": {},
   "source": [
    "## <a id='toc6_'></a>`lst.pop([index])` [&#8593;](#toc0_)"
   ]
  },
  {
   "cell_type": "markdown",
   "metadata": {},
   "source": [
    "- \"pop\" off the last element of a list\n",
    "- If index is provided, we can pop the element at the given index"
   ]
  },
  {
   "cell_type": "code",
   "execution_count": 7,
   "metadata": {},
   "outputs": [
    {
     "name": "stdout",
     "output_type": "stream",
     "text": [
      "el = lst.pop(): [1, 2, 22, 3, 4, 5, 6, 7]\n",
      "el: 8\n"
     ]
    }
   ],
   "source": [
    "el: int = lst.pop()\n",
    "print(\"el = lst.pop():\", lst)\n",
    "print(\"el:\", el)"
   ]
  },
  {
   "cell_type": "code",
   "execution_count": 8,
   "metadata": {},
   "outputs": [
    {
     "name": "stdout",
     "output_type": "stream",
     "text": [
      "el = lst.pop(2): [1, 2, 3, 4, 5, 6, 7]\n",
      "el: 22\n"
     ]
    }
   ],
   "source": [
    "el = lst.pop(2)\n",
    "print(\"el = lst.pop(2):\", lst)\n",
    "print(\"el:\", el)"
   ]
  },
  {
   "cell_type": "markdown",
   "metadata": {},
   "source": [
    "## <a id='toc7_'></a>`lst.remove(el)` [&#8593;](#toc0_)"
   ]
  },
  {
   "cell_type": "markdown",
   "metadata": {},
   "source": [
    "- Removes the first occurrence of a value\n",
    "- If the element cannot be found, throw error"
   ]
  },
  {
   "cell_type": "code",
   "execution_count": 9,
   "metadata": {},
   "outputs": [
    {
     "name": "stdout",
     "output_type": "stream",
     "text": [
      "lst: [1, 2, 3, 4, 5, 6, 7]\n",
      "lst.insert(3, 2): [1, 2, 3, 2, 4, 5, 6, 7]\n",
      "lst.remove(2): [1, 3, 2, 4, 5, 6, 7]\n",
      "lst.remove(100): x not in list\n"
     ]
    }
   ],
   "source": [
    "print(\"lst:\", lst)\n",
    "\n",
    "lst.insert(3, 2)\n",
    "print(\"lst.insert(3, 2):\", lst)\n",
    "\n",
    "lst.remove(2)\n",
    "print(\"lst.remove(2):\", lst)\n",
    "\n",
    "try:\n",
    "    lst.remove(100) # Will need to be caught and handled\n",
    "except Exception as e:\n",
    "    print(\"lst.remove(100):\", str(e).split(\":\")[1].strip())"
   ]
  },
  {
   "cell_type": "markdown",
   "metadata": {},
   "source": [
    "## <a id='toc8_'></a>`lst.reverse()` [&#8593;](#toc0_)"
   ]
  },
  {
   "attachments": {},
   "cell_type": "markdown",
   "metadata": {},
   "source": [
    "- Reverses a list\n",
    "- **This occurs in place! Meaning it effects your list permanently**"
   ]
  },
  {
   "cell_type": "code",
   "execution_count": 10,
   "metadata": {},
   "outputs": [
    {
     "name": "stdout",
     "output_type": "stream",
     "text": [
      "lst.reverse(): [7, 6, 5, 4, 2, 3, 1]\n"
     ]
    }
   ],
   "source": [
    "lst.reverse()\n",
    "print(\"lst.reverse():\", lst)"
   ]
  },
  {
   "cell_type": "markdown",
   "metadata": {},
   "source": [
    "## <a id='toc9_'></a>`lst.sort()` [&#8593;](#toc0_)"
   ]
  },
  {
   "attachments": {},
   "cell_type": "markdown",
   "metadata": {},
   "source": [
    "- Sort your list in place\n",
    "- **Also in place: affect the list permanently**"
   ]
  },
  {
   "cell_type": "code",
   "execution_count": 11,
   "metadata": {},
   "outputs": [
    {
     "name": "stdout",
     "output_type": "stream",
     "text": [
      "lst.sort(): [1, 2, 3, 4, 5, 6, 7]\n",
      "lst.sort(reverse=True): [7, 6, 5, 4, 3, 2, 1]\n",
      "lst.sort(): [1, 2, 3, 4, 5, 6, 7]\n"
     ]
    }
   ],
   "source": [
    "lst.sort()\n",
    "print(\"lst.sort():\", lst)\n",
    "\n",
    "lst.sort(reverse = True)\n",
    "print(\"lst.sort(reverse=True):\", lst)\n",
    "\n",
    "lst.sort()\n",
    "print(\"lst.sort():\", lst)"
   ]
  }
 ],
 "metadata": {
  "kernelspec": {
   "display_name": "Python 3",
   "language": "python",
   "name": "python3"
  },
  "language_info": {
   "codemirror_mode": {
    "name": "ipython",
    "version": 3
   },
   "file_extension": ".py",
   "mimetype": "text/x-python",
   "name": "python",
   "nbconvert_exporter": "python",
   "pygments_lexer": "ipython3",
   "version": "3.11.2"
  },
  "toc": {
   "base_numbering": 1,
   "nav_menu": {},
   "number_sections": true,
   "sideBar": true,
   "skip_h1_title": true,
   "title_cell": "Table of Contents",
   "title_sidebar": "Contents",
   "toc_cell": true,
   "toc_position": {},
   "toc_section_display": true,
   "toc_window_display": true
  },
  "vscode": {
   "interpreter": {
    "hash": "e38d5ae9d43e96fdce0082e34c9838c3d789b62a82d1e49c916cf5543b217821"
   }
  }
 },
 "nbformat": 4,
 "nbformat_minor": 4
}
