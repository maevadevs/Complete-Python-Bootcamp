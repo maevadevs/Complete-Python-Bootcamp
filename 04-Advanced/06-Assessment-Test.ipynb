{
 "cells": [
  {
   "cell_type": "markdown",
   "metadata": {},
   "source": [
    "# Assessment Test: Advanced\n",
    "---"
   ]
  },
  {
   "cell_type": "markdown",
   "metadata": {},
   "source": [
    "**Table of Contents**<a id='toc0_'></a>    \n",
    "- [Advanced Numbers](#toc1_)    \n",
    "- [Advanced Strings](#toc2_)    \n",
    "- [Advanced Sets](#toc3_)    \n",
    "- [Advanced Dictionary](#toc4_)    \n",
    "- [Advanced List](#toc5_)    \n",
    "\n",
    "<!-- vscode-jupyter-toc-config\n",
    "\tnumbering=false\n",
    "\tanchor=true\n",
    "\tflat=false\n",
    "\tminLevel=2\n",
    "\tmaxLevel=6\n",
    "\t/vscode-jupyter-toc-config -->\n",
    "<!-- THIS CELL WILL BE REPLACED ON TOC UPDATE. DO NOT WRITE YOUR TEXT IN THIS CELL -->"
   ]
  },
  {
   "attachments": {},
   "cell_type": "markdown",
   "metadata": {},
   "source": [
    "---"
   ]
  },
  {
   "cell_type": "markdown",
   "metadata": {},
   "source": [
    "## <a id='toc1_'></a>Advanced Numbers [&#8593;](#toc0_)"
   ]
  },
  {
   "cell_type": "markdown",
   "metadata": {},
   "source": [
    "Problem 1: Convert 1024 to binary and hexadecimal representation"
   ]
  },
  {
   "cell_type": "code",
   "execution_count": 1,
   "metadata": {},
   "outputs": [],
   "source": [
    "def convert_integer(x: int, to: str = \"bin\") -> str:\n",
    "    \n",
    "    # Exception handling: x must be an integer\n",
    "    if (not isinstance(x, int)):\n",
    "        raise TypeError(\"Cannot convert non-integer values.\")\n",
    "    \n",
    "    # Exception handling: to must be in (\"bin\", \"hex\")\n",
    "    if (to not in (\"bin\", \"hex\")):\n",
    "        raise ValueError(\"The 'to' argument is not valid.\")\n",
    "\n",
    "    res: str\n",
    "    \n",
    "    # Normal scenario\n",
    "    if (to == \"bin\"):\n",
    "        res = bin(x)\n",
    "\n",
    "    if (to == \"hex\"):\n",
    "        res = hex(x)\n",
    "    \n",
    "    return res"
   ]
  },
  {
   "cell_type": "code",
   "execution_count": 2,
   "metadata": {},
   "outputs": [
    {
     "name": "stdout",
     "output_type": "stream",
     "text": [
      "convert_integer(1024: 0b10000000000\n",
      "convert_integer(integer, to=\"hex\"): 0x400\n"
     ]
    }
   ],
   "source": [
    "print(\"convert_integer(1024:\", convert_integer(1024))\n",
    "print(\"convert_integer(integer, to=\\\"hex\\\"):\", convert_integer(1024, to=\"hex\"))"
   ]
  },
  {
   "cell_type": "markdown",
   "metadata": {},
   "source": [
    "Problem 2: Round 5.23222 to two decimal places"
   ]
  },
  {
   "cell_type": "code",
   "execution_count": 3,
   "metadata": {},
   "outputs": [],
   "source": [
    "def round_number(x: float, precision: int = 2) -> float:\n",
    "    \n",
    "    # Exception handling: x must a number\n",
    "    if not (\n",
    "        isinstance(x, int) \n",
    "        or isinstance(x, float) \n",
    "        or isinstance(float(x), float)\n",
    "    ):\n",
    "        raise TypeError(\"Cannot convert non-numeric values.\")\n",
    "\n",
    "    # Normal Scenario\n",
    "    return round(x, precision)"
   ]
  },
  {
   "cell_type": "code",
   "execution_count": 4,
   "metadata": {},
   "outputs": [
    {
     "name": "stdout",
     "output_type": "stream",
     "text": [
      "round_number(5.23222): 5.23\n",
      "round_number(5.23222, 4): 5.2322\n",
      "round_number('5.23222'): 5.23\n",
      "round_number('100'): 100.0\n"
     ]
    }
   ],
   "source": [
    "print(\"round_number(5.23222):\", round_number(5.23222))\n",
    "print(\"round_number(5.23222, 4):\", round_number(5.23222, 4))\n",
    "print(\"round_number('5.23222'):\", round_number(float(\"5.23222\")))\n",
    "print(\"round_number('100'):\", round_number(float(\"100\")))"
   ]
  },
  {
   "cell_type": "markdown",
   "metadata": {},
   "source": [
    "## <a id='toc2_'></a>Advanced Strings [&#8593;](#toc0_)"
   ]
  },
  {
   "cell_type": "markdown",
   "metadata": {},
   "source": [
    "Problem 3: Check if every letter in the string s is lower case"
   ]
  },
  {
   "cell_type": "code",
   "execution_count": 5,
   "metadata": {},
   "outputs": [
    {
     "name": "stdout",
     "output_type": "stream",
     "text": [
      "str.islower()? False\n"
     ]
    }
   ],
   "source": [
    "st: str = \"hello how are you Mary, are you feeling okay?\"\n",
    "print(\"str.islower()?\", st.islower())"
   ]
  },
  {
   "attachments": {},
   "cell_type": "markdown",
   "metadata": {},
   "source": [
    "Problem 4: How many times does the letter \"w\" show up in the string below?"
   ]
  },
  {
   "cell_type": "code",
   "execution_count": 6,
   "metadata": {},
   "outputs": [
    {
     "name": "stdout",
     "output_type": "stream",
     "text": [
      "str.count('w'): 12\n"
     ]
    }
   ],
   "source": [
    "st = \"twywywtwywbwhsjhwuwshshwuwwwjdjdid\"\n",
    "print(\"str.count('w'):\", st.count(\"w\"))"
   ]
  },
  {
   "cell_type": "markdown",
   "metadata": {},
   "source": [
    "## <a id='toc3_'></a>Advanced Sets [&#8593;](#toc0_)"
   ]
  },
  {
   "cell_type": "markdown",
   "metadata": {},
   "source": [
    "Problem 5: Find the elements in set1 that are not in set2"
   ]
  },
  {
   "cell_type": "code",
   "execution_count": 7,
   "metadata": {},
   "outputs": [
    {
     "name": "stdout",
     "output_type": "stream",
     "text": [
      "set1: {1, 2, 3, 5, 6, 8}\n",
      "set2: {1, 3, 5, 6, 7, 8}\n",
      "set1.difference(set2): {2}\n"
     ]
    }
   ],
   "source": [
    "set1: set[int] = {2,3,1,5,6,8}\n",
    "set2: set[int] = {3,1,7,5,6,8}\n",
    "\n",
    "print(\"set1:\", set1)\n",
    "print(\"set2:\", set2)\n",
    "print(\"set1.difference(set2):\", set1.difference(set2))"
   ]
  },
  {
   "cell_type": "markdown",
   "metadata": {},
   "source": [
    "Problem 6: Find all elements that are in either set"
   ]
  },
  {
   "cell_type": "code",
   "execution_count": 8,
   "metadata": {},
   "outputs": [
    {
     "name": "stdout",
     "output_type": "stream",
     "text": [
      "set1.union(set2): {1, 2, 3, 5, 6, 7, 8}\n"
     ]
    }
   ],
   "source": [
    "print(\"set1.union(set2):\", set1.union(set2))"
   ]
  },
  {
   "cell_type": "code",
   "execution_count": 9,
   "metadata": {},
   "outputs": [
    {
     "name": "stdout",
     "output_type": "stream",
     "text": [
      "set1.intersection(set2): {1, 3, 5, 6, 8}\n"
     ]
    }
   ],
   "source": [
    "# Intersection\n",
    "print(\"set1.intersection(set2):\", set1.intersection(set2))"
   ]
  },
  {
   "cell_type": "markdown",
   "metadata": {},
   "source": [
    "## <a id='toc4_'></a>Advanced Dictionary [&#8593;](#toc0_)"
   ]
  },
  {
   "cell_type": "markdown",
   "metadata": {},
   "source": [
    "Problem 7: Create this dictionary:\n",
    "{0: 0, 1: 1, 2: 8, 3: 27, 4: 64}\n",
    "using dictionary comprehension"
   ]
  },
  {
   "cell_type": "code",
   "execution_count": 10,
   "metadata": {},
   "outputs": [
    {
     "name": "stdout",
     "output_type": "stream",
     "text": [
      "dict cubes using comprehension: {0: 0, 1: 1, 2: 8, 3: 27, 4: 64}\n"
     ]
    }
   ],
   "source": [
    "d: dict[int, int] = {x: x**3 for x in range(5)}\n",
    "print(\"dict cubes using comprehension:\", d)"
   ]
  },
  {
   "cell_type": "markdown",
   "metadata": {},
   "source": [
    "## <a id='toc5_'></a>Advanced List [&#8593;](#toc0_)"
   ]
  },
  {
   "cell_type": "markdown",
   "metadata": {},
   "source": [
    "Problem 8: Reverse the list below"
   ]
  },
  {
   "cell_type": "code",
   "execution_count": 11,
   "metadata": {},
   "outputs": [
    {
     "name": "stdout",
     "output_type": "stream",
     "text": [
      "lst: [1, 2, 3, 4]\n",
      "lst.reverse() [4, 3, 2, 1]\n"
     ]
    }
   ],
   "source": [
    "lst: list[int] = [1,2,3,4]\n",
    "print(\"lst:\", lst)\n",
    "lst.reverse()\n",
    "print(\"lst.reverse()\", lst)"
   ]
  },
  {
   "cell_type": "markdown",
   "metadata": {},
   "source": [
    "Problem 9: Sort the list below**"
   ]
  },
  {
   "cell_type": "code",
   "execution_count": 12,
   "metadata": {},
   "outputs": [
    {
     "name": "stdout",
     "output_type": "stream",
     "text": [
      "lst: [3, 4, 2, 5, 1]\n",
      "lst.sort() [1, 2, 3, 4, 5]\n"
     ]
    }
   ],
   "source": [
    "lst = [3,4,2,5,1]\n",
    "print(\"lst:\", lst)\n",
    "lst.sort()\n",
    "print(\"lst.sort()\", lst)"
   ]
  }
 ],
 "metadata": {
  "kernelspec": {
   "display_name": "Python 3",
   "language": "python",
   "name": "python3"
  },
  "language_info": {
   "codemirror_mode": {
    "name": "ipython",
    "version": 3
   },
   "file_extension": ".py",
   "mimetype": "text/x-python",
   "name": "python",
   "nbconvert_exporter": "python",
   "pygments_lexer": "ipython3",
   "version": "3.11.2"
  },
  "toc": {
   "base_numbering": 1,
   "nav_menu": {},
   "number_sections": true,
   "sideBar": true,
   "skip_h1_title": true,
   "title_cell": "Table of Contents",
   "title_sidebar": "Contents",
   "toc_cell": true,
   "toc_position": {},
   "toc_section_display": true,
   "toc_window_display": true
  },
  "vscode": {
   "interpreter": {
    "hash": "e38d5ae9d43e96fdce0082e34c9838c3d789b62a82d1e49c916cf5543b217821"
   }
  }
 },
 "nbformat": 4,
 "nbformat_minor": 4
}
