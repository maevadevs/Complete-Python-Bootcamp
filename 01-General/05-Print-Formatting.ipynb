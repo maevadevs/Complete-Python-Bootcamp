{
 "cells": [
  {
   "cell_type": "markdown",
   "metadata": {},
   "source": [
    "# Print Formatting\n",
    "---"
   ]
  },
  {
   "cell_type": "markdown",
   "metadata": {},
   "source": [
    "**Table of Contents**<a id='toc0_'></a>    \n",
    "- [Formatting Strings](#toc1_)    \n",
    "- [Formatting Floating-Points](#toc2_)    \n",
    "- [Conversion Format Method](#toc3_)    \n",
    "- [Multiple Formatting](#toc4_)    \n",
    "- [More About `str.format()`](#toc5_)    \n",
    "\n",
    "<!-- vscode-jupyter-toc-config\n",
    "\tnumbering=false\n",
    "\tanchor=true\n",
    "\tflat=false\n",
    "\tminLevel=2\n",
    "\tmaxLevel=6\n",
    "\t/vscode-jupyter-toc-config -->\n",
    "<!-- THIS CELL WILL BE REPLACED ON TOC UPDATE. DO NOT WRITE YOUR TEXT IN THIS CELL -->"
   ]
  },
  {
   "attachments": {},
   "cell_type": "markdown",
   "metadata": {},
   "source": [
    "---"
   ]
  },
  {
   "cell_type": "code",
   "execution_count": 1,
   "metadata": {},
   "outputs": [
    {
     "name": "stdout",
     "output_type": "stream",
     "text": [
      "This is a string\n"
     ]
    }
   ],
   "source": [
    "# The most basic example of a print statement\n",
    "print(\"This is a string\")"
   ]
  },
  {
   "attachments": {},
   "cell_type": "markdown",
   "metadata": {},
   "source": [
    "- 3 ways to do print formatting in Python\n",
    "  - Using the `%` formatter\n",
    "  - Using the `.format()` method\n",
    "  - Using `f-string`"
   ]
  },
  {
   "cell_type": "markdown",
   "metadata": {},
   "source": [
    "## <a id='toc1_'></a>Formatting Strings [&#8593;](#toc0_)"
   ]
  },
  {
   "attachments": {},
   "cell_type": "markdown",
   "metadata": {},
   "source": [
    "- Use the `%s` to format strings into print statements\n",
    "- No need for the `%` sign when using `.format()`, just `:s`\n",
    "- Using `f-string`, we can interpolate and use `:s` as well (since Python 3.6)"
   ]
  },
  {
   "cell_type": "code",
   "execution_count": 2,
   "metadata": {},
   "outputs": [
    {
     "name": "stdout",
     "output_type": "stream",
     "text": [
      "Place another string with a mod and s: STRING\n"
     ]
    }
   ],
   "source": [
    "# Using % formatter\n",
    "st: str = \"STRING\"\n",
    "print(\"Place another string with a mod and s: %s\" % (st))"
   ]
  },
  {
   "cell_type": "code",
   "execution_count": 3,
   "metadata": {},
   "outputs": [
    {
     "name": "stdout",
     "output_type": "stream",
     "text": [
      "Place another string with a mod and s: STRING\n"
     ]
    }
   ],
   "source": [
    "# Using .format()\n",
    "print(\"Place another string with a mod and s: {:s}\".format(st))"
   ]
  },
  {
   "cell_type": "code",
   "execution_count": 4,
   "metadata": {},
   "outputs": [
    {
     "name": "stdout",
     "output_type": "stream",
     "text": [
      "Place another string with a mod and s: STRING\n"
     ]
    }
   ],
   "source": [
    "# Using f-string\n",
    "print(f\"Place another string with a mod and s: {st:s}\")"
   ]
  },
  {
   "cell_type": "markdown",
   "metadata": {},
   "source": [
    "## <a id='toc2_'></a>Formatting Floating-Points [&#8593;](#toc0_)"
   ]
  },
  {
   "cell_type": "markdown",
   "metadata": {},
   "source": [
    "- Use the format `%m.nf`\n",
    "  - `m`: Total minimum number of digits the string should contain: Can be filled with whitespaces\n",
    "  - `n`: Placeholder for how many numbers to show past the decimal point\n",
    "- No need for the `%` sign when using `.format()`, just `m.nf`"
   ]
  },
  {
   "cell_type": "code",
   "execution_count": 5,
   "metadata": {},
   "outputs": [
    {
     "name": "stdout",
     "output_type": "stream",
     "text": [
      "Floating point numbers: 13.14\n",
      "Floating point numbers: 13\n",
      "Floating point numbers: 13.14400\n",
      "Floating point numbers:      13.14\n",
      "Floating point numbers:                     13.14\n"
     ]
    }
   ],
   "source": [
    "# Using % formatter\n",
    "print(\"Floating point numbers: %1.2f\" % (13.144))\n",
    "print(\"Floating point numbers: %1.0f\" % (13.144))\n",
    "print(\"Floating point numbers: %1.5f\" % (13.144))\n",
    "print(\"Floating point numbers: %10.2f\" % (13.144))\n",
    "print(\"Floating point numbers: %25.2f\" % (13.144))"
   ]
  },
  {
   "cell_type": "code",
   "execution_count": 6,
   "metadata": {},
   "outputs": [
    {
     "name": "stdout",
     "output_type": "stream",
     "text": [
      "Floating point numbers: 13.14\n",
      "Floating point numbers: 13\n",
      "Floating point numbers: 13.14400\n",
      "Floating point numbers:      13.14\n",
      "Floating point numbers:                     13.14\n"
     ]
    }
   ],
   "source": [
    "# Using .format()\n",
    "print(\"Floating point numbers: {:1.2f}\".format(13.144))\n",
    "print(\"Floating point numbers: {:1.0f}\".format(13.144))\n",
    "print(\"Floating point numbers: {:1.5f}\".format(13.144))\n",
    "print(\"Floating point numbers: {:10.2f}\".format(13.144))\n",
    "print(\"Floating point numbers: {:25.2f}\".format(13.144))"
   ]
  },
  {
   "cell_type": "code",
   "execution_count": 7,
   "metadata": {},
   "outputs": [
    {
     "name": "stdout",
     "output_type": "stream",
     "text": [
      "Floating point numbers: 13.14\n",
      "Floating point numbers: 13\n",
      "Floating point numbers: 13.14400\n",
      "Floating point numbers:      13.14\n",
      "Floating point numbers:                     13.14\n"
     ]
    }
   ],
   "source": [
    "# Using f-string\n",
    "print(f\"Floating point numbers: {13.144:1.2f}\")\n",
    "print(f\"Floating point numbers: {13.144:1.0f}\")\n",
    "print(f\"Floating point numbers: {13.144:1.5f}\")\n",
    "print(f\"Floating point numbers: {13.144:10.2f}\")\n",
    "print(f\"Floating point numbers: {13.144:25.2f}\")"
   ]
  },
  {
   "cell_type": "markdown",
   "metadata": {},
   "source": [
    "## <a id='toc3_'></a>Conversion Format Method [&#8593;](#toc0_)"
   ]
  },
  {
   "attachments": {},
   "cell_type": "markdown",
   "metadata": {},
   "source": [
    "- `%s` and `%r` convert any python object to a string using two separate methods\n",
    "  - `str()`\n",
    "  - `repr()`\n",
    "- You can actually pass almost any Python object with these two methods and it will work\n",
    "- **Note: These do not work with `.format()` and `f-string`**\n",
    "  - Because `.format()` will convert implicitly to string by default, `:s` and `:r` are not needed\n",
    "  - If you need to use `%r`, use `%` formatter instead\n",
    "  - If `repr()` is needed, use it directly instead"
   ]
  },
  {
   "cell_type": "code",
   "execution_count": 8,
   "metadata": {},
   "outputs": [
    {
     "name": "stdout",
     "output_type": "stream",
     "text": [
      "Here is a number: 123.1. Here is a string: hi\n",
      "Here is a number: 123.1. Here is a string: 'hi'\n"
     ]
    }
   ],
   "source": [
    "# Using % formatter\n",
    "print(\"Here is a number: %s. Here is a string: %s\" % (123.1,\"hi\"))\n",
    "print(\"Here is a number: %r. Here is a string: %r\" % (123.1,\"hi\"))"
   ]
  },
  {
   "cell_type": "code",
   "execution_count": 9,
   "metadata": {},
   "outputs": [
    {
     "name": "stdout",
     "output_type": "stream",
     "text": [
      "Here is a number: 123.1. Here is a string: hi\n",
      "Here is a number: 123.1. Here is a string: 'hi'\n"
     ]
    }
   ],
   "source": [
    "# Using .format(): Implicit conversion to str. Use repr() if needed\n",
    "print(\"Here is a number: {0}. Here is a string: {1}\".format(123.1,\"hi\"))\n",
    "print(\"Here is a number: {0}. Here is a string: {1}\".format(repr(123.1), repr(\"hi\")))"
   ]
  },
  {
   "cell_type": "code",
   "execution_count": 10,
   "metadata": {},
   "outputs": [
    {
     "name": "stdout",
     "output_type": "stream",
     "text": [
      "Here is a number: 123.1. Here is a string: hi\n",
      "Here is a number: 123.1. Here is a string: 'hi'\n"
     ]
    }
   ],
   "source": [
    "# Using f-string: Implicit conversion to str. Use repr() if needed\n",
    "# String expressions inside f-string must use the opposite quote\n",
    "print(f\"Here is a number: {123.1}. Here is a string: {'hi'}\")\n",
    "print(f\"Here is a number: {repr(123.1)}. Here is a string: {repr('hi')}\")"
   ]
  },
  {
   "cell_type": "markdown",
   "metadata": {},
   "source": [
    "## <a id='toc4_'></a>Multiple Formatting [&#8593;](#toc0_)"
   ]
  },
  {
   "attachments": {},
   "cell_type": "markdown",
   "metadata": {},
   "source": [
    "- Pass a tuple to the modulo symbol to place multiple formats in your print statements\n",
    "- Same thing can be achieved with `.format()` using multiple parameters\n",
    "- We do not need this option with `f-string` as the placeholder itself is being passed"
   ]
  },
  {
   "cell_type": "code",
   "execution_count": 11,
   "metadata": {},
   "outputs": [
    {
     "name": "stdout",
     "output_type": "stream",
     "text": [
      "First: hi!, Second: 3.14, Third: 22\n"
     ]
    }
   ],
   "source": [
    "# Using % formatter\n",
    "print(\"First: %s, Second: %1.2f, Third: %r\" % (\"hi!\", 3.14, 22))"
   ]
  },
  {
   "cell_type": "code",
   "execution_count": 12,
   "metadata": {},
   "outputs": [
    {
     "name": "stdout",
     "output_type": "stream",
     "text": [
      "First: hi!, Second: 3.14, Third: 22\n"
     ]
    }
   ],
   "source": [
    "# Using .format()\n",
    "print(\"First: {}, Second: {:1.2f}, Third: {}\".format(\"hi!\", 3.14, 22))"
   ]
  },
  {
   "cell_type": "code",
   "execution_count": 13,
   "metadata": {},
   "outputs": [
    {
     "name": "stdout",
     "output_type": "stream",
     "text": [
      "First: hi!, Second: 3.14, Third: 22\n"
     ]
    }
   ],
   "source": [
    "# Using .format()\n",
    "print(f\"First: {'hi!'}, Second: {3.14:1.2f}, Third: {22}\")"
   ]
  },
  {
   "cell_type": "markdown",
   "metadata": {},
   "source": [
    "## <a id='toc5_'></a>More About `str.format()` [&#8593;](#toc0_)"
   ]
  },
  {
   "attachments": {},
   "cell_type": "markdown",
   "metadata": {},
   "source": [
    "- The best way to format objects into strings for print statements is using the `format()` method or interpolate with `f-string`"
   ]
  },
  {
   "cell_type": "code",
   "execution_count": 14,
   "metadata": {},
   "outputs": [
    {
     "name": "stdout",
     "output_type": "stream",
     "text": [
      "This is a string with an insert\n"
     ]
    }
   ],
   "source": [
    "# Implicitly insert in order\n",
    "print(\"This is a string with an {}\".format(\"insert\"))\n",
    "# No equivalent for f-string"
   ]
  },
  {
   "cell_type": "code",
   "execution_count": 15,
   "metadata": {},
   "outputs": [
    {
     "name": "stdout",
     "output_type": "stream",
     "text": [
      "This is a string with an insert\n"
     ]
    }
   ],
   "source": [
    "# Explicitly insert by placeholder order\n",
    "print(\"This is a string with an {0}\".format(\"insert\"))\n",
    "# No equivalent for f-string"
   ]
  },
  {
   "cell_type": "code",
   "execution_count": 16,
   "metadata": {},
   "outputs": [
    {
     "name": "stdout",
     "output_type": "stream",
     "text": [
      "This is a string with an insert\n",
      "This is a string with an insert\n"
     ]
    }
   ],
   "source": [
    "# Explicitly insert by variable name\n",
    "print(\"This is a string with an {p}\".format(p=\"insert\"))\n",
    "p: str = \"insert\"\n",
    "print(f\"This is a string with an {p}\")"
   ]
  },
  {
   "cell_type": "code",
   "execution_count": 17,
   "metadata": {},
   "outputs": [
    {
     "name": "stdout",
     "output_type": "stream",
     "text": [
      "One: Hi!, Two: Hi!, Three: Hi!\n",
      "One: Hi!, Two: Hi!, Three: Hi!\n"
     ]
    }
   ],
   "source": [
    "# We can insert multiple times\n",
    "print(\"One: {0}, Two: {0}, Three: {0}\".format(\"Hi!\"))\n",
    "val: str = \"Hi!\"\n",
    "print(f\"One: {val}, Two: {val}, Three: {val}\")"
   ]
  },
  {
   "cell_type": "code",
   "execution_count": 18,
   "metadata": {},
   "outputs": [
    {
     "name": "stdout",
     "output_type": "stream",
     "text": [
      "One: Hi!, Two: Hi!, Three: Hi!\n",
      "One: Hi!, Two: Hi!, Three: Hi!\n"
     ]
    }
   ],
   "source": [
    "# We can also insert multiple times using variable names\n",
    "print(\"One: {p}, Two: {p}, Three: {p}\".format(p=\"Hi!\"))\n",
    "p = \"Hi!\"\n",
    "print(f\"One: {p}, Two: {p}, Three: {p}\")"
   ]
  },
  {
   "cell_type": "code",
   "execution_count": 19,
   "metadata": {},
   "outputs": [
    {
     "name": "stdout",
     "output_type": "stream",
     "text": [
      "Object 1: 1, Object 2: two, Object 3: 12.30\n",
      "Object 1: 1, Object 2: two, Object 3: 12.30\n"
     ]
    }
   ],
   "source": [
    "# Several Objects, and using formatter\n",
    "print(\"Object 1: {a}, Object 2: {b}, Object 3: {c:0.2f}\".format(a=repr(1), b=\"two\", c=12.3))\n",
    "a: str = repr(1)\n",
    "b: str = \"two\"\n",
    "c: float = 12.3\n",
    "print(f\"Object 1: {a}, Object 2: {b}, Object 3: {c:0.2f}\")"
   ]
  }
 ],
 "metadata": {
  "hide_input": false,
  "kernelspec": {
   "display_name": "venv",
   "language": "python",
   "name": "python3"
  },
  "language_info": {
   "codemirror_mode": {
    "name": "ipython",
    "version": 3
   },
   "file_extension": ".py",
   "mimetype": "text/x-python",
   "name": "python",
   "nbconvert_exporter": "python",
   "pygments_lexer": "ipython3",
   "version": "3.11.2"
  },
  "toc": {
   "base_numbering": 1,
   "nav_menu": {},
   "number_sections": true,
   "sideBar": true,
   "skip_h1_title": true,
   "title_cell": "Table of Contents",
   "title_sidebar": "Contents",
   "toc_cell": true,
   "toc_position": {
    "height": "calc(100% - 180px)",
    "left": "10px",
    "top": "150px",
    "width": "297.2px"
   },
   "toc_section_display": true,
   "toc_window_display": true
  },
  "varInspector": {
   "cols": {
    "lenName": 16,
    "lenType": 16,
    "lenVar": 40
   },
   "kernels_config": {
    "python": {
     "delete_cmd_postfix": "",
     "delete_cmd_prefix": "del ",
     "library": "var_list.py",
     "varRefreshCmd": "print(var_dic_list())"
    },
    "r": {
     "delete_cmd_postfix": ") ",
     "delete_cmd_prefix": "rm(",
     "library": "var_list.r",
     "varRefreshCmd": "cat(var_dic_list()) "
    }
   },
   "types_to_exclude": [
    "module",
    "function",
    "builtin_function_or_method",
    "instance",
    "_Feature"
   ],
   "window_display": false
  },
  "vscode": {
   "interpreter": {
    "hash": "b5ab5f64e32c215b80ba2c275165396f1c456cb6ba15ab870f8428bc206a177b"
   }
  }
 },
 "nbformat": 4,
 "nbformat_minor": 4
}
