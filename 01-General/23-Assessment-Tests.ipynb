{
 "cells": [
  {
   "cell_type": "markdown",
   "metadata": {
    "toc": true
   },
   "source": [
    "<h1>Table of Contents<span class=\"tocSkip\"></span></h1>\n",
    "<div class=\"toc\"><ul class=\"toc-item\"><li><span><a href=\"#Functions-and-Methods\" data-toc-modified-id=\"Functions-and-Methods-1\"><span class=\"toc-item-num\">1&nbsp;&nbsp;</span>Functions and Methods</a></span></li></ul></div>"
   ]
  },
  {
   "cell_type": "markdown",
   "metadata": {},
   "source": [
    "# Assessment Tests"
   ]
  },
  {
   "cell_type": "code",
   "execution_count": 1,
   "metadata": {},
   "outputs": [],
   "source": [
    "import math # Need to import math.pi for all math works in here"
   ]
  },
  {
   "cell_type": "markdown",
   "metadata": {},
   "source": [
    "## Functions and Methods"
   ]
  },
  {
   "cell_type": "markdown",
   "metadata": {},
   "source": [
    "- Write a function that computes the volume of a sphere given its radius"
   ]
  },
  {
   "cell_type": "code",
   "execution_count": 2,
   "metadata": {},
   "outputs": [],
   "source": [
    "# Using lambda exp\n",
    "volume = lambda r: (4/3) * math.pi * (r**3)"
   ]
  },
  {
   "cell_type": "code",
   "execution_count": 3,
   "metadata": {},
   "outputs": [
    {
     "name": "stdout",
     "output_type": "stream",
     "text": [
      "113.09733552923254\n"
     ]
    }
   ],
   "source": [
    "# Testing: r = 3\n",
    "print(volume(3))"
   ]
  },
  {
   "cell_type": "markdown",
   "metadata": {},
   "source": [
    "- Write a function that checks whether a number is in a given range (Inclusive of high and low)"
   ]
  },
  {
   "cell_type": "code",
   "execution_count": 4,
   "metadata": {},
   "outputs": [],
   "source": [
    "def range_check(num, low, high):\n",
    "    \"\"\"Check if num is within the range of low and high. Return answer as a string.\n",
    "    Args:   \n",
    "      num<number>:  The number to check\n",
    "      low<number>:  The lower limit (inclusive)\n",
    "      high<number>: THe higher limit (inclusive)\n",
    "    Return: \n",
    "      <string>\n",
    "    \"\"\"\n",
    "    if num in range(low, high+1):\n",
    "        return \"{0} is within the range of [{1}, {2}]\".format(num, low, high)\n",
    "    else:\n",
    "        return \"{0} is not in the range of [{1}, {2}]\".format(num, low, high)"
   ]
  },
  {
   "cell_type": "code",
   "execution_count": 5,
   "metadata": {},
   "outputs": [
    {
     "name": "stdout",
     "output_type": "stream",
     "text": [
      "10 is within the range of [5, 67]\n"
     ]
    }
   ],
   "source": [
    "print(range_check(10, 5, 67))"
   ]
  },
  {
   "cell_type": "code",
   "execution_count": 6,
   "metadata": {},
   "outputs": [],
   "source": [
    "# If you only wanted to return a boolean:\n",
    "\n",
    "def range_bool(num, low, high):\n",
    "    \"\"\"Check if num is within the range of low and high. \n",
    "    If it is, return True. Otherwise, return False.\n",
    "    Args:   \n",
    "      num<number>:  The number to check\n",
    "      low<number>:  The lower limit (inclusive)\n",
    "      high<number>: THe higher limit (inclusive)\n",
    "    Return: \n",
    "      <boolean>\n",
    "    \"\"\"\n",
    "    if num in range(low, high+1):\n",
    "        return True\n",
    "    else:\n",
    "        return False"
   ]
  },
  {
   "cell_type": "code",
   "execution_count": 7,
   "metadata": {},
   "outputs": [
    {
     "name": "stdout",
     "output_type": "stream",
     "text": [
      "True\n"
     ]
    }
   ],
   "source": [
    "print(range_bool(3, 1, 10))"
   ]
  },
  {
   "cell_type": "markdown",
   "metadata": {},
   "source": [
    "Write a Python function that accepts a string and calculate the number of upper case letters and lower case letters.**\n",
    "\n",
    "- Sample String : 'Hello Mr. Rogers, how are you this fine Tuesday?'\n",
    "- Expected Output : \n",
    "  - No. of Upper case characters : 4\n",
    "  - No. of Lower case Characters : 33\n",
    "\n",
    "If you feel ambitious, explore the Collections module to solve this problem!"
   ]
  },
  {
   "cell_type": "code",
   "execution_count": 8,
   "metadata": {},
   "outputs": [],
   "source": [
    "import string\n",
    "\n",
    "def count_chars(str):\n",
    "    \"\"\"Check the number of uppercases characters, lowercases characters, and punctuations in a string. Need to import the string module. Return the numbers in a tuple.\n",
    "    Args:   \n",
    "      s<string> : The original string to test\n",
    "    Return: \n",
    "      (count_upper, count_lower, count_punct)<dictionary>: uppercases characters, lowercases characters, and punctuations in the string\n",
    "    \"\"\"\n",
    "    \n",
    "    uppercase_count = 0\n",
    "    lowercase_count = 0\n",
    "    punct_count = 0\n",
    "    letters_in_str = [str[i] for i in range(0, len(str))]\n",
    "    \n",
    "    for letter in letters_in_str:\n",
    "        if (letter in string.ascii_lowercase):\n",
    "            lowercase_count += 1\n",
    "        if (letter in string.ascii_uppercase):\n",
    "            uppercase_count += 1\n",
    "        if (letter in string.punctuation):\n",
    "            punct_count += 1\n",
    "    \n",
    "    return (uppercase_count, lowercase_count, punct_count)"
   ]
  },
  {
   "cell_type": "code",
   "execution_count": 9,
   "metadata": {},
   "outputs": [
    {
     "name": "stdout",
     "output_type": "stream",
     "text": [
      "Sample string: 'Hello Mr. Rogers, how are you this fine Tuesday?'\n",
      "Uppercases: 4\n",
      "Lowercases: 33\n",
      "Punctuations: 3\n"
     ]
    }
   ],
   "source": [
    "test_string = \"Hello Mr. Rogers, how are you this fine Tuesday?\"\n",
    "count = count_chars(test_string)\n",
    "\n",
    "print(\"Sample string: '\" + test_string + \"'\")\n",
    "print('Uppercases: {0}'.format(count[0]))\n",
    "print('Lowercases: {0}'.format(count[1]))\n",
    "print('Punctuations: {0}'.format(count[2]))"
   ]
  },
  {
   "cell_type": "markdown",
   "metadata": {},
   "source": [
    "- Write a Python function that takes a list and returns a new list with unique elements of the first list.\n",
    "  - Sample List : [1, 1, 1, 1, 2, 2, 3, 3, 3, 3, 4, 5]\n",
    "  - Unique List : [1, 2, 3, 4, 5]"
   ]
  },
  {
   "cell_type": "code",
   "execution_count": 10,
   "metadata": {},
   "outputs": [
    {
     "data": {
      "text/plain": [
       "[1, 2, 3, 4, 5]"
      ]
     },
     "execution_count": 10,
     "metadata": {},
     "output_type": "execute_result"
    }
   ],
   "source": [
    "# Using lambda expression\n",
    "# To get unique values, we use set(), then back to list\n",
    "\n",
    "unique_list = lambda l: list(set(l))\n",
    "unique_list([1, 1, 1, 1, 2, 2, 3, 3, 3, 3, 4, 5])"
   ]
  },
  {
   "cell_type": "markdown",
   "metadata": {},
   "source": [
    "- Write a Python function to multiply all the numbers in a list.\n",
    "  - Sample List : [1, 2, 3, -4]\n",
    "  - Expected Output : -24"
   ]
  },
  {
   "cell_type": "code",
   "execution_count": 11,
   "metadata": {},
   "outputs": [],
   "source": [
    "def multiply(numbers):\n",
    "    prod = 1\n",
    "    for x in numbers:\n",
    "        prod *= x\n",
    "    return prod"
   ]
  },
  {
   "cell_type": "code",
   "execution_count": 12,
   "metadata": {},
   "outputs": [
    {
     "data": {
      "text/plain": [
       "-24"
      ]
     },
     "execution_count": 12,
     "metadata": {},
     "output_type": "execute_result"
    }
   ],
   "source": [
    "multiply([1, 2, 3, -4])"
   ]
  },
  {
   "cell_type": "markdown",
   "metadata": {},
   "source": [
    "- Write a Python function that checks whether a passed string is palindrome or not. Note: A palindrome is word, phrase, or sequence that reads the same backward as forward, e.g., madam or nurses run."
   ]
  },
  {
   "cell_type": "code",
   "execution_count": 13,
   "metadata": {},
   "outputs": [],
   "source": [
    "def palindrome(s):\n",
    "    # Consider alphanumeric characters only and compare at lower case\n",
    "    s_clean = \"\".join([char.lower() for char in s if char.isalnum()])\n",
    "    return s_clean == s_clean[::-1]"
   ]
  },
  {
   "cell_type": "code",
   "execution_count": 14,
   "metadata": {},
   "outputs": [
    {
     "name": "stdout",
     "output_type": "stream",
     "text": [
      "True\n",
      "True\n",
      "False\n",
      "True\n",
      "True\n"
     ]
    }
   ],
   "source": [
    "print(palindrome('nurses run'))\n",
    "print(palindrome('madam'))\n",
    "print(palindrome('abracadabra!!'))\n",
    "print(palindrome('Al lets Della call Ed Stella'))\n",
    "print(palindrome('Are we not pure? “No, sir!” Panama’s moody Noriega brags. “It is garbage!” Irony dooms a man—a prisoner up to new era.'))"
   ]
  },
  {
   "cell_type": "markdown",
   "metadata": {},
   "source": [
    "- Write a Python function to check whether a string is pangram or not.\n",
    "  - Note : Pangrams are words or sentences containing every letter of the alphabet at least once.\n",
    "  - For example : \"The quick brown fox jumps over the lazy dog\"\n",
    "- Hint: Look at the string module"
   ]
  },
  {
   "cell_type": "code",
   "execution_count": 15,
   "metadata": {},
   "outputs": [],
   "source": [
    "import string\n",
    "\n",
    "def isPangram(str, alphabet = string.ascii_lowercase):\n",
    "    strl_lower = str.lower() # compare at lowercases only\n",
    "    return set(alphabet) <= set(strl_lower)"
   ]
  },
  {
   "cell_type": "code",
   "execution_count": 16,
   "metadata": {},
   "outputs": [
    {
     "name": "stdout",
     "output_type": "stream",
     "text": [
      "True\n",
      "True\n",
      "False\n"
     ]
    }
   ],
   "source": [
    "print(isPangram(\"Jackdaws love my big sphinx of quartz\"))\n",
    "print(isPangram(\"A quick brown fox jumps over the lazy dog\"))\n",
    "print(isPangram(\"Hello World!\"))"
   ]
  }
 ],
 "metadata": {
  "kernelspec": {
   "display_name": "Python 3",
   "language": "python",
   "name": "python3"
  },
  "language_info": {
   "codemirror_mode": {
    "name": "ipython",
    "version": 3
   },
   "file_extension": ".py",
   "mimetype": "text/x-python",
   "name": "python",
   "nbconvert_exporter": "python",
   "pygments_lexer": "ipython3",
   "version": "3.8.2"
  },
  "toc": {
   "base_numbering": 1,
   "nav_menu": {},
   "number_sections": true,
   "sideBar": true,
   "skip_h1_title": true,
   "title_cell": "Table of Contents",
   "title_sidebar": "Contents",
   "toc_cell": true,
   "toc_position": {},
   "toc_section_display": true,
   "toc_window_display": true
  }
 },
 "nbformat": 4,
 "nbformat_minor": 4
}
