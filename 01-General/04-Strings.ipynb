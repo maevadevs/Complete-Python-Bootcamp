{
 "cells": [
  {
   "cell_type": "markdown",
   "metadata": {},
   "source": [
    "# Strings\n",
    "---"
   ]
  },
  {
   "cell_type": "markdown",
   "metadata": {},
   "source": [
    "**Table of Contents**<a id='toc0_'></a>    \n",
    "- [Creating Strings](#toc1_)    \n",
    "- [Printing a String](#toc2_)    \n",
    "- [String Length: `len(st)`](#toc3_)    \n",
    "- [String Indexing](#toc4_)    \n",
    "- [String Slicing: `st[from:to:steps]`](#toc5_)    \n",
    "- [String *Immutablity*](#toc6_)    \n",
    "- [String Concatenation](#toc7_)    \n",
    "- [String Repetition](#toc8_)    \n",
    "- [Built-In String Methods](#toc9_)    \n",
    "  - [`st.upper()`](#toc9_1_)    \n",
    "  - [`st.lower()`](#toc9_2_)    \n",
    "  - [`st.split()`](#toc9_3_)    \n",
    "  - [`st.format()`](#toc9_4_)    \n",
    "    - [Float Formatting](#toc9_4_1_)    \n",
    "    - [String Format Specifiers](#toc9_4_2_)    \n",
    "  - [String Interpolation: `f-string`](#toc9_5_)    \n",
    "  - [`st.join()`](#toc9_6_)    \n",
    "\n",
    "<!-- vscode-jupyter-toc-config\n",
    "\tnumbering=false\n",
    "\tanchor=true\n",
    "\tflat=false\n",
    "\tminLevel=2\n",
    "\tmaxLevel=6\n",
    "\t/vscode-jupyter-toc-config -->\n",
    "<!-- THIS CELL WILL BE REPLACED ON TOC UPDATE. DO NOT WRITE YOUR TEXT IN THIS CELL -->"
   ]
  },
  {
   "attachments": {},
   "cell_type": "markdown",
   "metadata": {},
   "source": [
    "---"
   ]
  },
  {
   "attachments": {},
   "cell_type": "markdown",
   "metadata": {},
   "source": [
    "- Used in Python to record text information, such as names\n",
    "- Actually a *sequence*\n",
    "  - Python keeps track of every element in the string as a sequence\n",
    "  - Similar to an array or list\n",
    "  - E.g. String `\"hello\"` is a sequence of the letters `h-e-l-l-o` in a specific order\n",
    "- We can use indexing to grab particular letters"
   ]
  },
  {
   "cell_type": "markdown",
   "metadata": {},
   "source": [
    "## <a id='toc1_'></a>Creating Strings [&#8593;](#toc0_)"
   ]
  },
  {
   "cell_type": "code",
   "execution_count": 1,
   "metadata": {},
   "outputs": [
    {
     "name": "stdout",
     "output_type": "stream",
     "text": [
      "Hello!\n",
      "Hello!\n"
     ]
    }
   ],
   "source": [
    "# Single quotes word, equivalent to double-quotes\n",
    "print('Hello!')\n",
    "\n",
    "# Double quotes word, equivalent to single-quotes\n",
    "print(\"Hello!\")"
   ]
  },
  {
   "cell_type": "code",
   "execution_count": 2,
   "metadata": {},
   "outputs": [
    {
     "name": "stdout",
     "output_type": "stream",
     "text": [
      "This is also a string\n"
     ]
    }
   ],
   "source": [
    "from typing import Final\n",
    "\n",
    "# Entire phrase\n",
    "PHRASE: Final[str] = \"This is also a string\"\n",
    "print(PHRASE)"
   ]
  },
  {
   "cell_type": "code",
   "execution_count": 3,
   "metadata": {},
   "outputs": [
    {
     "name": "stdout",
     "output_type": "stream",
     "text": [
      "This is a multi-line string.\n",
      "    These strings are typically used for docstring.\n",
      "    They are preformatted and maintain their format.\n"
     ]
    }
   ],
   "source": [
    "from typing import Final\n",
    "\n",
    "# Multi-line and pre-formatted strings\n",
    "MULTILINE: Final[str] = \"\"\"\\\n",
    "This is a multi-line string.\n",
    "    These strings are typically used for docstring.\n",
    "    They are preformatted and maintain their format.\\\n",
    "\"\"\"\n",
    "print(MULTILINE)"
   ]
  },
  {
   "cell_type": "code",
   "execution_count": 4,
   "metadata": {},
   "outputs": [
    {
     "name": "stdout",
     "output_type": "stream",
     "text": [
      "I'm using single quotes, and this one works fine\n",
      "Now I'm ready to use the single quotes ' inside a double-quoted string!\n"
     ]
    }
   ],
   "source": [
    "from typing import Final\n",
    "\n",
    "# Be careful with quotes: Escape or Nest\n",
    "# phrase_2 = 'I'm using single quotes, but will create an error'\n",
    "PHRASE_3: Final[str] = \"I\\'m using single quotes, and this one works fine\"\n",
    "PHRASE_4: Final[str] = \"Now I'm ready to use the single quotes ' inside a double-quoted string!\"\n",
    "print(PHRASE_3)\n",
    "print(PHRASE_4)"
   ]
  },
  {
   "cell_type": "code",
   "execution_count": 5,
   "metadata": {},
   "outputs": [
    {
     "name": "stdout",
     "output_type": "stream",
     "text": [
      "This is a raw string.\\nNo escape is applied.\\nEverything is 'as-is'.\n"
     ]
    }
   ],
   "source": [
    "from typing import Final\n",
    "\n",
    "# Raw String\n",
    "# No special-processing and escaping are applied\n",
    "RAW_STRING: Final[str] = r\"This is a raw string.\\nNo escape is applied.\\nEverything is 'as-is'.\"\n",
    "print(RAW_STRING)"
   ]
  },
  {
   "cell_type": "markdown",
   "metadata": {},
   "source": [
    "## <a id='toc2_'></a>Printing a String [&#8593;](#toc0_)"
   ]
  },
  {
   "cell_type": "markdown",
   "metadata": {},
   "source": [
    "- The correct way to display strings in your output is by using a `print()` function"
   ]
  },
  {
   "cell_type": "code",
   "execution_count": 6,
   "metadata": {},
   "outputs": [
    {
     "name": "stdout",
     "output_type": "stream",
     "text": [
      "Hello World!\n",
      "Use \\n \n",
      "to print a new line\n",
      "\n",
      "\n",
      "See what I mean?\n",
      "\n",
      "Here is \t also a tabbed \t line using \\t\n"
     ]
    }
   ],
   "source": [
    "# Using print() function for output\n",
    "print(\"Hello World!\")\n",
    "print(\"Use \\\\n \\nto print a new line\")\n",
    "print(\"\\n\")\n",
    "print(\"See what I mean?\")\n",
    "print(\"\\nHere is \\t also a tabbed \\t line using \\\\t\")"
   ]
  },
  {
   "cell_type": "markdown",
   "metadata": {},
   "source": [
    "## <a id='toc3_'></a>String Length: `len(st)` [&#8593;](#toc0_)"
   ]
  },
  {
   "cell_type": "code",
   "execution_count": 7,
   "metadata": {},
   "outputs": [
    {
     "name": "stdout",
     "output_type": "stream",
     "text": [
      "11\n"
     ]
    }
   ],
   "source": [
    "# Length of a string\n",
    "print(len(\"Hello World\"))"
   ]
  },
  {
   "cell_type": "markdown",
   "metadata": {},
   "source": [
    "## <a id='toc4_'></a>String Indexing [&#8593;](#toc0_)"
   ]
  },
  {
   "cell_type": "code",
   "execution_count": 8,
   "metadata": {},
   "outputs": [
    {
     "name": "stdout",
     "output_type": "stream",
     "text": [
      "Hello World\n"
     ]
    }
   ],
   "source": [
    "from typing import Final\n",
    "\n",
    "# Assign ST as a string\n",
    "ST: Final[str] = \"Hello World\"\n",
    "print(ST)"
   ]
  },
  {
   "cell_type": "code",
   "execution_count": 9,
   "metadata": {},
   "outputs": [
    {
     "name": "stdout",
     "output_type": "stream",
     "text": [
      "H\n"
     ]
    }
   ],
   "source": [
    "# First element\n",
    "print(ST[0])"
   ]
  },
  {
   "cell_type": "code",
   "execution_count": 10,
   "metadata": {},
   "outputs": [
    {
     "name": "stdout",
     "output_type": "stream",
     "text": [
      "e\n"
     ]
    }
   ],
   "source": [
    "# Second element\n",
    "print(ST[1])"
   ]
  },
  {
   "cell_type": "code",
   "execution_count": 11,
   "metadata": {},
   "outputs": [
    {
     "name": "stdout",
     "output_type": "stream",
     "text": [
      "l\n"
     ]
    }
   ],
   "source": [
    "# Third element\n",
    "print(ST[2])"
   ]
  },
  {
   "cell_type": "markdown",
   "metadata": {},
   "source": [
    "## <a id='toc5_'></a>String Slicing: `st[from:to:steps]` [&#8593;](#toc0_)"
   ]
  },
  {
   "attachments": {},
   "cell_type": "markdown",
   "metadata": {},
   "source": [
    "- We can use a `:` to perform *slicing*\n",
    "  - Grabs everything up to (but not including) a designated point\n",
    "  - **These operation are *not performed as permanent changes* on the original string unless re-assigned**"
   ]
  },
  {
   "cell_type": "code",
   "execution_count": 12,
   "metadata": {},
   "outputs": [
    {
     "name": "stdout",
     "output_type": "stream",
     "text": [
      "ello World\n"
     ]
    }
   ],
   "source": [
    "# Grab everything from the second term all the way to the end of st which, is len(s)\n",
    "print(ST[1:])"
   ]
  },
  {
   "cell_type": "code",
   "execution_count": 13,
   "metadata": {},
   "outputs": [
    {
     "name": "stdout",
     "output_type": "stream",
     "text": [
      "Hello World\n"
     ]
    }
   ],
   "source": [
    "# Original string: No changes\n",
    "print(ST)"
   ]
  },
  {
   "cell_type": "code",
   "execution_count": 14,
   "metadata": {},
   "outputs": [
    {
     "name": "stdout",
     "output_type": "stream",
     "text": [
      "Hel\n"
     ]
    }
   ],
   "source": [
    "# Grab everything UP TO the 3rd index, EXCLUSIVE\n",
    "print(ST[:3])"
   ]
  },
  {
   "attachments": {},
   "cell_type": "markdown",
   "metadata": {},
   "source": [
    "- Note the above slicing: Here we are telling Python to grab everything from `0` up to `3`\n",
    "- It does not include the 4th index (`3`)\n",
    "- In Python, statements are usually in the context of *up to, but not including*"
   ]
  },
  {
   "cell_type": "code",
   "execution_count": 15,
   "metadata": {},
   "outputs": [
    {
     "name": "stdout",
     "output_type": "stream",
     "text": [
      "Hello World\n"
     ]
    }
   ],
   "source": [
    "# Grab everything\n",
    "print(ST[:])"
   ]
  },
  {
   "cell_type": "markdown",
   "metadata": {},
   "source": [
    "- We can also use negative indexing to go backwards"
   ]
  },
  {
   "cell_type": "code",
   "execution_count": 16,
   "metadata": {},
   "outputs": [
    {
     "name": "stdout",
     "output_type": "stream",
     "text": [
      "d\n"
     ]
    }
   ],
   "source": [
    "# Last letter (one index behind `0`, so it loops back around)\n",
    "print(ST[-1])"
   ]
  },
  {
   "cell_type": "code",
   "execution_count": 17,
   "metadata": {},
   "outputs": [
    {
     "name": "stdout",
     "output_type": "stream",
     "text": [
      "Hello Wor\n"
     ]
    }
   ],
   "source": [
    "# Grab everything, EXCEPT the last two letters\n",
    "print(ST[:-2])"
   ]
  },
  {
   "cell_type": "markdown",
   "metadata": {},
   "source": [
    "- We can also use index and slice notation to grab elements of a sequence by a specified step size (the default is `1`)\n",
    "- For instance, we can use two colons in a row and then a number specifying the frequency to grab elements\n",
    "- The format is: `st[from_index:to_index:by_step_of]`"
   ]
  },
  {
   "cell_type": "code",
   "execution_count": 18,
   "metadata": {},
   "outputs": [
    {
     "name": "stdout",
     "output_type": "stream",
     "text": [
      "Hello World\n"
     ]
    }
   ],
   "source": [
    "# Grab everything, go in step size of 1 (Default)\n",
    "print(ST[::])"
   ]
  },
  {
   "cell_type": "code",
   "execution_count": 19,
   "metadata": {},
   "outputs": [
    {
     "name": "stdout",
     "output_type": "stream",
     "text": [
      "HloWrd\n"
     ]
    }
   ],
   "source": [
    "# Grab everything, but go in step size of 2\n",
    "print(ST[::2])"
   ]
  },
  {
   "cell_type": "markdown",
   "metadata": {},
   "source": [
    "- Interestingly, we can use this to print a whole string backwards"
   ]
  },
  {
   "cell_type": "code",
   "execution_count": 20,
   "metadata": {},
   "outputs": [
    {
     "name": "stdout",
     "output_type": "stream",
     "text": [
      "dlroW olleH\n"
     ]
    }
   ],
   "source": [
    "# Printing a string backward\n",
    "print(ST[::-1])"
   ]
  },
  {
   "cell_type": "markdown",
   "metadata": {},
   "source": [
    "## <a id='toc6_'></a>String *Immutablity* [&#8593;](#toc0_)"
   ]
  },
  {
   "attachments": {},
   "cell_type": "markdown",
   "metadata": {},
   "source": [
    "- Once a string is created, the elements within it cannot be changed or replaced\n",
    "- **A new string object must be created every time we re-assign a string variable**\n",
    "- We cannot change the value of string elements in place"
   ]
  },
  {
   "cell_type": "code",
   "execution_count": 21,
   "metadata": {},
   "outputs": [
    {
     "name": "stdout",
     "output_type": "stream",
     "text": [
      "hello\n"
     ]
    }
   ],
   "source": [
    "st: str = \"hello\"\n",
    "print(st)"
   ]
  },
  {
   "cell_type": "code",
   "execution_count": 22,
   "metadata": {},
   "outputs": [],
   "source": [
    "# st[0] = \"x\" # => TypeError: \"str\" object does not support item assignment"
   ]
  },
  {
   "cell_type": "code",
   "execution_count": 23,
   "metadata": {},
   "outputs": [
    {
     "name": "stdout",
     "output_type": "stream",
     "text": [
      "x\n"
     ]
    }
   ],
   "source": [
    "# Re-assigning a string as a whole\n",
    "st = \"x\"\n",
    "print(st)"
   ]
  },
  {
   "cell_type": "code",
   "execution_count": 24,
   "metadata": {},
   "outputs": [
    {
     "name": "stdout",
     "output_type": "stream",
     "text": [
      "Hello World\n"
     ]
    }
   ],
   "source": [
    "# Re-assigning again\n",
    "st = \"Hello World\"\n",
    "print(st)"
   ]
  },
  {
   "cell_type": "markdown",
   "metadata": {},
   "source": [
    "## <a id='toc7_'></a>String Concatenation [&#8593;](#toc0_)"
   ]
  },
  {
   "attachments": {},
   "cell_type": "markdown",
   "metadata": {},
   "source": [
    "- Weave two strings together to become one\n",
    "- Operator: `+`"
   ]
  },
  {
   "cell_type": "code",
   "execution_count": 25,
   "metadata": {},
   "outputs": [
    {
     "name": "stdout",
     "output_type": "stream",
     "text": [
      "Hello, world\n"
     ]
    }
   ],
   "source": [
    "from typing import Final\n",
    "\n",
    "# Concatenating 2 strings\n",
    "X: Final[str] = \"Hello, \"\n",
    "Y: Final[str] = \"world\"\n",
    "st = X + Y\n",
    "print(st)"
   ]
  },
  {
   "cell_type": "code",
   "execution_count": 26,
   "metadata": {},
   "outputs": [
    {
     "name": "stdout",
     "output_type": "stream",
     "text": [
      "Hello, world concatenate me!\n"
     ]
    }
   ],
   "source": [
    "# Concatenate strings!\n",
    "print(st + \" concatenate me!\")"
   ]
  },
  {
   "cell_type": "code",
   "execution_count": 27,
   "metadata": {},
   "outputs": [
    {
     "name": "stdout",
     "output_type": "stream",
     "text": [
      "Hello, world concatenate me me me!\n"
     ]
    }
   ],
   "source": [
    "# Again, we can reassign str completely (Creating a new value)!\n",
    "st += \" concatenate me me me!\"\n",
    "print(st)"
   ]
  },
  {
   "cell_type": "markdown",
   "metadata": {},
   "source": [
    "## <a id='toc8_'></a>String Repetition [&#8593;](#toc0_)"
   ]
  },
  {
   "cell_type": "markdown",
   "metadata": {},
   "source": [
    "- We can use the multiplication symbol to create repetition of a string"
   ]
  },
  {
   "cell_type": "code",
   "execution_count": 28,
   "metadata": {},
   "outputs": [
    {
     "name": "stdout",
     "output_type": "stream",
     "text": [
      "zzzzzzzzzz!\n"
     ]
    }
   ],
   "source": [
    "print(\"z\" * 10 + \"!\") "
   ]
  },
  {
   "cell_type": "code",
   "execution_count": 29,
   "metadata": {},
   "outputs": [
    {
     "name": "stdout",
     "output_type": "stream",
     "text": [
      "Hello World!Hello World!Hello World!Hello World!Hello World!\n"
     ]
    }
   ],
   "source": [
    "print(\"Hello World!\" * 5)"
   ]
  },
  {
   "cell_type": "markdown",
   "metadata": {},
   "source": [
    "## <a id='toc9_'></a>Built-In String Methods [&#8593;](#toc0_)"
   ]
  },
  {
   "attachments": {},
   "cell_type": "markdown",
   "metadata": {},
   "source": [
    "- **Remember that strings are immutable**\n",
    "  - All the operations of these methods do not affect the original string\n",
    "  - They always return a new string object with the modifications applied"
   ]
  },
  {
   "cell_type": "code",
   "execution_count": 30,
   "metadata": {},
   "outputs": [],
   "source": [
    "# Here is our original test string\n",
    "st = \"Test string\""
   ]
  },
  {
   "cell_type": "markdown",
   "metadata": {},
   "source": [
    "### <a id='toc9_1_'></a>`st.upper()` [&#8593;](#toc0_)"
   ]
  },
  {
   "attachments": {},
   "cell_type": "markdown",
   "metadata": {},
   "source": [
    "- Make a string's characters all uppercase"
   ]
  },
  {
   "cell_type": "code",
   "execution_count": 31,
   "metadata": {},
   "outputs": [
    {
     "name": "stdout",
     "output_type": "stream",
     "text": [
      "TEST STRING\n"
     ]
    }
   ],
   "source": [
    "print(st.upper())"
   ]
  },
  {
   "cell_type": "code",
   "execution_count": 32,
   "metadata": {},
   "outputs": [
    {
     "name": "stdout",
     "output_type": "stream",
     "text": [
      "Test string\n"
     ]
    }
   ],
   "source": [
    "# And the original is... Unchanged!\n",
    "print(st)"
   ]
  },
  {
   "cell_type": "markdown",
   "metadata": {},
   "source": [
    "### <a id='toc9_2_'></a>`st.lower()` [&#8593;](#toc0_)"
   ]
  },
  {
   "attachments": {},
   "cell_type": "markdown",
   "metadata": {},
   "source": [
    "- Make a string's characters all lowercase"
   ]
  },
  {
   "cell_type": "code",
   "execution_count": 33,
   "metadata": {},
   "outputs": [
    {
     "name": "stdout",
     "output_type": "stream",
     "text": [
      "test string\n"
     ]
    }
   ],
   "source": [
    "print(st.lower())"
   ]
  },
  {
   "cell_type": "code",
   "execution_count": 34,
   "metadata": {},
   "outputs": [
    {
     "name": "stdout",
     "output_type": "stream",
     "text": [
      "Test string\n"
     ]
    }
   ],
   "source": [
    "# And the original is... Unchanged!\n",
    "print(st)"
   ]
  },
  {
   "cell_type": "markdown",
   "metadata": {},
   "source": [
    "### <a id='toc9_3_'></a>`st.split()` [&#8593;](#toc0_)"
   ]
  },
  {
   "attachments": {},
   "cell_type": "markdown",
   "metadata": {},
   "source": [
    "- Split a string at every blank space (Default)\n",
    "- To split at a different character, provide the `sep` argument for separator\n",
    "  - The result will not include the separator element that was split on\n",
    "- The `sep` argument can also be passed as an unnamed parameter"
   ]
  },
  {
   "cell_type": "code",
   "execution_count": 35,
   "metadata": {},
   "outputs": [
    {
     "name": "stdout",
     "output_type": "stream",
     "text": [
      "['Test', 'string']\n"
     ]
    }
   ],
   "source": [
    "print(st.split())"
   ]
  },
  {
   "cell_type": "code",
   "execution_count": 36,
   "metadata": {},
   "outputs": [
    {
     "name": "stdout",
     "output_type": "stream",
     "text": [
      "['Tes', ' s', 'ring']\n"
     ]
    }
   ],
   "source": [
    "# Splitting on t's instead\n",
    "print(st.split(sep=\"t\"))"
   ]
  },
  {
   "cell_type": "code",
   "execution_count": 37,
   "metadata": {},
   "outputs": [
    {
     "name": "stdout",
     "output_type": "stream",
     "text": [
      "['Tes', ' s', 'ring']\n"
     ]
    }
   ],
   "source": [
    "# The sep argument can be passed without a name\n",
    "print(st.split(\"t\"))"
   ]
  },
  {
   "cell_type": "markdown",
   "metadata": {},
   "source": [
    "### <a id='toc9_4_'></a>`st.format()` [&#8593;](#toc0_)"
   ]
  },
  {
   "attachments": {},
   "cell_type": "markdown",
   "metadata": {},
   "source": [
    "- Insert formatted objects with the string and use them as string\n",
    "- Use `{}` for the placeholder\n",
    "  - Can contain parameter position or named parameter, and *String Formatter*"
   ]
  },
  {
   "cell_type": "code",
   "execution_count": 38,
   "metadata": {},
   "outputs": [
    {
     "name": "stdout",
     "output_type": "stream",
     "text": [
      "Insert another string with curly brackets: The inserted string. And a value 6.\n"
     ]
    }
   ],
   "source": [
    "# Using str.format()\n",
    "st1: str = \"Insert another string with curly brackets: {}\"\n",
    "st2: str = st1.format(\"The inserted string. And a value {}.\")\n",
    "print(st2.format(1 + 2 + 3))"
   ]
  },
  {
   "cell_type": "code",
   "execution_count": 39,
   "metadata": {},
   "outputs": [
    {
     "name": "stdout",
     "output_type": "stream",
     "text": [
      "The fox brown quick\n"
     ]
    }
   ],
   "source": [
    "# We can let the position determine the order\n",
    "print(\"The {} {} {}\".format(\"fox\", \"brown\", \"quick\"))"
   ]
  },
  {
   "cell_type": "code",
   "execution_count": 40,
   "metadata": {},
   "outputs": [
    {
     "name": "stdout",
     "output_type": "stream",
     "text": [
      "The quick brown fox\n"
     ]
    }
   ],
   "source": [
    "# Or we can use numbered indexes\n",
    "print(\"The {2} {1} {0}\".format(\"fox\", \"brown\", \"quick\"))"
   ]
  },
  {
   "cell_type": "code",
   "execution_count": 41,
   "metadata": {},
   "outputs": [
    {
     "name": "stdout",
     "output_type": "stream",
     "text": [
      "The quick brown fox\n"
     ]
    }
   ],
   "source": [
    "# Or we can use named indexes\n",
    "print(\"The {q} {b} {f}\".format(f=\"fox\", b=\"brown\", q=\"quick\"))"
   ]
  },
  {
   "cell_type": "markdown",
   "metadata": {},
   "source": [
    "#### <a id='toc9_4_1_'></a>Float Formatting [&#8593;](#toc0_)"
   ]
  },
  {
   "cell_type": "markdown",
   "metadata": {},
   "source": [
    "- `.format()` can also be used with floating point formatting"
   ]
  },
  {
   "cell_type": "code",
   "execution_count": 42,
   "metadata": {},
   "outputs": [
    {
     "name": "stdout",
     "output_type": "stream",
     "text": [
      "The result was 0.1287001287001287\n",
      "The result was 0.1287001287001287\n",
      "The result was 0.12870\n",
      "The result was    0.12870\n"
     ]
    }
   ],
   "source": [
    "from typing import Final\n",
    "\n",
    "RESULT: Final[float] = 100 / 777\n",
    "\n",
    "print(\"The result was {}\".format(RESULT))\n",
    "print(\"The result was {r}\".format(r=RESULT))\n",
    "print(\"The result was {r:0.5f}\".format(r=RESULT)) # => {value:width.precision f}\n",
    "print(\"The result was {r:10.5f}\".format(r=RESULT)) # => {value:width.precision f}, width adds whitespaces"
   ]
  },
  {
   "cell_type": "markdown",
   "metadata": {},
   "source": [
    "#### <a id='toc9_4_2_'></a>String Format Specifiers [&#8593;](#toc0_)"
   ]
  },
  {
   "attachments": {},
   "cell_type": "markdown",
   "metadata": {},
   "source": [
    "Type|Meaning|Effect\n",
    ":-|:-|:-\n",
    "`\"b\"`|Binary format|Outputs integer in base 2\n",
    "`\"c\"`|Character|Converts integer to the corresponding unicode character\n",
    "`\"d\"`|Decimal Integer|Outputs integer in base 10 (Default for Integers)\n",
    "`\"e\"`|Scientific Notation lowercase|Outputs integer and floats with `e`\n",
    "`\"E\"`|Scientific Notation uppercase|Outputs integer and floats with `E`\n",
    "`\"f\"`|Fixed-point Notation|Format floats for a given precision\n",
    "`\"F\"`|Fixed-point Notation|Same as `f` but converts `nan` to `NAN` and `inf` to `INF`\n",
    "`\"g\"`|General Format lowercase|Rounds the number to `p` significant digits, then `\"e\"` or `\"f\"` (Default for `float` and `decimal`)\n",
    "`\"G\"`|General Format uppercase|Rounds the number to `p` significant digits, then `\"E\"` or `\"F\"`\n",
    "`\"n\"`|Number|Equivalent to `d` but using current locale setting for number separator\n",
    "`\"o\"`|Octal format|Outputs integer in base 8\n",
    "`\"s\"`|String format|Default overall\n",
    "`\"x\"`|Hex lowercase format|Outputs integer in base 16 with lower-case letters\n",
    "`\"X\"`|Hex uppercase format|Outputs integer in base 16 with upper-case letters\n",
    "`\"%\"`|Percentage|Multiplies the number by `100` and displays as `\"f\"`, followed by a percent sign"
   ]
  },
  {
   "cell_type": "markdown",
   "metadata": {},
   "source": [
    "### <a id='toc9_5_'></a>String Interpolation: `f-string` [&#8593;](#toc0_)"
   ]
  },
  {
   "attachments": {},
   "cell_type": "markdown",
   "metadata": {},
   "source": [
    "- Available since Python 3.6+\n",
    "- Preppend `f` for formatting at the very beginning of the string\n",
    "- We can still use all the formatting available with `str.format()`"
   ]
  },
  {
   "cell_type": "code",
   "execution_count": 43,
   "metadata": {},
   "outputs": [
    {
     "name": "stdout",
     "output_type": "stream",
     "text": [
      "Using f-string: The result was 0.129, and the age was 18.\n"
     ]
    }
   ],
   "source": [
    "AGE: int = 18\n",
    "print(f\"Using f-string: The result was {RESULT:0.3f}, and the age was {AGE}.\")"
   ]
  },
  {
   "cell_type": "markdown",
   "metadata": {},
   "source": [
    "### <a id='toc9_6_'></a>`st.join()` [&#8593;](#toc0_)"
   ]
  },
  {
   "attachments": {},
   "cell_type": "markdown",
   "metadata": {},
   "source": [
    "- This allows us to join a list of strings together\n",
    "- It allows to concatenate a list of string altogether by a given separator\n",
    "- **This is the reverse of `st.split()`**"
   ]
  },
  {
   "cell_type": "code",
   "execution_count": 44,
   "metadata": {},
   "outputs": [
    {
     "name": "stdout",
     "output_type": "stream",
     "text": [
      "This-is-a-simple-Hello-World-!\n"
     ]
    }
   ],
   "source": [
    "# Concatenate the strings in the list with a \"-\" as a separator\n",
    "print(\"-\".join([\"This\",\"is\",\"a\",\"simple\",\"Hello\",\"World\",\"!\"]))"
   ]
  }
 ],
 "metadata": {
  "hide_input": false,
  "kernelspec": {
   "display_name": "venv310",
   "language": "python",
   "name": "python3"
  },
  "language_info": {
   "codemirror_mode": {
    "name": "ipython",
    "version": 3
   },
   "file_extension": ".py",
   "mimetype": "text/x-python",
   "name": "python",
   "nbconvert_exporter": "python",
   "pygments_lexer": "ipython3",
   "version": "3.11.2"
  },
  "toc": {
   "base_numbering": 1,
   "nav_menu": {},
   "number_sections": true,
   "sideBar": true,
   "skip_h1_title": true,
   "title_cell": "Table of Contents",
   "title_sidebar": "Contents",
   "toc_cell": true,
   "toc_position": {},
   "toc_section_display": true,
   "toc_window_display": true
  },
  "varInspector": {
   "cols": {
    "lenName": 16,
    "lenType": 16,
    "lenVar": 40
   },
   "kernels_config": {
    "python": {
     "delete_cmd_postfix": "",
     "delete_cmd_prefix": "del ",
     "library": "var_list.py",
     "varRefreshCmd": "print(var_dic_list())"
    },
    "r": {
     "delete_cmd_postfix": ") ",
     "delete_cmd_prefix": "rm(",
     "library": "var_list.r",
     "varRefreshCmd": "cat(var_dic_list()) "
    }
   },
   "types_to_exclude": [
    "module",
    "function",
    "builtin_function_or_method",
    "instance",
    "_Feature"
   ],
   "window_display": false
  },
  "vscode": {
   "interpreter": {
    "hash": "6e400aa61d85e496d68b2399928a7ddcb9f74ee26aa2584481c22b89bfb1eab7"
   }
  }
 },
 "nbformat": 4,
 "nbformat_minor": 4
}
