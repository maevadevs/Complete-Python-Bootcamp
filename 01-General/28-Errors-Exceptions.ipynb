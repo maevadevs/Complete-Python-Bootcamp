{
 "cells": [
  {
   "cell_type": "markdown",
   "metadata": {
    "toc": true
   },
   "source": [
    "<h1>Table of Contents<span class=\"tocSkip\"></span></h1>\n",
    "<div class=\"toc\"><ul class=\"toc-item\"><li><span><a href=\"#try-and-except\" data-toc-modified-id=\"try-and-except-1\"><span class=\"toc-item-num\">1&nbsp;&nbsp;</span><code>try</code> and <code>except</code></a></span></li><li><span><a href=\"#finally\" data-toc-modified-id=\"finally-2\"><span class=\"toc-item-num\">2&nbsp;&nbsp;</span><code>finally</code></a></span></li><li><span><a href=\"#Capturing-Exceptions\" data-toc-modified-id=\"Capturing-Exceptions-3\"><span class=\"toc-item-num\">3&nbsp;&nbsp;</span>Capturing Exceptions</a></span></li></ul></div>"
   ]
  },
  {
   "cell_type": "markdown",
   "metadata": {},
   "source": [
    "# Errors and Exceptions Handling: `try`, `except`, `finally`"
   ]
  },
  {
   "cell_type": "markdown",
   "metadata": {},
   "source": [
    "- Exceptions: Errors detected during execution. They are not unconditionally fatal"
   ]
  },
  {
   "cell_type": "markdown",
   "metadata": {},
   "source": [
    "## `try` and `except`"
   ]
  },
  {
   "cell_type": "markdown",
   "metadata": {},
   "source": [
    "```python\n",
    "try:\n",
    "    Some statements here...\n",
    "    You do your operations here...\n",
    "    ...\n",
    "except ExceptionTypeI:\n",
    "    If there is ExceptionTypeI, then execute this block.\n",
    "except ExceptionTypeII:\n",
    "    If there is ExceptionTypeII, then execute this block.\n",
    "    ...\n",
    "else:\n",
    "    If there is no exception, then execute this block.\n",
    "```"
   ]
  },
  {
   "cell_type": "code",
   "execution_count": 1,
   "metadata": {},
   "outputs": [
    {
     "name": "stdout",
     "output_type": "stream",
     "text": [
      "Error: Could not find file testfile3.txt or read data\n"
     ]
    }
   ],
   "source": [
    "from os import path\n",
    "from pathlib import Path\n",
    "\n",
    "root = Path().absolute()\n",
    "\n",
    "try:\n",
    "    f = open(path.join(root, '..', 'demofiles', 'testfile3.txt'))\n",
    "    f.write('Test write this')\n",
    "except FileNotFoundError:\n",
    "    # This will only check for an FileNotFoundError exception and then execute this print statement\n",
    "    print(\"Error: Could not find file testfile3.txt or read data\")\n",
    "else:\n",
    "    print(\"Content written successfully\")\n",
    "    f.close()"
   ]
  },
  {
   "cell_type": "code",
   "execution_count": 2,
   "metadata": {},
   "outputs": [
    {
     "name": "stdout",
     "output_type": "stream",
     "text": [
      "Error: Could not find file testfile3.txt or read data\n",
      "Hey, I am still printing though there is an error.\n"
     ]
    }
   ],
   "source": [
    "# We did not have write permission (opening only with 'r')\n",
    "\n",
    "try:\n",
    "    f = open(path.join(root, '..', 'demofiles', 'testfile3.txt'), mode='r')\n",
    "    f.write('Test write this')\n",
    "except IOError:\n",
    "    # This will only check for an IOError exception and then execute this print statement\n",
    "    print(\"Error: Could not find file testfile3.txt or read data\")\n",
    "else:\n",
    "    print(\"Content written successfully\")\n",
    "    f.close()\n",
    "    \n",
    "print(\"Hey, I am still printing though there is an error.\")"
   ]
  },
  {
   "cell_type": "markdown",
   "metadata": {},
   "source": [
    "- Exceptions can be generalized if unknown"
   ]
  },
  {
   "cell_type": "code",
   "execution_count": 3,
   "metadata": {},
   "outputs": [
    {
     "name": "stdout",
     "output_type": "stream",
     "text": [
      "Error: Could not find file testfile3.txt or read data\n"
     ]
    }
   ],
   "source": [
    "try:\n",
    "    f = open(path.join(root, '..', 'demofiles', 'testfile3.txt'), mode='r')\n",
    "    f.write('Test write this')\n",
    "except:\n",
    "    # This will check for any exception and then excute this print statement\n",
    "    print(\"Error: Could not find file testfile3.txt or read data\")\n",
    "else:\n",
    "    print(\"Content written successfully\")\n",
    "    f.close()"
   ]
  },
  {
   "cell_type": "markdown",
   "metadata": {},
   "source": [
    "## `finally`"
   ]
  },
  {
   "cell_type": "markdown",
   "metadata": {},
   "source": [
    "- If we want to keep running code after the exception occurred, this is where `finally` comes in\n",
    "- This could be for some cleanup codes\n",
    "- The `finally` block of code will always be run, regardless if there was an exception in the `try` code block or not\n",
    "\n",
    "```python\n",
    "try:\n",
    "    Code block here\n",
    "    ...\n",
    "    Due to any exception, this code may be skipped!\n",
    "except:\n",
    "    Catch and handle errors here\n",
    "finally:\n",
    "    This code block would always be executed.\n",
    "```"
   ]
  },
  {
   "cell_type": "code",
   "execution_count": 4,
   "metadata": {},
   "outputs": [
    {
     "name": "stdout",
     "output_type": "stream",
     "text": [
      "An error occurred.\n",
      "Always execute finally code blocks.\n"
     ]
    }
   ],
   "source": [
    "try:\n",
    "    f = open(path.join(root, '..', 'demofiles', 'testfile3.txt'), mode='r')\n",
    "    f.write(\"Test write statement\")\n",
    "except:\n",
    "    print(\"An error occurred.\")\n",
    "else:\n",
    "    print(\"success\")\n",
    "finally:\n",
    "    print(\"Always execute finally code blocks.\")"
   ]
  },
  {
   "cell_type": "code",
   "execution_count": 5,
   "metadata": {},
   "outputs": [],
   "source": [
    "def askInt3():\n",
    "    while True:\n",
    "        try:\n",
    "            val = int(input(\"Please enter an integer: \"))\n",
    "        except:\n",
    "            print(\"Looks like you did not enter an integer!\")\n",
    "            continue # Go back to the loop\n",
    "        else:\n",
    "            print(\"Yep that's an integer!\")\n",
    "            break # Only break when we get an integer\n",
    "        finally:\n",
    "            print(\"Finally, I executed!\")\n",
    "    print(val)"
   ]
  },
  {
   "cell_type": "code",
   "execution_count": 6,
   "metadata": {},
   "outputs": [
    {
     "name": "stdout",
     "output_type": "stream",
     "text": [
      "Please enter an integer: f\n",
      "Looks like you did not enter an integer!\n",
      "Finally, I executed!\n",
      "Please enter an integer: 4\n",
      "Yep that's an integer!\n",
      "Finally, I executed!\n",
      "4\n"
     ]
    }
   ],
   "source": [
    "askInt3()"
   ]
  },
  {
   "cell_type": "markdown",
   "metadata": {},
   "source": [
    "## Capturing Exceptions"
   ]
  },
  {
   "cell_type": "markdown",
   "metadata": {},
   "source": [
    "- Use `except Exception as e` and `str(e)` to get the error message"
   ]
  },
  {
   "cell_type": "code",
   "execution_count": 7,
   "metadata": {},
   "outputs": [],
   "source": [
    "def askInt4():\n",
    "    try:\n",
    "        val = int(input(\"Please enter an integer: \"))\n",
    "        print(val)\n",
    "    except Exception as e:\n",
    "        print(\"Oops! There was an error: \" + str(e))\n",
    "    finally:\n",
    "        print(\"Finally, I executed!\")"
   ]
  },
  {
   "cell_type": "code",
   "execution_count": 8,
   "metadata": {},
   "outputs": [
    {
     "name": "stdout",
     "output_type": "stream",
     "text": [
      "Please enter an integer: 4\n",
      "4\n",
      "Finally, I executed!\n"
     ]
    }
   ],
   "source": [
    "askInt4()"
   ]
  }
 ],
 "metadata": {
  "kernelspec": {
   "display_name": "Python 3",
   "language": "python",
   "name": "python3"
  },
  "language_info": {
   "codemirror_mode": {
    "name": "ipython",
    "version": 3
   },
   "file_extension": ".py",
   "mimetype": "text/x-python",
   "name": "python",
   "nbconvert_exporter": "python",
   "pygments_lexer": "ipython3",
   "version": "3.7.6"
  },
  "toc": {
   "base_numbering": 1,
   "nav_menu": {},
   "number_sections": true,
   "sideBar": true,
   "skip_h1_title": true,
   "title_cell": "Table of Contents",
   "title_sidebar": "Contents",
   "toc_cell": true,
   "toc_position": {},
   "toc_section_display": true,
   "toc_window_display": true
  }
 },
 "nbformat": 4,
 "nbformat_minor": 4
}
