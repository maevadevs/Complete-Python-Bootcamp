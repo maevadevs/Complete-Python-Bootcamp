{
 "cells": [
  {
   "cell_type": "markdown",
   "metadata": {},
   "source": [
    "# Dictionaries\n",
    "---"
   ]
  },
  {
   "cell_type": "markdown",
   "metadata": {},
   "source": [
    "**Table of Contents**<a id='toc0_'></a>    \n",
    "- [Mappings ](#toc1_)    \n",
    "- [Constructing a Dictionary ](#toc2_)    \n",
    "- [Nesting With Dictionaries ](#toc3_)    \n",
    "- [Basic Dictionary Methods ](#toc4_)    \n",
    "  - [Keys: `dict.keys()` ](#toc4_1_)    \n",
    "  - [Values: `dict.values()` ](#toc4_2_)    \n",
    "  - [Items: `dict.items()` ](#toc4_3_)    \n",
    "- [Dictionary Comprehension ](#toc5_)    \n",
    "\n",
    "<!-- vscode-jupyter-toc-config\n",
    "\tnumbering=false\n",
    "\tanchor=true\n",
    "\tflat=false\n",
    "\tminLevel=2\n",
    "\tmaxLevel=6\n",
    "\t/vscode-jupyter-toc-config -->\n",
    "<!-- THIS CELL WILL BE REPLACED ON TOC UPDATE. DO NOT WRITE YOUR TEXT IN THIS CELL -->"
   ]
  },
  {
   "attachments": {},
   "cell_type": "markdown",
   "metadata": {},
   "source": [
    "---"
   ]
  },
  {
   "attachments": {},
   "cell_type": "markdown",
   "metadata": {},
   "source": [
    "- Dictionaries are about **mappings** in Python\n",
    "- Collection of related data pairs\n",
    "- You can think of Dictionaries as hash tables, or the foundation of *Objects*\n",
    "- Entries in dictionary are not ordered"
   ]
  },
  {
   "cell_type": "markdown",
   "metadata": {},
   "source": [
    "## <a id='toc1_'></a>Mappings  [&#8593;](#toc0_)"
   ]
  },
  {
   "attachments": {},
   "cell_type": "markdown",
   "metadata": {},
   "source": [
    "- Mappings are a collection of objects that are stored by *key*\n",
    "- *Mappings will not retain order since they have objects defined by a key*\n",
    "- A Python dictionary consists of a *key* and an associated *value*\n",
    "- The value can almost be any Python object\n",
    "- Dictionaries are *mutable*"
   ]
  },
  {
   "cell_type": "markdown",
   "metadata": {},
   "source": [
    "## <a id='toc2_'></a>Constructing a Dictionary  [&#8593;](#toc0_)"
   ]
  },
  {
   "attachments": {},
   "cell_type": "markdown",
   "metadata": {},
   "source": [
    "- Make a dictionary with `{}` and `:` to signify a `{key:value}` pair\n",
    "- We can also use the `dict()` constructor\n",
    "- It is possible for a dictionary to be empty\n",
    "- To remove an item, use `del`\n",
    "- **NOTE: A dictionary Key must be unique**"
   ]
  },
  {
   "cell_type": "code",
   "execution_count": 1,
   "metadata": {},
   "outputs": [
    {
     "name": "stdout",
     "output_type": "stream",
     "text": [
      "value2\n"
     ]
    }
   ],
   "source": [
    "from typing import Final\n",
    "\n",
    "MY_DICT: Final[dict[str, str]] = {\n",
    "  \"key1\":\"value1\",\n",
    "  \"key2\":\"value2\"\n",
    "}\n",
    "\n",
    "# Call values by their key\n",
    "print(MY_DICT[\"key2\"])"
   ]
  },
  {
   "cell_type": "code",
   "execution_count": 2,
   "metadata": {},
   "outputs": [
    {
     "name": "stdout",
     "output_type": "stream",
     "text": [
      "('item0', 'item1', 'item2')\n"
     ]
    }
   ],
   "source": [
    "from typing import Any\n",
    "\n",
    "# Dictionaries can contain any data types (dynamic)\n",
    "my_dict: dict[str, Any] = {\n",
    "  \"key1\": 123,\n",
    "  \"key2\": [12, 23, 33],\n",
    "  \"key3\": (\"item0\", \"item1\", \"item2\")\n",
    "}\n",
    "\n",
    "# Lets call items from the dictionary\n",
    "print(my_dict[\"key3\"])"
   ]
  },
  {
   "cell_type": "code",
   "execution_count": 3,
   "metadata": {},
   "outputs": [
    {
     "name": "stdout",
     "output_type": "stream",
     "text": [
      "item0\n"
     ]
    }
   ],
   "source": [
    "# Can call an index on that value\n",
    "print(my_dict[\"key3\"][0])"
   ]
  },
  {
   "cell_type": "code",
   "execution_count": 4,
   "metadata": {},
   "outputs": [
    {
     "name": "stdout",
     "output_type": "stream",
     "text": [
      "ITEM0\n"
     ]
    }
   ],
   "source": [
    "# Can then even call methods on that value\n",
    "print(my_dict[\"key3\"][0].upper())"
   ]
  },
  {
   "cell_type": "code",
   "execution_count": 5,
   "metadata": {},
   "outputs": [
    {
     "name": "stdout",
     "output_type": "stream",
     "text": [
      "123\n"
     ]
    }
   ],
   "source": [
    "# We can affect the values of a key as well. For instance:\n",
    "print(my_dict[\"key1\"])"
   ]
  },
  {
   "cell_type": "code",
   "execution_count": 6,
   "metadata": {},
   "outputs": [
    {
     "name": "stdout",
     "output_type": "stream",
     "text": [
      "3\n"
     ]
    }
   ],
   "source": [
    "# Subtract 120 from the value\n",
    "my_dict[\"key1\"] -= 120\n",
    "print(my_dict[\"key1\"])"
   ]
  },
  {
   "cell_type": "markdown",
   "metadata": {},
   "source": [
    "- We can also create keys by assignment\n",
    "- For instance if we started off with an empty dictionary, we could continually add to it"
   ]
  },
  {
   "cell_type": "code",
   "execution_count": 7,
   "metadata": {},
   "outputs": [
    {
     "name": "stdout",
     "output_type": "stream",
     "text": [
      "{'animal': 'Dog', 'answer': 42}\n"
     ]
    }
   ],
   "source": [
    "from typing import Any\n",
    "\n",
    "# Create a new dictionary\n",
    "d: dict[str, Any] = {}\n",
    "\n",
    "# Create a new key through assignment\n",
    "d[\"animal\"] = \"Dog\"\n",
    "\n",
    "# Can do this with any object\n",
    "d[\"answer\"] = 42\n",
    "\n",
    "# Show\n",
    "print(d)"
   ]
  },
  {
   "cell_type": "markdown",
   "metadata": {},
   "source": [
    "## <a id='toc3_'></a>Nesting With Dictionaries  [&#8593;](#toc0_)"
   ]
  },
  {
   "cell_type": "code",
   "execution_count": 8,
   "metadata": {},
   "outputs": [
    {
     "name": "stdout",
     "output_type": "stream",
     "text": [
      "thisvalue\n"
     ]
    }
   ],
   "source": [
    "d = {\n",
    "  \"key1\": {\n",
    "    \"nestkey\": {\n",
    "      \"subnestkey\":\"thisvalue\"\n",
    "    }\n",
    "  }\n",
    "}\n",
    "\n",
    "# Keep calling the keys\n",
    "print(d[\"key1\"][\"nestkey\"][\"subnestkey\"])"
   ]
  },
  {
   "cell_type": "markdown",
   "metadata": {},
   "source": [
    "## <a id='toc4_'></a>Basic Dictionary Methods  [&#8593;](#toc0_)"
   ]
  },
  {
   "cell_type": "code",
   "execution_count": 9,
   "metadata": {},
   "outputs": [],
   "source": [
    "from typing import Final\n",
    "\n",
    "# Create a typical dictionary\n",
    "DICTO: Final[dict[str, int]] = {\n",
    "  \"key1\": 1,\n",
    "  \"key2\": 2,\n",
    "  \"key3\": 3\n",
    "}"
   ]
  },
  {
   "cell_type": "markdown",
   "metadata": {},
   "source": [
    "### <a id='toc4_1_'></a>Keys: `dict.keys()`  [&#8593;](#toc0_)"
   ]
  },
  {
   "cell_type": "markdown",
   "metadata": {},
   "source": [
    "- Return a list of all keys in the dictionary"
   ]
  },
  {
   "cell_type": "code",
   "execution_count": 10,
   "metadata": {},
   "outputs": [
    {
     "name": "stdout",
     "output_type": "stream",
     "text": [
      "dict_keys(['key1', 'key2', 'key3'])\n"
     ]
    }
   ],
   "source": [
    "print(DICTO.keys())"
   ]
  },
  {
   "cell_type": "markdown",
   "metadata": {},
   "source": [
    "### <a id='toc4_2_'></a>Values: `dict.values()`  [&#8593;](#toc0_)"
   ]
  },
  {
   "cell_type": "markdown",
   "metadata": {},
   "source": [
    "- Return a list of all values in the dictionary"
   ]
  },
  {
   "cell_type": "code",
   "execution_count": 11,
   "metadata": {},
   "outputs": [
    {
     "name": "stdout",
     "output_type": "stream",
     "text": [
      "dict_values([1, 2, 3])\n"
     ]
    }
   ],
   "source": [
    "print(DICTO.values())"
   ]
  },
  {
   "cell_type": "markdown",
   "metadata": {},
   "source": [
    "### <a id='toc4_3_'></a>Items: `dict.items()`  [&#8593;](#toc0_)"
   ]
  },
  {
   "cell_type": "markdown",
   "metadata": {},
   "source": [
    "- Return a list that contain each (key:value) pair in the dictionary as tuples"
   ]
  },
  {
   "cell_type": "code",
   "execution_count": 12,
   "metadata": {},
   "outputs": [
    {
     "name": "stdout",
     "output_type": "stream",
     "text": [
      "dict_items([('key1', 1), ('key2', 2), ('key3', 3)])\n"
     ]
    }
   ],
   "source": [
    "print(DICTO.items())"
   ]
  },
  {
   "cell_type": "markdown",
   "metadata": {},
   "source": [
    "## <a id='toc5_'></a>Dictionary Comprehension  [&#8593;](#toc0_)"
   ]
  },
  {
   "attachments": {},
   "cell_type": "markdown",
   "metadata": {},
   "source": [
    "- Similar to List comprehension, Dictionary comprehension is also possible using the built-in function [`enumerate()`](../02-Builtin-Functions/40-Enumerate.ipynb)\n",
    "- We just need to specify the key and the value from the breakdown of `enumerate()`"
   ]
  },
  {
   "cell_type": "code",
   "execution_count": 13,
   "metadata": {},
   "outputs": [
    {
     "name": "stdout",
     "output_type": "stream",
     "text": [
      "Original List: ['zero', 'one', 'two', 'three', 'four']\n",
      "Enumerated Dict: {'zero': 0, 'one': 1, 'two': 2, 'three': 3, 'four': 4}\n",
      "\n"
     ]
    }
   ],
   "source": [
    "from typing import List\n",
    "\n",
    "SLIST: Final[List[str]] = [\"zero\", \"one\", \"two\", \"three\", \"four\"]\n",
    "SDICT: Final[dict[str, int]] = { v: k for k, v in enumerate(SLIST) }\n",
    "\n",
    "print(\"Original List:\", SLIST)\n",
    "print(\"Enumerated Dict:\", SDICT)\n",
    "print(\"\")"
   ]
  },
  {
   "attachments": {},
   "cell_type": "markdown",
   "metadata": {},
   "source": [
    "- We can also use the built-in function [`zip()`](../02-Builtin-Functions/39-Zip.ipynb)"
   ]
  },
  {
   "cell_type": "code",
   "execution_count": 14,
   "metadata": {},
   "outputs": [
    {
     "name": "stdout",
     "output_type": "stream",
     "text": [
      "List 1: ['first', 'second', 'third', 'fourth']\n",
      "List 2: ['bacon', 'lettuce', 'tomato', 'egg']\n",
      "Mapping 2 List with zip(): {'first': 'bacon', 'second': 'lettuce', 'third': 'tomato', 'fourth': 'egg'}\n"
     ]
    }
   ],
   "source": [
    "from typing import Final, List\n",
    "\n",
    "# NOTE: Mapping two lists into a single dictionary uses zip instead\n",
    "\n",
    "LIST_1: Final[List[str]] = [\"first\", \"second\", \"third\", \"fourth\"]\n",
    "LIST_2: Final[List[str]] = [\"bacon\", \"lettuce\", \"tomato\", \"egg\"]\n",
    "\n",
    "DICT: Final[dict[str, str]] = { k: v for k, v in zip(LIST_1, LIST_2) }\n",
    "\n",
    "print(\"List 1:\", LIST_1)\n",
    "print(\"List 2:\", LIST_2)\n",
    "print(\"Mapping 2 List with zip():\", DICT)"
   ]
  }
 ],
 "metadata": {
  "hide_input": false,
  "kernelspec": {
   "display_name": "venv310",
   "language": "python",
   "name": "python3"
  },
  "language_info": {
   "codemirror_mode": {
    "name": "ipython",
    "version": 3
   },
   "file_extension": ".py",
   "mimetype": "text/x-python",
   "name": "python",
   "nbconvert_exporter": "python",
   "pygments_lexer": "ipython3",
   "version": "3.11.2"
  },
  "toc": {
   "base_numbering": 1,
   "nav_menu": {},
   "number_sections": true,
   "sideBar": true,
   "skip_h1_title": true,
   "title_cell": "Table of Contents",
   "title_sidebar": "Contents",
   "toc_cell": true,
   "toc_position": {},
   "toc_section_display": true,
   "toc_window_display": true
  },
  "varInspector": {
   "cols": {
    "lenName": 16,
    "lenType": 16,
    "lenVar": 40
   },
   "kernels_config": {
    "python": {
     "delete_cmd_postfix": "",
     "delete_cmd_prefix": "del ",
     "library": "var_list.py",
     "varRefreshCmd": "print(var_dic_list())"
    },
    "r": {
     "delete_cmd_postfix": ") ",
     "delete_cmd_prefix": "rm(",
     "library": "var_list.r",
     "varRefreshCmd": "cat(var_dic_list()) "
    }
   },
   "types_to_exclude": [
    "module",
    "function",
    "builtin_function_or_method",
    "instance",
    "_Feature"
   ],
   "window_display": false
  },
  "vscode": {
   "interpreter": {
    "hash": "6e400aa61d85e496d68b2399928a7ddcb9f74ee26aa2584481c22b89bfb1eab7"
   }
  }
 },
 "nbformat": 4,
 "nbformat_minor": 4
}
