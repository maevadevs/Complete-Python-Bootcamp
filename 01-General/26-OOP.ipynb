{
 "cells": [
  {
   "cell_type": "markdown",
   "metadata": {},
   "source": [
    "# Object-Oriented Programming\n",
    "---"
   ]
  },
  {
   "cell_type": "markdown",
   "metadata": {},
   "source": [
    "**Table of Contents**<a id='toc0_'></a>    \n",
    "- [Object](#toc1_)    \n",
    "- [Class](#toc2_)    \n",
    "  - [Class Attributes](#toc2_1_)    \n",
    "- [Methods](#toc3_)    \n",
    "- [Inheritance](#toc4_)    \n",
    "- [Polymorphism & Abstract Class](#toc5_)    \n",
    "- [Special Methods](#toc6_)    \n",
    "  - [`__init__() `, `__str__()`, `__len__()` and the `__del__()` Methods](#toc6_1_)    \n",
    "- [Additional Resources](#toc7_)    \n",
    "\n",
    "<!-- vscode-jupyter-toc-config\n",
    "\tnumbering=false\n",
    "\tanchor=true\n",
    "\tflat=false\n",
    "\tminLevel=2\n",
    "\tmaxLevel=6\n",
    "\t/vscode-jupyter-toc-config -->\n",
    "<!-- THIS CELL WILL BE REPLACED ON TOC UPDATE. DO NOT WRITE YOUR TEXT IN THIS CELL -->"
   ]
  },
  {
   "attachments": {},
   "cell_type": "markdown",
   "metadata": {},
   "source": [
    "---"
   ]
  },
  {
   "cell_type": "code",
   "execution_count": 1,
   "metadata": {},
   "outputs": [],
   "source": [
    "from typing import Callable"
   ]
  },
  {
   "cell_type": "markdown",
   "metadata": {},
   "source": [
    "## <a id='toc1_'></a>Object [&#8593;](#toc0_)"
   ]
  },
  {
   "cell_type": "markdown",
   "metadata": {},
   "source": [
    "- In Python, everything is an object with a class"
   ]
  },
  {
   "cell_type": "code",
   "execution_count": 2,
   "metadata": {},
   "outputs": [
    {
     "name": "stdout",
     "output_type": "stream",
     "text": [
      "type(1):\t <class 'int'>\n",
      "type(1.0):\t <class 'float'>\n",
      "type(\"Hi!\"):\t <class 'str'>\n",
      "type([]):\t <class 'list'>\n",
      "type(()):\t <class 'tuple'>\n",
      "type((1, 2, 3)): <class 'tuple'>\n",
      "type({}):\t <class 'dict'>\n",
      "type({1, 2, 3}): <class 'set'>\n",
      "type(True):\t <class 'bool'>\n",
      "type(len):\t <class 'builtin_function_or_method'>\n",
      "type(greet()):\t <class 'function'>\n"
     ]
    }
   ],
   "source": [
    "print(\"type(1):\\t\", str(type(1)))\n",
    "print(\"type(1.0):\\t\", str(type(1.0)))\n",
    "print(\"type(\\\"Hi!\\\"):\\t\", str(type(\"Hi!\")))\n",
    "print(\"type([]):\\t\", str(type([])))\n",
    "print(\"type(()):\\t\", str(type(())))\n",
    "print(\"type((1, 2, 3)):\", str(type((1, 2, 3))))\n",
    "print(\"type({}):\\t\", str(type({})))\n",
    "print(\"type({1, 2, 3}):\", str(type({1, 2, 3})))\n",
    "print(\"type(True):\\t\", str(type(True)))\n",
    "print(\"type(len):\\t\", str(type(len)))\n",
    "greet: Callable[[],str] = lambda : \"hello world!\"\n",
    "print(\"type(greet()):\\t\", str(type(greet)))"
   ]
  },
  {
   "cell_type": "markdown",
   "metadata": {},
   "source": [
    "## <a id='toc2_'></a>Class [&#8593;](#toc0_)"
   ]
  },
  {
   "attachments": {},
   "cell_type": "markdown",
   "metadata": {},
   "source": [
    "- Blueprint for creating user-defined objects\n",
    "- At the beginning of the blueprint, `pass` can be used as a reminder\n",
    "- By convention, we give classes a name that starts with a capital letter\n",
    "- An attribute/property is a characteristic of an object\n",
    "- A method is an operation we can perform with the object"
   ]
  },
  {
   "cell_type": "code",
   "execution_count": 3,
   "metadata": {},
   "outputs": [],
   "source": [
    "# Create a new class type called Sample\n",
    "class Sample:\n",
    "    pass"
   ]
  },
  {
   "cell_type": "code",
   "execution_count": 4,
   "metadata": {},
   "outputs": [
    {
     "name": "stdout",
     "output_type": "stream",
     "text": [
      "type(my_sample):  <class '__main__.Sample'>\n"
     ]
    }
   ],
   "source": [
    "# Instance of Sample\n",
    "my_sample: Sample = Sample()\n",
    "print(\"type(my_sample): \", type(my_sample))"
   ]
  },
  {
   "cell_type": "markdown",
   "metadata": {},
   "source": [
    "### <a id='toc2_1_'></a>Class Attributes [&#8593;](#toc0_)"
   ]
  },
  {
   "attachments": {},
   "cell_type": "markdown",
   "metadata": {},
   "source": [
    "```python\n",
    "self.attribute = something\n",
    "```\n",
    "\n",
    "- `__init__()`\n",
    "  - Used to initialize the attributes of an object (constructor)\n",
    "  - Called automatically right after the object has been created\n",
    "  - We can set default with assignements in the attribute\n",
    "  - **All defaulted arguments need to be after non-default arguments**\n",
    "- All methods in a class will have `self` as its first param (explicit)\n",
    "- By convention, it is `self` but could be anything"
   ]
  },
  {
   "cell_type": "code",
   "execution_count": 5,
   "metadata": {},
   "outputs": [],
   "source": [
    "class Dog:\n",
    "\n",
    "    # Class instance Constructor / Attribute Initializer\n",
    "    def __init__(self, breed: str = \"dog\") -> None:\n",
    "        self.breed = breed\n",
    "\n",
    "    # Method\n",
    "    def identify(self) -> None:\n",
    "        print(\"This is a\", self.breed)"
   ]
  },
  {
   "cell_type": "code",
   "execution_count": 6,
   "metadata": {},
   "outputs": [
    {
     "name": "stdout",
     "output_type": "stream",
     "text": [
      "This is a Lab\n",
      "This is a Huskie\n",
      "This is a dog\n"
     ]
    }
   ],
   "source": [
    "# Initializing the method attributes of the object instance\n",
    "sam: Dog = Dog(breed=\"Lab\")\n",
    "frank: Dog = Dog(\"Huskie\")\n",
    "jim: Dog = Dog()\n",
    "\n",
    "sam.identify()\n",
    "frank.identify()\n",
    "jim.identify()"
   ]
  },
  {
   "attachments": {},
   "cell_type": "markdown",
   "metadata": {},
   "source": [
    "- **Class Attributes are the same for any instance of the class (Static)**\n",
    "  - Class Attribute is defined outside of any methods in the class\n",
    "  - Also by convention, we place them first before the __init__ method"
   ]
  },
  {
   "cell_type": "code",
   "execution_count": 7,
   "metadata": {},
   "outputs": [],
   "source": [
    "class Cat:\n",
    "\n",
    "    # Class Object Attribute (Static)\n",
    "    species: str = \"mammal\" # A dog is always a mammal\n",
    "    \n",
    "    # Methods\n",
    "    def __init__(self, breed: str, name: str) -> None: \n",
    "        self.breed = breed\n",
    "        self.name = name\n",
    "    \n",
    "    def identify(self) -> str:\n",
    "        return f\"- Name: {self.name}\\n- Breed: {self.breed}\\n- Specie: {self.species}\""
   ]
  },
  {
   "cell_type": "code",
   "execution_count": 8,
   "metadata": {},
   "outputs": [
    {
     "name": "stdout",
     "output_type": "stream",
     "text": [
      "---\n"
     ]
    },
    {
     "data": {
      "text/plain": [
       "'- Name: Sammy\\n- Breed: Cat\\n- Specie: mammal'"
      ]
     },
     "execution_count": 8,
     "metadata": {},
     "output_type": "execute_result"
    }
   ],
   "source": [
    "sammy: Cat = Cat(breed=\"Cat\", name=\"Sammy\")\n",
    "john: Cat = Cat(breed=\"Dog\", name=\"John\")\n",
    "\n",
    "john.identify()\n",
    "print(\"---\")\n",
    "sammy.identify()"
   ]
  },
  {
   "cell_type": "markdown",
   "metadata": {},
   "source": [
    "## <a id='toc3_'></a>Methods [&#8593;](#toc0_)"
   ]
  },
  {
   "attachments": {},
   "cell_type": "markdown",
   "metadata": {},
   "source": [
    "- Essential in *Encapsulation* concept of the OOP paradigm\n",
    "- Essential in dividing responsibilities in programming, especially in large applications\n",
    "- With Python 3, classes extend the root `object` implicitly\n",
    "  - To signal a class is following this new-style, you have to inherit explicitly from object"
   ]
  },
  {
   "cell_type": "code",
   "execution_count": 9,
   "metadata": {},
   "outputs": [],
   "source": [
    "from typing import Final\n",
    "\n",
    "class Circle(object):\n",
    "\n",
    "    # Class private static attributes\n",
    "    # *******************************\n",
    "    # Constants: There is no constant keyword in Python, but \"Final\" in mypy\n",
    "    # Private: Only semantic, not actually \"private\"\n",
    "    # Set to private and use getter/No setter\n",
    "    _PI: Final[float] = 3.14 # Pseudo-private, pseudo-constant\n",
    "\n",
    "    # Constant Getters\n",
    "    def PI(self) -> float:\n",
    "        return Circle._PI\n",
    "\n",
    "    # Constructor\n",
    "    # ***********\n",
    "    # Circles get instantiated with a radius (default = 1). \n",
    "    def __init__(self, radius: float = 1.0) -> None:\n",
    "        # Private Attributes to be accessed with public methods\n",
    "        self._radius = radius\n",
    "\n",
    "    # Methods\n",
    "    # *******\n",
    "    def set_radius(self, radius: float) -> None:\n",
    "        \"\"\"\n",
    "        Takes a new radius and resets the current radius of the circle instance.\n",
    "        \"\"\"\n",
    "        self._radius = radius\n",
    "\n",
    "\n",
    "    def radius(self) -> float:\n",
    "        \"\"\"\n",
    "        Get the circle's radius.\n",
    "        \"\"\"\n",
    "        return self._radius\n",
    "\n",
    "\n",
    "    def area(self) -> float:\n",
    "        \"\"\"\n",
    "        Calculate the circle's area.\n",
    "        \"\"\"\n",
    "        return self.PI() * (self.radius() ** 2)  # PI * R^2\n",
    "    \n",
    "\n",
    "    def perimeter(self) -> float:\n",
    "        \"\"\"\n",
    "        Calculate the circle's perimeter.\n",
    "        \"\"\"\n",
    "        return 2 * self.PI() * self._radius # 2 * PI * R\n",
    "    \n",
    "\n",
    "    def __repr__(self) -> str:\n",
    "        return f\"Circle{{radius: {self.radius()}, perimeter: {self.perimeter()}, area: {self.area()}}}\""
   ]
  },
  {
   "cell_type": "code",
   "execution_count": 10,
   "metadata": {},
   "outputs": [
    {
     "name": "stdout",
     "output_type": "stream",
     "text": [
      "c.PI(): 3.14\n",
      "c: Circle{radius: 2, perimeter: 12.56, area: 12.56}\n",
      "Radius of c = 2\n",
      "Area of c = 12.56\n",
      "Perimeter of c = 12.56\n"
     ]
    }
   ],
   "source": [
    "# Testing: Instantiation\n",
    "c: Circle = Circle()\n",
    "print(\"c.PI():\", c.PI())\n",
    "c.set_radius(2)\n",
    "print(f\"c: {c}\")\n",
    "print(f\"Radius of c = {c.radius()}\")\n",
    "print(f\"Area of c = {c.area()}\")\n",
    "print(f\"Perimeter of c = {c.perimeter()}\")"
   ]
  },
  {
   "cell_type": "markdown",
   "metadata": {},
   "source": [
    "## <a id='toc4_'></a>Inheritance [&#8593;](#toc0_)"
   ]
  },
  {
   "attachments": {},
   "cell_type": "markdown",
   "metadata": {},
   "source": [
    "- With Python 3, classes extend the root `object` implicitly\n",
    "- To signal a class is inheriting from another class, you have to inherit explicitly"
   ]
  },
  {
   "cell_type": "code",
   "execution_count": 11,
   "metadata": {},
   "outputs": [],
   "source": [
    "# Base class: Animal\n",
    "# Implicit inherit from object\n",
    "class Animal:\n",
    "    def __init__(self) -> None:\n",
    "        print(\"Animal created.\")\n",
    "\n",
    "    def what_am_i(self) -> str:\n",
    "        return \"Animal\"\n",
    "\n",
    "    def eat(self) -> str:\n",
    "        return \"Eating\""
   ]
  },
  {
   "cell_type": "code",
   "execution_count": 12,
   "metadata": {},
   "outputs": [],
   "source": [
    "# Subclass of Animal: Duck\n",
    "class Duck(Animal):\n",
    "    # Methods\n",
    "    def __init__(self) -> None:\n",
    "        # Call Animal.__init(): Similar to super() in other languages\n",
    "        Animal.__init__(self)\n",
    "        print(\"Duck created.\")\n",
    "      \n",
    "    # Overriding Animal.what_am_i()\n",
    "    def what_am_i(self) -> str:\n",
    "        return \"Duck\"\n",
    "\n",
    "    # New methods for Ducks only    \n",
    "    def quack(self) -> str:\n",
    "        return \"quack! quack!\""
   ]
  },
  {
   "attachments": {},
   "cell_type": "markdown",
   "metadata": {},
   "source": [
    "- Since Duck is also an Animal, it has the same attributes and methods as Animal:\n",
    "  - `Duck.what_am_i()` -> Overriding `Animal.what_am_i()`\n",
    "  - `Duck.quack()` -> New (extended)\n",
    "  - `Duck.eat()` -> Inherited from `Animal`"
   ]
  },
  {
   "cell_type": "code",
   "execution_count": 13,
   "metadata": {},
   "outputs": [
    {
     "name": "stdout",
     "output_type": "stream",
     "text": [
      "Animal created.\n",
      "Duck created.\n",
      "d.what_am_i(): Duck\n",
      "d.eat(): Eating\n",
      "d.quack(): quack! quack!\n"
     ]
    }
   ],
   "source": [
    "# Testing\n",
    "d: Duck = Duck()\n",
    "print(\"d.what_am_i():\", d.what_am_i()) # Overridden method from Animal\n",
    "print(\"d.eat():\", d.eat()) # Inherited method from Animal\n",
    "print(\"d.quack():\", d.quack()) # Extend: New class method"
   ]
  },
  {
   "cell_type": "markdown",
   "metadata": {},
   "source": [
    "## <a id='toc5_'></a>Polymorphism & Abstract Class [&#8593;](#toc0_)"
   ]
  },
  {
   "attachments": {},
   "cell_type": "markdown",
   "metadata": {},
   "source": [
    "- This could also be the implementation of an interface in Python\n",
    "- We can use an *Abstract Base Class (ABC)*"
   ]
  },
  {
   "cell_type": "code",
   "execution_count": 14,
   "metadata": {},
   "outputs": [],
   "source": [
    "# Abstract Base Class\n",
    "from abc import ABC\n",
    "\n",
    "class Animus(ABC):\n",
    "    def __init__(self, name: str) -> None:\n",
    "        self.name = name\n",
    "\n",
    "    def speak(self) -> str:\n",
    "        raise NotImplementedError(\"Subclass of Animus must implement a speak() method\")"
   ]
  },
  {
   "cell_type": "code",
   "execution_count": 15,
   "metadata": {},
   "outputs": [],
   "source": [
    "# Then subclasses can implement this abstract base class\n",
    "class ACat(Animus):\n",
    "    def speak(self) -> str:\n",
    "        return \"{} says miaou!\".format(self.name)\n",
    "\n",
    "class ALion(Animus):\n",
    "    def speak(self) -> str:\n",
    "        return \"{} says grawoo!\".format(self.name)"
   ]
  },
  {
   "cell_type": "code",
   "execution_count": 16,
   "metadata": {},
   "outputs": [
    {
     "name": "stdout",
     "output_type": "stream",
     "text": [
      "niko.speak(): Niko says miaou!\n",
      "felix.speak(): Felix says grawoo!\n"
     ]
    }
   ],
   "source": [
    "# Testing\n",
    "niko: ACat = ACat(\"Niko\")\n",
    "felix: ALion = ALion(\"Felix\")\n",
    "\n",
    "print(\"niko.speak():\", niko.speak())\n",
    "print(\"felix.speak():\", felix.speak())"
   ]
  },
  {
   "cell_type": "markdown",
   "metadata": {},
   "source": [
    "## <a id='toc6_'></a>Special Methods [&#8593;](#toc0_)"
   ]
  },
  {
   "cell_type": "markdown",
   "metadata": {},
   "source": [
    "- Classes in Python can implement certain operations with special method names\n",
    "- These methods are not actually called directly, but by Python specific language syntax"
   ]
  },
  {
   "cell_type": "code",
   "execution_count": 17,
   "metadata": {},
   "outputs": [],
   "source": [
    "class Book(object):\n",
    "    # Constructor: __init__()\n",
    "    # Called with Book(title, author, pages)\n",
    "    def __init__(self, title: str, author: str, pages: int) -> None:\n",
    "        self.title: str = title\n",
    "        self.author: str = author\n",
    "        self.pages: int = pages\n",
    "        print(f\"Creating a new book: {self}\") # This will call book.__str__()\n",
    "\n",
    "    # __str__()\n",
    "    # Called as the string representation: E.g. when using print(book)\n",
    "    def __str__(self) -> str:\n",
    "        return f\"Title: {self.title}, Author: {self.author}, Pages: {self.pages}.\"\n",
    "\n",
    "    # __len__()\n",
    "    # Called when using len(book)\n",
    "    def __len__(self) -> int:\n",
    "        return self.pages\n",
    "\n",
    "    # __del__()\n",
    "    # Called when using del(book)\n",
    "    # By default, only calls \"del self\"\n",
    "    def __del__(self) -> None:\n",
    "        print(\"--- The book {self.title} book will be deleted\")\n",
    "        del self\n",
    "        print(\"--- Deleted.\")"
   ]
  },
  {
   "cell_type": "code",
   "execution_count": 18,
   "metadata": {},
   "outputs": [
    {
     "name": "stdout",
     "output_type": "stream",
     "text": [
      "Creating a new book: Title: Python Rocks!, Author: Jose Calembar, Pages: 159.\n",
      "str(book): Title: Python Rocks!, Author: Jose Calembar, Pages: 159.\n",
      "len(book): 159\n",
      "--- The book {self.title} book will be deleted\n",
      "--- Deleted.\n"
     ]
    }
   ],
   "source": [
    "# Testing\n",
    "book: Book = Book(\"Python Rocks!\", \"Jose Calembar\", 159)\n",
    "\n",
    "# Special Methods\n",
    "print(\"str(book):\", str(book))\n",
    "print(\"len(book):\", len(book))\n",
    "del(book)"
   ]
  },
  {
   "cell_type": "markdown",
   "metadata": {},
   "source": [
    "### <a id='toc6_1_'></a>`__init__() `, `__str__()`, `__len__()` and the `__del__()` Methods [&#8593;](#toc0_)"
   ]
  },
  {
   "attachments": {},
   "cell_type": "markdown",
   "metadata": {},
   "source": [
    "- These special methods are defined by their use of underscores\n",
    "- They allow us to use Python specific functions on objects created through our class\n",
    "- There are more other methods similar to these\n",
    "\n",
    "```python\n",
    "Constructor   -->  calls   -->   Class.__init__(object)\n",
    "str(object)   -->  calls   -->   Class.__str__(object)\n",
    "len(object)   -->  calls   -->   Class.__len__(object)\n",
    "del(object)   -->  calls   -->   Class.__del__(object)\n",
    "```"
   ]
  },
  {
   "cell_type": "markdown",
   "metadata": {},
   "source": [
    "## <a id='toc7_'></a>Additional Resources [&#8593;](#toc0_)"
   ]
  },
  {
   "attachments": {},
   "cell_type": "markdown",
   "metadata": {},
   "source": [
    "- [Jeff Knupp\"s Post](https://www.jeffknupp.com/blog/2014/06/18/improve-your-python-python-classes-and-object-oriented-programming)\n",
    "- [Mozilla\"s Post](https://developer.mozilla.org/en-US/Learn/Python/Quickly_Learn_Object_Oriented_Programming)\n",
    "- [Tutorial\"s Point](http://www.tutorialspoint.com/python/python_classes_objects.htm)\n",
    "- [Official Documentation](https://docs.python.org/2/tutorial/classes.html)"
   ]
  }
 ],
 "metadata": {
  "kernelspec": {
   "display_name": "Python 3",
   "language": "python",
   "name": "python3"
  },
  "language_info": {
   "codemirror_mode": {
    "name": "ipython",
    "version": 3
   },
   "file_extension": ".py",
   "mimetype": "text/x-python",
   "name": "python",
   "nbconvert_exporter": "python",
   "pygments_lexer": "ipython3",
   "version": "3.11.2"
  },
  "toc": {
   "base_numbering": 1,
   "nav_menu": {},
   "number_sections": true,
   "sideBar": true,
   "skip_h1_title": true,
   "title_cell": "Table of Contents",
   "title_sidebar": "Contents",
   "toc_cell": true,
   "toc_position": {},
   "toc_section_display": true,
   "toc_window_display": true
  }
 },
 "nbformat": 4,
 "nbformat_minor": 4
}
