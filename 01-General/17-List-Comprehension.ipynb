{
 "cells": [
  {
   "cell_type": "markdown",
   "metadata": {},
   "source": [
    "# List Comprehension"
   ]
  },
  {
   "cell_type": "markdown",
   "metadata": {
    "toc": true
   },
   "source": [
    "<h1>Table of Contents<span class=\"tocSkip\"></span></h1>\n",
    "<div class=\"toc\"><ul class=\"toc-item\"><li><span><a href=\"#Examples\" data-toc-modified-id=\"Examples-1\"><span class=\"toc-item-num\">1&nbsp;&nbsp;</span>Examples</a></span></li><li><span><a href=\"#List-Comprehension-With-Conditionals\" data-toc-modified-id=\"List-Comprehension-With-Conditionals-2\"><span class=\"toc-item-num\">2&nbsp;&nbsp;</span>List Comprehension With Conditionals</a></span></li><li><span><a href=\"#Nested-List-Comprehension\" data-toc-modified-id=\"Nested-List-Comprehension-3\"><span class=\"toc-item-num\">3&nbsp;&nbsp;</span>Nested List Comprehension</a></span></li><li><span><a href=\"#Dictionary-Comprehension\" data-toc-modified-id=\"Dictionary-Comprehension-4\"><span class=\"toc-item-num\">4&nbsp;&nbsp;</span>Dictionary Comprehension</a></span></li></ul></div>"
   ]
  },
  {
   "cell_type": "markdown",
   "metadata": {},
   "source": [
    "- Deconstructed `for` loops that are shortcut to generate list\n",
    "- Very familiar to the `array.map()`\n",
    "\n",
    "```python\n",
    "list_A = [x for x in range(n)]\n",
    "list_B = [letter for letter in 'string']\n",
    "```\n",
    "- Equivalent to `for` loops\n",
    "\n",
    "```python\n",
    "list_A = []\n",
    "list_B = []\n",
    "\n",
    "for x in range(n):\n",
    "    list_A.append(x)\n",
    "\n",
    "for letter in 'string':\n",
    "    list_B.append(letter)\n",
    "```"
   ]
  },
  {
   "cell_type": "markdown",
   "metadata": {},
   "source": [
    "## Examples"
   ]
  },
  {
   "cell_type": "code",
   "execution_count": 1,
   "metadata": {},
   "outputs": [
    {
     "name": "stdout",
     "output_type": "stream",
     "text": [
      "['w', 'o', 'r', 'd']\n"
     ]
    }
   ],
   "source": [
    "# Grab every letter in string\n",
    "letters = [letter for letter in 'word']\n",
    "print(letters)"
   ]
  },
  {
   "cell_type": "code",
   "execution_count": 2,
   "metadata": {},
   "outputs": [
    {
     "name": "stdout",
     "output_type": "stream",
     "text": [
      "['w', 'o', 'r', 'd']\n"
     ]
    }
   ],
   "source": [
    "# Equivalent in for-loop: Grab every letter in string\n",
    "letters_2 = []\n",
    "\n",
    "for letter in 'word':\n",
    "    letters_2.append(letter)\n",
    "\n",
    "print(letters_2)"
   ]
  },
  {
   "cell_type": "code",
   "execution_count": 3,
   "metadata": {},
   "outputs": [
    {
     "name": "stdout",
     "output_type": "stream",
     "text": [
      "[0, 1, 4, 9, 16, 25, 36, 49, 64, 81, 100]\n"
     ]
    }
   ],
   "source": [
    "# Square numbers in range and turn into list\n",
    "squared = [x**2 for x in range(0,11)]\n",
    "print(squared)"
   ]
  },
  {
   "cell_type": "code",
   "execution_count": 4,
   "metadata": {},
   "outputs": [
    {
     "name": "stdout",
     "output_type": "stream",
     "text": [
      "[0, 1, 4, 9, 16, 25, 36, 49, 64, 81, 100]\n"
     ]
    }
   ],
   "source": [
    "# Equivalent for loop: Square numbers in range and turn into list\n",
    "your_list_2 = []\n",
    "\n",
    "for x in range(0,11): \n",
    "    your_list_2.append(x**2)\n",
    "\n",
    "print(your_list_2)"
   ]
  },
  {
   "cell_type": "markdown",
   "metadata": {},
   "source": [
    "## List Comprehension With Conditionals"
   ]
  },
  {
   "cell_type": "markdown",
   "metadata": {},
   "source": [
    "- We can add conditioning with `if` statement in generating the list members\n",
    "- Pyhonic code might be `for`-loops if the condition is too involved\n",
    "- `if-else` is also possible with a reversed order"
   ]
  },
  {
   "cell_type": "code",
   "execution_count": 5,
   "metadata": {},
   "outputs": [
    {
     "name": "stdout",
     "output_type": "stream",
     "text": [
      "[0, 2, 4, 6, 8, 10, 12, 14, 16, 18, 20, 22, 24, 26, 28, 30, 32, 34, 36, 38, 40, 42, 44, 46, 48, 50, 52, 54, 56]\n"
     ]
    }
   ],
   "source": [
    "# Get even numbers from 0 up to 56, inclusive\n",
    "even_upto_56 = [x for x in range(57) if x % 2 == 0]\n",
    "print(even_upto_56)"
   ]
  },
  {
   "cell_type": "code",
   "execution_count": 6,
   "metadata": {},
   "outputs": [
    {
     "name": "stdout",
     "output_type": "stream",
     "text": [
      "[0, 2, 4, 6, 8, 10, 12, 14, 16, 18, 20, 22, 24, 26, 28, 30, 32, 34, 36, 38, 40, 42, 44, 46, 48, 50, 52, 54, 56]\n"
     ]
    }
   ],
   "source": [
    "# Equivalent for loop: Get even numbers from 0 up to 56, inclusive\n",
    "even_upto_56 = []\n",
    "\n",
    "for x in range(57):\n",
    "    if x % 2 == 0:\n",
    "        even_upto_56.append(x)\n",
    "\n",
    "print(even_upto_56)"
   ]
  },
  {
   "cell_type": "code",
   "execution_count": 7,
   "metadata": {},
   "outputs": [
    {
     "name": "stdout",
     "output_type": "stream",
     "text": [
      "[0, 'ODD', 2, 'ODD', 4, 'ODD', 6, 'ODD', 8, 'ODD']\n"
     ]
    }
   ],
   "source": [
    "# List comprehension with if-else: Order is reversed\n",
    "even_odds = [x if x % 2 == 0 else 'ODD' for x in range(0, 10)]\n",
    "print(even_odds)"
   ]
  },
  {
   "cell_type": "code",
   "execution_count": 8,
   "metadata": {},
   "outputs": [
    {
     "name": "stdout",
     "output_type": "stream",
     "text": [
      "[32.0, 50.0, 68.18, 94.1]\n"
     ]
    }
   ],
   "source": [
    "# Convert Celsius to Fahrenheit\n",
    "celsius = [0, 10, 20.1, 34.5]\n",
    "fahrenheits = [((float(9)/5) * temp + 32) for temp in celsius]\n",
    "print(fahrenheits)"
   ]
  },
  {
   "cell_type": "code",
   "execution_count": 9,
   "metadata": {},
   "outputs": [
    {
     "name": "stdout",
     "output_type": "stream",
     "text": [
      "[32.0, 50.0, 68.18, 94.1]\n"
     ]
    }
   ],
   "source": [
    "# Equivalent in for loop: Convert Celsius to Fahrenheit\n",
    "cels = [0, 10, 20.1, 34.5]\n",
    "fahrs = []\n",
    "\n",
    "for cel in cels:\n",
    "    fahr = (float(9)/5) * cel + 32\n",
    "    fahrs.append(fahr)\n",
    "\n",
    "print(fahrs)"
   ]
  },
  {
   "cell_type": "markdown",
   "metadata": {},
   "source": [
    "## Nested List Comprehension"
   ]
  },
  {
   "cell_type": "markdown",
   "metadata": {},
   "source": [
    "- This is debattable if it is readable at all"
   ]
  },
  {
   "cell_type": "code",
   "execution_count": 10,
   "metadata": {},
   "outputs": [
    {
     "name": "stdout",
     "output_type": "stream",
     "text": [
      "[0, 1, 16, 81, 256, 625, 1296, 2401, 4096, 6561, 10000]\n"
     ]
    }
   ],
   "source": [
    "# (x^2)^2\n",
    "double_squared = [n**2 for n in [m**2 for m in range(11)]]\n",
    "print(double_squared)"
   ]
  },
  {
   "cell_type": "code",
   "execution_count": 11,
   "metadata": {},
   "outputs": [
    {
     "name": "stdout",
     "output_type": "stream",
     "text": [
      "[0, 1, 16, 81, 256, 625, 1296, 2401, 4096, 6561, 10000]\n"
     ]
    }
   ],
   "source": [
    "# Equivalent in for-loop:\n",
    "squared = []\n",
    "double_squared = []\n",
    "\n",
    "# [y**2 for y in range(11)]\n",
    "for y in range(11):\n",
    "    squared.append(y**2)\n",
    "\n",
    "# x**2 for x in [y**2 for y in xrange(11)]\n",
    "for x in squared:\n",
    "    double_squared.append(x**2)\n",
    "\n",
    "print(double_squared)"
   ]
  },
  {
   "cell_type": "markdown",
   "metadata": {},
   "source": [
    "## Dictionary Comprehension"
   ]
  },
  {
   "cell_type": "markdown",
   "metadata": {},
   "source": [
    "- It is possible to make dictionary comprehension using `enumerate()` and `zip()`\n",
    "- We just need to specify the key and the value"
   ]
  },
  {
   "cell_type": "code",
   "execution_count": 12,
   "metadata": {},
   "outputs": [
    {
     "name": "stdout",
     "output_type": "stream",
     "text": [
      "{'zero': 0, 'one': 1, 'two': 2, 'three': 3, 'four': 4}\n"
     ]
    }
   ],
   "source": [
    "# Mapping a list into a dictionary: Using enumerate()\n",
    "sample_lst = ['zero', 'one', 'two', 'three', 'four']\n",
    "sample_dict = { value:index for (index, value) in enumerate(sample_lst) }\n",
    "print(sample_dict)"
   ]
  },
  {
   "cell_type": "code",
   "execution_count": 13,
   "metadata": {},
   "outputs": [
    {
     "name": "stdout",
     "output_type": "stream",
     "text": [
      "{'first': 'bacon', 'second': 'lettuce', 'third': 'tomato', 'fourth': 'egg'}\n"
     ]
    }
   ],
   "source": [
    "# Mapping 2 lists into a single dictionary: Using zip()\n",
    "list_1 = ['first', 'second', 'third', 'fourth']\n",
    "list_2 = ['bacon', 'lettuce', 'tomato', 'egg']\n",
    "dictionary = {k: v for (k, v) in zip(list_1, list_2)}\n",
    "print(dictionary)"
   ]
  }
 ],
 "metadata": {
  "hide_input": false,
  "kernelspec": {
   "display_name": "Python 3 (ipykernel)",
   "language": "python",
   "name": "python3"
  },
  "language_info": {
   "codemirror_mode": {
    "name": "ipython",
    "version": 3
   },
   "file_extension": ".py",
   "mimetype": "text/x-python",
   "name": "python",
   "nbconvert_exporter": "python",
   "pygments_lexer": "ipython3",
   "version": "3.8.11"
  },
  "toc": {
   "base_numbering": 1,
   "nav_menu": {},
   "number_sections": true,
   "sideBar": true,
   "skip_h1_title": true,
   "title_cell": "Table of Contents",
   "title_sidebar": "Contents",
   "toc_cell": true,
   "toc_position": {},
   "toc_section_display": true,
   "toc_window_display": true
  },
  "varInspector": {
   "cols": {
    "lenName": 16,
    "lenType": 16,
    "lenVar": 40
   },
   "kernels_config": {
    "python": {
     "delete_cmd_postfix": "",
     "delete_cmd_prefix": "del ",
     "library": "var_list.py",
     "varRefreshCmd": "print(var_dic_list())"
    },
    "r": {
     "delete_cmd_postfix": ") ",
     "delete_cmd_prefix": "rm(",
     "library": "var_list.r",
     "varRefreshCmd": "cat(var_dic_list()) "
    }
   },
   "types_to_exclude": [
    "module",
    "function",
    "builtin_function_or_method",
    "instance",
    "_Feature"
   ],
   "window_display": false
  }
 },
 "nbformat": 4,
 "nbformat_minor": 4
}
