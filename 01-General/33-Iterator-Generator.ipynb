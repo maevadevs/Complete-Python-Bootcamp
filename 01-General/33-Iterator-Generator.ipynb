{
 "cells": [
  {
   "cell_type": "markdown",
   "metadata": {
    "toc": true
   },
   "source": [
    "<h1>Table of Contents<span class=\"tocSkip\"></span></h1>\n",
    "<div class=\"toc\"><ul class=\"toc-item\"><li><span><a href=\"#How-TO-Define-A-Generator\" data-toc-modified-id=\"How-TO-Define-A-Generator-1\"><span class=\"toc-item-num\">1&nbsp;&nbsp;</span>How TO Define A Generator</a></span></li><li><span><a href=\"#How-To-Use-A-Generator\" data-toc-modified-id=\"How-To-Use-A-Generator-2\"><span class=\"toc-item-num\">2&nbsp;&nbsp;</span>How To Use A Generator</a></span></li><li><span><a href=\"#Advantage-of-Generators\" data-toc-modified-id=\"Advantage-of-Generators-3\"><span class=\"toc-item-num\">3&nbsp;&nbsp;</span>Advantage of Generators</a></span></li><li><span><a href=\"#next()\" data-toc-modified-id=\"next()-4\"><span class=\"toc-item-num\">4&nbsp;&nbsp;</span><code>next()</code></a></span></li><li><span><a href=\"#iter()\" data-toc-modified-id=\"iter()-5\"><span class=\"toc-item-num\">5&nbsp;&nbsp;</span><code>iter()</code></a></span></li><li><span><a href=\"#Generator-Expression-Comprehension\" data-toc-modified-id=\"Generator-Expression-Comprehension-6\"><span class=\"toc-item-num\">6&nbsp;&nbsp;</span>Generator Expression Comprehension</a></span></li></ul></div>"
   ]
  },
  {
   "cell_type": "markdown",
   "metadata": {},
   "source": [
    "# Iterator and Generator"
   ]
  },
  {
   "cell_type": "markdown",
   "metadata": {},
   "source": [
    "- Generators allow us to generate as we go along, instead of holding everything in memory\n",
    "- Example of a built-in generator: `range()`\n",
    "- Generator functions allow us to write a function that can send back a value and then later resume to pick up where it left off\n",
    "- Allowing us to generate a sequence of values over time\n",
    "- Use `yield` instead of `return`\n",
    "- Will appear very similar to a normal function\n",
    "- When a generator function is compiled, they become an object that support an iteration protocol\n",
    "- When they are called in your code, they don't actually return a value and then exit\n",
    "  - The generator functions will automatically suspend and resume their execution and state around the last point of value generation\n",
    "  - Instead of having to compute an entire series of values upfront, the generator functions can be suspended\n",
    "  - This feature is known as `state suspension`"
   ]
  },
  {
   "cell_type": "markdown",
   "metadata": {},
   "source": [
    "## How TO Define A Generator"
   ]
  },
  {
   "cell_type": "code",
   "execution_count": 1,
   "metadata": {},
   "outputs": [],
   "source": [
    "def generateCubes(n):\n",
    "    for num in range(n):\n",
    "        yield num ** 3"
   ]
  },
  {
   "cell_type": "code",
   "execution_count": 2,
   "metadata": {},
   "outputs": [
    {
     "name": "stdout",
     "output_type": "stream",
     "text": [
      "<class 'function'>\n",
      "<class 'generator'>\n",
      "<generator object generateCubes at 0x000001AB616026C8>\n"
     ]
    }
   ],
   "source": [
    "print(type(generateCubes))\n",
    "print(type(generateCubes(3)))\n",
    "print(generateCubes(3))"
   ]
  },
  {
   "cell_type": "markdown",
   "metadata": {},
   "source": [
    "## How To Use A Generator"
   ]
  },
  {
   "cell_type": "code",
   "execution_count": 3,
   "metadata": {},
   "outputs": [
    {
     "name": "stdout",
     "output_type": "stream",
     "text": [
      "0, 1, 8, 27, 64, 125, 216, 343, 512, 729, "
     ]
    }
   ],
   "source": [
    "for x in generateCubes(10):\n",
    "    print(x, end=', ')"
   ]
  },
  {
   "cell_type": "markdown",
   "metadata": {},
   "source": [
    "## Advantage of Generators"
   ]
  },
  {
   "cell_type": "markdown",
   "metadata": {},
   "source": [
    "Generators are best for calculating large sets of results (particularly in calculations that involve loops themselves) in cases where we don’t want to allocate to the memory for all of the results at the same time"
   ]
  },
  {
   "cell_type": "code",
   "execution_count": 4,
   "metadata": {},
   "outputs": [],
   "source": [
    "def gen_fibonacci(n):\n",
    "    \"\"\"Generate a fibonacci sequence up to n.\"\"\"\n",
    "    a = 1\n",
    "    b = 1\n",
    "    for i in range(n):\n",
    "        yield a\n",
    "        (a, b) = (b, a + b)"
   ]
  },
  {
   "cell_type": "code",
   "execution_count": 5,
   "metadata": {},
   "outputs": [
    {
     "name": "stdout",
     "output_type": "stream",
     "text": [
      "[1, 1, 2, 3, 5, 8, 13, 21, 34, 55, 89, 144, 233, 377, 610, 987, 1597, 2584, 4181, 6765, 10946, 17711, 28657, 46368, 75025, 121393, 196418, 317811, 514229, 832040, 1346269, 2178309, 3524578, 5702887, 9227465, 14930352, 24157817, 39088169, 63245986, 102334155, 165580141, 267914296, 433494437, 701408733, 1134903170, 1836311903, 2971215073, 4807526976, 7778742049, 12586269025, 20365011074, 32951280099, 53316291173, 86267571272, 139583862445, 225851433717, 365435296162, 591286729879, 956722026041, 1548008755920, 2504730781961, 4052739537881, 6557470319842, 10610209857723, 17167680177565, 27777890035288, 44945570212853, 72723460248141, 117669030460994, 190392490709135, 308061521170129, 498454011879264, 806515533049393, 1304969544928657, 2111485077978050, 3416454622906707, 5527939700884757, 8944394323791464, 14472334024676221, 23416728348467685, 37889062373143906, 61305790721611591, 99194853094755497, 160500643816367088, 259695496911122585, 420196140727489673, 679891637638612258, 1100087778366101931, 1779979416004714189, 2880067194370816120, 4660046610375530309, 7540113804746346429, 12200160415121876738, 19740274219868223167, 31940434634990099905, 51680708854858323072, 83621143489848422977, 135301852344706746049, 218922995834555169026, 354224848179261915075]\n"
     ]
    }
   ],
   "source": [
    "print([num for num in gen_fibonacci(100)])"
   ]
  },
  {
   "cell_type": "code",
   "execution_count": 6,
   "metadata": {},
   "outputs": [],
   "source": [
    "# Equivalent Normal Function\n",
    "def get_fibonacci(n):\n",
    "    a = 1\n",
    "    b = 1\n",
    "    output = []\n",
    "    for i in range(n):\n",
    "        output.append(a)\n",
    "        a, b = b, a + b\n",
    "    return output"
   ]
  },
  {
   "cell_type": "code",
   "execution_count": 7,
   "metadata": {},
   "outputs": [
    {
     "data": {
      "text/plain": [
       "[1, 1, 2, 3, 5, 8, 13, 21, 34, 55]"
      ]
     },
     "execution_count": 7,
     "metadata": {},
     "output_type": "execute_result"
    }
   ],
   "source": [
    "get_fibonacci(10)"
   ]
  },
  {
   "cell_type": "markdown",
   "metadata": {},
   "source": [
    "- If we call some huge value of n (like 100000), the second function will have to keep track of every single result, when in our case we actually only care about the previous result to generate the next one"
   ]
  },
  {
   "cell_type": "markdown",
   "metadata": {},
   "source": [
    "## `next()`"
   ]
  },
  {
   "cell_type": "markdown",
   "metadata": {},
   "source": [
    "- `next()` - allows to access the next element in a sequence or of the generator"
   ]
  },
  {
   "cell_type": "code",
   "execution_count": 8,
   "metadata": {},
   "outputs": [],
   "source": [
    "def simple_generator():\n",
    "    for x in range(5):\n",
    "        yield x"
   ]
  },
  {
   "cell_type": "code",
   "execution_count": 9,
   "metadata": {},
   "outputs": [
    {
     "name": "stdout",
     "output_type": "stream",
     "text": [
      "0\n",
      "1\n",
      "2\n",
      "3\n",
      "4\n"
     ]
    }
   ],
   "source": [
    "# Assign simple_gen\n",
    "gen = simple_generator()\n",
    "\n",
    "print(next(gen))\n",
    "print(next(gen))\n",
    "print(next(gen))\n",
    "print(next(gen))\n",
    "print(next(gen))\n",
    "# print(next(gen)) # StopIteration"
   ]
  },
  {
   "cell_type": "markdown",
   "metadata": {},
   "source": [
    "- After yielding all the values, `next()` caused a `StopIteration` error.\n",
    "- This error informs us that all the values have been yielded.\n",
    "- You might be wondering: why don’t we get this error while using a for loop?\n",
    "- The for loop automatically catches this error and stops calling `next()`"
   ]
  },
  {
   "cell_type": "markdown",
   "metadata": {},
   "source": [
    "## `iter()`"
   ]
  },
  {
   "cell_type": "markdown",
   "metadata": {},
   "source": [
    "- Strings are iterable\n",
    "- But they are not iterator: a string object supports iteration, but we can not directly iterate over it as we could with a generator function\n",
    "- `iter()` - convert a non-iterator (yet iterable) object into an iterator object"
   ]
  },
  {
   "cell_type": "code",
   "execution_count": 10,
   "metadata": {},
   "outputs": [
    {
     "name": "stdout",
     "output_type": "stream",
     "text": [
      "['h', 'e', 'l', 'l', 'o']\n"
     ]
    }
   ],
   "source": [
    "s = 'hello'\n",
    "\n",
    "# Iterate over string\n",
    "print([letter for letter in s])\n",
    "\n",
    "# Try to use as an iterator\n",
    "# print(next(s)) # TypeError: Not iterator"
   ]
  },
  {
   "cell_type": "code",
   "execution_count": 11,
   "metadata": {},
   "outputs": [
    {
     "name": "stdout",
     "output_type": "stream",
     "text": [
      "h\n",
      "e\n"
     ]
    }
   ],
   "source": [
    "# Convert s into an iterator, because we can't use next(s) directly\n",
    "s_iterator = iter(s)\n",
    "\n",
    "print(next(s_iterator)) # Now use next(s)\n",
    "print(next(s_iterator))"
   ]
  },
  {
   "cell_type": "markdown",
   "metadata": {},
   "source": [
    "## Generator Expression Comprehension"
   ]
  },
  {
   "cell_type": "markdown",
   "metadata": {},
   "source": [
    "- Generator can also be written in the comprehension format\n",
    "- We use tuple format with `()`"
   ]
  },
  {
   "cell_type": "code",
   "execution_count": 12,
   "metadata": {},
   "outputs": [
    {
     "name": "stdout",
     "output_type": "stream",
     "text": [
      "3\n",
      "4\n"
     ]
    }
   ],
   "source": [
    "# Generator comprehension\n",
    "generator = (n for n in range(3, 5))\n",
    "\n",
    "print(next(generator))\n",
    "print(next(generator))\n",
    "# print(next(g)) # StopIteration Error"
   ]
  },
  {
   "cell_type": "code",
   "execution_count": 13,
   "metadata": {},
   "outputs": [
    {
     "name": "stdout",
     "output_type": "stream",
     "text": [
      "H\n"
     ]
    }
   ],
   "source": [
    "myGreeting = \"Hello\"\n",
    "myGreetingIterator = (w for w in myGreeting)\n",
    "\n",
    "print(next(myGreetingIterator))"
   ]
  }
 ],
 "metadata": {
  "kernelspec": {
   "display_name": "Python 3",
   "language": "python",
   "name": "python3"
  },
  "language_info": {
   "codemirror_mode": {
    "name": "ipython",
    "version": 3
   },
   "file_extension": ".py",
   "mimetype": "text/x-python",
   "name": "python",
   "nbconvert_exporter": "python",
   "pygments_lexer": "ipython3",
   "version": "3.7.6"
  },
  "toc": {
   "base_numbering": 1,
   "nav_menu": {},
   "number_sections": true,
   "sideBar": true,
   "skip_h1_title": true,
   "title_cell": "Table of Contents",
   "title_sidebar": "Contents",
   "toc_cell": true,
   "toc_position": {},
   "toc_section_display": true,
   "toc_window_display": true
  }
 },
 "nbformat": 4,
 "nbformat_minor": 4
}
