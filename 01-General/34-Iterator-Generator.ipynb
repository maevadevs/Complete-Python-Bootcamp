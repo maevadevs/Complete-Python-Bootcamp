{
 "cells": [
  {
   "cell_type": "markdown",
   "metadata": {},
   "source": [
    "# Iterator and Generator\n",
    "---"
   ]
  },
  {
   "cell_type": "markdown",
   "metadata": {},
   "source": [
    "**Table of Contents**<a id='toc0_'></a>    \n",
    "- [Define A Generator](#toc1_)    \n",
    "- [How To Use A Generator](#toc2_)    \n",
    "- [Advantage of Generators](#toc3_)    \n",
    "- [`next()`](#toc4_)    \n",
    "- [`iter()`](#toc5_)    \n",
    "- [Generator Expression Comprehension](#toc6_)    \n",
    "\n",
    "<!-- vscode-jupyter-toc-config\n",
    "\tnumbering=false\n",
    "\tanchor=true\n",
    "\tflat=false\n",
    "\tminLevel=2\n",
    "\tmaxLevel=6\n",
    "\t/vscode-jupyter-toc-config -->\n",
    "<!-- THIS CELL WILL BE REPLACED ON TOC UPDATE. DO NOT WRITE YOUR TEXT IN THIS CELL -->"
   ]
  },
  {
   "attachments": {},
   "cell_type": "markdown",
   "metadata": {},
   "source": [
    "---"
   ]
  },
  {
   "attachments": {},
   "cell_type": "markdown",
   "metadata": {},
   "source": [
    "- Generators allow us to generate as we go along, instead of holding everything in memory\n",
    "- Example of a built-in generator: `range()`\n",
    "- Generator functions allow us to write a function that can send back a value and then later resume to pick up where it left off\n",
    "- Allowing us to generate a sequence of values over time\n",
    "- Uses `yield` instead of `return`\n",
    "- Will appear very similar to a normal function\n",
    "- When a generator function is compiled, they become an object that support an iteration protocol\n",
    "- When they are called in your code, they don't actually return a value and then exit\n",
    "  - The generator functions will automatically suspend and resume their execution and state around the last point of value generation\n",
    "  - Instead of having to compute an entire series of values upfront, the generator functions can be suspended\n",
    "  - This feature is known as `state suspension`"
   ]
  },
  {
   "cell_type": "markdown",
   "metadata": {},
   "source": [
    "## <a id='toc1_'></a>Define A Generator [&#8593;](#toc0_)"
   ]
  },
  {
   "cell_type": "code",
   "execution_count": 1,
   "metadata": {},
   "outputs": [],
   "source": [
    "from typing import Generator, Iterator, List"
   ]
  },
  {
   "cell_type": "code",
   "execution_count": 2,
   "metadata": {},
   "outputs": [],
   "source": [
    "def generate_cubes(n: int) -> Generator[int, None, None]:\n",
    "    for num in range(n):\n",
    "        yield num ** 3"
   ]
  },
  {
   "cell_type": "code",
   "execution_count": 3,
   "metadata": {},
   "outputs": [
    {
     "name": "stdout",
     "output_type": "stream",
     "text": [
      "<class 'function'>\n",
      "<class 'generator'>\n",
      "<generator object generate_cubes at 0x00000173C6D00860>\n"
     ]
    }
   ],
   "source": [
    "print(type(generate_cubes))\n",
    "print(type(generate_cubes(3)))\n",
    "print(generate_cubes(3))"
   ]
  },
  {
   "cell_type": "markdown",
   "metadata": {},
   "source": [
    "## <a id='toc2_'></a>How To Use A Generator [&#8593;](#toc0_)"
   ]
  },
  {
   "cell_type": "code",
   "execution_count": 4,
   "metadata": {},
   "outputs": [
    {
     "name": "stdout",
     "output_type": "stream",
     "text": [
      "0, 1, 8, 27, 64, 125, 216, 343, 512, 729\n"
     ]
    }
   ],
   "source": [
    "ls: list[int] = []\n",
    "\n",
    "for x in generate_cubes(10):\n",
    "    ls.append(x)\n",
    "\n",
    "print(\", \".join(map(str, ls)))"
   ]
  },
  {
   "cell_type": "markdown",
   "metadata": {},
   "source": [
    "## <a id='toc3_'></a>Advantage of Generators [&#8593;](#toc0_)"
   ]
  },
  {
   "attachments": {},
   "cell_type": "markdown",
   "metadata": {},
   "source": [
    "- Generators are best for calculating large sets of results \n",
    "- Particularly in calculations that involve loops themselves\n",
    "- In cases where we do not want to allocate memory for all of the results at the same time"
   ]
  },
  {
   "cell_type": "code",
   "execution_count": 5,
   "metadata": {},
   "outputs": [],
   "source": [
    "def gen_fibonacci(n: int) -> Generator[int, None, None]:\n",
    "    \"\"\"\n",
    "    Generate a fibonacci sequence up to n.\n",
    "    \"\"\"\n",
    "    a = 1\n",
    "    b = 1\n",
    "\n",
    "    for i in range(n):\n",
    "        yield a\n",
    "        a, b = b, a + b"
   ]
  },
  {
   "cell_type": "code",
   "execution_count": 6,
   "metadata": {},
   "outputs": [
    {
     "name": "stdout",
     "output_type": "stream",
     "text": [
      "[1, 1, 2, 3, 5, 8, 13, 21, 34, 55, 89, 144, 233, 377, 610, 987, 1597, 2584, 4181, 6765, 10946, 17711, 28657, 46368, 75025, 121393, 196418, 317811, 514229, 832040, 1346269, 2178309, 3524578, 5702887, 9227465, 14930352, 24157817, 39088169, 63245986, 102334155, 165580141, 267914296, 433494437, 701408733, 1134903170, 1836311903, 2971215073, 4807526976, 7778742049, 12586269025]\n"
     ]
    }
   ],
   "source": [
    "print([num for num in gen_fibonacci(50)])"
   ]
  },
  {
   "cell_type": "code",
   "execution_count": 7,
   "metadata": {},
   "outputs": [],
   "source": [
    "# Equivalent Normal Function\n",
    "def fibonacci(n: int) -> List[int]:\n",
    "    a = 1\n",
    "    b = 1\n",
    "    output: List[int] = []\n",
    "\n",
    "    for _ in range(n):\n",
    "        output.append(a)\n",
    "        a, b = b, a + b\n",
    "        \n",
    "    return output"
   ]
  },
  {
   "cell_type": "code",
   "execution_count": 8,
   "metadata": {},
   "outputs": [
    {
     "name": "stdout",
     "output_type": "stream",
     "text": [
      "[1, 1, 2, 3, 5, 8, 13, 21, 34, 55, 89, 144, 233, 377, 610, 987, 1597, 2584, 4181, 6765, 10946, 17711, 28657, 46368, 75025, 121393, 196418, 317811, 514229, 832040, 1346269, 2178309, 3524578, 5702887, 9227465, 14930352, 24157817, 39088169, 63245986, 102334155, 165580141, 267914296, 433494437, 701408733, 1134903170, 1836311903, 2971215073, 4807526976, 7778742049, 12586269025]\n"
     ]
    }
   ],
   "source": [
    "print(fibonacci(50))"
   ]
  },
  {
   "cell_type": "markdown",
   "metadata": {},
   "source": [
    "- If we call some huge value of n (like 100000), the second function will have to keep track of every single result, when in our case we actually only care about the previous result to generate the next one"
   ]
  },
  {
   "cell_type": "markdown",
   "metadata": {},
   "source": [
    "## <a id='toc4_'></a>`next()` [&#8593;](#toc0_)"
   ]
  },
  {
   "attachments": {},
   "cell_type": "markdown",
   "metadata": {},
   "source": [
    "- `next()` - Allows to access the next element in a sequence of the generator"
   ]
  },
  {
   "cell_type": "code",
   "execution_count": 9,
   "metadata": {},
   "outputs": [],
   "source": [
    "def simple_generator() -> Generator[int, None, None]:\n",
    "    for x in range(5):\n",
    "        yield x"
   ]
  },
  {
   "cell_type": "code",
   "execution_count": 10,
   "metadata": {},
   "outputs": [
    {
     "name": "stdout",
     "output_type": "stream",
     "text": [
      "0 1 2 3 4 "
     ]
    }
   ],
   "source": [
    "# Assign simple_gen\n",
    "gen: Generator[int, None, None] = simple_generator()\n",
    "\n",
    "print(next(gen), end = \" \")\n",
    "print(next(gen), end = \" \")\n",
    "print(next(gen), end = \" \")\n",
    "print(next(gen), end = \" \")\n",
    "print(next(gen), end = \" \")\n",
    "#print(next(gen), end = \" \") # StopIteration"
   ]
  },
  {
   "attachments": {},
   "cell_type": "markdown",
   "metadata": {},
   "source": [
    "- After yielding all the values, `next()` caused a `StopIteration` error\n",
    "- This error informs us that all the values have been yielded\n",
    "- You might be wondering: why not get this error while using a for loop?\n",
    "  - The for loop automatically catches this error and stops calling `next()`"
   ]
  },
  {
   "cell_type": "markdown",
   "metadata": {},
   "source": [
    "## <a id='toc5_'></a>`iter()` [&#8593;](#toc0_)"
   ]
  },
  {
   "attachments": {},
   "cell_type": "markdown",
   "metadata": {},
   "source": [
    "- Strings are *iterable*\n",
    "- But they are not *iterator*\n",
    "  - A string object supports iteration\n",
    "  - But we can not directly iterate over it as we could with a generator function\n",
    "- `iter()` converts a *non-iterator* (yet *iterable*) object into an *iterator* object"
   ]
  },
  {
   "cell_type": "code",
   "execution_count": 11,
   "metadata": {},
   "outputs": [
    {
     "name": "stdout",
     "output_type": "stream",
     "text": [
      "['h', 'e', 'l', 'l', 'o']\n"
     ]
    }
   ],
   "source": [
    "st: str = \"hello\"\n",
    "\n",
    "# Iterate over string\n",
    "print([letter for letter in st])\n",
    "\n",
    "# Try to use as an iterator\n",
    "# print(next(s)) # TypeError: Not iterator"
   ]
  },
  {
   "cell_type": "code",
   "execution_count": 12,
   "metadata": {},
   "outputs": [
    {
     "name": "stdout",
     "output_type": "stream",
     "text": [
      "h e l l o "
     ]
    }
   ],
   "source": [
    "# Convert st into an iterator, because we cannot use next(st) directly\n",
    "st_iterator: Iterator[str] = iter(st)\n",
    "\n",
    "print(next(st_iterator), end = \" \") # Now use next(st)\n",
    "print(next(st_iterator), end = \" \")\n",
    "print(next(st_iterator), end = \" \")\n",
    "print(next(st_iterator), end = \" \")\n",
    "print(next(st_iterator), end = \" \")\n",
    "#print(next(st_iterator), end = \" \") # StopIteration"
   ]
  },
  {
   "cell_type": "markdown",
   "metadata": {},
   "source": [
    "## <a id='toc6_'></a>Generator Expression Comprehension [&#8593;](#toc0_)"
   ]
  },
  {
   "cell_type": "markdown",
   "metadata": {},
   "source": [
    "- Generator can also be written in the comprehension format\n",
    "- We use tuple format with `()`"
   ]
  },
  {
   "cell_type": "code",
   "execution_count": 13,
   "metadata": {},
   "outputs": [
    {
     "name": "stdout",
     "output_type": "stream",
     "text": [
      "3 4 "
     ]
    }
   ],
   "source": [
    "# Generator comprehension\n",
    "generator: Generator[int, None, None] = (n for n in range(3, 5))\n",
    "\n",
    "print(next(generator), end = \" \")\n",
    "print(next(generator), end = \" \")\n",
    "# print(next(generator), end = \" \") # StopIteration Error"
   ]
  },
  {
   "cell_type": "code",
   "execution_count": 14,
   "metadata": {},
   "outputs": [
    {
     "name": "stdout",
     "output_type": "stream",
     "text": [
      "H e l l o "
     ]
    }
   ],
   "source": [
    "my_greeting: str = \"Hello\"\n",
    "my_greeting_generator: Generator[str, None, None] = (ch for ch in my_greeting)\n",
    "\n",
    "print(next(my_greeting_generator), end = \" \")\n",
    "print(next(my_greeting_generator), end = \" \")\n",
    "print(next(my_greeting_generator), end = \" \")\n",
    "print(next(my_greeting_generator), end = \" \")\n",
    "print(next(my_greeting_generator), end = \" \")\n",
    "#print(next(my_greeting_generator), end = \" \") # StopIteration"
   ]
  }
 ],
 "metadata": {
  "kernelspec": {
   "display_name": "venv",
   "language": "python",
   "name": "python3"
  },
  "language_info": {
   "codemirror_mode": {
    "name": "ipython",
    "version": 3
   },
   "file_extension": ".py",
   "mimetype": "text/x-python",
   "name": "python",
   "nbconvert_exporter": "python",
   "pygments_lexer": "ipython3",
   "version": "3.11.2"
  },
  "toc": {
   "base_numbering": 1,
   "nav_menu": {},
   "number_sections": true,
   "sideBar": true,
   "skip_h1_title": true,
   "title_cell": "Table of Contents",
   "title_sidebar": "Contents",
   "toc_cell": true,
   "toc_position": {},
   "toc_section_display": true,
   "toc_window_display": true
  },
  "vscode": {
   "interpreter": {
    "hash": "c06c66e20c037b5a81ce5a660a92268a8806238f991164e2ce77b648e299b60d"
   }
  }
 },
 "nbformat": 4,
 "nbformat_minor": 4
}
