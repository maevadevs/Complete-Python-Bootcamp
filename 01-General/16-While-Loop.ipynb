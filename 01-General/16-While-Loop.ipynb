{
 "cells": [
  {
   "cell_type": "markdown",
   "metadata": {},
   "source": [
    "# `while` Loop\n",
    "---"
   ]
  },
  {
   "cell_type": "markdown",
   "metadata": {},
   "source": [
    "**Table of Contents**<a id='toc0_'></a>    \n",
    "- [Example](#toc1_)    \n",
    "- [`break`, `continue`, `pass`](#toc2_)    \n",
    "  - [Examples](#toc2_1_)    \n",
    "\n",
    "<!-- vscode-jupyter-toc-config\n",
    "\tnumbering=false\n",
    "\tanchor=true\n",
    "\tflat=false\n",
    "\tminLevel=2\n",
    "\tmaxLevel=6\n",
    "\t/vscode-jupyter-toc-config -->\n",
    "<!-- THIS CELL WILL BE REPLACED ON TOC UPDATE. DO NOT WRITE YOUR TEXT IN THIS CELL -->"
   ]
  },
  {
   "attachments": {},
   "cell_type": "markdown",
   "metadata": {},
   "source": [
    "---"
   ]
  },
  {
   "attachments": {},
   "cell_type": "markdown",
   "metadata": {},
   "source": [
    "- More general ways to perform iteration\n",
    "- Can contain an optional `else` statement\n",
    "  - Ran *once* when the condition is no longer true\n",
    "\n",
    "```python\n",
    "while condition:\n",
    "    code statements\n",
    "    modification\n",
    "else:\n",
    "    code statements\n",
    "```"
   ]
  },
  {
   "cell_type": "markdown",
   "metadata": {},
   "source": [
    "## <a id='toc1_'></a>Example [&#8593;](#toc0_)"
   ]
  },
  {
   "cell_type": "code",
   "execution_count": 1,
   "metadata": {},
   "outputs": [
    {
     "name": "stdout",
     "output_type": "stream",
     "text": [
      "x = 0:\n",
      "\tx is less than 5, x += 1\n",
      "x = 1:\n",
      "\tx is less than 5, x += 1\n",
      "x = 2:\n",
      "\tx is less than 5, x += 1\n",
      "x = 3:\n",
      "\tx is less than 5, x += 1\n",
      "x = 4:\n",
      "\tx is less than 5, x += 1\n",
      "x is no longer less than 5\n"
     ]
    }
   ],
   "source": [
    "x: int = 0\n",
    "while x < 5:\n",
    "    print(f\"x = {x}:\")\n",
    "    print(\"\\tx is less than 5, x += 1\")\n",
    "    x += 1\n",
    "else:\n",
    "    print(\"x is no longer less than 5\")"
   ]
  },
  {
   "cell_type": "markdown",
   "metadata": {},
   "source": [
    "## <a id='toc2_'></a>`break`, `continue`, `pass` [&#8593;](#toc0_)"
   ]
  },
  {
   "attachments": {},
   "cell_type": "markdown",
   "metadata": {},
   "source": [
    "- `break`\n",
    "  - Stop the iteration\n",
    "  - Breaks out of the current closest enclosing loop\n",
    "  - Usually put in conjunction with an `if` statement to perform an action based on some condition\n",
    "- `continue`\n",
    "  - Skip the current iteration\n",
    "  - Goes to the top of the closest enclosing loop for the next iteration\n",
    "  - Usually put in conjunction with an `if` statement to perform an action based on some condition\n",
    "- `pass`\n",
    "  - Skip and does nothing at all\n",
    "  - Usually used as placeholder\n",
    "\n",
    "```python\n",
    "while condition: \n",
    "    code statement\n",
    "    if condition: \n",
    "        break\n",
    "    if condition: \n",
    "        continue \n",
    "    else:\n",
    "        code statement\n",
    "```"
   ]
  },
  {
   "cell_type": "markdown",
   "metadata": {},
   "source": [
    "### <a id='toc2_1_'></a>Examples [&#8593;](#toc0_)"
   ]
  },
  {
   "cell_type": "code",
   "execution_count": 2,
   "metadata": {},
   "outputs": [
    {
     "name": "stdout",
     "output_type": "stream",
     "text": [
      "x = 0:\n",
      "\tx is less than 5, x += 1\n",
      "\tContinuing...\n",
      "x = 1:\n",
      "\tx is less than 5, x += 1\n",
      "\tContinuing...\n",
      "x = 2:\n",
      "\tx is less than 5, x += 1\n",
      "\tAlert!!! x = 3\n",
      "x = 3:\n",
      "\tx is less than 5, x += 1\n",
      "\tContinuing...\n",
      "x = 4:\n",
      "\tx is less than 5, x += 1\n",
      "\tContinuing...\n",
      "x is no longer less than 5\n"
     ]
    }
   ],
   "source": [
    "# Using Continue\n",
    "x = 0\n",
    "while x < 5:\n",
    "    print(f\"x = {x}:\")\n",
    "    print(\"\\tx is less than 5, x += 1\")\n",
    "    x += 1\n",
    "    \n",
    "    if x == 3:\n",
    "        print(f\"\\tAlert!!! x = {x}\")\n",
    "    else:\n",
    "        print(\"\\tContinuing...\")\n",
    "        continue\n",
    "else:\n",
    "    print(\"x is no longer less than 5\")"
   ]
  },
  {
   "cell_type": "code",
   "execution_count": 3,
   "metadata": {},
   "outputs": [
    {
     "name": "stdout",
     "output_type": "stream",
     "text": [
      "x = 0:\n",
      "\tx is less than 5, x += 1\n",
      "\tContinuing...\n",
      "x = 1:\n",
      "\tx is less than 5, x += 1\n",
      "\tContinuing...\n",
      "x = 2:\n",
      "\tx is less than 5, x += 1\n",
      "\tBreaking because x is 3!\n"
     ]
    }
   ],
   "source": [
    "# Using Break\n",
    "x = 0\n",
    "while x < 5:\n",
    "    print(f\"x = {x}:\")\n",
    "    print(\"\\tx is less than 5, x += 1\")\n",
    "    x += 1\n",
    "    \n",
    "    if x == 3:\n",
    "        print(f\"\\tBreaking because x is {x}!\")\n",
    "        break\n",
    "    else:\n",
    "        print(\"\\tContinuing...\")\n",
    "        continue\n",
    "else:\n",
    "    print(\"x is no longer less than 5\")"
   ]
  },
  {
   "cell_type": "markdown",
   "metadata": {},
   "source": [
    "- **Caution: It is possible to create an infinitely running loop with while statements**"
   ]
  },
  {
   "cell_type": "code",
   "execution_count": 4,
   "metadata": {},
   "outputs": [],
   "source": [
    "# DO NOT RUN THIS CODE!!!! \n",
    "# while True:\n",
    "#   print(\"Uh Oh infinite Loop!\")"
   ]
  },
  {
   "attachments": {},
   "cell_type": "markdown",
   "metadata": {},
   "source": [
    "- However, we can also use `while True` if we know how to control it appropriately"
   ]
  },
  {
   "cell_type": "code",
   "execution_count": 5,
   "metadata": {},
   "outputs": [
    {
     "name": "stdout",
     "output_type": "stream",
     "text": [
      "Wrong password. Please try again.\n",
      "Wrong password. Please try again.\n",
      "Wrong password. Please try again.\n",
      "Wrong password. Please try again.\n",
      "Wrong password. Please try again.\n",
      "That was the last try. Resetting password.\n"
     ]
    }
   ],
   "source": [
    "n: int = 0\n",
    "while True:\n",
    "    if n < 5:\n",
    "        print(\"Wrong password. Please try again.\")\n",
    "        n += 1\n",
    "    else:\n",
    "        print(\"That was the last try. Resetting password.\")\n",
    "        break"
   ]
  }
 ],
 "metadata": {
  "hide_input": false,
  "kernelspec": {
   "display_name": "venv",
   "language": "python",
   "name": "python3"
  },
  "language_info": {
   "codemirror_mode": {
    "name": "ipython",
    "version": 3
   },
   "file_extension": ".py",
   "mimetype": "text/x-python",
   "name": "python",
   "nbconvert_exporter": "python",
   "pygments_lexer": "ipython3",
   "version": "3.11.2"
  },
  "toc": {
   "base_numbering": 1,
   "nav_menu": {},
   "number_sections": true,
   "sideBar": true,
   "skip_h1_title": true,
   "title_cell": "Table of Contents",
   "title_sidebar": "Contents",
   "toc_cell": true,
   "toc_position": {},
   "toc_section_display": true,
   "toc_window_display": true
  },
  "varInspector": {
   "cols": {
    "lenName": 16,
    "lenType": 16,
    "lenVar": 40
   },
   "kernels_config": {
    "python": {
     "delete_cmd_postfix": "",
     "delete_cmd_prefix": "del ",
     "library": "var_list.py",
     "varRefreshCmd": "print(var_dic_list())"
    },
    "r": {
     "delete_cmd_postfix": ") ",
     "delete_cmd_prefix": "rm(",
     "library": "var_list.r",
     "varRefreshCmd": "cat(var_dic_list()) "
    }
   },
   "types_to_exclude": [
    "module",
    "function",
    "builtin_function_or_method",
    "instance",
    "_Feature"
   ],
   "window_display": false
  },
  "vscode": {
   "interpreter": {
    "hash": "c06c66e20c037b5a81ce5a660a92268a8806238f991164e2ce77b648e299b60d"
   }
  }
 },
 "nbformat": 4,
 "nbformat_minor": 4
}
