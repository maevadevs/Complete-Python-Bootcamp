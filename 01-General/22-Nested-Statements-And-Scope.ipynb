{
 "cells": [
  {
   "cell_type": "markdown",
   "metadata": {
    "toc": true
   },
   "source": [
    "<h1>Table of Contents<span class=\"tocSkip\"></span></h1>\n",
    "<div class=\"toc\"><ul class=\"toc-item\"><li><span><a href=\"#Scope-In-Python\" data-toc-modified-id=\"Scope-In-Python-1\"><span class=\"toc-item-num\">1&nbsp;&nbsp;</span>Scope In Python</a></span></li><li><span><a href=\"#Closure\" data-toc-modified-id=\"Closure-2\"><span class=\"toc-item-num\">2&nbsp;&nbsp;</span>Closure</a></span></li><li><span><a href=\"#Local-Variables\" data-toc-modified-id=\"Local-Variables-3\"><span class=\"toc-item-num\">3&nbsp;&nbsp;</span>Local Variables</a></span></li><li><span><a href=\"#global-Statement\" data-toc-modified-id=\"global-Statement-4\"><span class=\"toc-item-num\">4&nbsp;&nbsp;</span><code>global</code> Statement</a></span></li><li><span><a href=\"#globals()-and-locals()\" data-toc-modified-id=\"globals()-and-locals()-5\"><span class=\"toc-item-num\">5&nbsp;&nbsp;</span><code>globals()</code> and <code>locals()</code></a></span></li></ul></div>"
   ]
  },
  {
   "cell_type": "markdown",
   "metadata": {},
   "source": [
    "# Nested Statements and Scope"
   ]
  },
  {
   "cell_type": "markdown",
   "metadata": {},
   "source": [
    "- When you create a variable name in Python, the name is stored in a *namespace*\n",
    "- Variable names also have a *scope*, the scope determines the visibility of that variable name to other parts of your cod\n",
    "- Like most scripting languages, Python has Function-Based Scope, not Block-based\n",
    "- By default, variables are local to the function\n",
    "- Use *global* keyword to refer to the Global Variables"
   ]
  },
  {
   "cell_type": "code",
   "execution_count": 1,
   "metadata": {},
   "outputs": [
    {
     "name": "stdout",
     "output_type": "stream",
     "text": [
      "25\n",
      "50\n"
     ]
    }
   ],
   "source": [
    "x = 25\n",
    "\n",
    "def printer():\n",
    "    x = 50\n",
    "    return x\n",
    "\n",
    "print(x)\n",
    "print(printer())"
   ]
  },
  {
   "cell_type": "markdown",
   "metadata": {},
   "source": [
    "## Scope In Python"
   ]
  },
  {
   "cell_type": "markdown",
   "metadata": {},
   "source": [
    "- 3 general rules:\n",
    "  1. Name assignments will create or change local names by default\n",
    "  1. Name references search (at most) four scopes, these are LEGB rule:\n",
    "    - Local\n",
    "    - Enclosing functions (closure)\n",
    "    - Global\n",
    "    - Built-in\n",
    "  1. Names declared in global and nonlocal statements map assigned names to enclosing module and function scopes\n",
    "- LEGB Rule:\n",
    "  - L: Local — Names assigned in any way within a function (`def` or `lambda`)), and not declared `global` in that function\n",
    "  - E: Enclosing function — Names in the local scope of any enclosing functions (`def` or `lambda`), from inner to outer\n",
    "  - G: Global (module) — Names assigned at the top-level of a module file, or declared global in a `def` within the file\n",
    "  - B: Built-in (Python) — Names preassigned in the built-in names module : `open`, `range`, `SyntaxError`,..."
   ]
  },
  {
   "cell_type": "code",
   "execution_count": 2,
   "metadata": {},
   "outputs": [
    {
     "data": {
      "text/plain": [
       "9"
      ]
     },
     "execution_count": 2,
     "metadata": {},
     "output_type": "execute_result"
    }
   ],
   "source": [
    "# x is local here: lambda act as a function\n",
    "f = lambda x: x**2\n",
    "f(3)"
   ]
  },
  {
   "cell_type": "markdown",
   "metadata": {},
   "source": [
    "## Closure"
   ]
  },
  {
   "cell_type": "markdown",
   "metadata": {},
   "source": [
    "- This occurs when we have a function inside a function (nested functions)"
   ]
  },
  {
   "cell_type": "code",
   "execution_count": 3,
   "metadata": {},
   "outputs": [],
   "source": [
    "name = 'This is a global name'\n",
    "\n",
    "def greet(): # Enclosing function\n",
    "    name = 'Sammy' # This name is local to greet()\n",
    "  \n",
    "    def hello(): # Enclosed function\n",
    "        print('Hello '+ name)\n",
    "    \n",
    "    hello() # Calling greet() will eventually wall hello() here"
   ]
  },
  {
   "cell_type": "code",
   "execution_count": 4,
   "metadata": {},
   "outputs": [],
   "source": [
    "# hello() # hello() is not defined in this scope. This is an error"
   ]
  },
  {
   "cell_type": "code",
   "execution_count": 5,
   "metadata": {},
   "outputs": [
    {
     "name": "stdout",
     "output_type": "stream",
     "text": [
      "Hello Sammy\n"
     ]
    }
   ],
   "source": [
    "greet() # "
   ]
  },
  {
   "cell_type": "code",
   "execution_count": 6,
   "metadata": {},
   "outputs": [
    {
     "name": "stdout",
     "output_type": "stream",
     "text": [
      "This is a global name\n"
     ]
    }
   ],
   "source": [
    "print(name) # global"
   ]
  },
  {
   "cell_type": "markdown",
   "metadata": {},
   "source": [
    "## Local Variables"
   ]
  },
  {
   "cell_type": "markdown",
   "metadata": {},
   "source": [
    "- Variables declared inside a function definition are not related in any way to other variables with the same names used outside the function\n",
    "- This is called **the scope of the variable**\n",
    "- All variables have the scope of the block of function they are declared in starting from the point of definition of the name"
   ]
  },
  {
   "cell_type": "code",
   "execution_count": 7,
   "metadata": {},
   "outputs": [],
   "source": [
    "def func(x):\n",
    "    # Globals can be used in function...\n",
    "    print('x is', x)\n",
    "    #... But locals would take precedence once present\n",
    "    x = 2\n",
    "    print('Changed local x to', x)"
   ]
  },
  {
   "cell_type": "code",
   "execution_count": 8,
   "metadata": {},
   "outputs": [
    {
     "name": "stdout",
     "output_type": "stream",
     "text": [
      "x is 50\n",
      "Changed local x to 2\n",
      "x global is still 50\n"
     ]
    }
   ],
   "source": [
    "x = 50\n",
    "func(x)\n",
    "print('x global is still', x)"
   ]
  },
  {
   "cell_type": "markdown",
   "metadata": {},
   "source": [
    "## `global` Statement"
   ]
  },
  {
   "cell_type": "markdown",
   "metadata": {},
   "source": [
    "- If we want to assign a value to a name defined at the top level of the program (i.e. not inside any kind of scope such as functions or classes), then we have to tell Python that the name is not local but `global`\n",
    "- It is impossible to assign a value to a variable defined outside a function without the `global` statement\n",
    "- We can use the values of such variables defined outside the function if there is no variable with the same name within the function\n",
    "- However, this is not encouraged and should be avoided since it becomes unclear to the reader of the program as to where that variable’s definition is\n",
    "- Using the `global` statement makes it amply clear that the variable is defined in an outermost block"
   ]
  },
  {
   "cell_type": "code",
   "execution_count": 9,
   "metadata": {},
   "outputs": [],
   "source": [
    "x = 100 # This is global x\n",
    "\n",
    "def func():\n",
    "    global x # This x refers to the x defined outside\n",
    "    print('This function is now using the global x!')\n",
    "    print('Because of global x is:', x)\n",
    "    x = 2 # This is global x: We cannot shadow to local\n",
    "    print('Ran func(), changed global x to', x)"
   ]
  },
  {
   "cell_type": "code",
   "execution_count": 10,
   "metadata": {},
   "outputs": [
    {
     "name": "stdout",
     "output_type": "stream",
     "text": [
      "Before calling func(), x is: 100\n",
      "-----\n",
      "This function is now using the global x!\n",
      "Because of global x is: 100\n",
      "Ran func(), changed global x to 2\n",
      "-----\n",
      "Value of x (outside of func()) is: 2\n"
     ]
    }
   ],
   "source": [
    "print('Before calling func(), x is:', x)\n",
    "print('-----')\n",
    "func()\n",
    "print('-----')\n",
    "print('Value of x (outside of func()) is:', x)"
   ]
  },
  {
   "cell_type": "markdown",
   "metadata": {},
   "source": [
    "## `globals()` and `locals()`"
   ]
  },
  {
   "cell_type": "markdown",
   "metadata": {},
   "source": [
    "- Allows to check what are your current local and global variable\n",
    "- Return a hashed dictionary of the list of variables in that scope"
   ]
  },
  {
   "cell_type": "code",
   "execution_count": 11,
   "metadata": {},
   "outputs": [
    {
     "name": "stdout",
     "output_type": "stream",
     "text": [
      "['__name__', '__doc__', '__package__', '__loader__', '__spec__', '__builtin__', '__builtins__', '_ih', '_oh', '_dh', 'In', 'Out', 'get_ipython', 'exit', 'quit', '_', '__', '___', '_i', '_ii', '_iii', '_i1', 'x', 'printer', '_i2', 'f', '_2', '_i3', 'name', 'greet', '_i4', '_i5', '_i6', '_i7', 'func', '_i8', '_i9', '_i10', '_i11', 'loc', 'loc_keys']\n"
     ]
    }
   ],
   "source": [
    "loc = locals()\n",
    "loc_keys = []\n",
    "for k in list(loc.keys()):\n",
    "    loc_keys.append(k)\n",
    "\n",
    "print(loc_keys)"
   ]
  },
  {
   "cell_type": "code",
   "execution_count": 12,
   "metadata": {},
   "outputs": [
    {
     "name": "stdout",
     "output_type": "stream",
     "text": [
      "['__name__', '__doc__', '__package__', '__loader__', '__spec__', '__builtin__', '__builtins__', '_ih', '_oh', '_dh', 'In', 'Out', 'get_ipython', 'exit', 'quit', '_', '__', '___', '_i', '_ii', '_iii', '_i1', 'x', 'printer', '_i2', 'f', '_2', '_i3', 'name', 'greet', '_i4', '_i5', '_i6', '_i7', 'func', '_i8', '_i9', '_i10', '_i11', 'loc', 'loc_keys', 'k', '_i12', 'glob', 'glob_keys']\n"
     ]
    }
   ],
   "source": [
    "glob = globals()\n",
    "glob_keys = []\n",
    "for k in glob.keys():\n",
    "    glob_keys.append(k)\n",
    "\n",
    "print(glob_keys)"
   ]
  }
 ],
 "metadata": {
  "kernelspec": {
   "display_name": "Python 3",
   "language": "python",
   "name": "python3"
  },
  "language_info": {
   "codemirror_mode": {
    "name": "ipython",
    "version": 3
   },
   "file_extension": ".py",
   "mimetype": "text/x-python",
   "name": "python",
   "nbconvert_exporter": "python",
   "pygments_lexer": "ipython3",
   "version": "3.8.2"
  },
  "toc": {
   "base_numbering": 1,
   "nav_menu": {},
   "number_sections": true,
   "sideBar": true,
   "skip_h1_title": true,
   "title_cell": "Table of Contents",
   "title_sidebar": "Contents",
   "toc_cell": true,
   "toc_position": {},
   "toc_section_display": true,
   "toc_window_display": true
  }
 },
 "nbformat": 4,
 "nbformat_minor": 4
}
