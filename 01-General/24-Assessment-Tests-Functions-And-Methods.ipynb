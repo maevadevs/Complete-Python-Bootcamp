{
 "cells": [
  {
   "cell_type": "markdown",
   "metadata": {},
   "source": [
    "# Assessment Tests: Functions and Methods\n",
    "---"
   ]
  },
  {
   "cell_type": "markdown",
   "metadata": {},
   "source": [
    "**Table of Contents**<a id='toc0_'></a>    \n",
    "\n",
    "<!-- vscode-jupyter-toc-config\n",
    "\tnumbering=false\n",
    "\tanchor=true\n",
    "\tflat=false\n",
    "\tminLevel=2\n",
    "\tmaxLevel=6\n",
    "\t/vscode-jupyter-toc-config -->\n",
    "<!-- THIS CELL WILL BE REPLACED ON TOC UPDATE. DO NOT WRITE YOUR TEXT IN THIS CELL -->"
   ]
  },
  {
   "attachments": {},
   "cell_type": "markdown",
   "metadata": {},
   "source": [
    "---"
   ]
  },
  {
   "cell_type": "code",
   "execution_count": 25,
   "metadata": {},
   "outputs": [],
   "source": [
    "from math import pi # Need to import math.pi for all math works in here\n",
    "from typing import Any, List, Tuple"
   ]
  },
  {
   "cell_type": "markdown",
   "metadata": {},
   "source": [
    "- Write a function that computes the volume of a sphere given its radius"
   ]
  },
  {
   "cell_type": "code",
   "execution_count": 1,
   "metadata": {},
   "outputs": [],
   "source": [
    "def volume(r: float) -> float:\n",
    "    return (4/3) * pi * (r**3)"
   ]
  },
  {
   "cell_type": "code",
   "execution_count": 4,
   "metadata": {},
   "outputs": [
    {
     "name": "stdout",
     "output_type": "stream",
     "text": [
      "113.09733552923254\n"
     ]
    }
   ],
   "source": [
    "# Testing\n",
    "r: float = 3\n",
    "print(volume(r))"
   ]
  },
  {
   "cell_type": "markdown",
   "metadata": {},
   "source": [
    "- Write a function that checks whether a number is in a given range (Inclusive of high and low)"
   ]
  },
  {
   "cell_type": "code",
   "execution_count": 5,
   "metadata": {},
   "outputs": [],
   "source": [
    "def range_check(num: int, low: int, high: int) -> str:\n",
    "    \"\"\"\n",
    "    Check if `num` is within the range of `low` and `high`. Return answer as a string.\n",
    "    \n",
    "    Arguments:   \n",
    "        - `num`: The number to check\n",
    "        - `low`: The lower limit (inclusive)\n",
    "        - `high`: The higher limit (inclusive)\n",
    "    \n",
    "    Return: \n",
    "        - Text stating the result\n",
    "    \"\"\"\n",
    "    \n",
    "    if num in range(low, high+1):\n",
    "        return \"{0} is within the range of [{1}, {2}]\".format(num, low, high)\n",
    "    else:\n",
    "        return \"{0} is not in the range of [{1}, {2}]\".format(num, low, high)"
   ]
  },
  {
   "cell_type": "code",
   "execution_count": 6,
   "metadata": {},
   "outputs": [
    {
     "name": "stdout",
     "output_type": "stream",
     "text": [
      "10 is within the range of [5, 67]\n"
     ]
    }
   ],
   "source": [
    "print(range_check(10, 5, 67))"
   ]
  },
  {
   "cell_type": "code",
   "execution_count": 7,
   "metadata": {},
   "outputs": [],
   "source": [
    "# If you only wanted to return a boolean:\n",
    "def range_bool(num: int, low: int, high: int) -> bool:\n",
    "    \"\"\"\n",
    "    Check whether `num` is within the range of `low` and `high` or not.\n",
    "    \n",
    "    Arguments:   \n",
    "        - `num`: The number to check\n",
    "        - `low`: The lower limit (inclusive)\n",
    "        - `high`: The higher limit (inclusive)\n",
    "    \n",
    "    Return: \n",
    "        - Boolean result of whether the check is True or False\n",
    "    \"\"\"\n",
    "    \n",
    "    return num in range(low, high+1)"
   ]
  },
  {
   "cell_type": "code",
   "execution_count": 8,
   "metadata": {},
   "outputs": [
    {
     "name": "stdout",
     "output_type": "stream",
     "text": [
      "True\n"
     ]
    }
   ],
   "source": [
    "print(range_bool(3, 1, 10))"
   ]
  },
  {
   "attachments": {},
   "cell_type": "markdown",
   "metadata": {},
   "source": [
    "Write a Python function that accepts a string and calculate the number of upper case letters and lower case letters.\n",
    "\n",
    "- Sample String : \"Hello Mr. Rogers, how are you this fine Tuesday?\"\n",
    "- Expected Output : \n",
    "  - No. of Upper case characters : 4\n",
    "  - No. of Lower case Characters : 33\n",
    "\n",
    "If you feel ambitious, explore the `Collections` module to solve this problem!"
   ]
  },
  {
   "cell_type": "code",
   "execution_count": 15,
   "metadata": {},
   "outputs": [],
   "source": [
    "from string import (\n",
    "    ascii_lowercase, \n",
    "    ascii_uppercase, \n",
    "    punctuation\n",
    ")\n",
    "\n",
    "def count_chars(strg: str) -> Tuple[int, int, int]:\n",
    "    \"\"\"\n",
    "    Check the number of uppercases characters, lowercases characters, and punctuations in a string.\n",
    "    Need to import the string module. \n",
    "    Return the numbers in a tuple.\n",
    "    \n",
    "    Arguments:   \n",
    "        - `str`: The original string to test\n",
    "    \n",
    "    Return: \n",
    "        - Count of uppercases characters, lowercases characters, and punctuations in the string\n",
    "    \"\"\"\n",
    "    \n",
    "    upper_count: int = 0\n",
    "    lower_count: int = 0\n",
    "    punct_count: int = 0\n",
    "    letters: List[str] = [strg[i] for i in range(0, len(strg))]\n",
    "    \n",
    "    for ltr in letters:\n",
    "        if (ltr in ascii_uppercase):\n",
    "            upper_count += 1\n",
    "        if (ltr in ascii_lowercase):\n",
    "            lower_count += 1\n",
    "        if (ltr in punctuation):\n",
    "            punct_count += 1\n",
    "    \n",
    "    return (upper_count, lower_count, punct_count)"
   ]
  },
  {
   "cell_type": "code",
   "execution_count": 16,
   "metadata": {},
   "outputs": [
    {
     "name": "stdout",
     "output_type": "stream",
     "text": [
      "Sample string: Hello Mr. Rogers, how are you this fine Tuesday?\n",
      "Uppercases: 4\n",
      "Lowercases: 33\n",
      "Punctuations: 3\n"
     ]
    }
   ],
   "source": [
    "TEST_STRING: str = \"Hello Mr. Rogers, how are you this fine Tuesday?\"\n",
    "UPPER, LOWER, PUNCT = count_chars(TEST_STRING)\n",
    "\n",
    "print(f\"Sample string: {TEST_STRING}\")\n",
    "print(f\"Uppercases: {UPPER}\")\n",
    "print(f\"Lowercases: {LOWER}\")\n",
    "print(f\"Punctuations: {PUNCT}\")"
   ]
  },
  {
   "cell_type": "markdown",
   "metadata": {},
   "source": [
    "- Write a Python function that takes a list and returns a new list with unique elements of the first list.\n",
    "  - Sample List : [1, 1, 1, 1, 2, 2, 3, 3, 3, 3, 4, 5]\n",
    "  - Unique List : [1, 2, 3, 4, 5]"
   ]
  },
  {
   "cell_type": "code",
   "execution_count": 18,
   "metadata": {},
   "outputs": [],
   "source": [
    "# Using lambda expression\n",
    "# To get unique values, we use set(), then back to list\n",
    "def unique_list(ls: List[Any]) -> List[Any]:\n",
    "    \"\"\"\n",
    "    Get the unique elements from a list.\n",
    "\n",
    "    Arguments:\n",
    "        - `ls`: The list that we want to check the unique elements for.\n",
    "\n",
    "    Return:\n",
    "        - List of the unique elements in the list.\n",
    "    \"\"\"\n",
    "    return list(set(ls))"
   ]
  },
  {
   "cell_type": "code",
   "execution_count": 19,
   "metadata": {},
   "outputs": [
    {
     "name": "stdout",
     "output_type": "stream",
     "text": [
      "test_list: [1, 1, 1, 1, 2, 2, 3, 3, 3, 3, 4, 5]\n",
      "uniques: [1, 2, 3, 4, 5]\n"
     ]
    }
   ],
   "source": [
    "test_list: List[int] = [1, 1, 1, 1, 2, 2, 3, 3, 3, 3, 4, 5]\n",
    "uniques: List[int] = unique_list(test_list)\n",
    "print(f\"test_list: {test_list}\")\n",
    "print(f\"uniques: {uniques}\")"
   ]
  },
  {
   "cell_type": "markdown",
   "metadata": {},
   "source": [
    "- Write a Python function to multiply all the numbers in a list.\n",
    "  - Sample List : [1, 2, 3, -4]\n",
    "  - Expected Output : -24"
   ]
  },
  {
   "cell_type": "code",
   "execution_count": 26,
   "metadata": {},
   "outputs": [],
   "source": [
    "from functools import reduce\n",
    "\n",
    "def multiply(numbers: List[int]) -> int:\n",
    "    \"\"\"\n",
    "    Multiply all the numbers in a list.\n",
    "\n",
    "    Arguments:\n",
    "        - `numbers`: A list of numbers to multiply.\n",
    "\n",
    "    Return:\n",
    "        - Result of the multiplication.\n",
    "    \"\"\"\n",
    "\n",
    "    return reduce(lambda agg, next: agg * next, numbers, 1)"
   ]
  },
  {
   "cell_type": "code",
   "execution_count": 27,
   "metadata": {},
   "outputs": [
    {
     "data": {
      "text/plain": [
       "-24"
      ]
     },
     "execution_count": 27,
     "metadata": {},
     "output_type": "execute_result"
    }
   ],
   "source": [
    "multiply([1, 2, 3, -4])"
   ]
  },
  {
   "cell_type": "markdown",
   "metadata": {},
   "source": [
    "- Write a Python function that checks whether a passed string is palindrome or not. Note: A palindrome is word, phrase, or sequence that reads the same backward as forward, e.g., madam or nurses run."
   ]
  },
  {
   "cell_type": "code",
   "execution_count": 28,
   "metadata": {},
   "outputs": [],
   "source": [
    "def palindrome(st: str) -> bool:\n",
    "    \"\"\"\n",
    "    Checks whether a passed string is a palindrome or not.\n",
    "\n",
    "    Arguments:\n",
    "        `st`: The string to check.\n",
    "\n",
    "    Returns:\n",
    "        Whether the passed string is palindrome or not.\n",
    "    \"\"\"\n",
    "    \n",
    "    # Consider alphanumeric characters only and compare at lower case\n",
    "    st_clean: str = \"\".join([char.lower() for char in st if char.isalnum()])\n",
    "\n",
    "    # Palindrome if the reverse is the same as the forward\n",
    "    return st_clean == st_clean[::-1]"
   ]
  },
  {
   "cell_type": "code",
   "execution_count": 29,
   "metadata": {},
   "outputs": [
    {
     "name": "stdout",
     "output_type": "stream",
     "text": [
      "True\n",
      "True\n",
      "False\n",
      "True\n",
      "True\n"
     ]
    }
   ],
   "source": [
    "print(palindrome(\"nurses run\"))\n",
    "print(palindrome(\"madam\"))\n",
    "print(palindrome(\"abracadabra\"))\n",
    "print(palindrome(\"Al lets Della call Ed Stella\"))\n",
    "print(palindrome(\"Are we not pure? 'No, sir!' Panama’s moody Noriega brags. 'It is garbage!' Irony dooms a man—a prisoner up to new era.\"))"
   ]
  },
  {
   "cell_type": "markdown",
   "metadata": {},
   "source": [
    "- Write a Python function to check whether a string is pangram or not.\n",
    "  - Note : Pangrams are words or sentences containing every letter of the alphabet at least once.\n",
    "  - For example : \"The quick brown fox jumps over the lazy dog\"\n",
    "- Hint: Look at the string module"
   ]
  },
  {
   "cell_type": "code",
   "execution_count": 30,
   "metadata": {},
   "outputs": [],
   "source": [
    "from string import ascii_lowercase\n",
    "\n",
    "def is_pangram(st: str, alphabet: str = ascii_lowercase) -> bool:\n",
    "    \"\"\"\n",
    "    Checks whether a passed string is a pangram or not.\n",
    "    Pangrams are words or sentences containing every letter of the alphabet at least once.\n",
    "\n",
    "    Arguments:\n",
    "        - `st`: The string to check.\n",
    "        - `alphabet` (optional): A list of alphabet to use. Defaults to `ascii_lowercase`.\n",
    "\n",
    "    Returns:\n",
    "        - Whether the passed string is a pangram or not\n",
    "    \"\"\"\n",
    "    st_lower: str = st.lower() # compare at lowercases only\n",
    "    return len(set(alphabet)) <= len(set(st_lower))"
   ]
  },
  {
   "cell_type": "code",
   "execution_count": 31,
   "metadata": {},
   "outputs": [
    {
     "name": "stdout",
     "output_type": "stream",
     "text": [
      "True\n",
      "True\n",
      "False\n"
     ]
    }
   ],
   "source": [
    "print(is_pangram(\"Jackdaws love my big sphinx of quartz\"))\n",
    "print(is_pangram(\"A quick brown fox jumps over the lazy dog\"))\n",
    "print(is_pangram(\"Hello World!\"))"
   ]
  }
 ],
 "metadata": {
  "kernelspec": {
   "display_name": "venv",
   "language": "python",
   "name": "python3"
  },
  "language_info": {
   "codemirror_mode": {
    "name": "ipython",
    "version": 3
   },
   "file_extension": ".py",
   "mimetype": "text/x-python",
   "name": "python",
   "nbconvert_exporter": "python",
   "pygments_lexer": "ipython3",
   "version": "3.11.2"
  },
  "toc": {
   "base_numbering": 1,
   "nav_menu": {},
   "number_sections": true,
   "sideBar": true,
   "skip_h1_title": true,
   "title_cell": "Table of Contents",
   "title_sidebar": "Contents",
   "toc_cell": true,
   "toc_position": {},
   "toc_section_display": true,
   "toc_window_display": true
  },
  "vscode": {
   "interpreter": {
    "hash": "c06c66e20c037b5a81ce5a660a92268a8806238f991164e2ce77b648e299b60d"
   }
  }
 },
 "nbformat": 4,
 "nbformat_minor": 4
}
