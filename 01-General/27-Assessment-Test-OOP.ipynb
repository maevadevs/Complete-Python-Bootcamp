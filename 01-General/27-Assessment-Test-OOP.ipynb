{
 "cells": [
  {
   "cell_type": "markdown",
   "metadata": {},
   "source": [
    "# Assessment Test: Object-Oriented Programming\n",
    "---"
   ]
  },
  {
   "attachments": {},
   "cell_type": "markdown",
   "metadata": {},
   "source": [
    "**Table of Contents**<a id=\"toc0_\"></a>    \n",
    "\n",
    "<!-- vscode-jupyter-toc-config\n",
    "\tnumbering=false\n",
    "\tanchor=true\n",
    "\tflat=false\n",
    "\tminLevel=2\n",
    "\tmaxLevel=6\n",
    "\t/vscode-jupyter-toc-config -->\n",
    "<!-- THIS CELL WILL BE REPLACED ON TOC UPDATE. DO NOT WRITE YOUR TEXT IN THIS CELL -->"
   ]
  },
  {
   "attachments": {},
   "cell_type": "markdown",
   "metadata": {},
   "source": [
    "---"
   ]
  },
  {
   "cell_type": "code",
   "execution_count": 1,
   "metadata": {},
   "outputs": [],
   "source": [
    "from typing import Tuple"
   ]
  },
  {
   "attachments": {},
   "cell_type": "markdown",
   "metadata": {},
   "source": [
    "- Problem 1: Fill in the `Line` class methods to accept coordinate as a pair of tuples and return the slope and distance of the line."
   ]
  },
  {
   "cell_type": "code",
   "execution_count": 2,
   "metadata": {},
   "outputs": [],
   "source": [
    "from math import sqrt\n",
    "\n",
    "class Line(object):\n",
    "    def __init__(self, p0: Tuple[int, int] = (0,0), p: Tuple[int, int] = (0,0)) -> None:\n",
    "        # p0 and p are tuples on self\n",
    "        self.p0: Tuple[int, int] = p0    # p0 = (x0, y0)\n",
    "        self.p: Tuple[int, int] = p      # p = (x, y)\n",
    "    \n",
    "\n",
    "    def distance(self) -> float:\n",
    "        # Tuple unpacking: p0 and p are tuples on self\n",
    "        x0: int; y0: int\n",
    "        x: int; y: int\n",
    "        x0, y0 = self.p0\n",
    "        x, y = self.p\n",
    "\n",
    "        # Using absolute value: Distance = sqrt((x-x0)**2 + (y-y0)**2)\n",
    "        return sqrt((float(x) - float(x0))**2 + (float(y) - float(y0))**2)\n",
    "\n",
    "  \n",
    "    def slope(self) -> float:\n",
    "        x0: int; y0: int\n",
    "        x: int; y: int\n",
    "        # tuple unpacking: p0 and p are tuples on self\n",
    "        x0, y0 = self.p0\n",
    "        x, y = self.p\n",
    "        # Using absolute value: Slope = DeltaY / DelatX\n",
    "        delta_x: float = float(x) - float(x0)\n",
    "        delta_y: float = float(y) - float(y0)\n",
    "        if delta_y == 0:\n",
    "            raise ValueError(\"Unable to calculate the slope without a height: delta_y == 0\")\n",
    "        return abs(delta_y) / abs(delta_x)"
   ]
  },
  {
   "cell_type": "code",
   "execution_count": 3,
   "metadata": {},
   "outputs": [
    {
     "name": "stdout",
     "output_type": "stream",
     "text": [
      "distance: 9.433981132056603\n",
      "slope: 1.6\n"
     ]
    }
   ],
   "source": [
    "# EXAMPLE OUTPUT\n",
    "point1: Tuple[int, int] = (3, 2)\n",
    "point2: Tuple[int, int] = (8, 10)\n",
    "li: Line = Line(point1, point2)\n",
    "\n",
    "print(\"distance:\", li.distance())\n",
    "print(\"slope:\", li.slope())"
   ]
  },
  {
   "cell_type": "markdown",
   "metadata": {},
   "source": [
    "- Problem 2: Fill in the class"
   ]
  },
  {
   "cell_type": "code",
   "execution_count": 4,
   "metadata": {},
   "outputs": [],
   "source": [
    "from math import pi\n",
    "\n",
    "class Cylinder(object):\n",
    "    def __init__(self, height: float = 1.0, radius: float = 1.0) -> None:\n",
    "        self.height = height\n",
    "        self.radius = radius\n",
    "\n",
    "\n",
    "    def volume(self) -> float:\n",
    "        # Cylinder volume: V = πr^2h\n",
    "        return (pi * (self.radius ** 2)) * self.height\n",
    "\n",
    "\n",
    "    def surface_area(self) -> float:\n",
    "        # Cylinder surface area: A = 2πrh (side) + 2πr^2 (top circle)\n",
    "        side: float = 2 * pi * self.radius * self.height\n",
    "        top_circle: float = 2 * pi * self.radius ** 2\n",
    "        return side + top_circle"
   ]
  },
  {
   "cell_type": "code",
   "execution_count": 5,
   "metadata": {},
   "outputs": [
    {
     "name": "stdout",
     "output_type": "stream",
     "text": [
      "volume: 56.548667764616276\n",
      "surface: 94.24777960769379\n"
     ]
    }
   ],
   "source": [
    "# EXAMPLE OUTPUT\n",
    "c: Cylinder = Cylinder(2.0, 3.0)\n",
    "print(\"volume:\", c.volume())\n",
    "print(\"surface:\", c.surface_area())"
   ]
  }
 ],
 "metadata": {
  "kernelspec": {
   "display_name": "venv",
   "language": "python",
   "name": "python3"
  },
  "language_info": {
   "codemirror_mode": {
    "name": "ipython",
    "version": 3
   },
   "file_extension": ".py",
   "mimetype": "text/x-python",
   "name": "python",
   "nbconvert_exporter": "python",
   "pygments_lexer": "ipython3",
   "version": "3.11.2"
  },
  "toc": {
   "base_numbering": 1,
   "nav_menu": {},
   "number_sections": true,
   "sideBar": true,
   "skip_h1_title": true,
   "title_cell": "Table of Contents",
   "title_sidebar": "Contents",
   "toc_cell": true,
   "toc_position": {},
   "toc_section_display": true,
   "toc_window_display": true
  },
  "vscode": {
   "interpreter": {
    "hash": "c06c66e20c037b5a81ce5a660a92268a8806238f991164e2ce77b648e299b60d"
   }
  }
 },
 "nbformat": 4,
 "nbformat_minor": 4
}
