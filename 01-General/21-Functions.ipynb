{
 "cells": [
  {
   "cell_type": "markdown",
   "metadata": {},
   "source": [
    "# Functions\n",
    "---"
   ]
  },
  {
   "cell_type": "markdown",
   "metadata": {},
   "source": [
    "**Table of Contents**<a id='toc0_'></a>    \n",
    "- [`def` Statements ](#toc1_)    \n",
    "- [Examples ](#toc2_)    \n",
    "- [Using `return` ](#toc3_)    \n",
    "- [`*args` and `**kwargs` ](#toc4_)    \n",
    "\n",
    "<!-- vscode-jupyter-toc-config\n",
    "\tnumbering=false\n",
    "\tanchor=true\n",
    "\tflat=false\n",
    "\tminLevel=2\n",
    "\tmaxLevel=6\n",
    "\t/vscode-jupyter-toc-config -->\n",
    "<!-- THIS CELL WILL BE REPLACED ON TOC UPDATE. DO NOT WRITE YOUR TEXT IN THIS CELL -->"
   ]
  },
  {
   "attachments": {},
   "cell_type": "markdown",
   "metadata": {},
   "source": [
    "---"
   ]
  },
  {
   "attachments": {},
   "cell_type": "markdown",
   "metadata": {},
   "source": [
    "- A useful device that groups together a set of statements so they can be run more than once\n",
    "- Allow us to not have to repeatedly write the same code again and again\n",
    "- Can specify parameters that can serve as inputs to the functions"
   ]
  },
  {
   "cell_type": "code",
   "execution_count": 1,
   "metadata": {},
   "outputs": [],
   "source": [
    "from typing import (\n",
    "    Any, \n",
    "    Final, \n",
    "    Generator, \n",
    "    List, \n",
    "    Optional,\n",
    "    Tuple\n",
    ")"
   ]
  },
  {
   "cell_type": "markdown",
   "metadata": {},
   "source": [
    "## <a id='toc1_'></a>`def` Statements  [&#8593;](#toc0_)"
   ]
  },
  {
   "cell_type": "code",
   "execution_count": 2,
   "metadata": {},
   "outputs": [],
   "source": [
    "def name_of_function(arg1: Any, arg2: Any) -> None:\n",
    "    \"\"\"\n",
    "    This is where the function\"s Document String (docstring) goes.\n",
    "    \n",
    "    Docstring explains about the function and will be showed when using `help()`.\n",
    "    Type annotation of arguments can be ommitted if using _PEP 484: \n",
    "    https://www.python.org/dev/peps/pep-0484/\n",
    "    \n",
    "    Arguments:\n",
    "        - `arg1`: The first argument.\n",
    "        - `arg2`: The second argument.\n",
    "    \n",
    "    Return:\n",
    "        The returned result.\n",
    "    \"\"\"\n",
    "    \n",
    "    # Do stuff here within the function\n",
    "    # return desired result\n",
    "    return None"
   ]
  },
  {
   "cell_type": "code",
   "execution_count": 3,
   "metadata": {},
   "outputs": [
    {
     "name": "stdout",
     "output_type": "stream",
     "text": [
      "Help on function name_of_function in module __main__:\n",
      "\n",
      "name_of_function(arg1: Any, arg2: Any) -> None\n",
      "    This is where the function\"s Document String (docstring) goes.\n",
      "    \n",
      "    Docstring explains about the function and will be showed when using `help()`.\n",
      "    Type annotation of arguments can be ommitted if using _PEP 484: \n",
      "    https://www.python.org/dev/peps/pep-0484/\n",
      "    \n",
      "    Arguments:\n",
      "        - `arg1`: The first argument.\n",
      "        - `arg2`: The second argument.\n",
      "    \n",
      "    Return:\n",
      "        The returned result.\n",
      "\n"
     ]
    }
   ],
   "source": [
    "help(name_of_function)"
   ]
  },
  {
   "cell_type": "markdown",
   "metadata": {},
   "source": [
    "## <a id='toc2_'></a>Examples  [&#8593;](#toc0_)"
   ]
  },
  {
   "cell_type": "code",
   "execution_count": 4,
   "metadata": {},
   "outputs": [],
   "source": [
    "# Example 1: A simple print \"hello\" function\n",
    "def say_hello() -> None:\n",
    "    \"\"\"\n",
    "    Print \"hello\" in the console.\n",
    "    \"\"\"\n",
    "    \n",
    "    print(\"hello\")"
   ]
  },
  {
   "cell_type": "code",
   "execution_count": 5,
   "metadata": {},
   "outputs": [
    {
     "name": "stdout",
     "output_type": "stream",
     "text": [
      "hello\n"
     ]
    }
   ],
   "source": [
    "# Now, call the function\n",
    "say_hello()"
   ]
  },
  {
   "cell_type": "code",
   "execution_count": 6,
   "metadata": {},
   "outputs": [],
   "source": [
    "# Example 2: A simple greeting function\n",
    "# Let\"s write a function that greets people with their name.\n",
    "def greeting(name: str) -> None:\n",
    "    \"\"\"\n",
    "    Print name in the console.\n",
    "\n",
    "    Arguments:\n",
    "        - `name`: The name to be printed.\n",
    "    \"\"\"\n",
    "    \n",
    "    print(\"Hello, {0}!\".format(name))"
   ]
  },
  {
   "cell_type": "code",
   "execution_count": 7,
   "metadata": {},
   "outputs": [
    {
     "name": "stdout",
     "output_type": "stream",
     "text": [
      "Hello, John!\n"
     ]
    }
   ],
   "source": [
    "greeting(\"John\")"
   ]
  },
  {
   "cell_type": "code",
   "execution_count": 8,
   "metadata": {},
   "outputs": [],
   "source": [
    "# Example 3: A simple create_greeting function\n",
    "# Let\"s write a function that creates a greeting from people\"s name.\n",
    "def create_greeting(name: str) -> str:\n",
    "    \"\"\"\n",
    "    Create a greeting with a given name.\n",
    "\n",
    "    Arguments:\n",
    "        - `name`: The name to be greeted.\n",
    "\n",
    "    Return:\n",
    "        - The greeting string.\n",
    "    \"\"\"\n",
    "    \n",
    "    return \"Hello, {0}!\".format(name)"
   ]
  },
  {
   "cell_type": "code",
   "execution_count": 9,
   "metadata": {},
   "outputs": [
    {
     "name": "stdout",
     "output_type": "stream",
     "text": [
      "Hello, John!\n"
     ]
    }
   ],
   "source": [
    "GREETING: Final[str] = create_greeting(name=\"John\")\n",
    "print(GREETING)"
   ]
  },
  {
   "cell_type": "markdown",
   "metadata": {},
   "source": [
    "## <a id='toc3_'></a>Using `return`  [&#8593;](#toc0_)"
   ]
  },
  {
   "cell_type": "code",
   "execution_count": 10,
   "metadata": {},
   "outputs": [],
   "source": [
    "# Example 3: Addition function\n",
    "def add(num_1: int|float, num_2: int|float) -> int|float:\n",
    "    \"\"\"\n",
    "    Add two numbers and return the result.\n",
    "\n",
    "    Arguments:\n",
    "        - `num_1`: The first operand.\n",
    "        - `num_2`: The second operand.\n",
    "\n",
    "    Return:\n",
    "        - The result of the addition.\n",
    "    \"\"\"\n",
    "    \n",
    "    return num_1 + num_2"
   ]
  },
  {
   "cell_type": "code",
   "execution_count": 11,
   "metadata": {},
   "outputs": [
    {
     "name": "stdout",
     "output_type": "stream",
     "text": [
      "1110\n"
     ]
    }
   ],
   "source": [
    "print(add(456, 654))"
   ]
  },
  {
   "cell_type": "code",
   "execution_count": 12,
   "metadata": {},
   "outputs": [
    {
     "name": "stdout",
     "output_type": "stream",
     "text": [
      "9\n"
     ]
    }
   ],
   "source": [
    "RESULT: Final[int|float] = add(4, 5)\n",
    "print(RESULT)"
   ]
  },
  {
   "attachments": {},
   "cell_type": "markdown",
   "metadata": {},
   "source": [
    "- If we don't declare variable types in Python, this function could be used to add numbers or sequences together\n",
    "- Input types must be checked manually"
   ]
  },
  {
   "cell_type": "code",
   "execution_count": 13,
   "metadata": {},
   "outputs": [],
   "source": [
    "# What happens if we input two strings?\n",
    "# print(add(\"one\",\"two\")) # This will throw an error when using mypy"
   ]
  },
  {
   "attachments": {},
   "cell_type": "markdown",
   "metadata": {},
   "source": [
    "Here is an example of implementation of a `is_prime()` function"
   ]
  },
  {
   "cell_type": "code",
   "execution_count": 14,
   "metadata": {},
   "outputs": [],
   "source": [
    "def is_prime_naive(num: int) -> bool:\n",
    "    \"\"\"\n",
    "    Very naive method for verifiying that a number is prime.\n",
    "\n",
    "    Arguments:\n",
    "        - `num`: The number to check if it is prime or not.\n",
    "\n",
    "    Return:\n",
    "        - True if `num` is prime. False otherwise.\n",
    "    \"\"\"\n",
    "    \n",
    "    if num < 2:\n",
    "        return False\n",
    "    \n",
    "    for i in range(2, num):\n",
    "        if num % i == 0:\n",
    "            return False\n",
    "    \n",
    "    return True"
   ]
  },
  {
   "cell_type": "code",
   "execution_count": 15,
   "metadata": {},
   "outputs": [
    {
     "name": "stdout",
     "output_type": "stream",
     "text": [
      "False\n"
     ]
    }
   ],
   "source": [
    "print(is_prime_naive(21079))"
   ]
  },
  {
   "cell_type": "code",
   "execution_count": 16,
   "metadata": {},
   "outputs": [],
   "source": [
    "import math\n",
    "\n",
    "def is_prime_semi_naive(num: int) -> bool:\n",
    "    \"\"\"\n",
    "    Semi-naive method for verifiying that a number is prime. \n",
    "    Using only up to the square root of the number and exclude by default all even numbers.\n",
    "\n",
    "    Arguments:\n",
    "        - `num`: The number to check if it is prime or not.\n",
    "\n",
    "    Return:\n",
    "        - True if `num` is prime. False otherwise.\n",
    "    \"\"\"\n",
    "    \n",
    "    if num < 2:\n",
    "        return False\n",
    "\n",
    "    if num == 2:\n",
    "        return True\n",
    "\n",
    "    if num % 2 == 0 and num > 2: \n",
    "        return False\n",
    "\n",
    "    for i in range(3, int(math.sqrt(num)) + 1, 2): # range() for python3\n",
    "        if num % i == 0:\n",
    "            return False\n",
    "\n",
    "    return True"
   ]
  },
  {
   "cell_type": "code",
   "execution_count": 17,
   "metadata": {},
   "outputs": [
    {
     "name": "stdout",
     "output_type": "stream",
     "text": [
      "False\n"
     ]
    }
   ],
   "source": [
    "print(is_prime_semi_naive(21079))"
   ]
  },
  {
   "cell_type": "code",
   "execution_count": 18,
   "metadata": {},
   "outputs": [],
   "source": [
    "from math import sqrt\n",
    "\n",
    "def is_prime(num: int) -> Tuple[bool, Optional[int]]:\n",
    "    \"\"\"   \n",
    "    Optimised method for checking if an integer number is prime or not.\n",
    "    Also returning the found smallest divisor if the number is not prime.\n",
    "\n",
    "    Arguments:\n",
    "        - `num`: The number to check if it is prime or not.\n",
    "\n",
    "    Return:\n",
    "        - Whether the `num` is prime or not, and the found smallest divisor if not prime.\n",
    "    \"\"\"\n",
    "\n",
    "    # Special cases\n",
    "    if type(num) != int or num <= 1:\n",
    "        raise Exception(f\"Argument 'num' must be of type {type(1)} and value > 1.\\nInstead, received type {type(num)} and value {num}.\")\n",
    "\n",
    "    # First 4 prime numbers\n",
    "    if num in (2, 3, 5, 7):\n",
    "        return True, None\n",
    "\n",
    "    # Divisible by 2\n",
    "    if num % 2 == 0:\n",
    "        return False, 2\n",
    "\n",
    "    # Divisible by 5\n",
    "    if num % 5 == 0:\n",
    "        return False, 5\n",
    "\n",
    "    # Beyond 10, only integers ending in 1,3,7,9 can be prime\n",
    "    # Else, they are either divisible by 2 or 5\n",
    "    if num % 10 in (1,3,7,9):\n",
    "        # Loop through possible divisors up to the sqrt\n",
    "        for n in range(3, int(sqrt(num))+1):\n",
    "            if num % n == 0:\n",
    "                return False, n\n",
    "\n",
    "    # If still here then prime\n",
    "    return True, None"
   ]
  },
  {
   "cell_type": "code",
   "execution_count": 19,
   "metadata": {},
   "outputs": [
    {
     "name": "stdout",
     "output_type": "stream",
     "text": [
      "(False, 107)\n"
     ]
    }
   ],
   "source": [
    "print(is_prime(21079))"
   ]
  },
  {
   "cell_type": "code",
   "execution_count": 20,
   "metadata": {},
   "outputs": [],
   "source": [
    "def generate_top_primes(n: int) -> List[int]:\n",
    "    \"\"\"\n",
    "    Generate a list of n-primes, using while loop.\n",
    "\n",
    "    Arguments:\n",
    "        - `n`: The number of prime numbers to generate\n",
    "\n",
    "    Return:\n",
    "        - List of `n` prime numbers\n",
    "    \"\"\"\n",
    "\n",
    "    def _generator(limit: int) -> Generator[int, None, None]:\n",
    "        num = 2\n",
    "        countPrimes = 0\n",
    "        while countPrimes < limit:\n",
    "            if is_prime(num)[0]:\n",
    "                yield num\n",
    "                countPrimes += 1\n",
    "            num += 1\n",
    "    \n",
    "    # Return the final list using the generator\n",
    "    return [num for num in _generator(n)]"
   ]
  },
  {
   "cell_type": "code",
   "execution_count": 21,
   "metadata": {},
   "outputs": [
    {
     "name": "stdout",
     "output_type": "stream",
     "text": [
      "--- Finished in 0.23824286460876465 seconds ---\n"
     ]
    }
   ],
   "source": [
    "# Measuring Code runtime\n",
    "import time\n",
    "\n",
    "# Start timer\n",
    "start_time: float = time.time()\n",
    "primes: List[int] = generate_top_primes(10000)\n",
    "# End timer\n",
    "print(\"--- Finished in {0} seconds ---\".format(time.time() - start_time))\n",
    "#print(p)"
   ]
  },
  {
   "cell_type": "code",
   "execution_count": 22,
   "metadata": {},
   "outputs": [],
   "source": [
    "# We could also use filter and range\n",
    "# This is way faster than previous method\n",
    "def primes_up_to(x: int) -> List[int]:\n",
    "    \"\"\"\n",
    "    Better way to list the first x number of primes, using range() and filter().\n",
    "    \"\"\"\n",
    "    return list(filter(is_prime, range(2, x)))"
   ]
  },
  {
   "cell_type": "code",
   "execution_count": 23,
   "metadata": {},
   "outputs": [
    {
     "name": "stdout",
     "output_type": "stream",
     "text": [
      "--- Finished in 0.01125478744506836 seconds ---\n"
     ]
    }
   ],
   "source": [
    "# Measuring Code runtime\n",
    "import time\n",
    "# Start timer\n",
    "start_time = time.time()\n",
    "primes = primes_up_to(10000)\n",
    "# End timer\n",
    "print(\"--- Finished in {0} seconds ---\".format(time.time() - start_time))\n",
    "#print(p)"
   ]
  },
  {
   "cell_type": "markdown",
   "metadata": {},
   "source": [
    "## <a id='toc4_'></a>`*args` and `**kwargs`  [&#8593;](#toc0_)"
   ]
  },
  {
   "attachments": {},
   "cell_type": "markdown",
   "metadata": {},
   "source": [
    "- `*args`\n",
    "  - The same as `arguments` in Javascript\n",
    "  - A tuple\n",
    "  - Captures all passed arguments in the function\n",
    "  - Allows to set an arbitrary number of arguments\n",
    "  - The word `args` can be anything, Just need the `*`\n",
    "- `**kwargs`\n",
    "  - Similar, but with keys\n",
    "  - A dictionary\n",
    "  - Get a key-value pair of the arguments\n",
    "  - Stands for **Keyword Arguments**"
   ]
  },
  {
   "cell_type": "code",
   "execution_count": 24,
   "metadata": {},
   "outputs": [
    {
     "name": "stdout",
     "output_type": "stream",
     "text": [
      "40.3\n",
      "9\n",
      "150\n"
     ]
    }
   ],
   "source": [
    "def my_sum(*args: int|float) -> int|float:\n",
    "    return sum(args) # args is a tuple\n",
    "\n",
    "print(my_sum(4, 5, 6.7, 7, 8, 9.6))\n",
    "print(my_sum(4, 5))\n",
    "print(my_sum(40, 50, 60))"
   ]
  },
  {
   "cell_type": "code",
   "execution_count": 25,
   "metadata": {},
   "outputs": [
    {
     "name": "stdout",
     "output_type": "stream",
     "text": [
      "Fruit is present as apple\n"
     ]
    }
   ],
   "source": [
    "def my_func(**kwargs: str) -> None:\n",
    "    if \"fruit\" in kwargs:\n",
    "        print(f\"Fruit is present as {kwargs['fruit']}\")\n",
    "    else:\n",
    "        print(\"No fruit found\")\n",
    "\n",
    "my_func(animal=\"lion\", vegetable=\"carrot\", fruit=\"apple\")"
   ]
  },
  {
   "attachments": {},
   "cell_type": "markdown",
   "metadata": {},
   "source": [
    "- We can use `*args` and `**kwargs` in combination\n",
    "- **Must be in this order, or else error**"
   ]
  },
  {
   "cell_type": "code",
   "execution_count": 26,
   "metadata": {},
   "outputs": [
    {
     "name": "stdout",
     "output_type": "stream",
     "text": [
      "args: (10, 30, 4, 'John')\n",
      "kwargs: {'food': 'eggs', 'non_food': 'plastic'}\n",
      "I would like 10 eggs\n"
     ]
    }
   ],
   "source": [
    "def another_func(*args: Any, **kwargs: str) -> None:\n",
    "    print(\"args:\", args)\n",
    "    print(\"kwargs:\", kwargs)\n",
    "    print(f\"I would like {args[0]} {kwargs['food']}\")\n",
    "\n",
    "another_func(10, 30, 4, \"John\", food=\"eggs\", non_food=\"plastic\")"
   ]
  }
 ],
 "metadata": {
  "hide_input": false,
  "kernelspec": {
   "display_name": "venv",
   "language": "python",
   "name": "python3"
  },
  "language_info": {
   "codemirror_mode": {
    "name": "ipython",
    "version": 3
   },
   "file_extension": ".py",
   "mimetype": "text/x-python",
   "name": "python",
   "nbconvert_exporter": "python",
   "pygments_lexer": "ipython3",
   "version": "3.11.2"
  },
  "toc": {
   "base_numbering": 1,
   "nav_menu": {},
   "number_sections": true,
   "sideBar": true,
   "skip_h1_title": true,
   "title_cell": "Table of Contents",
   "title_sidebar": "Contents",
   "toc_cell": true,
   "toc_position": {},
   "toc_section_display": true,
   "toc_window_display": true
  },
  "varInspector": {
   "cols": {
    "lenName": 16,
    "lenType": 16,
    "lenVar": 40
   },
   "kernels_config": {
    "python": {
     "delete_cmd_postfix": "",
     "delete_cmd_prefix": "del ",
     "library": "var_list.py",
     "varRefreshCmd": "print(var_dic_list())"
    },
    "r": {
     "delete_cmd_postfix": ") ",
     "delete_cmd_prefix": "rm(",
     "library": "var_list.r",
     "varRefreshCmd": "cat(var_dic_list()) "
    }
   },
   "types_to_exclude": [
    "module",
    "function",
    "builtin_function_or_method",
    "instance",
    "_Feature"
   ],
   "window_display": false
  },
  "vscode": {
   "interpreter": {
    "hash": "c06c66e20c037b5a81ce5a660a92268a8806238f991164e2ce77b648e299b60d"
   }
  }
 },
 "nbformat": 4,
 "nbformat_minor": 4
}
