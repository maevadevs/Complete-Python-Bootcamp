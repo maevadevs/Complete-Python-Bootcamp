{
 "cells": [
  {
   "cell_type": "markdown",
   "metadata": {},
   "source": [
    "# Nested Statements and Scope\n",
    "---"
   ]
  },
  {
   "cell_type": "markdown",
   "metadata": {},
   "source": [
    "**Table of Contents**<a id='toc0_'></a>    \n",
    "- [Scope In Python](#toc1_)    \n",
    "- [Closure](#toc2_)    \n",
    "- [Local Variables](#toc3_)    \n",
    "- [`global` Statement](#toc4_)    \n",
    "- [`globals()` and `locals()`](#toc5_)    \n",
    "\n",
    "<!-- vscode-jupyter-toc-config\n",
    "\tnumbering=false\n",
    "\tanchor=true\n",
    "\tflat=false\n",
    "\tminLevel=2\n",
    "\tmaxLevel=6\n",
    "\t/vscode-jupyter-toc-config -->\n",
    "<!-- THIS CELL WILL BE REPLACED ON TOC UPDATE. DO NOT WRITE YOUR TEXT IN THIS CELL -->"
   ]
  },
  {
   "attachments": {},
   "cell_type": "markdown",
   "metadata": {},
   "source": [
    "---"
   ]
  },
  {
   "attachments": {},
   "cell_type": "markdown",
   "metadata": {},
   "source": [
    "- When creating a variable name in Python, the name is stored in a *namespace*\n",
    "- Variable names also have a *scope*\n",
    "  - Determines the visibility of that variable name to other parts of your code\n",
    "- Like most scripting languages, Python has *Function-Based Scope*, not Block-based\n",
    "  - By default, variables are *Local* to the function\n",
    "  - Use `global` keyword to refer to the Global Variables"
   ]
  },
  {
   "cell_type": "code",
   "execution_count": 1,
   "metadata": {},
   "outputs": [],
   "source": [
    "from typing import Any, Callable, List"
   ]
  },
  {
   "cell_type": "code",
   "execution_count": 2,
   "metadata": {},
   "outputs": [
    {
     "name": "stdout",
     "output_type": "stream",
     "text": [
      "This grabs the global variable: 25\n",
      "This grabs the local variable: 50\n"
     ]
    }
   ],
   "source": [
    "x: int = 25\n",
    "\n",
    "def printer() -> int:\n",
    "    x: int = 50\n",
    "    return x\n",
    "\n",
    "print(f\"This grabs the global variable: {x}\")\n",
    "print(f\"This grabs the local variable: {printer()}\")"
   ]
  },
  {
   "cell_type": "markdown",
   "metadata": {},
   "source": [
    "## <a id='toc1_'></a>Scope In Python [&#8593;](#toc0_)"
   ]
  },
  {
   "attachments": {},
   "cell_type": "markdown",
   "metadata": {},
   "source": [
    "- 3 general rules:\n",
    "  1. Name assignments will create or change local variables by default\n",
    "  2. Name references search (at most) four scopes, these are LEGB rule:\n",
    "       - **L**ocal\n",
    "       - **E**nclosing functions (closure)\n",
    "       - **G**lobal\n",
    "       - **B**uilt-in\n",
    "  3. Names declared in global and nonlocal statements map assigned names to enclosing module and function scopes\n",
    "- LEGB Rule:\n",
    "  - L: Local — Names assigned in any way within a function (`def` or `lambda`), and not declared `global` in that function\n",
    "  - E: Enclosing function — Names in the local scope of any enclosing functions (`def` or `lambda`), from inner to outer\n",
    "  - G: Global (module) — Names assigned at the top-level of a module file, or declared global in a `def` within the file\n",
    "  - B: Built-in (Python) — Names preassigned in the built-in names module : `open`, `range`, `SyntaxError`,..."
   ]
  },
  {
   "cell_type": "code",
   "execution_count": 3,
   "metadata": {},
   "outputs": [
    {
     "data": {
      "text/plain": [
       "9"
      ]
     },
     "execution_count": 3,
     "metadata": {},
     "output_type": "execute_result"
    }
   ],
   "source": [
    "# x is local here: lambda act as a function\n",
    "x = 25\n",
    "func: Callable[[int], int] = lambda x: x**2\n",
    "func(3)"
   ]
  },
  {
   "cell_type": "markdown",
   "metadata": {},
   "source": [
    "## <a id='toc2_'></a>Closure [&#8593;](#toc0_)"
   ]
  },
  {
   "cell_type": "markdown",
   "metadata": {},
   "source": [
    "- This occurs when we have a function inside a function (nested functions)"
   ]
  },
  {
   "cell_type": "code",
   "execution_count": 4,
   "metadata": {},
   "outputs": [],
   "source": [
    "name: str = \"This is a global name\"\n",
    "\n",
    "def greet() -> None: # Enclosing function\n",
    "    name: str = \"Sammy\" # This name is local to greet()\n",
    "  \n",
    "    def hello() -> None: \n",
    "        # Enclosed function\n",
    "        print(f\"Hello {name}\")\n",
    "    \n",
    "    hello() # Calling greet() will eventually call hello() here"
   ]
  },
  {
   "cell_type": "code",
   "execution_count": 5,
   "metadata": {},
   "outputs": [
    {
     "name": "stdout",
     "output_type": "stream",
     "text": [
      "Hello Sammy\n"
     ]
    }
   ],
   "source": [
    "# hello() # hello() is not defined in this scope. This is an error\n",
    "greet() # "
   ]
  },
  {
   "cell_type": "code",
   "execution_count": 6,
   "metadata": {},
   "outputs": [
    {
     "name": "stdout",
     "output_type": "stream",
     "text": [
      "This is a global name\n"
     ]
    }
   ],
   "source": [
    "print(name) # global"
   ]
  },
  {
   "cell_type": "markdown",
   "metadata": {},
   "source": [
    "## <a id='toc3_'></a>Local Variables [&#8593;](#toc0_)"
   ]
  },
  {
   "attachments": {},
   "cell_type": "markdown",
   "metadata": {},
   "source": [
    "- Variables declared inside a function definition are not related in any way to other variables with the same names used outside the function\n",
    "- This is called **the scope of the variable**\n",
    "- All variables have the scope of the *function* they are declared in, starting from the point of definition of the name"
   ]
  },
  {
   "cell_type": "code",
   "execution_count": 7,
   "metadata": {},
   "outputs": [],
   "source": [
    "def func2(x: int) -> None:\n",
    "    # Globals can be used in function as passed parameters if no local is declared yet\n",
    "    print(\"x is\", x)\n",
    "    # But locals would take precedence once present\n",
    "    x = 2\n",
    "    print(\"Changed local x to\", x)\n",
    "    print(\"Now x is\", x)"
   ]
  },
  {
   "cell_type": "code",
   "execution_count": 8,
   "metadata": {},
   "outputs": [
    {
     "name": "stdout",
     "output_type": "stream",
     "text": [
      "x is 50\n",
      "Changed local x to 2\n",
      "Now x is 2\n",
      "x global is still 50\n"
     ]
    }
   ],
   "source": [
    "x = 50\n",
    "func2(x)\n",
    "print(\"x global is still\", x)"
   ]
  },
  {
   "cell_type": "markdown",
   "metadata": {},
   "source": [
    "## <a id='toc4_'></a>`global` Statement [&#8593;](#toc0_)"
   ]
  },
  {
   "cell_type": "markdown",
   "metadata": {},
   "source": [
    "- If we want to assign a value to a name defined at the top level of the program (i.e. not inside any kind of scope such as functions or classes), then we have to tell Python that the name is not local but `global`\n",
    "- It is impossible to assign a value to a variable defined outside a function without the `global` statement\n",
    "- We can use the values of such variables defined outside the function if there is no variable with the same name within the function\n",
    "- However, this is not encouraged and should be avoided since it becomes unclear to the reader of the program as to where that variable’s definition is\n",
    "- Using the `global` statement makes it amply clear that the variable is defined in an outermost block"
   ]
  },
  {
   "cell_type": "code",
   "execution_count": 9,
   "metadata": {},
   "outputs": [],
   "source": [
    "x = 100 # This is global x\n",
    "\n",
    "def func3():\n",
    "    global x # This x refers to the x defined outside\n",
    "    print(\"This function is now using the global x!\")\n",
    "    print(\"Because of global, x is:\", x)\n",
    "    x = 2 # This is global x: We cannot shadow to local\n",
    "    print(\"Ran func(), changed global x to\", x)"
   ]
  },
  {
   "cell_type": "code",
   "execution_count": 10,
   "metadata": {},
   "outputs": [
    {
     "name": "stdout",
     "output_type": "stream",
     "text": [
      "Before calling func(), x is: 100\n",
      "-----\n",
      "This function is now using the global x!\n",
      "Because of global, x is: 100\n",
      "Ran func(), changed global x to 2\n",
      "-----\n",
      "Value of x (outside of func()) is: 2\n"
     ]
    }
   ],
   "source": [
    "print(\"Before calling func(), x is:\", x)\n",
    "print(\"-----\")\n",
    "func3()\n",
    "print(\"-----\")\n",
    "print(\"Value of x (outside of func()) is:\", x)"
   ]
  },
  {
   "cell_type": "markdown",
   "metadata": {},
   "source": [
    "## <a id='toc5_'></a>`globals()` and `locals()` [&#8593;](#toc0_)"
   ]
  },
  {
   "attachments": {},
   "cell_type": "markdown",
   "metadata": {},
   "source": [
    "- Allows to check what are your current local and global variables\n",
    "- Return a hashed dictionary of the list of variables in that scope"
   ]
  },
  {
   "cell_type": "code",
   "execution_count": 11,
   "metadata": {},
   "outputs": [
    {
     "name": "stdout",
     "output_type": "stream",
     "text": [
      "['Any', 'Callable', 'In', 'List', 'Out', '_', '_3', '__', '___', '__annotations__', '__builtin__', '__builtins__', '__doc__', '__loader__', '__name__', '__package__', '__spec__', '__vsc_ipynb_file__', '_dh', '_i', '_i1', '_i10', '_i11', '_i2', '_i3', '_i4', '_i5', '_i6', '_i7', '_i8', '_i9', '_ih', '_ii', '_iii', '_oh', 'exit', 'func', 'func2', 'func3', 'get_ipython', 'greet', 'loc', 'loc_keys', 'name', 'open', 'printer', 'quit', 'x']\n"
     ]
    }
   ],
   "source": [
    "loc: dict[str, Any] = locals()\n",
    "loc_keys: List[str] = []\n",
    "\n",
    "for k in list(loc.keys()):\n",
    "    loc_keys.append(k)\n",
    "\n",
    "print(sorted(loc_keys))"
   ]
  },
  {
   "cell_type": "code",
   "execution_count": 12,
   "metadata": {},
   "outputs": [
    {
     "name": "stdout",
     "output_type": "stream",
     "text": [
      "['Any', 'Callable', 'In', 'List', 'Out', '_', '_3', '__', '___', '__annotations__', '__builtin__', '__builtins__', '__doc__', '__loader__', '__name__', '__package__', '__spec__', '__vsc_ipynb_file__', '_dh', '_i', '_i1', '_i10', '_i11', '_i12', '_i2', '_i3', '_i4', '_i5', '_i6', '_i7', '_i8', '_i9', '_ih', '_ii', '_iii', '_oh', 'exit', 'func', 'func2', 'func3', 'get_ipython', 'glob', 'glob_keys', 'greet', 'k', 'loc', 'loc_keys', 'name', 'open', 'printer', 'quit', 'x']\n"
     ]
    }
   ],
   "source": [
    "glob: dict[str, Any] = globals()\n",
    "glob_keys: List[str] = []\n",
    "\n",
    "for k in glob.keys():\n",
    "    glob_keys.append(k)\n",
    "\n",
    "print(sorted(glob_keys))"
   ]
  }
 ],
 "metadata": {
  "kernelspec": {
   "display_name": "venv",
   "language": "python",
   "name": "python3"
  },
  "language_info": {
   "codemirror_mode": {
    "name": "ipython",
    "version": 3
   },
   "file_extension": ".py",
   "mimetype": "text/x-python",
   "name": "python",
   "nbconvert_exporter": "python",
   "pygments_lexer": "ipython3",
   "version": "3.11.2"
  },
  "toc": {
   "base_numbering": 1,
   "nav_menu": {},
   "number_sections": true,
   "sideBar": true,
   "skip_h1_title": true,
   "title_cell": "Table of Contents",
   "title_sidebar": "Contents",
   "toc_cell": true,
   "toc_position": {},
   "toc_section_display": true,
   "toc_window_display": true
  },
  "vscode": {
   "interpreter": {
    "hash": "c06c66e20c037b5a81ce5a660a92268a8806238f991164e2ce77b648e299b60d"
   }
  }
 },
 "nbformat": 4,
 "nbformat_minor": 4
}
