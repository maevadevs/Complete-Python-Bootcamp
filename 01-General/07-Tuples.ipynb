{
 "cells": [
  {
   "cell_type": "markdown",
   "metadata": {},
   "source": [
    "# Tuples"
   ]
  },
  {
   "cell_type": "markdown",
   "metadata": {
    "toc": true
   },
   "source": [
    "<h1>Table of Contents<span class=\"tocSkip\"></span></h1>\n",
    "<div class=\"toc\"><ul class=\"toc-item\"><li><span><a href=\"#Constructing-Tuples\" data-toc-modified-id=\"Constructing-Tuples-1\"><span class=\"toc-item-num\">1&nbsp;&nbsp;</span>Constructing Tuples</a></span></li><li><span><a href=\"#Basic-Tuple-Methods\" data-toc-modified-id=\"Basic-Tuple-Methods-2\"><span class=\"toc-item-num\">2&nbsp;&nbsp;</span>Basic Tuple Methods</a></span><ul class=\"toc-item\"><li><span><a href=\"#Index:-t.index(value)\" data-toc-modified-id=\"Index:-t.index(value)-2.1\"><span class=\"toc-item-num\">2.1&nbsp;&nbsp;</span>Index: <code>t.index(value)</code></a></span></li><li><span><a href=\"#Count:-t.count(el)\" data-toc-modified-id=\"Count:-t.count(el)-2.2\"><span class=\"toc-item-num\">2.2&nbsp;&nbsp;</span>Count: <code>t.count(el)</code></a></span></li></ul></li><li><span><a href=\"#Immutability\" data-toc-modified-id=\"Immutability-3\"><span class=\"toc-item-num\">3&nbsp;&nbsp;</span>Immutability</a></span></li><li><span><a href=\"#When-To-Use-Tuple\" data-toc-modified-id=\"When-To-Use-Tuple-4\"><span class=\"toc-item-num\">4&nbsp;&nbsp;</span>When To Use Tuple</a></span></li></ul></div>"
   ]
  },
  {
   "cell_type": "markdown",
   "metadata": {},
   "source": [
    "- In Python, tuples are very similar to lists\n",
    "- However, unlike lists, they are **immutable**, meaning they cannot be changed\n",
    "- You would use tuples to present things that shouldn't be changed, such as days of the week, or dates on a calendar\n",
    "- You'll have an intuition of how to use tuples based on what you've learned about lists\n",
    "- We can treat them very similarly with the major distinction being that tuples are **immutable**"
   ]
  },
  {
   "cell_type": "markdown",
   "metadata": {},
   "source": [
    "## Constructing Tuples"
   ]
  },
  {
   "cell_type": "markdown",
   "metadata": {},
   "source": [
    "- Use `()` with elements seperated by commas\n",
    "- Or just start a list wihtout brackets"
   ]
  },
  {
   "cell_type": "code",
   "execution_count": 1,
   "metadata": {},
   "outputs": [
    {
     "name": "stdout",
     "output_type": "stream",
     "text": [
      "5\n",
      "5\n"
     ]
    }
   ],
   "source": [
    "# We can create a tuple with mixed types\n",
    "t1 = (1, 2, 3, 'hello', False)\n",
    "t2 = 1, 2, 3, 'hello', False\n",
    "\n",
    "# Check length just like a list\n",
    "print(len(t1))\n",
    "print(len(t2))"
   ]
  },
  {
   "cell_type": "code",
   "execution_count": 2,
   "metadata": {},
   "outputs": [
    {
     "name": "stdout",
     "output_type": "stream",
     "text": [
      "('one', 2, [1, 2, 3], {'greeting': 'hello'})\n"
     ]
    }
   ],
   "source": [
    "# Can also mix object types\n",
    "t = ('one', 2, [1, 2, 3], {\"greeting\":\"hello\"})\n",
    "print(t)"
   ]
  },
  {
   "cell_type": "code",
   "execution_count": 3,
   "metadata": {},
   "outputs": [
    {
     "name": "stdout",
     "output_type": "stream",
     "text": [
      "one\n"
     ]
    }
   ],
   "source": [
    "# Use indexing just like we did in lists\n",
    "print(t[0])"
   ]
  },
  {
   "cell_type": "code",
   "execution_count": 4,
   "metadata": {},
   "outputs": [
    {
     "name": "stdout",
     "output_type": "stream",
     "text": [
      "{'greeting': 'hello'}\n"
     ]
    }
   ],
   "source": [
    "# Slicing just like a list\n",
    "print(t[-1])"
   ]
  },
  {
   "cell_type": "code",
   "execution_count": 5,
   "metadata": {},
   "outputs": [],
   "source": [
    "# But changing the value is not permissible\n",
    "# This is an error: 'tuple' object does not support item assignment\n",
    "# t[1] = 100"
   ]
  },
  {
   "cell_type": "markdown",
   "metadata": {},
   "source": [
    "## Basic Tuple Methods"
   ]
  },
  {
   "cell_type": "markdown",
   "metadata": {},
   "source": [
    "### Index: `t.index(value)`"
   ]
  },
  {
   "cell_type": "markdown",
   "metadata": {},
   "source": [
    "- Return the index of an element in the tuple\n",
    "- Use `.index()` to enter a value and return the index"
   ]
  },
  {
   "cell_type": "code",
   "execution_count": 6,
   "metadata": {},
   "outputs": [
    {
     "name": "stdout",
     "output_type": "stream",
     "text": [
      "0\n"
     ]
    }
   ],
   "source": [
    "print(t.index('one'))"
   ]
  },
  {
   "cell_type": "markdown",
   "metadata": {},
   "source": [
    "### Count: `t.count(el)`"
   ]
  },
  {
   "cell_type": "markdown",
   "metadata": {},
   "source": [
    "- Count how many times does `el` appear within the tuple\n",
    "- Use `.count()` to count the number of times a value appears"
   ]
  },
  {
   "cell_type": "code",
   "execution_count": 7,
   "metadata": {},
   "outputs": [
    {
     "name": "stdout",
     "output_type": "stream",
     "text": [
      "1\n"
     ]
    }
   ],
   "source": [
    "print(t.count('one'))"
   ]
  },
  {
   "cell_type": "markdown",
   "metadata": {},
   "source": [
    "## Immutability"
   ]
  },
  {
   "cell_type": "markdown",
   "metadata": {},
   "source": [
    "- It can't be stressed enough that tuples are immutable\n",
    "- Because of this immutability, tuples can't grow\n",
    "- **Once a tuple is made we can not add to it or change it**"
   ]
  },
  {
   "cell_type": "markdown",
   "metadata": {},
   "source": [
    "## When To Use Tuple"
   ]
  },
  {
   "cell_type": "markdown",
   "metadata": {},
   "source": [
    "- You may be wondering, \"Why bother using tuples when they have fewer available methods?\" \n",
    "- To be honest, tuples are not used as often as lists in programming, but are used when immutability is necessary\n",
    "- If in your program you are passing around an object and need to make sure it does not get changed, then tuple become your solution. It provides a convenient source of data integrity"
   ]
  }
 ],
 "metadata": {
  "hide_input": false,
  "kernelspec": {
   "display_name": "Python 3 (ipykernel)",
   "language": "python",
   "name": "python3"
  },
  "language_info": {
   "codemirror_mode": {
    "name": "ipython",
    "version": 3
   },
   "file_extension": ".py",
   "mimetype": "text/x-python",
   "name": "python",
   "nbconvert_exporter": "python",
   "pygments_lexer": "ipython3",
   "version": "3.8.11"
  },
  "toc": {
   "base_numbering": 1,
   "nav_menu": {},
   "number_sections": true,
   "sideBar": true,
   "skip_h1_title": true,
   "title_cell": "Table of Contents",
   "title_sidebar": "Contents",
   "toc_cell": true,
   "toc_position": {},
   "toc_section_display": true,
   "toc_window_display": true
  },
  "varInspector": {
   "cols": {
    "lenName": 16,
    "lenType": 16,
    "lenVar": 40
   },
   "kernels_config": {
    "python": {
     "delete_cmd_postfix": "",
     "delete_cmd_prefix": "del ",
     "library": "var_list.py",
     "varRefreshCmd": "print(var_dic_list())"
    },
    "r": {
     "delete_cmd_postfix": ") ",
     "delete_cmd_prefix": "rm(",
     "library": "var_list.r",
     "varRefreshCmd": "cat(var_dic_list()) "
    }
   },
   "types_to_exclude": [
    "module",
    "function",
    "builtin_function_or_method",
    "instance",
    "_Feature"
   ],
   "window_display": false
  }
 },
 "nbformat": 4,
 "nbformat_minor": 4
}
