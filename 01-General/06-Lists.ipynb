{
 "cells": [
  {
   "cell_type": "markdown",
   "metadata": {},
   "source": [
    "# Lists\n",
    "---"
   ]
  },
  {
   "cell_type": "markdown",
   "metadata": {},
   "source": [
    "**Table of Contents**<a id='toc0_'></a>    \n",
    "- [Creating a List](#toc1_)    \n",
    "- [List Length: `len()`](#toc2_)    \n",
    "- [Indexing and Slicing](#toc3_)    \n",
    "- [Combining Lists](#toc4_)    \n",
    "- [Duplication](#toc5_)    \n",
    "- [Basic List Methods](#toc6_)    \n",
    "  - [Add a New Element: `ls.append(el)`](#toc6_1_)    \n",
    "  - [Remove and Element: `ls.pop([index])`](#toc6_2_)    \n",
    "  - [Sorting and Reversing: `ls.sort()` and `ls.reverse()`](#toc6_3_)    \n",
    "- [Nesting Lists](#toc7_)    \n",
    "- [List Comprehension](#toc8_)    \n",
    "\n",
    "<!-- vscode-jupyter-toc-config\n",
    "\tnumbering=false\n",
    "\tanchor=true\n",
    "\tflat=false\n",
    "\tminLevel=2\n",
    "\tmaxLevel=6\n",
    "\t/vscode-jupyter-toc-config -->\n",
    "<!-- THIS CELL WILL BE REPLACED ON TOC UPDATE. DO NOT WRITE YOUR TEXT IN THIS CELL -->"
   ]
  },
  {
   "attachments": {},
   "cell_type": "markdown",
   "metadata": {},
   "source": [
    "---"
   ]
  },
  {
   "attachments": {},
   "cell_type": "markdown",
   "metadata": {},
   "source": [
    "- Earlier on, when discussing strings, we introduced the concept of a *sequence* in Python\n",
    "- *Lists* can be thought of as the most general version of a **sequence** in Python\n",
    "- Sequences are a collection of objects that are stored by *index*\n",
    "- **Unlike Strings, Lists are mutable, meaning the elements inside a list can be changed**"
   ]
  },
  {
   "cell_type": "markdown",
   "metadata": {},
   "source": [
    "## <a id='toc1_'></a>Creating a List [&#8593;](#toc0_)"
   ]
  },
  {
   "attachments": {},
   "cell_type": "markdown",
   "metadata": {},
   "source": [
    "- Using `[]` and commas separating every element in the list\n",
    "- Can also be constructed using the `list()` constructor\n",
    "- Can hold different types of objects\n",
    "- Can also be empty\n",
    "- To remove an item, use `del`"
   ]
  },
  {
   "cell_type": "code",
   "execution_count": 1,
   "metadata": {},
   "outputs": [
    {
     "name": "stdout",
     "output_type": "stream",
     "text": [
      "[1, 2, 3, 4, 5]\n"
     ]
    }
   ],
   "source": [
    "from typing import List\n",
    "\n",
    "# Assigning a list to a variable named my_list\n",
    "MY_LIST: List[int] = [1, 2, 3, 4, 5]\n",
    "print(MY_LIST)"
   ]
  },
  {
   "cell_type": "code",
   "execution_count": 2,
   "metadata": {},
   "outputs": [
    {
     "name": "stdout",
     "output_type": "stream",
     "text": [
      "['H', 'E', 'L', 'L', 'O']\n"
     ]
    }
   ],
   "source": [
    "from typing import List\n",
    "\n",
    "# Building a list of string characters from a string\n",
    "MY_LIST_STR: List[str] = list(\"HELLO\")\n",
    "print(MY_LIST_STR)"
   ]
  },
  {
   "cell_type": "code",
   "execution_count": 3,
   "metadata": {},
   "outputs": [
    {
     "name": "stdout",
     "output_type": "stream",
     "text": [
      "['A string', 23, 100.232, 'o', True, False]\n"
     ]
    }
   ],
   "source": [
    "from typing import List, Any\n",
    "\n",
    "# Dynamic types\n",
    "MY_LIST2: List[Any] = [\"A string\", 23, 100.232, \"o\", True, False]\n",
    "print(MY_LIST2)"
   ]
  },
  {
   "cell_type": "markdown",
   "metadata": {},
   "source": [
    "## <a id='toc2_'></a>List Length: `len()` [&#8593;](#toc0_)"
   ]
  },
  {
   "cell_type": "code",
   "execution_count": 4,
   "metadata": {},
   "outputs": [
    {
     "name": "stdout",
     "output_type": "stream",
     "text": [
      "Length of MY_LIST: 5\n",
      "Length of MY_LIST2: 6\n"
     ]
    }
   ],
   "source": [
    "print(f\"Length of MY_LIST: {len(MY_LIST)}\")\n",
    "print(f\"Length of MY_LIST2: {len(MY_LIST2)}\")"
   ]
  },
  {
   "cell_type": "markdown",
   "metadata": {},
   "source": [
    "## <a id='toc3_'></a>Indexing and Slicing [&#8593;](#toc0_)"
   ]
  },
  {
   "cell_type": "code",
   "execution_count": 5,
   "metadata": {},
   "outputs": [],
   "source": [
    "from typing import List\n",
    "\n",
    "MLIST: List[int] = [0, 10, 20, 30, 40, 50]"
   ]
  },
  {
   "cell_type": "code",
   "execution_count": 6,
   "metadata": {},
   "outputs": [
    {
     "name": "stdout",
     "output_type": "stream",
     "text": [
      "MLIST[0]: 0\n"
     ]
    }
   ],
   "source": [
    "# Grab element at index 0\n",
    "print(f\"MLIST[0]: {MLIST[0]}\")"
   ]
  },
  {
   "cell_type": "code",
   "execution_count": 7,
   "metadata": {},
   "outputs": [
    {
     "name": "stdout",
     "output_type": "stream",
     "text": [
      "MLIST[1:]: [10, 20, 30, 40, 50]\n"
     ]
    }
   ],
   "source": [
    "# Grab index from 1 and everything past it\n",
    "print(f\"MLIST[1:]: {MLIST[1:]}\")"
   ]
  },
  {
   "cell_type": "code",
   "execution_count": 8,
   "metadata": {},
   "outputs": [
    {
     "name": "stdout",
     "output_type": "stream",
     "text": [
      "MLIST[:3]: [0, 10, 20]\n"
     ]
    }
   ],
   "source": [
    "# Grab everything UP TO index 3 (Exclusive)\n",
    "print(f\"MLIST[:3]: {MLIST[:3]}\")"
   ]
  },
  {
   "cell_type": "code",
   "execution_count": 9,
   "metadata": {},
   "outputs": [
    {
     "name": "stdout",
     "output_type": "stream",
     "text": [
      "MLIST[:3]: [10, 30, 50]\n"
     ]
    }
   ],
   "source": [
    "# Grab everything from inde 1 to the end, by step of 2\n",
    "print(f\"MLIST[:3]: {MLIST[1::2]}\")"
   ]
  },
  {
   "cell_type": "markdown",
   "metadata": {},
   "source": [
    "## <a id='toc4_'></a>Combining Lists [&#8593;](#toc0_)"
   ]
  },
  {
   "attachments": {},
   "cell_type": "markdown",
   "metadata": {},
   "source": [
    "- We can also use `+` to concatenate lists, just like we did for strings\n",
    "- The end result is a combined list\n",
    "- **Note: This doesn\"t actually change the original list (Unless we do concatenate-and-assign)**"
   ]
  },
  {
   "cell_type": "code",
   "execution_count": 10,
   "metadata": {},
   "outputs": [
    {
     "name": "stdout",
     "output_type": "stream",
     "text": [
      "[0, 10, 20, 30, 40, 50, 60, 70, 80]\n",
      "[0, 10, 20, 30, 40, 50, 60, 70, 80, 90, 100]\n"
     ]
    }
   ],
   "source": [
    "from typing import List\n",
    "\n",
    "int_list: List[int] = [0, 10, 20, 30, 40, 50]\n",
    "new_list: List[int] = MLIST + [60, 70, 80]\n",
    "print(new_list)\n",
    "\n",
    "# Concatenate and re-assign\n",
    "new_list += [90, 100]\n",
    "print(new_list)"
   ]
  },
  {
   "cell_type": "code",
   "execution_count": 11,
   "metadata": {},
   "outputs": [
    {
     "name": "stdout",
     "output_type": "stream",
     "text": [
      "int_list: [0, 10, 20, 30, 40, 50]\n",
      "new_list: [0, 10, 20, 30, 40, 50, 60, 70, 80, 90, 100]\n"
     ]
    }
   ],
   "source": [
    "# Note: This doesn't actually change the original list!\n",
    "print(f\"int_list: {int_list}\") # => Remains unchanged\n",
    "print(f\"new_list: {new_list}\")"
   ]
  },
  {
   "attachments": {},
   "cell_type": "markdown",
   "metadata": {},
   "source": [
    "- **NOTE: Concatenation does not check for duplicates in the final list**\n",
    "- It will combine whatever it is given"
   ]
  },
  {
   "cell_type": "code",
   "execution_count": 12,
   "metadata": {},
   "outputs": [
    {
     "name": "stdout",
     "output_type": "stream",
     "text": [
      "new_list: [0, 10, 20, 30, 40, 50, 60, 70, 80, 90, 100, 70, 80]\n"
     ]
    }
   ],
   "source": [
    "new_list += [70, 80]\n",
    "print(f\"new_list: {new_list}\")"
   ]
  },
  {
   "cell_type": "markdown",
   "metadata": {},
   "source": [
    "- If we want to only get uniques after a concatenation, we can use `set()`"
   ]
  },
  {
   "cell_type": "code",
   "execution_count": 13,
   "metadata": {},
   "outputs": [
    {
     "name": "stdout",
     "output_type": "stream",
     "text": [
      "set(new_list): {0, 100, 70, 40, 10, 80, 50, 20, 90, 60, 30}\n"
     ]
    }
   ],
   "source": [
    "print(f\"set(new_list): {set(new_list)}\")"
   ]
  },
  {
   "cell_type": "markdown",
   "metadata": {},
   "source": [
    "- Concatenation without reassignment is not final\n",
    "- You would have to reassign the list to make the change permanent"
   ]
  },
  {
   "cell_type": "code",
   "execution_count": 14,
   "metadata": {},
   "outputs": [
    {
     "name": "stdout",
     "output_type": "stream",
     "text": [
      "new_list: [0, 10, 20, 30, 40, 50, 60, 70, 80, 90, 100, 70, 80]\n"
     ]
    }
   ],
   "source": [
    "# Here is the original\n",
    "print(f\"new_list: {new_list}\")"
   ]
  },
  {
   "cell_type": "code",
   "execution_count": 15,
   "metadata": {},
   "outputs": [
    {
     "data": {
      "text/plain": [
       "[0, 10, 20, 30, 40, 50, 60, 70, 80, 90, 100, 70, 80, -1000]"
      ]
     },
     "execution_count": 15,
     "metadata": {},
     "output_type": "execute_result"
    }
   ],
   "source": [
    "# Now we add one item\n",
    "# new_list + [\"Attempt to add New Item\"] # Not allowed with mypy, unless using Any\n",
    "new_list + [-1000]"
   ]
  },
  {
   "cell_type": "code",
   "execution_count": 16,
   "metadata": {},
   "outputs": [
    {
     "name": "stdout",
     "output_type": "stream",
     "text": [
      "my_list: [0, 10, 20, 30, 40, 50, 60, 70, 80, 90, 100, 70, 80]\n"
     ]
    }
   ],
   "source": [
    "# Did it added to my_list?... nope\n",
    "print(f\"my_list: {new_list}\") # => Remains unchanged"
   ]
  },
  {
   "cell_type": "code",
   "execution_count": 17,
   "metadata": {},
   "outputs": [],
   "source": [
    "# Concatenate and reassign for permanent changes\n",
    "new_list += [-1000]"
   ]
  },
  {
   "cell_type": "code",
   "execution_count": 18,
   "metadata": {},
   "outputs": [
    {
     "name": "stdout",
     "output_type": "stream",
     "text": [
      "my_list: [0, 10, 20, 30, 40, 50, 60, 70, 80, 90, 100, 70, 80, -1000]\n"
     ]
    }
   ],
   "source": [
    "# Now run again?... Yes!\n",
    "print(f\"my_list: {new_list}\") # => Changed"
   ]
  },
  {
   "cell_type": "markdown",
   "metadata": {},
   "source": [
    "## <a id='toc5_'></a>Duplication [&#8593;](#toc0_)"
   ]
  },
  {
   "attachments": {},
   "cell_type": "markdown",
   "metadata": {},
   "source": [
    "- We can also use the `*` for a duplication method, similar to strings\n",
    "- This will *duplicate the elements within the list*, not the list itself"
   ]
  },
  {
   "cell_type": "code",
   "execution_count": 19,
   "metadata": {},
   "outputs": [
    {
     "name": "stdout",
     "output_type": "stream",
     "text": [
      "[0, 10, 20, 30, 40, 50, 0, 10, 20, 30, 40, 50]\n"
     ]
    }
   ],
   "source": [
    "# Make the list double\n",
    "print(MLIST * 2)"
   ]
  },
  {
   "attachments": {},
   "cell_type": "markdown",
   "metadata": {},
   "source": [
    "- Similar to above point, the duplication is not permanent unless re-assigned"
   ]
  },
  {
   "cell_type": "code",
   "execution_count": 20,
   "metadata": {},
   "outputs": [
    {
     "name": "stdout",
     "output_type": "stream",
     "text": [
      "[0, 10, 20, 30, 40, 50]\n"
     ]
    }
   ],
   "source": [
    "# Again duplication is not permanent unless re-assigned\n",
    "print(MLIST)"
   ]
  },
  {
   "cell_type": "markdown",
   "metadata": {},
   "source": [
    "## <a id='toc6_'></a>Basic List Methods [&#8593;](#toc0_)"
   ]
  },
  {
   "cell_type": "code",
   "execution_count": 21,
   "metadata": {},
   "outputs": [
    {
     "name": "stdout",
     "output_type": "stream",
     "text": [
      "[1, 2, 3, 4, 5]\n"
     ]
    }
   ],
   "source": [
    "from typing import List\n",
    "\n",
    "# Create a new list\n",
    "ls: List[int] = [1, 2, 3, 4, 5]\n",
    "print(ls)"
   ]
  },
  {
   "cell_type": "markdown",
   "metadata": {},
   "source": [
    "### <a id='toc6_1_'></a>Add a New Element: `ls.append(el)` [&#8593;](#toc0_)"
   ]
  },
  {
   "cell_type": "markdown",
   "metadata": {},
   "source": [
    "- **Permanently add** an item to the end of a list without re-assignment"
   ]
  },
  {
   "cell_type": "code",
   "execution_count": 22,
   "metadata": {},
   "outputs": [
    {
     "name": "stdout",
     "output_type": "stream",
     "text": [
      "[1, 2, 3, 4, 5, 6]\n"
     ]
    }
   ],
   "source": [
    "ls.append(6)\n",
    "print(ls)"
   ]
  },
  {
   "cell_type": "markdown",
   "metadata": {},
   "source": [
    "### <a id='toc6_2_'></a>Remove and Element: `ls.pop([index])` [&#8593;](#toc0_)"
   ]
  },
  {
   "attachments": {},
   "cell_type": "markdown",
   "metadata": {},
   "source": [
    "- *Pop-off* an item from a list\n",
    "- By default, `pop()` takes off the last index: `ls.pop() == ls.pop(-1)`\n",
    "- We can also specify which index to pop off\n",
    "- **Modifies permanently** the list on which it is applied without re-assignment"
   ]
  },
  {
   "cell_type": "code",
   "execution_count": 23,
   "metadata": {},
   "outputs": [
    {
     "name": "stdout",
     "output_type": "stream",
     "text": [
      "[2, 3, 4, 5, 6]\n"
     ]
    }
   ],
   "source": [
    "ls.pop(0) # Remove the first element\n",
    "print(ls)"
   ]
  },
  {
   "cell_type": "code",
   "execution_count": 24,
   "metadata": {},
   "outputs": [
    {
     "name": "stdout",
     "output_type": "stream",
     "text": [
      "6\n"
     ]
    }
   ],
   "source": [
    "# Assign the popped element, remember default popped index is -1 (last item)\n",
    "POPPED_ITEM: int = ls.pop()\n",
    "print(POPPED_ITEM)"
   ]
  },
  {
   "cell_type": "code",
   "execution_count": 25,
   "metadata": {},
   "outputs": [
    {
     "name": "stdout",
     "output_type": "stream",
     "text": [
      "[2, 3, 4, 5]\n"
     ]
    }
   ],
   "source": [
    "# Show remaining list\n",
    "print(ls)"
   ]
  },
  {
   "cell_type": "markdown",
   "metadata": {},
   "source": [
    "**Note: lists indexing will return an error if there is no element at that index**"
   ]
  },
  {
   "cell_type": "code",
   "execution_count": 26,
   "metadata": {},
   "outputs": [
    {
     "name": "stdout",
     "output_type": "stream",
     "text": [
      "Error: IndexError: list index out of range\n"
     ]
    }
   ],
   "source": [
    "# Out of range error\n",
    "try:\n",
    "    ls[100]\n",
    "except Exception as e:\n",
    "    print(f\"Error: {(type(e)).__name__}: {e}\")"
   ]
  },
  {
   "cell_type": "markdown",
   "metadata": {},
   "source": [
    "### <a id='toc6_3_'></a>Sorting and Reversing: `ls.sort()` and `ls.reverse()` [&#8593;](#toc0_)"
   ]
  },
  {
   "attachments": {},
   "cell_type": "markdown",
   "metadata": {},
   "source": [
    "- `ls.sort()` and `ls.reverse()` **modifies permanently** the list on which it is applied\n",
    "- *NOTE: `ls.sort()` only works for same-data types. Otherwise, there will be an error*"
   ]
  },
  {
   "cell_type": "code",
   "execution_count": 27,
   "metadata": {},
   "outputs": [
    {
     "name": "stdout",
     "output_type": "stream",
     "text": [
      "['a', 'e', 'x', 'b', 'c']\n"
     ]
    }
   ],
   "source": [
    "from typing import List\n",
    "\n",
    "another_list: List[str] = [\"a\", \"e\", \"x\", \"b\", \"c\"]\n",
    "print(another_list)"
   ]
  },
  {
   "cell_type": "code",
   "execution_count": 28,
   "metadata": {},
   "outputs": [
    {
     "name": "stdout",
     "output_type": "stream",
     "text": [
      "['c', 'b', 'x', 'e', 'a']\n"
     ]
    }
   ],
   "source": [
    "# Use ls.reverse() to reverse order (PERMANENT!)\n",
    "another_list.reverse()\n",
    "print(another_list) # => Change is permanent"
   ]
  },
  {
   "cell_type": "code",
   "execution_count": 29,
   "metadata": {},
   "outputs": [
    {
     "name": "stdout",
     "output_type": "stream",
     "text": [
      "['a', 'b', 'c', 'e', 'x']\n"
     ]
    }
   ],
   "source": [
    "# Use ls.sort() to sort the list (PERMANENT)\n",
    "# In this case in alphabetical order, but for numbers it will go ascending)\n",
    "another_list.sort()\n",
    "print(another_list) # => Change is permanent"
   ]
  },
  {
   "cell_type": "code",
   "execution_count": 30,
   "metadata": {},
   "outputs": [
    {
     "name": "stdout",
     "output_type": "stream",
     "text": [
      "['a', 'b', 'c', 'e', 'x', '4', '6', '89', '567', '1234']\n"
     ]
    }
   ],
   "source": [
    "# Let's add numbers to the list\n",
    "# Note: Must be in string format because \"<\" does not support comparison between int and str\n",
    "another_list.append(\"4\")\n",
    "another_list.append(\"6\")\n",
    "another_list.append(\"89\")\n",
    "another_list.append(\"567\")\n",
    "another_list.append(\"1234\")\n",
    "\n",
    "# View the current list\n",
    "print(another_list)"
   ]
  },
  {
   "cell_type": "code",
   "execution_count": 31,
   "metadata": {},
   "outputs": [
    {
     "name": "stdout",
     "output_type": "stream",
     "text": [
      "['1234', '4', '567', '6', '89', 'a', 'b', 'c', 'e', 'x']\n"
     ]
    }
   ],
   "source": [
    "# Sort again: Numbers will be before letters\n",
    "another_list.sort()\n",
    "print(another_list) # => Change is permanent"
   ]
  },
  {
   "cell_type": "markdown",
   "metadata": {},
   "source": [
    "## <a id='toc7_'></a>Nesting Lists [&#8593;](#toc0_)"
   ]
  },
  {
   "cell_type": "code",
   "execution_count": 32,
   "metadata": {},
   "outputs": [],
   "source": [
    "from typing import List\n",
    "\n",
    "# Let's make three lists\n",
    "ls_1: List[int] = [1, 2, 3]\n",
    "ls_2: List[int] = [4, 5, 6]\n",
    "ls_3: List[int] = [7, 8, 9]"
   ]
  },
  {
   "cell_type": "code",
   "execution_count": 33,
   "metadata": {},
   "outputs": [
    {
     "name": "stdout",
     "output_type": "stream",
     "text": [
      "[[1, 2, 3], [4, 5, 6], [7, 8, 9]]\n"
     ]
    }
   ],
   "source": [
    "# Make a list of lists to form a matrix\n",
    "matrix: List[List[int]] = [ls_1, ls_2, ls_3]\n",
    "print(matrix)"
   ]
  },
  {
   "cell_type": "code",
   "execution_count": 34,
   "metadata": {},
   "outputs": [
    {
     "name": "stdout",
     "output_type": "stream",
     "text": [
      "[1, 2, 3]\n"
     ]
    }
   ],
   "source": [
    "# Grab first item in matrix object\n",
    "print(matrix[0])"
   ]
  },
  {
   "cell_type": "code",
   "execution_count": 35,
   "metadata": {},
   "outputs": [
    {
     "name": "stdout",
     "output_type": "stream",
     "text": [
      "1\n"
     ]
    }
   ],
   "source": [
    "# Grab first item of the first item in the matrix object\n",
    "print(matrix[0][0])"
   ]
  },
  {
   "cell_type": "markdown",
   "metadata": {},
   "source": [
    "## <a id='toc8_'></a>List Comprehension [&#8593;](#toc0_)"
   ]
  },
  {
   "cell_type": "markdown",
   "metadata": {},
   "source": [
    "- It allows for quick construction of lists\n",
    "- To fully understand list comprehensions, we will need to understand **for** loops\n",
    "- Build a list comprehension by deconstructing a for loop within a `[]`\n",
    "- Interpretation: \n",
    "  - Grab each element in matrix as `row`\n",
    "  - Then for each `row`, grab the first element and build the list out of them\n",
    "  - Assign this list to `first_col`"
   ]
  },
  {
   "cell_type": "code",
   "execution_count": 36,
   "metadata": {},
   "outputs": [
    {
     "name": "stdout",
     "output_type": "stream",
     "text": [
      "[[1, 2, 3], [4, 5, 6], [7, 8, 9]]\n"
     ]
    }
   ],
   "source": [
    "print(matrix)"
   ]
  },
  {
   "cell_type": "code",
   "execution_count": 37,
   "metadata": {},
   "outputs": [
    {
     "name": "stdout",
     "output_type": "stream",
     "text": [
      "First Column of the matrix: [1, 4, 7]\n",
      "Secnnd Column of the matrix: [2, 5, 8]\n",
      "Third Column of the matrix: [3, 6, 9]\n"
     ]
    }
   ],
   "source": [
    "from typing import Final, List\n",
    "\n",
    "# List comprehension\n",
    "FIRST_COL: Final[List[int]] = [row[0] for row in matrix]\n",
    "SECOND_COL: Final[List[int]] = [row[1] for row in matrix]\n",
    "THIRD_COL: Final[List[int]] = [row[2] for row in matrix]\n",
    "\n",
    "print(f\"First Column of the matrix: {FIRST_COL}\")\n",
    "print(f\"Secnnd Column of the matrix: {SECOND_COL}\")\n",
    "print(f\"Third Column of the matrix: {THIRD_COL}\")"
   ]
  }
 ],
 "metadata": {
  "hide_input": false,
  "kernelspec": {
   "display_name": "venv310",
   "language": "python",
   "name": "python3"
  },
  "language_info": {
   "codemirror_mode": {
    "name": "ipython",
    "version": 3
   },
   "file_extension": ".py",
   "mimetype": "text/x-python",
   "name": "python",
   "nbconvert_exporter": "python",
   "pygments_lexer": "ipython3",
   "version": "3.11.2"
  },
  "toc": {
   "base_numbering": 1,
   "nav_menu": {},
   "number_sections": true,
   "sideBar": true,
   "skip_h1_title": true,
   "title_cell": "Table of Contents",
   "title_sidebar": "Contents",
   "toc_cell": true,
   "toc_position": {},
   "toc_section_display": true,
   "toc_window_display": true
  },
  "varInspector": {
   "cols": {
    "lenName": 16,
    "lenType": 16,
    "lenVar": 40
   },
   "kernels_config": {
    "python": {
     "delete_cmd_postfix": "",
     "delete_cmd_prefix": "del ",
     "library": "var_list.py",
     "varRefreshCmd": "print(var_dic_list())"
    },
    "r": {
     "delete_cmd_postfix": ") ",
     "delete_cmd_prefix": "rm(",
     "library": "var_list.r",
     "varRefreshCmd": "cat(var_dic_list()) "
    }
   },
   "types_to_exclude": [
    "module",
    "function",
    "builtin_function_or_method",
    "instance",
    "_Feature"
   ],
   "window_display": false
  },
  "vscode": {
   "interpreter": {
    "hash": "6e400aa61d85e496d68b2399928a7ddcb9f74ee26aa2584481c22b89bfb1eab7"
   }
  }
 },
 "nbformat": 4,
 "nbformat_minor": 4
}
