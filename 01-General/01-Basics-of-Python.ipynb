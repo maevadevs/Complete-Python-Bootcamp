{
 "cells": [
  {
   "attachments": {},
   "cell_type": "markdown",
   "metadata": {},
   "source": [
    "# Basics of Python\n",
    "\n",
    "---\n"
   ]
  },
  {
   "attachments": {},
   "cell_type": "markdown",
   "metadata": {},
   "source": [
    "**Table of Contents**<a id='toc0_'></a>\n",
    "\n",
    "-   [About Python](#toc1_)\n",
    "-   [Why Python](#toc2_)\n",
    "-   [Python Interpreter](#toc3_)\n",
    "    -   [How The Python Interpreter Work](#toc3_1_)\n",
    "        -   [Source Code Analysis and Tokenizer](#toc3_1_1_)\n",
    "        -   [Parser and Bytecodes Generation](#toc3_1_2_)\n",
    "        -   [PyVM and Interpretation](#toc3_1_3_)\n",
    "-   [Installation](#toc4_)\n",
    "    -   [Installing Multiple Versions](#toc4_1_)\n",
    "    -   [Installing With Anaconda](#toc4_2_)\n",
    "-   [Python Versions Overview](#toc5_)\n",
    "    -   [Python 1](#toc5_1_)\n",
    "    -   [Python 2](#toc5_2_)\n",
    "    -   [Python 3](#toc5_3_)\n",
    "        -   [Python 3 Historical Versions](#toc5_3_1_)\n",
    "-   [Executing Python Code](#toc6_)\n",
    "-   [Comments](#toc7_)\n",
    "    -   [Inline Comments](#toc7_1_)\n",
    "    -   [Docstring Comments](#toc7_2_)\n",
    "-   [Reserved Words](#toc8_)\n",
    "-   [Getting Help](#toc9_)\n",
    "-   [Useful Tools](#toc10_)\n",
    "    -   [Basic Text Editors](#toc10_1_)\n",
    "    -   [DIY IDE](#toc10_2_)\n",
    "    -   [Complete IDE](#toc10_3_)\n",
    "    -   [Using Jupyter Notebook](#toc10_4_)\n",
    "        -   [Installing Jupyter `conda`](#toc10_4_1_)\n",
    "        -   [Updating Jupyter `conda`](#toc10_4_2_)\n",
    "        -   [Starting Jupyter Notebook](#toc10_4_3_)\n",
    "-   [Resources](#toc11_)\n",
    "    -   [Important Websites](#toc11_1_)\n",
    "    -   [Python Reference Sites](#toc11_2_)\n",
    "\n",
    "<!-- vscode-jupyter-toc-config\n",
    "\tnumbering=false\n",
    "\tanchor=true\n",
    "\tflat=false\n",
    "\tminLevel=2\n",
    "\tmaxLevel=6\n",
    "\t/vscode-jupyter-toc-config -->\n",
    "<!-- THIS CELL WILL BE REPLACED ON TOC UPDATE. DO NOT WRITE YOUR TEXT IN THIS CELL -->\n"
   ]
  },
  {
   "attachments": {},
   "cell_type": "markdown",
   "metadata": {},
   "source": [
    "---\n"
   ]
  },
  {
   "attachments": {},
   "cell_type": "markdown",
   "metadata": {},
   "source": [
    "## <a id='toc1_'></a>About Python [&#8593;](#toc0_)\n"
   ]
  },
  {
   "attachments": {},
   "cell_type": "markdown",
   "metadata": {},
   "source": [
    "-   Created in 1980s and v1.0 released in 1994 by Guido Van Rossum\n",
    "-   Named after the _Monty Python's Flying Circus_ show\n",
    "-   Initially designed to replace the ABC programming language\n",
    "-   Widely used high-level and general-purpose programming language\n",
    "-   Simple and Minimalistic yet Powerful\n",
    "-   Interpreted language\n",
    "-   Supports multiple programming paradigms\n",
    "    -   _Imperative_ (_Procedural_, _Object-Oriented_)\n",
    "    -   _Declarative_ (_Functional_)\n",
    "-   Has many built-in features\n",
    "-   Efficient built-in data structures and algorithms\n",
    "-   Simple yet effective Object-Oriented approach\n",
    "-   Easiest advanced programming language to learn\n",
    "-   Intuitive structures and semantics\n"
   ]
  },
  {
   "attachments": {},
   "cell_type": "markdown",
   "metadata": {},
   "source": [
    "## <a id='toc2_'></a>Why Python [&#8593;](#toc0_)\n"
   ]
  },
  {
   "attachments": {},
   "cell_type": "markdown",
   "metadata": {},
   "source": [
    "-   Simple and Minimalistic yet Powerful\n",
    "    -   High-level language\n",
    "    -   Interpreted via _bytecodes_, but JIT is available via tools such as [numba](https://numba.pydata.org/), [pypy](https://www.pypy.org/), and [Pyjion](https://www.trypyjion.com/)\n",
    "    -   Dynamically typed language, but optional static typing is available via [mypy](https://mypy-lang.org/)\n",
    "    -   Elegant and versatile syntax\n",
    "    -   Strong emphasis on _Readability_ and _Simplicity_\n",
    "    -   Extensive standard library collection: _Batteries Included_\n",
    "    -   User-friendly built-in Data Structures\n",
    "    -   Concentrate on programming solutions rather than the language itself\n",
    "    -   Can handle advanced concepts of Programming\n",
    "    -   More functionality with less codes\n",
    "    -   Less codes = Less errors = Less development time\n",
    "-   Supports multiple programming paradigms\n",
    "    -   Procedural\n",
    "    -   Functional\n",
    "    -   Object-Oriented\n",
    "-   Easy to learn\n",
    "    -   Ideal for beginners\n",
    "    -   Has a pseudo-code nature\n",
    "    -   Closer to written English\n",
    "-   Free and Open Source\n",
    "    -   Python is a FLOS Software\n",
    "    -   Extensive collection of 3rd party resources\n",
    "    -   Package Manager ([PyPI](https://pypi.org/))\n",
    "-   Widely used\n",
    "    -   Utilized by most companies\n",
    "    -   Large user-base\n",
    "    -   Strong community support\n",
    "-   Cross-plaform\n",
    "    -   _Write Once, Run Anywhere_\n",
    "    -   Portable across platforms and Operating Systems\n",
    "-   Play well with C/C++\n",
    "    -   Performance boost via C/C++ extensions\n",
    "    -   Can also be embedded in C/C++ as scripting language\n",
    "-   Can be used for a wide variety of tasks\n",
    "    -   Ideal for prototyping and Rapid Application Development (_RAD_)\n",
    "    -   Desktop application (GUI, CLI)\n",
    "    -   Web application\n",
    "    -   AI and Machine Learning\n",
    "    -   Data Analytics and Visualization\n",
    "    -   Testing framework\n",
    "    -   Multimedia and Video Games\n",
    "    -   Scientific computing\n",
    "    -   Networking and IoT\n",
    "    -   Database application\n",
    "    -   Video Games\n",
    "    -   Mobile Development\n",
    "\n",
    "**NOTE:**\n",
    "\n",
    "-   All high-level languages are very similar\n",
    "-   Differ mainly on syntax, libraries, and library-access\n",
    "-   _It is easier to learn a new language after learning one_\n"
   ]
  },
  {
   "attachments": {},
   "cell_type": "markdown",
   "metadata": {},
   "source": [
    "## <a id='toc3_'></a>Python Interpreter [&#8593;](#toc0_)\n"
   ]
  },
  {
   "attachments": {},
   "cell_type": "markdown",
   "metadata": {},
   "source": [
    "-   Python is an interpreted language\n",
    "-   _Interpreter_ - A program that reads and executes source codes written in Python\n",
    "    -   Receives a command\n",
    "    -   Evaluates the command\n",
    "    -   Returns the result\n",
    "-   Interactive mode (_Python Shell_) or Script mode (_`.py`/`.ipynb` Files_)\n",
    "-   _Python Shell_ CLI Command: `$> python hello.py`\n",
    "-   We need to make sure that we have it installed before running Python: `$> python --version`\n",
    "-   Some other 3rd party tools allow Python code packaging into standalone executable programs\n",
    "    -   Helpful to distribute programs without source codes\n",
    "    -   [Py2Exe](https://www.py2exe.org/)\n",
    "    -   [PyInstaller](https://pyinstaller.org/en/stable/)\n"
   ]
  },
  {
   "attachments": {},
   "cell_type": "markdown",
   "metadata": {},
   "source": [
    "### <a id='toc3_1_'></a>How The Python Interpreter Work [&#8593;](#toc0_)\n"
   ]
  },
  {
   "attachments": {},
   "cell_type": "markdown",
   "metadata": {},
   "source": [
    "-   Primarily based on the [_CPython_](https://github.com/python/cpython) implementation\n",
    "    -   Convert source codes to _Bytecodes_\n",
    "    -   Interpret _Bytecodes_ into _Machine Codes/Binaries_\n",
    "    -   Execute\n",
    "-   [_CPython_](https://github.com/python/cpython) is written in C\n",
    "    -   Default and reference implementation of Python\n",
    "    -   Other implementations also exist in other languages\n",
    "        -   [IronPython (C#)](https://ironpython.net/)\n",
    "        -   [RustPython (Rust)](https://rustpython.github.io/)\n",
    "        -   [Jython (Java)](https://www.jython.org/)\n",
    "        -   [PyPy (RPython)](https://www.pypy.org/)\n",
    "        -   [More are available](https://wiki.python.org/moin/PythonImplementations)\n",
    "-   The steps of Python Intepretation are:\n",
    "    -   _Source Code Analysis_\n",
    "    -   _Bytecodes Generation_\n",
    "    -   _PyVM and Interpretation_\n"
   ]
  },
  {
   "attachments": {},
   "cell_type": "markdown",
   "metadata": {},
   "source": [
    "#### <a id='toc3_1_1_'></a>Source Code Analysis and Tokenizer [&#8593;](#toc0_)\n"
   ]
  },
  {
   "attachments": {},
   "cell_type": "markdown",
   "metadata": {},
   "source": [
    "-   Any translation starts with the source code analysis\n",
    "    -   The _Interpreter_ receives the source code\n",
    "    -   Initializes some instructions\n",
    "    -   **Lexical Analysis**\n",
    "        -   Divide the source code files into a list of tokens\n",
    "        -   Follows the indentation rule and checks the Python syntax\n",
    "        -   If syntax errors found, abort and show errors\n"
   ]
  },
  {
   "attachments": {},
   "cell_type": "markdown",
   "metadata": {},
   "source": [
    "#### <a id='toc3_1_2_'></a>Parser and Bytecodes Generation [&#8593;](#toc0_)\n"
   ]
  },
  {
   "attachments": {},
   "cell_type": "markdown",
   "metadata": {},
   "source": [
    "-   Manipulate the lexical tokens\n",
    "-   Generate the _Abstract Syntax Tree (AST)_ structure\n",
    "-   Convert the AST into bytecodes (`.pyc` files)\n"
   ]
  },
  {
   "attachments": {},
   "cell_type": "markdown",
   "metadata": {},
   "source": [
    "#### <a id='toc3_1_3_'></a>PyVM and Interpretation [&#8593;](#toc0_)\n"
   ]
  },
  {
   "attachments": {},
   "cell_type": "markdown",
   "metadata": {},
   "source": [
    "-   The _Interpreter_ initializes the _Python Virtual Machine (PyVM)_\n",
    "    -   The PyVM is the runtime engine of Python\n",
    "    -   Interprets Bytecodes into binary executable code\n",
    "-   PyVM runs the generated executable code\n",
    "    -   If runtime errors found, abort and show errors\n"
   ]
  },
  {
   "attachments": {},
   "cell_type": "markdown",
   "metadata": {},
   "source": [
    "## <a id='toc4_'></a>Installation [&#8593;](#toc0_)\n"
   ]
  },
  {
   "attachments": {},
   "cell_type": "markdown",
   "metadata": {},
   "source": [
    "-   [Download the Interpreter from Python.org](https://www.python.org/downloads/)\n",
    "-   Make sure to _Add Python 3.x to PATH_ or _Add Python to environment variables_\n",
    "-   Python includes a _Virtual Environment_ with `venv`\n",
    "    -   Allows to isolate different execution environment\n",
    "-   Another option is to use [Python in Docker](https://hub.docker.com/_/python/)\n",
    "-   For MacOS, homebrew is available: `brew install python3`\n",
    "-   For Linux, use the distro's package manager:\n",
    "\n",
    "```sh\n",
    "$> sudo apt-get update && sudo apt-get install python3\n",
    "$> sudo yum update -y && yum install -y python3\n",
    "$> sudo dnf update -y && dnf install -y python3\n",
    "```\n"
   ]
  },
  {
   "attachments": {},
   "cell_type": "markdown",
   "metadata": {},
   "source": [
    "### <a id='toc4_1_'></a>Installing Multiple Versions [&#8593;](#toc0_)\n"
   ]
  },
  {
   "attachments": {},
   "cell_type": "markdown",
   "metadata": {},
   "source": [
    "-   Useful setup when wanting to test new Python versions\n",
    "-   Allows multi-version development environment\n",
    "-   Ease version-switch in the future\n",
    "-   Allows to:\n",
    "    -   Test-run programs on different versions of Python\n",
    "    -   Create different `venv` using different versions of Python\n",
    "    -   Simple production swap via Environment Variable\n"
   ]
  },
  {
   "attachments": {},
   "cell_type": "markdown",
   "metadata": {},
   "source": [
    "1. Download and install the Python versions\n",
    "    - Make sure that the _Add Python to PATH_ option is checked for all installation\n",
    "    - Install all Python version in the same parent directory\n",
    "    - Make sure that each installation is in its own installation location (e.g. `Python39`, `Python310`, `Python311`)\n"
   ]
  },
  {
   "attachments": {},
   "cell_type": "markdown",
   "metadata": {},
   "source": [
    "2. Copy executables\n",
    "    - Open Powershell as an Administrator\n",
    "    - Change directory to the directory of the Python installation's parent folder\n",
    "        - If _Program Files_: `CD \"C:\\Program Files\"`\n",
    "    - Apply the commands below for each Python version\n",
    "\n",
    "```ps1\n",
    "# Python 3.9:\n",
    "$> copy python39\\python.exe python39\\python39.exe\n",
    "# Python 3.10:\n",
    "$> copy python310\\python.exe python310\\python310.exe\n",
    "# Python 3.11:\n",
    "$> copy python311\\python.exe python311\\python311.exe\n",
    "```\n"
   ]
  },
  {
   "attachments": {},
   "cell_type": "markdown",
   "metadata": {},
   "source": [
    "3. Modify Environment Variables\n",
    "    - The `PATH` is an environment variable that contains the list of directories the computer uses to find executable files\n",
    "    - Commands look for the requested executable file in each directory on the list from top to bottom\n",
    "    - It also stops searching once it finds a matching executable file and runs the program or command\n",
    "    - **This means that order of entries is important here**\n",
    "    - Open Windows's _Environment Variables_ for edit\n",
    "    - Check under which `Path` variable the Python installations are listed\n",
    "        - If _Install Python for all users_ --> _System Variables_\n",
    "        - Else --> _User Variables_\n",
    "    - Edit the `Path` variable that contains the Python paths\n",
    "        - Re-order the Python paths so that the Primary/Default version is the first\n",
    "        - Re-order the remaining versions in your preference and save\n"
   ]
  },
  {
   "attachments": {},
   "cell_type": "markdown",
   "metadata": {},
   "source": [
    "4. Check the versions in the command prompt to make sure all versions are mapped appropriately\n",
    "\n",
    "```sh\n",
    "$> python --version\n",
    "$> python39 --version\n",
    "$> python310 --version\n",
    "$> python311 --version\n",
    "```\n"
   ]
  },
  {
   "attachments": {},
   "cell_type": "markdown",
   "metadata": {},
   "source": [
    "-   **NOTES**\n",
    "    -   `python` and `pip` are always the default\n",
    "        -   Use `pythonX` with `X` as the version for using other versions\n",
    "        -   Use `pythonX -m pip` for using other version's `pip`\n",
    "    -   Within a `venv`, `python` and `pip` are local\n"
   ]
  },
  {
   "attachments": {},
   "cell_type": "markdown",
   "metadata": {},
   "source": [
    "### <a id='toc4_2_'></a>Installing With Anaconda [&#8593;](#toc0_)\n"
   ]
  },
  {
   "attachments": {},
   "cell_type": "markdown",
   "metadata": {},
   "source": [
    "-   This is another option\n",
    "-   Download the installer from [Anaconda](https://www.anaconda.com/products/individual) or [Miniconda](https://docs.conda.io/en/main/miniconda.html)\n",
    "-   Verify MD5 and install\n",
    "-   Make sure you are using the right python\n",
    "\n",
    "```sh\n",
    "# For Window CMD\n",
    "$> where python\n",
    "\n",
    "# For Powershell\n",
    "$> Get-Command python        # Get currently-set interpreter\n",
    "$> Get-Command -All python   # Get all available interpreter\n",
    "\n",
    "# For Linux\n",
    "$> which python\n",
    "$> which python2\n",
    "$> which python3\n",
    "```\n",
    "\n",
    "-   They all should refer to the Anaconda Python\n",
    "-   If not, then make sure to add variables to `.bash_profile` or Environment Variables\n",
    "\n",
    "```sh\n",
    "$> cd ~\n",
    "$> sudo vi .bash_profile\n",
    "\n",
    "# Add export: export PATH=\"//anaconda/bin:$PATH\"\n",
    "# Exit --insert-- && :wq\n",
    "\n",
    "$> source ~/.bash_profile\n",
    "```\n"
   ]
  },
  {
   "attachments": {},
   "cell_type": "markdown",
   "metadata": {},
   "source": [
    "## <a id='toc5_'></a>Python Versions Overview [&#8593;](#toc0_)\n"
   ]
  },
  {
   "attachments": {},
   "cell_type": "markdown",
   "metadata": {},
   "source": [
    "### <a id='toc5_1_'></a>Python 1 [&#8593;](#toc0_)\n"
   ]
  },
  {
   "attachments": {},
   "cell_type": "markdown",
   "metadata": {},
   "source": [
    "-   Legacy\n",
    "-   **1994**: v1.0 released\n",
    "-   Final Release: [1.6.1](https://www.python.org/download/releases/1.6.1)\n"
   ]
  },
  {
   "attachments": {},
   "cell_type": "markdown",
   "metadata": {},
   "source": [
    "### <a id='toc5_2_'></a>Python 2 [&#8593;](#toc0_)\n"
   ]
  },
  {
   "attachments": {},
   "cell_type": "markdown",
   "metadata": {},
   "source": [
    "-   Legacy\n",
    "-   **2000:** v2.0 released\n",
    "-   **2010:** v2.7 released\n",
    "-   **2020:** End of support\n",
    "-   Final Release: [2.7.18](https://www.python.org/downloads/release/python-2718/)\n"
   ]
  },
  {
   "attachments": {},
   "cell_type": "markdown",
   "metadata": {},
   "source": [
    "### <a id='toc5_3_'></a>Python 3 [&#8593;](#toc0_)\n"
   ]
  },
  {
   "attachments": {},
   "cell_type": "markdown",
   "metadata": {},
   "source": [
    "-   The present and future\n",
    "-   Eliminates a lot of bad quirks from Python 2\n",
    "-   **2008:** v3.0 released\n",
    "-   17 months release-cycle of 3.x versions\n"
   ]
  },
  {
   "cell_type": "code",
   "execution_count": 1,
   "metadata": {},
   "outputs": [
    {
     "name": "stdout",
     "output_type": "stream",
     "text": [
      "Python version: 3.11.2\n"
     ]
    }
   ],
   "source": [
    "# Print the Python version from within Jupyter\n",
    "from platform import python_version\n",
    "from typing import Final\n",
    "\n",
    "# Get the version\n",
    "VERSION: Final[str] = python_version()\n",
    "print(f\"Python version: {VERSION}\")\n"
   ]
  },
  {
   "attachments": {},
   "cell_type": "markdown",
   "metadata": {},
   "source": [
    "#### <a id='toc5_3_1_'></a>Python 3 Historical Versions [&#8593;](#toc0_)\n"
   ]
  },
  {
   "attachments": {},
   "cell_type": "markdown",
   "metadata": {},
   "source": [
    "-   The guide for Python development and release cycle can be found [here](https://devguide.python.org/versions/)\n",
    "-   In general, releases are supported for **5 years** before they are EOL\n",
    "-   Enhancements added in each version is driven by submitted requests called [PEPs](https://peps.python.org/)\n"
   ]
  },
  {
   "attachments": {},
   "cell_type": "markdown",
   "metadata": {},
   "source": [
    "|                            Version                            | Release Date |  EOL Date  |\n",
    "| :-----------------------------------------------------------: | :----------: | :--------: |\n",
    "| [3.11](https://www.python.org/downloads/release/python-3110/) |  2022-10-24  |  2027-10   |\n",
    "| [3.10](https://www.python.org/downloads/release/python-3100/) |  2021-10-04  |  2026-10   |\n",
    "|  [3.9](https://www.python.org/downloads/release/python-390/)  |  2020-10-05  |  2025-10   |\n",
    "|  [3.8](https://www.python.org/downloads/release/python-380/)  |  2019-10-14  |  2024-10   |\n",
    "|  [3.7](https://www.python.org/downloads/release/python-370/)  |  2018-06-27  | 2023-06-27 |\n",
    "|  [3.6](https://www.python.org/downloads/release/python-360/)  |  2016-12-23  | 2021-12-23 |\n",
    "|  [3.5](https://www.python.org/downloads/release/python-350/)  |  2015-09-13  | 2020-09-30 |\n",
    "|  [3.4](https://www.python.org/downloads/release/python-340/)  |  2014-03-16  | 2019-03-18 |\n",
    "|  [3.3](https://www.python.org/downloads/release/python-330/)  |  2012-09-29  | 2017-09-29 |\n",
    "|  [3.2](https://www.python.org/downloads/release/python-320/)  |  2011-02-20  | 2016-02-20 |\n",
    "|  [3.1](https://www.python.org/downloads/release/python-310/)  |  2009-06-27  | 2012-04-09 |\n",
    "|  [3.0](https://www.python.org/downloads/release/python-300/)  |  2008-12-03  | 2009-06-27 |\n"
   ]
  },
  {
   "attachments": {},
   "cell_type": "markdown",
   "metadata": {},
   "source": [
    "## <a id='toc6_'></a>Executing Python Code [&#8593;](#toc0_)\n"
   ]
  },
  {
   "cell_type": "code",
   "execution_count": 2,
   "metadata": {},
   "outputs": [
    {
     "name": "stdout",
     "output_type": "stream",
     "text": [
      "Hello World!\n"
     ]
    }
   ],
   "source": [
    "# Executing in Interactive: Can only run one line at a time\n",
    "print(\"Hello World!\")\n"
   ]
  },
  {
   "cell_type": "code",
   "execution_count": 3,
   "metadata": {},
   "outputs": [
    {
     "name": "stdout",
     "output_type": "stream",
     "text": [
      "The sum of the first 100 integers is 5050\n"
     ]
    }
   ],
   "source": [
    "# Executing in Script: Can run multiple lines at once\n",
    "total: int = 0\n",
    "i: int = 1\n",
    "\n",
    "while i <= 100:\n",
    "    total += i\n",
    "    i += 1\n",
    "\n",
    "print(f\"The sum of the first 100 integers is {total}\")\n"
   ]
  },
  {
   "attachments": {},
   "cell_type": "markdown",
   "metadata": {},
   "source": [
    "## <a id='toc7_'></a>Comments [&#8593;](#toc0_)\n"
   ]
  },
  {
   "attachments": {},
   "cell_type": "markdown",
   "metadata": {},
   "source": [
    "Comments are useful for:\n",
    "\n",
    "-   explaining assumptions\n",
    "-   explaining important decisions\n",
    "-   explaining important details\n",
    "-   explaining problems you are trying to solve\n",
    "-   explaining problems you are trying to overcome in your program, etc...\n",
    "\n",
    "_Code tells us how, comments should tell us why_\n"
   ]
  },
  {
   "attachments": {},
   "cell_type": "markdown",
   "metadata": {},
   "source": [
    "### <a id='toc7_1_'></a>Inline Comments [&#8593;](#toc0_)\n"
   ]
  },
  {
   "cell_type": "code",
   "execution_count": 4,
   "metadata": {},
   "outputs": [],
   "source": [
    "# This is a Python comment\n",
    "# Python has mainly line comments\n"
   ]
  },
  {
   "attachments": {},
   "cell_type": "markdown",
   "metadata": {},
   "source": [
    "### <a id='toc7_2_'></a>Docstring Comments [&#8593;](#toc0_)\n"
   ]
  },
  {
   "cell_type": "code",
   "execution_count": 5,
   "metadata": {},
   "outputs": [
    {
     "data": {
      "text/plain": [
       "'\\nThis is a mulitple line Documentation String spanning multiple lines.\\nIt acts like a comment for functions, classes, and modules for documentation purposes.\\nOutside of those, it acts as a pre-formatted string of text.\\n'"
      ]
     },
     "execution_count": 5,
     "metadata": {},
     "output_type": "execute_result"
    }
   ],
   "source": [
    "\"\"\"\n",
    "This is a mulitple line Documentation String spanning multiple lines.\n",
    "It acts like a comment for functions, classes, and modules for documentation purposes.\n",
    "Outside of those, it acts as a pre-formatted string of text.\n",
    "\"\"\"\n"
   ]
  },
  {
   "attachments": {},
   "cell_type": "markdown",
   "metadata": {},
   "source": [
    "## <a id='toc8_'></a>Reserved Words [&#8593;](#toc0_)\n"
   ]
  },
  {
   "cell_type": "code",
   "execution_count": 6,
   "metadata": {},
   "outputs": [
    {
     "name": "stdout",
     "output_type": "stream",
     "text": [
      "There are 35 Keywords in Python 3.11.2:\n",
      "and / as / assert / async / await / break / class / continue / def / del / elif / else / except / False / finally / for / from / global / if / import / in / is / lambda / None / nonlocal / not / or / pass / raise / return / True / try / while / with / yield\n"
     ]
    }
   ],
   "source": [
    "# Import needed modules\n",
    "from keyword import kwlist\n",
    "from platform import python_version\n",
    "from typing import Final, List, Tuple\n",
    "\n",
    "# Build the list\n",
    "LOWERED_KWS: Final[List[Tuple[str, str]]] = list(\n",
    "    map(lambda kw: (kw, kw.lower()), kwlist)\n",
    ")\n",
    "SORTED_LOWERED_KWS: Final[List[Tuple[str, str]]] = sorted(\n",
    "    LOWERED_KWS, key=lambda tup: tup[1]\n",
    ")\n",
    "SORTED_KWS: Final[List[str]] = [kw for (kw, _) in SORTED_LOWERED_KWS]\n",
    "\n",
    "# Print the summary\n",
    "print(f\"There are {len(SORTED_KWS)} Keywords in Python {python_version()}:\")\n",
    "\n",
    "# Print the list of keywords\n",
    "print(\" / \".join(SORTED_KWS))\n"
   ]
  },
  {
   "attachments": {},
   "cell_type": "markdown",
   "metadata": {},
   "source": [
    "## <a id='toc9_'></a>Getting Help [&#8593;](#toc0_)\n"
   ]
  },
  {
   "attachments": {},
   "cell_type": "markdown",
   "metadata": {},
   "source": [
    "-   Use the built-in `help()` function\n"
   ]
  },
  {
   "cell_type": "code",
   "execution_count": 7,
   "metadata": {},
   "outputs": [
    {
     "name": "stdout",
     "output_type": "stream",
     "text": [
      "Help on _Helper in module _sitebuiltins object:\n",
      "\n",
      "help = class _Helper(builtins.object)\n",
      " |  Define the builtin 'help'.\n",
      " |  \n",
      " |  This is a wrapper around pydoc.help that provides a helpful message\n",
      " |  when 'help' is typed at the Python interactive prompt.\n",
      " |  \n",
      " |  Calling help() at the Python prompt starts an interactive help session.\n",
      " |  Calling help(thing) prints help for the python object 'thing'.\n",
      " |  \n",
      " |  Methods defined here:\n",
      " |  \n",
      " |  __call__(self, *args, **kwds)\n",
      " |      Call self as a function.\n",
      " |  \n",
      " |  __repr__(self)\n",
      " |      Return repr(self).\n",
      " |  \n",
      " |  ----------------------------------------------------------------------\n",
      " |  Data descriptors defined here:\n",
      " |  \n",
      " |  __dict__\n",
      " |      dictionary for instance variables (if defined)\n",
      " |  \n",
      " |  __weakref__\n",
      " |      list of weak references to the object (if defined)\n",
      "\n"
     ]
    }
   ],
   "source": [
    "# Getting help on `help` function\n",
    "help(\"help\")\n"
   ]
  },
  {
   "attachments": {},
   "cell_type": "markdown",
   "metadata": {},
   "source": [
    "## <a id='toc10_'></a>Useful Tools [&#8593;](#toc0_)\n"
   ]
  },
  {
   "attachments": {},
   "cell_type": "markdown",
   "metadata": {},
   "source": [
    "### <a id='toc10_1_'></a>Basic Text Editors [&#8593;](#toc0_)\n"
   ]
  },
  {
   "attachments": {},
   "cell_type": "markdown",
   "metadata": {},
   "source": [
    "-   Notepad\n",
    "-   Terminal\n",
    "-   Vi\n",
    "-   [IDLE](https://docs.python.org/3/library/idle.html)\n",
    "-   [Notepad++](https://notepad-plus-plus.org/)\n",
    "-   [Emacs](https://www.gnu.org/software/emacs/)\n"
   ]
  },
  {
   "attachments": {},
   "cell_type": "markdown",
   "metadata": {},
   "source": [
    "### <a id='toc10_2_'></a>DIY IDE [&#8593;](#toc0_)\n"
   ]
  },
  {
   "attachments": {},
   "cell_type": "markdown",
   "metadata": {},
   "source": [
    "-   [Sublime Text](https://www.sublimetext.com/)\n",
    "-   [Visual Studio Code](https://code.visualstudio.com/)\n",
    "-   [Vim](https://www.vim.org/)\n",
    "-   [Jupyter Notebook](https://jupyter.org/)\n"
   ]
  },
  {
   "attachments": {},
   "cell_type": "markdown",
   "metadata": {},
   "source": [
    "### <a id='toc10_3_'></a>Complete IDE [&#8593;](#toc0_)\n"
   ]
  },
  {
   "attachments": {},
   "cell_type": "markdown",
   "metadata": {},
   "source": [
    "-   [PyCharm](https://www.jetbrains.com/pycharm/)\n",
    "-   [Eclipse PyDev](https://www.pydev.org/)\n",
    "-   [Spyder](https://www.spyder-ide.org/)\n",
    "-   [Wing](https://wingware.com/)\n",
    "-   [Komodo](https://www.activestate.com/products/komodo-ide/)\n",
    "-   [Jupyterlab](https://jupyter.org/)\n",
    "-   [Visual Studio](https://visualstudio.microsoft.com/)\n"
   ]
  },
  {
   "attachments": {},
   "cell_type": "markdown",
   "metadata": {},
   "source": [
    "### <a id='toc10_4_'></a>Using Jupyter Notebook [&#8593;](#toc0_)\n"
   ]
  },
  {
   "attachments": {},
   "cell_type": "markdown",
   "metadata": {},
   "source": [
    "#### <a id='toc10_4_1_'></a>Installing Jupyter `conda` [&#8593;](#toc0_)\n"
   ]
  },
  {
   "attachments": {},
   "cell_type": "markdown",
   "metadata": {},
   "source": [
    "```sh\n",
    "$> conda install jupyterlab\n",
    "```\n"
   ]
  },
  {
   "attachments": {},
   "cell_type": "markdown",
   "metadata": {},
   "source": [
    "#### <a id='toc10_4_2_'></a>Updating Jupyter `conda` [&#8593;](#toc0_)\n"
   ]
  },
  {
   "attachments": {},
   "cell_type": "markdown",
   "metadata": {},
   "source": [
    "```sh\n",
    "$> conda update jupyterlab\n",
    "```\n"
   ]
  },
  {
   "attachments": {},
   "cell_type": "markdown",
   "metadata": {},
   "source": [
    "#### <a id='toc10_4_3_'></a>Starting Jupyter Notebook [&#8593;](#toc0_)\n"
   ]
  },
  {
   "attachments": {},
   "cell_type": "markdown",
   "metadata": {},
   "source": [
    "If `port` is not specified, the default port is `8888`\n",
    "\n",
    "```sh\n",
    "$> cd /path/to/folder/containing/jupyter/notebooks\n",
    "$> jupyter notebook --port 9999\n",
    "```\n",
    "\n",
    "Now browse to `http://localhost:9999`\n"
   ]
  },
  {
   "attachments": {},
   "cell_type": "markdown",
   "metadata": {},
   "source": [
    "## <a id='toc11_'></a>Resources [&#8593;](#toc0_)\n"
   ]
  },
  {
   "attachments": {},
   "cell_type": "markdown",
   "metadata": {},
   "source": [
    "### <a id='toc11_1_'></a>Important Websites [&#8593;](#toc0_)\n"
   ]
  },
  {
   "attachments": {},
   "cell_type": "markdown",
   "metadata": {},
   "source": [
    "-   [Python Official Site](https://python.org)\n",
    "-   [Anaconda](https://www.anaconda.com)\n",
    "-   [Jupyter Online](https://jupyter.org/try)\n",
    "-   [NBViewer (Jupyter Notebook Sharing)](https://nbviewer.org/)\n",
    "-   [Original Source Codes for the Course](https://github.com/jmportilla/Complete-Python-Bootcamp/tree/master/)\n",
    "-   [Jupyter Docs](https://athena.brynmawr.edu/jupyter/hub/dblank/public/Jupyter%20Notebook%20Users%20Manual.ipynb)\n",
    "-   [Git Immersion](http://gitimmersion.com)\n"
   ]
  },
  {
   "attachments": {},
   "cell_type": "markdown",
   "metadata": {},
   "source": [
    "### <a id='toc11_2_'></a>Python Reference Sites [&#8593;](#toc0_)\n"
   ]
  },
  {
   "attachments": {},
   "cell_type": "markdown",
   "metadata": {},
   "source": [
    "-   [Site: Python.org](https://python.org)\n",
    "-   [Site: RealPython.com](https://realpython.com/)\n",
    "-   [Site: TechBeamers.com](https://techbeamers.com/)\n",
    "-   [Site: LearnPython.org](https://learnpython.org/)\n",
    "-   [Site: Programiz](https://programiz.com/)\n",
    "-   [Course: Udemy: Complete Python Bootcamp](https://udemy.com/course/complete-python-bootcamp/)\n",
    "-   [Course: eDX: Python Courses](https://edx.org/learn/python)\n",
    "-   [Course: FreeCodeCamp: Python Curriculum](https://freecodecamp.org/learn)\n",
    "-   [Course: Datacamp](https://datacamp.com/)\n",
    "-   [Youtube Channel: Enthought](https://youtube.com/channel/UCkhm72fuzkS9fYGlGpEmj7A)\n",
    "-   [Youtube Channel: EuroPython](https://youtube.com/channel/UC98CzaYuFNAA_gOINFB0e4Q)\n",
    "-   [Youtube Channel: RealPython](https://youtube.com/c/realpython)\n",
    "-   [Youtube Channel: PyCon Canada](https://youtube.com/c/PyConCA)\n",
    "-   [Youtube Channel: Anaconda](https://youtube.com/c/ContinuumIo)\n",
    "-   [Youtube Channel: Coding Entrepreneurs](https://youtube.com/c/CodingEntrepreneurs)\n",
    "-   [Youtube Channel: PyData](https://youtube.com/c/PyDataTV)\n",
    "-   [Jupyter Books: Python Gallery](https://executablebooks.org/en/latest/gallery.html)\n",
    "-   [Online Book: Python 4 Everybody](https://py4e.com/book)\n",
    "-   [Online Book: Automate the Boring Stuff with Python](https://automatetheboringstuff.com/)\n",
    "-   [Book Reference: PythonBooks](https://pythonbooks.org/)\n",
    "-   [Book Reference: NbViewer](https://nbviewer.org/)\n",
    "-   [Book Reference: Free Python Books](https://github.com/pamoroso/free-python-books)\n",
    "-   [Blog: Full Stack Python](https://fullstackpython.com/blog.html)\n",
    "-   [Blog: PyBloggers](http://pybloggers.com/)\n",
    "-   [Blog: Towards Data Science](https://towardsdatascience.com/)\n",
    "-   [Blog: Planet Python](https://planetpython.org/)\n",
    "-   [Blog: Python Software Foundation](https://pyfound.blogspot.com/)\n",
    "-   [Mailing Lists: Python3](https://mail.python.org/archives/)\n",
    "-   [Podcasts: Talk Python](https://talkpython.fm/)\n"
   ]
  }
 ],
 "metadata": {
  "hide_input": false,
  "kernelspec": {
   "display_name": "venv310",
   "language": "python",
   "name": "python3"
  },
  "language_info": {
   "codemirror_mode": {
    "name": "ipython",
    "version": 3
   },
   "file_extension": ".py",
   "mimetype": "text/x-python",
   "name": "python",
   "nbconvert_exporter": "python",
   "pygments_lexer": "ipython3",
   "version": "3.11.2"
  },
  "toc": {
   "base_numbering": 1,
   "nav_menu": {},
   "number_sections": true,
   "sideBar": true,
   "skip_h1_title": true,
   "title_cell": "Table of Contents",
   "title_sidebar": "Contents",
   "toc_cell": true,
   "toc_position": {},
   "toc_section_display": true,
   "toc_window_display": true
  },
  "varInspector": {
   "cols": {
    "lenName": 16,
    "lenType": 16,
    "lenVar": 40
   },
   "kernels_config": {
    "python": {
     "delete_cmd_postfix": "",
     "delete_cmd_prefix": "del ",
     "library": "var_list.py",
     "varRefreshCmd": "print(var_dic_list())"
    },
    "r": {
     "delete_cmd_postfix": ") ",
     "delete_cmd_prefix": "rm(",
     "library": "var_list.r",
     "varRefreshCmd": "cat(var_dic_list()) "
    }
   },
   "types_to_exclude": [
    "module",
    "function",
    "builtin_function_or_method",
    "instance",
    "_Feature"
   ],
   "window_display": false
  },
  "vscode": {
   "interpreter": {
    "hash": "6e400aa61d85e496d68b2399928a7ddcb9f74ee26aa2584481c22b89bfb1eab7"
   }
  }
 },
 "nbformat": 4,
 "nbformat_minor": 4
}
