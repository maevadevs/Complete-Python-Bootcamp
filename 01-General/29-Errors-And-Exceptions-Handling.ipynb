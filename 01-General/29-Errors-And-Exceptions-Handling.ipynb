{
 "cells": [
  {
   "cell_type": "markdown",
   "metadata": {},
   "source": [
    "# Errors and Exceptions Handling: `try`, `except`, `finally`\n",
    "---"
   ]
  },
  {
   "attachments": {},
   "cell_type": "markdown",
   "metadata": {},
   "source": [
    "**Table of Contents**<a id=\"toc0_\"></a>    \n",
    "- [`try` and `except`](#toc1_)    \n",
    "- [`finally`](#toc2_)    \n",
    "- [Capturing Exceptions](#toc3_)    \n",
    "\n",
    "<!-- vscode-jupyter-toc-config\n",
    "\tnumbering=false\n",
    "\tanchor=true\n",
    "\tflat=false\n",
    "\tminLevel=2\n",
    "\tmaxLevel=6\n",
    "\t/vscode-jupyter-toc-config -->\n",
    "<!-- THIS CELL WILL BE REPLACED ON TOC UPDATE. DO NOT WRITE YOUR TEXT IN THIS CELL -->"
   ]
  },
  {
   "attachments": {},
   "cell_type": "markdown",
   "metadata": {},
   "source": [
    "---"
   ]
  },
  {
   "attachments": {},
   "cell_type": "markdown",
   "metadata": {},
   "source": [
    "- **Exceptions** \n",
    "  - Errors detected during execution\n",
    "  - They are not unconditionally fatal"
   ]
  },
  {
   "attachments": {},
   "cell_type": "markdown",
   "metadata": {},
   "source": [
    "## <a id=\"toc1_\"></a>`try` and `except` [&#8593;](#toc0_)"
   ]
  },
  {
   "attachments": {},
   "cell_type": "markdown",
   "metadata": {},
   "source": [
    "```python\n",
    "try:\n",
    "    Some statements here...\n",
    "    You do your operations here...\n",
    "except ExceptionTypeI:\n",
    "    If there is ExceptionTypeI, then execute this block.\n",
    "except ExceptionTypeII:\n",
    "    If there is ExceptionTypeII, then execute this block.\n",
    "except:\n",
    "    If there is any other exception, then execute this block.\n",
    "else:\n",
    "    If there is no exception, then execute this block.\n",
    "```"
   ]
  },
  {
   "cell_type": "code",
   "execution_count": 1,
   "metadata": {},
   "outputs": [
    {
     "name": "stdout",
     "output_type": "stream",
     "text": [
      "Error: Could not find file testfile3.txt or read data\n"
     ]
    }
   ],
   "source": [
    "from os import path\n",
    "from pathlib import Path\n",
    "from io import TextIOWrapper\n",
    "\n",
    "root: Path = Path().absolute()\n",
    "\n",
    "try:\n",
    "    f: TextIOWrapper = open(path.join(root, \"..\", \"demofiles\", \"testfile3.txt\"))\n",
    "    f.write(\"Test write this\")\n",
    "except FileNotFoundError:\n",
    "    # This will only check for an FileNotFoundError exception and then execute this print statement\n",
    "    print(\"Error: Could not find file testfile3.txt or read data\")\n",
    "else:\n",
    "    print(\"Content written successfully\")\n",
    "    f.close()"
   ]
  },
  {
   "cell_type": "code",
   "execution_count": 2,
   "metadata": {},
   "outputs": [
    {
     "name": "stdout",
     "output_type": "stream",
     "text": [
      "Error: Could not find file testfile3.txt or read data\n",
      "Hey, I am still printing even though there was an error.\n"
     ]
    }
   ],
   "source": [
    "# We did not have write permission (opening only with \"r\")\n",
    "try:\n",
    "    f2: TextIOWrapper = open(path.join(root, \"..\", \"demofiles\", \"testfile3.txt\"), mode = \"r\")\n",
    "    f2.write(\"Test write this\")\n",
    "except IOError:\n",
    "    # This will only check for an IOError exception and then execute this print statement\n",
    "    print(\"Error: Could not find file testfile3.txt or read data\")\n",
    "else:\n",
    "    print(\"Content written successfully\")\n",
    "    f2.close()\n",
    "    \n",
    "print(\"Hey, I am still printing even though there was an error.\")"
   ]
  },
  {
   "cell_type": "markdown",
   "metadata": {},
   "source": [
    "- Exceptions can be generalized if unknown"
   ]
  },
  {
   "cell_type": "code",
   "execution_count": 3,
   "metadata": {},
   "outputs": [
    {
     "name": "stdout",
     "output_type": "stream",
     "text": [
      "Error: Could not find file testfile3.txt or read data\n"
     ]
    }
   ],
   "source": [
    "try:\n",
    "    f3: TextIOWrapper = open(path.join(root, \"..\", \"demofiles\", \"testfile3.txt\"), mode = \"r\")\n",
    "    f3.write(\"Test write this\")\n",
    "except:\n",
    "    # This will check for any exception and then excute this print statement\n",
    "    print(\"Error: Could not find file testfile3.txt or read data\")\n",
    "else:\n",
    "    print(\"Content written successfully\")\n",
    "    f3.close()"
   ]
  },
  {
   "attachments": {},
   "cell_type": "markdown",
   "metadata": {},
   "source": [
    "## <a id=\"toc2_\"></a>`finally` [&#8593;](#toc0_)"
   ]
  },
  {
   "attachments": {},
   "cell_type": "markdown",
   "metadata": {},
   "source": [
    "- If we want to keep running code even after the exception occurred, this is where `finally` comes in\n",
    "- This could be for some cleanup codes\n",
    "- The `finally` block of code will always be run, regardless if there was an exception in the `try` code block or not\n",
    "\n",
    "```python\n",
    "try:\n",
    "    Code block here\n",
    "    ...\n",
    "    Due to any exception, this code may be skipped!\n",
    "except:\n",
    "    Catch and handle errors here\n",
    "finally:\n",
    "    This code block would always be executed.\n",
    "```"
   ]
  },
  {
   "cell_type": "code",
   "execution_count": 4,
   "metadata": {},
   "outputs": [
    {
     "name": "stdout",
     "output_type": "stream",
     "text": [
      "An error occurred.\n",
      "Always execute finally code blocks.\n"
     ]
    }
   ],
   "source": [
    "try:\n",
    "    f4: TextIOWrapper = open(path.join(root, \"..\", \"demofiles\", \"testfile3.txt\"), mode = \"r\")\n",
    "    f4.write(\"Test write statement\")\n",
    "except:\n",
    "    print(\"An error occurred.\")\n",
    "else:\n",
    "    print(\"success\")\n",
    "finally:\n",
    "    print(\"Always execute finally code blocks.\")"
   ]
  },
  {
   "cell_type": "code",
   "execution_count": 5,
   "metadata": {},
   "outputs": [],
   "source": [
    "def ask_int() -> None:\n",
    "    while True:\n",
    "        try:\n",
    "            val: int = int(input(\"Please enter an integer: \"))\n",
    "        except:\n",
    "            print(\"Looks like you did not enter an integer! Please try again.\")\n",
    "            continue # Go back to the loop\n",
    "        else:\n",
    "            print(\"Yep that's an integer!\" + f\"\\nYou entered {val}\")\n",
    "            break # Only break when we get an integer\n",
    "        finally:\n",
    "            print(\"Finally, I executed!\")"
   ]
  },
  {
   "cell_type": "code",
   "execution_count": 6,
   "metadata": {},
   "outputs": [
    {
     "name": "stdout",
     "output_type": "stream",
     "text": [
      "Looks like you did not enter an integer! Please try again.\n",
      "Finally, I executed!\n",
      "Yep that's an integer!\n",
      "You entered 21\n",
      "Finally, I executed!\n"
     ]
    }
   ],
   "source": [
    "ask_int()"
   ]
  },
  {
   "attachments": {},
   "cell_type": "markdown",
   "metadata": {},
   "source": [
    "## <a id=\"toc3_\"></a>Capturing Exceptions [&#8593;](#toc0_)"
   ]
  },
  {
   "cell_type": "markdown",
   "metadata": {},
   "source": [
    "- Use `except Exception as e` and `str(e)` to get the error message"
   ]
  },
  {
   "cell_type": "code",
   "execution_count": 7,
   "metadata": {},
   "outputs": [],
   "source": [
    "def ask_int_again() -> None:\n",
    "    try:\n",
    "        val: int = int(input(\"Please enter an integer: \"))\n",
    "        print(val)\n",
    "    except Exception as e:\n",
    "        print(\"Oops! There was an error: \" + str(e))\n",
    "    finally:\n",
    "        print(\"Finally, I executed!\")"
   ]
  },
  {
   "cell_type": "code",
   "execution_count": 8,
   "metadata": {},
   "outputs": [
    {
     "name": "stdout",
     "output_type": "stream",
     "text": [
      "Oops! There was an error: invalid literal for int() with base 10: 'hello'\n",
      "Finally, I executed!\n"
     ]
    }
   ],
   "source": [
    "ask_int_again()"
   ]
  }
 ],
 "metadata": {
  "kernelspec": {
   "display_name": "venv",
   "language": "python",
   "name": "python3"
  },
  "language_info": {
   "codemirror_mode": {
    "name": "ipython",
    "version": 3
   },
   "file_extension": ".py",
   "mimetype": "text/x-python",
   "name": "python",
   "nbconvert_exporter": "python",
   "pygments_lexer": "ipython3",
   "version": "3.11.2"
  },
  "toc": {
   "base_numbering": 1,
   "nav_menu": {},
   "number_sections": true,
   "sideBar": true,
   "skip_h1_title": true,
   "title_cell": "Table of Contents",
   "title_sidebar": "Contents",
   "toc_cell": true,
   "toc_position": {},
   "toc_section_display": true,
   "toc_window_display": true
  },
  "vscode": {
   "interpreter": {
    "hash": "c06c66e20c037b5a81ce5a660a92268a8806238f991164e2ce77b648e299b60d"
   }
  }
 },
 "nbformat": 4,
 "nbformat_minor": 4
}
