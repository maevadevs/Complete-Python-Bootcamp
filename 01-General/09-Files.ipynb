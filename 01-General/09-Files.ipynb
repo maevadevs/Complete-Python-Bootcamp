{
 "cells": [
  {
   "cell_type": "markdown",
   "metadata": {},
   "source": [
    "# Files\n",
    "---"
   ]
  },
  {
   "cell_type": "markdown",
   "metadata": {},
   "source": [
    "**Table of Contents**<a id='toc0_'></a>    \n",
    "- [General Format ](#toc1_)    \n",
    "- [Opening a File: `open()` ](#toc2_)    \n",
    "- [Reading a File: `file.seek(pos) | file.read() | file.readlines()` ](#toc3_)    \n",
    "- [Using the `with` Keyword ](#toc4_)    \n",
    "- [Writing To File: `file.open(file, mode='w')` ](#toc5_)    \n",
    "- [Iterating Through A File ](#toc6_)    \n",
    "\n",
    "<!-- vscode-jupyter-toc-config\n",
    "\tnumbering=false\n",
    "\tanchor=true\n",
    "\tflat=false\n",
    "\tminLevel=2\n",
    "\tmaxLevel=6\n",
    "\t/vscode-jupyter-toc-config -->\n",
    "<!-- THIS CELL WILL BE REPLACED ON TOC UPDATE. DO NOT WRITE YOUR TEXT IN THIS CELL -->"
   ]
  },
  {
   "attachments": {},
   "cell_type": "markdown",
   "metadata": {},
   "source": [
    "---"
   ]
  },
  {
   "attachments": {},
   "cell_type": "markdown",
   "metadata": {},
   "source": [
    "- File objects to interact with external files on computer\n",
    "- Can be any sort of file: audio file, text file, emails, Excel documents, etc... \n",
    "- Would need to install certain libraries or modules to interact with some of them\n",
    "- Built-in `open()` function allows to open and play with basic file types"
   ]
  },
  {
   "cell_type": "markdown",
   "metadata": {},
   "source": [
    "## <a id='toc1_'></a>General Format  [&#8593;](#toc0_)"
   ]
  },
  {
   "attachments": {},
   "cell_type": "markdown",
   "metadata": {},
   "source": [
    "```python\n",
    "for line in open('filename'):\n",
    "    # Do something\n",
    "```"
   ]
  },
  {
   "cell_type": "code",
   "execution_count": 1,
   "metadata": {},
   "outputs": [],
   "source": [
    "from pathlib import Path\n",
    "from os import path\n",
    "from typing import Final, TextIO"
   ]
  },
  {
   "cell_type": "code",
   "execution_count": 2,
   "metadata": {},
   "outputs": [],
   "source": [
    "ROOT: Final[Path] = Path().absolute()"
   ]
  },
  {
   "cell_type": "markdown",
   "metadata": {},
   "source": [
    "## <a id='toc2_'></a>Opening a File: `open()`  [&#8593;](#toc0_)"
   ]
  },
  {
   "cell_type": "code",
   "execution_count": 3,
   "metadata": {},
   "outputs": [],
   "source": [
    "# Open the testfile.txt we made earlier\n",
    "MY_FILE: Final[TextIO] = open(path.join(ROOT, '..', 'demofiles', 'testfile1.txt'), encoding='utf8')"
   ]
  },
  {
   "cell_type": "markdown",
   "metadata": {},
   "source": [
    "## <a id='toc3_'></a>Reading a File: `file.seek(pos) | file.read() | file.readlines()`  [&#8593;](#toc0_)"
   ]
  },
  {
   "attachments": {},
   "cell_type": "markdown",
   "metadata": {},
   "source": [
    "- `file.seek(pos)`\n",
    "  - Move the cursor to a specified position position\n",
    "  - `0` for starting at the beginning\n",
    "- `file.read()`\n",
    "  - Start reading the file from the current position"
   ]
  },
  {
   "cell_type": "code",
   "execution_count": 4,
   "metadata": {},
   "outputs": [
    {
     "data": {
      "text/plain": [
       "0"
      ]
     },
     "execution_count": 4,
     "metadata": {},
     "output_type": "execute_result"
    }
   ],
   "source": [
    "# We can now read the file: Seek to the beginning\n",
    "MY_FILE.seek(0)"
   ]
  },
  {
   "cell_type": "code",
   "execution_count": 5,
   "metadata": {},
   "outputs": [
    {
     "name": "stdout",
     "output_type": "stream",
     "text": [
      "Reading the content of textfile1.txt: \n",
      "This is a new added using w+ line\n",
      "This is a second line\n",
      "This is a third line\n",
      "This is a fourth line\n",
      "This is a fifth line\n"
     ]
    }
   ],
   "source": [
    "# Then start reading. Capture in a variable\n",
    "CONTENTS: Final[str] = MY_FILE.read()\n",
    "print(f'Reading the content of textfile1.txt: {CONTENTS}')"
   ]
  },
  {
   "cell_type": "code",
   "execution_count": 6,
   "metadata": {},
   "outputs": [
    {
     "name": "stdout",
     "output_type": "stream",
     "text": [
      "\n"
     ]
    }
   ],
   "source": [
    "# But what happens if we try to read it again?\n",
    "print(MY_FILE.read())"
   ]
  },
  {
   "attachments": {},
   "cell_type": "markdown",
   "metadata": {},
   "source": [
    "- Nothing shows up\n",
    "  - Imagine the reading *cursor* is at the end of the file after having read it\n",
    "  - So there is nothing left to read\n",
    "  - We need to reset the *cursor* in order to read again"
   ]
  },
  {
   "cell_type": "code",
   "execution_count": 7,
   "metadata": {},
   "outputs": [
    {
     "data": {
      "text/plain": [
       "0"
      ]
     },
     "execution_count": 7,
     "metadata": {},
     "output_type": "execute_result"
    }
   ],
   "source": [
    "# Reset: Seek to the start of file (index 0)\n",
    "MY_FILE.seek(0)"
   ]
  },
  {
   "cell_type": "code",
   "execution_count": 8,
   "metadata": {},
   "outputs": [
    {
     "name": "stdout",
     "output_type": "stream",
     "text": [
      "Reading textfile1.txt one more time: \n",
      "This is a new added using w+ line\n",
      "This is a second line\n",
      "This is a third line\n",
      "This is a fourth line\n",
      "This is a fifth line\n"
     ]
    }
   ],
   "source": [
    "# Now read again\n",
    "print(f'Reading textfile1.txt one more time: {MY_FILE.read()}')"
   ]
  },
  {
   "attachments": {},
   "cell_type": "markdown",
   "metadata": {},
   "source": [
    "- In order to not have to reset every time, we can also use the `file.readlines()`\n",
    "- **Use this with caution for large files, since everything will be held in memory** "
   ]
  },
  {
   "cell_type": "code",
   "execution_count": 9,
   "metadata": {},
   "outputs": [
    {
     "name": "stdout",
     "output_type": "stream",
     "text": [
      "Using readlines() to get each line: ['\\n', 'This is a new added using w+ line\\n', 'This is a second line\\n', 'This is a third line\\n', 'This is a fourth line\\n', 'This is a fifth line']\n"
     ]
    }
   ],
   "source": [
    "MY_FILE.seek(0)\n",
    "# Readlines returns a list of the lines in the file\n",
    "print(f'Using readlines() to get each line: {MY_FILE.readlines()}')"
   ]
  },
  {
   "attachments": {},
   "cell_type": "markdown",
   "metadata": {},
   "source": [
    "A better approach is to loop through the list"
   ]
  },
  {
   "cell_type": "code",
   "execution_count": 10,
   "metadata": {},
   "outputs": [
    {
     "name": "stdout",
     "output_type": "stream",
     "text": [
      "\n",
      "This is a new added using w+ line\n",
      "This is a second line\n",
      "This is a third line\n",
      "This is a fourth line\n",
      "This is a fifth line"
     ]
    }
   ],
   "source": [
    "MY_FILE.seek(0)\n",
    "\n",
    "for line in MY_FILE.readlines():\n",
    "    print(line, end=\"\")"
   ]
  },
  {
   "cell_type": "code",
   "execution_count": 11,
   "metadata": {},
   "outputs": [],
   "source": [
    "# Close the file when done\n",
    "MY_FILE.close()"
   ]
  },
  {
   "cell_type": "markdown",
   "metadata": {},
   "source": [
    "## <a id='toc4_'></a>Using the `with` Keyword  [&#8593;](#toc0_)"
   ]
  },
  {
   "attachments": {},
   "cell_type": "markdown",
   "metadata": {},
   "source": [
    "- We can also make use of the `with` keyword to access the contents of a file\n",
    "- Using this method, there is no need to worry about closing the file"
   ]
  },
  {
   "cell_type": "code",
   "execution_count": 12,
   "metadata": {},
   "outputs": [
    {
     "name": "stdout",
     "output_type": "stream",
     "text": [
      "Using the `with` keyword:\n",
      "\n",
      "This is a new added using w+ line\n",
      "This is a second line\n",
      "This is a third line\n",
      "This is a fourth line\n",
      "This is a fifth line\n"
     ]
    }
   ],
   "source": [
    "contents: str\n",
    "\n",
    "with open(path.join(ROOT, '..', 'demofiles', 'testfile1.txt'), encoding='utf8') as my_new_file:\n",
    "    contents = my_new_file.read()\n",
    "\n",
    "print('Using the `with` keyword:')\n",
    "print(contents)"
   ]
  },
  {
   "cell_type": "markdown",
   "metadata": {},
   "source": [
    "## <a id='toc5_'></a>Writing To File: `file.open(file, mode='w')`  [&#8593;](#toc0_)"
   ]
  },
  {
   "attachments": {},
   "cell_type": "markdown",
   "metadata": {},
   "source": [
    "- By default, using the `file.open()` function will read the file\n",
    "- To write, we need to pass the argument `'w'`\n",
    "- Opening the file for writing\n",
    "  - Add a second argument to the function, \n",
    "  - `'w'` for write (overwrite)\n",
    "  - `'a'` for append only\n",
    "  - `'r'` for read only (default)\n",
    "  - `'r+'` for read/write\n",
    "  - `'w+'` for read/write (overwrite or create new file)"
   ]
  },
  {
   "cell_type": "code",
   "execution_count": 13,
   "metadata": {},
   "outputs": [
    {
     "name": "stdout",
     "output_type": "stream",
     "text": [
      "\n",
      "This is a newly added line using w+\n",
      "\n",
      "This is a newly added line using w+\n",
      "This is a second line\n",
      "This is a third line\n",
      "This is a fourth line\n",
      "This is a fifth line\n"
     ]
    }
   ],
   "source": [
    "my_file: TextIO\n",
    "\n",
    "with open(path.join(ROOT, '..', 'demofiles', 'testfile2.txt'), mode='w+', encoding='utf8') as my_file:\n",
    "    \n",
    "    # Now write to the file (Overwrite)\n",
    "    my_file.write('\\nThis is a newly added line using w+')\n",
    "    \n",
    "    # Read the file\n",
    "    my_file.seek(0)\n",
    "    print(my_file.read())\n",
    "    \n",
    "    # Add another write\n",
    "    my_file.write('\\nThis is a second line')\n",
    "    my_file.write('\\nThis is a third line')\n",
    "    my_file.write('\\nThis is a fourth line')\n",
    "    my_file.write('\\nThis is a fifth line')\n",
    "    \n",
    "    # Read the file again\n",
    "    my_file.seek(0)\n",
    "    print(my_file.read())"
   ]
  },
  {
   "cell_type": "markdown",
   "metadata": {},
   "source": [
    "## <a id='toc6_'></a>Iterating Through A File  [&#8593;](#toc0_)"
   ]
  },
  {
   "attachments": {},
   "cell_type": "markdown",
   "metadata": {},
   "source": [
    "- This is a good technique for CSV processing\n",
    "- Looping through each line in the file\n",
    "\n",
    "```python\n",
    "for line in open('filename'):\n",
    "    # Do something\n",
    "```\n",
    "- Now we can use a little bit of flow to tell the program to loop through every line of the file and do something\n",
    "- **Note: If file is empty, this will throw an error**"
   ]
  },
  {
   "cell_type": "code",
   "execution_count": 14,
   "metadata": {},
   "outputs": [
    {
     "name": "stdout",
     "output_type": "stream",
     "text": [
      "Line 1: \n",
      "\n",
      "Line 2: This is a newly added line using w+\n",
      "\n",
      "Line 3: This is a second line\n",
      "\n",
      "Line 4: This is a third line\n",
      "\n",
      "Line 5: This is a fourth line\n",
      "\n",
      "Line 6: This is a fifth line\n"
     ]
    }
   ],
   "source": [
    "for num, line in enumerate(open(path.join(ROOT, '..', 'demofiles', 'testfile2.txt'))):\n",
    "    print(f'Line {num+1}: {line}')"
   ]
  },
  {
   "attachments": {},
   "cell_type": "markdown",
   "metadata": {},
   "source": [
    "- It is important to note a few things here:\n",
    "  1. We could have called the `num` and `line` object anything\n",
    "  1. By not calling `.read()` on the file, the whole text file was not stored in memory\n",
    "  1. Notice the indent on the second line for print. This whitespace is required in Python"
   ]
  }
 ],
 "metadata": {
  "hide_input": false,
  "kernelspec": {
   "display_name": "venv",
   "language": "python",
   "name": "python3"
  },
  "language_info": {
   "codemirror_mode": {
    "name": "ipython",
    "version": 3
   },
   "file_extension": ".py",
   "mimetype": "text/x-python",
   "name": "python",
   "nbconvert_exporter": "python",
   "pygments_lexer": "ipython3",
   "version": "3.11.2"
  },
  "toc": {
   "base_numbering": 1,
   "nav_menu": {},
   "number_sections": true,
   "sideBar": true,
   "skip_h1_title": true,
   "title_cell": "Table of Contents",
   "title_sidebar": "Contents",
   "toc_cell": true,
   "toc_position": {},
   "toc_section_display": true,
   "toc_window_display": true
  },
  "varInspector": {
   "cols": {
    "lenName": 16,
    "lenType": 16,
    "lenVar": 40
   },
   "kernels_config": {
    "python": {
     "delete_cmd_postfix": "",
     "delete_cmd_prefix": "del ",
     "library": "var_list.py",
     "varRefreshCmd": "print(var_dic_list())"
    },
    "r": {
     "delete_cmd_postfix": ") ",
     "delete_cmd_prefix": "rm(",
     "library": "var_list.r",
     "varRefreshCmd": "cat(var_dic_list()) "
    }
   },
   "types_to_exclude": [
    "module",
    "function",
    "builtin_function_or_method",
    "instance",
    "_Feature"
   ],
   "window_display": false
  },
  "vscode": {
   "interpreter": {
    "hash": "c06c66e20c037b5a81ce5a660a92268a8806238f991164e2ce77b648e299b60d"
   }
  }
 },
 "nbformat": 4,
 "nbformat_minor": 4
}
