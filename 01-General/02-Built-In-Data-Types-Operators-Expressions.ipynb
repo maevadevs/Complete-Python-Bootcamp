{
 "cells": [
  {
   "cell_type": "markdown",
   "metadata": {},
   "source": [
    "# Built-In Data Types, Operators, and Expressions\n",
    "---"
   ]
  },
  {
   "cell_type": "markdown",
   "metadata": {},
   "source": [
    "**Table of Contents**<a id='toc0_'></a>    \n",
    "- [Built-In Data Types Overview](#toc1_)    \n",
    "  - [Integer](#toc1_1_)    \n",
    "  - [Floating Point](#toc1_2_)    \n",
    "  - [Boolean](#toc1_3_)    \n",
    "  - [String](#toc1_4_)    \n",
    "  - [List](#toc1_5_)    \n",
    "  - [Tuple](#toc1_6_)    \n",
    "  - [Dictionary](#toc1_7_)    \n",
    "  - [Complex Number](#toc1_8_)    \n",
    "  - [Range](#toc1_9_)    \n",
    "  - [Set](#toc1_10_)    \n",
    "  - [Frozenset](#toc1_11_)    \n",
    "  - [Bytes](#toc1_12_)    \n",
    "  - [Bytearray](#toc1_13_)    \n",
    "  - [Memory View](#toc1_14_)    \n",
    "- [Operators and Expressions](#toc2_)    \n",
    "\n",
    "<!-- vscode-jupyter-toc-config\n",
    "\tnumbering=false\n",
    "\tanchor=true\n",
    "\tflat=false\n",
    "\tminLevel=2\n",
    "\tmaxLevel=6\n",
    "\t/vscode-jupyter-toc-config -->\n",
    "<!-- THIS CELL WILL BE REPLACED ON TOC UPDATE. DO NOT WRITE YOUR TEXT IN THIS CELL -->"
   ]
  },
  {
   "attachments": {},
   "cell_type": "markdown",
   "metadata": {},
   "source": [
    "---"
   ]
  },
  {
   "cell_type": "markdown",
   "metadata": {},
   "source": [
    "## <a id='toc1_'></a>Built-In Data Types Overview [&#8593;](#toc0_)"
   ]
  },
  {
   "attachments": {},
   "cell_type": "markdown",
   "metadata": {},
   "source": [
    "Data Type|Class|Mutable?|Example\n",
    ":-|:-|:-|:-\n",
    "Integer|`int`|N|`-9`, `50`, `0x4F`, `0o77`, `0b1101`\n",
    "Floating Point|`float`|N|`2.3`, `-79.0`, `17.045E-03`, `5e-05`\n",
    "Boolean|`bool`|N|`True`, `False`\n",
    "String|`str`|N|`\"Hello world!\"`, `'Hi!'`\n",
    "List|`list`|Y|`[1, 2, 3, 4]`\n",
    "Tuple|`tuple`|N|`(10, \"hello\", 200.90)`\n",
    "Dictionary|`dict`|Y|`{fname: \"john\", lname: \"smith\"}`\n",
    "Complex Number|`complex`|N|`2j+5`\n",
    "Range|`range`|N|`range(50)`\n",
    "Set|`set`|Y|`{\"a\", \"b\"}`\n",
    "Frozen Set|`frozenset`|N|`frozenset({\"apple\", \"banana\", \"cherry\"})`\n",
    "Bytes|`bytes`|N|`b\"Hello\"`\n",
    "ByteArray|`bytearray`|Y|`bytearray(5)`\n",
    "Memory View|`memoryview`|Y|`memoryview(bytes(5))`"
   ]
  },
  {
   "cell_type": "markdown",
   "metadata": {},
   "source": [
    "### <a id='toc1_1_'></a>Integer [&#8593;](#toc0_)"
   ]
  },
  {
   "cell_type": "code",
   "execution_count": 1,
   "metadata": {},
   "outputs": [
    {
     "name": "stdout",
     "output_type": "stream",
     "text": [
      "Negative Integer: -9\n",
      "Positive Integer: 50\n",
      "Hexadecimal: 79\n",
      "Octal: 63\n",
      "Binary: 13\n"
     ]
    }
   ],
   "source": [
    "from typing import Final\n",
    "\n",
    "A: Final[int] = -9     # Base 10, Negatives Integer\n",
    "B: Final[int] = 50     # Base 10, Positives Integer\n",
    "C: Final[int] = 0x4F   # Hexadecimals\n",
    "D: Final[int] = 0o77   # Octal\n",
    "E: Final[int] = 0b1101 # Binary\n",
    "\n",
    "print(\"Negative Integer:\", A)\n",
    "print(\"Positive Integer:\", B)\n",
    "print(\"Hexadecimal:\", C)\n",
    "print(\"Octal:\", D)\n",
    "print(\"Binary:\", E)"
   ]
  },
  {
   "cell_type": "markdown",
   "metadata": {},
   "source": [
    "### <a id='toc1_2_'></a>Floating Point [&#8593;](#toc0_)"
   ]
  },
  {
   "cell_type": "code",
   "execution_count": 2,
   "metadata": {},
   "outputs": [
    {
     "name": "stdout",
     "output_type": "stream",
     "text": [
      "Negative Float: -25.45\n",
      "Positive Float: 17.4\n",
      "Scientific Notation: 1.7045e-09\n"
     ]
    }
   ],
   "source": [
    "from typing import Final\n",
    "\n",
    "F: Final[float] = -25.45       # Base 10, Negative Float\n",
    "G: Final[float] = 17.4         # Base 10, Positive Float\n",
    "H: Final[float] = 17.045e-10   # Base 10, Scientific Notation\n",
    "\n",
    "print(\"Negative Float:\", F)\n",
    "print(\"Positive Float:\", G)\n",
    "print(\"Scientific Notation:\", H)"
   ]
  },
  {
   "cell_type": "markdown",
   "metadata": {},
   "source": [
    "### <a id='toc1_3_'></a>Boolean [&#8593;](#toc0_)"
   ]
  },
  {
   "cell_type": "code",
   "execution_count": 3,
   "metadata": {},
   "outputs": [
    {
     "name": "stdout",
     "output_type": "stream",
     "text": [
      "True\n",
      "False\n"
     ]
    }
   ],
   "source": [
    "from typing import Final\n",
    "\n",
    "I: Final[bool] = True\n",
    "J: Final[bool] = False\n",
    "\n",
    "print(I)\n",
    "print(J)"
   ]
  },
  {
   "cell_type": "markdown",
   "metadata": {},
   "source": [
    "### <a id='toc1_4_'></a>String [&#8593;](#toc0_)"
   ]
  },
  {
   "cell_type": "code",
   "execution_count": 4,
   "metadata": {},
   "outputs": [
    {
     "name": "stdout",
     "output_type": "stream",
     "text": [
      "Hello World\n",
      "Hello World\n",
      "C\n",
      "y\n"
     ]
    }
   ],
   "source": [
    "from typing import Final\n",
    "\n",
    "K: Final[str] = 'Hello World' # Single Quotes\n",
    "L: Final[str] = \"Hello World\" # Double Quotes\n",
    "M: Final[str] = 'C' # Single Character, Single Quotes\n",
    "N: Final[str] = \"y\" # Single Character, Double Quotes\n",
    "\n",
    "print(K)\n",
    "print(L)\n",
    "print(M)\n",
    "print(N)"
   ]
  },
  {
   "cell_type": "markdown",
   "metadata": {},
   "source": [
    "### <a id='toc1_5_'></a>List [&#8593;](#toc0_)"
   ]
  },
  {
   "cell_type": "code",
   "execution_count": 5,
   "metadata": {},
   "outputs": [
    {
     "name": "stdout",
     "output_type": "stream",
     "text": [
      "['a', 'b', 'c', 1, 2, 3.4, True, False, {}, [], (), 1, 0]\n"
     ]
    }
   ],
   "source": [
    "from typing import Any, List, Final\n",
    "\n",
    "A_LIST: Final[List[Any]] = [\"a\", \"b\", \"c\", 1, 2, 3.4, True, False, {}, [], (), 1, 0] # True and False same as 1 and 0\n",
    "print(A_LIST)"
   ]
  },
  {
   "cell_type": "markdown",
   "metadata": {},
   "source": [
    "### <a id='toc1_6_'></a>Tuple [&#8593;](#toc0_)"
   ]
  },
  {
   "cell_type": "code",
   "execution_count": 6,
   "metadata": {},
   "outputs": [
    {
     "name": "stdout",
     "output_type": "stream",
     "text": [
      "(1, 2, 3)\n",
      "('a', 200, True)\n"
     ]
    }
   ],
   "source": [
    "from typing import Final, Tuple\n",
    "\n",
    "A_TUPLE: Final[Tuple[int,...]] = (1, 2, 3) # With parenthesis\n",
    "B_TUPLE: Final[Tuple[str,int,bool]] = \"a\", 200, True # Without parenthesis\n",
    "\n",
    "print(A_TUPLE)\n",
    "print(B_TUPLE)"
   ]
  },
  {
   "cell_type": "markdown",
   "metadata": {},
   "source": [
    "### <a id='toc1_7_'></a>Dictionary [&#8593;](#toc0_)"
   ]
  },
  {
   "cell_type": "code",
   "execution_count": 7,
   "metadata": {},
   "outputs": [
    {
     "name": "stdout",
     "output_type": "stream",
     "text": [
      "string_dict: {'fname': 'John', 'lname': 'Doe'}\n",
      "num_dict: {1: 'Mary', 2: 'John', 3: 'Sally'}\n"
     ]
    }
   ],
   "source": [
    "from typing import Dict, Final\n",
    "\n",
    "# Strings as keys\n",
    "STRING_DICT: Final[Dict[str, str]]  = { \n",
    "    \"fname\": \"John\", \n",
    "    \"lname\": \"Doe\" \n",
    "}\n",
    "\n",
    "# Integers as keys\n",
    "NUM_DICT: Final[Dict[int, str]] = { \n",
    "    1: \"Mary\", \n",
    "    2: \"John\", \n",
    "    3: \"Sally\" \n",
    "}\n",
    "\n",
    "print(\"string_dict:\", STRING_DICT)\n",
    "print(\"num_dict:\", NUM_DICT)"
   ]
  },
  {
   "cell_type": "markdown",
   "metadata": {},
   "source": [
    "### <a id='toc1_8_'></a>Complex Number [&#8593;](#toc0_)"
   ]
  },
  {
   "cell_type": "code",
   "execution_count": 8,
   "metadata": {},
   "outputs": [
    {
     "name": "stdout",
     "output_type": "stream",
     "text": [
      "(5+4j)\n",
      "Real Portion: 5.0\n",
      "Imaginary Portion: 4.0\n",
      "Conjugate: (5-4j)\n",
      "Phase: 0.6747409422235526\n"
     ]
    }
   ],
   "source": [
    "# Library for working with complex numbers\n",
    "from cmath import phase\n",
    "from typing import Final\n",
    "\n",
    "CP: Final[complex] = complex(5,4)\n",
    "\n",
    "print(CP)\n",
    "print(f\"Real Portion: {CP.real}\")\n",
    "print(f\"Imaginary Portion: {CP.imag}\")\n",
    "print(f\"Conjugate: {CP.conjugate()}\")\n",
    "print(f\"Phase: {phase(CP)}\")"
   ]
  },
  {
   "cell_type": "markdown",
   "metadata": {},
   "source": [
    "### <a id='toc1_9_'></a>Range [&#8593;](#toc0_)"
   ]
  },
  {
   "cell_type": "code",
   "execution_count": 9,
   "metadata": {},
   "outputs": [
    {
     "name": "stdout",
     "output_type": "stream",
     "text": [
      "<class 'range'>\n",
      "0 1 2 3 4 "
     ]
    }
   ],
   "source": [
    "from typing import Final, Iterable\n",
    "\n",
    "RG: Final[Iterable[int]] = range(5)\n",
    "print(type(RG))\n",
    "\n",
    "for num in RG:\n",
    "    print(num, end=\" \")"
   ]
  },
  {
   "cell_type": "code",
   "execution_count": 10,
   "metadata": {},
   "outputs": [
    {
     "name": "stdout",
     "output_type": "stream",
     "text": [
      "1 : 10\n",
      "2 : 12\n",
      "3 : 14\n",
      "4 : 16\n",
      "5 : 18\n",
      "6 : 20\n"
     ]
    }
   ],
   "source": [
    "for i, num in enumerate(range(10, 20+1, 2)):\n",
    "    print(i+1, \":\", num)"
   ]
  },
  {
   "cell_type": "markdown",
   "metadata": {},
   "source": [
    "### <a id='toc1_10_'></a>Set [&#8593;](#toc0_)"
   ]
  },
  {
   "cell_type": "code",
   "execution_count": 11,
   "metadata": {},
   "outputs": [
    {
     "name": "stdout",
     "output_type": "stream",
     "text": [
      "{11, 12, 13}\n"
     ]
    }
   ],
   "source": [
    "from typing import Final\n",
    "\n",
    "X: Final[set] = set()\n",
    "\n",
    "X.add(11)\n",
    "X.add(12)\n",
    "X.add(13)\n",
    "X.add(12)\n",
    "X.add(11)\n",
    "\n",
    "print(X)"
   ]
  },
  {
   "cell_type": "markdown",
   "metadata": {},
   "source": [
    "### <a id='toc1_11_'></a>Frozenset [&#8593;](#toc0_)"
   ]
  },
  {
   "attachments": {},
   "cell_type": "markdown",
   "metadata": {},
   "source": [
    "- Same as `set` but immutable"
   ]
  },
  {
   "cell_type": "code",
   "execution_count": 12,
   "metadata": {},
   "outputs": [
    {
     "name": "stdout",
     "output_type": "stream",
     "text": [
      "frozenset({11, 12, 13})\n"
     ]
    }
   ],
   "source": [
    "from typing import Final\n",
    "\n",
    "Y: Final[frozenset[int]] = frozenset({11, 12, 13, 12, 11})\n",
    "\n",
    "print(Y)"
   ]
  },
  {
   "cell_type": "markdown",
   "metadata": {},
   "source": [
    "### <a id='toc1_12_'></a>Bytes [&#8593;](#toc0_)"
   ]
  },
  {
   "attachments": {},
   "cell_type": "markdown",
   "metadata": {},
   "source": [
    "- Immutable sequence of integers in the range $0 <= x < 256$"
   ]
  },
  {
   "cell_type": "code",
   "execution_count": 13,
   "metadata": {},
   "outputs": [
    {
     "name": "stdout",
     "output_type": "stream",
     "text": [
      "b'Python is interesting'\n",
      "b'\\x00\\x00\\x00\\x00\\x00\\x00\\x00\\x00\\x00\\x00'\n",
      "b'\\x01\\x02\\x03\\x04\\x05'\n"
     ]
    }
   ],
   "source": [
    "from typing import Final\n",
    "\n",
    "# String to byte\n",
    "BTS_STR: Final[bytes] = bytes(\"Python is interesting\", encoding=\"utf-8\")\n",
    "print(BTS_STR)\n",
    "\n",
    "# Int to byte\n",
    "BTS_INT: Final[bytes] = bytes(10)\n",
    "print(BTS_INT)\n",
    "\n",
    "# List of int or bool to byte\n",
    "BTS_LST: Final[bytes] = bytes([1, 2, 3, 4, 5])\n",
    "print(BTS_LST)"
   ]
  },
  {
   "cell_type": "markdown",
   "metadata": {},
   "source": [
    "### <a id='toc1_13_'></a>Bytearray [&#8593;](#toc0_)"
   ]
  },
  {
   "attachments": {},
   "cell_type": "markdown",
   "metadata": {},
   "source": [
    "- Mutable sequence of integers in the range $0 <= x < 256$"
   ]
  },
  {
   "cell_type": "code",
   "execution_count": 14,
   "metadata": {},
   "outputs": [
    {
     "name": "stdout",
     "output_type": "stream",
     "text": [
      "bytearray(b'Python is interesting')\n",
      "bytearray(b'\\x00\\x00\\x00\\x00\\x00\\x00\\x00\\x00\\x00\\x00')\n",
      "bytearray(b'\\x01\\x02\\x03\\x04\\x05')\n"
     ]
    }
   ],
   "source": [
    "from typing import Final\n",
    "\n",
    "# String to bytearray\n",
    "BTARR_STR: Final[bytearray] = bytearray(\"Python is interesting\", encoding=\"utf-8\")\n",
    "print(BTARR_STR)\n",
    "\n",
    "# Int to bytearray\n",
    "BTARR_INT: Final[bytearray] = bytearray(10)\n",
    "print(BTARR_INT)\n",
    "\n",
    "# List of int or bool to bytearray\n",
    "BTARR_LST: Final[bytearray] = bytearray([1, 2, 3, 4, 5])\n",
    "print(BTARR_LST)"
   ]
  },
  {
   "cell_type": "markdown",
   "metadata": {},
   "source": [
    "### <a id='toc1_14_'></a>Memory View [&#8593;](#toc0_)"
   ]
  },
  {
   "attachments": {},
   "cell_type": "markdown",
   "metadata": {},
   "source": [
    "- Safe way to expose the buffer protocol in Python\n",
    "- Access the internal buffers of an object\n",
    "- *Buffer Protocol* \n",
    "  - Provides a way to access the internal data of an object\n",
    "  - Allows one object to expose its internal data (buffers)\n",
    "  - Allows another object to access those buffers without intermediate copying\n",
    "  - Only accessible to us at the C-API level and not using normal codebase\n",
    "- Why it is important\n",
    "  - Some actions on an object needs Python to create a copy of the object\n",
    "  - For some big data, this is a waste\n",
    "  - With *Buffer Protocol*, we can use/modify the large data without copying it\n",
    "- **Only works on `bytes` or `byteaaray` objects**"
   ]
  },
  {
   "cell_type": "code",
   "execution_count": 15,
   "metadata": {},
   "outputs": [
    {
     "name": "stdout",
     "output_type": "stream",
     "text": [
      "1\n",
      "b'\\x01\\x02\\x03\\x04\\x05'\n",
      "[6, 7, 8, 9, 0]\n"
     ]
    }
   ],
   "source": [
    "from typing import Final, List\n",
    "\n",
    "LS: Final[List[int]] = [1, 2, 3, 4, 5, 6, 7, 8, 9, 0]\n",
    "MV: Final[memoryview] = memoryview(bytearray(LS))\n",
    "\n",
    "print(MV[0])\n",
    "print(bytes(MV[0:5]))\n",
    "print(list(MV[5:10]))"
   ]
  },
  {
   "cell_type": "code",
   "execution_count": 16,
   "metadata": {},
   "outputs": [
    {
     "name": "stdout",
     "output_type": "stream",
     "text": [
      "Before update: bytearray(b'ABC')\n",
      "After update: bytearray(b'AZC')\n"
     ]
    }
   ],
   "source": [
    "byte_array: bytearray = bytearray(\"ABC\", \"utf-8\")\n",
    "print(\"Before update:\", byte_array)\n",
    "\n",
    "mv: memoryview = memoryview(byte_array)\n",
    "# update 1st index of mv to Z\n",
    "mv[1] = 90\n",
    "print(\"After update:\", byte_array)"
   ]
  },
  {
   "cell_type": "markdown",
   "metadata": {},
   "source": [
    "## <a id='toc2_'></a>Operators and Expressions [&#8593;](#toc0_)"
   ]
  },
  {
   "attachments": {},
   "cell_type": "markdown",
   "metadata": {},
   "source": [
    "- *Operators* \n",
    "  - Functionality that do something\n",
    "  - Can be represented by symbols or special keywords\n",
    "  - Require some data to operate on: *Operands*\n",
    "- *Expressions*\n",
    "  - Produce a value\n",
    "  - Composed of *Operators* and *Operands*"
   ]
  },
  {
   "attachments": {},
   "cell_type": "markdown",
   "metadata": {},
   "source": [
    "Operators|Meaning\n",
    ":-|:-\n",
    "`(expr),[expr], {key: value}, {expr}`|Binding or parenthesized expression, list display, dictionary display, set display\n",
    "`x[index], x[index:index], x(args), x.attr`|Subscription, slicing, call, attribute reference\n",
    "`await`|Await expression\n",
    "`**`|Exponent\n",
    "`+x`, `-x`, `~x`|Unary plus, Unary minus, Bitwise NOT\n",
    "`*`, `@`, `/`, `//`, `%`|Multiplication, Matrix-Multiplication, Division, Floor division, Modulus\n",
    "`+`, `-`|Addition, Subtraction\n",
    "`<<`, `>>`|Bitwise shift operators\n",
    "`&`|Bitwise AND\n",
    "`^`|Bitwise XOR\n",
    "`\\|`|Bitwise OR\n",
    "`==`, `!=`, `>`, `>=`, `<`, `<=`, `is`, `is not`, `in`, `not in`|Comparisons, Identity, Membership operators\n",
    "`not`|Logical NOT\n",
    "`and`|Logical AND\n",
    "`or`|Logical OR\n",
    "`if`,`else`|Conditional\n",
    "`lambda`|Lambda/Anonymous Function\n",
    "`=`, `+=`, `-=`|Assignment"
   ]
  }
 ],
 "metadata": {
  "kernelspec": {
   "display_name": "venv310",
   "language": "python",
   "name": "python3"
  },
  "language_info": {
   "codemirror_mode": {
    "name": "ipython",
    "version": 3
   },
   "file_extension": ".py",
   "mimetype": "text/x-python",
   "name": "python",
   "nbconvert_exporter": "python",
   "pygments_lexer": "ipython3",
   "version": "3.11.2"
  },
  "orig_nbformat": 4,
  "vscode": {
   "interpreter": {
    "hash": "6e400aa61d85e496d68b2399928a7ddcb9f74ee26aa2584481c22b89bfb1eab7"
   }
  }
 },
 "nbformat": 4,
 "nbformat_minor": 2
}
