{
 "cells": [
  {
   "attachments": {},
   "cell_type": "markdown",
   "metadata": {},
   "source": [
    "# List And Object Comprehension\n",
    "---"
   ]
  },
  {
   "attachments": {},
   "cell_type": "markdown",
   "metadata": {},
   "source": [
    "**Table of Contents**<a id=\"toc0_\"></a>    \n",
    "- [Examples](#toc1_)    \n",
    "- [List Comprehension With Conditionals](#toc2_)    \n",
    "- [Nested List Comprehension](#toc3_)    \n",
    "- [Dictionary Comprehension](#toc4_)    \n",
    "\n",
    "<!-- vscode-jupyter-toc-config\n",
    "\tnumbering=false\n",
    "\tanchor=true\n",
    "\tflat=false\n",
    "\tminLevel=2\n",
    "\tmaxLevel=6\n",
    "\t/vscode-jupyter-toc-config -->\n",
    "<!-- THIS CELL WILL BE REPLACED ON TOC UPDATE. DO NOT WRITE YOUR TEXT IN THIS CELL -->"
   ]
  },
  {
   "attachments": {},
   "cell_type": "markdown",
   "metadata": {},
   "source": [
    "---"
   ]
  },
  {
   "attachments": {},
   "cell_type": "markdown",
   "metadata": {},
   "source": [
    "- Deconstructed `for` loops that are shortcut to generate list\n",
    "- Very familiar to `array.map()`"
   ]
  },
  {
   "attachments": {},
   "cell_type": "markdown",
   "metadata": {},
   "source": [
    "## <a id=\"toc1_\"></a>Examples [&#8593;](#toc0_)"
   ]
  },
  {
   "cell_type": "code",
   "execution_count": 1,
   "metadata": {},
   "outputs": [],
   "source": [
    "from typing import (\n",
    "    Final,\n",
    "    Literal,\n",
    "    List,\n",
    "    TypeAlias\n",
    ")\n",
    "# ENUM-TYPES\n",
    "EvenOddEnum: TypeAlias = Literal[\"ODD\", \"EVEN\"]"
   ]
  },
  {
   "cell_type": "code",
   "execution_count": 2,
   "metadata": {},
   "outputs": [
    {
     "name": "stdout",
     "output_type": "stream",
     "text": [
      "['w', 'o', 'r', 'd']\n"
     ]
    }
   ],
   "source": [
    "# Grab every letter in string\n",
    "LETTERS: Final[List[str]] = [letter for letter in \"Word\".lower()]\n",
    "print(LETTERS)"
   ]
  },
  {
   "cell_type": "code",
   "execution_count": 3,
   "metadata": {},
   "outputs": [
    {
     "name": "stdout",
     "output_type": "stream",
     "text": [
      "['w', 'o', 'r', 'd']\n"
     ]
    }
   ],
   "source": [
    "# Equivalent in for-loop: Grab every letter in string\n",
    "letters: List[str] = []\n",
    "\n",
    "for ltr in \"Word\".lower():\n",
    "    letters.append(ltr)\n",
    "\n",
    "print(letters)"
   ]
  },
  {
   "cell_type": "code",
   "execution_count": 4,
   "metadata": {},
   "outputs": [
    {
     "name": "stdout",
     "output_type": "stream",
     "text": [
      "[0, 1, 4, 9, 16, 25, 36, 49, 64, 81, 100]\n"
     ]
    }
   ],
   "source": [
    "# Square numbers in range and turn into list\n",
    "SQUARED: Final[List[int]] = [x**2 for x in range(0,11)]\n",
    "print(SQUARED)"
   ]
  },
  {
   "cell_type": "code",
   "execution_count": 5,
   "metadata": {},
   "outputs": [
    {
     "name": "stdout",
     "output_type": "stream",
     "text": [
      "[0, 1, 4, 9, 16, 25, 36, 49, 64, 81, 100]\n"
     ]
    }
   ],
   "source": [
    "# Equivalent for loop: Square numbers in range and turn into list\n",
    "squared: List[int] = []\n",
    "\n",
    "for x in range(0,11):\n",
    "    squared.append(x**2)\n",
    "\n",
    "print(squared)"
   ]
  },
  {
   "attachments": {},
   "cell_type": "markdown",
   "metadata": {},
   "source": [
    "## <a id=\"toc2_\"></a>List Comprehension With Conditionals [&#8593;](#toc0_)"
   ]
  },
  {
   "cell_type": "markdown",
   "metadata": {},
   "source": [
    "- We can add conditioning with `if` statement in generating the list members\n",
    "- Pyhonic code might be `for`-loops if the condition is too involved\n",
    "- `if-else` is also possible with a reversed order"
   ]
  },
  {
   "cell_type": "code",
   "execution_count": 6,
   "metadata": {},
   "outputs": [
    {
     "name": "stdout",
     "output_type": "stream",
     "text": [
      "[0, 2, 4, 6, 8, 10, 12, 14, 16, 18, 20, 22, 24, 26, 28, 30, 32, 34, 36, 38, 40, 42, 44, 46, 48, 50, 52, 54, 56]\n"
     ]
    }
   ],
   "source": [
    "# Get even numbers from 0 up to 56, inclusive\n",
    "EVEN_UPTO_56: Final[List[int]] = [x for x in range(57) if x % 2 == 0]\n",
    "print(EVEN_UPTO_56)"
   ]
  },
  {
   "cell_type": "code",
   "execution_count": 7,
   "metadata": {},
   "outputs": [
    {
     "name": "stdout",
     "output_type": "stream",
     "text": [
      "[0, 2, 4, 6, 8, 10, 12, 14, 16, 18, 20, 22, 24, 26, 28, 30, 32, 34, 36, 38, 40, 42, 44, 46, 48, 50, 52, 54, 56]\n"
     ]
    }
   ],
   "source": [
    "# Equivalent for loop: Get even numbers from 0 up to 56, inclusive\n",
    "even_upto_56: List[int] = []\n",
    "\n",
    "for x in range(57):\n",
    "    if x % 2 == 0:\n",
    "        even_upto_56.append(x)\n",
    "\n",
    "print(even_upto_56)"
   ]
  },
  {
   "cell_type": "code",
   "execution_count": 8,
   "metadata": {},
   "outputs": [
    {
     "name": "stdout",
     "output_type": "stream",
     "text": [
      "['EVEN', 'ODD', 'EVEN', 'ODD', 'EVEN', 'ODD', 'EVEN', 'ODD', 'EVEN', 'ODD']\n"
     ]
    }
   ],
   "source": [
    "# List comprehension with if-else: Order is reversed\n",
    "EVEN_ODDS: Final[List[EvenOddEnum]] = [\"EVEN\" if x % 2 == 0 else \"ODD\" for x in range(10)]\n",
    "print(EVEN_ODDS)"
   ]
  },
  {
   "cell_type": "code",
   "execution_count": 9,
   "metadata": {},
   "outputs": [
    {
     "name": "stdout",
     "output_type": "stream",
     "text": [
      "['EVEN', 'ODD', 'EVEN', 'ODD', 'EVEN', 'ODD', 'EVEN', 'ODD', 'EVEN', 'ODD']\n"
     ]
    }
   ],
   "source": [
    "# Equivalent in for loop: List comprehension with if-else\n",
    "even_odds: List[EvenOddEnum] = []\n",
    "\n",
    "for x in range(10):\n",
    "    if x % 2 == 0:\n",
    "        even_odds.append(\"EVEN\")\n",
    "    else:\n",
    "        even_odds.append(\"ODD\")\n",
    "\n",
    "print(even_odds)"
   ]
  },
  {
   "cell_type": "code",
   "execution_count": 10,
   "metadata": {},
   "outputs": [
    {
     "name": "stdout",
     "output_type": "stream",
     "text": [
      "[32.0, 50.0, 68.18, 94.1]\n"
     ]
    }
   ],
   "source": [
    "# Convert Celsius to Fahrenheit\n",
    "CELSIUS: Final[List[float]] = [0, 10, 20.1, 34.5]\n",
    "FAHRENHEITS: Final[List[float]] = [((float(9)/float(5)) * temp + 32) for temp in CELSIUS]\n",
    "print(FAHRENHEITS)"
   ]
  },
  {
   "cell_type": "code",
   "execution_count": 11,
   "metadata": {},
   "outputs": [
    {
     "name": "stdout",
     "output_type": "stream",
     "text": [
      "[32.0, 50.0, 68.18, 94.1]\n"
     ]
    }
   ],
   "source": [
    "# Equivalent in for loop: Convert Celsius to Fahrenheit\n",
    "cels: List[float] = [0, 10, 20.1, 34.5]\n",
    "fahrs: List[float] = []\n",
    "\n",
    "for cel in cels:\n",
    "    fahr = (float(9)/float(5)) * cel + 32\n",
    "    fahrs.append(fahr)\n",
    "\n",
    "print(fahrs)"
   ]
  },
  {
   "attachments": {},
   "cell_type": "markdown",
   "metadata": {},
   "source": [
    "## <a id=\"toc3_\"></a>Nested List Comprehension [&#8593;](#toc0_)"
   ]
  },
  {
   "cell_type": "markdown",
   "metadata": {},
   "source": [
    "- This is debattable if it is readable at all"
   ]
  },
  {
   "cell_type": "code",
   "execution_count": 12,
   "metadata": {},
   "outputs": [
    {
     "name": "stdout",
     "output_type": "stream",
     "text": [
      "[0, 1, 16, 81, 256, 625, 1296, 2401, 4096, 6561, 10000]\n"
     ]
    }
   ],
   "source": [
    "# (x^2)^2\n",
    "DOUBLE_SQUARED: Final[List[int]] = [n**2 for n in [m**2 for m in range(11)]]\n",
    "print(DOUBLE_SQUARED)"
   ]
  },
  {
   "attachments": {},
   "cell_type": "markdown",
   "metadata": {},
   "source": [
    "- We could break down each of the comprehension into its own variable"
   ]
  },
  {
   "cell_type": "code",
   "execution_count": 13,
   "metadata": {},
   "outputs": [
    {
     "name": "stdout",
     "output_type": "stream",
     "text": [
      "[0, 1, 16, 81, 256, 625, 1296, 2401, 4096, 6561, 10000]\n"
     ]
    }
   ],
   "source": [
    "# (x^2)\n",
    "SQUARED_LS: Final[List[int]] = [m**2 for m in range(11)]\n",
    "# (x^2)^2\n",
    "DOUBLE_SQUARED_VW: Final[List[int]] = [n**2 for n in SQUARED_LS]\n",
    "print(DOUBLE_SQUARED_VW)"
   ]
  },
  {
   "cell_type": "code",
   "execution_count": 14,
   "metadata": {},
   "outputs": [
    {
     "name": "stdout",
     "output_type": "stream",
     "text": [
      "[0, 1, 16, 81, 256, 625, 1296, 2401, 4096, 6561, 10000]\n"
     ]
    }
   ],
   "source": [
    "# Equivalent in for-loop:\n",
    "squared_ls: List[int] = []\n",
    "double_squared: List[int] = []\n",
    "\n",
    "# [y**2 for y in range(11)]\n",
    "for y in range(11):\n",
    "    squared_ls.append(y**2)\n",
    "\n",
    "# x**2 for x in [y**2 for y in xrange(11)]\n",
    "for x in squared_ls:\n",
    "    double_squared.append(x**2)\n",
    "\n",
    "print(double_squared)"
   ]
  },
  {
   "attachments": {},
   "cell_type": "markdown",
   "metadata": {},
   "source": [
    "## <a id=\"toc4_\"></a>Dictionary Comprehension [&#8593;](#toc0_)"
   ]
  },
  {
   "cell_type": "markdown",
   "metadata": {},
   "source": [
    "- It is possible to make dictionary comprehension using `enumerate()` and `zip()`\n",
    "- We just need to specify the key and the value"
   ]
  },
  {
   "cell_type": "code",
   "execution_count": 15,
   "metadata": {},
   "outputs": [
    {
     "name": "stdout",
     "output_type": "stream",
     "text": [
      "{'zero': 0, 'one': 1, 'two': 2, 'three': 3, 'four': 4}\n"
     ]
    }
   ],
   "source": [
    "# Mapping a list into a dictionary: Using enumerate()\n",
    "SAMPLE_LST: Final[List[str]] = [\"zero\", \"one\", \"two\", \"three\", \"four\"]\n",
    "SAMPLE_DICT: Final[dict[str, int]] = { value:index for (index, value) in enumerate(SAMPLE_LST) }\n",
    "print(SAMPLE_DICT)"
   ]
  },
  {
   "cell_type": "code",
   "execution_count": 16,
   "metadata": {},
   "outputs": [
    {
     "name": "stdout",
     "output_type": "stream",
     "text": [
      "{'first': 'bacon', 'second': 'lettuce', 'third': 'tomato', 'fourth': 'egg'}\n"
     ]
    }
   ],
   "source": [
    "# Mapping 2 lists into a single dictionary: Using zip()\n",
    "LIST_1: Final[List[str]] = [\"first\", \"second\", \"third\", \"fourth\"]\n",
    "LIST_2: Final[List[str]] = [\"bacon\", \"lettuce\", \"tomato\", \"egg\"]\n",
    "DICT: Final[dict[str, str]] = {k: v for (k, v) in zip(LIST_1, LIST_2)}\n",
    "print(DICT)"
   ]
  }
 ],
 "metadata": {
  "hide_input": false,
  "kernelspec": {
   "display_name": "venv",
   "language": "python",
   "name": "python3"
  },
  "language_info": {
   "codemirror_mode": {
    "name": "ipython",
    "version": 3
   },
   "file_extension": ".py",
   "mimetype": "text/x-python",
   "name": "python",
   "nbconvert_exporter": "python",
   "pygments_lexer": "ipython3",
   "version": "3.11.2"
  },
  "toc": {
   "base_numbering": 1,
   "nav_menu": {},
   "number_sections": true,
   "sideBar": true,
   "skip_h1_title": true,
   "title_cell": "Table of Contents",
   "title_sidebar": "Contents",
   "toc_cell": true,
   "toc_position": {},
   "toc_section_display": true,
   "toc_window_display": true
  },
  "varInspector": {
   "cols": {
    "lenName": 16,
    "lenType": 16,
    "lenVar": 40
   },
   "kernels_config": {
    "python": {
     "delete_cmd_postfix": "",
     "delete_cmd_prefix": "del ",
     "library": "var_list.py",
     "varRefreshCmd": "print(var_dic_list())"
    },
    "r": {
     "delete_cmd_postfix": ") ",
     "delete_cmd_prefix": "rm(",
     "library": "var_list.r",
     "varRefreshCmd": "cat(var_dic_list()) "
    }
   },
   "types_to_exclude": [
    "module",
    "function",
    "builtin_function_or_method",
    "instance",
    "_Feature"
   ],
   "window_display": false
  },
  "vscode": {
   "interpreter": {
    "hash": "c06c66e20c037b5a81ce5a660a92268a8806238f991164e2ce77b648e299b60d"
   }
  }
 },
 "nbformat": 4,
 "nbformat_minor": 4
}
