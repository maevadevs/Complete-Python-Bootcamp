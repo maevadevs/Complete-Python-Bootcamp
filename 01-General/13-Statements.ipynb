{
 "cells": [
  {
   "cell_type": "markdown",
   "metadata": {},
   "source": [
    "# Statements\n",
    "---"
   ]
  },
  {
   "cell_type": "markdown",
   "metadata": {},
   "source": [
    "**Table of Contents**<a id='toc0_'></a>    \n",
    "- [Python vs Other Languages](#toc1_)    \n",
    "- [Indentation](#toc2_)    \n",
    "\n",
    "<!-- vscode-jupyter-toc-config\n",
    "\tnumbering=false\n",
    "\tanchor=true\n",
    "\tflat=false\n",
    "\tminLevel=2\n",
    "\tmaxLevel=6\n",
    "\t/vscode-jupyter-toc-config -->\n",
    "<!-- THIS CELL WILL BE REPLACED ON TOC UPDATE. DO NOT WRITE YOUR TEXT IN THIS CELL -->"
   ]
  },
  {
   "attachments": {},
   "cell_type": "markdown",
   "metadata": {},
   "source": [
    "---"
   ]
  },
  {
   "attachments": {},
   "cell_type": "markdown",
   "metadata": {},
   "source": [
    "- Emphasize differences between Python and other languages such as C++\n",
    "- Learning about statements will allow to be able to read other languages more easily in the future"
   ]
  },
  {
   "cell_type": "markdown",
   "metadata": {},
   "source": [
    "## <a id='toc1_'></a>Python vs Other Languages [&#8593;](#toc0_)"
   ]
  },
  {
   "attachments": {},
   "cell_type": "markdown",
   "metadata": {},
   "source": [
    "- A simple statement: `If a is greater than b, assign 2 to a and 4 to b`\n",
    "\n",
    "```c\n",
    "// Other Languages, e.g. C/C++/C#\n",
    "if (a > b) \n",
    "{\n",
    "    a = 2;\n",
    "    b = 4;\n",
    "}\n",
    "```\n",
    "\n",
    "```python\n",
    "# Python\n",
    "if a > b:\n",
    "    a = 2\n",
    "    b = 4\n",
    "```"
   ]
  },
  {
   "cell_type": "markdown",
   "metadata": {},
   "source": [
    "- Python is less cluttered and much more readable than the first version\n",
    "- Python gets rid of `()` and `{}` and instead uses `:` and `whitespace`\n",
    "  - Whitespace indentation is used to describe what takes place in a statement block\n",
    "- Python gets rid of `;`\n",
    "  - The end of a line (`\\n`) is the same as the end of a statement"
   ]
  },
  {
   "cell_type": "markdown",
   "metadata": {},
   "source": [
    "## <a id='toc2_'></a>Indentation [&#8593;](#toc0_)"
   ]
  },
  {
   "attachments": {},
   "cell_type": "markdown",
   "metadata": {},
   "source": [
    "- Python is heavily driven by code indentation and whitespace\n",
    "- Code readability is a core part of the design of the Python language\n",
    "- *Python is function-scoped, not block-scoped*"
   ]
  },
  {
   "attachments": {},
   "cell_type": "markdown",
   "metadata": {},
   "source": [
    "```c\n",
    "// Other Languages, e.g. C/C++/C#\n",
    "if (x) \n",
    "{\n",
    "    if (y) \n",
    "    {\n",
    "        code-statement;\n",
    "    }\n",
    "}\n",
    "else \n",
    "{\n",
    "    another-code-statement;\n",
    "}\n",
    "```\n",
    "```python       \n",
    "# Python\n",
    "if x:\n",
    "    if y:\n",
    "        code-statement\n",
    "else:\n",
    "    another-code-statement\n",
    "```"
   ]
  }
 ],
 "metadata": {
  "hide_input": false,
  "kernelspec": {
   "display_name": "venv",
   "language": "python",
   "name": "python3"
  },
  "language_info": {
   "codemirror_mode": {
    "name": "ipython",
    "version": 3
   },
   "file_extension": ".py",
   "mimetype": "text/x-python",
   "name": "python",
   "nbconvert_exporter": "python",
   "pygments_lexer": "ipython3",
   "version": "3.11.2"
  },
  "toc": {
   "base_numbering": 1,
   "nav_menu": {},
   "number_sections": true,
   "sideBar": true,
   "skip_h1_title": true,
   "title_cell": "Table of Contents",
   "title_sidebar": "Contents",
   "toc_cell": true,
   "toc_position": {},
   "toc_section_display": true,
   "toc_window_display": true
  },
  "varInspector": {
   "cols": {
    "lenName": 16,
    "lenType": 16,
    "lenVar": 40
   },
   "kernels_config": {
    "python": {
     "delete_cmd_postfix": "",
     "delete_cmd_prefix": "del ",
     "library": "var_list.py",
     "varRefreshCmd": "print(var_dic_list())"
    },
    "r": {
     "delete_cmd_postfix": ") ",
     "delete_cmd_prefix": "rm(",
     "library": "var_list.r",
     "varRefreshCmd": "cat(var_dic_list()) "
    }
   },
   "types_to_exclude": [
    "module",
    "function",
    "builtin_function_or_method",
    "instance",
    "_Feature"
   ],
   "window_display": false
  },
  "vscode": {
   "interpreter": {
    "hash": "c06c66e20c037b5a81ce5a660a92268a8806238f991164e2ce77b648e299b60d"
   }
  }
 },
 "nbformat": 4,
 "nbformat_minor": 4
}
