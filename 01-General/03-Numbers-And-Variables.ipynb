{
 "cells": [
  {
   "cell_type": "markdown",
   "metadata": {},
   "source": [
    "# Numbers and Variables\n",
    "---"
   ]
  },
  {
   "cell_type": "markdown",
   "metadata": {},
   "source": [
    "**Table of Contents**<a id='toc0_'></a>    \n",
    "- [Types of Numbers ](#toc1_)    \n",
    "- [Basic Arithmetics ](#toc2_)    \n",
    "  - [Problem With IEEE 754 Floating-Point Standard ](#toc2_1_)    \n",
    "- [Type Casting To/From Numbers ](#toc3_)    \n",
    "- [Variable Assignment ](#toc4_)    \n",
    "- [Checking Variable Types ](#toc5_)    \n",
    "- [Identifier Nomenclature ](#toc6_)    \n",
    "\n",
    "<!-- vscode-jupyter-toc-config\n",
    "\tnumbering=false\n",
    "\tanchor=true\n",
    "\tflat=false\n",
    "\tminLevel=2\n",
    "\tmaxLevel=6\n",
    "\t/vscode-jupyter-toc-config -->\n",
    "<!-- THIS CELL WILL BE REPLACED ON TOC UPDATE. DO NOT WRITE YOUR TEXT IN THIS CELL -->"
   ]
  },
  {
   "attachments": {},
   "cell_type": "markdown",
   "metadata": {},
   "source": [
    "---"
   ]
  },
  {
   "cell_type": "markdown",
   "metadata": {},
   "source": [
    "## <a id='toc1_'></a>Types of Numbers  [&#8593;](#toc0_)"
   ]
  },
  {
   "attachments": {},
   "cell_type": "markdown",
   "metadata": {},
   "source": [
    "- **Integer**\n",
    "  - Whole numbers, positive or negative. E.g: 0, 1, 2, -2, -3...\n",
    "  - **Integers in Python are unbounded and unlimited**\n",
    "  - Only limited by the amount of memory on the system"
   ]
  },
  {
   "cell_type": "code",
   "execution_count": 1,
   "metadata": {},
   "outputs": [
    {
     "name": "stdout",
     "output_type": "stream",
     "text": [
      "123 <class 'int'>\n",
      "-456 <class 'int'>\n"
     ]
    }
   ],
   "source": [
    "print(123, type(123))\n",
    "print(-456, type(-456))"
   ]
  },
  {
   "attachments": {},
   "cell_type": "markdown",
   "metadata": {},
   "source": [
    "- **Floating Point**\n",
    "  - Decimal point, or use an exponential `e` to define the number. E.g: 2.0, -2.1, 4e2 ($4\\times10^2$)"
   ]
  },
  {
   "cell_type": "code",
   "execution_count": 2,
   "metadata": {},
   "outputs": [
    {
     "name": "stdout",
     "output_type": "stream",
     "text": [
      "400.0 <class 'float'>\n",
      "-200000.0 <class 'float'>\n"
     ]
    }
   ],
   "source": [
    "# 4 * 10^2 = 400.0\n",
    "print(4e2, type(4e2))\n",
    "# -2 * 10^5 = 200000.0\n",
    "print(-2e5, type(2e5))"
   ]
  },
  {
   "cell_type": "markdown",
   "metadata": {},
   "source": [
    "## <a id='toc2_'></a>Basic Arithmetics  [&#8593;](#toc0_)"
   ]
  },
  {
   "cell_type": "code",
   "execution_count": 3,
   "metadata": {},
   "outputs": [
    {
     "name": "stdout",
     "output_type": "stream",
     "text": [
      "3\n"
     ]
    }
   ],
   "source": [
    "# Addition\n",
    "print(2 + 1)"
   ]
  },
  {
   "cell_type": "code",
   "execution_count": 4,
   "metadata": {},
   "outputs": [
    {
     "name": "stdout",
     "output_type": "stream",
     "text": [
      "1\n"
     ]
    }
   ],
   "source": [
    "# Subtraction\n",
    "print(2 - 1)"
   ]
  },
  {
   "cell_type": "code",
   "execution_count": 5,
   "metadata": {},
   "outputs": [
    {
     "name": "stdout",
     "output_type": "stream",
     "text": [
      "4\n"
     ]
    }
   ],
   "source": [
    "# Multiplication\n",
    "print(2 * 2)"
   ]
  },
  {
   "cell_type": "code",
   "execution_count": 6,
   "metadata": {},
   "outputs": [
    {
     "name": "stdout",
     "output_type": "stream",
     "text": [
      "1.5\n"
     ]
    }
   ],
   "source": [
    "# Real Division\n",
    "print(3 / 2)"
   ]
  },
  {
   "cell_type": "code",
   "execution_count": 7,
   "metadata": {},
   "outputs": [
    {
     "name": "stdout",
     "output_type": "stream",
     "text": [
      "1\n"
     ]
    }
   ],
   "source": [
    "# Floor Division\n",
    "print(3 // 2)"
   ]
  },
  {
   "cell_type": "code",
   "execution_count": 8,
   "metadata": {},
   "outputs": [
    {
     "name": "stdout",
     "output_type": "stream",
     "text": [
      "3\n"
     ]
    }
   ],
   "source": [
    "# Modulo\n",
    "print(7 % 4)"
   ]
  },
  {
   "cell_type": "code",
   "execution_count": 9,
   "metadata": {},
   "outputs": [
    {
     "name": "stdout",
     "output_type": "stream",
     "text": [
      "8\n"
     ]
    }
   ],
   "source": [
    "# Exponent\n",
    "print(2**3)"
   ]
  },
  {
   "cell_type": "code",
   "execution_count": 10,
   "metadata": {},
   "outputs": [
    {
     "name": "stdout",
     "output_type": "stream",
     "text": [
      "2.0\n"
     ]
    }
   ],
   "source": [
    "# Square Root of 4\n",
    "print(4**(1 / 2))"
   ]
  },
  {
   "cell_type": "code",
   "execution_count": 11,
   "metadata": {},
   "outputs": [
    {
     "name": "stdout",
     "output_type": "stream",
     "text": [
      "3.0\n"
     ]
    }
   ],
   "source": [
    "# Cubic Root of 27\n",
    "print(27**(1 / 3))"
   ]
  },
  {
   "cell_type": "code",
   "execution_count": 12,
   "metadata": {},
   "outputs": [
    {
     "name": "stdout",
     "output_type": "stream",
     "text": [
      "5.0\n"
     ]
    }
   ],
   "source": [
    "# Fourth Root of 625\n",
    "print(625**(1 / 4))"
   ]
  },
  {
   "cell_type": "code",
   "execution_count": 13,
   "metadata": {},
   "outputs": [
    {
     "name": "stdout",
     "output_type": "stream",
     "text": [
      "105\n"
     ]
    }
   ],
   "source": [
    "# Order of Operations: PEMDAS - Standard Math\n",
    "print(2 + 10 * 10 + 3)"
   ]
  },
  {
   "cell_type": "code",
   "execution_count": 14,
   "metadata": {},
   "outputs": [
    {
     "name": "stdout",
     "output_type": "stream",
     "text": [
      "156\n"
     ]
    }
   ],
   "source": [
    "# Use parenthesis to specify priority: PEMDAS - Standard Math\n",
    "print((2 + 10) * (10 + 3))"
   ]
  },
  {
   "cell_type": "markdown",
   "metadata": {},
   "source": [
    "### <a id='toc2_1_'></a>Problem With IEEE 754 Floating-Point Standard  [&#8593;](#toc0_)"
   ]
  },
  {
   "attachments": {},
   "cell_type": "markdown",
   "metadata": {},
   "source": [
    "- Similar to all other programming languages (Java, C, JavaScript, Haskell, Julia, Scala...)\n",
    "- It has the same problem with floating points\n",
    "- Consider this: Technically, `x` should be `0` here..."
   ]
  },
  {
   "cell_type": "code",
   "execution_count": 15,
   "metadata": {},
   "outputs": [
    {
     "name": "stdout",
     "output_type": "stream",
     "text": [
      "5.551115123125783e-17\n"
     ]
    }
   ],
   "source": [
    "x = 0.1 + 0.2 - 0.3\n",
    "print(x)"
   ]
  },
  {
   "cell_type": "markdown",
   "metadata": {},
   "source": [
    "- It is close, but it is NOT EXACTLY `0.00`"
   ]
  },
  {
   "cell_type": "code",
   "execution_count": 16,
   "metadata": {},
   "outputs": [
    {
     "name": "stdout",
     "output_type": "stream",
     "text": [
      "False\n"
     ]
    }
   ],
   "source": [
    "print(x == 0)"
   ]
  },
  {
   "attachments": {},
   "cell_type": "markdown",
   "metadata": {},
   "source": [
    "- Floating-point arithmetic is a tricky subject\n",
    "- https://docs.python.org/3/tutorial/floatingpoint.html"
   ]
  },
  {
   "cell_type": "markdown",
   "metadata": {},
   "source": [
    "## <a id='toc3_'></a>Type Casting To/From Numbers  [&#8593;](#toc0_)"
   ]
  },
  {
   "attachments": {},
   "cell_type": "markdown",
   "metadata": {},
   "source": [
    "- We can convert other data types into numbers using `int()` or `float()`\n",
    "- We can convert numbers into string using `str()`\n",
    "- `str()` is automatically called when a string is needed"
   ]
  },
  {
   "cell_type": "code",
   "execution_count": 17,
   "metadata": {},
   "outputs": [
    {
     "name": "stdout",
     "output_type": "stream",
     "text": [
      "3.14 <class 'float'>\n",
      "3 <class 'int'>\n",
      "3.14 <class 'str'>\n"
     ]
    }
   ],
   "source": [
    "print(float(\"3.14\"), type(float(\"3.14\")))\n",
    "print(int(\"3\"), type(int(\"3\")))\n",
    "print(str(3.14), type(str(3.14)))"
   ]
  },
  {
   "cell_type": "markdown",
   "metadata": {},
   "source": [
    "## <a id='toc4_'></a>Variable Assignment  [&#8593;](#toc0_)"
   ]
  },
  {
   "attachments": {},
   "cell_type": "markdown",
   "metadata": {},
   "source": [
    "- Use `=`\n",
    "- Names given to data to store and manipulate in programs\n",
    "- Allocate a certain area of storage space to store this data\n",
    "- Access and modify this data by referring to it by its name\n",
    "- **All variable declarations require an initial value**\n",
    "- By default, Python variables are *local*\n",
    "- Use the `global` keyword to make a variable *global*"
   ]
  },
  {
   "cell_type": "code",
   "execution_count": 18,
   "metadata": {},
   "outputs": [
    {
     "name": "stdout",
     "output_type": "stream",
     "text": [
      "10\n"
     ]
    }
   ],
   "source": [
    "a: int = 5\n",
    "print(a + a)"
   ]
  },
  {
   "cell_type": "code",
   "execution_count": 19,
   "metadata": {},
   "outputs": [
    {
     "name": "stdout",
     "output_type": "stream",
     "text": [
      "50\n"
     ]
    }
   ],
   "source": [
    "# Re-assignement\n",
    "a = 50\n",
    "print(a)"
   ]
  },
  {
   "cell_type": "code",
   "execution_count": 20,
   "metadata": {},
   "outputs": [
    {
     "name": "stdout",
     "output_type": "stream",
     "text": [
      "30\n",
      "john.test\n"
     ]
    }
   ],
   "source": [
    "# Declare with types without errors\n",
    "user_age: int\n",
    "user_name: str\n",
    "\n",
    "# Tuple variable assignment\n",
    "user_age, user_name = 30, \"john.test\"\n",
    "\n",
    "print(user_age)\n",
    "print(user_name)"
   ]
  },
  {
   "cell_type": "code",
   "execution_count": 21,
   "metadata": {},
   "outputs": [
    {
     "name": "stdout",
     "output_type": "stream",
     "text": [
      "100\n"
     ]
    }
   ],
   "source": [
    "# Re-assignement using self\n",
    "a = a + a\n",
    "print(a)"
   ]
  },
  {
   "cell_type": "code",
   "execution_count": 22,
   "metadata": {},
   "outputs": [
    {
     "name": "stdout",
     "output_type": "stream",
     "text": [
      "200\n"
     ]
    }
   ],
   "source": [
    "# There is a shortcut for add-and-assign as well\n",
    "a += a\n",
    "print(a)"
   ]
  },
  {
   "cell_type": "markdown",
   "metadata": {},
   "source": [
    "## <a id='toc5_'></a>Checking Variable Types  [&#8593;](#toc0_)"
   ]
  },
  {
   "cell_type": "markdown",
   "metadata": {},
   "source": [
    "- Use `type()` to check the type of a variable"
   ]
  },
  {
   "cell_type": "code",
   "execution_count": 23,
   "metadata": {},
   "outputs": [
    {
     "name": "stdout",
     "output_type": "stream",
     "text": [
      "type(a): <class 'int'>\n",
      "type(b): <class 'float'>\n",
      "type(c): <class 'bool'>\n"
     ]
    }
   ],
   "source": [
    "from typing import Final\n",
    "\n",
    "AN_INT: Final[int] = 1\n",
    "A_FLOAT: Final[float] = 1.2\n",
    "A_BOOL: Final[bool] = True\n",
    "\n",
    "print(\"type(a):\", type(AN_INT))\n",
    "print(\"type(b):\", type(A_FLOAT))\n",
    "print(\"type(c):\", type(A_BOOL))"
   ]
  },
  {
   "cell_type": "markdown",
   "metadata": {},
   "source": [
    "## <a id='toc6_'></a>Identifier Nomenclature  [&#8593;](#toc0_)"
   ]
  },
  {
   "attachments": {},
   "cell_type": "markdown",
   "metadata": {},
   "source": [
    "- Case-sensitive\n",
    "- Can only contain letters, numbers, or underscore\n",
    "- Cannot start with a number\n",
    "- There can be no spaces in the name\n",
    "  - `snake_casing` is preferred over `camelCasing`\n",
    "- Cannot contain any of these symbols : `\" \" , < > / ? | \\ ( ) ! @ # $ % ^ & * ~ - +`\n",
    "- Cannot be any of Python's keywords"
   ]
  },
  {
   "cell_type": "code",
   "execution_count": 24,
   "metadata": {},
   "outputs": [
    {
     "name": "stdout",
     "output_type": "stream",
     "text": [
      "There are 35 Keywords in Python 3.10.10:\n",
      "and // as // assert // async // await // break // class // continue // def // del // elif // else // except // False // finally // for // from // global // if // import // in // is // lambda // None // nonlocal // not // or // pass // raise // return // True // try // while // with // yield\n"
     ]
    }
   ],
   "source": [
    "# Import needed modules\n",
    "from keyword import kwlist\n",
    "from platform import python_version\n",
    "from typing import Final, List, Tuple\n",
    "\n",
    "# Build the list\n",
    "LOWERED_KWS: Final[List[Tuple[str, str]]] = list(map(lambda kw: (kw, kw.lower()), kwlist))\n",
    "SORTED_LOWERED_KWS: Final[List[Tuple[str, str]]] = sorted(LOWERED_KWS, key=lambda tup: tup[1])\n",
    "SORTED_KWS: Final[List[str]] = [kw for (kw, _) in SORTED_LOWERED_KWS]\n",
    "\n",
    "# Print the summary\n",
    "print(f\"There are {len(SORTED_KWS)} Keywords in Python {python_version()}:\")\n",
    "\n",
    "# Print the list of keywords\n",
    "print(\" // \".join(SORTED_KWS))"
   ]
  },
  {
   "attachments": {},
   "cell_type": "markdown",
   "metadata": {},
   "source": [
    "- It is considered best practice (PEP8) that the names are lowercase and using `_`\n",
    "- **But for classes, use `PascalCasing`**\n",
    "- For constants, use `ALL_UPPER_CASE`"
   ]
  },
  {
   "cell_type": "code",
   "execution_count": 25,
   "metadata": {},
   "outputs": [
    {
     "name": "stdout",
     "output_type": "stream",
     "text": [
      "My Taxes are $10.00\n"
     ]
    }
   ],
   "source": [
    "from typing import Final\n",
    "\n",
    "MY_INCOME: Final[int] = 100\n",
    "TAX_RATE: Final[float] = 0.1\n",
    "MY_TAX: Final[float] = MY_INCOME * TAX_RATE\n",
    "\n",
    "print(f\"My Taxes are ${MY_TAX:0.2f}\")"
   ]
  }
 ],
 "metadata": {
  "hide_input": false,
  "kernelspec": {
   "display_name": "venv310",
   "language": "python",
   "name": "python3"
  },
  "language_info": {
   "codemirror_mode": {
    "name": "ipython",
    "version": 3
   },
   "file_extension": ".py",
   "mimetype": "text/x-python",
   "name": "python",
   "nbconvert_exporter": "python",
   "pygments_lexer": "ipython3",
   "version": "3.10.10"
  },
  "toc": {
   "base_numbering": 1,
   "nav_menu": {},
   "number_sections": true,
   "sideBar": true,
   "skip_h1_title": true,
   "title_cell": "Table of Contents",
   "title_sidebar": "Contents",
   "toc_cell": true,
   "toc_position": {},
   "toc_section_display": true,
   "toc_window_display": true
  },
  "varInspector": {
   "cols": {
    "lenName": 16,
    "lenType": 16,
    "lenVar": 40
   },
   "kernels_config": {
    "python": {
     "delete_cmd_postfix": "",
     "delete_cmd_prefix": "del ",
     "library": "var_list.py",
     "varRefreshCmd": "print(var_dic_list())"
    },
    "r": {
     "delete_cmd_postfix": ") ",
     "delete_cmd_prefix": "rm(",
     "library": "var_list.r",
     "varRefreshCmd": "cat(var_dic_list()) "
    }
   },
   "types_to_exclude": [
    "module",
    "function",
    "builtin_function_or_method",
    "instance",
    "_Feature"
   ],
   "window_display": false
  },
  "vscode": {
   "interpreter": {
    "hash": "6e400aa61d85e496d68b2399928a7ddcb9f74ee26aa2584481c22b89bfb1eab7"
   }
  }
 },
 "nbformat": 4,
 "nbformat_minor": 4
}
