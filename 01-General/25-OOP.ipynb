{
 "cells": [
  {
   "cell_type": "markdown",
   "metadata": {
    "toc": true
   },
   "source": [
    "<h1>Table of Contents<span class=\"tocSkip\"></span></h1>\n",
    "<div class=\"toc\"><ul class=\"toc-item\"><li><span><a href=\"#Object\" data-toc-modified-id=\"Object-1\"><span class=\"toc-item-num\">1&nbsp;&nbsp;</span>Object</a></span></li><li><span><a href=\"#Class\" data-toc-modified-id=\"Class-2\"><span class=\"toc-item-num\">2&nbsp;&nbsp;</span>Class</a></span><ul class=\"toc-item\"><li><span><a href=\"#Class-Attributes\" data-toc-modified-id=\"Class-Attributes-2.1\"><span class=\"toc-item-num\">2.1&nbsp;&nbsp;</span>Class Attributes</a></span></li></ul></li><li><span><a href=\"#Methods\" data-toc-modified-id=\"Methods-3\"><span class=\"toc-item-num\">3&nbsp;&nbsp;</span>Methods</a></span></li><li><span><a href=\"#Inheritance\" data-toc-modified-id=\"Inheritance-4\"><span class=\"toc-item-num\">4&nbsp;&nbsp;</span>Inheritance</a></span></li><li><span><a href=\"#Polymorphism-&amp;-Abstract-Class\" data-toc-modified-id=\"Polymorphism-&amp;-Abstract-Class-5\"><span class=\"toc-item-num\">5&nbsp;&nbsp;</span>Polymorphism &amp; Abstract Class</a></span></li><li><span><a href=\"#Special-Methods\" data-toc-modified-id=\"Special-Methods-6\"><span class=\"toc-item-num\">6&nbsp;&nbsp;</span>Special Methods</a></span></li><li><span><a href=\"#__init__(),-``__str__(),-__len__()-and-the-__del__()-Methods\" data-toc-modified-id=\"__init__(),-``__str__(),-__len__()-and-the-__del__()-Methods-7\"><span class=\"toc-item-num\">7&nbsp;&nbsp;</span><code>__init__(), ``__str__()</code>, <code>__len__()</code> and the <code>__del__()</code> Methods</a></span></li></ul></div>"
   ]
  },
  {
   "cell_type": "markdown",
   "metadata": {},
   "source": [
    "# Object-Oriented Programming"
   ]
  },
  {
   "cell_type": "markdown",
   "metadata": {},
   "source": [
    "- For more great resources on this topic, check out:\n",
    "  - [Jeff Knupp's Post](https://www.jeffknupp.com/blog/2014/06/18/improve-your-python-python-classes-and-object-oriented-programming)\n",
    "  - [Mozilla's Post](https://developer.mozilla.org/en-US/Learn/Python/Quickly_Learn_Object_Oriented_Programming)\n",
    "  - [Tutorial's Point](http://www.tutorialspoint.com/python/python_classes_objects.htm)\n",
    "  - [Official Documentation](https://docs.python.org/2/tutorial/classes.html)"
   ]
  },
  {
   "cell_type": "markdown",
   "metadata": {},
   "source": [
    "## Object"
   ]
  },
  {
   "cell_type": "markdown",
   "metadata": {},
   "source": [
    "- In Python, everything is an object with a class"
   ]
  },
  {
   "cell_type": "code",
   "execution_count": 1,
   "metadata": {},
   "outputs": [
    {
     "name": "stdout",
     "output_type": "stream",
     "text": [
      "type(1): <class 'int'>\n",
      "type(1.0): <class 'float'>\n",
      "type('Hi!'): <class 'str'>\n",
      "type([]): <class 'list'>\n",
      "type(()): <class 'tuple'>\n",
      "type((1, 2, 3)): <class 'tuple'>\n",
      "type({}): <class 'dict'>\n",
      "type(True): <class 'bool'>\n",
      "type(len): <class 'builtin_function_or_method'>\n",
      "type(greetings()):  <class 'function'>\n"
     ]
    }
   ],
   "source": [
    "print(\"type(1):\", str(type(1)))\n",
    "print(\"type(1.0):\", str(type(1.0)))\n",
    "print(\"type('Hi!'):\", str(type(\"Hi!\")))\n",
    "print(\"type([]):\", str(type([])))\n",
    "print(\"type(()):\", str(type(())))\n",
    "print(\"type((1, 2, 3)):\", str(type((1, 2, 3))))\n",
    "print(\"type({}):\", str(type({})))\n",
    "print(\"type(True):\", str(type(True)))\n",
    "print(\"type(len):\", str(type(len)))\n",
    "greetings = lambda : \"hello world!\"\n",
    "print(\"type(greetings()): \", str(type(greetings)))"
   ]
  },
  {
   "cell_type": "markdown",
   "metadata": {},
   "source": [
    "## Class"
   ]
  },
  {
   "cell_type": "markdown",
   "metadata": {},
   "source": [
    "- For creating user-defined objects\n",
    "- At the beginning of the blueprint, `pass` can be used as a reminder\n",
    "- By convention, we give classes a name that starts with a capital letter\n",
    "- An attribute/property is a characteristic of an object\n",
    "- A method is an operation we can perform with the object"
   ]
  },
  {
   "cell_type": "code",
   "execution_count": 2,
   "metadata": {},
   "outputs": [],
   "source": [
    "# Create a new class type called Sample\n",
    "class Sample:\n",
    "    pass"
   ]
  },
  {
   "cell_type": "code",
   "execution_count": 3,
   "metadata": {},
   "outputs": [
    {
     "name": "stdout",
     "output_type": "stream",
     "text": [
      "type(mySample): <class '__main__.Sample'>\n"
     ]
    }
   ],
   "source": [
    "# Instance of Sample\n",
    "mySample = Sample()\n",
    "print('type(mySample):', type(mySample))"
   ]
  },
  {
   "cell_type": "markdown",
   "metadata": {},
   "source": [
    "### Class Attributes"
   ]
  },
  {
   "cell_type": "markdown",
   "metadata": {},
   "source": [
    "```python\n",
    "self.attribute = something\n",
    "```\n",
    "\n",
    "- `__init__()`: used to initialize the attributes of an object (constructor), called automatically right after the object has been created\n",
    "  - We can set default with assignements in the attribute\n",
    "  - All defaulted arguments need to be after non-default arguments\n",
    "- All methods in a class will have `self` as its first param (explicit)\n",
    "- By convention, it is `self`"
   ]
  },
  {
   "cell_type": "code",
   "execution_count": 4,
   "metadata": {},
   "outputs": [],
   "source": [
    "class Dog:\n",
    "  \n",
    "    # Class instance attribute initializer (Constructor)  \n",
    "    def __init__(self, breed):\n",
    "        self.breed = breed\n",
    "\n",
    "    # Method\n",
    "    def introduce(self):\n",
    "        print('This is a', self.breed)"
   ]
  },
  {
   "cell_type": "code",
   "execution_count": 5,
   "metadata": {},
   "outputs": [
    {
     "name": "stdout",
     "output_type": "stream",
     "text": [
      "This is a Lab\n",
      "This is a Huskie\n"
     ]
    }
   ],
   "source": [
    "# Initializing the method attributes of the object instance\n",
    "sam = Dog(breed='Lab')\n",
    "frank = Dog('Huskie')\n",
    "\n",
    "sam.introduce()\n",
    "frank.introduce()"
   ]
  },
  {
   "cell_type": "markdown",
   "metadata": {},
   "source": [
    "- Class Attributes are the same for any instance of the class (Static)\n",
    "- Class Attribute is defined outside of any methods in the class\n",
    "- Also by convention, we place them first before the ini"
   ]
  },
  {
   "cell_type": "code",
   "execution_count": 6,
   "metadata": {},
   "outputs": [],
   "source": [
    "class Cat:\n",
    "    # Class Object Attribute (Static)\n",
    "    species = 'mammal' # A dog is always a mammal\n",
    "    \n",
    "    # Methods\n",
    "    def __init__(self, breed, name=\"John\"): \n",
    "        self.breed = breed\n",
    "        self.name = name\n",
    "    \n",
    "    def introduce(self):\n",
    "        return f'My name is {self.name} and I am a {self.breed}'"
   ]
  },
  {
   "cell_type": "code",
   "execution_count": 7,
   "metadata": {},
   "outputs": [
    {
     "name": "stdout",
     "output_type": "stream",
     "text": [
      "My name is John and I am a Cat\n",
      "My name is Sam and I am a Dog\n",
      "john'species: mammal\n",
      "sam'species: mammal\n"
     ]
    }
   ],
   "source": [
    "john = Cat(breed='Cat')\n",
    "sam = Cat(breed='Dog', name='Sam')\n",
    "\n",
    "print(john.introduce())\n",
    "print(sam.introduce())\n",
    "\n",
    "print('john\\'species:', john.species)\n",
    "print('sam\\'species:', sam.species)"
   ]
  },
  {
   "cell_type": "markdown",
   "metadata": {},
   "source": [
    "## Methods"
   ]
  },
  {
   "cell_type": "markdown",
   "metadata": {},
   "source": [
    "- Essential in `encapsulation concept` of the OOP paradigm\n",
    "- Essential in dividing responsibilities in programming, especially in large applications\n",
    "- With Python 3, classes extend the root `object` implicitly\n",
    "  - To signal a class is following this new-style, you have to inherit explicitly from object"
   ]
  },
  {
   "cell_type": "code",
   "execution_count": 8,
   "metadata": {},
   "outputs": [],
   "source": [
    "class Circle:\n",
    "    # Class private static attributes:\n",
    "    # Constants: There is no constant keyword in Python\n",
    "    # Set to private and use getter/No setter\n",
    "    __PI = 3.14 # Pseudo-private, pseudo-constant\n",
    "\n",
    "    # Constant Getters: PI()\n",
    "    def PI(self):\n",
    "        return Circle.__PI\n",
    "\n",
    "    # Constructor:\n",
    "    # Circles get instantiated with a radius (default = 1). \n",
    "    def __init__(self, radius = 1):\n",
    "        # Private Attributes to be accessed with public methods\n",
    "        self.__radius = radius\n",
    "\n",
    "    def setRadius(self, radius):\n",
    "        \"\"\"Takes a new radius and resets the current radius of the circle instance.\"\"\"\n",
    "        self.__radius = radius\n",
    "\n",
    "    # Method for getting radius (Same as just calling .radius for now)\n",
    "    def radius(self):\n",
    "        return self.__radius\n",
    "\n",
    "    # Area method calculates the area. \n",
    "    def area(self):\n",
    "        return self.PI() * (self.radius() ** 2)  # PI * R^2\n",
    "    \n",
    "    # Method to return the perimeter of the circle\n",
    "    def perimeter(self):\n",
    "        return 2 * self.PI() * self.__radius # 2 * PI * R\n",
    "    \n",
    "    # Method toString() for circle\n",
    "    def toString(self):\n",
    "        return \"A circle of radius: {0}, perimeter: {1}, and area: {2}\".format(self.radius(), self.perimeter(), self.area())"
   ]
  },
  {
   "cell_type": "code",
   "execution_count": 9,
   "metadata": {},
   "outputs": [
    {
     "name": "stdout",
     "output_type": "stream",
     "text": [
      "c.PI(): 3.14\n",
      "c: A circle of radius: 2, perimeter: 12.56, and area: 12.56\n",
      "Radius of c is: 2\n",
      "Area of c is: 12.56\n",
      "Perimeter of c is: 12.56\n"
     ]
    }
   ],
   "source": [
    "# Testing: Instantiation\n",
    "c = Circle()\n",
    "print('c.PI():', c.PI())\n",
    "c.setRadius(2)\n",
    "print('c:', c.toString())\n",
    "print(\"Radius of c is: {0}\".format(c.radius()))\n",
    "print(\"Area of c is: {0}\".format(c.area()))\n",
    "print(\"Perimeter of c is: {0}\".format(c.perimeter()))"
   ]
  },
  {
   "cell_type": "markdown",
   "metadata": {},
   "source": [
    "## Inheritance"
   ]
  },
  {
   "cell_type": "markdown",
   "metadata": {},
   "source": [
    "- With Python 3, classes extend the root object implicitly\n",
    "- To signal a class is inheriting from another class, you have to inherit explicitly"
   ]
  },
  {
   "cell_type": "code",
   "execution_count": 10,
   "metadata": {},
   "outputs": [],
   "source": [
    "# Base class: Animal\n",
    "# Implicit inherit from object\n",
    "class Animal:\n",
    "    def __init__(self):\n",
    "        print(\"Animal created.\")\n",
    "\n",
    "    def whoAmI(self):\n",
    "        return \"Animal\"\n",
    "\n",
    "    def eat(self):\n",
    "        return \"Eating\""
   ]
  },
  {
   "cell_type": "code",
   "execution_count": 11,
   "metadata": {},
   "outputs": [],
   "source": [
    "# Subclass of Animal: Duck\n",
    "class Duck(Animal):\n",
    "    # Methods\n",
    "    def __init__(self):\n",
    "        # Call Animal.__init(): Similar to super() in JavaScript\n",
    "        Animal.__init__(self)\n",
    "        print(\"Duck created.\")\n",
    "      \n",
    "    # Overriding Animal.whoAmI()\n",
    "    def whoAmI(self):\n",
    "        return \"Duck\"\n",
    "\n",
    "    # New methods for Ducks only    \n",
    "    def quack(self):\n",
    "        return \"quack! quack!\""
   ]
  },
  {
   "cell_type": "markdown",
   "metadata": {},
   "source": [
    "- Since Duck is also an Animal, it has the same attributes and methods as Animal:\n",
    "  - `Duck.whoAmI()` -> Overriding `Animal.whoAmI()`\n",
    "  - `Duck.quack()` -> New (extended)\n",
    "  - `Duck.eat()` -> Inherited from `Animal`"
   ]
  },
  {
   "cell_type": "code",
   "execution_count": 12,
   "metadata": {},
   "outputs": [
    {
     "name": "stdout",
     "output_type": "stream",
     "text": [
      "Animal created.\n",
      "Duck created.\n",
      "d.whoAmI() Duck\n",
      "d.eat() Eating\n",
      "d.quack() quack! quack!\n"
     ]
    }
   ],
   "source": [
    "# Testing\n",
    "d = Duck()\n",
    "print('d.whoAmI()', d.whoAmI()) # Overridden method from Animal\n",
    "print('d.eat()', d.eat()) # Inherited method from Animal\n",
    "print('d.quack()', d.quack()) # Extend: New class method"
   ]
  },
  {
   "cell_type": "markdown",
   "metadata": {},
   "source": [
    "## Polymorphism & Abstract Class"
   ]
  },
  {
   "cell_type": "markdown",
   "metadata": {},
   "source": [
    "- This could also be the implementation of an interface in Python\n",
    "- We can use an Abstract Base Class"
   ]
  },
  {
   "cell_type": "code",
   "execution_count": 13,
   "metadata": {},
   "outputs": [],
   "source": [
    "# Abstract Class: Base Class\n",
    "class Animus:\n",
    "    def __init__(self, name):\n",
    "        self.name = name\n",
    "\n",
    "    def speak(self):\n",
    "        raise NotImplementedError(\"Subclass of Animus must implement a speak() method\")"
   ]
  },
  {
   "cell_type": "code",
   "execution_count": 14,
   "metadata": {},
   "outputs": [],
   "source": [
    "# Then subclasses can implement this abstract class\n",
    "class Cat(Animus):\n",
    "    def speak(self):\n",
    "        return '{} says miaou!'.format(self.name)\n",
    "\n",
    "class Lion(Animus):\n",
    "    def speak(self):\n",
    "        return '{} says grawoo!'.format(self.name)"
   ]
  },
  {
   "cell_type": "code",
   "execution_count": 15,
   "metadata": {},
   "outputs": [
    {
     "name": "stdout",
     "output_type": "stream",
     "text": [
      "niko.speak(): Niko says miaou!\n",
      "felix.speak(): Felix says grawoo!\n"
     ]
    }
   ],
   "source": [
    "# Testing\n",
    "niko = Cat('Niko')\n",
    "felix = Lion('Felix')\n",
    "\n",
    "print('niko.speak():', niko.speak())\n",
    "print('felix.speak():', felix.speak())"
   ]
  },
  {
   "cell_type": "markdown",
   "metadata": {},
   "source": [
    "## Special Methods"
   ]
  },
  {
   "cell_type": "markdown",
   "metadata": {},
   "source": [
    "- Classes in Python can implement certain operations with special method names\n",
    "- These methods are not actually called directly, but by Python specific language syntax"
   ]
  },
  {
   "cell_type": "code",
   "execution_count": 16,
   "metadata": {},
   "outputs": [],
   "source": [
    "class Book:\n",
    "    # Constructor: __init__()\n",
    "    # Called with Book(title, author, pages)\n",
    "    def __init__(self, title, author, pages):\n",
    "        self.title = title\n",
    "        self.author = author\n",
    "        self.pages = pages\n",
    "        print(\"Creating a new book: {}\".format(self)) # this will call book.__str__()\n",
    "\n",
    "    # __str__()\n",
    "    # Called as the string representation: E.g. when using print(book)\n",
    "    def __str__(self):\n",
    "        return \"Title: '{0}', Author: {1}, Pages: {2}.\".format(self.title, self.author, self.pages)\n",
    "\n",
    "    # __len__()\n",
    "    # Called when using len(book)\n",
    "    def __len__(self):\n",
    "        return self.pages\n",
    "\n",
    "    # __del__()\n",
    "    # Called when using del(book)\n",
    "    # By default, ony calls 'del self'\n",
    "    def __del__(self):\n",
    "        print(\"'{0}' book will be deleted...\".format(self.title))\n",
    "        del self\n",
    "        print(\"Deleted.\")"
   ]
  },
  {
   "cell_type": "code",
   "execution_count": 17,
   "metadata": {},
   "outputs": [
    {
     "name": "stdout",
     "output_type": "stream",
     "text": [
      "Creating a new book: Title: 'Python Rocks!', Author: Jose Portilla, Pages: 159.\n",
      "str(book): Title: 'Python Rocks!', Author: Jose Portilla, Pages: 159.\n",
      "len(book): 159\n",
      "'Python Rocks!' book will be deleted...\n",
      "Deleted.\n"
     ]
    }
   ],
   "source": [
    "# Testing\n",
    "book = Book(\"Python Rocks!\", \"Jose Portilla\", 159)\n",
    "\n",
    "# Special Methods\n",
    "print('str(book):', str(book))\n",
    "print('len(book):', len(book))\n",
    "del(book)"
   ]
  },
  {
   "cell_type": "markdown",
   "metadata": {},
   "source": [
    "## `__init__(), ``__str__()`, `__len__()` and the `__del__()` Methods"
   ]
  },
  {
   "cell_type": "markdown",
   "metadata": {},
   "source": [
    "- These special methods are defined by their use of underscores\n",
    "- They allow us to use Python specific functions on objects created through our class\n",
    "- There are more other methods similar to these\n",
    "\n",
    "```python\n",
    "Constructor   -->  calls   -->   Class.__init__(object)\n",
    "str(object)   -->  calls   -->   Class.__str__(object)\n",
    "len(object)   -->  calls   -->   Class.__len__(object)\n",
    "del(object)   -->  calls   -->   Class.__del__(object)\n",
    "```"
   ]
  }
 ],
 "metadata": {
  "kernelspec": {
   "display_name": "Python 3",
   "language": "python",
   "name": "python3"
  },
  "language_info": {
   "codemirror_mode": {
    "name": "ipython",
    "version": 3
   },
   "file_extension": ".py",
   "mimetype": "text/x-python",
   "name": "python",
   "nbconvert_exporter": "python",
   "pygments_lexer": "ipython3",
   "version": "3.8.2"
  },
  "toc": {
   "base_numbering": 1,
   "nav_menu": {},
   "number_sections": true,
   "sideBar": true,
   "skip_h1_title": true,
   "title_cell": "Table of Contents",
   "title_sidebar": "Contents",
   "toc_cell": true,
   "toc_position": {},
   "toc_section_display": true,
   "toc_window_display": true
  }
 },
 "nbformat": 4,
 "nbformat_minor": 4
}
