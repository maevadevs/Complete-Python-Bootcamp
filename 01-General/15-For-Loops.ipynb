{
 "cells": [
  {
   "cell_type": "markdown",
   "metadata": {},
   "source": [
    "# `for` Loops\n",
    "---"
   ]
  },
  {
   "attachments": {},
   "cell_type": "markdown",
   "metadata": {},
   "source": [
    "**Table of Contents**<a id=\"toc0_\"></a>    \n",
    "- [General Format](#toc1_)    \n",
    "- [Iterating Through A List](#toc2_)    \n",
    "- [Loop With Conditional](#toc3_)    \n",
    "- [Aggregation With Loop](#toc4_)    \n",
    "- [Loop With Strings](#toc5_)    \n",
    "- [Loop With Tuple](#toc6_)    \n",
    "  - [Tuple Unpacking](#toc6_1_)    \n",
    "- [Loop With Objects](#toc7_)    \n",
    "\n",
    "<!-- vscode-jupyter-toc-config\n",
    "\tnumbering=false\n",
    "\tanchor=true\n",
    "\tflat=false\n",
    "\tminLevel=2\n",
    "\tmaxLevel=6\n",
    "\t/vscode-jupyter-toc-config -->\n",
    "<!-- THIS CELL WILL BE REPLACED ON TOC UPDATE. DO NOT WRITE YOUR TEXT IN THIS CELL -->"
   ]
  },
  {
   "attachments": {},
   "cell_type": "markdown",
   "metadata": {},
   "source": [
    "---"
   ]
  },
  {
   "cell_type": "markdown",
   "metadata": {},
   "source": [
    "- Some objects that we can iterate over:\n",
    "  - Strings\n",
    "  - Lists\n",
    "  - Tuples\n",
    "  - Built-in iterables for dictionaries"
   ]
  },
  {
   "cell_type": "code",
   "execution_count": 1,
   "metadata": {},
   "outputs": [],
   "source": [
    "from typing import (\n",
    "    Final, \n",
    "    ItemsView,\n",
    "    KeysView,\n",
    "    List, \n",
    "    Tuple, \n",
    "    ValuesView\n",
    ")"
   ]
  },
  {
   "attachments": {},
   "cell_type": "markdown",
   "metadata": {},
   "source": [
    "## <a id=\"toc1_\"></a>General Format [&#8593;](#toc0_)"
   ]
  },
  {
   "cell_type": "markdown",
   "metadata": {},
   "source": [
    "```python\n",
    "for i in iterable:\n",
    "    statements to do stuff\n",
    "```"
   ]
  },
  {
   "attachments": {},
   "cell_type": "markdown",
   "metadata": {},
   "source": [
    "## <a id=\"toc2_\"></a>Iterating Through A List [&#8593;](#toc0_)"
   ]
  },
  {
   "cell_type": "code",
   "execution_count": 2,
   "metadata": {},
   "outputs": [
    {
     "name": "stdout",
     "output_type": "stream",
     "text": [
      "num in lst: 1\n",
      "num in lst: 2\n",
      "num in lst: 3\n",
      "num in lst: 4\n",
      "num in lst: 5\n",
      "num in lst: 6\n",
      "num in lst: 7\n",
      "num in lst: 8\n",
      "num in lst: 9\n",
      "num in lst: 10\n"
     ]
    }
   ],
   "source": [
    "LST: Final[List[int]] = [1, 2, 3, 4, 5, 6, 7, 8, 9, 10]\n",
    "\n",
    "for num in LST:\n",
    "    print(\"num in lst:\", num)"
   ]
  },
  {
   "attachments": {},
   "cell_type": "markdown",
   "metadata": {},
   "source": [
    "## <a id=\"toc3_\"></a>Loop With Conditional [&#8593;](#toc0_)"
   ]
  },
  {
   "cell_type": "code",
   "execution_count": 3,
   "metadata": {},
   "outputs": [
    {
     "name": "stdout",
     "output_type": "stream",
     "text": [
      "1 -- odd\n",
      "2 -- even\n",
      "3 -- odd\n",
      "4 -- even\n",
      "5 -- odd\n",
      "6 -- even\n",
      "7 -- odd\n",
      "8 -- even\n",
      "9 -- odd\n",
      "10 -- even\n"
     ]
    }
   ],
   "source": [
    "for num in LST:\n",
    "    if num % 2 == 0:\n",
    "        print(num, \"-- even\")\n",
    "    else:\n",
    "        print(num, \"-- odd\")"
   ]
  },
  {
   "attachments": {},
   "cell_type": "markdown",
   "metadata": {},
   "source": [
    "## <a id=\"toc4_\"></a>Aggregation With Loop [&#8593;](#toc0_)"
   ]
  },
  {
   "cell_type": "code",
   "execution_count": 4,
   "metadata": {},
   "outputs": [
    {
     "name": "stdout",
     "output_type": "stream",
     "text": [
      "sum of lst numbers: 55\n"
     ]
    }
   ],
   "source": [
    "num_sum: int = 0\n",
    "\n",
    "for num in LST:\n",
    "    num_sum += num\n",
    "    \n",
    "print(\"sum of lst numbers:\", num_sum)"
   ]
  },
  {
   "attachments": {},
   "cell_type": "markdown",
   "metadata": {},
   "source": [
    "## <a id=\"toc5_\"></a>Loop With Strings [&#8593;](#toc0_)"
   ]
  },
  {
   "cell_type": "code",
   "execution_count": 5,
   "metadata": {},
   "outputs": [
    {
     "name": "stdout",
     "output_type": "stream",
     "text": [
      "letter in string: H\n",
      "letter in string: E\n",
      "letter in string: L\n",
      "letter in string: L\n",
      "letter in string: O\n",
      "letter in string: ,\n",
      "letter in string:  \n",
      "letter in string: E\n",
      "letter in string: A\n",
      "letter in string: R\n",
      "letter in string: T\n",
      "letter in string: H\n",
      "letter in string: !\n"
     ]
    }
   ],
   "source": [
    "for letter in \"Hello, Earth!\".upper():\n",
    "    print(\"letter in string:\", letter)"
   ]
  },
  {
   "attachments": {},
   "cell_type": "markdown",
   "metadata": {},
   "source": [
    "## <a id=\"toc6_\"></a>Loop With Tuple [&#8593;](#toc0_)"
   ]
  },
  {
   "cell_type": "code",
   "execution_count": 6,
   "metadata": {},
   "outputs": [
    {
     "name": "stdout",
     "output_type": "stream",
     "text": [
      "el in tuple: 1\n",
      "el in tuple: 2\n",
      "el in tuple: 3\n",
      "el in tuple: 4\n",
      "el in tuple: 5\n"
     ]
    }
   ],
   "source": [
    "TUP: Final[Tuple[int,...]] = (1, 2, 3, 4, 5)\n",
    "\n",
    "for t in TUP:\n",
    "    print(\"el in tuple:\", t)"
   ]
  },
  {
   "attachments": {},
   "cell_type": "markdown",
   "metadata": {},
   "source": [
    "### <a id=\"toc6_1_\"></a>Tuple Unpacking [&#8593;](#toc0_)"
   ]
  },
  {
   "cell_type": "code",
   "execution_count": 7,
   "metadata": {},
   "outputs": [
    {
     "name": "stdout",
     "output_type": "stream",
     "text": [
      "tuple in ls: (2, 4)\n",
      "tuple in ls: (6, 8)\n",
      "tuple in ls: (10, 12)\n"
     ]
    }
   ],
   "source": [
    "LS: List[Tuple[int, int]] = [(2, 4), (6, 8), (10, 12)]\n",
    "\n",
    "# Without tuple unpacking\n",
    "for tup in LS:\n",
    "    print(\"tuple in ls:\", tup)"
   ]
  },
  {
   "cell_type": "code",
   "execution_count": 8,
   "metadata": {},
   "outputs": [
    {
     "name": "stdout",
     "output_type": "stream",
     "text": [
      "tuple in ls contains: 2 4\n",
      "tuple in ls contains: 6 8\n",
      "tuple in ls contains: 10 12\n"
     ]
    }
   ],
   "source": [
    "# Now with tuple unpacking!\n",
    "for (el1, el2) in LS:\n",
    "    print(f\"tuple in ls contains: {el1} {el2}\")"
   ]
  },
  {
   "cell_type": "markdown",
   "metadata": {},
   "source": [
    "**This is important because many object will deliver their iterables through tuples**"
   ]
  },
  {
   "attachments": {},
   "cell_type": "markdown",
   "metadata": {},
   "source": [
    "## <a id=\"toc7_\"></a>Loop With Objects [&#8593;](#toc0_)"
   ]
  },
  {
   "cell_type": "code",
   "execution_count": 9,
   "metadata": {},
   "outputs": [
    {
     "name": "stdout",
     "output_type": "stream",
     "text": [
      "Key in dict: k1\n",
      "Key in dict: k2\n",
      "Key in dict: k3\n"
     ]
    }
   ],
   "source": [
    "D: Final[dict[str, int]] = {\n",
    "    \"k1\": 1,\n",
    "    \"k2\": 2,\n",
    "    \"k3\": 3\n",
    "}\n",
    "\n",
    "# Returns keys only\n",
    "for eld in D:\n",
    "    print(\"Key in dict:\", eld)"
   ]
  },
  {
   "cell_type": "code",
   "execution_count": 10,
   "metadata": {},
   "outputs": [
    {
     "name": "stdout",
     "output_type": "stream",
     "text": [
      "Value in dict: k1\n",
      "Value in dict: k2\n",
      "Value in dict: k3\n"
     ]
    }
   ],
   "source": [
    "# Accessing the Keys\n",
    "W: Final[KeysView[str]] = D.keys()\n",
    "\n",
    "for elk in W:\n",
    "    print(\"Value in dict:\", elk)"
   ]
  },
  {
   "cell_type": "code",
   "execution_count": 11,
   "metadata": {},
   "outputs": [
    {
     "name": "stdout",
     "output_type": "stream",
     "text": [
      "Value in dict: 1\n",
      "Value in dict: 2\n",
      "Value in dict: 3\n"
     ]
    }
   ],
   "source": [
    "# Accessing the Values\n",
    "X: Final[ValuesView[int]] = D.values()\n",
    "\n",
    "for elv in X:\n",
    "    print(\"Value in dict:\", elv)"
   ]
  },
  {
   "cell_type": "code",
   "execution_count": 12,
   "metadata": {},
   "outputs": [
    {
     "name": "stdout",
     "output_type": "stream",
     "text": [
      "item in dict: dict_items([('k1', 1), ('k2', 2), ('k3', 3)])\n",
      "k1 : 1\n",
      "k2 : 2\n",
      "k3 : 3\n"
     ]
    }
   ],
   "source": [
    "# Accessing the Key-value pair: Generator returning tuples\n",
    "Y: Final[ItemsView[str, int]] = D.items()\n",
    "\n",
    "print(\"item in dict:\", Y)\n",
    "for k,v in Y:\n",
    "    print(f\"{k} : {v}\")"
   ]
  }
 ],
 "metadata": {
  "hide_input": false,
  "kernelspec": {
   "display_name": "venv",
   "language": "python",
   "name": "python3"
  },
  "language_info": {
   "codemirror_mode": {
    "name": "ipython",
    "version": 3
   },
   "file_extension": ".py",
   "mimetype": "text/x-python",
   "name": "python",
   "nbconvert_exporter": "python",
   "pygments_lexer": "ipython3",
   "version": "3.11.2"
  },
  "toc": {
   "base_numbering": 1,
   "nav_menu": {},
   "number_sections": true,
   "sideBar": true,
   "skip_h1_title": true,
   "title_cell": "Table of Contents",
   "title_sidebar": "Contents",
   "toc_cell": true,
   "toc_position": {},
   "toc_section_display": true,
   "toc_window_display": true
  },
  "varInspector": {
   "cols": {
    "lenName": 16,
    "lenType": 16,
    "lenVar": 40
   },
   "kernels_config": {
    "python": {
     "delete_cmd_postfix": "",
     "delete_cmd_prefix": "del ",
     "library": "var_list.py",
     "varRefreshCmd": "print(var_dic_list())"
    },
    "r": {
     "delete_cmd_postfix": ") ",
     "delete_cmd_prefix": "rm(",
     "library": "var_list.r",
     "varRefreshCmd": "cat(var_dic_list()) "
    }
   },
   "types_to_exclude": [
    "module",
    "function",
    "builtin_function_or_method",
    "instance",
    "_Feature"
   ],
   "window_display": false
  },
  "vscode": {
   "interpreter": {
    "hash": "c06c66e20c037b5a81ce5a660a92268a8806238f991164e2ce77b648e299b60d"
   }
  }
 },
 "nbformat": 4,
 "nbformat_minor": 4
}
