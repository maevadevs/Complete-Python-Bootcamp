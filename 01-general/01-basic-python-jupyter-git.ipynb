{
 "cells": [
  {
   "cell_type": "markdown",
   "metadata": {},
   "source": [
    "# Basic Python, Jupyter, and Git"
   ]
  },
  {
   "cell_type": "markdown",
   "metadata": {
    "toc": true
   },
   "source": [
    "<h1>Table of Contents<span class=\"tocSkip\"></span></h1>\n",
    "<div class=\"toc\"><ul class=\"toc-item\"><li><span><a href=\"#About-Python\" data-toc-modified-id=\"About-Python-1\"><span class=\"toc-item-num\">1&nbsp;&nbsp;</span>About Python</a></span></li><li><span><a href=\"#Important-Websites\" data-toc-modified-id=\"Important-Websites-2\"><span class=\"toc-item-num\">2&nbsp;&nbsp;</span>Important Websites</a></span></li><li><span><a href=\"#Python-Reference-Sites\" data-toc-modified-id=\"Python-Reference-Sites-3\"><span class=\"toc-item-num\">3&nbsp;&nbsp;</span>Python Reference Sites</a></span></li><li><span><a href=\"#Why-Python\" data-toc-modified-id=\"Why-Python-4\"><span class=\"toc-item-num\">4&nbsp;&nbsp;</span>Why Python</a></span></li><li><span><a href=\"#Python-Interpreter\" data-toc-modified-id=\"Python-Interpreter-5\"><span class=\"toc-item-num\">5&nbsp;&nbsp;</span>Python Interpreter</a></span></li><li><span><a href=\"#Python-Comments\" data-toc-modified-id=\"Python-Comments-6\"><span class=\"toc-item-num\">6&nbsp;&nbsp;</span>Python Comments</a></span></li><li><span><a href=\"#Python-Docstring-Comments\" data-toc-modified-id=\"Python-Docstring-Comments-7\"><span class=\"toc-item-num\">7&nbsp;&nbsp;</span>Python Docstring Comments</a></span></li><li><span><a href=\"#Reserved-Words\" data-toc-modified-id=\"Reserved-Words-8\"><span class=\"toc-item-num\">8&nbsp;&nbsp;</span>Reserved Words</a></span></li><li><span><a href=\"#Python2-vs-Python3\" data-toc-modified-id=\"Python2-vs-Python3-9\"><span class=\"toc-item-num\">9&nbsp;&nbsp;</span>Python2 vs Python3</a></span><ul class=\"toc-item\"><li><span><a href=\"#Python-2\" data-toc-modified-id=\"Python-2-9.1\"><span class=\"toc-item-num\">9.1&nbsp;&nbsp;</span>Python 2</a></span><ul class=\"toc-item\"><li><span><a href=\"#Advantages-of-Python-2\" data-toc-modified-id=\"Advantages-of-Python-2-9.1.1\"><span class=\"toc-item-num\">9.1.1&nbsp;&nbsp;</span>Advantages of Python 2</a></span></li></ul></li><li><span><a href=\"#Python-3\" data-toc-modified-id=\"Python-3-9.2\"><span class=\"toc-item-num\">9.2&nbsp;&nbsp;</span>Python 3</a></span><ul class=\"toc-item\"><li><span><a href=\"#Advantages-of-Python-3\" data-toc-modified-id=\"Advantages-of-Python-3-9.2.1\"><span class=\"toc-item-num\">9.2.1&nbsp;&nbsp;</span>Advantages of Python 3</a></span></li></ul></li></ul></li><li><span><a href=\"#Basic-Editors\" data-toc-modified-id=\"Basic-Editors-10\"><span class=\"toc-item-num\">10&nbsp;&nbsp;</span>Basic Editors</a></span></li><li><span><a href=\"#Text-Editor-/-DIY-IDE\" data-toc-modified-id=\"Text-Editor-/-DIY-IDE-11\"><span class=\"toc-item-num\">11&nbsp;&nbsp;</span>Text Editor / DIY IDE</a></span></li><li><span><a href=\"#IDE\" data-toc-modified-id=\"IDE-12\"><span class=\"toc-item-num\">12&nbsp;&nbsp;</span>IDE</a></span></li><li><span><a href=\"#Installing-&amp;-Using-Anaconda\" data-toc-modified-id=\"Installing-&amp;-Using-Anaconda-13\"><span class=\"toc-item-num\">13&nbsp;&nbsp;</span>Installing &amp; Using Anaconda</a></span></li><li><span><a href=\"#Using-Jupyter-Notebook\" data-toc-modified-id=\"Using-Jupyter-Notebook-14\"><span class=\"toc-item-num\">14&nbsp;&nbsp;</span>Using Jupyter Notebook</a></span><ul class=\"toc-item\"><li><span><a href=\"#Updating-Jupyter:-Using-Anaconda\" data-toc-modified-id=\"Updating-Jupyter:-Using-Anaconda-14.1\"><span class=\"toc-item-num\">14.1&nbsp;&nbsp;</span>Updating Jupyter: Using Anaconda</a></span></li></ul></li><li><span><a href=\"#Starting-Jupyter-Notebook\" data-toc-modified-id=\"Starting-Jupyter-Notebook-15\"><span class=\"toc-item-num\">15&nbsp;&nbsp;</span>Starting Jupyter Notebook</a></span></li><li><span><a href=\"#Built-In-Data-Types-in-Python\" data-toc-modified-id=\"Built-In-Data-Types-in-Python-16\"><span class=\"toc-item-num\">16&nbsp;&nbsp;</span>Built-In Data Types in Python</a></span></li></ul></div>"
   ]
  },
  {
   "cell_type": "markdown",
   "metadata": {},
   "source": [
    "## About Python"
   ]
  },
  {
   "cell_type": "markdown",
   "metadata": {},
   "source": [
    "- Interpreted\n",
    "- Can be either *Imperative* (*Procedural*, *Object-Oriented*) or *Declarative* (*Functional*)\n",
    "- Many built-in features\n",
    "- Efficient high-level data structures\n",
    "- Effective Object-Oriented programming language\n",
    "- Easiest advanced programming language to learn\n",
    "- Intuitive structures and semantics\n",
    "- Many useful data structures and algorithms built-in"
   ]
  },
  {
   "cell_type": "markdown",
   "metadata": {},
   "source": [
    "## Important Websites\n"
   ]
  },
  {
   "cell_type": "markdown",
   "metadata": {},
   "source": [
    "- [Anaconda](https://www.anaconda.com)\n",
    "- [Jupyter Online](https://jupyter.org/try)\n",
    "- [NoteBook Viewer (Jupyter Notebook Sharing)](https://nbviewer.jupyter.org/)\n",
    "- [Codes For the Course](http://nbviewer.jupyter.org/github/jmportilla/Complete-Python-Bootcamp/tree/master/)\n",
    "- [Jupyter Docs](https://athena.brynmawr.edu/jupyter/hub/dblank/public/Jupyter%20Notebook%20Users%20Manual.ipynb)\n",
    "- [Git Immersion](http://gitimmersion.com)"
   ]
  },
  {
   "cell_type": "markdown",
   "metadata": {},
   "source": [
    "## Python Reference Sites"
   ]
  },
  {
   "cell_type": "markdown",
   "metadata": {},
   "source": [
    "- [Site: Python.org](https://python.org)\n",
    "- [Site: RealPython.com](https://realpython.com/)\n",
    "- [Site: TechBeamers.com](https://techbeamers.com/)\n",
    "- [Site: LearnPython.org](https://learnpython.org/)\n",
    "- [Site: Programiz](https://programiz.com/)\n",
    "- [Course: Udemy: Complete Python Bootcamp](https://udemy.com/course/complete-python-bootcamp/)\n",
    "- [Course: eDX: Python Courses](https://edx.org/learn/python)\n",
    "- [Course: FreeCodeCamp: Python Curriculum](https://freecodecamp.org/learn)\n",
    "- [Course: Datacamp](https://datacamp.com/)\n",
    "- [Youtube Channel: Enthought](https://youtube.com/channel/UCkhm72fuzkS9fYGlGpEmj7A)\n",
    "- [Youtube Channel: EuroPython](https://youtube.com/channel/UC98CzaYuFNAA_gOINFB0e4Q)\n",
    "- [Youtube Channel: RealPython](https://youtube.com/c/realpython)\n",
    "- [Youtube Channel: PyCon Canada](https://youtube.com/c/PyConCA)\n",
    "- [Youtube Channel: Anaconda](https://youtube.com/c/ContinuumIo)\n",
    "- [Youtube Channel: Coding Entrepreneurs](https://youtube.com/c/CodingEntrepreneurs)\n",
    "- [Youtube Channel: PyData](https://youtube.com/c/PyDataTV)\n",
    "- [Jupyter Books: Python Gallery](https://executablebooks.org/en/latest/gallery.html)\n",
    "- [Online Book: Python 4 Everybody](https://py4e.com/book)\n",
    "- [Online Book: Automate the Boring Stuff with Python](https://automatetheboringstuff.com/)\n",
    "- [Book Reference: PythonBooks](https://pythonbooks.org/)\n",
    "- [Book Reference: NbViewer](https://nbviewer.org/)\n",
    "- [Book Reference: Free Python Books](https://github.com/pamoroso/free-python-books)\n",
    "- [Blog: Full Stack Python](https://fullstackpython.com/blog.html)\n",
    "- [Blog: PyBloggers](http://pybloggers.com/)\n",
    "- [Blog: Towards Data Science](https://towardsdatascience.com/)\n",
    "- [Blog: Planet Python](https://planetpython.org/)\n",
    "- [Blog: Python Software Foundation](https://pyfound.blogspot.com/)\n",
    "- [Mailing Lists: Python3](https://mail.python.org/archives/)\n",
    "- [Podcasts: Talk Python](https://talkpython.fm/)"
   ]
  },
  {
   "cell_type": "markdown",
   "metadata": {},
   "source": [
    "## Why Python"
   ]
  },
  {
   "cell_type": "markdown",
   "metadata": {},
   "source": [
    "- Easy to learn\n",
    "- Ideal for prototyping - More functionality with less codes\n",
    "- Versatile, Easy-to-read, Easy-to-learn\n",
    "- Utilized by most companies\n",
    "- Huge amount of open-sourced resources\n",
    "- User-friendly Data Structures \n",
    "- High-level language \n",
    "- Dynamically typed \n",
    "- Portable and Interactive\n",
    "- IoT Opportunities\n",
    "- Interpreted\n",
    "- Portable across Operating Systems"
   ]
  },
  {
   "cell_type": "markdown",
   "metadata": {},
   "source": [
    "## Python Interpreter"
   ]
  },
  {
   "cell_type": "markdown",
   "metadata": {},
   "source": [
    "- A program that reads and executes programs written in Python\n",
    "- Interactive mode or script mode\n",
    "- CLI Command: `python`"
   ]
  },
  {
   "cell_type": "code",
   "execution_count": 1,
   "metadata": {},
   "outputs": [
    {
     "name": "stdout",
     "output_type": "stream",
     "text": [
      "Hello World!\n"
     ]
    }
   ],
   "source": [
    "# Executing in Interactive: Can only run one line at a time\n",
    "print(\"Hello World!\")"
   ]
  },
  {
   "cell_type": "code",
   "execution_count": 2,
   "metadata": {},
   "outputs": [
    {
     "name": "stdout",
     "output_type": "stream",
     "text": [
      "The sum of the first 100 integers is 5050\n"
     ]
    }
   ],
   "source": [
    "# Executing in Script: Can run multipple lines at once\n",
    "total = 0\n",
    "i = 1\n",
    "\n",
    "while i <= 100:\n",
    "    total += i\n",
    "    i += 1\n",
    "\n",
    "print(\"The sum of the first 100 integers is\", total)"
   ]
  },
  {
   "cell_type": "markdown",
   "metadata": {},
   "source": [
    "## Python Comments\n"
   ]
  },
  {
   "cell_type": "code",
   "execution_count": 3,
   "metadata": {},
   "outputs": [],
   "source": [
    "# This is a Python comment"
   ]
  },
  {
   "cell_type": "markdown",
   "metadata": {},
   "source": [
    "## Python Docstring Comments\n"
   ]
  },
  {
   "cell_type": "code",
   "execution_count": 4,
   "metadata": {},
   "outputs": [
    {
     "data": {
      "text/plain": [
       "'\\nThis is a mulitple line Documentation String spanning multiple lines.\\nIt acts like a comment for functions and classes for documentation purposes.\\nOutside of those, it acts as a pre-formatted string of text.\\n'"
      ]
     },
     "execution_count": 4,
     "metadata": {},
     "output_type": "execute_result"
    }
   ],
   "source": [
    "\"\"\"\n",
    "This is a mulitple line Documentation String spanning multiple lines.\n",
    "It acts like a comment for functions and classes for documentation purposes.\n",
    "Outside of those, it acts as a pre-formatted string of text.\n",
    "\"\"\""
   ]
  },
  {
   "cell_type": "markdown",
   "metadata": {},
   "source": [
    "## Reserved Words"
   ]
  },
  {
   "cell_type": "code",
   "execution_count": 5,
   "metadata": {},
   "outputs": [
    {
     "name": "stdout",
     "output_type": "stream",
     "text": [
      "False / None / True / __peg_parser__ / and / as / assert / async / await / break / class / continue / def / del / elif / else / except / finally / for / from / global / if / import / in / is / lambda / nonlocal / not / or / pass / raise / return / try / while / with / yield / "
     ]
    }
   ],
   "source": [
    "# Print the list of all Python reserved keywords\n",
    "from keyword import kwlist\n",
    "\n",
    "for keyword in sorted(kwlist):\n",
    "    print(keyword, end=\" / \")"
   ]
  },
  {
   "cell_type": "markdown",
   "metadata": {},
   "source": [
    "## Python2 vs Python3\n"
   ]
  },
  {
   "cell_type": "code",
   "execution_count": 6,
   "metadata": {},
   "outputs": [
    {
     "name": "stdout",
     "output_type": "stream",
     "text": [
      "3.9.7\n"
     ]
    }
   ],
   "source": [
    "# Print the Python version from within Jupyter\n",
    "from platform import python_version\n",
    "version = python_version()\n",
    "print(version)"
   ]
  },
  {
   "cell_type": "markdown",
   "metadata": {},
   "source": [
    "### Python 2\n"
   ]
  },
  {
   "cell_type": "markdown",
   "metadata": {},
   "source": [
    "- **2000:** v2.0 released\n",
    "- **2010:** v2.7 released\n",
    "- **2020:** End of support (Security updates only)"
   ]
  },
  {
   "cell_type": "markdown",
   "metadata": {},
   "source": [
    "#### Advantages of Python 2"
   ]
  },
  {
   "cell_type": "markdown",
   "metadata": {},
   "source": [
    "- Had much of the module support\n",
    "- Some current environment (library support) and legacy codes still uses it extensively"
   ]
  },
  {
   "cell_type": "markdown",
   "metadata": {},
   "source": [
    "### Python 3"
   ]
  },
  {
   "cell_type": "markdown",
   "metadata": {},
   "source": [
    "- **2008:** v3.0 released"
   ]
  },
  {
   "cell_type": "markdown",
   "metadata": {},
   "source": [
    "#### Advantages of Python 3"
   ]
  },
  {
   "cell_type": "markdown",
   "metadata": {},
   "source": [
    "- Getting more support, but some library not fully transitioned\n",
    "- It is the present and future of Python"
   ]
  },
  {
   "cell_type": "markdown",
   "metadata": {},
   "source": [
    "## Basic Editors"
   ]
  },
  {
   "cell_type": "markdown",
   "metadata": {},
   "source": [
    "- Notepad\n",
    "- IDLE\n",
    "- Terminal"
   ]
  },
  {
   "cell_type": "markdown",
   "metadata": {},
   "source": [
    "## Text Editor / DIY IDE"
   ]
  },
  {
   "cell_type": "markdown",
   "metadata": {},
   "source": [
    "- Notepad++\n",
    "- Sublime Text\n",
    "- Atom\n",
    "- VS Code\n",
    "- Vim\n",
    "- Jupyter Notebook"
   ]
  },
  {
   "cell_type": "markdown",
   "metadata": {},
   "source": [
    "## IDE"
   ]
  },
  {
   "cell_type": "markdown",
   "metadata": {},
   "source": [
    "- PyCharm\n",
    "- Eclipse with PyDev\n",
    "- Spyder\n",
    "- Wingware\n",
    "- Komodo\n",
    "- Rodeo\n",
    "- Jupyterlab"
   ]
  },
  {
   "cell_type": "markdown",
   "metadata": {},
   "source": [
    "## Installing & Using Anaconda"
   ]
  },
  {
   "cell_type": "markdown",
   "metadata": {},
   "source": [
    "- Download the installer from [Continuum](http://www.continuum.io/downloads)\n",
    "   OR Use command line installation: Change the version to the appropraite one\n",
    "\n",
    "```bash\n",
    "> bash Anaconda-[versionNumber]-MacOSX-x86_64.sh\n",
    "```\n",
    "\n",
    "- Verify MD5\n",
    "- Make sure you are using the right python\n",
    "\n",
    "```bash\n",
    "> which python\n",
    "> which python2\n",
    "> which python3\n",
    "```\n",
    "\n",
    "- They all should refer to the Anaconda Python\n",
    "- If not, then make sure to add variables to your account's `.bash_profile` or Environment Variables\n",
    "\n",
    "```bash\n",
    "> cd ~\n",
    "> sudo vi .bash_profile\n",
    "# Add export: export PATH=\"//anaconda/bin:$PATH\"\n",
    "# Exit --insert-- && :wq\n",
    "> source ~/.bash_profile\n",
    "```"
   ]
  },
  {
   "cell_type": "markdown",
   "metadata": {},
   "source": [
    "## Using Jupyter Notebook"
   ]
  },
  {
   "cell_type": "markdown",
   "metadata": {},
   "source": [
    "### Updating Jupyter: Using Anaconda"
   ]
  },
  {
   "cell_type": "markdown",
   "metadata": {},
   "source": [
    "```bash\n",
    "> conda update jupyterlab\n",
    "```"
   ]
  },
  {
   "cell_type": "markdown",
   "metadata": {},
   "source": [
    "## Starting Jupyter Notebook"
   ]
  },
  {
   "cell_type": "markdown",
   "metadata": {},
   "source": [
    "If `port` is not specified, the default port is `8888`\n",
    "\n",
    "```bash\n",
    "> cd /path/to/folder/containing/jupyter/notebooks\n",
    "> jupyter notebook --port 9999\n",
    "```\n",
    "\n",
    "Now browse to `http://localhost:9999`"
   ]
  },
  {
   "cell_type": "markdown",
   "metadata": {},
   "source": [
    "## Built-In Data Types in Python"
   ]
  },
  {
   "cell_type": "markdown",
   "metadata": {},
   "source": [
    "Data Type|Class|Example\n",
    ":-|:-|:-\n",
    "Integers|`int`|`20`,`0`, `-76`, `0x4F`, `0o77`\n",
    "Floating Points|`float`|`2.3`, `-79.0`, `17.045E-03`, `5e-05`\n",
    "Complex Numbers|`complex`|`2j+5`\n",
    "Ranges|`range`|`range(50)`\n",
    "Strings|`str`|`\"Hello world!\"`\n",
    "Lists|`list`|`[1, 2, 3, 4]`\n",
    "Dictionaries|`dict`|`{fname: \"john\", lname: \"smith\"}`\n",
    "Tuples|`tuple`|`(10, \"hello\", 200.90)`\n",
    "Sets|`set`|`{\"a\", \"b\"}`\n",
    "Frozen Sets|`frozenset`|`frozenset({\"apple\", \"banana\", \"cherry\"})`\n",
    "Booleans|`bool`|`True`, `False`\n",
    "Bytes|`byte`|`b\"Hello\"`\n",
    "Byte-Arrays|`bytearray`|`bytearray(5)`\n",
    "Memory Views|`memoryview`|`memoryview(bytes(5))`"
   ]
  },
  {
   "cell_type": "code",
   "execution_count": 7,
   "metadata": {},
   "outputs": [
    {
     "name": "stdout",
     "output_type": "stream",
     "text": [
      "Negative Integer: -9\n",
      "Positive Integer: 50\n",
      "Hexadecimal: 79\n",
      "Octal: 63\n"
     ]
    }
   ],
   "source": [
    "# Integers\n",
    "a = -9     # Base 10, Negatives Integer\n",
    "b = 50     # Base 10, Positives Integer\n",
    "c = 0x4F   # Hexadecimals\n",
    "d = 0o77   # Octal\n",
    "\n",
    "print(\"Negative Integer:\", a)\n",
    "print(\"Positive Integer:\", b)\n",
    "print(\"Hexadecimal:\", c)\n",
    "print(\"Octal:\", d)"
   ]
  },
  {
   "cell_type": "code",
   "execution_count": 8,
   "metadata": {},
   "outputs": [
    {
     "name": "stdout",
     "output_type": "stream",
     "text": [
      "Negative Float: -25.45\n",
      "Positive Float: 17.4\n",
      "Scientific Notation: 0.017045\n"
     ]
    }
   ],
   "source": [
    "# Float\n",
    "e = -25.45       # Base 10, Negative Float\n",
    "f = 17.4         # Base 10, Positive Float\n",
    "g = 17.045E-03   # Base 10, Scientific Notation\n",
    "\n",
    "print(\"Negative Float:\", e)\n",
    "print(\"Positive Float:\", f)\n",
    "print(\"Scientific Notation:\", g)"
   ]
  },
  {
   "cell_type": "code",
   "execution_count": 9,
   "metadata": {},
   "outputs": [
    {
     "name": "stdout",
     "output_type": "stream",
     "text": [
      "True\n",
      "False\n"
     ]
    }
   ],
   "source": [
    "# Boolean\n",
    "h = True\n",
    "i = False\n",
    "\n",
    "print(h)\n",
    "print(i)"
   ]
  },
  {
   "cell_type": "code",
   "execution_count": 10,
   "metadata": {},
   "outputs": [
    {
     "name": "stdout",
     "output_type": "stream",
     "text": [
      "Hello World\n",
      "Hello World\n",
      "C\n",
      "c\n"
     ]
    }
   ],
   "source": [
    "# String\n",
    "j = 'Hello World' # Single Quotes\n",
    "k = \"Hello World\" # Double Quotes\n",
    "l = 'C' # Single Character, Single Quotes\n",
    "m = \"c\" # Single Character, Double Quotes\n",
    "\n",
    "print(j)\n",
    "print(k)\n",
    "print(l)\n",
    "print(m)"
   ]
  },
  {
   "cell_type": "code",
   "execution_count": 11,
   "metadata": {},
   "outputs": [
    {
     "name": "stdout",
     "output_type": "stream",
     "text": [
      "['a', 'b', 'c', 1, 2, 3.4, True, False, {}, [], (), 1, 0]\n"
     ]
    }
   ],
   "source": [
    "# Lists\n",
    "a_list = ['a', 'b', 'c', 1, 2, 3.4, True, False, {}, [], (), 1, 0] # True and False same as 1 and 0\n",
    "print(a_list)"
   ]
  },
  {
   "cell_type": "code",
   "execution_count": 12,
   "metadata": {},
   "outputs": [
    {
     "name": "stdout",
     "output_type": "stream",
     "text": [
      "(1, 2, 3)\n",
      "('a', 200, True)\n"
     ]
    }
   ],
   "source": [
    "# Tuples\n",
    "a_tuple = (1, 2, 3) # With parenthesis\n",
    "b_tuple = \"a\", 200, True # Without parenthesis\n",
    "\n",
    "print(a_tuple)\n",
    "print(b_tuple)"
   ]
  },
  {
   "cell_type": "code",
   "execution_count": 13,
   "metadata": {},
   "outputs": [
    {
     "name": "stdout",
     "output_type": "stream",
     "text": [
      "string_dict: {'fname': 'John', 'lname': 'Doe'}\n",
      "num_dict: {1: 'Mary', 2: 'John', 3: 'Sally'}\n"
     ]
    }
   ],
   "source": [
    "# Dictionary\n",
    "# Strings as keys\n",
    "string_dict = { \n",
    "    \"fname\": \"John\", \n",
    "    \"lname\": \"Doe\" \n",
    "}\n",
    "\n",
    "# Integers as keys\n",
    "num_dict = { \n",
    "    1: \"Mary\", \n",
    "    2: \"John\", \n",
    "    3: \"Sally\" \n",
    "}\n",
    "\n",
    "print(\"string_dict:\", string_dict)\n",
    "print(\"num_dict:\", num_dict)"
   ]
  }
 ],
 "metadata": {
  "hide_input": false,
  "kernelspec": {
   "display_name": "Python 3 (ipykernel)",
   "language": "python",
   "name": "python3"
  },
  "language_info": {
   "codemirror_mode": {
    "name": "ipython",
    "version": 3
   },
   "file_extension": ".py",
   "mimetype": "text/x-python",
   "name": "python",
   "nbconvert_exporter": "python",
   "pygments_lexer": "ipython3",
   "version": "3.9.7"
  },
  "toc": {
   "base_numbering": 1,
   "nav_menu": {},
   "number_sections": true,
   "sideBar": true,
   "skip_h1_title": true,
   "title_cell": "Table of Contents",
   "title_sidebar": "Contents",
   "toc_cell": true,
   "toc_position": {},
   "toc_section_display": true,
   "toc_window_display": true
  },
  "varInspector": {
   "cols": {
    "lenName": 16,
    "lenType": 16,
    "lenVar": 40
   },
   "kernels_config": {
    "python": {
     "delete_cmd_postfix": "",
     "delete_cmd_prefix": "del ",
     "library": "var_list.py",
     "varRefreshCmd": "print(var_dic_list())"
    },
    "r": {
     "delete_cmd_postfix": ") ",
     "delete_cmd_prefix": "rm(",
     "library": "var_list.r",
     "varRefreshCmd": "cat(var_dic_list()) "
    }
   },
   "types_to_exclude": [
    "module",
    "function",
    "builtin_function_or_method",
    "instance",
    "_Feature"
   ],
   "window_display": false
  }
 },
 "nbformat": 4,
 "nbformat_minor": 4
}
