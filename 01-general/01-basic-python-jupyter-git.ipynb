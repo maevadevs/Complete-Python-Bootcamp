{
 "cells": [
  {
   "cell_type": "markdown",
   "metadata": {
    "toc": true
   },
   "source": [
    "<h1>Table of Contents<span class=\"tocSkip\"></span></h1>\n",
    "<div class=\"toc\"><ul class=\"toc-item\"><li><span><a href=\"#Important-Websites\" data-toc-modified-id=\"Important-Websites-1\"><span class=\"toc-item-num\">1&nbsp;&nbsp;</span>Important Websites</a></span></li><li><span><a href=\"#Why-Python\" data-toc-modified-id=\"Why-Python-2\"><span class=\"toc-item-num\">2&nbsp;&nbsp;</span>Why Python</a></span></li><li><span><a href=\"#Python-Comments\" data-toc-modified-id=\"Python-Comments-3\"><span class=\"toc-item-num\">3&nbsp;&nbsp;</span>Python Comments</a></span></li><li><span><a href=\"#Python-Docstring-Comments\" data-toc-modified-id=\"Python-Docstring-Comments-4\"><span class=\"toc-item-num\">4&nbsp;&nbsp;</span>Python Docstring Comments</a></span></li><li><span><a href=\"#Python2-vs-Python3\" data-toc-modified-id=\"Python2-vs-Python3-5\"><span class=\"toc-item-num\">5&nbsp;&nbsp;</span>Python2 vs Python3</a></span><ul class=\"toc-item\"><li><span><a href=\"#Python-2\" data-toc-modified-id=\"Python-2-5.1\"><span class=\"toc-item-num\">5.1&nbsp;&nbsp;</span>Python 2</a></span><ul class=\"toc-item\"><li><span><a href=\"#Advantages-of-Py2\" data-toc-modified-id=\"Advantages-of-Py2-5.1.1\"><span class=\"toc-item-num\">5.1.1&nbsp;&nbsp;</span>Advantages of Py2</a></span></li></ul></li><li><span><a href=\"#Python-3\" data-toc-modified-id=\"Python-3-5.2\"><span class=\"toc-item-num\">5.2&nbsp;&nbsp;</span>Python 3</a></span><ul class=\"toc-item\"><li><span><a href=\"#Advantages-of-Py3\" data-toc-modified-id=\"Advantages-of-Py3-5.2.1\"><span class=\"toc-item-num\">5.2.1&nbsp;&nbsp;</span>Advantages of Py3</a></span></li></ul></li></ul></li><li><span><a href=\"#Basic-Editors\" data-toc-modified-id=\"Basic-Editors-6\"><span class=\"toc-item-num\">6&nbsp;&nbsp;</span>Basic Editors</a></span></li><li><span><a href=\"#Text-Editor\" data-toc-modified-id=\"Text-Editor-7\"><span class=\"toc-item-num\">7&nbsp;&nbsp;</span>Text Editor</a></span></li><li><span><a href=\"#IDE\" data-toc-modified-id=\"IDE-8\"><span class=\"toc-item-num\">8&nbsp;&nbsp;</span>IDE</a></span></li><li><span><a href=\"#Notebook-Env\" data-toc-modified-id=\"Notebook-Env-9\"><span class=\"toc-item-num\">9&nbsp;&nbsp;</span>Notebook Env</a></span></li><li><span><a href=\"#Installing-&amp;-Using-Anaconda\" data-toc-modified-id=\"Installing-&amp;-Using-Anaconda-10\"><span class=\"toc-item-num\">10&nbsp;&nbsp;</span>Installing &amp; Using Anaconda</a></span></li><li><span><a href=\"#Using-Jupyter-Notebook\" data-toc-modified-id=\"Using-Jupyter-Notebook-11\"><span class=\"toc-item-num\">11&nbsp;&nbsp;</span>Using Jupyter Notebook</a></span><ul class=\"toc-item\"><li><span><a href=\"#Updating-Jupyter:-Using-Anaconda\" data-toc-modified-id=\"Updating-Jupyter:-Using-Anaconda-11.1\"><span class=\"toc-item-num\">11.1&nbsp;&nbsp;</span>Updating Jupyter: Using Anaconda</a></span></li></ul></li><li><span><a href=\"#Starting-Jupyter-Notebook\" data-toc-modified-id=\"Starting-Jupyter-Notebook-12\"><span class=\"toc-item-num\">12&nbsp;&nbsp;</span>Starting Jupyter Notebook</a></span></li><li><span><a href=\"#Basic-Data-Types-in-Python\" data-toc-modified-id=\"Basic-Data-Types-in-Python-13\"><span class=\"toc-item-num\">13&nbsp;&nbsp;</span>Basic Data Types in Python</a></span></li></ul></div>"
   ]
  },
  {
   "cell_type": "markdown",
   "metadata": {},
   "source": [
    "# Basic Python, Jupyter, and Git"
   ]
  },
  {
   "cell_type": "markdown",
   "metadata": {},
   "source": [
    "## Important Websites\n"
   ]
  },
  {
   "cell_type": "markdown",
   "metadata": {},
   "source": [
    "- [Anaconda](https://www.continuum.io)\n",
    "- [Jupyter Online](https://try.jupiter.org)\n",
    "- [NoteBook Viewer - Jupyter Notebook Sharing](https://nbviewer.jupyter.org/)\n",
    "- [Course](http://nbviewer.jupyter.org/github/jmportilla/Complete-Python-Bootcamp/tree/master/)\n",
    "- [Jupyter Docs](https://athena.brynmawr.edu/jupyter/hub/dblank/public/Jupyter%20Notebook%20Users%20Manual.ipynb)\n",
    "- [Git Immersion](http://gitimmersion.com)"
   ]
  },
  {
   "cell_type": "markdown",
   "metadata": {},
   "source": [
    "## Why Python\n"
   ]
  },
  {
   "cell_type": "markdown",
   "metadata": {},
   "source": [
    "- Easy to learn\n",
    "- Less code\n",
    "- Easy to read\n",
    "- Utilized by most companies\n",
    "- Huge amount of open-sourced"
   ]
  },
  {
   "cell_type": "markdown",
   "metadata": {},
   "source": [
    "## Python Comments\n"
   ]
  },
  {
   "cell_type": "code",
   "execution_count": 1,
   "metadata": {},
   "outputs": [],
   "source": [
    "# This is a Python comment"
   ]
  },
  {
   "cell_type": "markdown",
   "metadata": {},
   "source": [
    "## Python Docstring Comments\n"
   ]
  },
  {
   "cell_type": "code",
   "execution_count": 2,
   "metadata": {},
   "outputs": [
    {
     "data": {
      "text/plain": [
       "'\\nThis is a mulitple line Documentation String.\\nSpanning multiple lines.\\nIt acts like a comment, but it is for documentation purposes.\\n'"
      ]
     },
     "execution_count": 2,
     "metadata": {},
     "output_type": "execute_result"
    }
   ],
   "source": [
    "\"\"\"\n",
    "This is a mulitple line Documentation String.\n",
    "Spanning multiple lines.\n",
    "It acts like a comment, but it is for documentation purposes.\n",
    "\"\"\""
   ]
  },
  {
   "cell_type": "markdown",
   "metadata": {},
   "source": [
    "## Python2 vs Python3\n"
   ]
  },
  {
   "cell_type": "markdown",
   "metadata": {},
   "source": [
    "### Python 2\n"
   ]
  },
  {
   "cell_type": "markdown",
   "metadata": {},
   "source": [
    "- **2000:** V2.0 released\n",
    "- **2010:** v2.7 released\n",
    "- **2020:** End of support (Will be security updates only)"
   ]
  },
  {
   "cell_type": "markdown",
   "metadata": {},
   "source": [
    "#### Advantages of Py2"
   ]
  },
  {
   "cell_type": "markdown",
   "metadata": {},
   "source": [
    "- Has much of the module support\n",
    "- The current environment (library support) and legacy codes still uses it extensively"
   ]
  },
  {
   "cell_type": "markdown",
   "metadata": {},
   "source": [
    "### Python 3"
   ]
  },
  {
   "cell_type": "markdown",
   "metadata": {},
   "source": [
    "- **2008:** v3.0 released"
   ]
  },
  {
   "cell_type": "markdown",
   "metadata": {},
   "source": [
    "#### Advantages of Py3"
   ]
  },
  {
   "cell_type": "markdown",
   "metadata": {},
   "source": [
    "- Starting to get more support, but not enough library support yet"
   ]
  },
  {
   "cell_type": "markdown",
   "metadata": {},
   "source": [
    "## Basic Editors"
   ]
  },
  {
   "cell_type": "markdown",
   "metadata": {},
   "source": [
    "- Notepad\n",
    "- IDLE\n",
    "- Terminal"
   ]
  },
  {
   "cell_type": "markdown",
   "metadata": {},
   "source": [
    "## Text Editor"
   ]
  },
  {
   "cell_type": "markdown",
   "metadata": {},
   "source": [
    "- Notepad++\n",
    "- Sublime Text\n",
    "- Atom\n",
    "- VS Code"
   ]
  },
  {
   "cell_type": "markdown",
   "metadata": {},
   "source": [
    "## IDE"
   ]
  },
  {
   "cell_type": "markdown",
   "metadata": {},
   "source": [
    "- PyCharm\n",
    "- Eclipse with PyDev\n",
    "- Spyder\n",
    "- Wingware\n",
    "- Komodo\n",
    "- Rodeo"
   ]
  },
  {
   "cell_type": "markdown",
   "metadata": {},
   "source": [
    "## Notebook Env"
   ]
  },
  {
   "cell_type": "markdown",
   "metadata": {},
   "source": [
    "- Jupyter Notebook"
   ]
  },
  {
   "cell_type": "markdown",
   "metadata": {},
   "source": [
    "## Installing & Using Anaconda"
   ]
  },
  {
   "cell_type": "markdown",
   "metadata": {},
   "source": [
    "- Download the installer from [continuum](http://www.continuum.io/downloads)\n",
    "   OR Use command line installation: Change the version to the appropraite one\n",
    "\n",
    "```bash\n",
    "bash Anaconda-[versionNumber]-MacOSX-x86_64.sh\n",
    "```\n",
    "\n",
    "- Verify MD5\n",
    "- Make sure you are using the right python\n",
    "\n",
    "```bash\n",
    "which python\n",
    "which python2\n",
    "which python3\n",
    "```\n",
    "\n",
    "- They all should refer to the Anaconda Python\n",
    "- If not, then make sure to add variables to your account's `.bash_profile`\n",
    "\n",
    "```bash\n",
    "$ cd ~\n",
    "$ sudo vi .bash_profile\n",
    "# Add export: export PATH=\"//anaconda/bin:$PATH\"\n",
    "# Exit --insert-- && :wq\n",
    "$ source ~/.bash_profile\n",
    "```"
   ]
  },
  {
   "cell_type": "markdown",
   "metadata": {},
   "source": [
    "## Using Jupyter Notebook"
   ]
  },
  {
   "cell_type": "markdown",
   "metadata": {},
   "source": [
    "### Updating Jupyter: Using Anaconda"
   ]
  },
  {
   "cell_type": "markdown",
   "metadata": {},
   "source": [
    "```bash\n",
    "conda update jupyter\n",
    "conda update all\n",
    "```"
   ]
  },
  {
   "cell_type": "markdown",
   "metadata": {},
   "source": [
    "## Starting Jupyter Notebook"
   ]
  },
  {
   "cell_type": "markdown",
   "metadata": {},
   "source": [
    "```bash\n",
    "cd /path/to/folder/containing/jupyter/notebooks\n",
    "jupyter notebook --port 9999\n",
    "```\n",
    "\n",
    "- Now browse to `http://localhost:9999`"
   ]
  },
  {
   "cell_type": "markdown",
   "metadata": {},
   "source": [
    "## Basic Data Types in Python"
   ]
  },
  {
   "cell_type": "markdown",
   "metadata": {},
   "source": [
    "- Integers: `int` => `20`\n",
    "- Floating Point: `float` => `2.3`\n",
    "- String: `str` => `\"Hello world!\"`\n",
    "- List: `list` => `[1, 2, 3, 4]`\n",
    "- Dictionaries: `dict` => `{fname: \"john\", lname: \"smith\"}`\n",
    "- Tuples: `tup` => `(10, \"hello\", 200.90)`\n",
    "- Sets: `set` => `{\"a\", \"b\"}`\n",
    "- Booleans: `bool` => `True`, `False`"
   ]
  }
 ],
 "metadata": {
  "kernelspec": {
   "display_name": "Python 3",
   "language": "python",
   "name": "python3"
  },
  "language_info": {
   "codemirror_mode": {
    "name": "ipython",
    "version": 3
   },
   "file_extension": ".py",
   "mimetype": "text/x-python",
   "name": "python",
   "nbconvert_exporter": "python",
   "pygments_lexer": "ipython3",
   "version": "3.7.6"
  },
  "toc": {
   "base_numbering": 1,
   "nav_menu": {},
   "number_sections": true,
   "sideBar": true,
   "skip_h1_title": true,
   "title_cell": "Table of Contents",
   "title_sidebar": "Contents",
   "toc_cell": true,
   "toc_position": {},
   "toc_section_display": true,
   "toc_window_display": true
  }
 },
 "nbformat": 4,
 "nbformat_minor": 4
}
