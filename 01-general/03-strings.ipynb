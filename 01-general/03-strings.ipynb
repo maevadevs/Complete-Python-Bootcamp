{
 "cells": [
  {
   "cell_type": "markdown",
   "metadata": {},
   "source": [
    "# Strings"
   ]
  },
  {
   "cell_type": "markdown",
   "metadata": {
    "toc": true
   },
   "source": [
    "<h1>Table of Contents<span class=\"tocSkip\"></span></h1>\n",
    "<div class=\"toc\"><ul class=\"toc-item\"><li><span><a href=\"#Creating-Strings\" data-toc-modified-id=\"Creating-Strings-1\"><span class=\"toc-item-num\">1&nbsp;&nbsp;</span>Creating Strings</a></span></li><li><span><a href=\"#Printing-a-String\" data-toc-modified-id=\"Printing-a-String-2\"><span class=\"toc-item-num\">2&nbsp;&nbsp;</span>Printing a String</a></span></li><li><span><a href=\"#String-Length:-len(st)\" data-toc-modified-id=\"String-Length:-len(st)-3\"><span class=\"toc-item-num\">3&nbsp;&nbsp;</span>String Length: <code>len(st)</code></a></span></li><li><span><a href=\"#String-Indexing\" data-toc-modified-id=\"String-Indexing-4\"><span class=\"toc-item-num\">4&nbsp;&nbsp;</span>String Indexing</a></span></li><li><span><a href=\"#String-Slicing:-st[from-:-to-:-steps]\" data-toc-modified-id=\"String-Slicing:-st[from-:-to-:-steps]-5\"><span class=\"toc-item-num\">5&nbsp;&nbsp;</span>String Slicing: <code>st[from : to : steps]</code></a></span></li><li><span><a href=\"#String-Property:-Immutablity\" data-toc-modified-id=\"String-Property:-Immutablity-6\"><span class=\"toc-item-num\">6&nbsp;&nbsp;</span>String Property: Immutablity</a></span></li><li><span><a href=\"#String-Concatenation\" data-toc-modified-id=\"String-Concatenation-7\"><span class=\"toc-item-num\">7&nbsp;&nbsp;</span>String Concatenation</a></span></li><li><span><a href=\"#String-Repetition\" data-toc-modified-id=\"String-Repetition-8\"><span class=\"toc-item-num\">8&nbsp;&nbsp;</span>String Repetition</a></span></li><li><span><a href=\"#Built-In-String-Methods\" data-toc-modified-id=\"Built-In-String-Methods-9\"><span class=\"toc-item-num\">9&nbsp;&nbsp;</span>Built-In String Methods</a></span><ul class=\"toc-item\"><li><span><a href=\"#st.upper()\" data-toc-modified-id=\"st.upper()-9.1\"><span class=\"toc-item-num\">9.1&nbsp;&nbsp;</span><code>st.upper()</code></a></span></li><li><span><a href=\"#st.lower()\" data-toc-modified-id=\"st.lower()-9.2\"><span class=\"toc-item-num\">9.2&nbsp;&nbsp;</span><code>st.lower()</code></a></span></li><li><span><a href=\"#st.split()\" data-toc-modified-id=\"st.split()-9.3\"><span class=\"toc-item-num\">9.3&nbsp;&nbsp;</span><code>st.split()</code></a></span></li><li><span><a href=\"#st.format()\" data-toc-modified-id=\"st.format()-9.4\"><span class=\"toc-item-num\">9.4&nbsp;&nbsp;</span><code>st.format()</code></a></span><ul class=\"toc-item\"><li><span><a href=\"#Float-Formatting\" data-toc-modified-id=\"Float-Formatting-9.4.1\"><span class=\"toc-item-num\">9.4.1&nbsp;&nbsp;</span>Float Formatting</a></span></li></ul></li></ul></li><li><span><a href=\"#String-Interpolation:-f-string\" data-toc-modified-id=\"String-Interpolation:-f-string-10\"><span class=\"toc-item-num\">10&nbsp;&nbsp;</span>String Interpolation: <code>f-string</code></a></span></li></ul></div>"
   ]
  },
  {
   "cell_type": "markdown",
   "metadata": {},
   "source": [
    "- Strings are used in Python to record text information, such as names\n",
    "- Strings in Python are actually a *sequence*, which basically means Python keeps track of every element in the string as a sequence (think of array)\n",
    "- For example, Python understands the string `\"hello\"` to be a sequence of letters in a specific order\n",
    "- This means we will be able to use indexing to grab particular letters (like the first letter, or the last letter)\n",
    "- This idea of a sequence is an important one in Python and we will touch upon it later on in the future"
   ]
  },
  {
   "cell_type": "markdown",
   "metadata": {},
   "source": [
    "## Creating Strings"
   ]
  },
  {
   "cell_type": "code",
   "execution_count": 1,
   "metadata": {},
   "outputs": [
    {
     "data": {
      "text/plain": [
       "'Hello!'"
      ]
     },
     "execution_count": 1,
     "metadata": {},
     "output_type": "execute_result"
    }
   ],
   "source": [
    "# Single quotes word\n",
    "'Hello!'"
   ]
  },
  {
   "cell_type": "code",
   "execution_count": 2,
   "metadata": {},
   "outputs": [
    {
     "data": {
      "text/plain": [
       "'Hello!'"
      ]
     },
     "execution_count": 2,
     "metadata": {},
     "output_type": "execute_result"
    }
   ],
   "source": [
    "# Double quotes word\n",
    "\"Hello!\""
   ]
  },
  {
   "cell_type": "code",
   "execution_count": 3,
   "metadata": {},
   "outputs": [],
   "source": [
    "# Entire phrase\n",
    "phrase = 'This is also a string'"
   ]
  },
  {
   "cell_type": "code",
   "execution_count": 4,
   "metadata": {},
   "outputs": [],
   "source": [
    "# Be careful with quotes: Escape or Nest\n",
    "# 'I'm using single quotes, but will create an error'"
   ]
  },
  {
   "cell_type": "code",
   "execution_count": 5,
   "metadata": {},
   "outputs": [],
   "source": [
    "phrase_3 = 'I\\'m using single quotes, and this one works fine'\n",
    "phrase_4 = \"Now I'm ready to use the single quotes ' inside a double-quoted string!\""
   ]
  },
  {
   "cell_type": "markdown",
   "metadata": {},
   "source": [
    "## Printing a String"
   ]
  },
  {
   "cell_type": "markdown",
   "metadata": {},
   "source": [
    "- The correct way to display strings in your output is by using a `print()` function"
   ]
  },
  {
   "cell_type": "code",
   "execution_count": 6,
   "metadata": {},
   "outputs": [
    {
     "name": "stdout",
     "output_type": "stream",
     "text": [
      "Hello World!\n",
      "Use \\n \n",
      " to print a new line\n",
      "\n",
      "\n",
      "See what I mean?\n",
      "\n",
      "Here is \t also a tabbed \t line using \\t\n"
     ]
    }
   ],
   "source": [
    "# Using print() function for output\n",
    "print('Hello World!')\n",
    "print('Use \\\\n \\n to print a new line')\n",
    "print('\\n')\n",
    "print('See what I mean?')\n",
    "print('\\nHere is \\t also a tabbed \\t line using \\\\t')"
   ]
  },
  {
   "cell_type": "markdown",
   "metadata": {},
   "source": [
    "## String Length: `len(st)`"
   ]
  },
  {
   "cell_type": "code",
   "execution_count": 7,
   "metadata": {},
   "outputs": [
    {
     "name": "stdout",
     "output_type": "stream",
     "text": [
      "11\n"
     ]
    }
   ],
   "source": [
    "# Length of a string\n",
    "print(len('Hello World'))"
   ]
  },
  {
   "cell_type": "markdown",
   "metadata": {},
   "source": [
    "## String Indexing"
   ]
  },
  {
   "cell_type": "code",
   "execution_count": 8,
   "metadata": {},
   "outputs": [
    {
     "name": "stdout",
     "output_type": "stream",
     "text": [
      "Hello World\n"
     ]
    }
   ],
   "source": [
    "# Assign str as a string\n",
    "st = 'Hello World'\n",
    "print(st)"
   ]
  },
  {
   "cell_type": "code",
   "execution_count": 9,
   "metadata": {},
   "outputs": [
    {
     "name": "stdout",
     "output_type": "stream",
     "text": [
      "H\n"
     ]
    }
   ],
   "source": [
    "# First element\n",
    "print(st[0])"
   ]
  },
  {
   "cell_type": "code",
   "execution_count": 10,
   "metadata": {},
   "outputs": [
    {
     "name": "stdout",
     "output_type": "stream",
     "text": [
      "e\n"
     ]
    }
   ],
   "source": [
    "# Second element\n",
    "print(st[1])"
   ]
  },
  {
   "cell_type": "code",
   "execution_count": 11,
   "metadata": {},
   "outputs": [
    {
     "name": "stdout",
     "output_type": "stream",
     "text": [
      "l\n"
     ]
    }
   ],
   "source": [
    "# Third element\n",
    "print(st[2])"
   ]
  },
  {
   "cell_type": "markdown",
   "metadata": {},
   "source": [
    "## String Slicing: `st[from : to : steps]`"
   ]
  },
  {
   "cell_type": "markdown",
   "metadata": {},
   "source": [
    "- We can use a `:` to perform *slicing* which grabs everything up to a designated point\n",
    "- **These operation are *not performed as permanent changes* on the original string unless re-assigned**"
   ]
  },
  {
   "cell_type": "code",
   "execution_count": 12,
   "metadata": {},
   "outputs": [
    {
     "name": "stdout",
     "output_type": "stream",
     "text": [
      "ello World\n"
     ]
    }
   ],
   "source": [
    "# Grab everything from the second term all the way to the length of s which is len(s)\n",
    "print(st[1:])"
   ]
  },
  {
   "cell_type": "code",
   "execution_count": 13,
   "metadata": {},
   "outputs": [
    {
     "name": "stdout",
     "output_type": "stream",
     "text": [
      "Hello World\n"
     ]
    }
   ],
   "source": [
    "# Original string: No changes\n",
    "print(st)"
   ]
  },
  {
   "cell_type": "code",
   "execution_count": 14,
   "metadata": {},
   "outputs": [
    {
     "name": "stdout",
     "output_type": "stream",
     "text": [
      "Hel\n"
     ]
    }
   ],
   "source": [
    "# Grab everything UP TO the 3rd index, EXCLUSIVE\n",
    "print(st[:3])"
   ]
  },
  {
   "cell_type": "markdown",
   "metadata": {},
   "source": [
    "- Note the above slicing: Here we're telling Python to grab everything from `0` up to `3`\n",
    "- It doesn't include the 3rd index\n",
    "- In Python, statements are usually in the context of *up to, but not including*"
   ]
  },
  {
   "cell_type": "code",
   "execution_count": 15,
   "metadata": {},
   "outputs": [
    {
     "name": "stdout",
     "output_type": "stream",
     "text": [
      "Hello World\n"
     ]
    }
   ],
   "source": [
    "# Grab everything\n",
    "print(st[:])"
   ]
  },
  {
   "cell_type": "markdown",
   "metadata": {},
   "source": [
    "- We can also use negative indexing to go backwards"
   ]
  },
  {
   "cell_type": "code",
   "execution_count": 16,
   "metadata": {},
   "outputs": [
    {
     "name": "stdout",
     "output_type": "stream",
     "text": [
      "d\n"
     ]
    }
   ],
   "source": [
    "# Last letter (one index behind `0`, so it loops back around)\n",
    "print(st[-1])"
   ]
  },
  {
   "cell_type": "code",
   "execution_count": 17,
   "metadata": {},
   "outputs": [
    {
     "name": "stdout",
     "output_type": "stream",
     "text": [
      "Hello Wor\n"
     ]
    }
   ],
   "source": [
    "# Grab everything but the last two letter\n",
    "print(st[:-2])"
   ]
  },
  {
   "cell_type": "markdown",
   "metadata": {},
   "source": [
    "- We can also use index and slice notation to grab elements of a sequence by a specified step size (the default is `1`)\n",
    "- For instance, we can use two colons in a row and then a number specifying the frequency to grab elements\n",
    "- The format is: `st[from_index:to_index:by_step_of]`"
   ]
  },
  {
   "cell_type": "code",
   "execution_count": 18,
   "metadata": {},
   "outputs": [
    {
     "name": "stdout",
     "output_type": "stream",
     "text": [
      "Hello World\n"
     ]
    }
   ],
   "source": [
    "# Grab everything, but go in step size of 1\n",
    "print(st[::])"
   ]
  },
  {
   "cell_type": "code",
   "execution_count": 19,
   "metadata": {},
   "outputs": [
    {
     "name": "stdout",
     "output_type": "stream",
     "text": [
      "HloWrd\n"
     ]
    }
   ],
   "source": [
    "# Grab everything, but go in step size of 2\n",
    "print(st[::2])"
   ]
  },
  {
   "cell_type": "markdown",
   "metadata": {},
   "source": [
    "- Interestingly, we can use this to print a whole string backwards"
   ]
  },
  {
   "cell_type": "code",
   "execution_count": 20,
   "metadata": {},
   "outputs": [
    {
     "name": "stdout",
     "output_type": "stream",
     "text": [
      "dlroW olleH\n"
     ]
    }
   ],
   "source": [
    "# Printing a string backward\n",
    "print(st[::-1])"
   ]
  },
  {
   "cell_type": "markdown",
   "metadata": {},
   "source": [
    "## String Property: Immutablity"
   ]
  },
  {
   "cell_type": "markdown",
   "metadata": {},
   "source": [
    "- Once a string is created, the elements within it cannot be changed or replaced\n",
    "- A new string object must be created every time we re-assign a string variable\n",
    "- We do not change the value in place"
   ]
  },
  {
   "cell_type": "code",
   "execution_count": 21,
   "metadata": {},
   "outputs": [
    {
     "name": "stdout",
     "output_type": "stream",
     "text": [
      "Hello World\n"
     ]
    }
   ],
   "source": [
    "print(st)"
   ]
  },
  {
   "cell_type": "code",
   "execution_count": 22,
   "metadata": {},
   "outputs": [],
   "source": [
    "# st[0] = 'x' # => TypeError: 'str' object does not support item assignment"
   ]
  },
  {
   "cell_type": "code",
   "execution_count": 23,
   "metadata": {},
   "outputs": [
    {
     "name": "stdout",
     "output_type": "stream",
     "text": [
      "x\n"
     ]
    }
   ],
   "source": [
    "# Re-assigning a string\n",
    "st = 'x'\n",
    "print(st)"
   ]
  },
  {
   "cell_type": "code",
   "execution_count": 24,
   "metadata": {},
   "outputs": [
    {
     "name": "stdout",
     "output_type": "stream",
     "text": [
      "Hello World\n"
     ]
    }
   ],
   "source": [
    "# Re-assigning again\n",
    "st = 'Hello World'\n",
    "print(st)"
   ]
  },
  {
   "cell_type": "markdown",
   "metadata": {},
   "source": [
    "## String Concatenation"
   ]
  },
  {
   "cell_type": "markdown",
   "metadata": {},
   "source": [
    "- Weave two strings together to become one\n",
    "- The style is just like in Javascript"
   ]
  },
  {
   "cell_type": "code",
   "execution_count": 25,
   "metadata": {},
   "outputs": [
    {
     "name": "stdout",
     "output_type": "stream",
     "text": [
      "Hello, world\n"
     ]
    }
   ],
   "source": [
    "# Concatenating 2 strings\n",
    "x = \"Hello, \"\n",
    "y = \"world\"\n",
    "st = x + y\n",
    "print(st)"
   ]
  },
  {
   "cell_type": "code",
   "execution_count": 26,
   "metadata": {},
   "outputs": [
    {
     "name": "stdout",
     "output_type": "stream",
     "text": [
      "Hello, world concatenate me!\n"
     ]
    }
   ],
   "source": [
    "# Concatenate strings!\n",
    "print(st + ' concatenate me!')"
   ]
  },
  {
   "cell_type": "code",
   "execution_count": 27,
   "metadata": {},
   "outputs": [
    {
     "name": "stdout",
     "output_type": "stream",
     "text": [
      "Hello, world concatenate me me me!\n"
     ]
    }
   ],
   "source": [
    "# Again, we can reassign str completely (Creating a new value)!\n",
    "st += ' concatenate me me me!'\n",
    "print(st)"
   ]
  },
  {
   "cell_type": "markdown",
   "metadata": {},
   "source": [
    "## String Repetition"
   ]
  },
  {
   "cell_type": "markdown",
   "metadata": {},
   "source": [
    "- We can use the multiplication symbol to create repetition of a string"
   ]
  },
  {
   "cell_type": "code",
   "execution_count": 28,
   "metadata": {},
   "outputs": [
    {
     "name": "stdout",
     "output_type": "stream",
     "text": [
      "zzzzzzzzzz!\n"
     ]
    }
   ],
   "source": [
    "print('z' * 10 + '!') "
   ]
  },
  {
   "cell_type": "code",
   "execution_count": 29,
   "metadata": {},
   "outputs": [
    {
     "name": "stdout",
     "output_type": "stream",
     "text": [
      "Hello World!Hello World!Hello World!Hello World!Hello World!\n"
     ]
    }
   ],
   "source": [
    "print(\"Hello World!\" * 5)"
   ]
  },
  {
   "cell_type": "markdown",
   "metadata": {},
   "source": [
    "## Built-In String Methods"
   ]
  },
  {
   "cell_type": "markdown",
   "metadata": {},
   "source": [
    "```python\n",
    "strings.method(params)\n",
    "```\n",
    "\n",
    "- **Remember that strings are immutable**\n",
    "  - All the operations of these methods do not affect the original string\n",
    "  - They always return a new string object with the modifications applied"
   ]
  },
  {
   "cell_type": "code",
   "execution_count": 30,
   "metadata": {},
   "outputs": [],
   "source": [
    "# Here is our original test string\n",
    "st = 'Test string'"
   ]
  },
  {
   "cell_type": "markdown",
   "metadata": {},
   "source": [
    "### `st.upper()`"
   ]
  },
  {
   "cell_type": "markdown",
   "metadata": {},
   "source": [
    "- Make a string's characters all uppercase"
   ]
  },
  {
   "cell_type": "code",
   "execution_count": 31,
   "metadata": {},
   "outputs": [
    {
     "name": "stdout",
     "output_type": "stream",
     "text": [
      "TEST STRING\n"
     ]
    }
   ],
   "source": [
    "print(st.upper())"
   ]
  },
  {
   "cell_type": "code",
   "execution_count": 32,
   "metadata": {},
   "outputs": [
    {
     "name": "stdout",
     "output_type": "stream",
     "text": [
      "Test string\n"
     ]
    }
   ],
   "source": [
    "# And the original is... Unchanged!\n",
    "print(st)"
   ]
  },
  {
   "cell_type": "markdown",
   "metadata": {},
   "source": [
    "### `st.lower()`"
   ]
  },
  {
   "cell_type": "markdown",
   "metadata": {},
   "source": [
    "- Make a string's characters all lowercase"
   ]
  },
  {
   "cell_type": "code",
   "execution_count": 33,
   "metadata": {},
   "outputs": [
    {
     "name": "stdout",
     "output_type": "stream",
     "text": [
      "test string\n"
     ]
    }
   ],
   "source": [
    "print(st.lower())"
   ]
  },
  {
   "cell_type": "code",
   "execution_count": 34,
   "metadata": {},
   "outputs": [
    {
     "name": "stdout",
     "output_type": "stream",
     "text": [
      "Test string\n"
     ]
    }
   ],
   "source": [
    "# And the original is... Unchanged!\n",
    "print(st)"
   ]
  },
  {
   "cell_type": "markdown",
   "metadata": {},
   "source": [
    "### `st.split()`"
   ]
  },
  {
   "cell_type": "markdown",
   "metadata": {},
   "source": [
    "- Split a string at every blank space (this is the default)\n",
    "- To split with at a different character, provide the `sep` argument. It will not include the element that was split on\n",
    "- The `sep` argument can also be passed as an unnamed parameter"
   ]
  },
  {
   "cell_type": "code",
   "execution_count": 35,
   "metadata": {},
   "outputs": [
    {
     "name": "stdout",
     "output_type": "stream",
     "text": [
      "['Test', 'string']\n"
     ]
    }
   ],
   "source": [
    "print(st.split())"
   ]
  },
  {
   "cell_type": "code",
   "execution_count": 36,
   "metadata": {},
   "outputs": [
    {
     "name": "stdout",
     "output_type": "stream",
     "text": [
      "['Tes', ' s', 'ring']\n"
     ]
    }
   ],
   "source": [
    "# Splitting on t's\n",
    "print(st.split(sep='t'))"
   ]
  },
  {
   "cell_type": "code",
   "execution_count": 37,
   "metadata": {},
   "outputs": [
    {
     "name": "stdout",
     "output_type": "stream",
     "text": [
      "['Tes', ' s', 'ring']\n"
     ]
    }
   ],
   "source": [
    "# The sep argument can be passed without a name\n",
    "print(st.split('t'))"
   ]
  },
  {
   "cell_type": "markdown",
   "metadata": {},
   "source": [
    "### `st.format()`"
   ]
  },
  {
   "cell_type": "markdown",
   "metadata": {},
   "source": [
    "- Insert formatted objects with the string and use them as string"
   ]
  },
  {
   "cell_type": "code",
   "execution_count": 38,
   "metadata": {},
   "outputs": [
    {
     "name": "stdout",
     "output_type": "stream",
     "text": [
      "Insert another string with curly brackets: The inserted string. And a value 6.\n"
     ]
    }
   ],
   "source": [
    "# Using str.format()\n",
    "st1 = 'Insert another string with curly brackets: {}'\n",
    "st2 = st1.format('The inserted string. And a value {}.')\n",
    "print(st2.format(1 + 2 + 3))"
   ]
  },
  {
   "cell_type": "code",
   "execution_count": 39,
   "metadata": {},
   "outputs": [
    {
     "name": "stdout",
     "output_type": "stream",
     "text": [
      "The fox brown quick\n"
     ]
    }
   ],
   "source": [
    "# We can let the position determine the order\n",
    "print('The {} {} {}'.format('fox', 'brown', 'quick'))"
   ]
  },
  {
   "cell_type": "code",
   "execution_count": 40,
   "metadata": {},
   "outputs": [
    {
     "name": "stdout",
     "output_type": "stream",
     "text": [
      "The quick brown fox\n"
     ]
    }
   ],
   "source": [
    "# Or we can use numbered indexes\n",
    "print('The {2} {1} {0}'.format('fox', 'brown', 'quick'))"
   ]
  },
  {
   "cell_type": "code",
   "execution_count": 41,
   "metadata": {},
   "outputs": [
    {
     "name": "stdout",
     "output_type": "stream",
     "text": [
      "The quick brown fox\n"
     ]
    }
   ],
   "source": [
    "# Or we can use named indexes\n",
    "print('The {q} {b} {f}'.format(f='fox', b='brown', q='quick'))"
   ]
  },
  {
   "cell_type": "markdown",
   "metadata": {},
   "source": [
    "#### Float Formatting"
   ]
  },
  {
   "cell_type": "markdown",
   "metadata": {},
   "source": [
    "- `.format()` can also be used with floating point formatting"
   ]
  },
  {
   "cell_type": "code",
   "execution_count": 42,
   "metadata": {},
   "outputs": [
    {
     "name": "stdout",
     "output_type": "stream",
     "text": [
      "The result was 0.1287001287001287\n",
      "The result was 0.1287001287001287\n",
      "The result was 0.12870\n",
      "The result was    0.12870\n"
     ]
    }
   ],
   "source": [
    "result = 100 / 777\n",
    "\n",
    "print('The result was {}'.format(result))\n",
    "print('The result was {r}'.format(r=result))\n",
    "print('The result was {r:0.5f}'.format(r=result)) # => {value:width.precision f}\n",
    "print('The result was {r:10.5f}'.format(r=result)) # => {value:width.precision f}, width adds whitespaces"
   ]
  },
  {
   "cell_type": "markdown",
   "metadata": {},
   "source": [
    "## String Interpolation: `f-string`"
   ]
  },
  {
   "cell_type": "markdown",
   "metadata": {},
   "source": [
    "- Available in Python 3.6+\n",
    "- Append 'f' for formatting at the very beginning"
   ]
  },
  {
   "cell_type": "code",
   "execution_count": 43,
   "metadata": {},
   "outputs": [
    {
     "name": "stdout",
     "output_type": "stream",
     "text": [
      "Using f-string: the result was 0.129, and the age was 18.\n"
     ]
    }
   ],
   "source": [
    "age = 18\n",
    "print(f'Using f-string: the result was {result:0.3f}, and the age was {age}.')"
   ]
  }
 ],
 "metadata": {
  "hide_input": false,
  "kernelspec": {
   "display_name": "Python 3 (ipykernel)",
   "language": "python",
   "name": "python3"
  },
  "language_info": {
   "codemirror_mode": {
    "name": "ipython",
    "version": 3
   },
   "file_extension": ".py",
   "mimetype": "text/x-python",
   "name": "python",
   "nbconvert_exporter": "python",
   "pygments_lexer": "ipython3",
   "version": "3.8.11"
  },
  "toc": {
   "base_numbering": 1,
   "nav_menu": {},
   "number_sections": true,
   "sideBar": true,
   "skip_h1_title": true,
   "title_cell": "Table of Contents",
   "title_sidebar": "Contents",
   "toc_cell": true,
   "toc_position": {},
   "toc_section_display": true,
   "toc_window_display": true
  },
  "varInspector": {
   "cols": {
    "lenName": 16,
    "lenType": 16,
    "lenVar": 40
   },
   "kernels_config": {
    "python": {
     "delete_cmd_postfix": "",
     "delete_cmd_prefix": "del ",
     "library": "var_list.py",
     "varRefreshCmd": "print(var_dic_list())"
    },
    "r": {
     "delete_cmd_postfix": ") ",
     "delete_cmd_prefix": "rm(",
     "library": "var_list.r",
     "varRefreshCmd": "cat(var_dic_list()) "
    }
   },
   "types_to_exclude": [
    "module",
    "function",
    "builtin_function_or_method",
    "instance",
    "_Feature"
   ],
   "window_display": false
  }
 },
 "nbformat": 4,
 "nbformat_minor": 4
}
