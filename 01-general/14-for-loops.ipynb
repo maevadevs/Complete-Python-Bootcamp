{
 "cells": [
  {
   "cell_type": "markdown",
   "metadata": {},
   "source": [
    "# `for` Loops"
   ]
  },
  {
   "cell_type": "markdown",
   "metadata": {
    "toc": true
   },
   "source": [
    "<h1>Table of Contents<span class=\"tocSkip\"></span></h1>\n",
    "<div class=\"toc\"><ul class=\"toc-item\"><li><span><a href=\"#Iterating-Through-A-List\" data-toc-modified-id=\"Iterating-Through-A-List-1\"><span class=\"toc-item-num\">1&nbsp;&nbsp;</span>Iterating Through A List</a></span></li><li><span><a href=\"#Loop-With-Conditional\" data-toc-modified-id=\"Loop-With-Conditional-2\"><span class=\"toc-item-num\">2&nbsp;&nbsp;</span>Loop With Conditional</a></span></li><li><span><a href=\"#Running-Tally-With-Loop\" data-toc-modified-id=\"Running-Tally-With-Loop-3\"><span class=\"toc-item-num\">3&nbsp;&nbsp;</span>Running Tally With Loop</a></span></li><li><span><a href=\"#Loop-With-Strings\" data-toc-modified-id=\"Loop-With-Strings-4\"><span class=\"toc-item-num\">4&nbsp;&nbsp;</span>Loop With Strings</a></span></li><li><span><a href=\"#Loop-With-Tuple\" data-toc-modified-id=\"Loop-With-Tuple-5\"><span class=\"toc-item-num\">5&nbsp;&nbsp;</span>Loop With Tuple</a></span><ul class=\"toc-item\"><li><span><a href=\"#Tuple-Unpacking\" data-toc-modified-id=\"Tuple-Unpacking-5.1\"><span class=\"toc-item-num\">5.1&nbsp;&nbsp;</span>Tuple Unpacking</a></span></li></ul></li></ul></div>"
   ]
  },
  {
   "cell_type": "markdown",
   "metadata": {},
   "source": [
    "- Some objects that we can iterate over:\n",
    "  - Strings\n",
    "  - Lists\n",
    "  - Tuples\n",
    "  - Built-in iterables for dictionaries"
   ]
  },
  {
   "cell_type": "markdown",
   "metadata": {},
   "source": [
    "```python\n",
    "for i in iterable:\n",
    "    statements to do stuff\n",
    "```"
   ]
  },
  {
   "cell_type": "markdown",
   "metadata": {},
   "source": [
    "## Iterating Through A List"
   ]
  },
  {
   "cell_type": "code",
   "execution_count": 1,
   "metadata": {},
   "outputs": [
    {
     "name": "stdout",
     "output_type": "stream",
     "text": [
      "num in lst: 1\n",
      "num in lst: 2\n",
      "num in lst: 3\n",
      "num in lst: 4\n",
      "num in lst: 5\n",
      "num in lst: 6\n",
      "num in lst: 7\n",
      "num in lst: 8\n",
      "num in lst: 9\n",
      "num in lst: 10\n"
     ]
    }
   ],
   "source": [
    "lst = [1, 2, 3, 4, 5, 6, 7, 8, 9, 10]\n",
    "\n",
    "for num in lst:\n",
    "    print('num in lst:', num)"
   ]
  },
  {
   "cell_type": "markdown",
   "metadata": {},
   "source": [
    "## Loop With Conditional"
   ]
  },
  {
   "cell_type": "code",
   "execution_count": 2,
   "metadata": {},
   "outputs": [
    {
     "name": "stdout",
     "output_type": "stream",
     "text": [
      "1 -- odd\n",
      "2 -- even\n",
      "3 -- odd\n",
      "4 -- even\n",
      "5 -- odd\n",
      "6 -- even\n",
      "7 -- odd\n",
      "8 -- even\n",
      "9 -- odd\n",
      "10 -- even\n"
     ]
    }
   ],
   "source": [
    "for num in lst:\n",
    "    if num % 2 == 0:\n",
    "        print(num, '-- even')\n",
    "    else:\n",
    "        print(num, '-- odd')"
   ]
  },
  {
   "cell_type": "code",
   "execution_count": 3,
   "metadata": {},
   "outputs": [
    {
     "name": "stdout",
     "output_type": "stream",
     "text": [
      "sum of lst numbers: 55\n"
     ]
    }
   ],
   "source": [
    "num_sum = 0\n",
    "\n",
    "for num in lst:\n",
    "    num_sum += num\n",
    "    \n",
    "print('sum of lst numbers:', num_sum)"
   ]
  },
  {
   "cell_type": "code",
   "execution_count": 4,
   "metadata": {},
   "outputs": [
    {
     "name": "stdout",
     "output_type": "stream",
     "text": [
      "sum of lst numbers: 55\n"
     ]
    }
   ],
   "source": [
    "num_sum = 0\n",
    "\n",
    "for num in lst:\n",
    "    num_sum += num\n",
    "    \n",
    "print('sum of lst numbers:', num_sum)"
   ]
  },
  {
   "cell_type": "markdown",
   "metadata": {},
   "source": [
    "## Loop With Strings"
   ]
  },
  {
   "cell_type": "code",
   "execution_count": 5,
   "metadata": {},
   "outputs": [
    {
     "name": "stdout",
     "output_type": "stream",
     "text": [
      "letter in string: H\n",
      "letter in string: E\n",
      "letter in string: L\n",
      "letter in string: L\n",
      "letter in string: O\n",
      "letter in string: ,\n",
      "letter in string:  \n",
      "letter in string: E\n",
      "letter in string: A\n",
      "letter in string: R\n",
      "letter in string: T\n",
      "letter in string: H\n",
      "letter in string: !\n"
     ]
    }
   ],
   "source": [
    "for letter in 'Hello, Earth!'.upper():\n",
    "    print('letter in string:', letter)"
   ]
  },
  {
   "cell_type": "markdown",
   "metadata": {},
   "source": [
    "## Loop With Tuple"
   ]
  },
  {
   "cell_type": "code",
   "execution_count": 6,
   "metadata": {},
   "outputs": [
    {
     "name": "stdout",
     "output_type": "stream",
     "text": [
      "el in tuple: 1\n",
      "el in tuple: 2\n",
      "el in tuple: 3\n",
      "el in tuple: 4\n",
      "el in tuple: 5\n"
     ]
    }
   ],
   "source": [
    "tup = (1, 2, 3, 4, 5)\n",
    "\n",
    "for t in tup:\n",
    "    print('el in tuple:', t)"
   ]
  },
  {
   "cell_type": "markdown",
   "metadata": {},
   "source": [
    "### Tuple Unpacking"
   ]
  },
  {
   "cell_type": "code",
   "execution_count": 7,
   "metadata": {},
   "outputs": [
    {
     "name": "stdout",
     "output_type": "stream",
     "text": [
      "tuple in ls: (2, 4)\n",
      "tuple in ls: (6, 8)\n",
      "tuple in ls: (10, 12)\n"
     ]
    }
   ],
   "source": [
    "ls = [(2, 4), (6, 8), (10, 12)]\n",
    "\n",
    "# Without tuple unpacking\n",
    "for tup in ls:\n",
    "    print('tuple in ls:', tup)"
   ]
  },
  {
   "cell_type": "code",
   "execution_count": 8,
   "metadata": {},
   "outputs": [
    {
     "name": "stdout",
     "output_type": "stream",
     "text": [
      "tuple in ls contains: 2 4\n",
      "tuple in ls contains: 6 8\n",
      "tuple in ls contains: 10 12\n"
     ]
    }
   ],
   "source": [
    "# Now with tuple unpacking!\n",
    "for (el1, el2) in ls:\n",
    "    print('tuple in ls contains:', el1, el2)"
   ]
  },
  {
   "cell_type": "markdown",
   "metadata": {},
   "source": [
    "**This is important because many object will deliver their iterables through tuples**"
   ]
  },
  {
   "cell_type": "code",
   "execution_count": 9,
   "metadata": {},
   "outputs": [
    {
     "name": "stdout",
     "output_type": "stream",
     "text": [
      "el in dict: k1\n",
      "el in dict: k2\n",
      "el in dict: k3\n"
     ]
    }
   ],
   "source": [
    "d = {\n",
    "    'k1': 1,\n",
    "    'k2': 2,\n",
    "    'k3': 3\n",
    "}\n",
    "\n",
    "# Returns keys only\n",
    "for el in d:\n",
    "    print('el in dict:', el)"
   ]
  },
  {
   "cell_type": "code",
   "execution_count": 10,
   "metadata": {},
   "outputs": [
    {
     "name": "stdout",
     "output_type": "stream",
     "text": [
      "item in dict: dict_items([('k1', 1), ('k2', 2), ('k3', 3)])\n"
     ]
    }
   ],
   "source": [
    "# Accessing the values: Generator returning tuples\n",
    "x = d.items()\n",
    "print('item in dict:', x)"
   ]
  },
  {
   "cell_type": "code",
   "execution_count": 11,
   "metadata": {},
   "outputs": [
    {
     "name": "stdout",
     "output_type": "stream",
     "text": [
      "k1 / 1\n",
      "k2 / 2\n",
      "k3 / 3\n"
     ]
    }
   ],
   "source": [
    "# Iterating through d.items() with tuple unpacking\n",
    "for k, v in d.items():\n",
    "    print(\"{} / {}\".format(k, v))"
   ]
  }
 ],
 "metadata": {
  "hide_input": false,
  "kernelspec": {
   "display_name": "Python 3 (ipykernel)",
   "language": "python",
   "name": "python3"
  },
  "language_info": {
   "codemirror_mode": {
    "name": "ipython",
    "version": 3
   },
   "file_extension": ".py",
   "mimetype": "text/x-python",
   "name": "python",
   "nbconvert_exporter": "python",
   "pygments_lexer": "ipython3",
   "version": "3.8.11"
  },
  "toc": {
   "base_numbering": 1,
   "nav_menu": {},
   "number_sections": true,
   "sideBar": true,
   "skip_h1_title": true,
   "title_cell": "Table of Contents",
   "title_sidebar": "Contents",
   "toc_cell": true,
   "toc_position": {},
   "toc_section_display": true,
   "toc_window_display": true
  },
  "varInspector": {
   "cols": {
    "lenName": 16,
    "lenType": 16,
    "lenVar": 40
   },
   "kernels_config": {
    "python": {
     "delete_cmd_postfix": "",
     "delete_cmd_prefix": "del ",
     "library": "var_list.py",
     "varRefreshCmd": "print(var_dic_list())"
    },
    "r": {
     "delete_cmd_postfix": ") ",
     "delete_cmd_prefix": "rm(",
     "library": "var_list.r",
     "varRefreshCmd": "cat(var_dic_list()) "
    }
   },
   "types_to_exclude": [
    "module",
    "function",
    "builtin_function_or_method",
    "instance",
    "_Feature"
   ],
   "window_display": false
  }
 },
 "nbformat": 4,
 "nbformat_minor": 4
}
