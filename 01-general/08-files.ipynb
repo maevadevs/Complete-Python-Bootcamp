{
 "cells": [
  {
   "cell_type": "markdown",
   "metadata": {},
   "source": [
    "# Files"
   ]
  },
  {
   "cell_type": "markdown",
   "metadata": {
    "toc": true
   },
   "source": [
    "<h1>Table of Contents<span class=\"tocSkip\"></span></h1>\n",
    "<div class=\"toc\"><ul class=\"toc-item\"><li><span><a href=\"#Opening-a-File:-open()\" data-toc-modified-id=\"Opening-a-File:-open()-1\"><span class=\"toc-item-num\">1&nbsp;&nbsp;</span>Opening a File: <code>open()</code></a></span></li><li><span><a href=\"#Reading-a-File:-file.seek(pos)-|-file.read()|-file.readlines()\" data-toc-modified-id=\"Reading-a-File:-file.seek(pos)-|-file.read()|-file.readlines()-2\"><span class=\"toc-item-num\">2&nbsp;&nbsp;</span>Reading a File: <code>file.seek(pos) | file.read()| file.readlines()</code></a></span></li><li><span><a href=\"#Using-the-with-Keyword\" data-toc-modified-id=\"Using-the-with-Keyword-3\"><span class=\"toc-item-num\">3&nbsp;&nbsp;</span>Using the <code>with</code> Keyword</a></span></li><li><span><a href=\"#Writing-To-File:-file.open(file,-mode='w')\" data-toc-modified-id=\"Writing-To-File:-file.open(file,-mode='w')-4\"><span class=\"toc-item-num\">4&nbsp;&nbsp;</span>Writing To File: <code>file.open(file, mode='w')</code></a></span></li><li><span><a href=\"#Iterating-Through-A-File\" data-toc-modified-id=\"Iterating-Through-A-File-5\"><span class=\"toc-item-num\">5&nbsp;&nbsp;</span>Iterating Through A File</a></span></li></ul></div>"
   ]
  },
  {
   "cell_type": "markdown",
   "metadata": {},
   "source": [
    "- Python uses file objects to interact with external files on your computer\n",
    "- These file objects can be any sort of file you have on your computer: an audio file, a text file, emails, Excel documents, etc... \n",
    "- However, you will probably need to install certain libraries or modules to interact with some of those various file types, but they are easily available\n",
    "- Python has a built-in `open()` function that allows us to open and play with basic file types\n",
    "\n",
    "```python\n",
    "for line in open('filename'):\n",
    "    # Do something\n",
    "```"
   ]
  },
  {
   "cell_type": "code",
   "execution_count": 1,
   "metadata": {},
   "outputs": [
    {
     "name": "stdout",
     "output_type": "stream",
     "text": [
      "C:\\Users\\maeva\\OneDrive\\Documents\\Developer\\python\\complete-python-bootcamp\\01-general\n"
     ]
    }
   ],
   "source": [
    "from pathlib import Path\n",
    "from os import path\n",
    "\n",
    "root = Path().absolute()\n",
    "print(root)"
   ]
  },
  {
   "cell_type": "markdown",
   "metadata": {},
   "source": [
    "## Opening a File: `open()`"
   ]
  },
  {
   "cell_type": "code",
   "execution_count": 2,
   "metadata": {},
   "outputs": [],
   "source": [
    "# Open the testfile.txt we made earlier\n",
    "my_file = open(path.join(root, '..', 'demofiles', 'testfile1.txt'))"
   ]
  },
  {
   "cell_type": "markdown",
   "metadata": {},
   "source": [
    "## Reading a File: `file.seek(pos) | file.read()| file.readlines()`"
   ]
  },
  {
   "cell_type": "markdown",
   "metadata": {},
   "source": [
    "- `file.seek(pos)`: Move the cursor to a specified position position. `0` for beginning\n",
    "- `file.read()`: Start reading the file from the current position"
   ]
  },
  {
   "cell_type": "code",
   "execution_count": 3,
   "metadata": {},
   "outputs": [
    {
     "data": {
      "text/plain": [
       "0"
      ]
     },
     "execution_count": 3,
     "metadata": {},
     "output_type": "execute_result"
    }
   ],
   "source": [
    "# We can now read the file: Seek to the beginning\n",
    "my_file.seek(0)"
   ]
  },
  {
   "cell_type": "code",
   "execution_count": 4,
   "metadata": {},
   "outputs": [
    {
     "name": "stdout",
     "output_type": "stream",
     "text": [
      "Reading the content of textfile1.txt: \n",
      "This is a new added using w+ line\n",
      "This is a second line\n",
      "This is a third line\n",
      "This is a fourth line\n",
      "This is a fifth line\n"
     ]
    }
   ],
   "source": [
    "# Then start reading. Capture in a variable\n",
    "read = my_file.read()\n",
    "print(f'Reading the content of textfile1.txt: {read}')"
   ]
  },
  {
   "cell_type": "code",
   "execution_count": 5,
   "metadata": {},
   "outputs": [
    {
     "name": "stdout",
     "output_type": "stream",
     "text": [
      "\n"
     ]
    }
   ],
   "source": [
    "# But what happens if we try to read it again?\n",
    "print(my_file.read())"
   ]
  },
  {
   "cell_type": "markdown",
   "metadata": {},
   "source": [
    "- Nothing shows up!!!\n",
    "- This happens because you can imagine the reading \"cursor\" is at the end of the file after having read it\n",
    "- So there is nothing left to read\n",
    "- We need to reset the \"cursor\" in order to read again"
   ]
  },
  {
   "cell_type": "code",
   "execution_count": 6,
   "metadata": {},
   "outputs": [
    {
     "data": {
      "text/plain": [
       "0"
      ]
     },
     "execution_count": 6,
     "metadata": {},
     "output_type": "execute_result"
    }
   ],
   "source": [
    "# Reset: Seek to the start of file (index 0)\n",
    "my_file.seek(0)"
   ]
  },
  {
   "cell_type": "code",
   "execution_count": 7,
   "metadata": {},
   "outputs": [
    {
     "name": "stdout",
     "output_type": "stream",
     "text": [
      "Reading textfile1.txt one more time: \n",
      "This is a new added using w+ line\n",
      "This is a second line\n",
      "This is a third line\n",
      "This is a fourth line\n",
      "This is a fifth line\n"
     ]
    }
   ],
   "source": [
    "# Now read again\n",
    "print(f'Reading textfile1.txt one more time: {my_file.read()}')"
   ]
  },
  {
   "cell_type": "markdown",
   "metadata": {},
   "source": [
    "- In order to not have to reset every time, we can also use the `file.readlines()`\n",
    "- Use this with caution for large files, since everything will be held in memory "
   ]
  },
  {
   "cell_type": "code",
   "execution_count": 8,
   "metadata": {},
   "outputs": [
    {
     "name": "stdout",
     "output_type": "stream",
     "text": [
      "Using readlines() to get each line: ['\\n', 'This is a new added using w+ line\\n', 'This is a second line\\n', 'This is a third line\\n', 'This is a fourth line\\n', 'This is a fifth line']\n"
     ]
    }
   ],
   "source": [
    "my_file.seek(0)\n",
    "# Readlines returns a list of the lines in the file\n",
    "print(f'Using readlines() to get each line: {my_file.readlines()}')"
   ]
  },
  {
   "cell_type": "code",
   "execution_count": 9,
   "metadata": {},
   "outputs": [
    {
     "name": "stdout",
     "output_type": "stream",
     "text": [
      "\n",
      "This is a new added using w+ line\n",
      "This is a second line\n",
      "This is a third line\n",
      "This is a fourth line\n",
      "This is a fifth line"
     ]
    }
   ],
   "source": [
    "my_file.seek(0)\n",
    "\n",
    "for line in my_file.readlines():\n",
    "    print(line, end=\"\")"
   ]
  },
  {
   "cell_type": "code",
   "execution_count": 10,
   "metadata": {},
   "outputs": [],
   "source": [
    "# Close the file when done\n",
    "my_file.close()"
   ]
  },
  {
   "cell_type": "markdown",
   "metadata": {},
   "source": [
    "## Using the `with` Keyword"
   ]
  },
  {
   "cell_type": "markdown",
   "metadata": {},
   "source": [
    "- We can also make use of the `with` keyword to access te contents of a file\n",
    "- Using this method, there is no need to worry about closing the file"
   ]
  },
  {
   "cell_type": "code",
   "execution_count": 11,
   "metadata": {},
   "outputs": [
    {
     "name": "stdout",
     "output_type": "stream",
     "text": [
      "---------------------------\n",
      "Using the `with` keyword:\n",
      "\n",
      "This is a new added using w+ line\n",
      "This is a second line\n",
      "This is a third line\n",
      "This is a fourth line\n",
      "This is a fifth line\n"
     ]
    }
   ],
   "source": [
    "with open(path.join(root, '..', 'demofiles', 'testfile1.txt')) as my_new_file:\n",
    "    contents = my_new_file.read()\n",
    "\n",
    "print('---------------------------')\n",
    "print('Using the `with` keyword:')\n",
    "print(contents)"
   ]
  },
  {
   "cell_type": "markdown",
   "metadata": {},
   "source": [
    "## Writing To File: `file.open(file, mode='w')`"
   ]
  },
  {
   "cell_type": "markdown",
   "metadata": {},
   "source": [
    "- By default, using the `file.open()` function will read the file\n",
    "- To write: We need to pass the argument `'w'`\n",
    "- Opening the file for writing\n",
    "  - Add a second argument to the function, \n",
    "  - `'w'` which stands for write (overwrite)\n",
    "  - `'a'` for append only\n",
    "  - `'r'` for read only (default)\n",
    "  - `'r+'` for read/write\n",
    "  - `'w+'` for read/write (overwrite or create new file)"
   ]
  },
  {
   "cell_type": "code",
   "execution_count": 12,
   "metadata": {},
   "outputs": [
    {
     "name": "stdout",
     "output_type": "stream",
     "text": [
      "\n",
      "This is a newly added line using w+\n",
      "\n",
      "This is a newly added line using w+\n",
      "This is a second line\n",
      "This is a third line\n",
      "This is a fourth line\n",
      "This is a fifth line\n",
      "\n",
      "This is a newly added line using w+\n",
      "This is a second line\n",
      "This is a third line\n",
      "This is a fourth line\n",
      "This is a fifth line\n"
     ]
    }
   ],
   "source": [
    "with open(path.join(root, '..', 'demofiles', 'testfile2.txt'), mode='w+') as my_file:\n",
    "    # Now write to the file (Overwrite)\n",
    "    my_file.write('\\nThis is a newly added line using w+')\n",
    "    \n",
    "    # Read the file\n",
    "    my_file.seek(0)\n",
    "    print(my_file.read())\n",
    "    \n",
    "    # Add another write\n",
    "    my_file.write('\\nThis is a second line')\n",
    "    my_file.write('\\nThis is a third line')\n",
    "    my_file.write('\\nThis is a fourth line')\n",
    "    my_file.write('\\nThis is a fifth line')\n",
    "    \n",
    "    # Read the file\n",
    "    my_file.seek(0)\n",
    "    print(my_file.read())\n",
    "    \n",
    "    # Read the file again\n",
    "    my_file.seek(0)\n",
    "    print(my_file.read())"
   ]
  },
  {
   "cell_type": "markdown",
   "metadata": {},
   "source": [
    "## Iterating Through A File"
   ]
  },
  {
   "cell_type": "markdown",
   "metadata": {},
   "source": [
    "- This is a good technique for CSV processing: Looping through each line in the file\n",
    "\n",
    "```python\n",
    "for line in open('filename'):\n",
    "    # Do something\n",
    "```\n",
    "- Now we can use a little bit of flow to tell the program to loop through every line of the file and do something\n",
    "- **Note: If file is empty, this will throw an error**"
   ]
  },
  {
   "cell_type": "code",
   "execution_count": 13,
   "metadata": {},
   "outputs": [
    {
     "name": "stdout",
     "output_type": "stream",
     "text": [
      "---\n",
      "\n",
      "---This is a newly added line using w+\n",
      "\n",
      "---This is a second line\n",
      "\n",
      "---This is a third line\n",
      "\n",
      "---This is a fourth line\n",
      "\n",
      "---This is a fifth line\n"
     ]
    }
   ],
   "source": [
    "for line in open(path.join(root, '..', 'demofiles', 'testfile2.txt')):\n",
    "    print(f'---{line}')"
   ]
  },
  {
   "cell_type": "markdown",
   "metadata": {},
   "source": [
    "- It's important to note a few things here:\n",
    "  1. We could have called the 'line' object anything\n",
    "  1. By not calling `.read()` on the file, the whole text file was not stored in memory\n",
    "  1. Notice the indent on the second line for print. This whitespace is required in Python"
   ]
  }
 ],
 "metadata": {
  "hide_input": false,
  "kernelspec": {
   "display_name": "Python 3 (ipykernel)",
   "language": "python",
   "name": "python3"
  },
  "language_info": {
   "codemirror_mode": {
    "name": "ipython",
    "version": 3
   },
   "file_extension": ".py",
   "mimetype": "text/x-python",
   "name": "python",
   "nbconvert_exporter": "python",
   "pygments_lexer": "ipython3",
   "version": "3.8.11"
  },
  "toc": {
   "base_numbering": 1,
   "nav_menu": {},
   "number_sections": true,
   "sideBar": true,
   "skip_h1_title": true,
   "title_cell": "Table of Contents",
   "title_sidebar": "Contents",
   "toc_cell": true,
   "toc_position": {},
   "toc_section_display": true,
   "toc_window_display": true
  },
  "varInspector": {
   "cols": {
    "lenName": 16,
    "lenType": 16,
    "lenVar": 40
   },
   "kernels_config": {
    "python": {
     "delete_cmd_postfix": "",
     "delete_cmd_prefix": "del ",
     "library": "var_list.py",
     "varRefreshCmd": "print(var_dic_list())"
    },
    "r": {
     "delete_cmd_postfix": ") ",
     "delete_cmd_prefix": "rm(",
     "library": "var_list.r",
     "varRefreshCmd": "cat(var_dic_list()) "
    }
   },
   "types_to_exclude": [
    "module",
    "function",
    "builtin_function_or_method",
    "instance",
    "_Feature"
   ],
   "window_display": false
  }
 },
 "nbformat": 4,
 "nbformat_minor": 4
}
