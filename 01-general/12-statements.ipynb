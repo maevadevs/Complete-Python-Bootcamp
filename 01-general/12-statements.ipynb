{
 "cells": [
  {
   "cell_type": "markdown",
   "metadata": {},
   "source": [
    "# Statements"
   ]
  },
  {
   "cell_type": "markdown",
   "metadata": {
    "toc": true
   },
   "source": [
    "<h1>Table of Contents<span class=\"tocSkip\"></span></h1>\n",
    "<div class=\"toc\"><ul class=\"toc-item\"><li><span><a href=\"#Python-vs-Other-Languages\" data-toc-modified-id=\"Python-vs-Other-Languages-1\"><span class=\"toc-item-num\">1&nbsp;&nbsp;</span>Python vs Other Languages</a></span></li><li><span><a href=\"#Indentation\" data-toc-modified-id=\"Indentation-2\"><span class=\"toc-item-num\">2&nbsp;&nbsp;</span>Indentation</a></span></li></ul></div>"
   ]
  },
  {
   "cell_type": "markdown",
   "metadata": {},
   "source": [
    "- Emphasize differences between Python and other languages such as C++\n",
    "- If you are coming from a different language this will rapidly accelerate your understanding of Python\n",
    "- Learning about statements will allow you to be able to read other languages more easily in the future"
   ]
  },
  {
   "cell_type": "markdown",
   "metadata": {},
   "source": [
    "## Python vs Other Languages"
   ]
  },
  {
   "cell_type": "markdown",
   "metadata": {},
   "source": [
    "- A simple statement: `If a is greater than b, assign 2 to a and 4 to b`\n",
    "\n",
    "```java\n",
    "// Version 1 (Other Languages)\n",
    "if (a > b) {\n",
    "    a = 2;\n",
    "    b = 4;\n",
    "}\n",
    "```\n",
    "\n",
    "```python\n",
    "# Version 2 (Python)\n",
    "if a > b:\n",
    "    a = 2\n",
    "    b = 4\n",
    "```"
   ]
  },
  {
   "cell_type": "markdown",
   "metadata": {},
   "source": [
    "- Python is less cluttered and much more readable than the first version\n",
    "- Python gets rid of `()` and `{}` and instead uses `:` and `whitespace`\n",
    "  - Whitespace indentation is used to describe what takes place in a statement block\n",
    "- Python gets rid of `;`\n",
    "  - The end of a line (`\\n`) is the same as the end of a statement"
   ]
  },
  {
   "cell_type": "markdown",
   "metadata": {},
   "source": [
    "## Indentation"
   ]
  },
  {
   "cell_type": "markdown",
   "metadata": {},
   "source": [
    "- Python is heavily driven by code indentation and whitespace\n",
    "- Code readability is a core part of the design of the Python language\n",
    "- Python is function-scoped, not block-scoped"
   ]
  },
  {
   "cell_type": "markdown",
   "metadata": {},
   "source": [
    "```java\n",
    "// **Other Languages**\n",
    "if (x) {\n",
    "    if (y) {\n",
    "        code-statement;\n",
    "    }\n",
    "}\n",
    "else {\n",
    "    another-code-statement;\n",
    "}\n",
    "```\n",
    "```python       \n",
    "# **Python**\n",
    "if x:\n",
    "    if y:\n",
    "        code-statement\n",
    "else:\n",
    "    another-code-statement\n",
    "```"
   ]
  }
 ],
 "metadata": {
  "hide_input": false,
  "kernelspec": {
   "display_name": "Python 3 (ipykernel)",
   "language": "python",
   "name": "python3"
  },
  "language_info": {
   "codemirror_mode": {
    "name": "ipython",
    "version": 3
   },
   "file_extension": ".py",
   "mimetype": "text/x-python",
   "name": "python",
   "nbconvert_exporter": "python",
   "pygments_lexer": "ipython3",
   "version": "3.8.11"
  },
  "toc": {
   "base_numbering": 1,
   "nav_menu": {},
   "number_sections": true,
   "sideBar": true,
   "skip_h1_title": true,
   "title_cell": "Table of Contents",
   "title_sidebar": "Contents",
   "toc_cell": true,
   "toc_position": {},
   "toc_section_display": true,
   "toc_window_display": true
  },
  "varInspector": {
   "cols": {
    "lenName": 16,
    "lenType": 16,
    "lenVar": 40
   },
   "kernels_config": {
    "python": {
     "delete_cmd_postfix": "",
     "delete_cmd_prefix": "del ",
     "library": "var_list.py",
     "varRefreshCmd": "print(var_dic_list())"
    },
    "r": {
     "delete_cmd_postfix": ") ",
     "delete_cmd_prefix": "rm(",
     "library": "var_list.r",
     "varRefreshCmd": "cat(var_dic_list()) "
    }
   },
   "types_to_exclude": [
    "module",
    "function",
    "builtin_function_or_method",
    "instance",
    "_Feature"
   ],
   "window_display": false
  }
 },
 "nbformat": 4,
 "nbformat_minor": 4
}
