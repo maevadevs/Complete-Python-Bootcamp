{
 "cells": [
  {
   "cell_type": "markdown",
   "metadata": {
    "toc": true
   },
   "source": [
    "<h1>Table of Contents<span class=\"tocSkip\"></span></h1>\n",
    "<div class=\"toc\"><ul class=\"toc-item\"></ul></div>"
   ]
  },
  {
   "cell_type": "markdown",
   "metadata": {},
   "source": [
    "# Assessment Test"
   ]
  },
  {
   "cell_type": "markdown",
   "metadata": {},
   "source": [
    "- Problem 1: Fill in the `Line` class methods to accept coordinate as a pair of tuples and return the slope and distance of the line"
   ]
  },
  {
   "cell_type": "code",
   "execution_count": 1,
   "metadata": {},
   "outputs": [],
   "source": [
    "from math import sqrt\n",
    "\n",
    "class Line(object):\n",
    "    def __init__(self, p0, p):\n",
    "        # p0 and p are tuples on self\n",
    "        self.p0 = p0    # p0 = (x0, y0)\n",
    "        self.p = p      # p = (x, y)\n",
    "    \n",
    "    def distance(self):\n",
    "        # tuple unpacking: p0 and p are tuples on self\n",
    "        x0, y0 = self.p0\n",
    "        x, y = self.p\n",
    "        # Using absolute value: Distance = sqrt((x-x0)**2 + (y-y0)**2)\n",
    "        return sqrt((float(x) - float(x0))**2 + (float(y) - float(y0))**2)\n",
    "  \n",
    "    def slope(self):\n",
    "        # tuple unpacking: p0 and p are tuples on self\n",
    "        x0, y0 = self.p0\n",
    "        x, y = self.p\n",
    "        # Using absolute value: Slope = DeltaY / DelatX\n",
    "        return abs(float(y) - float(y0)) / abs(float(x) - float(x0))"
   ]
  },
  {
   "cell_type": "code",
   "execution_count": 2,
   "metadata": {},
   "outputs": [
    {
     "name": "stdout",
     "output_type": "stream",
     "text": [
      "distance: 9.433981132056603\n",
      "slope: 1.6\n"
     ]
    }
   ],
   "source": [
    "# EXAMPLE OUTPUT\n",
    "point1 = (3,2)\n",
    "point2 = (8,10)\n",
    "li = Line(point1, point2)\n",
    "\n",
    "print('distance:', li.distance())\n",
    "print('slope:', li.slope())"
   ]
  },
  {
   "cell_type": "markdown",
   "metadata": {},
   "source": [
    "- Problem 2: Fill in the class"
   ]
  },
  {
   "cell_type": "code",
   "execution_count": 3,
   "metadata": {},
   "outputs": [],
   "source": [
    "from math import pi\n",
    "\n",
    "class Cylinder(object):\n",
    "    def __init__(self, height=1, radius=1):\n",
    "        self.height = height\n",
    "        self.radius = radius\n",
    "      \n",
    "    def volume(self):\n",
    "        # Cylinder volume: V = πr^2h\n",
    "        return (pi * (self.radius ** 2)) * self.height\n",
    "\n",
    "    def surface_area(self):\n",
    "        # Cylinder surface area: A = 2πrh (side) + 2πr^2 (top circle)\n",
    "        side = 2 * pi * self.radius * self.height\n",
    "        top_circle = 2 * pi * self.radius ** 2\n",
    "        return side + top_circle"
   ]
  },
  {
   "cell_type": "code",
   "execution_count": 4,
   "metadata": {},
   "outputs": [
    {
     "name": "stdout",
     "output_type": "stream",
     "text": [
      "volume: 56.548667764616276\n",
      "surface: 94.24777960769379\n"
     ]
    }
   ],
   "source": [
    "# EXAMPLE OUTPUT\n",
    "c = Cylinder(2, 3)\n",
    "print('volume:', c.volume())\n",
    "print('surface:', c.surface_area())"
   ]
  }
 ],
 "metadata": {
  "kernelspec": {
   "display_name": "Python 3",
   "language": "python",
   "name": "python3"
  },
  "language_info": {
   "codemirror_mode": {
    "name": "ipython",
    "version": 3
   },
   "file_extension": ".py",
   "mimetype": "text/x-python",
   "name": "python",
   "nbconvert_exporter": "python",
   "pygments_lexer": "ipython3",
   "version": "3.7.6"
  },
  "toc": {
   "base_numbering": 1,
   "nav_menu": {},
   "number_sections": true,
   "sideBar": true,
   "skip_h1_title": true,
   "title_cell": "Table of Contents",
   "title_sidebar": "Contents",
   "toc_cell": true,
   "toc_position": {},
   "toc_section_display": true,
   "toc_window_display": true
  }
 },
 "nbformat": 4,
 "nbformat_minor": 4
}
