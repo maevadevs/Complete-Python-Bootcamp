{
 "cells": [
  {
   "cell_type": "markdown",
   "metadata": {
    "toc": true
   },
   "source": [
    "<h1>Table of Contents<span class=\"tocSkip\"></span></h1>\n",
    "<div class=\"toc\"><ul class=\"toc-item\"><li><span><a href=\"#Scope-Review\" data-toc-modified-id=\"Scope-Review-1\"><span class=\"toc-item-num\">1&nbsp;&nbsp;</span>Scope Review</a></span></li><li><span><a href=\"#Closure:-Functions-Within-Function\" data-toc-modified-id=\"Closure:-Functions-Within-Function-2\"><span class=\"toc-item-num\">2&nbsp;&nbsp;</span>Closure: Functions Within Function</a></span></li><li><span><a href=\"#Function-As-Argument\" data-toc-modified-id=\"Function-As-Argument-3\"><span class=\"toc-item-num\">3&nbsp;&nbsp;</span>Function As Argument</a></span></li><li><span><a href=\"#Creating-A-Decorator\" data-toc-modified-id=\"Creating-A-Decorator-4\"><span class=\"toc-item-num\">4&nbsp;&nbsp;</span>Creating A Decorator</a></span></li></ul></div>"
   ]
  },
  {
   "cell_type": "markdown",
   "metadata": {},
   "source": [
    "# Decorators"
   ]
  },
  {
   "cell_type": "markdown",
   "metadata": {},
   "source": [
    "- Can be thought of as Pre-processors of function arguments (functions as an argument)\n",
    "- Decorators can be thought of as functions which modify the functionality of another function.\n",
    "- They help to make your code shorter and more \"Pythonic\"."
   ]
  },
  {
   "cell_type": "code",
   "execution_count": 1,
   "metadata": {},
   "outputs": [
    {
     "data": {
      "text/plain": [
       "1"
      ]
     },
     "execution_count": 1,
     "metadata": {},
     "output_type": "execute_result"
    }
   ],
   "source": [
    "def func():\n",
    "    return 1\n",
    "\n",
    "func()"
   ]
  },
  {
   "cell_type": "markdown",
   "metadata": {},
   "source": [
    "## Scope Review"
   ]
  },
  {
   "cell_type": "markdown",
   "metadata": {},
   "source": [
    "- Python uses Scope to know what a label is referring to\n",
    "- Python functions create a new scop\n",
    "- We can check for local variables and global variables with the `locals()` and `globals()` functions"
   ]
  },
  {
   "cell_type": "code",
   "execution_count": 3,
   "metadata": {},
   "outputs": [],
   "source": [
    "s = 'A sample Global Variable'\n",
    "\n",
    "def func():\n",
    "    print(locals())"
   ]
  },
  {
   "cell_type": "code",
   "execution_count": 6,
   "metadata": {},
   "outputs": [
    {
     "name": "stdout",
     "output_type": "stream",
     "text": [
      "dict_keys(['__name__', '__doc__', '__package__', '__loader__', '__spec__', '__builtin__', '__builtins__', '_ih', '_oh', '_dh', 'In', 'Out', 'get_ipython', 'exit', 'quit', '_', '__', '___', '_i', '_ii', '_iii', '_i1', 'func', '_1', '_i2', 's', '_i3', '_i4', '_i5', '_i6'])\n",
      "A sample Global Variable\n"
     ]
    }
   ],
   "source": [
    "print(globals().keys())\n",
    "print(globals()['s'])"
   ]
  },
  {
   "cell_type": "markdown",
   "metadata": {},
   "source": [
    "- In Python, everything is an object\n",
    "- Functions are objects which can be assigned labels and passed into other functions"
   ]
  },
  {
   "cell_type": "code",
   "execution_count": 7,
   "metadata": {},
   "outputs": [
    {
     "data": {
      "text/plain": [
       "'Hello Jose'"
      ]
     },
     "execution_count": 7,
     "metadata": {},
     "output_type": "execute_result"
    }
   ],
   "source": [
    "def sayHello(name='Jose'):\n",
    "    return 'Hello ' + name\n",
    "\n",
    "sayHello()"
   ]
  },
  {
   "cell_type": "code",
   "execution_count": 8,
   "metadata": {},
   "outputs": [
    {
     "name": "stdout",
     "output_type": "stream",
     "text": [
      "<class 'function'>\n"
     ]
    },
    {
     "data": {
      "text/plain": [
       "'Hello Jose'"
      ]
     },
     "execution_count": 8,
     "metadata": {},
     "output_type": "execute_result"
    }
   ],
   "source": [
    "greet = sayHello # Assigning a function to a variable\n",
    "print(type(greet))\n",
    "greet()"
   ]
  },
  {
   "cell_type": "markdown",
   "metadata": {},
   "source": [
    "- This assignment is not attached to the original function\n",
    "- In other word, **it is not an assignment by reference** but by value: the function.\n",
    "- If we delete the original, the copy will still exist"
   ]
  },
  {
   "cell_type": "code",
   "execution_count": 9,
   "metadata": {},
   "outputs": [
    {
     "data": {
      "text/plain": [
       "'Hello Jose'"
      ]
     },
     "execution_count": 9,
     "metadata": {},
     "output_type": "execute_result"
    }
   ],
   "source": [
    "del sayHello\n",
    "greet() # Still works even if sayHello() was deleted"
   ]
  },
  {
   "cell_type": "markdown",
   "metadata": {},
   "source": [
    "## Closure: Functions Within Function"
   ]
  },
  {
   "cell_type": "code",
   "execution_count": 10,
   "metadata": {},
   "outputs": [
    {
     "name": "stdout",
     "output_type": "stream",
     "text": [
      "The hello() function has been executed.\n",
      "\t This is from the inside of the greet() function\n",
      "\t This is from the inside of the welcome() function\n",
      "Now we are back inside the hello() function\n"
     ]
    }
   ],
   "source": [
    "def hello(name='Jose'):\n",
    "    print('The hello() function has been executed.')\n",
    "\n",
    "    def greet():\n",
    "        return '\\t This is from the inside of the greet() function'\n",
    "\n",
    "    def welcome():\n",
    "        return \"\\t This is from the inside of the welcome() function\"\n",
    "\n",
    "    print(greet())\n",
    "    print(welcome())\n",
    "    print(\"Now we are back inside the hello() function\")\n",
    "\n",
    "hello()"
   ]
  },
  {
   "cell_type": "markdown",
   "metadata": {},
   "source": [
    "- Returning a function from within a function as the return value"
   ]
  },
  {
   "cell_type": "code",
   "execution_count": 13,
   "metadata": {},
   "outputs": [],
   "source": [
    "def hello(name='Jose'):\n",
    "    def greet():\n",
    "        return '\\t This is inside the greet() function'\n",
    "\n",
    "    def welcome():\n",
    "        return \"\\t This is inside the welcome() function\"\n",
    "\n",
    "    if name == 'Jose':\n",
    "        return greet  # A function object\n",
    "    else:\n",
    "        return welcome  # A function object\n",
    "\n",
    "my_func = hello()"
   ]
  },
  {
   "cell_type": "code",
   "execution_count": 14,
   "metadata": {},
   "outputs": [
    {
     "name": "stdout",
     "output_type": "stream",
     "text": [
      "<class 'function'>\n"
     ]
    }
   ],
   "source": [
    "print(type(my_func))"
   ]
  },
  {
   "cell_type": "code",
   "execution_count": 17,
   "metadata": {},
   "outputs": [
    {
     "data": {
      "text/plain": [
       "'\\t This is inside the greet() function'"
      ]
     },
     "execution_count": 17,
     "metadata": {},
     "output_type": "execute_result"
    }
   ],
   "source": [
    "my_func()"
   ]
  },
  {
   "cell_type": "markdown",
   "metadata": {},
   "source": [
    "- Deleting the `hello()` function will not affect `my_func()`"
   ]
  },
  {
   "cell_type": "code",
   "execution_count": 16,
   "metadata": {},
   "outputs": [
    {
     "data": {
      "text/plain": [
       "'\\t This is inside the greet() function'"
      ]
     },
     "execution_count": 16,
     "metadata": {},
     "output_type": "execute_result"
    }
   ],
   "source": [
    "del hello\n",
    "my_func()"
   ]
  },
  {
   "cell_type": "markdown",
   "metadata": {},
   "source": [
    "## Function As Argument"
   ]
  },
  {
   "cell_type": "code",
   "execution_count": 18,
   "metadata": {},
   "outputs": [],
   "source": [
    "def hello():\n",
    "    return 'Hi Jose!'\n",
    "\n",
    "def other(func):\n",
    "    print('Other code would go here')\n",
    "    print(func())"
   ]
  },
  {
   "cell_type": "code",
   "execution_count": 19,
   "metadata": {},
   "outputs": [
    {
     "name": "stdout",
     "output_type": "stream",
     "text": [
      "Other code would go here\n",
      "Hi Jose!\n"
     ]
    }
   ],
   "source": [
    "other(hello)"
   ]
  },
  {
   "cell_type": "markdown",
   "metadata": {},
   "source": [
    "## Creating A Decorator"
   ]
  },
  {
   "cell_type": "markdown",
   "metadata": {},
   "source": [
    "- A `decorator` is a function that takes another function as an argument, then modify that other function's output"
   ]
  },
  {
   "cell_type": "code",
   "execution_count": 20,
   "metadata": {},
   "outputs": [],
   "source": [
    "def newDecorator(func):\n",
    "    def wrapFunc():\n",
    "        print(\"<This is a decoration from the decorator>\")\n",
    "        func()\n",
    "        print(\"</This is a decoration from the decorator>\")\n",
    "\n",
    "    return wrapFunc\n",
    "\n",
    "def funcNeedsDecorator():\n",
    "    print(\"This is from inside the function argument.\")"
   ]
  },
  {
   "cell_type": "code",
   "execution_count": 21,
   "metadata": {},
   "outputs": [
    {
     "name": "stdout",
     "output_type": "stream",
     "text": [
      "This is from inside the function argument.\n"
     ]
    }
   ],
   "source": [
    "funcNeedsDecorator()"
   ]
  },
  {
   "cell_type": "markdown",
   "metadata": {},
   "source": [
    "- To add a decorator to a function, it must be added during the function's definition"
   ]
  },
  {
   "cell_type": "code",
   "execution_count": 23,
   "metadata": {},
   "outputs": [],
   "source": [
    "# Right way to call a decorator\n",
    "@newDecorator\n",
    "def funcNeedsDecorator():\n",
    "    print(\"This is from inside the function argument.\")"
   ]
  },
  {
   "cell_type": "code",
   "execution_count": 24,
   "metadata": {},
   "outputs": [
    {
     "name": "stdout",
     "output_type": "stream",
     "text": [
      "<This is a decoration from the decorator>\n",
      "This is from inside the function argument.\n",
      "</This is a decoration from the decorator>\n"
     ]
    }
   ],
   "source": [
    "funcNeedsDecorator()"
   ]
  }
 ],
 "metadata": {
  "kernelspec": {
   "display_name": "Python 3",
   "language": "python",
   "name": "python3"
  },
  "language_info": {
   "codemirror_mode": {
    "name": "ipython",
    "version": 3
   },
   "file_extension": ".py",
   "mimetype": "text/x-python",
   "name": "python",
   "nbconvert_exporter": "python",
   "pygments_lexer": "ipython3",
   "version": "3.7.6"
  },
  "toc": {
   "base_numbering": 1,
   "nav_menu": {},
   "number_sections": true,
   "sideBar": true,
   "skip_h1_title": true,
   "title_cell": "Table of Contents",
   "title_sidebar": "Contents",
   "toc_cell": true,
   "toc_position": {},
   "toc_section_display": true,
   "toc_window_display": true
  }
 },
 "nbformat": 4,
 "nbformat_minor": 4
}
