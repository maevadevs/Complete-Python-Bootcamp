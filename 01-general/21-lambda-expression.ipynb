{
 "cells": [
  {
   "cell_type": "markdown",
   "metadata": {
    "toc": true
   },
   "source": [
    "<h1>Table of Contents<span class=\"tocSkip\"></span></h1>\n",
    "<div class=\"toc\"><ul class=\"toc-item\"><li><span><a href=\"#Examples\" data-toc-modified-id=\"Examples-1\"><span class=\"toc-item-num\">1&nbsp;&nbsp;</span>Examples</a></span></li><li><span><a href=\"#Advantages\" data-toc-modified-id=\"Advantages-2\"><span class=\"toc-item-num\">2&nbsp;&nbsp;</span>Advantages</a></span><ul class=\"toc-item\"><li><span><a href=\"#Usage-With-map()\" data-toc-modified-id=\"Usage-With-map()-2.1\"><span class=\"toc-item-num\">2.1&nbsp;&nbsp;</span>Usage With <code>map()</code></a></span></li><li><span><a href=\"#Usage-With-filter()\" data-toc-modified-id=\"Usage-With-filter()-2.2\"><span class=\"toc-item-num\">2.2&nbsp;&nbsp;</span>Usage With <code>filter()</code></a></span></li><li><span><a href=\"#Usage-With-reduce()\" data-toc-modified-id=\"Usage-With-reduce()-2.3\"><span class=\"toc-item-num\">2.3&nbsp;&nbsp;</span>Usage With <code>reduce()</code></a></span></li></ul></li></ul></div>"
   ]
  },
  {
   "cell_type": "markdown",
   "metadata": {},
   "source": [
    "# Lambda Expression"
   ]
  },
  {
   "cell_type": "markdown",
   "metadata": {},
   "source": [
    "- Allows to create \"anonymous\" functions\n",
    "- Lambda's body is a single expression, not a block of statements\n",
    "- A lambda is less general than a `def\n",
    "- lambda is designed for coding simple functions, and `def` handles the larger tasks"
   ]
  },
  {
   "cell_type": "markdown",
   "metadata": {},
   "source": [
    "## Examples"
   ]
  },
  {
   "cell_type": "code",
   "execution_count": 1,
   "metadata": {},
   "outputs": [
    {
     "name": "stdout",
     "output_type": "stream",
     "text": [
      "4\n"
     ]
    }
   ],
   "source": [
    "# Original function\n",
    "def square(num):\n",
    "    return num**2\n",
    "\n",
    "print(square(2))"
   ]
  },
  {
   "cell_type": "code",
   "execution_count": 2,
   "metadata": {},
   "outputs": [
    {
     "name": "stdout",
     "output_type": "stream",
     "text": [
      "4\n"
     ]
    }
   ],
   "source": [
    "# We can actually write this in one line (although it would be bad style to do so)\n",
    "def square(num): return num**2\n",
    "\n",
    "print(square(2))"
   ]
  },
  {
   "cell_type": "markdown",
   "metadata": {},
   "source": [
    "- This is the form a function that a lambda expression intends to replicate. \n",
    "- A lambda expression can then be written as:\n",
    "\n",
    "```python\n",
    "lambda inputs: returned expression\n",
    "```"
   ]
  },
  {
   "cell_type": "code",
   "execution_count": 3,
   "metadata": {},
   "outputs": [],
   "source": [
    "square = lambda num: num**2"
   ]
  },
  {
   "cell_type": "code",
   "execution_count": 4,
   "metadata": {},
   "outputs": [
    {
     "name": "stdout",
     "output_type": "stream",
     "text": [
      "4\n"
     ]
    }
   ],
   "source": [
    "print(square(2))"
   ]
  },
  {
   "cell_type": "markdown",
   "metadata": {},
   "source": [
    "- For multiple args, make sure to **not** use a parenthesis\n",
    "- Otherwise, it would be considered a tuple"
   ]
  },
  {
   "cell_type": "code",
   "execution_count": 5,
   "metadata": {},
   "outputs": [
    {
     "data": {
      "text/plain": [
       "<function __main__.<lambda>(num1, num2)>"
      ]
     },
     "execution_count": 5,
     "metadata": {},
     "output_type": "execute_result"
    }
   ],
   "source": [
    "lambda num1, num2: num1 * num2"
   ]
  },
  {
   "cell_type": "markdown",
   "metadata": {},
   "source": [
    "- Lambda expressions can be assigned to variables and be used later"
   ]
  },
  {
   "cell_type": "code",
   "execution_count": 6,
   "metadata": {},
   "outputs": [
    {
     "name": "stdout",
     "output_type": "stream",
     "text": [
      "10\n",
      "100\n"
     ]
    }
   ],
   "source": [
    "multiply = lambda num1, num2: num1 * num2\n",
    "square = lambda num: num**2\n",
    "\n",
    "print(multiply(2, 5))\n",
    "print(square(10))"
   ]
  },
  {
   "cell_type": "code",
   "execution_count": 7,
   "metadata": {},
   "outputs": [
    {
     "name": "stdout",
     "output_type": "stream",
     "text": [
      "False\n",
      "True\n"
     ]
    }
   ],
   "source": [
    "# Check if a number is even\n",
    "iseven = lambda x: x % 2 == 0\n",
    "\n",
    "print(iseven(3))\n",
    "print(iseven(8987698759859866))"
   ]
  },
  {
   "cell_type": "code",
   "execution_count": 8,
   "metadata": {},
   "outputs": [
    {
     "name": "stdout",
     "output_type": "stream",
     "text": [
      "False\n"
     ]
    }
   ],
   "source": [
    "# Now, from lambda to def\n",
    "def iseven(number):\n",
    "    return number % 2 == 0\n",
    "\n",
    "print(iseven(5))"
   ]
  },
  {
   "cell_type": "code",
   "execution_count": 9,
   "metadata": {},
   "outputs": [
    {
     "name": "stdout",
     "output_type": "stream",
     "text": [
      "h\n"
     ]
    }
   ],
   "source": [
    "# Grab first character of a string:\n",
    "first_char = lambda s: s[0]\n",
    "print(first_char('hello'))"
   ]
  },
  {
   "cell_type": "code",
   "execution_count": 10,
   "metadata": {},
   "outputs": [
    {
     "name": "stdout",
     "output_type": "stream",
     "text": [
      "olleh\n"
     ]
    }
   ],
   "source": [
    "# Reverse a string:\n",
    "reverse_s = lambda s: s[::-1]\n",
    "print(reverse_s('hello'))"
   ]
  },
  {
   "cell_type": "code",
   "execution_count": 11,
   "metadata": {},
   "outputs": [
    {
     "name": "stdout",
     "output_type": "stream",
     "text": [
      "5\n"
     ]
    }
   ],
   "source": [
    "# Two arguments: No parenthesis\n",
    "add = lambda x, y : x + y\n",
    "print(add(2, 3))"
   ]
  },
  {
   "cell_type": "markdown",
   "metadata": {},
   "source": [
    "## Advantages"
   ]
  },
  {
   "cell_type": "markdown",
   "metadata": {},
   "source": [
    "- lambda expressions really shine when used in conjunction with `map()`, `filter()` and `reduce()` "
   ]
  },
  {
   "cell_type": "markdown",
   "metadata": {},
   "source": [
    "### Usage With `map()`"
   ]
  },
  {
   "cell_type": "code",
   "execution_count": 12,
   "metadata": {},
   "outputs": [
    {
     "name": "stdout",
     "output_type": "stream",
     "text": [
      "[1, 4, 9, 16, 25, 36, 49]\n"
     ]
    }
   ],
   "source": [
    "my_nums = [1, 2, 3, 4, 5, 6, 7]\n",
    "my_nums_squared = [x for x in map(lambda el: el**2, my_nums)]\n",
    "\n",
    "print(my_nums_squared)"
   ]
  },
  {
   "cell_type": "markdown",
   "metadata": {},
   "source": [
    "### Usage With `filter()`"
   ]
  },
  {
   "cell_type": "code",
   "execution_count": 13,
   "metadata": {},
   "outputs": [
    {
     "name": "stdout",
     "output_type": "stream",
     "text": [
      "[2, 4, 6]\n"
     ]
    }
   ],
   "source": [
    "my_nums = [1, 2, 3, 4, 5, 6, 7]\n",
    "my_even_nums = [x for x in filter(lambda el: el % 2 == 0, my_nums)]\n",
    "\n",
    "print(my_even_nums)"
   ]
  },
  {
   "cell_type": "markdown",
   "metadata": {},
   "source": [
    "### Usage With `reduce()`"
   ]
  },
  {
   "cell_type": "code",
   "execution_count": 14,
   "metadata": {},
   "outputs": [
    {
     "name": "stdout",
     "output_type": "stream",
     "text": [
      "5040\n"
     ]
    }
   ],
   "source": [
    "from functools import reduce\n",
    "\n",
    "my_nums = [1, 2, 3, 4, 5, 6, 7]\n",
    "my_nums_product = reduce(lambda x, y: x * y, my_nums)\n",
    "\n",
    "print(my_nums_product)"
   ]
  }
 ],
 "metadata": {
  "kernelspec": {
   "display_name": "Python 3",
   "language": "python",
   "name": "python3"
  },
  "language_info": {
   "codemirror_mode": {
    "name": "ipython",
    "version": 3
   },
   "file_extension": ".py",
   "mimetype": "text/x-python",
   "name": "python",
   "nbconvert_exporter": "python",
   "pygments_lexer": "ipython3",
   "version": "3.8.2"
  },
  "toc": {
   "base_numbering": 1,
   "nav_menu": {},
   "number_sections": true,
   "sideBar": true,
   "skip_h1_title": true,
   "title_cell": "Table of Contents",
   "title_sidebar": "Contents",
   "toc_cell": true,
   "toc_position": {},
   "toc_section_display": true,
   "toc_window_display": true
  }
 },
 "nbformat": 4,
 "nbformat_minor": 4
}
