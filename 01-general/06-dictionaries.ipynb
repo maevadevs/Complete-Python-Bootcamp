{
 "cells": [
  {
   "cell_type": "markdown",
   "metadata": {},
   "source": [
    "# Dictionaries"
   ]
  },
  {
   "cell_type": "markdown",
   "metadata": {
    "toc": true
   },
   "source": [
    "<h1>Table of Contents<span class=\"tocSkip\"></span></h1>\n",
    "<div class=\"toc\"><ul class=\"toc-item\"><li><span><a href=\"#Mappings\" data-toc-modified-id=\"Mappings-1\"><span class=\"toc-item-num\">1&nbsp;&nbsp;</span>Mappings</a></span></li><li><span><a href=\"#Constructing-a-Dictionary\" data-toc-modified-id=\"Constructing-a-Dictionary-2\"><span class=\"toc-item-num\">2&nbsp;&nbsp;</span>Constructing a Dictionary</a></span></li><li><span><a href=\"#Nesting-With-Dictionaries\" data-toc-modified-id=\"Nesting-With-Dictionaries-3\"><span class=\"toc-item-num\">3&nbsp;&nbsp;</span>Nesting With Dictionaries</a></span></li><li><span><a href=\"#Basic-Dictionary-Methods\" data-toc-modified-id=\"Basic-Dictionary-Methods-4\"><span class=\"toc-item-num\">4&nbsp;&nbsp;</span>Basic Dictionary Methods</a></span><ul class=\"toc-item\"><li><span><a href=\"#Keys:-dict.keys()\" data-toc-modified-id=\"Keys:-dict.keys()-4.1\"><span class=\"toc-item-num\">4.1&nbsp;&nbsp;</span>Keys: <code>dict.keys()</code></a></span></li><li><span><a href=\"#Values:-dict.values()\" data-toc-modified-id=\"Values:-dict.values()-4.2\"><span class=\"toc-item-num\">4.2&nbsp;&nbsp;</span>Values: <code>dict.values()</code></a></span></li><li><span><a href=\"#Items:-dict.items()\" data-toc-modified-id=\"Items:-dict.items()-4.3\"><span class=\"toc-item-num\">4.3&nbsp;&nbsp;</span>Items: <code>dict.items()</code></a></span></li></ul></li></ul></div>"
   ]
  },
  {
   "cell_type": "markdown",
   "metadata": {},
   "source": [
    "- Dictionaries are about **mappings** in Python\n",
    "- You can think of these Dictionaries as hash tables, or the foundation of Objects"
   ]
  },
  {
   "cell_type": "markdown",
   "metadata": {},
   "source": [
    "## Mappings"
   ]
  },
  {
   "cell_type": "markdown",
   "metadata": {},
   "source": [
    "- Mappings are a collection of objects that are stored by *key*\n",
    "- *Mappings won't retain order since they have objects defined by a key*\n",
    "- A Python dictionary consists of a *key* and then an associated *value*\n",
    "- The value can almost be any Python object\n",
    "- Dictionaries are *mutable*"
   ]
  },
  {
   "cell_type": "markdown",
   "metadata": {},
   "source": [
    "## Constructing a Dictionary"
   ]
  },
  {
   "cell_type": "markdown",
   "metadata": {},
   "source": [
    "- Make a dictionary with `{}` and `:` to signify a `{key:value}` pair\n",
    "- We can also use the `dict()` constructor"
   ]
  },
  {
   "cell_type": "code",
   "execution_count": 1,
   "metadata": {},
   "outputs": [
    {
     "name": "stdout",
     "output_type": "stream",
     "text": [
      "value2\n"
     ]
    }
   ],
   "source": [
    "my_dict = {\n",
    "  'key1':'value1',\n",
    "  'key2':'value2'\n",
    "}\n",
    "\n",
    "# Call values by their key\n",
    "print(my_dict['key2'])"
   ]
  },
  {
   "cell_type": "code",
   "execution_count": 2,
   "metadata": {},
   "outputs": [
    {
     "name": "stdout",
     "output_type": "stream",
     "text": [
      "('item0', 'item1', 'item2')\n"
     ]
    }
   ],
   "source": [
    "# Dictionaries can contain any data types (dynamic)\n",
    "my_dict = {\n",
    "  'key1': 123,\n",
    "  'key2': [12, 23, 33],\n",
    "  'key3': ('item0', 'item1', 'item2')\n",
    "}\n",
    "\n",
    "# Lets call items from the dictionary\n",
    "print(my_dict['key3'])"
   ]
  },
  {
   "cell_type": "code",
   "execution_count": 3,
   "metadata": {},
   "outputs": [
    {
     "name": "stdout",
     "output_type": "stream",
     "text": [
      "item0\n"
     ]
    }
   ],
   "source": [
    "# Can call an index on that value\n",
    "print(my_dict['key3'][0])"
   ]
  },
  {
   "cell_type": "code",
   "execution_count": 4,
   "metadata": {},
   "outputs": [
    {
     "name": "stdout",
     "output_type": "stream",
     "text": [
      "ITEM0\n"
     ]
    }
   ],
   "source": [
    "# Can then even call methods on that value\n",
    "print(my_dict['key3'][0].upper())"
   ]
  },
  {
   "cell_type": "code",
   "execution_count": 5,
   "metadata": {},
   "outputs": [
    {
     "name": "stdout",
     "output_type": "stream",
     "text": [
      "123\n"
     ]
    }
   ],
   "source": [
    "# We can affect the values of a key as well. For instance:\n",
    "print(my_dict['key1'])"
   ]
  },
  {
   "cell_type": "code",
   "execution_count": 6,
   "metadata": {},
   "outputs": [
    {
     "name": "stdout",
     "output_type": "stream",
     "text": [
      "0\n"
     ]
    }
   ],
   "source": [
    "# Subtract 123 from the value\n",
    "my_dict['key1'] -= 123\n",
    "print(my_dict['key1'])"
   ]
  },
  {
   "cell_type": "markdown",
   "metadata": {},
   "source": [
    "- We can also create keys by assignment\n",
    "- For instance if we started off with an empty dictionary, we could continually add to it"
   ]
  },
  {
   "cell_type": "code",
   "execution_count": 7,
   "metadata": {},
   "outputs": [
    {
     "name": "stdout",
     "output_type": "stream",
     "text": [
      "{'animal': 'Dog', 'answer': 42}\n"
     ]
    }
   ],
   "source": [
    "# Create a new dictionary\n",
    "d = {}\n",
    "\n",
    "# Create a new key through assignment\n",
    "d['animal'] = 'Dog'\n",
    "\n",
    "# Can do this with any object\n",
    "d['answer'] = 42\n",
    "\n",
    "# Show\n",
    "print(d)"
   ]
  },
  {
   "cell_type": "markdown",
   "metadata": {},
   "source": [
    "## Nesting With Dictionaries"
   ]
  },
  {
   "cell_type": "code",
   "execution_count": 8,
   "metadata": {},
   "outputs": [
    {
     "name": "stdout",
     "output_type": "stream",
     "text": [
      "thisvalue\n"
     ]
    }
   ],
   "source": [
    "d = {\n",
    "  'key1': {\n",
    "    'nestkey': {\n",
    "      'subnestkey':'thisvalue'\n",
    "    }\n",
    "  }\n",
    "}\n",
    "\n",
    "# Keep calling the keys\n",
    "print(d['key1']['nestkey']['subnestkey'])"
   ]
  },
  {
   "cell_type": "markdown",
   "metadata": {},
   "source": [
    "## Basic Dictionary Methods"
   ]
  },
  {
   "cell_type": "code",
   "execution_count": 9,
   "metadata": {},
   "outputs": [],
   "source": [
    "# Create a typical dictionary\n",
    "dicto = {\n",
    "  'key1': 1,\n",
    "  'key2': 2,\n",
    "  'key3': 3\n",
    "}"
   ]
  },
  {
   "cell_type": "markdown",
   "metadata": {},
   "source": [
    "### Keys: `dict.keys()`"
   ]
  },
  {
   "cell_type": "markdown",
   "metadata": {},
   "source": [
    "- Return a list of all keys in the dictionary"
   ]
  },
  {
   "cell_type": "code",
   "execution_count": 10,
   "metadata": {},
   "outputs": [
    {
     "name": "stdout",
     "output_type": "stream",
     "text": [
      "dict_keys(['key1', 'key2', 'key3'])\n"
     ]
    }
   ],
   "source": [
    "print(dicto.keys())"
   ]
  },
  {
   "cell_type": "markdown",
   "metadata": {},
   "source": [
    "### Values: `dict.values()`"
   ]
  },
  {
   "cell_type": "markdown",
   "metadata": {},
   "source": [
    "- Return a list of all values in the dictionary"
   ]
  },
  {
   "cell_type": "code",
   "execution_count": 11,
   "metadata": {},
   "outputs": [
    {
     "name": "stdout",
     "output_type": "stream",
     "text": [
      "dict_values([1, 2, 3])\n"
     ]
    }
   ],
   "source": [
    "print(dicto.values())"
   ]
  },
  {
   "cell_type": "markdown",
   "metadata": {},
   "source": [
    "### Items: `dict.items()`"
   ]
  },
  {
   "cell_type": "markdown",
   "metadata": {},
   "source": [
    "- Return a list that contain each (key:value) pair in the dictionary as tuples"
   ]
  },
  {
   "cell_type": "code",
   "execution_count": 12,
   "metadata": {},
   "outputs": [
    {
     "name": "stdout",
     "output_type": "stream",
     "text": [
      "dict_items([('key1', 1), ('key2', 2), ('key3', 3)])\n"
     ]
    }
   ],
   "source": [
    "print(dicto.items())"
   ]
  }
 ],
 "metadata": {
  "hide_input": false,
  "kernelspec": {
   "display_name": "Python 3 (ipykernel)",
   "language": "python",
   "name": "python3"
  },
  "language_info": {
   "codemirror_mode": {
    "name": "ipython",
    "version": 3
   },
   "file_extension": ".py",
   "mimetype": "text/x-python",
   "name": "python",
   "nbconvert_exporter": "python",
   "pygments_lexer": "ipython3",
   "version": "3.8.11"
  },
  "toc": {
   "base_numbering": 1,
   "nav_menu": {},
   "number_sections": true,
   "sideBar": true,
   "skip_h1_title": true,
   "title_cell": "Table of Contents",
   "title_sidebar": "Contents",
   "toc_cell": true,
   "toc_position": {},
   "toc_section_display": true,
   "toc_window_display": true
  },
  "varInspector": {
   "cols": {
    "lenName": 16,
    "lenType": 16,
    "lenVar": 40
   },
   "kernels_config": {
    "python": {
     "delete_cmd_postfix": "",
     "delete_cmd_prefix": "del ",
     "library": "var_list.py",
     "varRefreshCmd": "print(var_dic_list())"
    },
    "r": {
     "delete_cmd_postfix": ") ",
     "delete_cmd_prefix": "rm(",
     "library": "var_list.r",
     "varRefreshCmd": "cat(var_dic_list()) "
    }
   },
   "types_to_exclude": [
    "module",
    "function",
    "builtin_function_or_method",
    "instance",
    "_Feature"
   ],
   "window_display": false
  }
 },
 "nbformat": 4,
 "nbformat_minor": 4
}
