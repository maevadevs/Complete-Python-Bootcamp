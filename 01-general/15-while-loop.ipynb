{
 "cells": [
  {
   "cell_type": "markdown",
   "metadata": {},
   "source": [
    "# `while` Loop"
   ]
  },
  {
   "cell_type": "markdown",
   "metadata": {
    "toc": true
   },
   "source": [
    "<h1>Table of Contents<span class=\"tocSkip\"></span></h1>\n",
    "<div class=\"toc\"><ul class=\"toc-item\"><li><span><a href=\"#Examples\" data-toc-modified-id=\"Examples-1\"><span class=\"toc-item-num\">1&nbsp;&nbsp;</span>Examples</a></span></li><li><span><a href=\"#break,-continue,-pass\" data-toc-modified-id=\"break,-continue,-pass-2\"><span class=\"toc-item-num\">2&nbsp;&nbsp;</span><code>break</code>, <code>continue</code>, <code>pass</code></a></span><ul class=\"toc-item\"><li><span><a href=\"#Examples\" data-toc-modified-id=\"Examples-2.1\"><span class=\"toc-item-num\">2.1&nbsp;&nbsp;</span>Examples</a></span></li></ul></li></ul></div>"
   ]
  },
  {
   "cell_type": "markdown",
   "metadata": {},
   "source": [
    "- Most general ways to perform iteration\n",
    "- Can contain an `else` statement: This is run *once* when the condition is no longer true\n",
    "\n",
    "```python\n",
    "while condition:\n",
    "    code statements\n",
    "    modification\n",
    "else:\n",
    "    code statements\n",
    "```"
   ]
  },
  {
   "cell_type": "markdown",
   "metadata": {},
   "source": [
    "## Examples"
   ]
  },
  {
   "cell_type": "code",
   "execution_count": 1,
   "metadata": {},
   "outputs": [
    {
     "name": "stdout",
     "output_type": "stream",
     "text": [
      "x is currently: 0\n",
      "\tx is still less than 5, adding 1 to x...\n",
      "x is currently: 1\n",
      "\tx is still less than 5, adding 1 to x...\n",
      "x is currently: 2\n",
      "\tx is still less than 5, adding 1 to x...\n",
      "x is currently: 3\n",
      "\tx is still less than 5, adding 1 to x...\n",
      "x is currently: 4\n",
      "\tx is still less than 5, adding 1 to x...\n"
     ]
    }
   ],
   "source": [
    "x = 0\n",
    "\n",
    "while x < 5:\n",
    "    print('x is currently:', x)\n",
    "    print('\\tx is still less than 5, adding 1 to x...')\n",
    "    x += 1"
   ]
  },
  {
   "cell_type": "code",
   "execution_count": 2,
   "metadata": {},
   "outputs": [
    {
     "name": "stdout",
     "output_type": "stream",
     "text": [
      "x is currently:  0\n",
      "  x is still less than 10, adding 1 to x\n",
      "x is currently:  1\n",
      "  x is still less than 10, adding 1 to x\n",
      "x is currently:  2\n",
      "  x is still less than 10, adding 1 to x\n",
      "x is currently:  3\n",
      "  x is still less than 10, adding 1 to x\n",
      "x is currently:  4\n",
      "  x is still less than 10, adding 1 to x\n",
      "x is currently:  5\n",
      "  x is still less than 10, adding 1 to x\n",
      "x is currently:  6\n",
      "  x is still less than 10, adding 1 to x\n",
      "x is currently:  7\n",
      "  x is still less than 10, adding 1 to x\n",
      "x is currently:  8\n",
      "  x is still less than 10, adding 1 to x\n",
      "x is currently:  9\n",
      "  x is still less than 10, adding 1 to x\n",
      "All Done!\n"
     ]
    }
   ],
   "source": [
    "x = 0\n",
    "\n",
    "# Else is run once when the condition is no longer true\n",
    "while x < 10:\n",
    "    print('x is currently: ', x)\n",
    "    print('  x is still less than 10, adding 1 to x')\n",
    "    x += 1\n",
    "else:\n",
    "    print('All Done!')"
   ]
  },
  {
   "cell_type": "markdown",
   "metadata": {},
   "source": [
    "## `break`, `continue`, `pass`"
   ]
  },
  {
   "cell_type": "markdown",
   "metadata": {},
   "source": [
    "- `break`: Breaks out of the current closest enclosing loop\n",
    "- `continue`: Skip and goes to the top of the closest enclosing loop\n",
    "- `pass`: Skip and does nothing at all. Usually used as placeholder\n",
    "- `break` and `continue` are usually put in conjunction with an `if` statement to perform an action based on some condition\n",
    "\n",
    "```python\n",
    "while condition: \n",
    "    code statement\n",
    "    \n",
    "    if condition: \n",
    "        break\n",
    "    if condition: \n",
    "        continue \n",
    "    else:\n",
    "        code statement\n",
    "```"
   ]
  },
  {
   "cell_type": "markdown",
   "metadata": {},
   "source": [
    "### Examples"
   ]
  },
  {
   "cell_type": "code",
   "execution_count": 3,
   "metadata": {},
   "outputs": [
    {
     "name": "stdout",
     "output_type": "stream",
     "text": [
      "x is currently:  0\n",
      "  x is still less than 5, adding 1 to x\n",
      "continuing...\n",
      "x is currently:  1\n",
      "  x is still less than 5, adding 1 to x\n",
      "continuing...\n",
      "x is currently:  2\n",
      "  x is still less than 5, adding 1 to x\n",
      "Alert!!! x == 3\n",
      "x is currently:  3\n",
      "  x is still less than 5, adding 1 to x\n",
      "continuing...\n",
      "x is currently:  4\n",
      "  x is still less than 5, adding 1 to x\n",
      "continuing...\n",
      "x is now equals to 5\n"
     ]
    }
   ],
   "source": [
    "x = 0\n",
    "\n",
    "while x < 5:\n",
    "    print('x is currently: ', x)\n",
    "    print('  x is still less than 5, adding 1 to x')\n",
    "    x += 1\n",
    "    \n",
    "    if x == 3:\n",
    "        print('Alert!!! x == 3')\n",
    "    else:\n",
    "        print('continuing...')\n",
    "        continue\n",
    "else:\n",
    "    print('x is now equals to 5')"
   ]
  },
  {
   "cell_type": "code",
   "execution_count": 4,
   "metadata": {},
   "outputs": [
    {
     "name": "stdout",
     "output_type": "stream",
     "text": [
      "x is currently:  0\n",
      "  x is still less than 10, adding 1 to x\n",
      "continuing...\n",
      "x is currently:  1\n",
      "  x is still less than 10, adding 1 to x\n",
      "continuing...\n",
      "x is currently:  2\n",
      "  x is still less than 10, adding 1 to x\n",
      "Breaking because x is 3\n"
     ]
    }
   ],
   "source": [
    "x = 0\n",
    "\n",
    "while x < 10:\n",
    "    print('x is currently: ', x)\n",
    "    print('  x is still less than 10, adding 1 to x')\n",
    "    x += 1\n",
    "    \n",
    "    if x == 3:\n",
    "        print('Breaking because x is 3')\n",
    "        break\n",
    "    else:\n",
    "        print('continuing...')\n",
    "        continue"
   ]
  },
  {
   "cell_type": "markdown",
   "metadata": {},
   "source": [
    "- **Caution: It is possible to create an infinitely running loop with while statements**"
   ]
  },
  {
   "cell_type": "code",
   "execution_count": 5,
   "metadata": {},
   "outputs": [],
   "source": [
    "# DO NOT RUN THIS CODE!!!! \n",
    "# while True:\n",
    "#   print('Uh Oh infinite Loop!')"
   ]
  }
 ],
 "metadata": {
  "hide_input": false,
  "kernelspec": {
   "display_name": "Python 3 (ipykernel)",
   "language": "python",
   "name": "python3"
  },
  "language_info": {
   "codemirror_mode": {
    "name": "ipython",
    "version": 3
   },
   "file_extension": ".py",
   "mimetype": "text/x-python",
   "name": "python",
   "nbconvert_exporter": "python",
   "pygments_lexer": "ipython3",
   "version": "3.8.11"
  },
  "toc": {
   "base_numbering": 1,
   "nav_menu": {},
   "number_sections": true,
   "sideBar": true,
   "skip_h1_title": true,
   "title_cell": "Table of Contents",
   "title_sidebar": "Contents",
   "toc_cell": true,
   "toc_position": {},
   "toc_section_display": true,
   "toc_window_display": true
  },
  "varInspector": {
   "cols": {
    "lenName": 16,
    "lenType": 16,
    "lenVar": 40
   },
   "kernels_config": {
    "python": {
     "delete_cmd_postfix": "",
     "delete_cmd_prefix": "del ",
     "library": "var_list.py",
     "varRefreshCmd": "print(var_dic_list())"
    },
    "r": {
     "delete_cmd_postfix": ") ",
     "delete_cmd_prefix": "rm(",
     "library": "var_list.r",
     "varRefreshCmd": "cat(var_dic_list()) "
    }
   },
   "types_to_exclude": [
    "module",
    "function",
    "builtin_function_or_method",
    "instance",
    "_Feature"
   ],
   "window_display": false
  }
 },
 "nbformat": 4,
 "nbformat_minor": 4
}
