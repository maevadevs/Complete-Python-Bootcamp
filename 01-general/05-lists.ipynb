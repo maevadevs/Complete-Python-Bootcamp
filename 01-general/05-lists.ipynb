{
 "cells": [
  {
   "cell_type": "markdown",
   "metadata": {
    "toc": true
   },
   "source": [
    "<h1>Table of Contents<span class=\"tocSkip\"></span></h1>\n",
    "<div class=\"toc\"><ul class=\"toc-item\"><li><span><a href=\"#Creating-a-List\" data-toc-modified-id=\"Creating-a-List-1\"><span class=\"toc-item-num\">1&nbsp;&nbsp;</span>Creating a List</a></span></li><li><span><a href=\"#List-Length:-len()\" data-toc-modified-id=\"List-Length:-len()-2\"><span class=\"toc-item-num\">2&nbsp;&nbsp;</span>List Length: <code>len()</code></a></span></li><li><span><a href=\"#Indexing-and-Slicing\" data-toc-modified-id=\"Indexing-and-Slicing-3\"><span class=\"toc-item-num\">3&nbsp;&nbsp;</span>Indexing and Slicing</a></span></li><li><span><a href=\"#Combining-Lists\" data-toc-modified-id=\"Combining-Lists-4\"><span class=\"toc-item-num\">4&nbsp;&nbsp;</span>Combining Lists</a></span></li><li><span><a href=\"#Duplication\" data-toc-modified-id=\"Duplication-5\"><span class=\"toc-item-num\">5&nbsp;&nbsp;</span>Duplication</a></span></li><li><span><a href=\"#Basic-List-Methods\" data-toc-modified-id=\"Basic-List-Methods-6\"><span class=\"toc-item-num\">6&nbsp;&nbsp;</span>Basic List Methods</a></span><ul class=\"toc-item\"><li><span><a href=\"#Add-a-New-Element:-l.append(el)\" data-toc-modified-id=\"Add-a-New-Element:-l.append(el)-6.1\"><span class=\"toc-item-num\">6.1&nbsp;&nbsp;</span>Add a New Element: <code>l.append(el)</code></a></span></li><li><span><a href=\"#Remove-and-Element:-l.pop([index])\" data-toc-modified-id=\"Remove-and-Element:-l.pop([index])-6.2\"><span class=\"toc-item-num\">6.2&nbsp;&nbsp;</span>Remove and Element: <code>l.pop([index])</code></a></span></li><li><span><a href=\"#Sorting-and-Reversing:-l.sort()-and-l.reverse()\" data-toc-modified-id=\"Sorting-and-Reversing:-l.sort()-and-l.reverse()-6.3\"><span class=\"toc-item-num\">6.3&nbsp;&nbsp;</span>Sorting and Reversing: <code>l.sort()</code> and <code>l.reverse()</code></a></span></li></ul></li><li><span><a href=\"#Nesting-Lists\" data-toc-modified-id=\"Nesting-Lists-7\"><span class=\"toc-item-num\">7&nbsp;&nbsp;</span>Nesting Lists</a></span></li><li><span><a href=\"#List-Comprehension\" data-toc-modified-id=\"List-Comprehension-8\"><span class=\"toc-item-num\">8&nbsp;&nbsp;</span>List Comprehension</a></span></li></ul></div>"
   ]
  },
  {
   "cell_type": "markdown",
   "metadata": {},
   "source": [
    "# List"
   ]
  },
  {
   "cell_type": "markdown",
   "metadata": {},
   "source": [
    "- Earlier on, when discussing strings, we introduced the concept of a *sequence* in Python\n",
    "- *Lists* can be thought of the most general version of a **sequence** in Python\n",
    "- Sequences are a collection of objects that stored by *index*\n",
    "- Unlike Strings, Lists are mutable, meaning the elements inside a list can be changed"
   ]
  },
  {
   "cell_type": "markdown",
   "metadata": {},
   "source": [
    "## Creating a List"
   ]
  },
  {
   "cell_type": "markdown",
   "metadata": {},
   "source": [
    "- Using `[]` and commas separating every element in the list\n",
    "- Can also be constructed using the `list()` constructor\n",
    "- Can hold different types of objects"
   ]
  },
  {
   "cell_type": "code",
   "execution_count": 1,
   "metadata": {},
   "outputs": [
    {
     "data": {
      "text/plain": [
       "[1, 2, 3, 4, 5]"
      ]
     },
     "execution_count": 1,
     "metadata": {},
     "output_type": "execute_result"
    }
   ],
   "source": [
    "# Assigning a list to a variable named my_list\n",
    "my_list = [1, 2, 3, 4, 5]\n",
    "my_list"
   ]
  },
  {
   "cell_type": "code",
   "execution_count": 2,
   "metadata": {},
   "outputs": [
    {
     "data": {
      "text/plain": [
       "['H', 'E', 'L', 'L', 'O']"
      ]
     },
     "execution_count": 2,
     "metadata": {},
     "output_type": "execute_result"
    }
   ],
   "source": [
    "# Building a list of strings from a string\n",
    "my_list_str = list('HELLO')\n",
    "my_list_str"
   ]
  },
  {
   "cell_type": "code",
   "execution_count": 3,
   "metadata": {},
   "outputs": [
    {
     "data": {
      "text/plain": [
       "['A string', 23, 100.232, 'o', True, False]"
      ]
     },
     "execution_count": 3,
     "metadata": {},
     "output_type": "execute_result"
    }
   ],
   "source": [
    "# Dynamic types\n",
    "my_list2 = ['A string', 23, 100.232, 'o', True, False]\n",
    "my_list2"
   ]
  },
  {
   "cell_type": "markdown",
   "metadata": {},
   "source": [
    "## List Length: `len()`"
   ]
  },
  {
   "cell_type": "code",
   "execution_count": 4,
   "metadata": {},
   "outputs": [
    {
     "name": "stdout",
     "output_type": "stream",
     "text": [
      "Length of my_list: 5\n",
      "Length of my_list2: 6\n"
     ]
    }
   ],
   "source": [
    "print(f'Length of my_list: {len(my_list)}')\n",
    "print(f'Length of my_list2: {len(my_list2)}')"
   ]
  },
  {
   "cell_type": "markdown",
   "metadata": {},
   "source": [
    "## Indexing and Slicing"
   ]
  },
  {
   "cell_type": "code",
   "execution_count": 5,
   "metadata": {},
   "outputs": [],
   "source": [
    "my_list = [1, 2, 3, 4, 5]"
   ]
  },
  {
   "cell_type": "code",
   "execution_count": 6,
   "metadata": {},
   "outputs": [
    {
     "name": "stdout",
     "output_type": "stream",
     "text": [
      "my_list[0]: 1\n"
     ]
    }
   ],
   "source": [
    "# Grab element at index 0\n",
    "print(f'my_list[0]: {my_list[0]}')"
   ]
  },
  {
   "cell_type": "code",
   "execution_count": 7,
   "metadata": {},
   "outputs": [
    {
     "name": "stdout",
     "output_type": "stream",
     "text": [
      "my_list[1:]: [2, 3, 4, 5]\n"
     ]
    }
   ],
   "source": [
    "# Grab index 1 and everything past it\n",
    "print(f'my_list[1:]: {my_list[1:]}')"
   ]
  },
  {
   "cell_type": "code",
   "execution_count": 8,
   "metadata": {},
   "outputs": [
    {
     "name": "stdout",
     "output_type": "stream",
     "text": [
      "my_list[:3]: [1, 2, 3]\n"
     ]
    }
   ],
   "source": [
    "# Grab everything UP TO index 3 (Exclusive)\n",
    "print(f'my_list[:3]: {my_list[:3]}')"
   ]
  },
  {
   "cell_type": "markdown",
   "metadata": {},
   "source": [
    "## Combining Lists"
   ]
  },
  {
   "cell_type": "markdown",
   "metadata": {},
   "source": [
    "- We can also use `+` to concatenate lists, just like we did for strings\n",
    "- The end result is a combined list\n",
    "- **Note: This doesn't actually change the original list**"
   ]
  },
  {
   "cell_type": "code",
   "execution_count": 9,
   "metadata": {},
   "outputs": [
    {
     "data": {
      "text/plain": [
       "[1, 2, 3, 4, 5, 6, 7, 8]"
      ]
     },
     "execution_count": 9,
     "metadata": {},
     "output_type": "execute_result"
    }
   ],
   "source": [
    "new_list = my_list + [6, 7, 8]\n",
    "new_list"
   ]
  },
  {
   "cell_type": "code",
   "execution_count": 10,
   "metadata": {},
   "outputs": [
    {
     "name": "stdout",
     "output_type": "stream",
     "text": [
      "my_list: [1, 2, 3, 4, 5]\n",
      "new_list: [1, 2, 3, 4, 5, 6, 7, 8]\n"
     ]
    }
   ],
   "source": [
    "# Note: This doesn't actually change the original list!\n",
    "print(f'my_list: {my_list}') # => Remains unchanged\n",
    "print(f'new_list: {new_list}')"
   ]
  },
  {
   "cell_type": "markdown",
   "metadata": {},
   "source": [
    "- Concatenation does not check for duplicates in the final list\n",
    "- It will combine whatever it is given"
   ]
  },
  {
   "cell_type": "code",
   "execution_count": 11,
   "metadata": {},
   "outputs": [
    {
     "name": "stdout",
     "output_type": "stream",
     "text": [
      "new_list: [1, 2, 3, 4, 5, 6, 7, 8, 7]\n"
     ]
    }
   ],
   "source": [
    "new_list = new_list + [7]\n",
    "print(f'new_list: {new_list}')"
   ]
  },
  {
   "cell_type": "markdown",
   "metadata": {},
   "source": [
    "- If we want to only get uniques after a concatenation, we can use `set()`"
   ]
  },
  {
   "cell_type": "code",
   "execution_count": 12,
   "metadata": {},
   "outputs": [
    {
     "name": "stdout",
     "output_type": "stream",
     "text": [
      "set(new_list): {1, 2, 3, 4, 5, 6, 7, 8}\n"
     ]
    }
   ],
   "source": [
    "print(f'set(new_list): {set(new_list)}')"
   ]
  },
  {
   "cell_type": "markdown",
   "metadata": {},
   "source": [
    "- Concatenation without reassignment is not final\n",
    "- You would have to reassign the list to make the change permanent"
   ]
  },
  {
   "cell_type": "code",
   "execution_count": 13,
   "metadata": {},
   "outputs": [
    {
     "name": "stdout",
     "output_type": "stream",
     "text": [
      "my_list: [1, 2, 3, 4, 5]\n"
     ]
    }
   ],
   "source": [
    "# Here is the original\n",
    "print(f'my_list: {my_list}')"
   ]
  },
  {
   "cell_type": "code",
   "execution_count": 14,
   "metadata": {},
   "outputs": [
    {
     "data": {
      "text/plain": [
       "[1, 2, 3, 4, 5, 'Attempt to add New Item']"
      ]
     },
     "execution_count": 14,
     "metadata": {},
     "output_type": "execute_result"
    }
   ],
   "source": [
    "# Now we add one item\n",
    "my_list + ['Attempt to add New Item']"
   ]
  },
  {
   "cell_type": "code",
   "execution_count": 15,
   "metadata": {},
   "outputs": [
    {
     "name": "stdout",
     "output_type": "stream",
     "text": [
      "my_list: [1, 2, 3, 4, 5]\n"
     ]
    }
   ],
   "source": [
    "# Did it added to my_list?... nope\n",
    "print(f'my_list: {my_list}') # => Remains unchanged"
   ]
  },
  {
   "cell_type": "code",
   "execution_count": 16,
   "metadata": {},
   "outputs": [],
   "source": [
    "# Reassign for permanent changes\n",
    "my_list = my_list + [8]"
   ]
  },
  {
   "cell_type": "code",
   "execution_count": 17,
   "metadata": {},
   "outputs": [
    {
     "name": "stdout",
     "output_type": "stream",
     "text": [
      "my_list: [1, 2, 3, 4, 5, 8]\n"
     ]
    }
   ],
   "source": [
    "# Now run again?... Yes!\n",
    "print(f'my_list: {my_list}') # => Changed"
   ]
  },
  {
   "cell_type": "markdown",
   "metadata": {},
   "source": [
    "## Duplication"
   ]
  },
  {
   "cell_type": "markdown",
   "metadata": {},
   "source": [
    "- We can also use the `*` for a duplication method, similar to strings\n",
    "- This will duplicate the elements within the list, not the list itself"
   ]
  },
  {
   "cell_type": "code",
   "execution_count": 18,
   "metadata": {},
   "outputs": [
    {
     "data": {
      "text/plain": [
       "[1, 2, 3, 4, 5, 8, 1, 2, 3, 4, 5, 8]"
      ]
     },
     "execution_count": 18,
     "metadata": {},
     "output_type": "execute_result"
    }
   ],
   "source": [
    "# Make the list double\n",
    "my_list * 2"
   ]
  },
  {
   "cell_type": "code",
   "execution_count": 19,
   "metadata": {},
   "outputs": [
    {
     "name": "stdout",
     "output_type": "stream",
     "text": [
      "[1, 2, 3, 4, 5, 8]\n"
     ]
    }
   ],
   "source": [
    "# Again duplication is not permanent. Reassign it if needed to be permanent\n",
    "print(my_list)"
   ]
  },
  {
   "cell_type": "markdown",
   "metadata": {},
   "source": [
    "## Basic List Methods"
   ]
  },
  {
   "cell_type": "code",
   "execution_count": 20,
   "metadata": {},
   "outputs": [
    {
     "data": {
      "text/plain": [
       "[1, 2, 3, 4, 5]"
      ]
     },
     "execution_count": 20,
     "metadata": {},
     "output_type": "execute_result"
    }
   ],
   "source": [
    "# Create a new list\n",
    "l = [1, 2, 3, 4, 5]\n",
    "l"
   ]
  },
  {
   "cell_type": "markdown",
   "metadata": {},
   "source": [
    "### Add a New Element: `l.append(el)`"
   ]
  },
  {
   "cell_type": "markdown",
   "metadata": {},
   "source": [
    "- **Permanently add** an item to the end of a list"
   ]
  },
  {
   "cell_type": "code",
   "execution_count": 21,
   "metadata": {},
   "outputs": [
    {
     "data": {
      "text/plain": [
       "[1, 2, 3, 4, 5, 'append me!']"
      ]
     },
     "execution_count": 21,
     "metadata": {},
     "output_type": "execute_result"
    }
   ],
   "source": [
    "l.append('append me!')\n",
    "l"
   ]
  },
  {
   "cell_type": "markdown",
   "metadata": {},
   "source": [
    "### Remove and Element: `l.pop([index])`"
   ]
  },
  {
   "cell_type": "markdown",
   "metadata": {},
   "source": [
    "- \"pop off\" an item from the list\n",
    "- By default pop takes off the last index: `l.pop() == l.pop(-1)`\n",
    "- We can also specify which index to pop off\n",
    "- **Modifies permanently** the list on which it is applied"
   ]
  },
  {
   "cell_type": "code",
   "execution_count": 22,
   "metadata": {},
   "outputs": [
    {
     "data": {
      "text/plain": [
       "[2, 3, 4, 5, 'append me!']"
      ]
     },
     "execution_count": 22,
     "metadata": {},
     "output_type": "execute_result"
    }
   ],
   "source": [
    "l.pop(0) # Remove the first element\n",
    "l"
   ]
  },
  {
   "cell_type": "code",
   "execution_count": 23,
   "metadata": {},
   "outputs": [
    {
     "data": {
      "text/plain": [
       "'append me!'"
      ]
     },
     "execution_count": 23,
     "metadata": {},
     "output_type": "execute_result"
    }
   ],
   "source": [
    "# Assign the popped element, remember default popped index is -1 (last item)\n",
    "popped_item = l.pop()\n",
    "popped_item"
   ]
  },
  {
   "cell_type": "code",
   "execution_count": 24,
   "metadata": {},
   "outputs": [
    {
     "name": "stdout",
     "output_type": "stream",
     "text": [
      "[2, 3, 4, 5]\n"
     ]
    }
   ],
   "source": [
    "# Show remaining list\n",
    "print(l)"
   ]
  },
  {
   "cell_type": "markdown",
   "metadata": {},
   "source": [
    "**Note: lists indexing will return an error if there is no element at that index**"
   ]
  },
  {
   "cell_type": "code",
   "execution_count": 25,
   "metadata": {},
   "outputs": [],
   "source": [
    "# Out of range error\n",
    "# l[100]"
   ]
  },
  {
   "cell_type": "markdown",
   "metadata": {},
   "source": [
    "### Sorting and Reversing: `l.sort()` and `l.reverse()`"
   ]
  },
  {
   "cell_type": "markdown",
   "metadata": {},
   "source": [
    "- `l.sort()` and `l.reverse()` **modifies permanently** the list on which it is applied\n",
    "- NOTE: `l.sort()` only works for same-data types. Otherwise, there will be an error"
   ]
  },
  {
   "cell_type": "code",
   "execution_count": 26,
   "metadata": {},
   "outputs": [
    {
     "name": "stdout",
     "output_type": "stream",
     "text": [
      "['a', 'e', 'x', 'b', 'c']\n"
     ]
    }
   ],
   "source": [
    "new_list = ['a', 'e', 'x', 'b', 'c']\n",
    "print(new_list)"
   ]
  },
  {
   "cell_type": "code",
   "execution_count": 27,
   "metadata": {},
   "outputs": [
    {
     "name": "stdout",
     "output_type": "stream",
     "text": [
      "['c', 'b', 'x', 'e', 'a']\n"
     ]
    }
   ],
   "source": [
    "# Use l.reverse() to reverse order (PERMANENT!)\n",
    "new_list.reverse()\n",
    "print(new_list) # => Change is permanent"
   ]
  },
  {
   "cell_type": "code",
   "execution_count": 28,
   "metadata": {},
   "outputs": [
    {
     "name": "stdout",
     "output_type": "stream",
     "text": [
      "['a', 'b', 'c', 'e', 'x']\n"
     ]
    }
   ],
   "source": [
    "# Use l.sort() to sort the list (PERMANENT)\n",
    "# In this case in alphabetical order, but for numbers it will go ascending)\n",
    "new_list.sort()\n",
    "print(new_list) # => Change is permanent"
   ]
  },
  {
   "cell_type": "code",
   "execution_count": 29,
   "metadata": {},
   "outputs": [
    {
     "name": "stdout",
     "output_type": "stream",
     "text": [
      "['a', 'b', 'c', 'e', 'x', '4', '6', '89', '567', '1234']\n"
     ]
    }
   ],
   "source": [
    "# Let's add numbers to the list\n",
    "# Note: Must be in string format because '<' does not support comparison between int and str\n",
    "new_list.append('4')\n",
    "new_list.append('6')\n",
    "new_list.append('89')\n",
    "new_list.append('567')\n",
    "new_list.append('1234')\n",
    "\n",
    "# View the current list\n",
    "print(new_list)"
   ]
  },
  {
   "cell_type": "code",
   "execution_count": 30,
   "metadata": {},
   "outputs": [
    {
     "name": "stdout",
     "output_type": "stream",
     "text": [
      "['1234', '4', '567', '6', '89', 'a', 'b', 'c', 'e', 'x']\n"
     ]
    }
   ],
   "source": [
    "# Sort again: Numbers will be before letters\n",
    "new_list.sort()\n",
    "print(new_list) # => Change is permanent"
   ]
  },
  {
   "cell_type": "markdown",
   "metadata": {},
   "source": [
    "## Nesting Lists"
   ]
  },
  {
   "cell_type": "code",
   "execution_count": 31,
   "metadata": {},
   "outputs": [],
   "source": [
    "# Let's make three lists\n",
    "ls1 = [1, 2, 3]\n",
    "ls2 = [4, 5, 6]\n",
    "ls3 = [7, 8, 9]"
   ]
  },
  {
   "cell_type": "code",
   "execution_count": 32,
   "metadata": {},
   "outputs": [
    {
     "name": "stdout",
     "output_type": "stream",
     "text": [
      "[[1, 2, 3], [4, 5, 6], [7, 8, 9]]\n"
     ]
    }
   ],
   "source": [
    "# Make a list of lists to form a matrix\n",
    "matrix = [ls1, ls2, ls3]\n",
    "print(matrix)"
   ]
  },
  {
   "cell_type": "code",
   "execution_count": 33,
   "metadata": {},
   "outputs": [
    {
     "data": {
      "text/plain": [
       "[1, 2, 3]"
      ]
     },
     "execution_count": 33,
     "metadata": {},
     "output_type": "execute_result"
    }
   ],
   "source": [
    "# Grab first item in matrix object\n",
    "matrix[0]"
   ]
  },
  {
   "cell_type": "code",
   "execution_count": 34,
   "metadata": {},
   "outputs": [
    {
     "data": {
      "text/plain": [
       "1"
      ]
     },
     "execution_count": 34,
     "metadata": {},
     "output_type": "execute_result"
    }
   ],
   "source": [
    "# Grab first item of the first item in the matrix object\n",
    "matrix[0][0]"
   ]
  },
  {
   "cell_type": "markdown",
   "metadata": {},
   "source": [
    "## List Comprehension"
   ]
  },
  {
   "cell_type": "markdown",
   "metadata": {},
   "source": [
    "- It allows for quick construction of lists\n",
    "- To fully understand list comprehensions, we will need to understand **for** loops\n",
    "- Build a list comprehension by deconstructing a for loop within a []\n",
    "- Interpretation: \n",
    "  - Grab each element in matrix as `row`\n",
    "  - Then for each `row`, grab the first element and build the list out of them\n",
    "  - Assign this list to `first_col`"
   ]
  },
  {
   "cell_type": "code",
   "execution_count": 35,
   "metadata": {},
   "outputs": [
    {
     "data": {
      "text/plain": [
       "[[1, 2, 3], [4, 5, 6], [7, 8, 9]]"
      ]
     },
     "execution_count": 35,
     "metadata": {},
     "output_type": "execute_result"
    }
   ],
   "source": [
    "matrix"
   ]
  },
  {
   "cell_type": "code",
   "execution_count": 36,
   "metadata": {},
   "outputs": [
    {
     "name": "stdout",
     "output_type": "stream",
     "text": [
      "First Column of the matrix: [1, 4, 7]\n"
     ]
    }
   ],
   "source": [
    "# List comprehension\n",
    "first_col = [row[0] for row in matrix]\n",
    "print(f'First Column of the matrix: {first_col}')"
   ]
  }
 ],
 "metadata": {
  "kernelspec": {
   "display_name": "Python 3",
   "language": "python",
   "name": "python3"
  },
  "language_info": {
   "codemirror_mode": {
    "name": "ipython",
    "version": 3
   },
   "file_extension": ".py",
   "mimetype": "text/x-python",
   "name": "python",
   "nbconvert_exporter": "python",
   "pygments_lexer": "ipython3",
   "version": "3.8.2"
  },
  "toc": {
   "base_numbering": 1,
   "nav_menu": {},
   "number_sections": true,
   "sideBar": true,
   "skip_h1_title": true,
   "title_cell": "Table of Contents",
   "title_sidebar": "Contents",
   "toc_cell": true,
   "toc_position": {},
   "toc_section_display": true,
   "toc_window_display": true
  }
 },
 "nbformat": 4,
 "nbformat_minor": 4
}
