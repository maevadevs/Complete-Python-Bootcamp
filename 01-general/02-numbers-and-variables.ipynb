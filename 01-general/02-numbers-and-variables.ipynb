{
 "cells": [
  {
   "cell_type": "markdown",
   "metadata": {},
   "source": [
    "# Numbers and Variables"
   ]
  },
  {
   "cell_type": "markdown",
   "metadata": {
    "toc": true
   },
   "source": [
    "<h1>Table of Contents<span class=\"tocSkip\"></span></h1>\n",
    "<div class=\"toc\"><ul class=\"toc-item\"><li><span><a href=\"#Type-of-Numbers\" data-toc-modified-id=\"Type-of-Numbers-1\"><span class=\"toc-item-num\">1&nbsp;&nbsp;</span>Type of Numbers</a></span></li><li><span><a href=\"#Basic-Arithmetics\" data-toc-modified-id=\"Basic-Arithmetics-2\"><span class=\"toc-item-num\">2&nbsp;&nbsp;</span>Basic Arithmetics</a></span><ul class=\"toc-item\"><li><span><a href=\"#Problem-With-IEEE-754-Floating-Point-Standard\" data-toc-modified-id=\"Problem-With-IEEE-754-Floating-Point-Standard-2.1\"><span class=\"toc-item-num\">2.1&nbsp;&nbsp;</span>Problem With IEEE 754 Floating-Point Standard</a></span></li></ul></li><li><span><a href=\"#Variable-Assignment\" data-toc-modified-id=\"Variable-Assignment-3\"><span class=\"toc-item-num\">3&nbsp;&nbsp;</span>Variable Assignment</a></span></li><li><span><a href=\"#Checking-Variable-Types\" data-toc-modified-id=\"Checking-Variable-Types-4\"><span class=\"toc-item-num\">4&nbsp;&nbsp;</span>Checking Variable Types</a></span></li><li><span><a href=\"#Variable-Nomenclature\" data-toc-modified-id=\"Variable-Nomenclature-5\"><span class=\"toc-item-num\">5&nbsp;&nbsp;</span>Variable Nomenclature</a></span></li></ul></div>"
   ]
  },
  {
   "cell_type": "markdown",
   "metadata": {},
   "source": [
    "## Type of Numbers"
   ]
  },
  {
   "cell_type": "markdown",
   "metadata": {},
   "source": [
    "- **Integers** -- Whole numbers, positive or negative. E.g: 0, 1, 2, -2, -3...\n",
    "- **Floating Point** -- Decimal point, or use an exponential `e` to define the number. E.g: 2.0, -2.1, 4E2 ($4\\times10^2$)"
   ]
  },
  {
   "cell_type": "code",
   "execution_count": 1,
   "metadata": {},
   "outputs": [
    {
     "name": "stdout",
     "output_type": "stream",
     "text": [
      "400.0\n"
     ]
    }
   ],
   "source": [
    "# 4 * 10^2 = 400.0\n",
    "print(4e2)"
   ]
  },
  {
   "cell_type": "code",
   "execution_count": 2,
   "metadata": {},
   "outputs": [
    {
     "name": "stdout",
     "output_type": "stream",
     "text": [
      "200000.0\n"
     ]
    }
   ],
   "source": [
    "# 2 * 10^5 = 200000.0\n",
    "print(2e5)"
   ]
  },
  {
   "cell_type": "markdown",
   "metadata": {},
   "source": [
    "## Basic Arithmetics"
   ]
  },
  {
   "cell_type": "code",
   "execution_count": 3,
   "metadata": {},
   "outputs": [
    {
     "name": "stdout",
     "output_type": "stream",
     "text": [
      "3\n"
     ]
    }
   ],
   "source": [
    "# Addition\n",
    "print(2 + 1)"
   ]
  },
  {
   "cell_type": "code",
   "execution_count": 4,
   "metadata": {},
   "outputs": [
    {
     "name": "stdout",
     "output_type": "stream",
     "text": [
      "1\n"
     ]
    }
   ],
   "source": [
    "# Subtraction\n",
    "print(2 - 1)"
   ]
  },
  {
   "cell_type": "code",
   "execution_count": 5,
   "metadata": {},
   "outputs": [
    {
     "name": "stdout",
     "output_type": "stream",
     "text": [
      "4\n"
     ]
    }
   ],
   "source": [
    "# Multiplication\n",
    "print(2 * 2)"
   ]
  },
  {
   "cell_type": "code",
   "execution_count": 6,
   "metadata": {},
   "outputs": [
    {
     "name": "stdout",
     "output_type": "stream",
     "text": [
      "3\n"
     ]
    }
   ],
   "source": [
    "# Modulo\n",
    "print(7 % 4)"
   ]
  },
  {
   "cell_type": "code",
   "execution_count": 7,
   "metadata": {},
   "outputs": [
    {
     "name": "stdout",
     "output_type": "stream",
     "text": [
      "8\n"
     ]
    }
   ],
   "source": [
    "# Power\n",
    "print(2**3)"
   ]
  },
  {
   "cell_type": "code",
   "execution_count": 8,
   "metadata": {},
   "outputs": [
    {
     "name": "stdout",
     "output_type": "stream",
     "text": [
      "2.0\n"
     ]
    }
   ],
   "source": [
    "# Square Root of 4\n",
    "print(4**(1 / 2))"
   ]
  },
  {
   "cell_type": "code",
   "execution_count": 9,
   "metadata": {},
   "outputs": [
    {
     "name": "stdout",
     "output_type": "stream",
     "text": [
      "3.0\n"
     ]
    }
   ],
   "source": [
    "# Cubic Root of 27\n",
    "print(27**(1 / 3))"
   ]
  },
  {
   "cell_type": "code",
   "execution_count": 10,
   "metadata": {},
   "outputs": [
    {
     "name": "stdout",
     "output_type": "stream",
     "text": [
      "5.0\n"
     ]
    }
   ],
   "source": [
    "# Fourth Root of 625\n",
    "print(625**(1 / 4))"
   ]
  },
  {
   "cell_type": "code",
   "execution_count": 11,
   "metadata": {},
   "outputs": [
    {
     "name": "stdout",
     "output_type": "stream",
     "text": [
      "105\n"
     ]
    }
   ],
   "source": [
    "# Order of Operations: PEMDAS - Standard Math\n",
    "print(2 + 10 * 10 + 3)"
   ]
  },
  {
   "cell_type": "code",
   "execution_count": 12,
   "metadata": {},
   "outputs": [
    {
     "name": "stdout",
     "output_type": "stream",
     "text": [
      "156\n"
     ]
    }
   ],
   "source": [
    "# Use parenthesis to specify priority: PEMDAS - Standard Math\n",
    "print((2 + 10) * (10 + 3))"
   ]
  },
  {
   "cell_type": "markdown",
   "metadata": {},
   "source": [
    "### Problem With IEEE 754 Floating-Point Standard"
   ]
  },
  {
   "cell_type": "markdown",
   "metadata": {},
   "source": [
    "- Similar to all other programming languages (Java, C, JavaScript, Haskell, Julia, Scala...)\n",
    "- It has the same problem with floating point\n",
    "- Consider this: Technically, `x` should be `0` here..."
   ]
  },
  {
   "cell_type": "code",
   "execution_count": 13,
   "metadata": {},
   "outputs": [
    {
     "name": "stdout",
     "output_type": "stream",
     "text": [
      "5.551115123125783e-17\n"
     ]
    }
   ],
   "source": [
    "x = 0.1 + 0.2 - 0.3\n",
    "print(x)"
   ]
  },
  {
   "cell_type": "markdown",
   "metadata": {},
   "source": [
    "- It is close, but it is NOT EXACTLY `0.00`"
   ]
  },
  {
   "cell_type": "code",
   "execution_count": 14,
   "metadata": {},
   "outputs": [
    {
     "name": "stdout",
     "output_type": "stream",
     "text": [
      "False\n"
     ]
    }
   ],
   "source": [
    "print(x == 0)"
   ]
  },
  {
   "cell_type": "markdown",
   "metadata": {},
   "source": [
    "- Floating-point arithmetic is tricky!\n",
    "- https://docs.python.org/3/tutorial/floatingpoint.html"
   ]
  },
  {
   "cell_type": "markdown",
   "metadata": {},
   "source": [
    "## Variable Assignment"
   ]
  },
  {
   "cell_type": "markdown",
   "metadata": {},
   "source": [
    "- By default, Python variables are *local*\n",
    "- Use the `global` keyword to make a variable *global*"
   ]
  },
  {
   "cell_type": "code",
   "execution_count": 15,
   "metadata": {},
   "outputs": [
    {
     "name": "stdout",
     "output_type": "stream",
     "text": [
      "10\n"
     ]
    }
   ],
   "source": [
    "a = 5\n",
    "print(a + a)"
   ]
  },
  {
   "cell_type": "code",
   "execution_count": 16,
   "metadata": {},
   "outputs": [
    {
     "name": "stdout",
     "output_type": "stream",
     "text": [
      "50\n"
     ]
    }
   ],
   "source": [
    "# Re-assignement\n",
    "a = 50\n",
    "print(a)"
   ]
  },
  {
   "cell_type": "code",
   "execution_count": 17,
   "metadata": {},
   "outputs": [
    {
     "name": "stdout",
     "output_type": "stream",
     "text": [
      "100\n"
     ]
    }
   ],
   "source": [
    "# Re-assignement using self\n",
    "a = a + a\n",
    "print(a)"
   ]
  },
  {
   "cell_type": "code",
   "execution_count": 18,
   "metadata": {},
   "outputs": [
    {
     "name": "stdout",
     "output_type": "stream",
     "text": [
      "200\n"
     ]
    }
   ],
   "source": [
    "# There is a shortcut for add-and-assign as well\n",
    "a += a\n",
    "print(a)"
   ]
  },
  {
   "cell_type": "markdown",
   "metadata": {},
   "source": [
    "## Checking Variable Types"
   ]
  },
  {
   "cell_type": "markdown",
   "metadata": {},
   "source": [
    "- Use `type()` to check the type of a variable"
   ]
  },
  {
   "cell_type": "code",
   "execution_count": 19,
   "metadata": {},
   "outputs": [
    {
     "name": "stdout",
     "output_type": "stream",
     "text": [
      "type(a): <class 'int'>\n",
      "type(b): <class 'float'>\n",
      "type(c): <class 'bool'>\n"
     ]
    }
   ],
   "source": [
    "a = 1\n",
    "b = 1.2\n",
    "c = True\n",
    "\n",
    "print('type(a):', type(a))\n",
    "print('type(b):', type(b))\n",
    "print('type(c):', type(c))"
   ]
  },
  {
   "cell_type": "markdown",
   "metadata": {},
   "source": [
    "## Variable Nomenclature"
   ]
  },
  {
   "cell_type": "markdown",
   "metadata": {},
   "source": [
    "- Cannot start with a number\n",
    "- There can be no spaces in the name: Use `_` instead or `camelCasing`\n",
    "- Can't use any of these symbols :`' \" , < > / ? | \\ ( ) ! @ # $ % ^ & * ~ - +`\n",
    "- It is considered best practice (PEP8) that the names are lowercase and using `_`\n",
    "- But for classes, use `PascalCasing`"
   ]
  },
  {
   "cell_type": "code",
   "execution_count": 20,
   "metadata": {},
   "outputs": [
    {
     "name": "stdout",
     "output_type": "stream",
     "text": [
      "My Taxes are $10.00\n"
     ]
    }
   ],
   "source": [
    "my_income = 100\n",
    "tax_rate = 0.1\n",
    "my_taxes = my_income * tax_rate\n",
    "\n",
    "print('My Taxes are ${tax:0.2f}'.format(tax=my_taxes))"
   ]
  }
 ],
 "metadata": {
  "hide_input": false,
  "kernelspec": {
   "display_name": "Python 3 (ipykernel)",
   "language": "python",
   "name": "python3"
  },
  "language_info": {
   "codemirror_mode": {
    "name": "ipython",
    "version": 3
   },
   "file_extension": ".py",
   "mimetype": "text/x-python",
   "name": "python",
   "nbconvert_exporter": "python",
   "pygments_lexer": "ipython3",
   "version": "3.9.7"
  },
  "toc": {
   "base_numbering": 1,
   "nav_menu": {},
   "number_sections": true,
   "sideBar": true,
   "skip_h1_title": true,
   "title_cell": "Table of Contents",
   "title_sidebar": "Contents",
   "toc_cell": true,
   "toc_position": {},
   "toc_section_display": true,
   "toc_window_display": true
  },
  "varInspector": {
   "cols": {
    "lenName": 16,
    "lenType": 16,
    "lenVar": 40
   },
   "kernels_config": {
    "python": {
     "delete_cmd_postfix": "",
     "delete_cmd_prefix": "del ",
     "library": "var_list.py",
     "varRefreshCmd": "print(var_dic_list())"
    },
    "r": {
     "delete_cmd_postfix": ") ",
     "delete_cmd_prefix": "rm(",
     "library": "var_list.r",
     "varRefreshCmd": "cat(var_dic_list()) "
    }
   },
   "types_to_exclude": [
    "module",
    "function",
    "builtin_function_or_method",
    "instance",
    "_Feature"
   ],
   "window_display": false
  }
 },
 "nbformat": 4,
 "nbformat_minor": 4
}
