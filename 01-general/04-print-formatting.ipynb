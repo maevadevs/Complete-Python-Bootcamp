{
 "cells": [
  {
   "cell_type": "markdown",
   "metadata": {
    "toc": true
   },
   "source": [
    "<h1>Table of Contents<span class=\"tocSkip\"></span></h1>\n",
    "<div class=\"toc\"><ul class=\"toc-item\"><li><span><a href=\"#Formatting-Strings\" data-toc-modified-id=\"Formatting-Strings-1\"><span class=\"toc-item-num\">1&nbsp;&nbsp;</span>Formatting Strings</a></span></li><li><span><a href=\"#Formatting-Floating-Points\" data-toc-modified-id=\"Formatting-Floating-Points-2\"><span class=\"toc-item-num\">2&nbsp;&nbsp;</span>Formatting Floating-Points</a></span></li><li><span><a href=\"#Conversion-Format-Method\" data-toc-modified-id=\"Conversion-Format-Method-3\"><span class=\"toc-item-num\">3&nbsp;&nbsp;</span>Conversion Format Method</a></span></li><li><span><a href=\"#Multiple-Formatting\" data-toc-modified-id=\"Multiple-Formatting-4\"><span class=\"toc-item-num\">4&nbsp;&nbsp;</span>Multiple Formatting</a></span></li><li><span><a href=\"#More-About-str.format()\" data-toc-modified-id=\"More-About-str.format()-5\"><span class=\"toc-item-num\">5&nbsp;&nbsp;</span>More About <code>str.format()</code></a></span></li></ul></div>"
   ]
  },
  {
   "cell_type": "markdown",
   "metadata": {},
   "source": [
    "# Print Formatting"
   ]
  },
  {
   "cell_type": "code",
   "execution_count": 1,
   "metadata": {},
   "outputs": [],
   "source": [
    "# The most basic example of a print statement\n",
    "print('This is a string')"
   ]
  },
  {
   "cell_type": "markdown",
   "metadata": {},
   "source": [
    "- 2 ways to do print formatting in Python\n",
    "  - Using the `%` formatter\n",
    "  - Using the `.format()` method"
   ]
  },
  {
   "cell_type": "markdown",
   "metadata": {},
   "source": [
    "## Formatting Strings"
   ]
  },
  {
   "cell_type": "markdown",
   "metadata": {},
   "source": [
    "- Use the `%s` to format strings into print statements\n",
    "- No need for the `%` sign when using `.format()`, just `s`"
   ]
  },
  {
   "cell_type": "code",
   "execution_count": 2,
   "metadata": {},
   "outputs": [],
   "source": [
    "# Using % formatter\n",
    "st = 'STRING'\n",
    "'Place another string with a mod and s: %s' % (st)"
   ]
  },
  {
   "cell_type": "code",
   "execution_count": 3,
   "metadata": {},
   "outputs": [],
   "source": [
    "# Using .format()\n",
    "'Place another string with a mod and s: {:s}'.format(st)"
   ]
  },
  {
   "cell_type": "markdown",
   "metadata": {},
   "source": [
    "## Formatting Floating-Points"
   ]
  },
  {
   "cell_type": "markdown",
   "metadata": {},
   "source": [
    "- Use the format `%m.nf`\n",
    "  - `m`: Total minimum number of digits the string should contain: Can be filled with whitespaces\n",
    "  - `n`: Placeholder for how many numbers to show past the decimal point\n",
    "- No need for the `%` sign when using `.format()`, just `m.nf`"
   ]
  },
  {
   "cell_type": "code",
   "execution_count": 4,
   "metadata": {},
   "outputs": [],
   "source": [
    "# Using % formatter\n",
    "print('Floating point numbers: %1.2f' % (13.144))\n",
    "print('Floating point numbers: %1.0f' % (13.144))\n",
    "print('Floating point numbers: %1.5f' % (13.144))\n",
    "print('Floating point numbers: %10.2f' % (13.144))\n",
    "print('Floating point numbers: %25.2f' %(13.144))"
   ]
  },
  {
   "cell_type": "code",
   "execution_count": 5,
   "metadata": {},
   "outputs": [],
   "source": [
    "# Using .format()\n",
    "print('Floating point numbers: {:1.2f}'.format(13.144))\n",
    "print('Floating point numbers: {:1.0f}'.format(13.144))\n",
    "print('Floating point numbers: {:1.5f}'.format(13.144))\n",
    "print('Floating point numbers: {:10.2f}'.format(13.144))\n",
    "print('Floating point numbers: {:25.2f}'.format(13.144))"
   ]
  },
  {
   "cell_type": "markdown",
   "metadata": {},
   "source": [
    "## Conversion Format Method"
   ]
  },
  {
   "cell_type": "markdown",
   "metadata": {},
   "source": [
    "- `%s` and `%r` convert any python object to a string using two separate methods\n",
    "  - `str()`\n",
    "  - `repr()`\n",
    "- You can actually pass almost any Python object with these two methods and it will work\n",
    "- **Note: These do not work with `.format()`**\n",
    "  - Because `.format()` will convert implicitly to string by default, `:s` and `:r` are not needed\n",
    "  - If you need to use `%r`, use `%` formatter instead"
   ]
  },
  {
   "cell_type": "code",
   "execution_count": 6,
   "metadata": {},
   "outputs": [],
   "source": [
    "# Using % formatter\n",
    "print('Here is a number: %s. Here is a string: %s' % (123.1,'hi'))\n",
    "print('Here is a number: %r. Here is a string: %r' % (123.1,'hi'))"
   ]
  },
  {
   "cell_type": "code",
   "execution_count": 7,
   "metadata": {},
   "outputs": [],
   "source": [
    "# Using .format(): Implicit conversion to str\n",
    "print('Here is a number: {0}. Here is a string: {1}'.format(123.1,'hi'))\n",
    "print('Here is a number: {0}. Here is a string: {1}'.format(123.1,'hi'))"
   ]
  },
  {
   "cell_type": "markdown",
   "metadata": {},
   "source": [
    "## Multiple Formatting"
   ]
  },
  {
   "cell_type": "markdown",
   "metadata": {},
   "source": [
    "- Pass a tuple to the modulo symbol to place multiple formats in your print statements\n",
    "- Same thing can be achieved with `.format()` using multiple parameters"
   ]
  },
  {
   "cell_type": "code",
   "execution_count": 8,
   "metadata": {},
   "outputs": [],
   "source": [
    "# Using % formatter\n",
    "print('First: %s, Second: %1.2f, Third: %r' % ('hi!', 3.14, 22))"
   ]
  },
  {
   "cell_type": "code",
   "execution_count": 9,
   "metadata": {},
   "outputs": [],
   "source": [
    "# Using .format()\n",
    "print('First: {}, Second: {:1.2f}, Third: {}'.format('hi!', 3.14, 22))"
   ]
  },
  {
   "cell_type": "markdown",
   "metadata": {},
   "source": [
    "## More About `str.format()`"
   ]
  },
  {
   "cell_type": "markdown",
   "metadata": {},
   "source": [
    "- The best way to format objects into strings for print statements is using the `format()` method\n",
    "\n",
    "```python\n",
    "'String here {} then also {}'.format('something1', 'something2')\n",
    "'String here {0} then also {1}'.format('something1', 'something2')\n",
    "'String here {var1} then also {var2}'.format(var1='something1',var2='something2')\n",
    "'String here {:formatter} then also {:formatter}'.format('something1', 'something2')\n",
    "'String here {0:formatter} then also {1:formatter}'.format('something1', 'something2')\n",
    "'String here {var1:formatter} then also {var2:formatter}'.format(var1='something1',var2='something2')\n",
    "```"
   ]
  },
  {
   "cell_type": "code",
   "execution_count": 10,
   "metadata": {},
   "outputs": [],
   "source": [
    "'This is a string with an {}'.format('insert')"
   ]
  },
  {
   "cell_type": "code",
   "execution_count": 11,
   "metadata": {},
   "outputs": [],
   "source": [
    "'This is a string with an {0}'.format('insert')"
   ]
  },
  {
   "cell_type": "code",
   "execution_count": 12,
   "metadata": {},
   "outputs": [],
   "source": [
    "'This is a string with an {p}'.format(p='insert')"
   ]
  },
  {
   "cell_type": "code",
   "execution_count": 13,
   "metadata": {},
   "outputs": [],
   "source": [
    "# Multiple times\n",
    "'One: {0}, Two: {0}, Three: {0}'.format('Hi!')"
   ]
  },
  {
   "cell_type": "code",
   "execution_count": 14,
   "metadata": {},
   "outputs": [
    {
     "data": {
      "text/plain": [
       "'One: Hi!, Two: Hi!, Three: Hi!'"
      ]
     },
     "execution_count": 14,
     "metadata": {},
     "output_type": "execute_result"
    }
   ],
   "source": [
    "# Multiple times\n",
    "'One: {p}, Two: {p}, Three: {p}'.format(p='Hi!')"
   ]
  },
  {
   "cell_type": "code",
   "execution_count": 15,
   "metadata": {},
   "outputs": [
    {
     "data": {
      "text/plain": [
       "'Object 1: 1, Object 2: two, Object 3: 12.3'"
      ]
     },
     "execution_count": 15,
     "metadata": {},
     "output_type": "execute_result"
    }
   ],
   "source": [
    "# Several Objects:\n",
    "'Object 1: {a}, Object 2: {b}, Object 3: {c}'.format(a=1, b='two', c=12.3)"
   ]
  }
 ],
 "metadata": {
  "kernelspec": {
   "display_name": "Python 3",
   "language": "python",
   "name": "python3"
  },
  "language_info": {
   "codemirror_mode": {
    "name": "ipython",
    "version": 3
   },
   "file_extension": ".py",
   "mimetype": "text/x-python",
   "name": "python",
   "nbconvert_exporter": "python",
   "pygments_lexer": "ipython3",
   "version": "3.8.2"
  },
  "toc": {
   "base_numbering": 1,
   "nav_menu": {},
   "number_sections": true,
   "sideBar": true,
   "skip_h1_title": true,
   "title_cell": "Table of Contents",
   "title_sidebar": "Contents",
   "toc_cell": true,
   "toc_position": {},
   "toc_section_display": true,
   "toc_window_display": true
  }
 },
 "nbformat": 4,
 "nbformat_minor": 4
}
