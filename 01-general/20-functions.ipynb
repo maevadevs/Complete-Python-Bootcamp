{
 "cells": [
  {
   "cell_type": "markdown",
   "metadata": {
    "toc": true
   },
   "source": [
    "<h1>Table of Contents<span class=\"tocSkip\"></span></h1>\n",
    "<div class=\"toc\"><ul class=\"toc-item\"><li><span><a href=\"#def-Statements\" data-toc-modified-id=\"def-Statements-1\"><span class=\"toc-item-num\">1&nbsp;&nbsp;</span><code>def</code> Statements</a></span></li><li><span><a href=\"#Examples\" data-toc-modified-id=\"Examples-2\"><span class=\"toc-item-num\">2&nbsp;&nbsp;</span>Examples</a></span></li><li><span><a href=\"#Using-return\" data-toc-modified-id=\"Using-return-3\"><span class=\"toc-item-num\">3&nbsp;&nbsp;</span>Using <code>return</code></a></span></li><li><span><a href=\"#*args-and-**kwargs\" data-toc-modified-id=\"*args-and-**kwargs-4\"><span class=\"toc-item-num\">4&nbsp;&nbsp;</span><code>*args</code> and <code>**kwargs</code></a></span></li></ul></div>"
   ]
  },
  {
   "cell_type": "markdown",
   "metadata": {},
   "source": [
    "# Functions"
   ]
  },
  {
   "cell_type": "markdown",
   "metadata": {},
   "source": [
    "- A useful device that groups together a set of statements so they can be run more than once\n",
    "- Allow us to not have to repeatedly write the same code again and again\n",
    "- Can specify parameters that can serve as inputs to the functions\n",
    "- Using Jupyter Notebooks, you'll be able to read docstrings by pressing Shift+Tab after a function name"
   ]
  },
  {
   "cell_type": "markdown",
   "metadata": {},
   "source": [
    "## `def` Statements"
   ]
  },
  {
   "cell_type": "code",
   "execution_count": 1,
   "metadata": {},
   "outputs": [],
   "source": [
    "def name_of_function (arg1, arg2):\n",
    "    \"\"\"This is where the function's Document String (docstring) goes.\n",
    "    Docstring explains about the function and will be showed when using help().\n",
    "    Type annotation of arguments can be ommitted if using _PEP 484: \n",
    "    https://www.python.org/dev/peps/pep-0484/\n",
    "    \n",
    "    Args:  \n",
    "      arg1<Type>: The first argument.\n",
    "      arg2<Type>: The second argument.\n",
    "    \n",
    "    Return:\n",
    "      <Type>: The returned result. <void> if none.\n",
    "    \"\"\"\n",
    "    # Do stuff here within the function\n",
    "    # return desired result"
   ]
  },
  {
   "cell_type": "code",
   "execution_count": 2,
   "metadata": {},
   "outputs": [
    {
     "name": "stdout",
     "output_type": "stream",
     "text": [
      "Help on function name_of_function in module __main__:\n",
      "\n",
      "name_of_function(arg1, arg2)\n",
      "    This is where the function's Document String (docstring) goes.\n",
      "    Docstring explains about the function and will be showed when using help().\n",
      "    Type annotation of arguments can be ommitted if using _PEP 484: \n",
      "    https://www.python.org/dev/peps/pep-0484/\n",
      "    \n",
      "    Args:  \n",
      "      arg1<Type>: The first argument.\n",
      "      arg2<Type>: The second argument.\n",
      "    \n",
      "    Return:\n",
      "      <Type>: The returned result. <void> if none.\n",
      "\n"
     ]
    }
   ],
   "source": [
    "help(name_of_function)"
   ]
  },
  {
   "cell_type": "markdown",
   "metadata": {},
   "source": [
    "## Examples"
   ]
  },
  {
   "cell_type": "code",
   "execution_count": 3,
   "metadata": {},
   "outputs": [],
   "source": [
    "# Example 1: A simple print 'hello' function\n",
    "def say_hello():\n",
    "    \"\"\"say_hello() -> <void> \n",
    "    \n",
    "    Print 'hello' in the console.\n",
    "    \"\"\"\n",
    "    print('hello')"
   ]
  },
  {
   "cell_type": "code",
   "execution_count": 4,
   "metadata": {},
   "outputs": [
    {
     "name": "stdout",
     "output_type": "stream",
     "text": [
      "hello\n"
     ]
    }
   ],
   "source": [
    "# Now, call the function\n",
    "say_hello()"
   ]
  },
  {
   "cell_type": "code",
   "execution_count": 5,
   "metadata": {},
   "outputs": [],
   "source": [
    "# Example 2: A simple greeting function\n",
    "# Let's write a function that greets people with their name.\n",
    "def greeting(name):\n",
    "    \"\"\"greeting(<string>) -> <void>\n",
    "    \n",
    "    Print name in the console.\n",
    "    \"\"\"\n",
    "    print('Hello, {0}!'.format(name))"
   ]
  },
  {
   "cell_type": "code",
   "execution_count": 6,
   "metadata": {},
   "outputs": [
    {
     "name": "stdout",
     "output_type": "stream",
     "text": [
      "Hello, John!\n"
     ]
    }
   ],
   "source": [
    "greeting('John')"
   ]
  },
  {
   "cell_type": "markdown",
   "metadata": {},
   "source": [
    "## Using `return`"
   ]
  },
  {
   "cell_type": "code",
   "execution_count": 7,
   "metadata": {},
   "outputs": [],
   "source": [
    "# Example 3: Addition function\n",
    "def add_num(num1, num2):\n",
    "    \"\"\" add_num(num1, num2) -> num\n",
    "    \n",
    "    Add two numbers and return the result.\n",
    "    \"\"\"\n",
    "    return num1 + num2"
   ]
  },
  {
   "cell_type": "code",
   "execution_count": 8,
   "metadata": {},
   "outputs": [
    {
     "data": {
      "text/plain": [
       "912"
      ]
     },
     "execution_count": 8,
     "metadata": {},
     "output_type": "execute_result"
    }
   ],
   "source": [
    "add_num(456, 456)"
   ]
  },
  {
   "cell_type": "code",
   "execution_count": 9,
   "metadata": {},
   "outputs": [
    {
     "name": "stdout",
     "output_type": "stream",
     "text": [
      "9\n"
     ]
    }
   ],
   "source": [
    "result = add_num(4, 5)\n",
    "print(result)"
   ]
  },
  {
   "cell_type": "markdown",
   "metadata": {},
   "source": [
    "- Because we don't declare variable types in Python, this function could be used to add numbers or sequences together\n",
    "- Input types must be checked manually"
   ]
  },
  {
   "cell_type": "code",
   "execution_count": 10,
   "metadata": {},
   "outputs": [
    {
     "name": "stdout",
     "output_type": "stream",
     "text": [
      "onetwo\n"
     ]
    }
   ],
   "source": [
    "# What happens if we input two strings?\n",
    "print(add_num('one','two'))"
   ]
  },
  {
   "cell_type": "code",
   "execution_count": 11,
   "metadata": {},
   "outputs": [],
   "source": [
    "def isPrime(num):\n",
    "    \"\"\"is_prime(num) -> boolean\n",
    "    \n",
    "    Naive method of checking if a number is prime or not.\n",
    "    \"\"\"\n",
    "    for n in range(2, num):\n",
    "        if num % n == 0:\n",
    "            return False\n",
    "        else: # If never mod zero, then prime\n",
    "            return True\n",
    "    # For everything else, not prime\n",
    "    return False"
   ]
  },
  {
   "cell_type": "code",
   "execution_count": 12,
   "metadata": {},
   "outputs": [
    {
     "data": {
      "text/plain": [
       "False"
      ]
     },
     "execution_count": 12,
     "metadata": {},
     "output_type": "execute_result"
    }
   ],
   "source": [
    "isPrime(0)"
   ]
  },
  {
   "cell_type": "markdown",
   "metadata": {},
   "source": [
    "- Note how we break the code after the print statement! \n",
    "- We can actually improve this by only checking to the square root of the target number\n",
    "- Also we can disregard all even numbers after checking for 2.\n",
    "- We'll also switch to returning a boolean value to get an example of using return statements"
   ]
  },
  {
   "cell_type": "code",
   "execution_count": 13,
   "metadata": {},
   "outputs": [],
   "source": [
    "import math\n",
    "\n",
    "def isPrime2(num):\n",
    "    \"\"\"isPrime(num) -> boolean\n",
    "    \n",
    "    Optimised method for verifiying that a number is prime.\n",
    "    Using only up to the square root of the number and exclude by default all even numbers.\n",
    "    \"\"\"\n",
    "    if num < 2:\n",
    "        return False\n",
    "    if num == 2:\n",
    "        return True\n",
    "    if num % 2 == 0 and num > 2: \n",
    "        return False\n",
    "    for i in range(3, int(math.sqrt(num)) + 1, 2): # range() for python3\n",
    "        if num % i == 0:\n",
    "            return False\n",
    "    return True"
   ]
  },
  {
   "cell_type": "code",
   "execution_count": 14,
   "metadata": {},
   "outputs": [],
   "source": [
    "def generateTopPrimes(n):\n",
    "    \"\"\"generateTopPrimes(n) -> [...]\n",
    "    \n",
    "    Generate a list of n-primes, using while loop.\n",
    "    This method is optimised by using a generator.\n",
    "    \"\"\"\n",
    "    def generator(limit):\n",
    "        num = 2\n",
    "        countPrimes = 0\n",
    "        while countPrimes < limit:\n",
    "            if isPrime2(num):\n",
    "                yield num\n",
    "                countPrimes += 1\n",
    "            num += 1\n",
    "    \n",
    "    # Return the final list using the generator\n",
    "    return [num for num in generator(n)]"
   ]
  },
  {
   "cell_type": "code",
   "execution_count": 15,
   "metadata": {},
   "outputs": [
    {
     "name": "stdout",
     "output_type": "stream",
     "text": [
      "--- Finished in 0.3218357563018799 seconds ---\n"
     ]
    }
   ],
   "source": [
    "# Measuring Code runtime\n",
    "import time\n",
    "\n",
    "# Start timer\n",
    "start_time = time.time()\n",
    "p = generateTopPrimes(10000)\n",
    "# End timer\n",
    "print(\"--- Finished in {0} seconds ---\".format(time.time() - start_time))"
   ]
  },
  {
   "cell_type": "code",
   "execution_count": 16,
   "metadata": {},
   "outputs": [],
   "source": [
    "# We could also use filter and range\n",
    "# This is way faster than previous method\n",
    "def primesUpTo(x):\n",
    "    \"\"\"list_x_primes(x) -> [...]\n",
    "    \n",
    "    Better way to list the first x number of primes, using range() and filter().\n",
    "    \"\"\"\n",
    "    return list(filter(isPrime2, range(x)))"
   ]
  },
  {
   "cell_type": "code",
   "execution_count": 17,
   "metadata": {},
   "outputs": [
    {
     "name": "stdout",
     "output_type": "stream",
     "text": [
      "--- Finished in 0.017989397048950195 seconds ---\n"
     ]
    }
   ],
   "source": [
    "# Measuring Code runtime\n",
    "import time\n",
    "# Start timer\n",
    "start_time = time.time()\n",
    "p = primesUpTo(10000)\n",
    "# End timer\n",
    "print(\"--- Finished in {0} seconds ---\".format(time.time() - start_time))"
   ]
  },
  {
   "cell_type": "markdown",
   "metadata": {},
   "source": [
    "## `*args` and `**kwargs`"
   ]
  },
  {
   "cell_type": "markdown",
   "metadata": {},
   "source": [
    "- `*args`: The same as `arguments` in Javascript\n",
    "  - A tuple\n",
    "  - Captures all passed arguments in the function\n",
    "  - Allows to set an arbitrary number of arguments\n",
    "  - The word `args` can be anything, Just need the `*`\n",
    "- `**kwargs`: Similar, but with keys\n",
    "  - A dictionary\n",
    "  - Get a key-value pair of the arguments\n",
    "  - Stands for Keyword Arguments"
   ]
  },
  {
   "cell_type": "code",
   "execution_count": 18,
   "metadata": {},
   "outputs": [
    {
     "name": "stdout",
     "output_type": "stream",
     "text": [
      "39\n",
      "9\n",
      "150\n"
     ]
    }
   ],
   "source": [
    "def my_sum(*arguments):\n",
    "    return sum(arguments) # args is a tuple\n",
    "\n",
    "print(my_sum(4, 5, 6, 7, 8, 9))\n",
    "print(my_sum(4, 5))\n",
    "print(my_sum(40, 50, 60))"
   ]
  },
  {
   "cell_type": "code",
   "execution_count": 19,
   "metadata": {},
   "outputs": [
    {
     "name": "stdout",
     "output_type": "stream",
     "text": [
      "Fruit is present as apple\n"
     ]
    }
   ],
   "source": [
    "def my_func(**kwargs):\n",
    "    if 'fruit' in kwargs:\n",
    "        print('Fruit is present as {}'.format(kwargs['fruit']))\n",
    "    else:\n",
    "        print('No fruit found')\n",
    "\n",
    "my_func(animal='lion', vegetable='carrot', fruit='apple')"
   ]
  },
  {
   "cell_type": "markdown",
   "metadata": {},
   "source": [
    "- We can use `*args` and `**kwargs` in combination\n",
    "- Must be in order, or else error"
   ]
  },
  {
   "cell_type": "code",
   "execution_count": 20,
   "metadata": {},
   "outputs": [
    {
     "name": "stdout",
     "output_type": "stream",
     "text": [
      "args: (10, 30, 4, 'John')\n",
      "kwargs: {'food': 'eggs', 'non_food': 'plastic'}\n",
      "I would like 10 eggs\n"
     ]
    }
   ],
   "source": [
    "def another_func(*args, **kwargs):\n",
    "    print(\"args:\", args)\n",
    "    print(\"kwargs:\", kwargs)\n",
    "    print('I would like {} {}'.format(args[0], kwargs['food']))\n",
    "\n",
    "another_func(10, 30, 4, 'John', food='eggs', non_food='plastic')"
   ]
  },
  {
   "cell_type": "code",
   "execution_count": 21,
   "metadata": {},
   "outputs": [],
   "source": [
    "# another_func(food='eggs', 10, 30, 4, 'John', non_food='plastic') # Not in order: Throws and error"
   ]
  }
 ],
 "metadata": {
  "kernelspec": {
   "display_name": "Python 3",
   "language": "python",
   "name": "python3"
  },
  "language_info": {
   "codemirror_mode": {
    "name": "ipython",
    "version": 3
   },
   "file_extension": ".py",
   "mimetype": "text/x-python",
   "name": "python",
   "nbconvert_exporter": "python",
   "pygments_lexer": "ipython3",
   "version": "3.8.2"
  },
  "toc": {
   "base_numbering": 1,
   "nav_menu": {},
   "number_sections": true,
   "sideBar": true,
   "skip_h1_title": true,
   "title_cell": "Table of Contents",
   "title_sidebar": "Contents",
   "toc_cell": true,
   "toc_position": {},
   "toc_section_display": true,
   "toc_window_display": true
  }
 },
 "nbformat": 4,
 "nbformat_minor": 4
}
