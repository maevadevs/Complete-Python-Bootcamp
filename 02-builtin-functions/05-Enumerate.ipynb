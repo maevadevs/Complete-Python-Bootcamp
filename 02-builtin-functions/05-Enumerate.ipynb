{
 "cells": [
  {
   "cell_type": "markdown",
   "metadata": {},
   "source": [
    "# Built-In Function: `enumerate()`\n",
    "---"
   ]
  },
  {
   "cell_type": "markdown",
   "metadata": {},
   "source": [
    "**Table of Contents**<a id='toc0_'></a>    \n",
    "- [`enumerate()` Overview](#toc1_)    \n",
    "- [Examples](#toc2_)    \n",
    "- [Dictionary Comprehension](#toc3_)    \n",
    "\n",
    "<!-- vscode-jupyter-toc-config\n",
    "\tnumbering=false\n",
    "\tanchor=true\n",
    "\tflat=false\n",
    "\tminLevel=2\n",
    "\tmaxLevel=6\n",
    "\t/vscode-jupyter-toc-config -->\n",
    "<!-- THIS CELL WILL BE REPLACED ON TOC UPDATE. DO NOT WRITE YOUR TEXT IN THIS CELL -->"
   ]
  },
  {
   "attachments": {},
   "cell_type": "markdown",
   "metadata": {},
   "source": [
    "---"
   ]
  },
  {
   "cell_type": "markdown",
   "metadata": {},
   "source": [
    "## <a id='toc1_'></a>`enumerate()` Overview [&#8593;](#toc0_)"
   ]
  },
  {
   "attachments": {},
   "cell_type": "markdown",
   "metadata": {},
   "source": [
    "- Allows to keep a count as we iterate through an object\n",
    "- Return a tuple in the form `(index, element)`\n",
    "- Particularly useful in cases where we need to have some sort of tracker\n",
    "- Equivalent function:\n",
    "\n",
    "```python\n",
    "def enumerate(sequence, start=0):\n",
    "    n = start\n",
    "    for el in sequence:\n",
    "        yield n, el\n",
    "        n += 1\n",
    "```"
   ]
  },
  {
   "cell_type": "markdown",
   "metadata": {},
   "source": [
    "## <a id='toc2_'></a>Examples [&#8593;](#toc0_)"
   ]
  },
  {
   "cell_type": "code",
   "execution_count": 1,
   "metadata": {},
   "outputs": [],
   "source": [
    "from typing import List"
   ]
  },
  {
   "cell_type": "code",
   "execution_count": 2,
   "metadata": {},
   "outputs": [
    {
     "name": "stdout",
     "output_type": "stream",
     "text": [
      "0 a\n",
      "1 b\n",
      "2 c\n"
     ]
    }
   ],
   "source": [
    "lst: List[str] = [\"a\", \"b\", \"c\"]\n",
    "\n",
    "for i, el in enumerate(lst):\n",
    "    print(i, el)"
   ]
  },
  {
   "cell_type": "code",
   "execution_count": 3,
   "metadata": {},
   "outputs": [
    {
     "name": "stdout",
     "output_type": "stream",
     "text": [
      "0 a\n",
      "1 b\n"
     ]
    }
   ],
   "source": [
    "for index, item in enumerate(lst):\n",
    "    if index >= 2:\n",
    "        break\n",
    "    else:\n",
    "        print(index, item)"
   ]
  },
  {
   "cell_type": "markdown",
   "metadata": {},
   "source": [
    "## <a id='toc3_'></a>Dictionary Comprehension [&#8593;](#toc0_)"
   ]
  },
  {
   "cell_type": "markdown",
   "metadata": {},
   "source": [
    "- Similar to List comprehension, Dictionary comprehension is also possible using enumerate()\n",
    "- We just need to specify the key and the value from the breakdown of `enumerate()`"
   ]
  },
  {
   "cell_type": "code",
   "execution_count": 4,
   "metadata": {},
   "outputs": [
    {
     "name": "stdout",
     "output_type": "stream",
     "text": [
      "Original List: ['zero', 'one', 'two', 'three', 'four']\n",
      "Enumerated Dict: {'zero': 0, 'one': 1, 'two': 2, 'three': 3, 'four': 4}\n",
      "\n"
     ]
    }
   ],
   "source": [
    "sample_list: List[str] = [\"zero\", \"one\", \"two\", \"three\", \"four\"]\n",
    "sample_dict: dict[str, int] = { v: k for k, v in enumerate(sample_list) }\n",
    "\n",
    "print(\"Original List:\", sample_list)\n",
    "print(\"Enumerated Dict:\", sample_dict)\n",
    "print(\"\")"
   ]
  },
  {
   "attachments": {},
   "cell_type": "markdown",
   "metadata": {},
   "source": [
    "We can also use `zip()`"
   ]
  },
  {
   "cell_type": "code",
   "execution_count": 5,
   "metadata": {},
   "outputs": [
    {
     "name": "stdout",
     "output_type": "stream",
     "text": [
      "List 1: ['first', 'second', 'third', 'fourth']\n",
      "List 2: ['bacon', 'lettuce', 'tomato', 'egg']\n",
      "Mapping 2 List with zip(): {'first': 'bacon', 'second': 'lettuce', 'third': 'tomato', 'fourth': 'egg'}\n"
     ]
    }
   ],
   "source": [
    "# NOTE: Mapping two lists into a single dictionary uses zip instead\n",
    "\n",
    "list1: List[str] = [\"first\", \"second\", \"third\", \"fourth\"]\n",
    "list2: List[str] = [\"bacon\", \"lettuce\", \"tomato\", \"egg\"]\n",
    "\n",
    "dictionary: dict[str, str] = { k: v for k, v in zip(list1, list2) }\n",
    "\n",
    "print(\"List 1:\", list1)\n",
    "print(\"List 2:\", list2)\n",
    "print(\"Mapping 2 List with zip():\", dictionary)"
   ]
  }
 ],
 "metadata": {
  "kernelspec": {
   "display_name": "venv",
   "language": "python",
   "name": "python3"
  },
  "language_info": {
   "codemirror_mode": {
    "name": "ipython",
    "version": 3
   },
   "file_extension": ".py",
   "mimetype": "text/x-python",
   "name": "python",
   "nbconvert_exporter": "python",
   "pygments_lexer": "ipython3",
   "version": "3.11.2"
  },
  "toc": {
   "base_numbering": 1,
   "nav_menu": {},
   "number_sections": true,
   "sideBar": true,
   "skip_h1_title": true,
   "title_cell": "Table of Contents",
   "title_sidebar": "Contents",
   "toc_cell": true,
   "toc_position": {},
   "toc_section_display": true,
   "toc_window_display": true
  },
  "vscode": {
   "interpreter": {
    "hash": "b5ab5f64e32c215b80ba2c275165396f1c456cb6ba15ab870f8428bc206a177b"
   }
  }
 },
 "nbformat": 4,
 "nbformat_minor": 1
}
