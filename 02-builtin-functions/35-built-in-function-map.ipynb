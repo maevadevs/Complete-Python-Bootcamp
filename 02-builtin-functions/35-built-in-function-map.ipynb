{
 "cells": [
  {
   "cell_type": "markdown",
   "metadata": {
    "toc": true
   },
   "source": [
    "<h1>Table of Contents<span class=\"tocSkip\"></span></h1>\n",
    "<div class=\"toc\"><ul class=\"toc-item\"><li><span><a href=\"#map()-In-Action\" data-toc-modified-id=\"map()-In-Action-1\"><span class=\"toc-item-num\">1&nbsp;&nbsp;</span><code>map()</code> In Action</a></span></li><li><span><a href=\"#Multiple-Iterables-At-Once\" data-toc-modified-id=\"Multiple-Iterables-At-Once-2\"><span class=\"toc-item-num\">2&nbsp;&nbsp;</span>Multiple Iterables At Once</a></span></li></ul></div>"
   ]
  },
  {
   "cell_type": "markdown",
   "metadata": {},
   "source": [
    "# Built-In Function: `map()`"
   ]
  },
  {
   "cell_type": "markdown",
   "metadata": {},
   "source": [
    "- Takes in two arguments: a function and a sequence iterable\n",
    "- `map()` is a generator\n",
    "\n",
    "```python\n",
    "map(function, sequence)\n",
    "```\n",
    "\n",
    "- `map()` applies the function to all the elements of the sequence\n",
    "- Returns a new list with the elements changed by function"
   ]
  },
  {
   "cell_type": "markdown",
   "metadata": {},
   "source": [
    "## `map()` In Action"
   ]
  },
  {
   "cell_type": "code",
   "execution_count": 1,
   "metadata": {},
   "outputs": [
    {
     "name": "stdout",
     "output_type": "stream",
     "text": [
      "Fahrs: [32.0, 72.5, 104.0, 212.0]\n",
      "Cels: [0.0, 22.5, 40.0, 100.0]\n"
     ]
    }
   ],
   "source": [
    "def to_fahr(T):\n",
    "    return ((float(9) / 5) * T + 32)\n",
    "\n",
    "def to_cels(T):\n",
    "    return (float(5) / 9) * (T - 32)\n",
    "    \n",
    "temps = [0, 22.5, 40,100]\n",
    "temps_fahr = list(map(to_fahr, temps))\n",
    "temps_cels = list(map(to_cels, temps_fahr))\n",
    "\n",
    "print('Fahrs:', temps_fahr)\n",
    "print('Cels:', temps_cels)"
   ]
  },
  {
   "cell_type": "markdown",
   "metadata": {},
   "source": [
    "- We can also simply use a lambda expression to save time"
   ]
  },
  {
   "cell_type": "code",
   "execution_count": 2,
   "metadata": {},
   "outputs": [
    {
     "data": {
      "text/plain": [
       "[0.0, 22.5, 40.0, 100.0]"
      ]
     },
     "execution_count": 2,
     "metadata": {},
     "output_type": "execute_result"
    }
   ],
   "source": [
    "list(map(lambda T: (5 / 9) * (T - 32), temps_fahr))"
   ]
  },
  {
   "cell_type": "markdown",
   "metadata": {},
   "source": [
    "## Multiple Iterables At Once"
   ]
  },
  {
   "cell_type": "markdown",
   "metadata": {},
   "source": [
    "- `map()` can be applied to more than one iterable\n",
    "- The iterables must have the same length\n",
    "- It will use n arguments from the n lists and map each to the final result"
   ]
  },
  {
   "cell_type": "code",
   "execution_count": 3,
   "metadata": {},
   "outputs": [
    {
     "data": {
      "text/plain": [
       "[6, 8, 10, 12]"
      ]
     },
     "execution_count": 3,
     "metadata": {},
     "output_type": "execute_result"
    }
   ],
   "source": [
    "# The lists must have the same length\n",
    "list_a = [1, 2, 3, 4]\n",
    "list_b = [5, 6, 7, 8]\n",
    "list_c = [9, 10, 11, 12]\n",
    "\n",
    "list(map(lambda a, b: a + b, list_a, list_b))"
   ]
  },
  {
   "cell_type": "code",
   "execution_count": 4,
   "metadata": {},
   "outputs": [
    {
     "data": {
      "text/plain": [
       "[15, 18, 21, 24]"
      ]
     },
     "execution_count": 4,
     "metadata": {},
     "output_type": "execute_result"
    }
   ],
   "source": [
    "# Now all three lists\n",
    "list(map(lambda a, b, c: a + b + c, list_a, list_b, list_c))"
   ]
  }
 ],
 "metadata": {
  "kernelspec": {
   "display_name": "Python 3",
   "language": "python",
   "name": "python3"
  },
  "language_info": {
   "codemirror_mode": {
    "name": "ipython",
    "version": 3
   },
   "file_extension": ".py",
   "mimetype": "text/x-python",
   "name": "python",
   "nbconvert_exporter": "python",
   "pygments_lexer": "ipython3",
   "version": "3.7.6"
  },
  "toc": {
   "base_numbering": 1,
   "nav_menu": {},
   "number_sections": true,
   "sideBar": true,
   "skip_h1_title": true,
   "title_cell": "Table of Contents",
   "title_sidebar": "Contents",
   "toc_cell": true,
   "toc_position": {},
   "toc_section_display": true,
   "toc_window_display": true
  }
 },
 "nbformat": 4,
 "nbformat_minor": 1
}
