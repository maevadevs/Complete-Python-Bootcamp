{
 "cells": [
  {
   "cell_type": "markdown",
   "metadata": {
    "toc": true
   },
   "source": [
    "<h1>Table of Contents<span class=\"tocSkip\"></span></h1>\n",
    "<div class=\"toc\"><ul class=\"toc-item\"><li><span><a href=\"#Equivalence\" data-toc-modified-id=\"Equivalence-1\"><span class=\"toc-item-num\">1&nbsp;&nbsp;</span>Equivalence</a></span></li><li><span><a href=\"#Examples\" data-toc-modified-id=\"Examples-2\"><span class=\"toc-item-num\">2&nbsp;&nbsp;</span>Examples</a></span></li><li><span><a href=\"#zip()-With-Dictionaries\" data-toc-modified-id=\"zip()-With-Dictionaries-3\"><span class=\"toc-item-num\">3&nbsp;&nbsp;</span><code>zip()</code> With Dictionaries</a></span></li></ul></div>"
   ]
  },
  {
   "cell_type": "markdown",
   "metadata": {},
   "source": [
    "# Built-In Function: `zip()`"
   ]
  },
  {
   "cell_type": "markdown",
   "metadata": {},
   "source": [
    "- Makes an iterator that aggregates elements from each of the iterables\n",
    "- Returns an iterator of tuples, where the i-th tuple contains the i-th element from each of the argument sequences or iterables\n",
    "- The iterator stops when the shortest input iterable is exhausted\n",
    "- With a single iterable argument, it returns an iterator of 1-tuples\n",
    "- With no arguments, it returns an empty iterator\n",
    "- Should only be used with unequal length inputs when you don’t care about trailing, unmatched values from the longer iterables\n",
    "- **`zip()` is a generator**\n",
    "\n",
    "```python\n",
    "zip([A, B, C, D], [x, y]) => (A, x), (B, y)\n",
    "```\n",
    "\n",
    "- Equivalent codes:\n",
    "\n",
    "```python\n",
    "def zip(*iterables):\n",
    "    # zip('ABCD', 'xy') --> Ax By\n",
    "    sentinel = object()\n",
    "    iterators = [iter(it) for it in iterables]\n",
    "    \n",
    "    while iterators:\n",
    "        result = []\n",
    "        for i in iterators:\n",
    "            elem = next(i, sentinel)\n",
    "            if elem is sentinel:\n",
    "                return\n",
    "            result.append(elem)\n",
    "        yield tuple(result)\n",
    "```"
   ]
  },
  {
   "cell_type": "markdown",
   "metadata": {},
   "source": [
    "## Equivalence"
   ]
  },
  {
   "cell_type": "markdown",
   "metadata": {},
   "source": [
    "- zip can be interpreted as the list of columns in a matrix of number"
   ]
  },
  {
   "cell_type": "code",
   "execution_count": 1,
   "metadata": {},
   "outputs": [
    {
     "name": "stdout",
     "output_type": "stream",
     "text": [
      "Matrix:\n",
      "[1, 2, 3]\n",
      "[4, 5, 6]\n",
      "[7, 8, 9]\n",
      "\n",
      "col0: (1, 4, 7)\n",
      "col1: (2, 5, 8)\n",
      "col2: (3, 6, 9)\n",
      "\n",
      "[(1, 4, 7), (2, 5, 8), (3, 6, 9)]\n"
     ]
    }
   ],
   "source": [
    "row0 = [1, 2, 3]\n",
    "row1 = [4, 5, 6]\n",
    "row2 = [7, 8, 9]\n",
    "\n",
    "print(\"Matrix:\")\n",
    "print(row0)\n",
    "print(row1)\n",
    "print(row2)\n",
    "print('')\n",
    "print('col0:', list(zip(row0, row1, row2))[0])\n",
    "print('col1:', list(zip(row0, row1, row2))[1])\n",
    "print('col2:', list(zip(row0, row1, row2))[2])\n",
    "print('')\n",
    "print(list(zip(row0, row1, row2)))"
   ]
  },
  {
   "cell_type": "markdown",
   "metadata": {},
   "source": [
    "---"
   ]
  },
  {
   "cell_type": "markdown",
   "metadata": {},
   "source": [
    "## Examples"
   ]
  },
  {
   "cell_type": "code",
   "execution_count": 2,
   "metadata": {},
   "outputs": [
    {
     "name": "stdout",
     "output_type": "stream",
     "text": [
      "[(1, 4), (2, 5), (3, 6)]\n"
     ]
    }
   ],
   "source": [
    "x = [1, 2, 3]\n",
    "y = [4, 5, 6]\n",
    "\n",
    "print(list(zip(x, y)))"
   ]
  },
  {
   "cell_type": "code",
   "execution_count": 3,
   "metadata": {},
   "outputs": [
    {
     "name": "stdout",
     "output_type": "stream",
     "text": [
      "[('A', 4), ('B', 5), ('C', 6)]\n"
     ]
    }
   ],
   "source": [
    "x = ['A', 'B', 'C']\n",
    "y = [4, 5, 6, 7, 8, 9]\n",
    "\n",
    "print(list(zip(x, y)))"
   ]
  },
  {
   "cell_type": "code",
   "execution_count": 4,
   "metadata": {},
   "outputs": [
    {
     "name": "stdout",
     "output_type": "stream",
     "text": [
      "[(1, 4, 9), (2, 5, 10)]\n"
     ]
    }
   ],
   "source": [
    "# What if we want to zip more than two lists?\n",
    "x = [1, 2, 3]\n",
    "y = [4, 5, 6, 7, 8]\n",
    "z = [9, 10]\n",
    "\n",
    "print(list(zip(x, y, z)))"
   ]
  },
  {
   "cell_type": "markdown",
   "metadata": {},
   "source": [
    "- `zip()` is defined by the shortest iterable length\n",
    "- Its generally advised *not* to zip unequal length iterables unless your very sure you only need partial tuple pairings"
   ]
  },
  {
   "cell_type": "markdown",
   "metadata": {},
   "source": [
    "## `zip()` With Dictionaries"
   ]
  },
  {
   "cell_type": "markdown",
   "metadata": {},
   "source": [
    "- Simply iterating through the dictionaries will result in just the keys\n",
    "- We would have to call methods to mix keys and values"
   ]
  },
  {
   "cell_type": "code",
   "execution_count": 5,
   "metadata": {},
   "outputs": [
    {
     "name": "stdout",
     "output_type": "stream",
     "text": [
      "[('a', 'c'), ('b', 'd')]\n"
     ]
    }
   ],
   "source": [
    "d1 = {'a': 1, 'b': 2}\n",
    "d2 = {'c': 4, 'd': 5}\n",
    "\n",
    "print(list(zip(d1, d2)))"
   ]
  },
  {
   "cell_type": "code",
   "execution_count": 6,
   "metadata": {},
   "outputs": [
    {
     "name": "stdout",
     "output_type": "stream",
     "text": [
      "[('a', 4), ('b', 5)]\n"
     ]
    }
   ],
   "source": [
    "print(list(zip(d1, d2.values())))"
   ]
  },
  {
   "cell_type": "markdown",
   "metadata": {},
   "source": [
    "- We can use `zip()` to switch the keys and values of the two dictionaries"
   ]
  },
  {
   "cell_type": "code",
   "execution_count": 7,
   "metadata": {},
   "outputs": [],
   "source": [
    "def switch_around(d1, d2):\n",
    "    d_out = {}\n",
    "    \n",
    "    for d1key, d2val in zip(d1, d2.values()):\n",
    "        d_out[d1key] = d2val\n",
    "    \n",
    "    return d_out"
   ]
  },
  {
   "cell_type": "code",
   "execution_count": 8,
   "metadata": {},
   "outputs": [
    {
     "name": "stdout",
     "output_type": "stream",
     "text": [
      "{'a': 1, 'b': 2}\n",
      "{'c': 4, 'd': 5}\n",
      "{'a': 4, 'b': 5}\n"
     ]
    }
   ],
   "source": [
    "print(d1)\n",
    "print(d2)\n",
    "print(switch_around(d1, d2))"
   ]
  }
 ],
 "metadata": {
  "kernelspec": {
   "display_name": "Python 3",
   "language": "python",
   "name": "python3"
  },
  "language_info": {
   "codemirror_mode": {
    "name": "ipython",
    "version": 3
   },
   "file_extension": ".py",
   "mimetype": "text/x-python",
   "name": "python",
   "nbconvert_exporter": "python",
   "pygments_lexer": "ipython3",
   "version": "3.7.6"
  },
  "toc": {
   "base_numbering": 1,
   "nav_menu": {},
   "number_sections": true,
   "sideBar": true,
   "skip_h1_title": true,
   "title_cell": "Table of Contents",
   "title_sidebar": "Contents",
   "toc_cell": true,
   "toc_position": {},
   "toc_section_display": true,
   "toc_window_display": true
  }
 },
 "nbformat": 4,
 "nbformat_minor": 1
}
