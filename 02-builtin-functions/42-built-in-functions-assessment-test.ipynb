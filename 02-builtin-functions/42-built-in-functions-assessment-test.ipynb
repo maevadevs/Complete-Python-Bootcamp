{
 "cells": [
  {
   "cell_type": "markdown",
   "metadata": {
    "toc": true
   },
   "source": [
    "<h1>Table of Contents<span class=\"tocSkip\"></span></h1>\n",
    "<div class=\"toc\"><ul class=\"toc-item\"><li><span><a href=\"#Problem-1\" data-toc-modified-id=\"Problem-1-1\"><span class=\"toc-item-num\">1&nbsp;&nbsp;</span>Problem 1</a></span></li><li><span><a href=\"#Problem-2\" data-toc-modified-id=\"Problem-2-2\"><span class=\"toc-item-num\">2&nbsp;&nbsp;</span>Problem 2</a></span></li><li><span><a href=\"#Problem-3\" data-toc-modified-id=\"Problem-3-3\"><span class=\"toc-item-num\">3&nbsp;&nbsp;</span>Problem 3</a></span></li><li><span><a href=\"#Problem-4\" data-toc-modified-id=\"Problem-4-4\"><span class=\"toc-item-num\">4&nbsp;&nbsp;</span>Problem 4</a></span></li><li><span><a href=\"#Problem-5\" data-toc-modified-id=\"Problem-5-5\"><span class=\"toc-item-num\">5&nbsp;&nbsp;</span>Problem 5</a></span></li><li><span><a href=\"#Problem-6\" data-toc-modified-id=\"Problem-6-6\"><span class=\"toc-item-num\">6&nbsp;&nbsp;</span>Problem 6</a></span></li></ul></div>"
   ]
  },
  {
   "cell_type": "markdown",
   "metadata": {},
   "source": [
    "# Built-In Functions Assessment Test\n",
    "For this test, you should use the built-in functions to be able to write the requested functions in one line\n",
    "\n",
    "- The \"Not-So-Pythonic\" Python One-Line Functions Challenge\n",
    "- For each function definition, **code everything in one-line only.**"
   ]
  },
  {
   "cell_type": "code",
   "execution_count": 1,
   "metadata": {},
   "outputs": [],
   "source": [
    "from functools import reduce"
   ]
  },
  {
   "cell_type": "markdown",
   "metadata": {},
   "source": [
    "## Problem 1\n",
    "Use map to create a function which finds the length of each word in the phrase (broken by spaces) and return the values in a list. The function will have an input of a string, and output a list of integers. Find the length of each word in a phrase and return the lengths in a list."
   ]
  },
  {
   "cell_type": "code",
   "execution_count": 2,
   "metadata": {},
   "outputs": [
    {
     "name": "stdout",
     "output_type": "stream",
     "text": [
      "How long are the words in this phrase\n",
      "[3, 4, 3, 3, 5, 2, 4, 6]\n"
     ]
    }
   ],
   "source": [
    "wordLengths = lambda phrase: list(map(len, phrase.split())) # default split is @ (\" \")\n",
    "print(\"How long are the words in this phrase\")\n",
    "print(wordLengths('How long are the words in this phrase'))"
   ]
  },
  {
   "cell_type": "markdown",
   "metadata": {},
   "source": [
    "## Problem 2\n",
    "\n",
    "Use reduce to take a list of digits and return the number that they correspond to. *Do not convert the integers to strings!* Take a list of digits and return the number that they correspond to in the list sequence. No conversion to/from string allowed.\n",
    "- E.g. [1,2,3,4] => 1234"
   ]
  },
  {
   "cell_type": "code",
   "execution_count": 3,
   "metadata": {},
   "outputs": [
    {
     "name": "stdout",
     "output_type": "stream",
     "text": [
      "digits2Num([3, 4, 3, 2, 1, 4, 5, 6, 7])\n",
      "343214567\n"
     ]
    }
   ],
   "source": [
    "digits2Num = lambda digits: reduce(lambda aggr, next: aggr * 10 + next, digits)\n",
    "\n",
    "print('digits2Num([3, 4, 3, 2, 1, 4, 5, 6, 7])')\n",
    "print(digits2Num([3, 4, 3, 2, 1, 4, 5, 6, 7]))"
   ]
  },
  {
   "cell_type": "code",
   "execution_count": 4,
   "metadata": {},
   "outputs": [
    {
     "name": "stdout",
     "output_type": "stream",
     "text": [
      "343214567\n"
     ]
    }
   ],
   "source": [
    "# Equivalent in using for-loop\n",
    "lst = [3, 4, 3, 2, 1, 4, 5, 6, 7]\n",
    "num = 0\n",
    "for n in lst:\n",
    "    num = num * 10 + n\n",
    "print(num)"
   ]
  },
  {
   "cell_type": "markdown",
   "metadata": {},
   "source": [
    "## Problem 3\n",
    "Use filter to return the words from a list of words which start with a target letter. Check words from a list of words and return only those that start with a given letter as a list"
   ]
  },
  {
   "cell_type": "code",
   "execution_count": 5,
   "metadata": {},
   "outputs": [
    {
     "name": "stdout",
     "output_type": "stream",
     "text": [
      "['Hello', 'ham', 'Hi', 'heart']\n"
     ]
    }
   ],
   "source": [
    "filterWords = lambda wordList, letter: filter(lambda word: str(word[0]).lower() == str(letter).lower() , wordList)\n",
    "\n",
    "lWords = ['Hello','are','cat','dog','ham','Hi','go','to','heart']\n",
    "print(list(filterWords(lWords,'h')))"
   ]
  },
  {
   "cell_type": "markdown",
   "metadata": {},
   "source": [
    "## Problem 4\n",
    "\n",
    "- Use zip and list comprehension to return a list of the same length where each value is the two strings from L1 and L2 concatenated together with connector between them. Look at the example output below:\n",
    "- Return a list of the same length where each value is the two strings from L1 and L2 concatenated together with connector between them.\n",
    "- E.g. concatenate(['A','B'],['a','b'],'-') => ['A-a', 'B-b']"
   ]
  },
  {
   "cell_type": "code",
   "execution_count": 6,
   "metadata": {},
   "outputs": [
    {
     "name": "stdout",
     "output_type": "stream",
     "text": [
      "concatenate(['A','B'],['a','b'],'-'): ['A-a', 'B-b']\n"
     ]
    }
   ],
   "source": [
    "concatenate = lambda L1, L2, connector: [str(x) + str(connector) + str(y) for x, y in zip(L1, L2)]\n",
    "print(\"concatenate(['A','B'],['a','b'],'-'):\", concatenate(['A','B'],['a','b'],'-'))"
   ]
  },
  {
   "cell_type": "markdown",
   "metadata": {},
   "source": [
    "## Problem 5\n",
    "- Use enumerate and other skills to return a dictionary which has the values of the list as keys and the index as the value. You may assume that a value will only appear once in the given list\n",
    "- Return a dictionary which has the values of the list as keys and the index as the value"
   ]
  },
  {
   "cell_type": "code",
   "execution_count": 7,
   "metadata": {},
   "outputs": [
    {
     "name": "stdout",
     "output_type": "stream",
     "text": [
      "dList(['a','b','c']): {'a': 0, 'b': 1, 'c': 2}\n"
     ]
    }
   ],
   "source": [
    "dList = lambda L: { Lval: Lkey for (Lkey, Lval) in enumerate(L) }\n",
    "print(\"dList(['a','b','c']):\", dList(['a','b','c']))"
   ]
  },
  {
   "cell_type": "markdown",
   "metadata": {},
   "source": [
    "## Problem 6\n",
    "- Use enumerate and other skills from above to return the count of the number of items in the list whose value equals its index\n",
    "\n",
    "```python\n",
    "def count_match_index(L):\n",
    "    # Using lambda and filter\n",
    "    return len(filter(lambda (i,el): i == el, enumerate(L)))\n",
    "```"
   ]
  },
  {
   "cell_type": "code",
   "execution_count": 8,
   "metadata": {},
   "outputs": [
    {
     "name": "stdout",
     "output_type": "stream",
     "text": [
      "countMatchIndex([0, 2, 2, 1, 5, 5, 6, 10 ]): 4\n"
     ]
    }
   ],
   "source": [
    "countMatchIndex = lambda L : len([x for (i,x) in enumerate(L) if x == i]) # Using list comprehension and conditioning\n",
    "print('countMatchIndex([0, 2, 2, 1, 5, 5, 6, 10 ]):', countMatchIndex([0, 2, 2, 1, 5, 5, 6, 10]))"
   ]
  }
 ],
 "metadata": {
  "kernelspec": {
   "display_name": "Python 3",
   "language": "python",
   "name": "python3"
  },
  "language_info": {
   "codemirror_mode": {
    "name": "ipython",
    "version": 3
   },
   "file_extension": ".py",
   "mimetype": "text/x-python",
   "name": "python",
   "nbconvert_exporter": "python",
   "pygments_lexer": "ipython3",
   "version": "3.7.6"
  },
  "toc": {
   "base_numbering": 1,
   "nav_menu": {},
   "number_sections": true,
   "sideBar": true,
   "skip_h1_title": true,
   "title_cell": "Table of Contents",
   "title_sidebar": "Contents",
   "toc_cell": true,
   "toc_position": {},
   "toc_section_display": true,
   "toc_window_display": true
  }
 },
 "nbformat": 4,
 "nbformat_minor": 4
}
