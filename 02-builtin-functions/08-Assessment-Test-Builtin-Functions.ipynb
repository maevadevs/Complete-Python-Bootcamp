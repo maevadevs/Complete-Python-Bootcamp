{
 "cells": [
  {
   "cell_type": "markdown",
   "metadata": {},
   "source": [
    "# Assessment Test: Built-In Functions\n",
    "---"
   ]
  },
  {
   "cell_type": "markdown",
   "metadata": {},
   "source": [
    "**Table of Contents**<a id='toc0_'></a>    \n",
    "- [Problem 1](#toc1_)    \n",
    "- [Problem 2](#toc2_)    \n",
    "- [Problem 3](#toc3_)    \n",
    "- [Problem 4](#toc4_)    \n",
    "- [Problem 5](#toc5_)    \n",
    "- [Problem 6](#toc6_)    \n",
    "\n",
    "<!-- vscode-jupyter-toc-config\n",
    "\tnumbering=false\n",
    "\tanchor=true\n",
    "\tflat=false\n",
    "\tminLevel=2\n",
    "\tmaxLevel=6\n",
    "\t/vscode-jupyter-toc-config -->\n",
    "<!-- THIS CELL WILL BE REPLACED ON TOC UPDATE. DO NOT WRITE YOUR TEXT IN THIS CELL -->"
   ]
  },
  {
   "attachments": {},
   "cell_type": "markdown",
   "metadata": {},
   "source": [
    "---"
   ]
  },
  {
   "attachments": {},
   "cell_type": "markdown",
   "metadata": {},
   "source": [
    "- For this test, you should use the built-in functions to be able to write the requested functions in one line\n",
    "- The *Not-So-Pythonic* Python One-Line Functions Challenge\n",
    "- For each function definition, **code everything in one-line only**"
   ]
  },
  {
   "cell_type": "code",
   "execution_count": 1,
   "metadata": {},
   "outputs": [],
   "source": [
    "from functools import reduce\n",
    "from typing import Any, Callable, List, Sequence, Tuple"
   ]
  },
  {
   "cell_type": "markdown",
   "metadata": {},
   "source": [
    "## <a id='toc1_'></a>Problem 1 [&#8593;](#toc0_)\n",
    "Use map to create a function which finds the length of each word in the phrase (broken by spaces) and return the values in a list. The function will have an input of a string, and output a list of integers. Find the length of each word in a phrase and return the lengths in a list."
   ]
  },
  {
   "cell_type": "code",
   "execution_count": 2,
   "metadata": {},
   "outputs": [
    {
     "name": "stdout",
     "output_type": "stream",
     "text": [
      "How long are the words in this phrase? (3, 4, 3, 3, 5, 2, 4, 6)\n"
     ]
    }
   ],
   "source": [
    "word_lengths: Callable[[str], Tuple[int,...]] = lambda phrase: tuple(map(len, phrase.split())) # default split is @ (\" \")\n",
    "print(\"How long are the words in this phrase? \", end=\"\")\n",
    "print(word_lengths(\"How long are the words in this phrase\"))"
   ]
  },
  {
   "cell_type": "markdown",
   "metadata": {},
   "source": [
    "## <a id='toc2_'></a>Problem 2 [&#8593;](#toc0_)\n",
    "\n",
    "Use reduce to take a list of digits and return the number that they correspond to. *Do not convert the integers to strings!* Take a list of digits and return the number that they correspond to in the list sequence. No conversion to/from string allowed.\n",
    "- E.g. [1,2,3,4] => 1234"
   ]
  },
  {
   "cell_type": "code",
   "execution_count": 3,
   "metadata": {},
   "outputs": [
    {
     "name": "stdout",
     "output_type": "stream",
     "text": [
      "digits_2_num((3, 4, 3, 2, 1, 4, 5, 6, 7)) = 343214567\n"
     ]
    }
   ],
   "source": [
    "digits_2_num: Callable[[Sequence[int]],int] = lambda digits: reduce(lambda aggr, next: aggr * 10 + next, digits)\n",
    "\n",
    "print(\"digits_2_num((3, 4, 3, 2, 1, 4, 5, 6, 7)) = \", end=\"\")\n",
    "print(digits_2_num((3, 4, 3, 2, 1, 4, 5, 6, 7)))"
   ]
  },
  {
   "cell_type": "code",
   "execution_count": 4,
   "metadata": {},
   "outputs": [
    {
     "name": "stdout",
     "output_type": "stream",
     "text": [
      "343214567\n"
     ]
    }
   ],
   "source": [
    "# Equivalent in using for-loop\n",
    "tpl: Tuple[int,...] = (3, 4, 3, 2, 1, 4, 5, 6, 7)\n",
    "num: int = 0\n",
    "\n",
    "for n in tpl:\n",
    "    num = num * 10 + n\n",
    "    \n",
    "print(num)"
   ]
  },
  {
   "cell_type": "markdown",
   "metadata": {},
   "source": [
    "## <a id='toc3_'></a>Problem 3 [&#8593;](#toc0_)\n",
    "Use filter to return the words from a list of words which start with a target letter. Check words from a list of words and return only those that start with a given letter as a list"
   ]
  },
  {
   "cell_type": "code",
   "execution_count": 5,
   "metadata": {},
   "outputs": [
    {
     "name": "stdout",
     "output_type": "stream",
     "text": [
      "('Hello', 'ham', 'Hi', 'heart')\n"
     ]
    }
   ],
   "source": [
    "filter_words: Callable[[Sequence[str], str], filter] = lambda word_list, letter: filter(lambda word: str(word[0]).lower() == str(letter).lower() , word_list)\n",
    "\n",
    "words = (\"Hello\",\"are\",\"cat\",\"dog\",\"ham\",\"Hi\",\"go\",\"to\",\"heart\")\n",
    "print(tuple(filter_words(words,\"h\")))"
   ]
  },
  {
   "cell_type": "markdown",
   "metadata": {},
   "source": [
    "## <a id='toc4_'></a>Problem 4 [&#8593;](#toc0_)\n",
    "\n",
    "- Use zip and list comprehension to return a list of the same length where each value is the two strings from L1 and L2 concatenated together with connector between them. Look at the example output below\n",
    "- Return a list of the same length where each value is the two strings from L1 and L2 concatenated together with connector between them.\n",
    "- E.g. concatenate([\"A\",\"B\"],[\"a\",\"b\"],\"-\") => [\"A-a\", \"B-b\"]"
   ]
  },
  {
   "cell_type": "code",
   "execution_count": 6,
   "metadata": {},
   "outputs": [
    {
     "name": "stdout",
     "output_type": "stream",
     "text": [
      "concatenate(['A','B'], ['a','b'], '-'): ['A-a', 'B-b']\n"
     ]
    }
   ],
   "source": [
    "concatenate: Callable[[Sequence[str], Sequence[str], str], Sequence[str]] = lambda L1, L2, connector: [f\"{x}{connector}{y}\" for x, y in zip(L1, L2)]\n",
    "print(\"concatenate(['A','B'], ['a','b'], '-'):\", concatenate([\"A\",\"B\"],[\"a\",\"b\"],\"-\"))"
   ]
  },
  {
   "cell_type": "markdown",
   "metadata": {},
   "source": [
    "## <a id='toc5_'></a>Problem 5 [&#8593;](#toc0_)\n",
    "- Use enumerate and other skills to return a dictionary which has the values of the list as keys and the index as the value. You may assume that a value will only appear once in the given list\n",
    "- Return a dictionary which has the values of the list as keys and the index as the value"
   ]
  },
  {
   "cell_type": "code",
   "execution_count": 7,
   "metadata": {},
   "outputs": [
    {
     "name": "stdout",
     "output_type": "stream",
     "text": [
      "d_list(['a', 'b', 'c']): {'a': 0, 'b': 1, 'c': 2}\n"
     ]
    }
   ],
   "source": [
    "d_list: Callable[[List[Any]], dict[Any, int]] = lambda el: { el_val: el_key for (el_key, el_val) in enumerate(el) }\n",
    "print(\"d_list(['a', 'b', 'c']):\", d_list([\"a\", \"b\", \"c\"]))"
   ]
  },
  {
   "cell_type": "markdown",
   "metadata": {},
   "source": [
    "## <a id='toc6_'></a>Problem 6 [&#8593;](#toc0_)\n",
    "- Use enumerate and other skills from above to return the count of the number of items in the list whose value equals its index\n",
    "\n",
    "```python\n",
    "def count_match_index(L):\n",
    "    # Using lambda and filter\n",
    "    return len(filter(lambda (i, el): i == el, enumerate(L)))\n",
    "```"
   ]
  },
  {
   "cell_type": "code",
   "execution_count": 8,
   "metadata": {},
   "outputs": [
    {
     "name": "stdout",
     "output_type": "stream",
     "text": [
      "count_match_index([0, 2, 2, 1, 5, 5, 6, 10]): 4\n"
     ]
    }
   ],
   "source": [
    "count_match_index: Callable[[List[Any]], int] = lambda L: len([x for (i, x) in enumerate(L) if x == i]) # Using list comprehension and conditioning\n",
    "print(\"count_match_index([0, 2, 2, 1, 5, 5, 6, 10]):\", count_match_index([0, 2, 2, 1, 5, 5, 6, 10]))"
   ]
  }
 ],
 "metadata": {
  "kernelspec": {
   "display_name": "venv",
   "language": "python",
   "name": "python3"
  },
  "language_info": {
   "codemirror_mode": {
    "name": "ipython",
    "version": 3
   },
   "file_extension": ".py",
   "mimetype": "text/x-python",
   "name": "python",
   "nbconvert_exporter": "python",
   "pygments_lexer": "ipython3",
   "version": "3.11.2"
  },
  "toc": {
   "base_numbering": 1,
   "nav_menu": {},
   "number_sections": true,
   "sideBar": true,
   "skip_h1_title": true,
   "title_cell": "Table of Contents",
   "title_sidebar": "Contents",
   "toc_cell": true,
   "toc_position": {},
   "toc_section_display": true,
   "toc_window_display": true
  },
  "vscode": {
   "interpreter": {
    "hash": "b5ab5f64e32c215b80ba2c275165396f1c456cb6ba15ab870f8428bc206a177b"
   }
  }
 },
 "nbformat": 4,
 "nbformat_minor": 4
}
