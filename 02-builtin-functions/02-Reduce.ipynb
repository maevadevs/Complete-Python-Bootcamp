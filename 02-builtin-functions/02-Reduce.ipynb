{
 "cells": [
  {
   "cell_type": "markdown",
   "metadata": {},
   "source": [
    "# Built-In Function: `reduce()`\n",
    "---"
   ]
  },
  {
   "attachments": {},
   "cell_type": "markdown",
   "metadata": {},
   "source": [
    "**Table of Contents**<a id=\"toc0_\"></a>    \n",
    "- [`reduce()` Overview](#toc1_)    \n",
    "- [Examples](#toc2_)    \n",
    "- [Diagram](#toc3_)    \n",
    "\n",
    "<!-- vscode-jupyter-toc-config\n",
    "\tnumbering=false\n",
    "\tanchor=true\n",
    "\tflat=false\n",
    "\tminLevel=2\n",
    "\tmaxLevel=6\n",
    "\t/vscode-jupyter-toc-config -->\n",
    "<!-- THIS CELL WILL BE REPLACED ON TOC UPDATE. DO NOT WRITE YOUR TEXT IN THIS CELL -->"
   ]
  },
  {
   "attachments": {},
   "cell_type": "markdown",
   "metadata": {},
   "source": [
    "---"
   ]
  },
  {
   "attachments": {},
   "cell_type": "markdown",
   "metadata": {},
   "source": [
    "## <a id=\"toc1_\"></a>`reduce()` Overview [&#8593;](#toc0_)"
   ]
  },
  {
   "attachments": {},
   "cell_type": "markdown",
   "metadata": {},
   "source": [
    "- Continually applies the function to the sequence and eventually returns a single value\n",
    "- Uses an *aggregator* to aggregate the result of applying the function each time\n",
    "- `reduce` must be imported from `functools`\n",
    "\n",
    "```python\n",
    "reduce(function, sequence)\n",
    "```\n",
    "\n",
    "- If `seq = [s1, s2, s3, ..., sn]`, calling `reduce(function, sequence)` works like this:\n",
    "  \n",
    "1. `res1 = func(s1, s2)`\n",
    "2. `res2 = func(res1, s4)`\n",
    "3. `res3 = func(res2, s5`\n",
    "4. ...\n",
    "5. `resfinal = func(resn-1, sn)`\n",
    "\n",
    "- **Notes about Python3 changes:**\n",
    "  - Removed `reduce()`\n",
    "  - Use `functools.reduce()` if you really need it\n",
    "- However, 99 percent of the time, an explicit `for` loop is more readable"
   ]
  },
  {
   "attachments": {},
   "cell_type": "markdown",
   "metadata": {},
   "source": [
    "## <a id=\"toc2_\"></a>Examples [&#8593;](#toc0_)"
   ]
  },
  {
   "cell_type": "code",
   "execution_count": 1,
   "metadata": {},
   "outputs": [
    {
     "name": "stdout",
     "output_type": "stream",
     "text": [
      "113\n"
     ]
    }
   ],
   "source": [
    "from functools import reduce\n",
    "from typing import List\n",
    "\n",
    "lst_1: List[int] = [47, 11, 42, 13]\n",
    "lst_sum: int = reduce(lambda agg, el: agg + el, lst_1)\n",
    "\n",
    "print(lst_sum)"
   ]
  },
  {
   "cell_type": "code",
   "execution_count": 2,
   "metadata": {},
   "outputs": [
    {
     "name": "stdout",
     "output_type": "stream",
     "text": [
      "hello\n"
     ]
    }
   ],
   "source": [
    "lst_2: List[str] = [\"h\", \"e\", \"l\", \"l\", \"o\"]\n",
    "st: str = reduce(lambda agg, el: agg + el, lst_2)\n",
    "print(st)"
   ]
  },
  {
   "cell_type": "code",
   "execution_count": 3,
   "metadata": {},
   "outputs": [
    {
     "name": "stdout",
     "output_type": "stream",
     "text": [
      "47\n"
     ]
    }
   ],
   "source": [
    "lst_3: List[int] = [47, 11, 42, 13]\n",
    "lst_max: int = reduce(lambda a, b: a if (a > b) else b, lst_3)\n",
    "print(lst_max)"
   ]
  },
  {
   "attachments": {},
   "cell_type": "markdown",
   "metadata": {},
   "source": [
    "## <a id=\"toc3_\"></a>Diagram [&#8593;](#toc0_)"
   ]
  },
  {
   "cell_type": "markdown",
   "metadata": {},
   "source": [
    "![reduce-diagram](./reduce_diagram.png)"
   ]
  }
 ],
 "metadata": {
  "kernelspec": {
   "display_name": "venv",
   "language": "python",
   "name": "python3"
  },
  "language_info": {
   "codemirror_mode": {
    "name": "ipython",
    "version": 3
   },
   "file_extension": ".py",
   "mimetype": "text/x-python",
   "name": "python",
   "nbconvert_exporter": "python",
   "pygments_lexer": "ipython3",
   "version": "3.11.2"
  },
  "toc": {
   "base_numbering": 1,
   "nav_menu": {},
   "number_sections": true,
   "sideBar": true,
   "skip_h1_title": true,
   "title_cell": "Table of Contents",
   "title_sidebar": "Contents",
   "toc_cell": true,
   "toc_position": {},
   "toc_section_display": true,
   "toc_window_display": true
  },
  "vscode": {
   "interpreter": {
    "hash": "b5ab5f64e32c215b80ba2c275165396f1c456cb6ba15ab870f8428bc206a177b"
   }
  }
 },
 "nbformat": 4,
 "nbformat_minor": 1
}
