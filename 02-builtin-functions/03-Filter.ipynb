{
 "cells": [
  {
   "cell_type": "markdown",
   "metadata": {},
   "source": [
    "# Built-In Function: `filter()`\n",
    "---"
   ]
  },
  {
   "cell_type": "markdown",
   "metadata": {},
   "source": [
    "**Table of Contents**<a id='toc0_'></a>    \n",
    "- [`filter()` Overview](#toc1_)    \n",
    "- [Examples](#toc2_)    \n",
    "- [Custom Implementation of `filter()`](#toc3_)    \n",
    "\n",
    "<!-- vscode-jupyter-toc-config\n",
    "\tnumbering=false\n",
    "\tanchor=true\n",
    "\tflat=false\n",
    "\tminLevel=2\n",
    "\tmaxLevel=6\n",
    "\t/vscode-jupyter-toc-config -->\n",
    "<!-- THIS CELL WILL BE REPLACED ON TOC UPDATE. DO NOT WRITE YOUR TEXT IN THIS CELL -->"
   ]
  },
  {
   "attachments": {},
   "cell_type": "markdown",
   "metadata": {},
   "source": [
    "---"
   ]
  },
  {
   "cell_type": "markdown",
   "metadata": {},
   "source": [
    "## <a id='toc1_'></a>`filter()` Overview [&#8593;](#toc0_)"
   ]
  },
  {
   "attachments": {},
   "cell_type": "markdown",
   "metadata": {},
   "source": [
    "- A convenient way to filter out all the elements of an iterable for which the function returns `True`\n",
    "  - We pick the elements that meet the condition of the filter and return them\n",
    "  - We exclude the elementst that do not meet the condition of the filter\n",
    "\n",
    "```python\n",
    "filter(func, list)\n",
    "```\n",
    "\n",
    "- `func`\n",
    "  - Needs to return a Boolean value\n",
    "  - Applied to every element of the iterable\n",
    "  - **Only if the function returns `True` will the element of the iterable be included in the result**\n",
    "- **`filter()` is a generator**"
   ]
  },
  {
   "cell_type": "markdown",
   "metadata": {},
   "source": [
    "## <a id='toc2_'></a>Examples [&#8593;](#toc0_)"
   ]
  },
  {
   "cell_type": "code",
   "execution_count": 1,
   "metadata": {},
   "outputs": [],
   "source": [
    "from typing import Any, Callable, List"
   ]
  },
  {
   "cell_type": "code",
   "execution_count": 2,
   "metadata": {},
   "outputs": [],
   "source": [
    "is_even: Callable[[int], bool] = lambda num: num % 2 == 0\n",
    "is_odd: Callable[[int], bool] = lambda num: num % 2 != 0"
   ]
  },
  {
   "cell_type": "code",
   "execution_count": 3,
   "metadata": {},
   "outputs": [
    {
     "name": "stdout",
     "output_type": "stream",
     "text": [
      "[0, 2, 4, 6, 8, 10, 12, 14, 16, 18]\n"
     ]
    }
   ],
   "source": [
    "lst: range = range(20)\n",
    "lst_even: List[int] = list(filter(is_even, lst))\n",
    "print(lst_even)"
   ]
  },
  {
   "cell_type": "code",
   "execution_count": 4,
   "metadata": {},
   "outputs": [
    {
     "name": "stdout",
     "output_type": "stream",
     "text": [
      "[1, 3, 5, 7, 9, 11, 13, 15, 17, 19]\n"
     ]
    }
   ],
   "source": [
    "lst_odd: List[int] = list(filter(is_odd, lst))\n",
    "print(lst_odd)"
   ]
  },
  {
   "attachments": {},
   "cell_type": "markdown",
   "metadata": {},
   "source": [
    "- `filter()` is more commonly used with lambda functions\n",
    "- We usually use `filter` for a quick job where we do not want to write an entire function"
   ]
  },
  {
   "cell_type": "code",
   "execution_count": 5,
   "metadata": {},
   "outputs": [
    {
     "name": "stdout",
     "output_type": "stream",
     "text": [
      "[0, 2, 4, 6, 8, 10, 12, 14, 16, 18]\n"
     ]
    }
   ],
   "source": [
    "lst_even = list(filter(lambda x: x % 2 == 0, lst))\n",
    "print(lst_even)"
   ]
  },
  {
   "cell_type": "markdown",
   "metadata": {},
   "source": [
    "- Here is another filter for prime numbers"
   ]
  },
  {
   "cell_type": "code",
   "execution_count": 6,
   "metadata": {},
   "outputs": [],
   "source": [
    "from math import sqrt\n",
    "\n",
    "def is_prime(num: int) -> bool:\n",
    "    \"\"\"   \n",
    "    Optimised method for checking if an integer number is prime or not.\n",
    "\n",
    "    Arguments:\n",
    "        - `num`: The number to check if it is prime or not.\n",
    "\n",
    "    Return:\n",
    "        - bool Whether the `num` is prime or not\n",
    "    \"\"\"\n",
    "\n",
    "    # Special cases\n",
    "    if type(num) != int or num <= 1:\n",
    "        return False\n",
    "\n",
    "    # First 4 prime numbers\n",
    "    if num in {2, 3, 5, 7}:\n",
    "        return True\n",
    "\n",
    "    # Divisible by 2\n",
    "    if num % 2 == 0:\n",
    "        return False\n",
    "\n",
    "    # Divisible by 3\n",
    "    if num % 3 == 0:\n",
    "        return False\n",
    "\n",
    "    # Divisible by 5\n",
    "    if num % 5 == 0:\n",
    "        return False\n",
    "\n",
    "    # Beyond 10, only integers ending in 1,3,7,9 can be prime\n",
    "    # Else, they are either divisible by 2 or 5\n",
    "    if (num > 10) and (num % 10 in {1,3,7,9}):\n",
    "        # Loop through possible divisors up to the sqrt\n",
    "        for n in range(3, int(sqrt(num))+1):\n",
    "            if num % n == 0:\n",
    "                return False\n",
    "\n",
    "    # If still here then prime\n",
    "    return True"
   ]
  },
  {
   "cell_type": "code",
   "execution_count": 7,
   "metadata": {},
   "outputs": [
    {
     "name": "stdout",
     "output_type": "stream",
     "text": [
      "Prime Numbers: [2, 3, 5, 7, 11, 13, 17, 19]\n"
     ]
    }
   ],
   "source": [
    "prime_numbers: List[int] = list(filter(is_prime, lst)) # Filter the prime numbers from our list\n",
    "print(\"Prime Numbers:\", prime_numbers)"
   ]
  },
  {
   "cell_type": "markdown",
   "metadata": {},
   "source": [
    "## <a id='toc3_'></a>Custom Implementation of `filter()` [&#8593;](#toc0_)"
   ]
  },
  {
   "cell_type": "code",
   "execution_count": 8,
   "metadata": {},
   "outputs": [],
   "source": [
    "from typing import Callable\n",
    "from collections.abc import Sequence\n",
    "\n",
    "def custom_filter_implementation(func_filter: Callable[[Any], bool], m_list: Sequence[Any]) -> List[Any]:\n",
    "    final_list: List[Any] = []\n",
    "    for el in m_list:\n",
    "        if func_filter(el):\n",
    "            final_list.append(el)\n",
    "    return final_list"
   ]
  },
  {
   "cell_type": "code",
   "execution_count": 9,
   "metadata": {},
   "outputs": [
    {
     "name": "stdout",
     "output_type": "stream",
     "text": [
      "Even Numbers using custom filter() implementation: [0, 2, 4, 6, 8, 10, 12, 14, 16, 18]\n"
     ]
    }
   ],
   "source": [
    "even_numbers: List[int] = custom_filter_implementation(lambda x: x % 2 == 0, lst)\n",
    "print(\"Even Numbers using custom filter() implementation:\", even_numbers)"
   ]
  }
 ],
 "metadata": {
  "kernelspec": {
   "display_name": "venv",
   "language": "python",
   "name": "python3"
  },
  "language_info": {
   "codemirror_mode": {
    "name": "ipython",
    "version": 3
   },
   "file_extension": ".py",
   "mimetype": "text/x-python",
   "name": "python",
   "nbconvert_exporter": "python",
   "pygments_lexer": "ipython3",
   "version": "3.11.2"
  },
  "toc": {
   "base_numbering": 1,
   "nav_menu": {},
   "number_sections": true,
   "sideBar": true,
   "skip_h1_title": true,
   "title_cell": "Table of Contents",
   "title_sidebar": "Contents",
   "toc_cell": true,
   "toc_position": {},
   "toc_section_display": true,
   "toc_window_display": true
  },
  "vscode": {
   "interpreter": {
    "hash": "b5ab5f64e32c215b80ba2c275165396f1c456cb6ba15ab870f8428bc206a177b"
   }
  }
 },
 "nbformat": 4,
 "nbformat_minor": 1
}
