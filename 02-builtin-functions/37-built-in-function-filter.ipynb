{
 "cells": [
  {
   "cell_type": "markdown",
   "metadata": {
    "toc": true
   },
   "source": [
    "<h1>Table of Contents<span class=\"tocSkip\"></span></h1>\n",
    "<div class=\"toc\"><ul class=\"toc-item\"><li><span><a href=\"#Examples\" data-toc-modified-id=\"Examples-1\"><span class=\"toc-item-num\">1&nbsp;&nbsp;</span>Examples</a></span></li><li><span><a href=\"#Custom-Implementation-of-filter()\" data-toc-modified-id=\"Custom-Implementation-of-filter()-2\"><span class=\"toc-item-num\">2&nbsp;&nbsp;</span>Custom Implementation of <code>filter()</code></a></span></li></ul></div>"
   ]
  },
  {
   "cell_type": "markdown",
   "metadata": {},
   "source": [
    "# Built-In Function: `filter()`"
   ]
  },
  {
   "cell_type": "markdown",
   "metadata": {},
   "source": [
    "- A convenient way to filter out all the elements of an iterable, for which the function returns True\n",
    "\n",
    "```python\n",
    "filter(function, list)\n",
    "```\n",
    "\n",
    "- `function`: Needs to return a Boolean value\n",
    "  - Applied to every element of the iterable\n",
    "  - Only if the function returns `True` will the element of the iterable be included in the result\n",
    "- **`filter()` is a generator**"
   ]
  },
  {
   "cell_type": "markdown",
   "metadata": {},
   "source": [
    "## Examples"
   ]
  },
  {
   "cell_type": "code",
   "execution_count": 1,
   "metadata": {},
   "outputs": [],
   "source": [
    "is_even = lambda num: num % 2 == 0\n",
    "is_odd = lambda num: num % 2 != 0"
   ]
  },
  {
   "cell_type": "code",
   "execution_count": 2,
   "metadata": {},
   "outputs": [
    {
     "name": "stdout",
     "output_type": "stream",
     "text": [
      "[0, 2, 4, 6, 8, 10, 12, 14, 16, 18]\n"
     ]
    }
   ],
   "source": [
    "lst = range(20)\n",
    "lst_even = list(filter(is_even, lst))\n",
    "print(lst_even)"
   ]
  },
  {
   "cell_type": "code",
   "execution_count": 3,
   "metadata": {},
   "outputs": [
    {
     "name": "stdout",
     "output_type": "stream",
     "text": [
      "[1, 3, 5, 7, 9, 11, 13, 15, 17, 19]\n"
     ]
    }
   ],
   "source": [
    "lst_odd = list(filter(is_odd, lst))\n",
    "print(lst_odd)"
   ]
  },
  {
   "cell_type": "markdown",
   "metadata": {},
   "source": [
    "- `filter()` is more commonly used with lambda functions\n",
    "- We usually use `filter` for a quick job where we don't want to write an entire function"
   ]
  },
  {
   "cell_type": "code",
   "execution_count": 4,
   "metadata": {},
   "outputs": [
    {
     "name": "stdout",
     "output_type": "stream",
     "text": [
      "[0, 2, 4, 6, 8, 10, 12, 14, 16, 18]\n"
     ]
    }
   ],
   "source": [
    "lst_even = list(filter(lambda x: x % 2 == 0, lst))\n",
    "print(lst_even)"
   ]
  },
  {
   "cell_type": "markdown",
   "metadata": {},
   "source": [
    "- Here is another filter for prime numbers"
   ]
  },
  {
   "cell_type": "code",
   "execution_count": 5,
   "metadata": {},
   "outputs": [],
   "source": [
    "import math\n",
    "\n",
    "def isPrime(num):\n",
    "    \"\"\"isPrime(num) -> boolean\n",
    "    \n",
    "    Better method for checking primes.\n",
    "    Only check the square root of the target number and disregard all even numbers.\"\"\"\n",
    "\n",
    "    # Shortcuts: Primes cases below 10 and even numbers\n",
    "    if num < 2:\n",
    "        return False\n",
    "    if num == 2 or num == 3 or num == 5 or num == 7:\n",
    "        return True\n",
    "    if num % 2 == 0 and num > 2:\n",
    "        return False\n",
    "\n",
    "    # Primes above single digits can only end with either ['1', '3', '7', '9']\n",
    "    if str(num)[-1] in ['1', '3', '7', '9']:\n",
    "        # Check up to the squareRoot of num\n",
    "        for i in range(3, int(math.sqrt(num)) + 1, 2):\n",
    "            if num % i == 0:\n",
    "                return False\n",
    "        # If still here, prime\n",
    "        return True\n",
    "    else: # Multiples of 2 and 5 are not prime: Ending with [0, 2, 4, 5, 6, 8]\n",
    "        return False"
   ]
  },
  {
   "cell_type": "code",
   "execution_count": 6,
   "metadata": {},
   "outputs": [
    {
     "name": "stdout",
     "output_type": "stream",
     "text": [
      "Prime Numbers: [2, 3, 5, 7, 11, 13, 17, 19]\n"
     ]
    }
   ],
   "source": [
    "primeNumbers = list(filter(isPrime, lst)) # Filter the prime numbers from our list\n",
    "print('Prime Numbers:', primeNumbers)"
   ]
  },
  {
   "cell_type": "markdown",
   "metadata": {},
   "source": [
    "---"
   ]
  },
  {
   "cell_type": "markdown",
   "metadata": {},
   "source": [
    "## Custom Implementation of `filter()`"
   ]
  },
  {
   "cell_type": "code",
   "execution_count": 7,
   "metadata": {},
   "outputs": [],
   "source": [
    "def customFilterImplementation(funcFilter, mlist):\n",
    "    finalList = []\n",
    "    for el in mlist:\n",
    "        if funcFilter(el) == True:\n",
    "            finalList.append(el)\n",
    "    return finalList"
   ]
  },
  {
   "cell_type": "code",
   "execution_count": 8,
   "metadata": {},
   "outputs": [
    {
     "name": "stdout",
     "output_type": "stream",
     "text": [
      "Even Numbers using custom filter() implementation: [0, 2, 4, 6, 8, 10, 12, 14, 16, 18]\n"
     ]
    }
   ],
   "source": [
    "evenNumbers = customFilterImplementation(lambda x: x % 2 == 0, lst)\n",
    "print('Even Numbers using custom filter() implementation:', evenNumbers)"
   ]
  }
 ],
 "metadata": {
  "kernelspec": {
   "display_name": "Python 3",
   "language": "python",
   "name": "python3"
  },
  "language_info": {
   "codemirror_mode": {
    "name": "ipython",
    "version": 3
   },
   "file_extension": ".py",
   "mimetype": "text/x-python",
   "name": "python",
   "nbconvert_exporter": "python",
   "pygments_lexer": "ipython3",
   "version": "3.7.6"
  },
  "toc": {
   "base_numbering": 1,
   "nav_menu": {},
   "number_sections": true,
   "sideBar": true,
   "skip_h1_title": true,
   "title_cell": "Table of Contents",
   "title_sidebar": "Contents",
   "toc_cell": true,
   "toc_position": {},
   "toc_section_display": true,
   "toc_window_display": true
  }
 },
 "nbformat": 4,
 "nbformat_minor": 1
}
