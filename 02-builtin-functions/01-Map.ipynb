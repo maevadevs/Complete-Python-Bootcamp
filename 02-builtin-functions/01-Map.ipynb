{
 "cells": [
  {
   "cell_type": "markdown",
   "metadata": {},
   "source": [
    "# Built-In Function: `map()`\n",
    "---"
   ]
  },
  {
   "cell_type": "markdown",
   "metadata": {},
   "source": [
    "**Table of Contents**<a id='toc0_'></a>    \n",
    "- [`map()` Overview ](#toc1_)    \n",
    "- [`map()` In Action ](#toc2_)    \n",
    "- [Multiple Iterables At Once ](#toc3_)    \n",
    "\n",
    "<!-- vscode-jupyter-toc-config\n",
    "\tnumbering=false\n",
    "\tanchor=true\n",
    "\tflat=false\n",
    "\tminLevel=2\n",
    "\tmaxLevel=6\n",
    "\t/vscode-jupyter-toc-config -->\n",
    "<!-- THIS CELL WILL BE REPLACED ON TOC UPDATE. DO NOT WRITE YOUR TEXT IN THIS CELL -->"
   ]
  },
  {
   "attachments": {},
   "cell_type": "markdown",
   "metadata": {},
   "source": [
    "---"
   ]
  },
  {
   "cell_type": "markdown",
   "metadata": {},
   "source": [
    "## <a id='toc1_'></a>`map()` Overview  [&#8593;](#toc0_)"
   ]
  },
  {
   "attachments": {},
   "cell_type": "markdown",
   "metadata": {},
   "source": [
    "- Takes in two arguments\n",
    "  - A function\n",
    "  - A sequence iterable\n",
    "- `map()` applies the function to all the elements of the sequence\n",
    "- Returns a new list with the elements changed by function\n",
    "- `map()` is a generator\n",
    "\n",
    "```python\n",
    "map(function, sequence)\n",
    "```"
   ]
  },
  {
   "cell_type": "markdown",
   "metadata": {},
   "source": [
    "## <a id='toc2_'></a>`map()` In Action  [&#8593;](#toc0_)"
   ]
  },
  {
   "cell_type": "code",
   "execution_count": 1,
   "metadata": {},
   "outputs": [
    {
     "name": "stdout",
     "output_type": "stream",
     "text": [
      "Fahrs: [32.0, 72.5, 104.0, 212.0]\n",
      "Cels: [0.0, 22.5, 40.0, 100.0]\n"
     ]
    }
   ],
   "source": [
    "from typing import List\n",
    "\n",
    "def cels_to_fahr(T: float) -> float:\n",
    "    return T * (9 / 5) + 32\n",
    "\n",
    "def fahr_to_cels(T: float) -> float:\n",
    "    return (T - 32) * (5 / 9)\n",
    "\n",
    "temps: List[float] = [0, 22.5, 40, 100]\n",
    "temps_fahr: List[float] = list(map(cels_to_fahr, temps))\n",
    "temps_cels: List[float] = list(map(fahr_to_cels, temps_fahr))\n",
    "\n",
    "print(\"Fahrs:\", temps_fahr)\n",
    "print(\"Cels:\", temps_cels)"
   ]
  },
  {
   "cell_type": "markdown",
   "metadata": {},
   "source": [
    "- We can also simply use a lambda expression to save time"
   ]
  },
  {
   "cell_type": "code",
   "execution_count": 2,
   "metadata": {},
   "outputs": [
    {
     "name": "stdout",
     "output_type": "stream",
     "text": [
      "Cels: [0.0, 22.5, 40.0, 100.0]\n",
      "Fahrs: [32.0, 72.5, 104.0, 212.0]\n"
     ]
    }
   ],
   "source": [
    "print(\"Cels:\", list(map(lambda T: (T - 32) * (5 / 9), temps_fahr)))\n",
    "print(\"Fahrs:\", list(map(lambda T: T * (9 / 5) + 32, temps_cels)))"
   ]
  },
  {
   "cell_type": "markdown",
   "metadata": {},
   "source": [
    "## <a id='toc3_'></a>Multiple Iterables At Once  [&#8593;](#toc0_)"
   ]
  },
  {
   "attachments": {},
   "cell_type": "markdown",
   "metadata": {},
   "source": [
    "- `map()` can be applied to more than one iterable at once\n",
    "- The iterables must have the same length\n",
    "- It will use `n` arguments from the `n` lists and map each to the final result"
   ]
  },
  {
   "cell_type": "code",
   "execution_count": 3,
   "metadata": {},
   "outputs": [
    {
     "data": {
      "text/plain": [
       "[6, 8, 10, 12]"
      ]
     },
     "execution_count": 3,
     "metadata": {},
     "output_type": "execute_result"
    }
   ],
   "source": [
    "# The lists must have the same length\n",
    "list_a: List[int] = [1, 2, 3, 4]\n",
    "list_b: List[int] = [5, 6, 7, 8]\n",
    "list_c: List[int] = [9, 10, 11, 12]\n",
    "\n",
    "list(map(lambda a, b: a + b, list_a, list_b))"
   ]
  },
  {
   "cell_type": "code",
   "execution_count": 4,
   "metadata": {},
   "outputs": [
    {
     "data": {
      "text/plain": [
       "[15, 18, 21, 24]"
      ]
     },
     "execution_count": 4,
     "metadata": {},
     "output_type": "execute_result"
    }
   ],
   "source": [
    "# Now all three lists\n",
    "list(map(lambda a, b, c: a + b + c, list_a, list_b, list_c))"
   ]
  }
 ],
 "metadata": {
  "kernelspec": {
   "display_name": "venv",
   "language": "python",
   "name": "python3"
  },
  "language_info": {
   "codemirror_mode": {
    "name": "ipython",
    "version": 3
   },
   "file_extension": ".py",
   "mimetype": "text/x-python",
   "name": "python",
   "nbconvert_exporter": "python",
   "pygments_lexer": "ipython3",
   "version": "3.11.2"
  },
  "toc": {
   "base_numbering": 1,
   "nav_menu": {},
   "number_sections": true,
   "sideBar": true,
   "skip_h1_title": true,
   "title_cell": "Table of Contents",
   "title_sidebar": "Contents",
   "toc_cell": true,
   "toc_position": {},
   "toc_section_display": true,
   "toc_window_display": true
  },
  "vscode": {
   "interpreter": {
    "hash": "b5ab5f64e32c215b80ba2c275165396f1c456cb6ba15ab870f8428bc206a177b"
   }
  }
 },
 "nbformat": 4,
 "nbformat_minor": 1
}
