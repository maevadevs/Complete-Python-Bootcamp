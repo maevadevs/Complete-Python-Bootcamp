{
 "cells": [
  {
   "cell_type": "markdown",
   "metadata": {
    "toc": true
   },
   "source": [
    "<h1>Table of Contents<span class=\"tocSkip\"></span></h1>\n",
    "<div class=\"toc\"><ul class=\"toc-item\"><li><span><a href=\"#Examples\" data-toc-modified-id=\"Examples-1\"><span class=\"toc-item-num\">1&nbsp;&nbsp;</span>Examples</a></span></li><li><span><a href=\"#Dictionary-Comprehension\" data-toc-modified-id=\"Dictionary-Comprehension-2\"><span class=\"toc-item-num\">2&nbsp;&nbsp;</span>Dictionary Comprehension</a></span></li></ul></div>"
   ]
  },
  {
   "cell_type": "markdown",
   "metadata": {},
   "source": [
    "# Built-In Function: `enumerate()`"
   ]
  },
  {
   "cell_type": "markdown",
   "metadata": {},
   "source": [
    "- Allows to keep a count as you iterate through an object\n",
    "- Return a tuple in the form `(count, element)`\n",
    "- Particularly useful when you have a case where you need to have some sort of tracker\n",
    "- Equivalent function:\n",
    "\n",
    "```python\n",
    "def enumerate(sequence, start=0):\n",
    "    n = start\n",
    "    for elem in sequence:\n",
    "        yield n, elem\n",
    "        n += 1\n",
    "```"
   ]
  },
  {
   "cell_type": "markdown",
   "metadata": {},
   "source": [
    "## Examples"
   ]
  },
  {
   "cell_type": "code",
   "execution_count": 1,
   "metadata": {},
   "outputs": [
    {
     "name": "stdout",
     "output_type": "stream",
     "text": [
      "0 a\n",
      "1 b\n",
      "2 c\n"
     ]
    }
   ],
   "source": [
    "lst = ['a', 'b', 'c']\n",
    "\n",
    "for i, item in enumerate(lst):\n",
    "    print(i, item)"
   ]
  },
  {
   "cell_type": "code",
   "execution_count": 2,
   "metadata": {},
   "outputs": [
    {
     "name": "stdout",
     "output_type": "stream",
     "text": [
      "a\n",
      "b\n"
     ]
    }
   ],
   "source": [
    "for count, item in enumerate(lst):\n",
    "    if count >= 2:\n",
    "        break\n",
    "    else:\n",
    "        print(item)"
   ]
  },
  {
   "cell_type": "markdown",
   "metadata": {},
   "source": [
    "---"
   ]
  },
  {
   "cell_type": "markdown",
   "metadata": {},
   "source": [
    "## Dictionary Comprehension"
   ]
  },
  {
   "cell_type": "markdown",
   "metadata": {},
   "source": [
    "- Similar to List comprehension, Dictionary comprehension is also possible using enumerate()\n",
    "- We just need to specify the key and the value from the breakdown of `enumerate()`"
   ]
  },
  {
   "cell_type": "code",
   "execution_count": 3,
   "metadata": {},
   "outputs": [
    {
     "name": "stdout",
     "output_type": "stream",
     "text": [
      "Original List: ['zero', 'one', 'two', 'three', 'four']\n",
      "Enumerated Dict: {'zero': 0, 'one': 1, 'two': 2, 'three': 3, 'four': 4}\n",
      "\n"
     ]
    }
   ],
   "source": [
    "sampleList = ['zero', 'one', 'two', 'three', 'four']\n",
    "sampleDict = { v: k for k, v in enumerate(sampleList) }\n",
    "print('Original List:', sampleList)\n",
    "print('Enumerated Dict:', sampleDict)\n",
    "print('')"
   ]
  },
  {
   "cell_type": "code",
   "execution_count": 4,
   "metadata": {},
   "outputs": [
    {
     "name": "stdout",
     "output_type": "stream",
     "text": [
      "List 1: ['first', 'second', 'third', 'fourth']\n",
      "List 2: ['bacon', 'lettuce', 'tomato', 'egg']\n",
      "Mapping 2 List with zip(): {'first': 'bacon', 'second': 'lettuce', 'third': 'tomato', 'fourth': 'egg'}\n"
     ]
    }
   ],
   "source": [
    "# NOTE: Mapping two lists into a single dictionary uses zip instead\n",
    "\n",
    "list1 = ['first', 'second', 'third', 'fourth']\n",
    "list2 = ['bacon', 'lettuce', 'tomato', 'egg']\n",
    "\n",
    "dictionary = { k: v for k, v in zip(list1, list2) }\n",
    "\n",
    "print('List 1:', list1)\n",
    "print('List 2:', list2)\n",
    "print('Mapping 2 List with zip():', dictionary)"
   ]
  },
  {
   "cell_type": "code",
   "execution_count": null,
   "metadata": {},
   "outputs": [],
   "source": []
  }
 ],
 "metadata": {
  "kernelspec": {
   "display_name": "Python 3",
   "language": "python",
   "name": "python3"
  },
  "language_info": {
   "codemirror_mode": {
    "name": "ipython",
    "version": 3
   },
   "file_extension": ".py",
   "mimetype": "text/x-python",
   "name": "python",
   "nbconvert_exporter": "python",
   "pygments_lexer": "ipython3",
   "version": "3.7.6"
  },
  "toc": {
   "base_numbering": 1,
   "nav_menu": {},
   "number_sections": true,
   "sideBar": true,
   "skip_h1_title": true,
   "title_cell": "Table of Contents",
   "title_sidebar": "Contents",
   "toc_cell": true,
   "toc_position": {},
   "toc_section_display": true,
   "toc_window_display": true
  }
 },
 "nbformat": 4,
 "nbformat_minor": 1
}
