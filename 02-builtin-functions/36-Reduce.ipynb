{
 "cells": [
  {
   "cell_type": "markdown",
   "metadata": {
    "toc": true
   },
   "source": [
    "<h1>Table of Contents<span class=\"tocSkip\"></span></h1>\n",
    "<div class=\"toc\"><ul class=\"toc-item\"><li><span><a href=\"#Examples\" data-toc-modified-id=\"Examples-1\"><span class=\"toc-item-num\">1&nbsp;&nbsp;</span>Examples</a></span></li><li><span><a href=\"#Diagram\" data-toc-modified-id=\"Diagram-2\"><span class=\"toc-item-num\">2&nbsp;&nbsp;</span>Diagram</a></span></li></ul></div>"
   ]
  },
  {
   "cell_type": "markdown",
   "metadata": {},
   "source": [
    "# Built-In Function: `reduce()`"
   ]
  },
  {
   "cell_type": "markdown",
   "metadata": {},
   "source": [
    "- Continually applies the function to the sequence and eventually returns a single value\n",
    "- `reduce` must be imported from `functools`\n",
    "\n",
    "```python\n",
    "reduce(function, sequence)\n",
    "```\n",
    "\n",
    "- If `seq = [s1, s2, s3, ..., sn]`, calling `reduce(function, sequence)` works like this:\n",
    "  1. `res1 = func(s1, s2)`\n",
    "  1. `res2 = func(res1, s4)`\n",
    "  1. `res3 = func(res2, s5`\n",
    "  1. ...\n",
    "  1. `resfinal = func(resn-1, sn)`\n",
    "\n",
    "- **Notes about Python3 changes:**\n",
    "  - Removed `reduce()`.\n",
    "  - Use `functools.reduce()` if you really need it\n",
    "\n",
    "- However, 99 percent of the time an explicit `for` loop is more readable"
   ]
  },
  {
   "cell_type": "markdown",
   "metadata": {},
   "source": [
    "## Examples"
   ]
  },
  {
   "cell_type": "code",
   "execution_count": 1,
   "metadata": {},
   "outputs": [
    {
     "name": "stdout",
     "output_type": "stream",
     "text": [
      "113\n"
     ]
    }
   ],
   "source": [
    "from functools import reduce\n",
    "\n",
    "lst = [47, 11, 42, 13]\n",
    "lst_sum = reduce(lambda acc, el: acc + el, lst)\n",
    "print(lst_sum)"
   ]
  },
  {
   "cell_type": "code",
   "execution_count": 2,
   "metadata": {},
   "outputs": [
    {
     "name": "stdout",
     "output_type": "stream",
     "text": [
      "hello\n"
     ]
    }
   ],
   "source": [
    "lst = ['h', 'e', 'l', 'l', 'o']\n",
    "st = reduce(lambda acc, el: acc + el, lst)\n",
    "print(st)"
   ]
  },
  {
   "cell_type": "code",
   "execution_count": 3,
   "metadata": {},
   "outputs": [
    {
     "name": "stdout",
     "output_type": "stream",
     "text": [
      "47\n"
     ]
    }
   ],
   "source": [
    "lst = [47, 11, 42, 13]\n",
    "lst_max = reduce(lambda a, b: a if (a > b) else b, lst)\n",
    "print(lst_max)"
   ]
  },
  {
   "cell_type": "markdown",
   "metadata": {},
   "source": [
    "## Diagram"
   ]
  },
  {
   "cell_type": "markdown",
   "metadata": {},
   "source": [
    "![reduce-diagram](./reduce_diagram.png)"
   ]
  }
 ],
 "metadata": {
  "kernelspec": {
   "display_name": "Python 3",
   "language": "python",
   "name": "python3"
  },
  "language_info": {
   "codemirror_mode": {
    "name": "ipython",
    "version": 3
   },
   "file_extension": ".py",
   "mimetype": "text/x-python",
   "name": "python",
   "nbconvert_exporter": "python",
   "pygments_lexer": "ipython3",
   "version": "3.7.6"
  },
  "toc": {
   "base_numbering": 1,
   "nav_menu": {},
   "number_sections": true,
   "sideBar": true,
   "skip_h1_title": true,
   "title_cell": "Table of Contents",
   "title_sidebar": "Contents",
   "toc_cell": true,
   "toc_position": {},
   "toc_section_display": true,
   "toc_window_display": true
  }
 },
 "nbformat": 4,
 "nbformat_minor": 1
}
