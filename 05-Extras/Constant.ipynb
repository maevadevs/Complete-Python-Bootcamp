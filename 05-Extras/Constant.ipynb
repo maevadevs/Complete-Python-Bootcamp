{
 "cells": [
  {
   "attachments": {},
   "cell_type": "markdown",
   "metadata": {},
   "source": [
    "# Constants In Python"
   ]
  },
  {
   "attachments": {},
   "cell_type": "markdown",
   "metadata": {},
   "source": [
    "- Python does not have constants\n",
    "- We can simulate with dictionary, class, and module"
   ]
  },
  {
   "cell_type": "code",
   "execution_count": 1,
   "metadata": {},
   "outputs": [],
   "source": [
    "# Check the definition of the const module\n",
    "from const import CONST"
   ]
  },
  {
   "cell_type": "code",
   "execution_count": 2,
   "metadata": {},
   "outputs": [
    {
     "name": "stdout",
     "output_type": "stream",
     "text": [
      "Hello\n"
     ]
    }
   ],
   "source": [
    "CONST.GREETINGS: str = \"Hello\"\n",
    "print(CONST.GREETINGS)"
   ]
  },
  {
   "cell_type": "code",
   "execution_count": 3,
   "metadata": {},
   "outputs": [
    {
     "name": "stdout",
     "output_type": "stream",
     "text": [
      "ConstError: Const GREETINGS already exist: value = Hello.\n",
      "Hello\n"
     ]
    }
   ],
   "source": [
    "# Attempting to re-set an already defined constant with a different will result in an error\n",
    "try:\n",
    "    CONST.GREETINGS = \"Hello again\"\n",
    "except Exception as e:\n",
    "    print(f\"{e}\")\n",
    "\n",
    "# Constant has not changed\n",
    "print(CONST.GREETINGS)"
   ]
  },
  {
   "cell_type": "code",
   "execution_count": 4,
   "metadata": {},
   "outputs": [
    {
     "name": "stdout",
     "output_type": "stream",
     "text": [
      "ConstError: Const GREETINGS already exist: value = Hello.\n",
      "Hello\n"
     ]
    }
   ],
   "source": [
    "# Once it has been defined, it cannot be changed again\n",
    "# Evem re-assigning the same value is not acceptable\n",
    "\n",
    "try:\n",
    "    CONST.GREETINGS = \"Hello\"\n",
    "except Exception as e:\n",
    "    print(f\"{e}\")\n",
    "\n",
    "# Constant has not changed\n",
    "print(CONST.GREETINGS)"
   ]
  },
  {
   "attachments": {},
   "cell_type": "markdown",
   "metadata": {},
   "source": [
    "## Using `mypy`"
   ]
  },
  {
   "attachments": {},
   "cell_type": "markdown",
   "metadata": {},
   "source": [
    "- In Python 3.8+, there is a `typing.Final` variable annotation that will tell static type checkers (like `mypy`) that your variable should not be reassigned\n",
    "- This is the closest equivalent to Java's `final`\n",
    "- However, it does not actually prevent actual reassignment"
   ]
  },
  {
   "cell_type": "code",
   "execution_count": 5,
   "metadata": {},
   "outputs": [
    {
     "name": "stdout",
     "output_type": "stream",
     "text": [
      "3.14\n",
      "3.1416\n"
     ]
    }
   ],
   "source": [
    "from typing import Final\n",
    "\n",
    "PI: Final[float] = 3.14\n",
    "print(PI)\n",
    "\n",
    "PI = 3.1416 # This will create an error when using mypy\n",
    "print(PI)   # Re-assignment is still possible"
   ]
  }
 ],
 "metadata": {
  "kernelspec": {
   "display_name": "venv",
   "language": "python",
   "name": "python3"
  },
  "language_info": {
   "codemirror_mode": {
    "name": "ipython",
    "version": 3
   },
   "file_extension": ".py",
   "mimetype": "text/x-python",
   "name": "python",
   "nbconvert_exporter": "python",
   "pygments_lexer": "ipython3",
   "version": "3.11.2"
  },
  "orig_nbformat": 4
 },
 "nbformat": 4,
 "nbformat_minor": 2
}
