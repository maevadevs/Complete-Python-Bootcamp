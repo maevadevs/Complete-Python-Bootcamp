{
 "cells": [
  {
   "cell_type": "markdown",
   "metadata": {},
   "source": [
    "# Python Features By Version\n",
    "---"
   ]
  },
  {
   "cell_type": "markdown",
   "metadata": {},
   "source": [
    "**Table of Contents**<a id='toc0_'></a>    \n",
    "- [Python 0.x Branch](#toc1_)    \n",
    "  - [Python 0.9](#toc1_1_)    \n",
    "- [Python 1.x Branch](#toc2_)    \n",
    "  - [Python 1.0](#toc2_1_)    \n",
    "  - [Python 1.1](#toc2_2_)    \n",
    "  - [Python 1.2](#toc2_3_)    \n",
    "  - [Python 1.3](#toc2_4_)    \n",
    "  - [Python 1.4](#toc2_5_)    \n",
    "  - [Python 1.5](#toc2_6_)    \n",
    "  - [Python 1.6](#toc2_7_)    \n",
    "- [Python 2.x Branch](#toc3_)    \n",
    "  - [Python 2.0](#toc3_1_)    \n",
    "  - [Python 2.1](#toc3_2_)    \n",
    "  - [Python 2.2](#toc3_3_)    \n",
    "  - [Python 2.3](#toc3_4_)    \n",
    "  - [Python 2.4](#toc3_5_)    \n",
    "  - [Python 2.5](#toc3_6_)    \n",
    "  - [Python 2.6](#toc3_7_)    \n",
    "  - [Python 2.7](#toc3_8_)    \n",
    "- [Python 3.x Branch](#toc4_)    \n",
    "  - [Python 3.0](#toc4_1_)    \n",
    "  - [Python 3.1](#toc4_2_)    \n",
    "  - [Python 3.2](#toc4_3_)    \n",
    "  - [Python 3.3](#toc4_4_)    \n",
    "  - [Python 3.4](#toc4_5_)    \n",
    "  - [Python 3.5](#toc4_6_)    \n",
    "  - [Python 3.6](#toc4_7_)    \n",
    "  - [Python 3.7](#toc4_8_)    \n",
    "  - [Python 3.8](#toc4_9_)    \n",
    "  - [Python 3.9](#toc4_10_)    \n",
    "  - [Python 3.10](#toc4_11_)    \n",
    "  - [Python 3.11](#toc4_12_)    \n",
    "\n",
    "<!-- vscode-jupyter-toc-config\n",
    "\tnumbering=false\n",
    "\tanchor=true\n",
    "\tflat=false\n",
    "\tminLevel=2\n",
    "\tmaxLevel=6\n",
    "\t/vscode-jupyter-toc-config -->\n",
    "<!-- THIS CELL WILL BE REPLACED ON TOC UPDATE. DO NOT WRITE YOUR TEXT IN THIS CELL -->"
   ]
  },
  {
   "attachments": {},
   "cell_type": "markdown",
   "metadata": {},
   "source": [
    "---"
   ]
  },
  {
   "cell_type": "markdown",
   "metadata": {},
   "source": [
    "## <a id='toc1_'></a>Python 0.x Branch [&#8593;](#toc0_)"
   ]
  },
  {
   "cell_type": "markdown",
   "metadata": {},
   "source": [
    "### <a id='toc1_1_'></a>Python 0.9 [&#8593;](#toc0_)"
   ]
  },
  {
   "attachments": {},
   "cell_type": "markdown",
   "metadata": {},
   "source": [
    "Release Date|EOL\n",
    ":-|:-\n",
    "1991-02-20|1993-07-29\n",
    "\n",
    "- Class with Inheritance\n",
    "- Exception Handling\n",
    "- Function\n",
    "- Modules\n",
    "- New Built-In Data Types: `list`, `dict`, `str`"
   ]
  },
  {
   "cell_type": "markdown",
   "metadata": {},
   "source": [
    "## <a id='toc2_'></a>Python 1.x Branch [&#8593;](#toc0_)"
   ]
  },
  {
   "cell_type": "markdown",
   "metadata": {},
   "source": [
    "### <a id='toc2_1_'></a>Python 1.0 [&#8593;](#toc0_)"
   ]
  },
  {
   "attachments": {},
   "cell_type": "markdown",
   "metadata": {},
   "source": [
    "Release Date|EOL\n",
    ":-|:-\n",
    "1994-01-26|1994-02-15\n",
    "\n",
    "- Functional Programming Tools\n",
    "  - `filter`\n",
    "  - `lambda`\n",
    "  - `map`\n",
    "  - `reduce`"
   ]
  },
  {
   "cell_type": "markdown",
   "metadata": {},
   "source": [
    "### <a id='toc2_2_'></a>Python 1.1 [&#8593;](#toc0_)"
   ]
  },
  {
   "attachments": {},
   "cell_type": "markdown",
   "metadata": {},
   "source": [
    "Release Date|EOL\n",
    ":-|:-\n",
    "1994-10-11|1994-11-10"
   ]
  },
  {
   "cell_type": "markdown",
   "metadata": {},
   "source": [
    "### <a id='toc2_3_'></a>Python 1.2 [&#8593;](#toc0_)"
   ]
  },
  {
   "attachments": {},
   "cell_type": "markdown",
   "metadata": {},
   "source": [
    "Release Date|EOL\n",
    ":-|:-\n",
    "1995-04-13|?"
   ]
  },
  {
   "cell_type": "markdown",
   "metadata": {},
   "source": [
    "### <a id='toc2_4_'></a>Python 1.3 [&#8593;](#toc0_)"
   ]
  },
  {
   "attachments": {},
   "cell_type": "markdown",
   "metadata": {},
   "source": [
    "Release Date|EOL\n",
    ":-|:-\n",
    "1995-10-13|?"
   ]
  },
  {
   "cell_type": "markdown",
   "metadata": {},
   "source": [
    "### <a id='toc2_5_'></a>Python 1.4 [&#8593;](#toc0_)"
   ]
  },
  {
   "attachments": {},
   "cell_type": "markdown",
   "metadata": {},
   "source": [
    "Release Date|EOL\n",
    ":-|:-\n",
    "1996-10-25|?\n",
    "\n",
    "- Data Hiding By Name Mangling\n",
    "- Function With `kwargs`\n",
    "- New Built-In Data Type: `complex`"
   ]
  },
  {
   "cell_type": "markdown",
   "metadata": {},
   "source": [
    "### <a id='toc2_6_'></a>Python 1.5 [&#8593;](#toc0_)"
   ]
  },
  {
   "attachments": {},
   "cell_type": "markdown",
   "metadata": {},
   "source": [
    "Release Date|EOL\n",
    ":-|:-\n",
    "1998-01-03|1999-04-13"
   ]
  },
  {
   "cell_type": "markdown",
   "metadata": {},
   "source": [
    "### <a id='toc2_7_'></a>Python 1.6 [&#8593;](#toc0_)"
   ]
  },
  {
   "attachments": {},
   "cell_type": "markdown",
   "metadata": {},
   "source": [
    "Release Date|EOL\n",
    ":-|:-\n",
    "2000-09-05|2000-09-??"
   ]
  },
  {
   "cell_type": "markdown",
   "metadata": {},
   "source": [
    "## <a id='toc3_'></a>Python 2.x Branch [&#8593;](#toc0_)"
   ]
  },
  {
   "cell_type": "markdown",
   "metadata": {},
   "source": [
    "### <a id='toc3_1_'></a>Python 2.0 [&#8593;](#toc0_)"
   ]
  },
  {
   "attachments": {},
   "cell_type": "markdown",
   "metadata": {},
   "source": [
    "Release Date|EOL\n",
    ":-|:-\n",
    "2000-10-16|2001-06-22\n",
    "\n",
    "- Garbage Collector With Reference Cycle Detection\n",
    "- List Comprehension"
   ]
  },
  {
   "cell_type": "markdown",
   "metadata": {},
   "source": [
    "### <a id='toc3_2_'></a>Python 2.1 [&#8593;](#toc0_)"
   ]
  },
  {
   "attachments": {},
   "cell_type": "markdown",
   "metadata": {},
   "source": [
    "Release Date|EOL\n",
    ":-|:-\n",
    "2001-04-15|2002-04-09\n",
    "\n",
    "- Support of Nested Scopes"
   ]
  },
  {
   "cell_type": "markdown",
   "metadata": {},
   "source": [
    "### <a id='toc3_3_'></a>Python 2.2 [&#8593;](#toc0_)"
   ]
  },
  {
   "attachments": {},
   "cell_type": "markdown",
   "metadata": {},
   "source": [
    "Release Date|EOL\n",
    ":-|:-\n",
    "2001-12-21|2003-05-30\n",
    "\n",
    "- Generators\n",
    "- Pure Object Oriented Model\n",
    "- Unification of Data Types and Classes"
   ]
  },
  {
   "cell_type": "markdown",
   "metadata": {},
   "source": [
    "### <a id='toc3_4_'></a>Python 2.3 [&#8593;](#toc0_)"
   ]
  },
  {
   "attachments": {},
   "cell_type": "markdown",
   "metadata": {},
   "source": [
    "Release Date|EOL\n",
    ":-|:-\n",
    "2003-07-29|2008-03-11"
   ]
  },
  {
   "cell_type": "markdown",
   "metadata": {},
   "source": [
    "### <a id='toc3_5_'></a>Python 2.4 [&#8593;](#toc0_)"
   ]
  },
  {
   "attachments": {},
   "cell_type": "markdown",
   "metadata": {},
   "source": [
    "Release Date|EOL\n",
    ":-|:-\n",
    "2004-11-30|2008-12-19"
   ]
  },
  {
   "cell_type": "markdown",
   "metadata": {},
   "source": [
    "### <a id='toc3_6_'></a>Python 2.5 [&#8593;](#toc0_)"
   ]
  },
  {
   "attachments": {},
   "cell_type": "markdown",
   "metadata": {},
   "source": [
    "Release Date|EOL\n",
    ":-|:-\n",
    "2006-09-19|2011-05-26\n",
    "\n",
    "- Context Manager & `with` Statement"
   ]
  },
  {
   "cell_type": "markdown",
   "metadata": {},
   "source": [
    "### <a id='toc3_7_'></a>Python 2.6 [&#8593;](#toc0_)"
   ]
  },
  {
   "attachments": {},
   "cell_type": "markdown",
   "metadata": {},
   "source": [
    "Release Date|EOL\n",
    ":-|:-\n",
    "2008-10-01|2013-10-29"
   ]
  },
  {
   "cell_type": "markdown",
   "metadata": {},
   "source": [
    "### <a id='toc3_8_'></a>Python 2.7 [&#8593;](#toc0_)"
   ]
  },
  {
   "attachments": {},
   "cell_type": "markdown",
   "metadata": {},
   "source": [
    "Release Date|EOL\n",
    ":-|:-\n",
    "2010-07-03|2020-01-01"
   ]
  },
  {
   "cell_type": "markdown",
   "metadata": {},
   "source": [
    "## <a id='toc4_'></a>Python 3.x Branch [&#8593;](#toc0_)"
   ]
  },
  {
   "cell_type": "markdown",
   "metadata": {},
   "source": [
    "### <a id='toc4_1_'></a>Python 3.0 [&#8593;](#toc0_)"
   ]
  },
  {
   "attachments": {},
   "cell_type": "markdown",
   "metadata": {},
   "source": [
    "Release Date|EOL\n",
    ":-|:-\n",
    "2008-12-03|2009-06-27\n",
    "\n",
    "- Integer Division returns `float`, not `integer`\n",
    "- New Built-In Data Types: `bytes`, `bytearray`\n",
    "- New Operator: `//`\n",
    "- Optional Function Annotations\n",
    "- `print` to `print()`\n",
    "- `raw_input()` to `input()`\n",
    "- `reduce()` into `functools` module\n",
    "- Remove backward-compatibility features:\n",
    "  - Implicit relative imports\n",
    "  - Old-style classes\n",
    "  - String exceptions\n",
    "- Remove duplicative constructs and modules\n",
    "- Unified `str` & Unicode Types\n",
    "- Utilities for automatic conversion of Python 2.x code"
   ]
  },
  {
   "cell_type": "markdown",
   "metadata": {},
   "source": [
    "### <a id='toc4_2_'></a>Python 3.1 [&#8593;](#toc0_)"
   ]
  },
  {
   "attachments": {},
   "cell_type": "markdown",
   "metadata": {},
   "source": [
    "Release Date|EOL\n",
    ":-|:-\n",
    "2009-06-27|2012-04-06"
   ]
  },
  {
   "cell_type": "markdown",
   "metadata": {},
   "source": [
    "### <a id='toc4_3_'></a>Python 3.2 [&#8593;](#toc0_)"
   ]
  },
  {
   "attachments": {},
   "cell_type": "markdown",
   "metadata": {},
   "source": [
    "Release Date|EOL\n",
    ":-|:-\n",
    "2011-02-20|2016-02-20"
   ]
  },
  {
   "cell_type": "markdown",
   "metadata": {},
   "source": [
    "### <a id='toc4_4_'></a>Python 3.3 [&#8593;](#toc0_)"
   ]
  },
  {
   "attachments": {},
   "cell_type": "markdown",
   "metadata": {},
   "source": [
    "Release Date|EOL\n",
    ":-|:-\n",
    "2012-09-29|2017-09-29"
   ]
  },
  {
   "cell_type": "markdown",
   "metadata": {},
   "source": [
    "### <a id='toc4_5_'></a>Python 3.4 [&#8593;](#toc0_)"
   ]
  },
  {
   "attachments": {},
   "cell_type": "markdown",
   "metadata": {},
   "source": [
    "Release Date|EOL\n",
    ":-|:-\n",
    "2014-03-16|2019-03-18"
   ]
  },
  {
   "cell_type": "markdown",
   "metadata": {},
   "source": [
    "### <a id='toc4_6_'></a>Python 3.5 [&#8593;](#toc0_)"
   ]
  },
  {
   "attachments": {},
   "cell_type": "markdown",
   "metadata": {},
   "source": [
    "Release Date|EOL\n",
    ":-|:-\n",
    "2015-09-13|2020-09-30"
   ]
  },
  {
   "cell_type": "markdown",
   "metadata": {},
   "source": [
    "### <a id='toc4_7_'></a>Python 3.6 [&#8593;](#toc0_)"
   ]
  },
  {
   "attachments": {},
   "cell_type": "markdown",
   "metadata": {},
   "source": [
    "Release Date|EOL\n",
    ":-|:-\n",
    "2016-12-23|2021-12-23"
   ]
  },
  {
   "cell_type": "markdown",
   "metadata": {},
   "source": [
    "### <a id='toc4_8_'></a>Python 3.7 [&#8593;](#toc0_)"
   ]
  },
  {
   "attachments": {},
   "cell_type": "markdown",
   "metadata": {},
   "source": [
    "Release Date|EOL\n",
    ":-|:-\n",
    "2018-06-27|2023-06-27\n",
    "\n",
    "[**What's New in 3.7**](https://docs.python.org/3.7/whatsnew/3.7.html)\n",
    "\n",
    "- [Customization of Access to Module Attributes](https://docs.python.org/3.7/whatsnew/3.7.html#pep-562-customization-of-access-to-module-attributes)\n",
    "- [Forced UTF-8 Runtime Mode](https://docs.python.org/3.7/whatsnew/3.7.html#pep-540-forced-utf-8-runtime-mode)\n",
    "- [Hash-based `.pyc` Files](https://docs.python.org/3.7/whatsnew/3.7.html#pep-552-hash-based-pyc-files)\n",
    "- [Legacy C Locale Coercion](https://docs.python.org/3.7/whatsnew/3.7.html#pep-538-legacy-c-locale-coercion)\n",
    "- [New C-API for Thread-Local Storage](https://docs.python.org/3.7/whatsnew/3.7.html#pep-540-forced-utf-8-runtime-mode)\n",
    "- New Built-In Function: `breakpoint()`\n",
    "- [New Time Functions With Nanosecond Resolution](https://docs.python.org/3.7/whatsnew/3.7.html#pep-564-new-time-functions-with-nanosecond-resolution)\n",
    "- New Reserved Words: `async`, `await`\n",
    "- New Standard Modules: `contextvars`, `dataclasses`, `importlib.resources`\n",
    "- [Postponed Evaluation of Annotations](https://docs.python.org/3.7/whatsnew/3.7.html#pep-563-postponed-evaluation-of-annotations)\n",
    "- [Show `DeprecationWarning` in __main__](https://docs.python.org/3.7/whatsnew/3.7.html#pep-565-show-deprecationwarning-in-main)"
   ]
  },
  {
   "cell_type": "markdown",
   "metadata": {},
   "source": [
    "### <a id='toc4_9_'></a>Python 3.8 [&#8593;](#toc0_)"
   ]
  },
  {
   "attachments": {},
   "cell_type": "markdown",
   "metadata": {},
   "source": [
    "Release Date|EOL\n",
    ":-|:-\n",
    "2019-10-14|2024-10"
   ]
  },
  {
   "cell_type": "markdown",
   "metadata": {},
   "source": [
    "### <a id='toc4_10_'></a>Python 3.9 [&#8593;](#toc0_)"
   ]
  },
  {
   "attachments": {},
   "cell_type": "markdown",
   "metadata": {},
   "source": [
    "Release Date|EOL\n",
    ":-|:-\n",
    "2020-10-05|2025-10"
   ]
  },
  {
   "cell_type": "markdown",
   "metadata": {},
   "source": [
    "### <a id='toc4_11_'></a>Python 3.10 [&#8593;](#toc0_)"
   ]
  },
  {
   "attachments": {},
   "cell_type": "markdown",
   "metadata": {},
   "source": [
    "Release Date|EOL\n",
    ":-|:-\n",
    "2021-10-04|2026-10"
   ]
  },
  {
   "cell_type": "markdown",
   "metadata": {},
   "source": [
    "### <a id='toc4_12_'></a>Python 3.11 [&#8593;](#toc0_)"
   ]
  },
  {
   "attachments": {},
   "cell_type": "markdown",
   "metadata": {},
   "source": [
    "Release Date|EOL\n",
    ":-|:-\n",
    "2022-10-24|2027-10"
   ]
  },
  {
   "attachments": {},
   "cell_type": "markdown",
   "metadata": {},
   "source": [
    "## Resources"
   ]
  },
  {
   "attachments": {},
   "cell_type": "markdown",
   "metadata": {},
   "source": [
    "- [History of Python. Wikipedia.com.](https://en.wikipedia.org/wiki/History_of_Python)\n",
    "- [A Brief Timeline of Python, Guido Van Rossum. The History of Python.](http://python-history.blogspot.com/2009/01/brief-timeline-of-python.html)"
   ]
  }
 ],
 "metadata": {
  "kernelspec": {
   "display_name": "venv310",
   "language": "python",
   "name": "python3"
  },
  "language_info": {
   "name": "python",
   "version": "3.10.10"
  },
  "orig_nbformat": 4,
  "vscode": {
   "interpreter": {
    "hash": "6e400aa61d85e496d68b2399928a7ddcb9f74ee26aa2584481c22b89bfb1eab7"
   }
  }
 },
 "nbformat": 4,
 "nbformat_minor": 2
}
