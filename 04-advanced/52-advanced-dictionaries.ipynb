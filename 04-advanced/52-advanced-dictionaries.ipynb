{
 "cells": [
  {
   "cell_type": "markdown",
   "metadata": {
    "toc": true
   },
   "source": [
    "<h1>Table of Contents<span class=\"tocSkip\"></span></h1>\n",
    "<div class=\"toc\"><ul class=\"toc-item\"><li><span><a href=\"#Dictionary-Comprehension\" data-toc-modified-id=\"Dictionary-Comprehension-1\"><span class=\"toc-item-num\">1&nbsp;&nbsp;</span>Dictionary Comprehension</a></span></li><li><span><a href=\"#Iteration-of-Keys,-Values,-Items\" data-toc-modified-id=\"Iteration-of-Keys,-Values,-Items-2\"><span class=\"toc-item-num\">2&nbsp;&nbsp;</span>Iteration of Keys, Values, Items</a></span></li></ul></div>"
   ]
  },
  {
   "cell_type": "markdown",
   "metadata": {},
   "source": [
    "# Advanced Dictionaries"
   ]
  },
  {
   "cell_type": "markdown",
   "metadata": {},
   "source": [
    "## Dictionary Comprehension"
   ]
  },
  {
   "cell_type": "code",
   "execution_count": 1,
   "metadata": {},
   "outputs": [
    {
     "name": "stdout",
     "output_type": "stream",
     "text": [
      "my_dict_square: {0: 0, 1: 1, 2: 4, 3: 9, 4: 16, 5: 25, 6: 36, 7: 49, 8: 64, 9: 81}\n",
      "my_dict_off_one: {0: 0, 1: 0, 2: 1, 3: 2, 4: 3, 5: 4, 6: 5, 7: 6, 8: 7, 9: 8}\n"
     ]
    }
   ],
   "source": [
    "my_dict_square = { n: n**2 for n in range(10) }\n",
    "my_dict_off_one = { n: n - 1 if n > 0 else n for n in range(10) }\n",
    "print('my_dict_square:', my_dict_square)\n",
    "print('my_dict_off_one:', my_dict_off_one)"
   ]
  },
  {
   "cell_type": "markdown",
   "metadata": {},
   "source": [
    "## Iteration of Keys, Values, Items"
   ]
  },
  {
   "cell_type": "code",
   "execution_count": 2,
   "metadata": {},
   "outputs": [
    {
     "name": "stdout",
     "output_type": "stream",
     "text": [
      "dict: {'k1': 100, 'k2': 200}\n",
      "Keys:\n",
      "- k1\n",
      "- k2\n",
      "Values:\n",
      "- 100\n",
      "- 200\n",
      "Items:\n",
      "- ('k1', 100)\n",
      "- ('k2', 200)\n"
     ]
    }
   ],
   "source": [
    "d = {'k1': 100, 'k2': 200}\n",
    "print('dict:', d)\n",
    "\n",
    "print('Keys:')\n",
    "for k in d.keys():\n",
    "    print('-', k)\n",
    "\n",
    "print('Values:')\n",
    "for v in d.values():\n",
    "    print('-', v)\n",
    "\n",
    "print('Items:')\n",
    "for item in d.items():\n",
    "    print('-', item)"
   ]
  }
 ],
 "metadata": {
  "kernelspec": {
   "display_name": "Python 3",
   "language": "python",
   "name": "python3"
  },
  "language_info": {
   "codemirror_mode": {
    "name": "ipython",
    "version": 3
   },
   "file_extension": ".py",
   "mimetype": "text/x-python",
   "name": "python",
   "nbconvert_exporter": "python",
   "pygments_lexer": "ipython3",
   "version": "3.7.6"
  },
  "toc": {
   "base_numbering": 1,
   "nav_menu": {},
   "number_sections": true,
   "sideBar": true,
   "skip_h1_title": true,
   "title_cell": "Table of Contents",
   "title_sidebar": "Contents",
   "toc_cell": true,
   "toc_position": {},
   "toc_section_display": true,
   "toc_window_display": true
  }
 },
 "nbformat": 4,
 "nbformat_minor": 4
}
