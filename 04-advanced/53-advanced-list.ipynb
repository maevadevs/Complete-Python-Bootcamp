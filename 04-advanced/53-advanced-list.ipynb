{
 "cells": [
  {
   "cell_type": "markdown",
   "metadata": {
    "toc": true
   },
   "source": [
    "<h1>Table of Contents<span class=\"tocSkip\"></span></h1>\n",
    "<div class=\"toc\"><ul class=\"toc-item\"><li><span><a href=\"#lst.append(el)\" data-toc-modified-id=\"lst.append(el)-1\"><span class=\"toc-item-num\">1&nbsp;&nbsp;</span><code>lst.append(el)</code></a></span></li><li><span><a href=\"#lst.count(el)\" data-toc-modified-id=\"lst.count(el)-2\"><span class=\"toc-item-num\">2&nbsp;&nbsp;</span><code>lst.count(el)</code></a></span></li><li><span><a href=\"#lst.extend(iterable)\" data-toc-modified-id=\"lst.extend(iterable)-3\"><span class=\"toc-item-num\">3&nbsp;&nbsp;</span><code>lst.extend(iterable)</code></a></span></li><li><span><a href=\"#lst.index(el)\" data-toc-modified-id=\"lst.index(el)-4\"><span class=\"toc-item-num\">4&nbsp;&nbsp;</span><code>lst.index(el)</code></a></span></li><li><span><a href=\"#lst.insert(index,-object)\" data-toc-modified-id=\"lst.insert(index,-object)-5\"><span class=\"toc-item-num\">5&nbsp;&nbsp;</span><code>lst.insert(index, object)</code></a></span></li><li><span><a href=\"#lst.pop([index])\" data-toc-modified-id=\"lst.pop([index])-6\"><span class=\"toc-item-num\">6&nbsp;&nbsp;</span><code>lst.pop([index])</code></a></span></li><li><span><a href=\"#lst.remove(el)\" data-toc-modified-id=\"lst.remove(el)-7\"><span class=\"toc-item-num\">7&nbsp;&nbsp;</span><code>lst.remove(el)</code></a></span></li><li><span><a href=\"#lst.reverse()\" data-toc-modified-id=\"lst.reverse()-8\"><span class=\"toc-item-num\">8&nbsp;&nbsp;</span><code>lst.reverse()</code></a></span></li><li><span><a href=\"#lst.sort()\" data-toc-modified-id=\"lst.sort()-9\"><span class=\"toc-item-num\">9&nbsp;&nbsp;</span><code>lst.sort()</code></a></span></li></ul></div>"
   ]
  },
  {
   "cell_type": "markdown",
   "metadata": {},
   "source": [
    "# Advanced List"
   ]
  },
  {
   "cell_type": "code",
   "execution_count": 1,
   "metadata": {},
   "outputs": [
    {
     "name": "stdout",
     "output_type": "stream",
     "text": [
      "lst: [1, 2, 3, 4]\n"
     ]
    }
   ],
   "source": [
    "lst = [1, 2, 3, 4]\n",
    "print('lst:', lst)"
   ]
  },
  {
   "cell_type": "markdown",
   "metadata": {},
   "source": [
    "## `lst.append(el)`"
   ]
  },
  {
   "cell_type": "markdown",
   "metadata": {},
   "source": [
    "- Appends an element to the end of a list"
   ]
  },
  {
   "cell_type": "code",
   "execution_count": 2,
   "metadata": {},
   "outputs": [
    {
     "name": "stdout",
     "output_type": "stream",
     "text": [
      "lst.append(5): [1, 2, 3, 4, 5]\n"
     ]
    }
   ],
   "source": [
    "lst.append(5)\n",
    "print('lst.append(5):', lst)"
   ]
  },
  {
   "cell_type": "markdown",
   "metadata": {},
   "source": [
    "## `lst.count(el)`"
   ]
  },
  {
   "cell_type": "markdown",
   "metadata": {},
   "source": [
    "- Returns the number of times the element occurs in the list"
   ]
  },
  {
   "cell_type": "code",
   "execution_count": 3,
   "metadata": {},
   "outputs": [
    {
     "name": "stdout",
     "output_type": "stream",
     "text": [
      "lst.count(10): 0\n",
      "lst.count(5): 1\n"
     ]
    }
   ],
   "source": [
    "print('lst.count(10):', lst.count(10))\n",
    "print('lst.count(5):', lst.count(5))"
   ]
  },
  {
   "cell_type": "markdown",
   "metadata": {},
   "source": [
    "## `lst.extend(iterable)`"
   ]
  },
  {
   "cell_type": "markdown",
   "metadata": {},
   "source": [
    "- `append`: Appends object at end\n",
    "- `extend`: Extends list by appending elements from an iterable"
   ]
  },
  {
   "cell_type": "code",
   "execution_count": 4,
   "metadata": {},
   "outputs": [
    {
     "name": "stdout",
     "output_type": "stream",
     "text": [
      "lst.extend([6, 7, 8]): [1, 2, 3, 4, 5, 6, 7, 8]\n"
     ]
    }
   ],
   "source": [
    "lst.extend([6, 7, 8])\n",
    "print('lst.extend([6, 7, 8]):', lst)"
   ]
  },
  {
   "cell_type": "markdown",
   "metadata": {},
   "source": [
    "## `lst.index(el)`"
   ]
  },
  {
   "cell_type": "markdown",
   "metadata": {},
   "source": [
    "- Return the index of whatever element is placed as an argument\n",
    "- If the the element is not in the list, an error is returned"
   ]
  },
  {
   "cell_type": "code",
   "execution_count": 5,
   "metadata": {},
   "outputs": [
    {
     "name": "stdout",
     "output_type": "stream",
     "text": [
      "lst.index(2): 1\n",
      "lst.index(12): 12 is not in list\n"
     ]
    }
   ],
   "source": [
    "print('lst.index(2):', lst.index(2))\n",
    "\n",
    "try:\n",
    "    lst.index(12) # Will need to be caught and handled\n",
    "except Exception as e:\n",
    "    print('lst.index(12):', e)"
   ]
  },
  {
   "cell_type": "markdown",
   "metadata": {},
   "source": [
    "## `lst.insert(index, object)`"
   ]
  },
  {
   "cell_type": "markdown",
   "metadata": {},
   "source": [
    "- Places the object at the index supplied"
   ]
  },
  {
   "cell_type": "code",
   "execution_count": 6,
   "metadata": {},
   "outputs": [
    {
     "name": "stdout",
     "output_type": "stream",
     "text": [
      "lst: [1, 2, 3, 4, 5, 6, 7, 8]\n",
      "lst.insert(2, 22): [1, 2, 22, 3, 4, 5, 6, 7, 8]\n"
     ]
    }
   ],
   "source": [
    "print('lst:', lst)\n",
    "lst.insert(2, 22)\n",
    "print('lst.insert(2, 22):', lst)"
   ]
  },
  {
   "cell_type": "markdown",
   "metadata": {},
   "source": [
    "## `lst.pop([index])`"
   ]
  },
  {
   "cell_type": "markdown",
   "metadata": {},
   "source": [
    "- \"pop\" off the last element of a list\n",
    "- If index is provided, we can pop the element at the given index"
   ]
  },
  {
   "cell_type": "code",
   "execution_count": 7,
   "metadata": {},
   "outputs": [
    {
     "name": "stdout",
     "output_type": "stream",
     "text": [
      "el = lst.pop(): [1, 2, 22, 3, 4, 5, 6, 7]\n",
      "el: 8\n"
     ]
    }
   ],
   "source": [
    "el = lst.pop()\n",
    "print('el = lst.pop():', lst)\n",
    "print('el:', el)"
   ]
  },
  {
   "cell_type": "code",
   "execution_count": 8,
   "metadata": {},
   "outputs": [
    {
     "name": "stdout",
     "output_type": "stream",
     "text": [
      "el = lst.pop(2): [1, 2, 3, 4, 5, 6, 7]\n",
      "el: 22\n"
     ]
    }
   ],
   "source": [
    "el = lst.pop(2)\n",
    "print('el = lst.pop(2):', lst)\n",
    "print('el:', el)"
   ]
  },
  {
   "cell_type": "markdown",
   "metadata": {},
   "source": [
    "## `lst.remove(el)`"
   ]
  },
  {
   "cell_type": "markdown",
   "metadata": {},
   "source": [
    "- Removes the first occurrence of a value\n",
    "- If the element cannot be found, throw error"
   ]
  },
  {
   "cell_type": "code",
   "execution_count": 9,
   "metadata": {},
   "outputs": [
    {
     "name": "stdout",
     "output_type": "stream",
     "text": [
      "lst: [1, 2, 3, 4, 5, 6, 7]\n",
      "lst.insert(3, 2): [1, 2, 3, 2, 4, 5, 6, 7]\n",
      "lst.remove(2): [1, 3, 2, 4, 5, 6, 7]\n",
      "lst.remove(100): x not in list\n"
     ]
    }
   ],
   "source": [
    "print('lst:', lst)\n",
    "\n",
    "lst.insert(3, 2)\n",
    "print('lst.insert(3, 2):', lst)\n",
    "\n",
    "lst.remove(2)\n",
    "print('lst.remove(2):', lst)\n",
    "\n",
    "try:\n",
    "    lst.remove(100) # Will need to be caught and handled\n",
    "except Exception as e:\n",
    "    print('lst.remove(100):', str(e).split(':')[1].strip())"
   ]
  },
  {
   "cell_type": "markdown",
   "metadata": {},
   "source": [
    "## `lst.reverse()`"
   ]
  },
  {
   "cell_type": "markdown",
   "metadata": {},
   "source": [
    "- Reverses a list\n",
    "- This occurs in place! Meaning it effects your list permanently"
   ]
  },
  {
   "cell_type": "code",
   "execution_count": 10,
   "metadata": {},
   "outputs": [
    {
     "name": "stdout",
     "output_type": "stream",
     "text": [
      "lst.reverse(): [7, 6, 5, 4, 2, 3, 1]\n"
     ]
    }
   ],
   "source": [
    "lst.reverse()\n",
    "print('lst.reverse():', lst)"
   ]
  },
  {
   "cell_type": "markdown",
   "metadata": {},
   "source": [
    "## `lst.sort()`"
   ]
  },
  {
   "cell_type": "markdown",
   "metadata": {},
   "source": [
    "- Sort your list in place\n",
    "- Also affect your list permanently"
   ]
  },
  {
   "cell_type": "code",
   "execution_count": 11,
   "metadata": {},
   "outputs": [
    {
     "name": "stdout",
     "output_type": "stream",
     "text": [
      "lst.sort(): [1, 2, 3, 4, 5, 6, 7]\n",
      "lst.sort(reverse=True): [7, 6, 5, 4, 3, 2, 1]\n",
      "lst.sort(): [1, 2, 3, 4, 5, 6, 7]\n"
     ]
    }
   ],
   "source": [
    "lst.sort()\n",
    "print('lst.sort():', lst)\n",
    "\n",
    "lst.sort(reverse=True)\n",
    "print('lst.sort(reverse=True):', lst)\n",
    "\n",
    "lst.sort()\n",
    "print('lst.sort():', lst)"
   ]
  }
 ],
 "metadata": {
  "kernelspec": {
   "display_name": "Python 3",
   "language": "python",
   "name": "python3"
  },
  "language_info": {
   "codemirror_mode": {
    "name": "ipython",
    "version": 3
   },
   "file_extension": ".py",
   "mimetype": "text/x-python",
   "name": "python",
   "nbconvert_exporter": "python",
   "pygments_lexer": "ipython3",
   "version": "3.7.6"
  },
  "toc": {
   "base_numbering": 1,
   "nav_menu": {},
   "number_sections": true,
   "sideBar": true,
   "skip_h1_title": true,
   "title_cell": "Table of Contents",
   "title_sidebar": "Contents",
   "toc_cell": true,
   "toc_position": {},
   "toc_section_display": true,
   "toc_window_display": true
  }
 },
 "nbformat": 4,
 "nbformat_minor": 4
}
