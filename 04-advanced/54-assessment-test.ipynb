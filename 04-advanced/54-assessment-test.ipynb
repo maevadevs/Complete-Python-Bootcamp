{
 "cells": [
  {
   "cell_type": "markdown",
   "metadata": {
    "toc": true
   },
   "source": [
    "<h1>Table of Contents<span class=\"tocSkip\"></span></h1>\n",
    "<div class=\"toc\"><ul class=\"toc-item\"><li><span><a href=\"#Advanced-Numbers\" data-toc-modified-id=\"Advanced-Numbers-1\"><span class=\"toc-item-num\">1&nbsp;&nbsp;</span>Advanced Numbers</a></span></li><li><span><a href=\"#Advanced-Strings\" data-toc-modified-id=\"Advanced-Strings-2\"><span class=\"toc-item-num\">2&nbsp;&nbsp;</span>Advanced Strings</a></span></li><li><span><a href=\"#Advanced-Sets\" data-toc-modified-id=\"Advanced-Sets-3\"><span class=\"toc-item-num\">3&nbsp;&nbsp;</span>Advanced Sets</a></span></li><li><span><a href=\"#Advanced-Dictionary\" data-toc-modified-id=\"Advanced-Dictionary-4\"><span class=\"toc-item-num\">4&nbsp;&nbsp;</span>Advanced Dictionary</a></span></li><li><span><a href=\"#Advanced-List\" data-toc-modified-id=\"Advanced-List-5\"><span class=\"toc-item-num\">5&nbsp;&nbsp;</span>Advanced List</a></span></li></ul></div>"
   ]
  },
  {
   "cell_type": "markdown",
   "metadata": {},
   "source": [
    "# Assessment Test"
   ]
  },
  {
   "cell_type": "markdown",
   "metadata": {},
   "source": [
    "## Advanced Numbers"
   ]
  },
  {
   "cell_type": "markdown",
   "metadata": {},
   "source": [
    "Problem 1: Convert 1024 to binary and hexadecimal representation"
   ]
  },
  {
   "cell_type": "code",
   "execution_count": 1,
   "metadata": {},
   "outputs": [],
   "source": [
    "def convertInteger(x, to='bin'):\n",
    "    if (isinstance(x, int)):\n",
    "        if (to == 'bin'):\n",
    "            return bin(x)\n",
    "        elif (to == 'hex'):\n",
    "            return hex(x)\n",
    "    else:\n",
    "        return 'Cannot convert non-integer values.'"
   ]
  },
  {
   "cell_type": "code",
   "execution_count": 2,
   "metadata": {},
   "outputs": [
    {
     "name": "stdout",
     "output_type": "stream",
     "text": [
      "convertInteger(1024: 0b10000000000\n",
      "convertInteger(integer, to='hex'): 0x400\n"
     ]
    }
   ],
   "source": [
    "print('convertInteger(1024:', convertInteger(1024))\n",
    "print('convertInteger(integer, to=\\'hex\\'):', convertInteger(1024, to='hex'))"
   ]
  },
  {
   "cell_type": "markdown",
   "metadata": {},
   "source": [
    "Problem 2: Round 5.23222 to two decimal places"
   ]
  },
  {
   "cell_type": "code",
   "execution_count": 3,
   "metadata": {},
   "outputs": [],
   "source": [
    "def roundNumber(x, precision=2):\n",
    "    if (isinstance(x, int) or isinstance(x, float)):\n",
    "        return round(x, precision)\n",
    "    else:\n",
    "        return 'Cannot convert non-numeric values.'"
   ]
  },
  {
   "cell_type": "code",
   "execution_count": 4,
   "metadata": {},
   "outputs": [
    {
     "name": "stdout",
     "output_type": "stream",
     "text": [
      "roundNumber(5.23222): 5.23\n",
      "roundNumber(5.23222, 4): 5.2322\n",
      "roundNumber(\"5.23222\"): Cannot convert non-numeric values.\n"
     ]
    }
   ],
   "source": [
    "print('roundNumber(5.23222):', roundNumber(5.23222))\n",
    "print('roundNumber(5.23222, 4):', roundNumber(5.23222, 4))\n",
    "print('roundNumber(\"5.23222\"):', roundNumber('5.23222'))"
   ]
  },
  {
   "cell_type": "markdown",
   "metadata": {},
   "source": [
    "## Advanced Strings"
   ]
  },
  {
   "cell_type": "markdown",
   "metadata": {},
   "source": [
    "Problem 3: Check if every letter in the string s is lower case"
   ]
  },
  {
   "cell_type": "code",
   "execution_count": 5,
   "metadata": {},
   "outputs": [
    {
     "name": "stdout",
     "output_type": "stream",
     "text": [
      "str.islower()? False\n"
     ]
    }
   ],
   "source": [
    "str = 'hello how are you Mary, are you feeling okay?'\n",
    "print('str.islower()?', str.islower())"
   ]
  },
  {
   "cell_type": "markdown",
   "metadata": {},
   "source": [
    "Problem 4: How many times does the letter 'w' show up in the string below?"
   ]
  },
  {
   "cell_type": "code",
   "execution_count": 6,
   "metadata": {},
   "outputs": [
    {
     "name": "stdout",
     "output_type": "stream",
     "text": [
      "str.count(\"w\"): 12\n"
     ]
    }
   ],
   "source": [
    "str = 'twywywtwywbwhsjhwuwshshwuwwwjdjdid'\n",
    "print('str.count(\"w\"):', str.count('w'))"
   ]
  },
  {
   "cell_type": "markdown",
   "metadata": {},
   "source": [
    "## Advanced Sets"
   ]
  },
  {
   "cell_type": "markdown",
   "metadata": {},
   "source": [
    "Problem 5: Find the elements in set1 that are not in set2"
   ]
  },
  {
   "cell_type": "code",
   "execution_count": 7,
   "metadata": {},
   "outputs": [
    {
     "name": "stdout",
     "output_type": "stream",
     "text": [
      "set1: {1, 2, 3, 5, 6, 8}\n",
      "set2: {1, 3, 5, 6, 7, 8}\n",
      "set1.difference(set2): {2}\n"
     ]
    }
   ],
   "source": [
    "set1 = {2,3,1,5,6,8}\n",
    "set2 = {3,1,7,5,6,8}\n",
    "\n",
    "print('set1:', set1)\n",
    "print('set2:', set2)\n",
    "print('set1.difference(set2):', set1.difference(set2))"
   ]
  },
  {
   "cell_type": "markdown",
   "metadata": {},
   "source": [
    "Problem 6: Find all elements that are in either set"
   ]
  },
  {
   "cell_type": "code",
   "execution_count": 8,
   "metadata": {},
   "outputs": [
    {
     "name": "stdout",
     "output_type": "stream",
     "text": [
      "set1.union(set2): {1, 2, 3, 5, 6, 7, 8}\n"
     ]
    }
   ],
   "source": [
    "print('set1.union(set2):', set1.union(set2))"
   ]
  },
  {
   "cell_type": "code",
   "execution_count": 9,
   "metadata": {},
   "outputs": [
    {
     "name": "stdout",
     "output_type": "stream",
     "text": [
      "set1.intersection(set2): {1, 3, 5, 6, 8}\n"
     ]
    }
   ],
   "source": [
    "# Intersection\n",
    "print('set1.intersection(set2):', set1.intersection(set2))"
   ]
  },
  {
   "cell_type": "markdown",
   "metadata": {},
   "source": [
    "## Advanced Dictionary"
   ]
  },
  {
   "cell_type": "markdown",
   "metadata": {},
   "source": [
    "Problem 7: Create this dictionary:\n",
    "{0: 0, 1: 1, 2: 8, 3: 27, 4: 64}\n",
    "using dictionary comprehension"
   ]
  },
  {
   "cell_type": "code",
   "execution_count": 10,
   "metadata": {},
   "outputs": [
    {
     "name": "stdout",
     "output_type": "stream",
     "text": [
      "dict cubes using comprehension: {0: 0, 1: 1, 2: 8, 3: 27, 4: 64}\n"
     ]
    }
   ],
   "source": [
    "dict = {x: x**3 for x in range(5)}\n",
    "print('dict cubes using comprehension:', dict)"
   ]
  },
  {
   "cell_type": "markdown",
   "metadata": {},
   "source": [
    "## Advanced List"
   ]
  },
  {
   "cell_type": "markdown",
   "metadata": {},
   "source": [
    "Problem 8: Reverse the list below"
   ]
  },
  {
   "cell_type": "code",
   "execution_count": 11,
   "metadata": {},
   "outputs": [
    {
     "name": "stdout",
     "output_type": "stream",
     "text": [
      "lst: [1, 2, 3, 4]\n",
      "lst.reverse() [4, 3, 2, 1]\n"
     ]
    }
   ],
   "source": [
    "lst = [1,2,3,4]\n",
    "print('lst:', lst)\n",
    "lst.reverse()\n",
    "print('lst.reverse()', lst)"
   ]
  },
  {
   "cell_type": "markdown",
   "metadata": {},
   "source": [
    "Problem 9: Sort the list below**"
   ]
  },
  {
   "cell_type": "code",
   "execution_count": 12,
   "metadata": {},
   "outputs": [
    {
     "name": "stdout",
     "output_type": "stream",
     "text": [
      "lst: [3, 4, 2, 5, 1]\n",
      "lst.sort() [1, 2, 3, 4, 5]\n"
     ]
    }
   ],
   "source": [
    "lst = [3,4,2,5,1]\n",
    "print('lst:', lst)\n",
    "lst.sort()\n",
    "print('lst.sort()', lst)"
   ]
  }
 ],
 "metadata": {
  "kernelspec": {
   "display_name": "Python 3",
   "language": "python",
   "name": "python3"
  },
  "language_info": {
   "codemirror_mode": {
    "name": "ipython",
    "version": 3
   },
   "file_extension": ".py",
   "mimetype": "text/x-python",
   "name": "python",
   "nbconvert_exporter": "python",
   "pygments_lexer": "ipython3",
   "version": "3.7.6"
  },
  "toc": {
   "base_numbering": 1,
   "nav_menu": {},
   "number_sections": true,
   "sideBar": true,
   "skip_h1_title": true,
   "title_cell": "Table of Contents",
   "title_sidebar": "Contents",
   "toc_cell": true,
   "toc_position": {},
   "toc_section_display": true,
   "toc_window_display": true
  }
 },
 "nbformat": 4,
 "nbformat_minor": 4
}
