{
 "cells": [
  {
   "cell_type": "markdown",
   "metadata": {
    "toc": true
   },
   "source": [
    "<h1>Table of Contents<span class=\"tocSkip\"></span></h1>\n",
    "<div class=\"toc\"><ul class=\"toc-item\"><li><span><a href=\"#Changing-Cases\" data-toc-modified-id=\"Changing-Cases-1\"><span class=\"toc-item-num\">1&nbsp;&nbsp;</span>Changing Cases</a></span></li><li><span><a href=\"#Location-and-Counting\" data-toc-modified-id=\"Location-and-Counting-2\"><span class=\"toc-item-num\">2&nbsp;&nbsp;</span>Location and Counting</a></span></li><li><span><a href=\"#Formatting\" data-toc-modified-id=\"Formatting-3\"><span class=\"toc-item-num\">3&nbsp;&nbsp;</span>Formatting</a></span></li><li><span><a href=\"#is-Check-Method\" data-toc-modified-id=\"is-Check-Method-4\"><span class=\"toc-item-num\">4&nbsp;&nbsp;</span><code>is</code> Check Method</a></span></li><li><span><a href=\"#Built-In-RegExp\" data-toc-modified-id=\"Built-In-RegExp-5\"><span class=\"toc-item-num\">5&nbsp;&nbsp;</span>Built-In RegExp</a></span></li></ul></div>"
   ]
  },
  {
   "cell_type": "markdown",
   "metadata": {},
   "source": [
    "# Advanced Strings"
   ]
  },
  {
   "cell_type": "code",
   "execution_count": 1,
   "metadata": {},
   "outputs": [],
   "source": [
    "string = 'hello world! how\\'s everyone doing today?...'"
   ]
  },
  {
   "cell_type": "markdown",
   "metadata": {},
   "source": [
    "## Changing Cases"
   ]
  },
  {
   "cell_type": "code",
   "execution_count": 2,
   "metadata": {},
   "outputs": [
    {
     "name": "stdout",
     "output_type": "stream",
     "text": [
      "string.capitalize(): Hello world! how's everyone doing today?...\n",
      "string.upper(): HELLO WORLD! HOW'S EVERYONE DOING TODAY?...\n",
      "string.lower(): hello world! how's everyone doing today?...\n",
      "string.title(): Hello World! How'S Everyone Doing Today?...\n"
     ]
    }
   ],
   "source": [
    "# Capitalize the very first word in string\n",
    "print('string.capitalize():', string.capitalize())\n",
    "\n",
    "# Uppercase all letters\n",
    "print('string.upper():', string.upper())\n",
    "\n",
    "# Lowercase all letters\n",
    "print('string.lower():', string.lower())\n",
    "\n",
    "# Make into a title format\n",
    "print('string.title():', string.title())"
   ]
  },
  {
   "cell_type": "markdown",
   "metadata": {},
   "source": [
    "## Location and Counting"
   ]
  },
  {
   "cell_type": "code",
   "execution_count": 3,
   "metadata": {},
   "outputs": [
    {
     "name": "stdout",
     "output_type": "stream",
     "text": [
      "string.count('o'): 6\n",
      "string.find('o'): 4\n"
     ]
    }
   ],
   "source": [
    "print('string.count(\\'o\\'):', string.count('o'))\n",
    "print(\"string.find('o'):\", string.find('o'))"
   ]
  },
  {
   "cell_type": "markdown",
   "metadata": {},
   "source": [
    "## Formatting"
   ]
  },
  {
   "cell_type": "markdown",
   "metadata": {},
   "source": [
    "- `expandtabs()` will expand tab notations `\\t` into spaces"
   ]
  },
  {
   "cell_type": "code",
   "execution_count": 4,
   "metadata": {},
   "outputs": [
    {
     "name": "stdout",
     "output_type": "stream",
     "text": [
      "'hello\\thi'.expandtabs(): hello   hi\n"
     ]
    }
   ],
   "source": [
    "print(\"'hello\\\\thi'.expandtabs():\", 'hello\\thi'.expandtabs()) # Similar to print('hello\\thi')"
   ]
  },
  {
   "cell_type": "markdown",
   "metadata": {},
   "source": [
    "## `is` Check Method"
   ]
  },
  {
   "cell_type": "code",
   "execution_count": 5,
   "metadata": {},
   "outputs": [
    {
     "name": "stdout",
     "output_type": "stream",
     "text": [
      "str1.isalnum(): True\n",
      "str2.isalnum(): False\n"
     ]
    }
   ],
   "source": [
    "str1 = 'hello'\n",
    "str2 = '%^&'\n",
    "\n",
    "# `isalnum()` will return True if all characters in string are alphanumeric\n",
    "print('str1.isalnum():', str1.isalnum())\n",
    "print('str2.isalnum():', str2.isalnum())"
   ]
  },
  {
   "cell_type": "code",
   "execution_count": 6,
   "metadata": {},
   "outputs": [
    {
     "name": "stdout",
     "output_type": "stream",
     "text": [
      "str1.isalpha(): True\n",
      "str2.isalpha(): False\n"
     ]
    }
   ],
   "source": [
    "# `isalpha()` wil return True if all characters in string are alphabetic\n",
    "print('str1.isalpha():', str1.isalpha())\n",
    "print('str2.isalpha():', str2.isalpha())"
   ]
  },
  {
   "cell_type": "code",
   "execution_count": 7,
   "metadata": {},
   "outputs": [
    {
     "name": "stdout",
     "output_type": "stream",
     "text": [
      "str1.islower(): True\n"
     ]
    }
   ],
   "source": [
    "# `islower()` will return True if all cased characters in string are lowercase and there is\n",
    "# at least one cased character in string, False otherwise.\n",
    "print('str1.islower():', str1.islower())"
   ]
  },
  {
   "cell_type": "code",
   "execution_count": 8,
   "metadata": {},
   "outputs": [
    {
     "name": "stdout",
     "output_type": "stream",
     "text": [
      "str2.isspace(): False\n"
     ]
    }
   ],
   "source": [
    "# `isspace()` will return True if all characters in string are whitespace\n",
    "print('str2.isspace():', str2.isspace())"
   ]
  },
  {
   "cell_type": "code",
   "execution_count": 9,
   "metadata": {},
   "outputs": [
    {
     "name": "stdout",
     "output_type": "stream",
     "text": [
      "str1.istitle(): False\n",
      "str3.istitle(): True\n"
     ]
    }
   ],
   "source": [
    "# `istitle()` will return True if str is a title cased string and there is at least one character in str,\n",
    "# i.e. uppercase characters may only follow uncased characters and lowercase characters only cased ones.\n",
    "# Return False otherwise.\n",
    "print('str1.istitle():', str1.istitle())\n",
    "str3 = \"Hello World! How Are You Doing Today?\"\n",
    "print('str3.istitle():', str3.istitle())"
   ]
  },
  {
   "cell_type": "code",
   "execution_count": 10,
   "metadata": {},
   "outputs": [
    {
     "name": "stdout",
     "output_type": "stream",
     "text": [
      "str3.isupper(): False\n"
     ]
    }
   ],
   "source": [
    "# `isupper()` will return True if all cased characters in string are uppercase and there is\n",
    "# at least one cased character in S, False otherwise.\n",
    "print('str3.isupper():', str3.isupper())"
   ]
  },
  {
   "cell_type": "code",
   "execution_count": 11,
   "metadata": {},
   "outputs": [
    {
     "name": "stdout",
     "output_type": "stream",
     "text": [
      "str1.endswith('o'): True\n",
      "str3.endswith('o'): False\n"
     ]
    }
   ],
   "source": [
    "# Another method is `endswith()` which is essentially the same as a boolean check on `s[-1]`\n",
    "print('str1.endswith(\\'o\\'):', str1.endswith('o'))\n",
    "print('str3.endswith(\\'o\\'):', str3.endswith('o'))"
   ]
  },
  {
   "cell_type": "markdown",
   "metadata": {},
   "source": [
    "## Built-In RegExp"
   ]
  },
  {
   "cell_type": "markdown",
   "metadata": {},
   "source": [
    "- String built-in methods that can resemble regular expression operations\n",
    "- Sse `split()` to split the string at a certain element and return a list of the result\n",
    "- Use `partition()` to return a tuple that includes the separator (the first occurrence) and the first half and the end half"
   ]
  },
  {
   "cell_type": "code",
   "execution_count": 12,
   "metadata": {},
   "outputs": [
    {
     "name": "stdout",
     "output_type": "stream",
     "text": [
      "str3.split('e'): ['H', 'llo World! How Ar', ' You Doing Today?']\n",
      "str3.partition('l'): ('He', 'l', 'lo World! How Are You Doing Today?')\n"
     ]
    }
   ],
   "source": [
    "print(\"str3.split('e'):\", str3.split('e'))\n",
    "print(\"str3.partition('l'):\", str3.partition('l')) # Only applies at the first instance"
   ]
  }
 ],
 "metadata": {
  "kernelspec": {
   "display_name": "Python 3",
   "language": "python",
   "name": "python3"
  },
  "language_info": {
   "codemirror_mode": {
    "name": "ipython",
    "version": 3
   },
   "file_extension": ".py",
   "mimetype": "text/x-python",
   "name": "python",
   "nbconvert_exporter": "python",
   "pygments_lexer": "ipython3",
   "version": "3.7.6"
  },
  "toc": {
   "base_numbering": 1,
   "nav_menu": {},
   "number_sections": true,
   "sideBar": true,
   "skip_h1_title": true,
   "title_cell": "Table of Contents",
   "title_sidebar": "Contents",
   "toc_cell": true,
   "toc_position": {},
   "toc_section_display": true,
   "toc_window_display": true
  }
 },
 "nbformat": 4,
 "nbformat_minor": 4
}
