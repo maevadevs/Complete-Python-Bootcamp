{
 "cells": [
  {
   "cell_type": "markdown",
   "metadata": {
    "toc": true
   },
   "source": [
    "<h1>Table of Contents<span class=\"tocSkip\"></span></h1>\n",
    "<div class=\"toc\"><ul class=\"toc-item\"><li><span><a href=\"#set.add()\" data-toc-modified-id=\"set.add()-1\"><span class=\"toc-item-num\">1&nbsp;&nbsp;</span><code>set.add()</code></a></span></li><li><span><a href=\"#set.clear()\" data-toc-modified-id=\"set.clear()-2\"><span class=\"toc-item-num\">2&nbsp;&nbsp;</span><code>set.clear()</code></a></span></li><li><span><a href=\"#set.copy()\" data-toc-modified-id=\"set.copy()-3\"><span class=\"toc-item-num\">3&nbsp;&nbsp;</span><code>set.copy()</code></a></span></li><li><span><a href=\"#set.difference(set2)\" data-toc-modified-id=\"set.difference(set2)-4\"><span class=\"toc-item-num\">4&nbsp;&nbsp;</span><code>set.difference(set2)</code></a></span></li><li><span><a href=\"#set.difference_update(set2)\" data-toc-modified-id=\"set.difference_update(set2)-5\"><span class=\"toc-item-num\">5&nbsp;&nbsp;</span><code>set.difference_update(set2)</code></a></span></li><li><span><a href=\"#set.discard(el)\" data-toc-modified-id=\"set.discard(el)-6\"><span class=\"toc-item-num\">6&nbsp;&nbsp;</span><code>set.discard(el)</code></a></span></li><li><span><a href=\"#set.intersection()-and-set.intersection_update()\" data-toc-modified-id=\"set.intersection()-and-set.intersection_update()-7\"><span class=\"toc-item-num\">7&nbsp;&nbsp;</span><code>set.intersection()</code> and <code>set.intersection_update()</code></a></span></li><li><span><a href=\"#set.isdisjoint()\" data-toc-modified-id=\"set.isdisjoint()-8\"><span class=\"toc-item-num\">8&nbsp;&nbsp;</span><code>set.isdisjoint()</code></a></span></li><li><span><a href=\"#set.issubset()\" data-toc-modified-id=\"set.issubset()-9\"><span class=\"toc-item-num\">9&nbsp;&nbsp;</span><code>set.issubset()</code></a></span></li><li><span><a href=\"#set.issuperset()\" data-toc-modified-id=\"set.issuperset()-10\"><span class=\"toc-item-num\">10&nbsp;&nbsp;</span><code>set.issuperset()</code></a></span></li><li><span><a href=\"#set.symmetric_difference()-and-set.symmetric_update()\" data-toc-modified-id=\"set.symmetric_difference()-and-set.symmetric_update()-11\"><span class=\"toc-item-num\">11&nbsp;&nbsp;</span><code>set.symmetric_difference()</code> and <code>set.symmetric_update()</code></a></span></li><li><span><a href=\"#set.union()\" data-toc-modified-id=\"set.union()-12\"><span class=\"toc-item-num\">12&nbsp;&nbsp;</span><code>set.union()</code></a></span></li><li><span><a href=\"#set.update()\" data-toc-modified-id=\"set.update()-13\"><span class=\"toc-item-num\">13&nbsp;&nbsp;</span><code>set.update()</code></a></span></li></ul></div>"
   ]
  },
  {
   "cell_type": "markdown",
   "metadata": {},
   "source": [
    "# Advanced Sets"
   ]
  },
  {
   "cell_type": "code",
   "execution_count": 1,
   "metadata": {},
   "outputs": [],
   "source": [
    "mySet = set()"
   ]
  },
  {
   "cell_type": "markdown",
   "metadata": {},
   "source": [
    "## `set.add()`"
   ]
  },
  {
   "cell_type": "markdown",
   "metadata": {},
   "source": [
    "- Add elements to a set\n",
    "- A set won't take duplicate elements and only present them once"
   ]
  },
  {
   "cell_type": "code",
   "execution_count": 2,
   "metadata": {},
   "outputs": [
    {
     "name": "stdout",
     "output_type": "stream",
     "text": [
      "mySet: {1, 2}\n",
      "mySet.add(3): {1, 2, 3}\n",
      "mySet.add(1): {1, 2, 3}\n"
     ]
    }
   ],
   "source": [
    "mySet.add(1)\n",
    "mySet.add(2)\n",
    "print('mySet:', mySet)\n",
    "\n",
    "mySet.add(3)\n",
    "print('mySet.add(3):', mySet)\n",
    "\n",
    "\n",
    "mySet.add(1)\n",
    "print('mySet.add(1):', mySet)"
   ]
  },
  {
   "cell_type": "markdown",
   "metadata": {},
   "source": [
    "## `set.clear()`"
   ]
  },
  {
   "cell_type": "markdown",
   "metadata": {},
   "source": [
    "- Removes all elements from the set"
   ]
  },
  {
   "cell_type": "code",
   "execution_count": 3,
   "metadata": {},
   "outputs": [
    {
     "name": "stdout",
     "output_type": "stream",
     "text": [
      "mySet.clear(): set()\n"
     ]
    }
   ],
   "source": [
    "mySet.clear()\n",
    "print('mySet.clear():', mySet)"
   ]
  },
  {
   "cell_type": "markdown",
   "metadata": {},
   "source": [
    "## `set.copy()`"
   ]
  },
  {
   "cell_type": "markdown",
   "metadata": {},
   "source": [
    "- Returns a copy of the set\n",
    "- It is a copy by value, so changes to the original don't effect the copy"
   ]
  },
  {
   "cell_type": "code",
   "execution_count": 4,
   "metadata": {},
   "outputs": [
    {
     "name": "stdout",
     "output_type": "stream",
     "text": [
      "mySet: {1, 2, 3}\n",
      "mySetCopy: {1, 2, 3}\n",
      "mySet.add(4): {1, 2, 3, 4}\n",
      "mySetCopy: {1, 2, 3}\n"
     ]
    }
   ],
   "source": [
    "mySet = {1, 2, 3}\n",
    "mySetCopy = mySet.copy()\n",
    "print('mySet:', mySet)\n",
    "print('mySetCopy:', mySetCopy)\n",
    "\n",
    "mySet.add(4)\n",
    "print('mySet.add(4):', mySet)\n",
    "print('mySetCopy:', mySetCopy)"
   ]
  },
  {
   "cell_type": "markdown",
   "metadata": {},
   "source": [
    "## `set.difference(set2)`"
   ]
  },
  {
   "cell_type": "markdown",
   "metadata": {},
   "source": [
    "- Returns the difference of two or more sets"
   ]
  },
  {
   "cell_type": "code",
   "execution_count": 5,
   "metadata": {},
   "outputs": [
    {
     "name": "stdout",
     "output_type": "stream",
     "text": [
      "mySet.difference(mySetCopy): {4}\n"
     ]
    }
   ],
   "source": [
    "print('mySet.difference(mySetCopy):', mySet.difference(mySetCopy))"
   ]
  },
  {
   "cell_type": "markdown",
   "metadata": {},
   "source": [
    "## `set.difference_update(set2)`"
   ]
  },
  {
   "cell_type": "markdown",
   "metadata": {},
   "source": [
    "- The method changes `set` after removing elements found in `set2`\n",
    "- The left-hand operator gets changed. The right-hand is the value to substract"
   ]
  },
  {
   "cell_type": "code",
   "execution_count": 6,
   "metadata": {},
   "outputs": [
    {
     "name": "stdout",
     "output_type": "stream",
     "text": [
      "set1: {1, 2, 3}\n",
      "set2: {1, 4, 5}\n",
      "set1.difference_update(set2): None\n",
      "set1 after: {2, 3}\n",
      "set2 after: {1, 4, 5}\n"
     ]
    }
   ],
   "source": [
    "set1 = {1, 2, 3}\n",
    "set2 = {1, 4, 5}\n",
    "\n",
    "print('set1:', set1)\n",
    "print('set2:', set2)\n",
    "\n",
    "print('set1.difference_update(set2):', set1.difference_update(set2))\n",
    "\n",
    "print('set1 after:', set1)\n",
    "print('set2 after:', set2)"
   ]
  },
  {
   "cell_type": "markdown",
   "metadata": {},
   "source": [
    "## `set.discard(el)`"
   ]
  },
  {
   "cell_type": "markdown",
   "metadata": {},
   "source": [
    "- Removes an element from a set if it is a member\n",
    "- If the element is not a member, do nothing"
   ]
  },
  {
   "cell_type": "code",
   "execution_count": 7,
   "metadata": {},
   "outputs": [
    {
     "name": "stdout",
     "output_type": "stream",
     "text": [
      "mySet: {1, 2, 3, 4}\n",
      "mySet.discard(2): None\n",
      "mySet after: {1, 3, 4}\n"
     ]
    }
   ],
   "source": [
    "mySet = {1, 2, 3, 4}\n",
    "print('mySet:', mySet)\n",
    "print('mySet.discard(2):', mySet.discard(2))\n",
    "print('mySet after:', mySet)"
   ]
  },
  {
   "cell_type": "markdown",
   "metadata": {},
   "source": [
    "## `set.intersection()` and `set.intersection_update()`"
   ]
  },
  {
   "cell_type": "markdown",
   "metadata": {},
   "source": [
    "- Returns the intersection of two or more sets as a new set\n",
    "- i.e. elements that are common to all of the sets"
   ]
  },
  {
   "cell_type": "code",
   "execution_count": 8,
   "metadata": {},
   "outputs": [
    {
     "name": "stdout",
     "output_type": "stream",
     "text": [
      "s1: {1, 2, 3, 4}\n",
      "s2: {1, 2, 4, 5}\n",
      "s1.intersection(s2): {1, 2, 4}\n",
      "s1: {1, 2, 3, 4}\n"
     ]
    }
   ],
   "source": [
    "s1 = {1, 2, 3, 4}\n",
    "s2 = {1, 2, 4, 5}\n",
    "\n",
    "print('s1:', s1)\n",
    "print('s2:', s2)\n",
    "print('s1.intersection(s2):', s1.intersection(s2))\n",
    "print('s1:', s1)"
   ]
  },
  {
   "cell_type": "markdown",
   "metadata": {},
   "source": [
    "- `intersection_update()` will update a set with the intersection of itself and another"
   ]
  },
  {
   "cell_type": "code",
   "execution_count": 9,
   "metadata": {},
   "outputs": [
    {
     "name": "stdout",
     "output_type": "stream",
     "text": [
      "s1.intersection_update(s2): None\n",
      "s1: {1, 2, 4}\n",
      "s2: {1, 2, 4, 5}\n"
     ]
    }
   ],
   "source": [
    "print('s1.intersection_update(s2):', s1.intersection_update(s2))\n",
    "print('s1:', s1)\n",
    "print('s2:', s2)"
   ]
  },
  {
   "cell_type": "markdown",
   "metadata": {},
   "source": [
    "## `set.isdisjoint()`"
   ]
  },
  {
   "cell_type": "markdown",
   "metadata": {},
   "source": [
    "- Return True if two sets have a null intersection"
   ]
  },
  {
   "cell_type": "code",
   "execution_count": 10,
   "metadata": {},
   "outputs": [
    {
     "name": "stdout",
     "output_type": "stream",
     "text": [
      "s1: {1, 2}\n",
      "s2: {1, 2, 4}\n",
      "s3: {5}\n",
      "s1.isdisjoint(s2): False\n",
      "s1.isdisjoint(s3): True\n"
     ]
    }
   ],
   "source": [
    "s1 = {1, 2}\n",
    "s2 = {1, 2, 4}\n",
    "s3 = {5}\n",
    "\n",
    "print('s1:', s1)\n",
    "print('s2:', s2)\n",
    "print('s3:', s3)\n",
    "print('s1.isdisjoint(s2):', s1.isdisjoint(s2))\n",
    "print('s1.isdisjoint(s3):', s1.isdisjoint(s3))"
   ]
  },
  {
   "cell_type": "markdown",
   "metadata": {},
   "source": [
    "## `set.issubset()`"
   ]
  },
  {
   "cell_type": "markdown",
   "metadata": {},
   "source": [
    "- Reports whether another set contains this set"
   ]
  },
  {
   "cell_type": "code",
   "execution_count": 11,
   "metadata": {},
   "outputs": [
    {
     "name": "stdout",
     "output_type": "stream",
     "text": [
      "s1: {1, 2}\n",
      "s2: {1, 2, 4}\n",
      "s1.issubset(s2): True\n"
     ]
    }
   ],
   "source": [
    "print('s1:', s1)\n",
    "print('s2:', s2)\n",
    "print('s1.issubset(s2):', s1.issubset(s2))"
   ]
  },
  {
   "cell_type": "markdown",
   "metadata": {},
   "source": [
    "## `set.issuperset()`"
   ]
  },
  {
   "cell_type": "markdown",
   "metadata": {},
   "source": [
    "- Report whether this set contains another set"
   ]
  },
  {
   "cell_type": "code",
   "execution_count": 12,
   "metadata": {},
   "outputs": [
    {
     "name": "stdout",
     "output_type": "stream",
     "text": [
      "s2.issuperset(s1): True\n"
     ]
    }
   ],
   "source": [
    "print('s2.issuperset(s1):', s2.issuperset(s1))"
   ]
  },
  {
   "cell_type": "markdown",
   "metadata": {},
   "source": [
    "## `set.symmetric_difference()` and `set.symmetric_update()`"
   ]
  },
  {
   "cell_type": "markdown",
   "metadata": {},
   "source": [
    "- Return the symmetric difference of two sets as a new set\n",
    "- i.e. all elements that are in exactly one of the sets"
   ]
  },
  {
   "cell_type": "code",
   "execution_count": 13,
   "metadata": {},
   "outputs": [
    {
     "name": "stdout",
     "output_type": "stream",
     "text": [
      "s1: {1, 2}\n",
      "s2: {1, 2, 4}\n",
      "s1.symmetric_difference(s2): {4}\n",
      "s1: {1, 2}\n",
      "s2: {1, 2, 4}\n",
      "s1.symmetric_difference_update(s2): None\n",
      "s1: {4}\n",
      "s2: {1, 2, 4}\n"
     ]
    }
   ],
   "source": [
    "print('s1:', s1)\n",
    "print('s2:', s2)\n",
    "print('s1.symmetric_difference(s2):', s1.symmetric_difference(s2))\n",
    "print('s1:', s1)\n",
    "print('s2:', s2)\n",
    "print('s1.symmetric_difference_update(s2):', s1.symmetric_difference_update(s2))\n",
    "print('s1:', s1)\n",
    "print('s2:', s2)"
   ]
  },
  {
   "cell_type": "markdown",
   "metadata": {},
   "source": [
    "## `set.union()`"
   ]
  },
  {
   "cell_type": "markdown",
   "metadata": {},
   "source": [
    "- Returns the union of two sets\n",
    "- i.e. all elements that are in either set"
   ]
  },
  {
   "cell_type": "code",
   "execution_count": 14,
   "metadata": {},
   "outputs": [
    {
     "name": "stdout",
     "output_type": "stream",
     "text": [
      "s1: {1, 2, 5}\n",
      "s2: {1, 2, 4}\n",
      "s1.union(s2): {1, 2, 4, 5}\n"
     ]
    }
   ],
   "source": [
    "s1 = {1, 2, 5}\n",
    "s2 = {1, 2, 4}\n",
    "print('s1:', s1)\n",
    "print('s2:', s2)\n",
    "print('s1.union(s2):', s1.union(s2))"
   ]
  },
  {
   "cell_type": "markdown",
   "metadata": {},
   "source": [
    "## `set.update()`"
   ]
  },
  {
   "cell_type": "markdown",
   "metadata": {},
   "source": [
    "- Update a set with the union of itself and others"
   ]
  },
  {
   "cell_type": "code",
   "execution_count": 15,
   "metadata": {},
   "outputs": [
    {
     "name": "stdout",
     "output_type": "stream",
     "text": [
      "s1: {1, 2, 5}\n",
      "s2: {1, 2, 4}\n",
      "s1.update(s2): None\n",
      "s1: {1, 2, 4, 5}\n"
     ]
    }
   ],
   "source": [
    "s1 = {1, 2, 5}\n",
    "s2 = {1, 2, 4}\n",
    "print('s1:', s1)\n",
    "print('s2:', s2)\n",
    "print('s1.update(s2):', s1.update(s2))\n",
    "print('s1:', s1)"
   ]
  }
 ],
 "metadata": {
  "kernelspec": {
   "display_name": "Python 3",
   "language": "python",
   "name": "python3"
  },
  "language_info": {
   "codemirror_mode": {
    "name": "ipython",
    "version": 3
   },
   "file_extension": ".py",
   "mimetype": "text/x-python",
   "name": "python",
   "nbconvert_exporter": "python",
   "pygments_lexer": "ipython3",
   "version": "3.7.6"
  },
  "toc": {
   "base_numbering": 1,
   "nav_menu": {},
   "number_sections": true,
   "sideBar": true,
   "skip_h1_title": true,
   "title_cell": "Table of Contents",
   "title_sidebar": "Contents",
   "toc_cell": true,
   "toc_position": {},
   "toc_section_display": true,
   "toc_window_display": true
  }
 },
 "nbformat": 4,
 "nbformat_minor": 4
}
