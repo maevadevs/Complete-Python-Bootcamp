{
 "cells": [
  {
   "cell_type": "markdown",
   "metadata": {
    "toc": true
   },
   "source": [
    "<h1>Table of Contents<span class=\"tocSkip\"></span></h1>\n",
    "<div class=\"toc\"><ul class=\"toc-item\"><li><span><a href=\"#Hexadecimal\" data-toc-modified-id=\"Hexadecimal-1\"><span class=\"toc-item-num\">1&nbsp;&nbsp;</span>Hexadecimal</a></span></li><li><span><a href=\"#Binary\" data-toc-modified-id=\"Binary-2\"><span class=\"toc-item-num\">2&nbsp;&nbsp;</span>Binary</a></span></li><li><span><a href=\"#pow()\" data-toc-modified-id=\"pow()-3\"><span class=\"toc-item-num\">3&nbsp;&nbsp;</span><code>pow()</code></a></span></li><li><span><a href=\"#abs()\" data-toc-modified-id=\"abs()-4\"><span class=\"toc-item-num\">4&nbsp;&nbsp;</span><code>abs()</code></a></span></li><li><span><a href=\"#round()\" data-toc-modified-id=\"round()-5\"><span class=\"toc-item-num\">5&nbsp;&nbsp;</span><code>round()</code></a></span></li></ul></div>"
   ]
  },
  {
   "cell_type": "markdown",
   "metadata": {},
   "source": [
    "# Advanced Numbers"
   ]
  },
  {
   "cell_type": "markdown",
   "metadata": {},
   "source": [
    "## Hexadecimal"
   ]
  },
  {
   "cell_type": "markdown",
   "metadata": {},
   "source": [
    "- Using the function `hex()` you can convert numbers into a hexadecimal format\n",
    "- Hex numbers can also be converted into different format"
   ]
  },
  {
   "cell_type": "code",
   "execution_count": 1,
   "metadata": {},
   "outputs": [
    {
     "name": "stdout",
     "output_type": "stream",
     "text": [
      "hex(246): 0xf6\n",
      "int(0xf6): 246\n"
     ]
    }
   ],
   "source": [
    "print('hex(246):', hex(246))\n",
    "print('int(0xf6):', int(0xf6))"
   ]
  },
  {
   "cell_type": "markdown",
   "metadata": {},
   "source": [
    "## Binary"
   ]
  },
  {
   "cell_type": "markdown",
   "metadata": {},
   "source": [
    "- Using the function `bin()` you can convert numbers into their binary format"
   ]
  },
  {
   "cell_type": "code",
   "execution_count": 2,
   "metadata": {},
   "outputs": [
    {
     "name": "stdout",
     "output_type": "stream",
     "text": [
      "bin(1234): 0b10011010010\n"
     ]
    }
   ],
   "source": [
    "print('bin(1234):', bin(1234))"
   ]
  },
  {
   "cell_type": "markdown",
   "metadata": {},
   "source": [
    "## `pow()`"
   ]
  },
  {
   "cell_type": "markdown",
   "metadata": {},
   "source": [
    "- With two arguments, equivalent to `x^y`\n",
    "- With three arguments, equivalent to `(x^y) % z`, but may be more efficient (e.g. for `longs`)"
   ]
  },
  {
   "cell_type": "code",
   "execution_count": 3,
   "metadata": {},
   "outputs": [
    {
     "name": "stdout",
     "output_type": "stream",
     "text": [
      "pow(2, 4): 16\n",
      "pow(2, 4, 2): 0\n"
     ]
    }
   ],
   "source": [
    "print('pow(2, 4):', pow(2, 4))\n",
    "print('pow(2, 4, 2):', pow(2, 4, 2))"
   ]
  },
  {
   "cell_type": "markdown",
   "metadata": {},
   "source": [
    "## `abs()`"
   ]
  },
  {
   "cell_type": "markdown",
   "metadata": {},
   "source": [
    "- Absolute value"
   ]
  },
  {
   "cell_type": "code",
   "execution_count": 4,
   "metadata": {},
   "outputs": [
    {
     "name": "stdout",
     "output_type": "stream",
     "text": [
      "abs(-3): 3\n",
      "abs(3): 3\n"
     ]
    }
   ],
   "source": [
    "print('abs(-3):', abs(-3))\n",
    "print('abs(3):', abs(3))"
   ]
  },
  {
   "cell_type": "markdown",
   "metadata": {},
   "source": [
    "## `round()`"
   ]
  },
  {
   "cell_type": "markdown",
   "metadata": {},
   "source": [
    "- Round a number to a given precision in decimal digits (default `0` digits)\n",
    "- This always returns a floating point number"
   ]
  },
  {
   "cell_type": "code",
   "execution_count": 5,
   "metadata": {},
   "outputs": [
    {
     "name": "stdout",
     "output_type": "stream",
     "text": [
      "round(3.1415926535): 3\n",
      "round(3.1415926535, 2): 3.14\n"
     ]
    }
   ],
   "source": [
    "print('round(3.1415926535):', round(3.1415926535))\n",
    "print('round(3.1415926535, 2):', round(3.1415926535, 2))"
   ]
  }
 ],
 "metadata": {
  "kernelspec": {
   "display_name": "Python 3",
   "language": "python",
   "name": "python3"
  },
  "language_info": {
   "codemirror_mode": {
    "name": "ipython",
    "version": 3
   },
   "file_extension": ".py",
   "mimetype": "text/x-python",
   "name": "python",
   "nbconvert_exporter": "python",
   "pygments_lexer": "ipython3",
   "version": "3.7.6"
  },
  "toc": {
   "base_numbering": 1,
   "nav_menu": {},
   "number_sections": true,
   "sideBar": true,
   "skip_h1_title": true,
   "title_cell": "Table of Contents",
   "title_sidebar": "Contents",
   "toc_cell": true,
   "toc_position": {},
   "toc_section_display": true,
   "toc_window_display": true
  }
 },
 "nbformat": 4,
 "nbformat_minor": 4
}
